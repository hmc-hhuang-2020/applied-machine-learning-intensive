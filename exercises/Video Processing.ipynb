{
 "cells": [
  {
   "cell_type": "markdown",
   "metadata": {
    "colab_type": "text",
    "id": "copyright"
   },
   "source": [
    "#### Copyright 2019 Google LLC."
   ]
  },
  {
   "cell_type": "code",
   "execution_count": 1,
   "metadata": {
    "colab": {},
    "colab_type": "code",
    "id": "khlO4Bu21oZ4"
   },
   "outputs": [],
   "source": [
    "# Licensed under the Apache License, Version 2.0 (the \"License\");\n",
    "# you may not use this file except in compliance with the License.\n",
    "# You may obtain a copy of the License at\n",
    "#\n",
    "# https://www.apache.org/licenses/LICENSE-2.0\n",
    "#\n",
    "# Unless required by applicable law or agreed to in writing, software\n",
    "# distributed under the License is distributed on an \"AS IS\" BASIS,\n",
    "# WITHOUT WARRANTIES OR CONDITIONS OF ANY KIND, either express or implied.\n",
    "# See the License for the specific language governing permissions and\n",
    "# limitations under the License."
   ]
  },
  {
   "cell_type": "markdown",
   "metadata": {
    "colab_type": "text",
    "id": "AlzIlBsScJJ_"
   },
   "source": [
    "# Video Processing"
   ]
  },
  {
   "cell_type": "markdown",
   "metadata": {
    "colab_type": "text",
    "id": "nTirVS4FWaPx"
   },
   "source": [
    "We will soon be working on a project that processes video and attempts to classify objects in that video. To prepare for the project we'll do a quick Colab that processes a video."
   ]
  },
  {
   "cell_type": "markdown",
   "metadata": {
    "colab_type": "text",
    "id": "7fz_1lEAXeW2"
   },
   "source": [
    "## Overview"
   ]
  },
  {
   "cell_type": "markdown",
   "metadata": {
    "colab_type": "text",
    "id": "lbXXnlHyXiKa"
   },
   "source": [
    "### Learning Objectives\n",
    "\n",
    "* Use OpenCV to process video"
   ]
  },
  {
   "cell_type": "markdown",
   "metadata": {
    "colab_type": "text",
    "id": "M62dLnxpX6Le"
   },
   "source": [
    "### Prerequisites\n",
    "\n",
    "* Intermediate Python"
   ]
  },
  {
   "cell_type": "markdown",
   "metadata": {
    "colab_type": "text",
    "id": "IrPi5LSZYIrw"
   },
   "source": [
    "### Estimated Duration\n",
    "\n",
    "30 minutes"
   ]
  },
  {
   "cell_type": "markdown",
   "metadata": {
    "colab_type": "text",
    "id": "pzCWjL4DYLgf"
   },
   "source": [
    "### Grading Criteria\n",
    "\n",
    "Each exercise is worth 3 points. The rubric for calculating those points is:\n",
    "\n",
    "| Points | Description |\n",
    "|--------|-------------|\n",
    "| 0      | No attempt at exercise |\n",
    "| 1      | Attempted exercise, but code does not run |\n",
    "| 2      | Attempted exercise, code runs, but produces incorrect answer |\n",
    "| 3      | Exercise completed successfully |\n",
    "\n",
    "There is 1 exercise in this Colab so there are 3 points available. The grading scale will be 3 points."
   ]
  },
  {
   "cell_type": "markdown",
   "metadata": {
    "colab_type": "text",
    "id": "QmPyT9q4fEyp"
   },
   "source": [
    "## Obtain a Video"
   ]
  },
  {
   "cell_type": "markdown",
   "metadata": {
    "colab_type": "text",
    "id": "PmhKfT5OfIET"
   },
   "source": [
    "Start by uploading the smallest version of [this video](https://pixabay.com/videos/cars-motorway-speed-motion-traffic-1900/) to the colab. Rename the video to \"cars.mp4\" or change the name of the video in the code below."
   ]
  },
  {
   "cell_type": "markdown",
   "metadata": {
    "colab_type": "text",
    "id": "K0Z3-prQMBph"
   },
   "source": [
    "## Reading Video\n",
    "\n",
    "OpenCV is an Open Source library for performing computer vision tasks. One of these tasks is reading and writing video frames. To read a video file we use the [VideoCapture](https://docs.opencv.org/2.4/modules/highgui/doc/reading_and_writing_images_and_video.html#videocapture) class."
   ]
  },
  {
   "cell_type": "code",
   "execution_count": 2,
   "metadata": {
    "colab": {},
    "colab_type": "code",
    "id": "xwwkoH0WMArG"
   },
   "outputs": [],
   "source": [
    "import cv2 as cv\n",
    "\n",
    "cars_video = cv.VideoCapture('cars.mp4')"
   ]
  },
  {
   "cell_type": "markdown",
   "metadata": {
    "colab_type": "text",
    "id": "jzxNrZmigdz5"
   },
   "source": [
    "Once you have created a `VideoCapture` object you can obtain information about the video that you are processing."
   ]
  },
  {
   "cell_type": "code",
   "execution_count": 3,
   "metadata": {
    "colab": {},
    "colab_type": "code",
    "id": "vHhBlRVFgiBu"
   },
   "outputs": [
    {
     "name": "stdout",
     "output_type": "stream",
     "text": [
      "height: 720\n",
      "width: 1280\n",
      "frames per second: 50.0\n",
      "total frames: 3000\n",
      "video length (seconds): 60.0\n"
     ]
    }
   ],
   "source": [
    "height = int(cars_video.get(cv.CAP_PROP_FRAME_HEIGHT))\n",
    "width = int(cars_video.get(cv.CAP_PROP_FRAME_WIDTH))\n",
    "fps = cars_video.get(cv.CAP_PROP_FPS)\n",
    "total_frames = int(cars_video.get(cv.CAP_PROP_FRAME_COUNT))\n",
    "\n",
    "print(f'height: {height}')\n",
    "print(f'width: {width}')\n",
    "print(f'frames per second: {fps}')\n",
    "print(f'total frames: {total_frames}')\n",
    "print(f'video length (seconds): {total_frames / fps}')"
   ]
  },
  {
   "cell_type": "markdown",
   "metadata": {
    "colab_type": "text",
    "id": "yUQ5ZW6OhHgM"
   },
   "source": [
    "Once you are done, it is a good idea to release the video to free up memory in your program."
   ]
  },
  {
   "cell_type": "code",
   "execution_count": 4,
   "metadata": {
    "colab": {},
    "colab_type": "code",
    "id": "o_Ubw7Wlgk52"
   },
   "outputs": [],
   "source": [
    "cars_video.release()"
   ]
  },
  {
   "cell_type": "markdown",
   "metadata": {
    "colab_type": "text",
    "id": "0pRQOHZ9nxIE"
   },
   "source": [
    "You can loop through the video frame-by-frame.\n",
    " \n",
    "To do this you need to know the total number of frames in the video. For each frame you set the current frame position and then read that frame. This causes the frame to be loaded from disk into memory. This is done because videos can be huge so you don't necessarily want the entire thing in memory.\n",
    " \n",
    "You might also notice that we read the frame from the cars video and then check the return value to make sure that the read was successful. This is because the underlying video processing library is written in the C++ program language. A common practice in that language is to return a status code indicating if a function succeed or not. This isn't a very idiomatic Python, it is just the underlying libraries style leaking through into the Python wrapper."
   ]
  },
  {
   "cell_type": "code",
   "execution_count": null,
   "metadata": {
    "colab": {},
    "colab_type": "code",
    "id": "c7j0yculnH4-"
   },
   "outputs": [],
   "source": [
    "cars_video = cv.VideoCapture('cars.mp4')\n",
    "\n",
    "total_frames = int(cars_video.get(cv.CAP_PROP_FRAME_COUNT))\n",
    "\n",
    "frames_read = 0\n",
    "\n",
    "for current_frame in range(0, total_frames):\n",
    "  cars_video.set(cv.CAP_PROP_POS_FRAMES, current_frame)\n",
    "  ret, _ = cars_video.read()\n",
    "  if not ret:\n",
    "    raise Exception(f'Problem reading frame {current_frame} from video')\n",
    "  if (current_frame+1) % 50 == 0:\n",
    "    print(f'Read {current_frame+1} frames so far')\n",
    "\n",
    "cars_video.release()\n",
    "\n",
    "print(f'Read {total_frames} frames')"
   ]
  },
  {
   "cell_type": "markdown",
   "metadata": {
    "colab_type": "text",
    "id": "2tNLbfYtn74T"
   },
   "source": [
    "That was pretty slow. The video is just over a minute long and it takes a while to iterate over every frame. Imagine the amount of time it would take to perform object recognition on each frame.\n",
    "\n",
    "In practice you'd be doing this processing on a much bigger machine (or machines) than Colab provides for free. You can also process many frames in parallel.\n",
    "\n",
    "We'll resort to a different tactic for this lab though. Let's just make the video shorter."
   ]
  },
  {
   "cell_type": "markdown",
   "metadata": {
    "colab_type": "text",
    "id": "47T_WTF0i_Fd"
   },
   "source": [
    "We'll load the video one more time and read out a single frame to illustrate that the frame is just an image."
   ]
  },
  {
   "cell_type": "code",
   "execution_count": null,
   "metadata": {
    "colab": {},
    "colab_type": "code",
    "id": "xT7_5wLWi6nW"
   },
   "outputs": [],
   "source": [
    "import matplotlib.pyplot as plt\n",
    "\n",
    "cars_video = cv.VideoCapture('cars.mp4')\n",
    "cars_video.set(cv.CAP_PROP_POS_FRAMES, 123)\n",
    "ret, frame = cars_video.read()\n",
    "if not ret:\n",
    "  raise Exception(f'Problem reading frame {current_frame} from video')\n",
    "\n",
    "cars_video.release()\n",
    "\n",
    "plt.imshow(frame)"
   ]
  },
  {
   "cell_type": "markdown",
   "metadata": {
    "colab_type": "text",
    "id": "muBJqjcCoiIi"
   },
   "source": [
    "## Writing Video\n",
    "\n",
    "OpenCV also supports writing video data. Let's loop through the long video that we have and only save one second of it into a new file."
   ]
  },
  {
   "cell_type": "markdown",
   "metadata": {
    "colab_type": "text",
    "id": "OZ_WjoBiknW_"
   },
   "source": [
    "First we need to open our input video and get information about the frame rate, height, and width."
   ]
  },
  {
   "cell_type": "code",
   "execution_count": null,
   "metadata": {
    "colab": {},
    "colab_type": "code",
    "id": "HAp-Xom7kuV6"
   },
   "outputs": [],
   "source": [
    "input_video = cv.VideoCapture('cars.mp4')\n",
    "\n",
    "height = int(input_video.get(cv.CAP_PROP_FRAME_HEIGHT))\n",
    "width = int(input_video.get(cv.CAP_PROP_FRAME_WIDTH))\n",
    "fps = input_video.get(cv.CAP_PROP_FPS)"
   ]
  },
  {
   "cell_type": "markdown",
   "metadata": {
    "colab_type": "text",
    "id": "xL7bq84AkwVR"
   },
   "source": [
    "Using that information we can then create a [VideoWriter](https://docs.opencv.org/2.4/modules/highgui/doc/reading_and_writing_images_and_video.html#videowriter) that we'll use to write the shorter video.\n",
    "\n",
    "Video can be encoded using many different formats. In order to tell OpenCV which format to use we choose a \"four character code\" from [fourcc](https://www.fourcc.org/). In this case we use \"mp4v\" to keep our input and output files consistent."
   ]
  },
  {
   "cell_type": "code",
   "execution_count": null,
   "metadata": {
    "colab": {},
    "colab_type": "code",
    "id": "6BrWL2cJovEU"
   },
   "outputs": [],
   "source": [
    "fourcc = cv.VideoWriter_fourcc(*'mp4v')\n",
    "output_video = cv.VideoWriter('cars-short.mp4', fourcc, fps, (width, height))"
   ]
  },
  {
   "cell_type": "markdown",
   "metadata": {
    "colab_type": "text",
    "id": "OXX9Nlq-miQC"
   },
   "source": [
    "---\n",
    " \n",
    ">  As an aside, what is that star doing in front of the 'mp4v' string?\n",
    " \n",
    ">  It is performing variable unpacking.\n",
    " \n",
    ">  Since a string is an iterable it unpacks each letter of the string into a separator argument.\n",
    " \n",
    " >  > *'mp4v' becomes 'm', 'p', '4', 'v'\n",
    " \n",
    "> You can pass either the separate characters or the starred-string to `VideoWriter_fourcc`.\n",
    " \n",
    "---\n"
   ]
  },
  {
   "cell_type": "markdown",
   "metadata": {
    "colab_type": "text",
    "id": "z87NtCMOnMnL"
   },
   "source": [
    "Now we can loop through the first one second of video frames and write each frame to our output video."
   ]
  },
  {
   "cell_type": "code",
   "execution_count": null,
   "metadata": {
    "colab": {},
    "colab_type": "code",
    "id": "Ns_6ESqXyWSS"
   },
   "outputs": [],
   "source": [
    "for i in range(0, int(fps)):\n",
    "  input_video.set(cv.CAP_PROP_POS_FRAMES, i)\n",
    "  ret, frame = input_video.read()\n",
    "  if not ret:\n",
    "    raise Exception(\"Problem reading frame\", i, \" from video\")\n",
    "  output_video.write(frame)"
   ]
  },
  {
   "cell_type": "markdown",
   "metadata": {
    "colab_type": "text",
    "id": "gN-eK_4knWWh"
   },
   "source": [
    "Once processing is complete, but sure to release the video objects."
   ]
  },
  {
   "cell_type": "code",
   "execution_count": null,
   "metadata": {
    "colab": {},
    "colab_type": "code",
    "id": "IblYT5rUnaQ4"
   },
   "outputs": [],
   "source": [
    "input_video.release()\n",
    "output_video.release()"
   ]
  },
  {
   "cell_type": "markdown",
   "metadata": {
    "colab_type": "text",
    "id": "vRrkuRxrydtn"
   },
   "source": [
    "And now we can list the directory to see if our new file was created."
   ]
  },
  {
   "cell_type": "code",
   "execution_count": null,
   "metadata": {
    "colab": {},
    "colab_type": "code",
    "id": "yABTY1HoPcpC"
   },
   "outputs": [],
   "source": [
    "import os\n",
    "\n",
    "os.listdir('./')"
   ]
  },
  {
   "cell_type": "markdown",
   "metadata": {
    "colab_type": "text",
    "id": "cJiP6TUxqMM4"
   },
   "source": [
    "You should now see a 'cars-short.mp4' file in your file browser in Colab. Download and view the video to make sure that it only lasts for a second."
   ]
  },
  {
   "cell_type": "markdown",
   "metadata": {
    "colab_type": "text",
    "id": "qc5FP_s2nqQg"
   },
   "source": [
    "Notice that we have only concerned ourselves with the visual portion of the video. Videos contain both visual and auditory elements. OpenCV is only concerned with computer vision, so it doesn't handle audio processing."
   ]
  },
  {
   "cell_type": "markdown",
   "metadata": {
    "colab_type": "text",
    "id": "YTVUYxPwcHhp"
   },
   "source": [
    "# Exercises"
   ]
  },
  {
   "cell_type": "markdown",
   "metadata": {
    "colab_type": "text",
    "id": "LdIOgOHP1ces"
   },
   "source": [
    "## Exercise 1"
   ]
  },
  {
   "cell_type": "markdown",
   "metadata": {
    "colab_type": "text",
    "id": "jhTEOK1ZmqN8"
   },
   "source": [
    "In the Colab above we shortened our video to 1-second be simply grabbing the first second of frames from the video file. Since not much typically changes from frame-to-frame within a second of video, a better video processing technique is to sample frames throughout the entire video and skip some frames. For example, it might be more beneficial to process every 10th frame or only process 1 of the frames in every second of video.\n",
    "\n",
    "In this exercise take the original cars video used in this colab and reduce it to a short 25-fps video by grabbing the first frame of every second of video. Save the video as 'cars-sampled.mp4'."
   ]
  },
  {
   "cell_type": "markdown",
   "metadata": {
    "colab_type": "text",
    "id": "7XM35vYWSbim"
   },
   "source": [
    "### Student Solution"
   ]
  },
  {
   "cell_type": "code",
   "execution_count": null,
   "metadata": {
    "colab": {},
    "colab_type": "code",
    "id": "ivTzfzQN5jDk"
   },
   "outputs": [],
   "source": [
    "# Your code goes here\n",
    "input_video = cv.VideoCapture('cars.mp4')\n",
    "\n",
    "height = int(input_video.get(cv.CAP_PROP_FRAME_HEIGHT))\n",
    "width = int(input_video.get(cv.CAP_PROP_FRAME_WIDTH))\n",
    "fps = input_video.get(cv.CAP_PROP_FPS)\n",
    "totalframe =  input_video.get(cv.CAP_PROP_FRAME_COUNT)\n",
    "\n",
    "fourcc = cv.VideoWriter_fourcc(*'mp4v')\n",
    "output_video = cv.VideoWriter('cars-sampled.mp4', fourcc, fps, (width, height))\n",
    "\n",
    "for i in range(0, int(totalframe),int(fps)):\n",
    "  input_video.set(cv.CAP_PROP_POS_FRAMES, i)\n",
    "  ret, frame = input_video.read()\n",
    "  if not ret:\n",
    "    raise Exception(\"Problem reading frame\", i, \" from video\")\n",
    "  output_video.write(frame)\n",
    "\n",
    "input_video.release()\n",
    "output_video.release()"
   ]
  },
  {
   "cell_type": "markdown",
   "metadata": {
    "colab_type": "text",
    "id": "vm95cSN4cWHH"
   },
   "source": [
    "##Exercise 2"
   ]
  },
  {
   "cell_type": "markdown",
   "metadata": {
    "colab_type": "text",
    "id": "X9Qx-TxBcVyB"
   },
   "source": [
    "Make a second copy of the video you made in the previous exercise. In this copy, the frames run in reverse, so everything appears to move backwards."
   ]
  },
  {
   "cell_type": "code",
   "execution_count": null,
   "metadata": {
    "colab": {},
    "colab_type": "code",
    "id": "_-JdWZpFcVdW"
   },
   "outputs": [],
   "source": [
    "# Your code goes here\n",
    "input_video = cv.VideoCapture('cars-sampled.mp4')\n",
    "\n",
    "height = int(input_video.get(cv.CAP_PROP_FRAME_HEIGHT))\n",
    "width = int(input_video.get(cv.CAP_PROP_FRAME_WIDTH))\n",
    "fps = input_video.get(cv.CAP_PROP_FPS)\n",
    "totalframe =  input_video.get(cv.CAP_PROP_FRAME_COUNT)\n",
    "\n",
    "fourcc = cv.VideoWriter_fourcc(*'mp4v')\n",
    "output_video = cv.VideoWriter('cars-sampled-reverse.mp4', fourcc, fps, (width, height))\n",
    "\n",
    "for i in range(int(totalframe)-1,-1,-1):\n",
    "  input_video.set(cv.CAP_PROP_POS_FRAMES, i)\n",
    "  ret, frame = input_video.read()\n",
    "  if not ret:\n",
    "    raise Exception(\"Problem reading frame\", i, \" from video\")\n",
    "  output_video.write(frame)\n",
    "\n",
    "input_video.release()\n",
    "output_video.release()"
   ]
  },
  {
   "cell_type": "markdown",
   "metadata": {
    "colab_type": "text",
    "id": "cBChfe91UdGj"
   },
   "source": [
    "##Exercise 3"
   ]
  },
  {
   "cell_type": "markdown",
   "metadata": {
    "colab_type": "text",
    "id": "_eLF9RSxUgSg"
   },
   "source": [
    "Make a third copy of the video you made in the first exercise. In this copy, manipulate each frame to remove the colors and create a \"black and white\" (greyscale) video."
   ]
  },
  {
   "cell_type": "code",
   "execution_count": null,
   "metadata": {
    "colab": {},
    "colab_type": "code",
    "id": "ZWDGmotoUcS4"
   },
   "outputs": [],
   "source": [
    "# Your code goes here\n",
    "input_video = cv.VideoCapture('cars-sampled.mp4')\n",
    "\n",
    "height = int(input_video.get(cv.CAP_PROP_FRAME_HEIGHT))\n",
    "width = int(input_video.get(cv.CAP_PROP_FRAME_WIDTH))\n",
    "fps = input_video.get(cv.CAP_PROP_FPS)\n",
    "totalframe =  input_video.get(cv.CAP_PROP_FRAME_COUNT)\n",
    "\n",
    "fourcc = cv.VideoWriter_fourcc(*'mp4v')\n",
    "output_video = cv.VideoWriter('cars-sampled-greyscale.mp4', fourcc, fps, (width, height),isColor = False)\n",
    "\n",
    "for i in range(0, int(totalframe)):\n",
    "  input_video.set(cv.CAP_PROP_POS_FRAMES, i)\n",
    "  ret, frame = input_video.read()\n",
    "  grayframe = cv.cvtColor(frame,cv.COLOR_BGR2GRAY)\n",
    "  if not ret:\n",
    "    raise Exception(\"Problem reading frame\", i, \" from video\")\n",
    "  output_video.write(grayframe)\n",
    "\n",
    "input_video.release()\n",
    "output_video.release()"
   ]
  }
 ],
 "metadata": {
  "colab": {
   "collapsed_sections": [
    "copyright"
   ],
   "name": "Huize Huang - T04-03 [SC] Video Processing [Colab][Scripps]",
   "private_outputs": true,
   "provenance": [],
   "toc_visible": true,
   "version": "0.3.2"
  },
  "kernelspec": {
   "display_name": "Python 3",
   "language": "python",
   "name": "python3"
  },
  "language_info": {
   "codemirror_mode": {
    "name": "ipython",
    "version": 3
   },
   "file_extension": ".py",
   "mimetype": "text/x-python",
   "name": "python",
   "nbconvert_exporter": "python",
   "pygments_lexer": "ipython3",
   "version": "3.6.8"
  }
 },
 "nbformat": 4,
 "nbformat_minor": 1
}
