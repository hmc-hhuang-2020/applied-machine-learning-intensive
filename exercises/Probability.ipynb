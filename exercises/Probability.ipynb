{
 "cells": [
  {
   "cell_type": "markdown",
   "metadata": {
    "colab_type": "text",
    "id": "copyright"
   },
   "source": [
    "#### Copyright 2019 Google LLC."
   ]
  },
  {
   "cell_type": "code",
   "execution_count": 1,
   "metadata": {
    "colab": {},
    "colab_type": "code",
    "id": "7PLP9Q30PKtv"
   },
   "outputs": [],
   "source": [
    "# Licensed under the Apache License, Version 2.0 (the \"License\");\n",
    "# you may not use this file except in compliance with the License.\n",
    "# You may obtain a copy of the License at\n",
    "#\n",
    "# https://www.apache.org/licenses/LICENSE-2.0\n",
    "#\n",
    "# Unless required by applicable law or agreed to in writing, software\n",
    "# distributed under the License is distributed on an \"AS IS\" BASIS,\n",
    "# WITHOUT WARRANTIES OR CONDITIONS OF ANY KIND, either express or implied.\n",
    "# See the License for the specific language governing permissions and\n",
    "# limitations under the License."
   ]
  },
  {
   "cell_type": "markdown",
   "metadata": {
    "colab_type": "text",
    "id": "evBbn0N5ec2H"
   },
   "source": [
    "# Probability"
   ]
  },
  {
   "cell_type": "markdown",
   "metadata": {
    "colab_type": "text",
    "id": "f5W9rkuBmBu9"
   },
   "source": [
    "Probabilistic functions are responsible for many algorithms used in both traditional programming, and machine learning applications.  This module discusses the differences between Frequentist and Bayesian approaches, and why probability is not always what it seems.\n",
    "\n",
    "- Basic Probability\n",
    "- Conditional Probability\n",
    "- Frequentist vs. Bayesian\n",
    "- Bayes' Theorem\n",
    "- Monty Hall Problem\n",
    "- Estimation\n"
   ]
  },
  {
   "cell_type": "markdown",
   "metadata": {
    "colab_type": "text",
    "id": "vSwFn8YlaDL2"
   },
   "source": [
    "## Overview"
   ]
  },
  {
   "cell_type": "markdown",
   "metadata": {
    "colab_type": "text",
    "id": "xHVHPJhSaEEM"
   },
   "source": [
    "### Learning Objectives\n",
    "\n",
    " * Understand what probability is, and how to use it as a Data Scientist.\n",
    " * How to design an experiment around independence.\n",
    " * Be able to code up simple experiments using ```random``` and ```scipy```\n",
    " * How do frequentists' measure of probability differ from Bayesians?\n",
    " * Know how to solve the cookie problem using Bayes' Rule or Theorem.\n",
    " * Apply Bayesian Statistics to solve the Monty Hall Problem.\n",
    " * Estimate the probability of a certain outcome of an experiment."
   ]
  },
  {
   "cell_type": "markdown",
   "metadata": {
    "colab_type": "text",
    "id": "gGrUipVEawYy"
   },
   "source": [
    "### Prerequisites\n",
    "\n",
    "* Intermediate Python\n",
    "* Pandas\n",
    "* Visualizations"
   ]
  },
  {
   "cell_type": "markdown",
   "metadata": {
    "colab_type": "text",
    "id": "0bExBYnwa7i2"
   },
   "source": [
    "### Estimated Duration\n",
    "\n",
    "90 minutes"
   ]
  },
  {
   "cell_type": "markdown",
   "metadata": {
    "colab_type": "text",
    "id": "nRNG-gImKwQL"
   },
   "source": [
    "### Load Packages"
   ]
  },
  {
   "cell_type": "code",
   "execution_count": 2,
   "metadata": {
    "colab": {},
    "colab_type": "code",
    "id": "SfuP5J47Kyfm"
   },
   "outputs": [],
   "source": [
    "%matplotlib inline\n",
    "\n",
    "import random\n",
    "import pandas as pd\n",
    "import seaborn as sns\n",
    "import matplotlib.pyplot as plt\n",
    "import numpy as np"
   ]
  },
  {
   "cell_type": "markdown",
   "metadata": {
    "colab_type": "text",
    "id": "G8u2lYRWbE37"
   },
   "source": [
    "## Basic Probability\n",
    "\n",
    "If probability is just a number between 0 and 1, what are the odds of getting heads when you flip a coin?  Most would say 50%, and that is just an estimate for an experiment in which you flip exactly one coin.\n",
    "\n",
    "$P(Heads)=1/2$\n",
    "\n",
    "In the case of a coin flip, the probability of the event heads is 50%.  We could then estimate that if we flip a coin 1000 times, we will get 500 heads. Most of the time we will not get 500, but the results of the coin flip experiment show that we come pretty close. Perhaps this deviation from our estimate could be due to some bias, or simply random noise.  We can however expect that most of the time our experiment will yield a fairly even split.\n",
    "\n",
    "\n"
   ]
  },
  {
   "cell_type": "markdown",
   "metadata": {
    "colab_type": "text",
    "id": "bSrLugIxrI1I"
   },
   "source": [
    "## Independence and Dependence\n",
    "\n",
    "Two or more events can either be independent of, or dependent on one or more prior events. When thinking like a data scientist, it is important to take note of the sequence of events, especially when designing an experiment.  Assuming that two events are independent is a convenience that is used in statistics so we can test our hypotheses.  However, if there is significant evidence that two events are not independent, then it is imperative to determine their order of dependence, as well as their conditional independence. Some events happen in their own chronological order, while others happen as a result of some other trigger.  \n",
    "\n",
    "\n",
    "\n"
   ]
  },
  {
   "cell_type": "markdown",
   "metadata": {
    "colab_type": "text",
    "id": "kTk_mMUZ9SPU"
   },
   "source": [
    "## Conditional Probability \n",
    "\n",
    "When thinking about conditional probability, it is important to consider independence versus dependence.  Say you had a bag of marbles with 5 red and 5 blue.  To prove that conditional probability works, you can experiment by drawing marbles with and without replacement.\n",
    "\n",
    "### Marbles with replacement\n",
    "First experiment with independent events by using replacement. That is,in each situation below a marble is drawn, put back in the bag, and a second marble is then drawn. What is the probability that you: \n",
    "\n",
    "1. Draw either a blue or red?\n",
    "2. Draw a red followed by a blue?\n",
    "3. Draw two blues in a row?\n",
    "\n",
    "The answers are:"
   ]
  },
  {
   "cell_type": "markdown",
   "metadata": {
    "colab_type": "text",
    "id": "IghIc4XhOtMa"
   },
   "source": [
    "1. $P(Blue) = P(Red) =1/2$\n",
    "\n",
    "2. $P(Blue \\cap  Red) = P(Red) * P(Blue) = 1/4$\n",
    "\n",
    "3. $P(Blue \\cap Blue) = P(Blue) * P(Blue) = 1/4$"
   ]
  },
  {
   "cell_type": "markdown",
   "metadata": {
    "colab_type": "text",
    "id": "SgExTt51IQia"
   },
   "source": [
    "We can simulate the act of drawing a single marble as follows: "
   ]
  },
  {
   "cell_type": "code",
   "execution_count": 3,
   "metadata": {
    "colab": {},
    "colab_type": "code",
    "id": "rgxyK0PDBgaY"
   },
   "outputs": [
    {
     "data": {
      "text/plain": [
       "'Red'"
      ]
     },
     "execution_count": 3,
     "metadata": {},
     "output_type": "execute_result"
    }
   ],
   "source": [
    "BagA=5*['Red']+5*['Blue']\n",
    "np.random.choice(BagA)"
   ]
  },
  {
   "cell_type": "markdown",
   "metadata": {
    "colab_type": "text",
    "id": "Wgh4FEfyIrgA"
   },
   "source": [
    "The act of drawing two marbles, with replacement, is done by:"
   ]
  },
  {
   "cell_type": "code",
   "execution_count": 4,
   "metadata": {
    "colab": {},
    "colab_type": "code",
    "id": "H3p9OnjyI-oN"
   },
   "outputs": [
    {
     "data": {
      "text/plain": [
       "array(['Blue', 'Blue'], dtype='<U4')"
      ]
     },
     "execution_count": 4,
     "metadata": {},
     "output_type": "execute_result"
    }
   ],
   "source": [
    "np.random.choice(BagA,2,replace=True)"
   ]
  },
  {
   "cell_type": "markdown",
   "metadata": {
    "colab_type": "text",
    "id": "SJAlnH24VfXZ"
   },
   "source": [
    "### Marbles without replacement\n",
    "\n",
    "The probability of drawing a blue marble, given that you've already drawn a red marble is as follows:\n",
    "$P(Blue \\mid Red) = 5/(10-1) = 5/9$\n",
    "\n",
    "Since we have already seen that the probability of having initially drawn the red marble was $1/2$. Hence, the proability of choosing red-then-blue with no replacement is calculated as \n",
    "\n",
    "$P(Red \\cap Blue)=1/2 \\cdot 5/9 =5/18$\n",
    "\n",
    "Similarly, the probability of drawing a red marble, given that you've already drawn a red marble is as follows:\n",
    "$P(Red \\mid Red) = 4/(10-1) = 4/9$\n",
    "\n",
    "Hence, \n",
    "$P(Red \\cap Red)=1/2 \\cdot 4/9 =2/9$\n",
    "\n",
    "We can summarize this as follows. The probability of two **dependent** events, $A$ and $B$, happening is \n",
    "\n",
    "$P(A \\cap B) = P(A) * P(B \\mid A)$\n"
   ]
  },
  {
   "cell_type": "markdown",
   "metadata": {
    "colab_type": "text",
    "id": "9bapwglPJ3XX"
   },
   "source": [
    "The act of drawing two marbles, without replacement, is simulated by:"
   ]
  },
  {
   "cell_type": "code",
   "execution_count": 5,
   "metadata": {
    "colab": {},
    "colab_type": "code",
    "id": "kw9yv2ckKFSv"
   },
   "outputs": [
    {
     "data": {
      "text/plain": [
       "array(['Blue', 'Blue'], dtype='<U4')"
      ]
     },
     "execution_count": 5,
     "metadata": {},
     "output_type": "execute_result"
    }
   ],
   "source": [
    "np.random.choice(BagA,2,replace=False)"
   ]
  },
  {
   "cell_type": "markdown",
   "metadata": {
    "colab_type": "text",
    "id": "W_bBJJKuKPh3"
   },
   "source": [
    "We can now check that $P(Red \\cap Red)=2/9=0.222...$ by simulating 10000 runs:"
   ]
  },
  {
   "cell_type": "code",
   "execution_count": 6,
   "metadata": {
    "colab": {},
    "colab_type": "code",
    "id": "yPBnNIDbKj4d"
   },
   "outputs": [
    {
     "data": {
      "text/plain": [
       "0.22"
      ]
     },
     "execution_count": 6,
     "metadata": {},
     "output_type": "execute_result"
    }
   ],
   "source": [
    "sum([1 for i in range(10000) if ['Red','Red']==list(np.random.choice(BagA,2,replace=False))])/10000\n"
   ]
  },
  {
   "cell_type": "markdown",
   "metadata": {
    "colab_type": "text",
    "id": "vWl31RguWk-n"
   },
   "source": [
    "## Bayes' Theorem\n",
    "\n",
    "Say the probability of A given B is unknown, but the probability of B given A is known. Then $P(A|B)$ can be calculated by multiplying the probability of A by the probability of B given A and dividing the result by the probability of B.\n",
    "\n",
    "$P(A|B) =\\frac{P(A)P(B|A)}{P(B)}$\n",
    "\n",
    "This is because the numerator, $P(A)P(B|A)$, is just the probablity of both events $A$ and $B$ happening. This is the same as the probability of both events happening in the opposite order, $P(B)P(A|B)$. Setting these two expressions equal to each other gives the equation\n",
    "$$P(A)P(B|A)=P(B)P(A|B)$$\n",
    "Solving for $P(A|B)$ then gives us Bayes' Theorem. \n"
   ]
  },
  {
   "cell_type": "markdown",
   "metadata": {
    "colab_type": "text",
    "id": "gEtpcqMaL76X"
   },
   "source": [
    "As an illustration, suppose now we have a second bag of marbles, Bag B, with three Red and seven Blue. We simulate the act of choosing a bag, and then choosing a marble from that bag, as follows:"
   ]
  },
  {
   "cell_type": "code",
   "execution_count": 7,
   "metadata": {
    "colab": {},
    "colab_type": "code",
    "id": "KmDhKqeQMZh7"
   },
   "outputs": [
    {
     "data": {
      "text/plain": [
       "'Red'"
      ]
     },
     "execution_count": 7,
     "metadata": {},
     "output_type": "execute_result"
    }
   ],
   "source": [
    "BagA=5*['Red']+5*['Blue']\n",
    "BagB=3*['Red']+7*['Blue']\n",
    "Bags={0:BagA,1:BagB}\n",
    "\n",
    "def choose_bag():\n",
    "  Bag_choice=np.random.choice([0,1])\n",
    "  return Bags[Bag_choice]\n",
    "\n",
    "def choose_marble(bag):\n",
    "  return np.random.choice(bag)\n",
    "\n",
    "# choose_bag()\n",
    "choose_marble(choose_bag())"
   ]
  },
  {
   "cell_type": "markdown",
   "metadata": {
    "colab_type": "text",
    "id": "XJGr6fXOOLDA"
   },
   "source": [
    "Run this code. Then use Bayes' Theorem to give the probability that the chosen marble came from Bag A. Finally, write code to simulate running this experiment 10000 times, to see if the probability you guessed is reasonable."
   ]
  },
  {
   "cell_type": "code",
   "execution_count": 8,
   "metadata": {
    "colab": {},
    "colab_type": "code",
    "id": "5desQr5YPEuT"
   },
   "outputs": [
    {
     "data": {
      "text/plain": [
       "0.5"
      ]
     },
     "execution_count": 8,
     "metadata": {},
     "output_type": "execute_result"
    }
   ],
   "source": [
    "#Your code here\n",
    "sum([1 for i in range(10000) if 0 == np.random.choice([0,1])])/10000\n"
   ]
  },
  {
   "cell_type": "markdown",
   "metadata": {
    "colab_type": "text",
    "id": "wWbAOwJLT0kJ"
   },
   "source": [
    "## Frequentist vs. Bayesian\n",
    "\n",
    "Not all probability was created equal.  Depending on your perspective, and the context in which you are modeling something, probability estimates can differ. Frequentists say that if an experiment were repeated over many trials, the probability of say a coin flip, would be 50%. Bayesians are actually looking at a different context.  For instance, a Bayesian sets up a 100 flip experiment, and wants to estimate the probability of getting at least 50 heads.\n",
    "\n",
    "To solve this we can look at a [Probability Density Function](https://en.wikipedia.org/wiki/Probability_density_function).  Knowing that the *σ* is equal to the standard deviation for a normal distribution, we can see from the 3rd plot that there is a 68.27% chance of flipping 50 heads +- 1σ which is equivalent to a range of approximately 45 to 55 heads\n",
    "\n",
    "<a title=\"Jhguch at en.wikipedia [CC BY-SA 2.5 (https://creativecommons.org/licenses/by-sa/2.5)], via Wikimedia Commons\" href=\"https://commons.wikimedia.org/wiki/File:Boxplot_vs_PDF.svg\"><img width=\"364\" alt=\"Boxplot vs PDF\" src=\"https://upload.wikimedia.org/wikipedia/commons/thumb/1/1a/Boxplot_vs_PDF.svg/512px-Boxplot_vs_PDF.svg.png\"></a>\n"
   ]
  },
  {
   "cell_type": "code",
   "execution_count": 9,
   "metadata": {
    "cellView": "both",
    "colab": {},
    "colab_type": "code",
    "id": "qg2JwMRQA2xz"
   },
   "outputs": [
    {
     "name": "stdout",
     "output_type": "stream",
     "text": [
      "Standard Deviation: 4.003374796343705\n"
     ]
    },
    {
     "data": {
      "image/png": "[encoded data removed]",
      "text/plain": [
       "<Figure size 432x288 with 1 Axes>"
      ]
     },
     "metadata": {
      "needs_background": "light"
     },
     "output_type": "display_data"
    }
   ],
   "source": [
    "#@title #### Change the parameters to make the standard deviation lower than 4\n",
    "\n",
    "n=100 #@param {type:\"integer\"} number of flips\n",
    "p=0.8 #@param {type:\"number\"} probability of heads\n",
    "size=10000 #@param {type:\"number\"} number of experiments\n",
    "b = np.random.binomial(n=n, p=p, size=size)\n",
    "\n",
    "sns.distplot(b)\n",
    "print(\"Standard Deviation:\",np.std(b))\n",
    "plt.show()"
   ]
  },
  {
   "cell_type": "markdown",
   "metadata": {
    "colab_type": "text",
    "id": "x1fBUSKX--5U"
   },
   "source": [
    "#### How to interpret probability as a frequency distribution\n",
    "\n",
    "If we conducted a 100 flip experiment 10000 times, we would expect to see 50 heads about 800 times, so the likelihood of seeing exactly 50 heads is about 8%"
   ]
  },
  {
   "cell_type": "markdown",
   "metadata": {
    "colab_type": "text",
    "id": "uTma3gXrWvzV"
   },
   "source": [
    "## Estimation\n",
    "\n",
    "If we have a biased coin, how could we estimate the probability of getting, say, k heads?\n",
    "\n",
    "The Probability Mass Function (PMF) allows us to calculate the probability of a distinct set of outcomes for an experiment with a predetermined number of trials. For example, we can use the PMF to estimate the probability of getting *k heads* over *n tosses*, given that P(heads) = p, i.e., the probability of heads is p.\n",
    "\n",
    "\n",
    "The function states that the probability of having an outcome exactly equal to k given that the probability of that event is p and the number of trials is n is equal to: the combination of n,k multiplied by p to the kth power, where p is the known probability, multiplied by 1 minus p to the n minus kth power.\n",
    "\n",
    "$P(k | p,n) = \\binom{n}{k} (p)^{k}(1-p)^{n-k}$\n"
   ]
  },
  {
   "cell_type": "markdown",
   "metadata": {
    "colab_type": "text",
    "id": "5WFLU7hWbO8_"
   },
   "source": [
    "## Resources\n",
    "\n",
    " <a href=\"http://www.greenteapress.com/thinkstats/\"><img height=\"150px\" src=\"http://www.greenteapress.com/thinkstats/think_stats_comp.png\" align=\"left\" hspace=\"100px\" vspace=\"10px\">\n",
    "<a/>\n",
    " \n",
    "\n",
    "\n",
    " <a href=\"https://greenteapress.com/wp/think-bayes/\"><img height=\"150px\" src=\"http://www.greenteapress.com/thinkbayes/think_bayes_cover_medium.png\" align=\"left\" hspace=\"100px\" vspace=\"10px\">\n",
    "<a/>\n",
    "\n",
    "\n"
   ]
  },
  {
   "cell_type": "markdown",
   "metadata": {
    "colab_type": "text",
    "id": "Swt2fxm-fG_B"
   },
   "source": [
    "# Exercises"
   ]
  },
  {
   "cell_type": "markdown",
   "metadata": {
    "colab_type": "text",
    "id": "iWq38ASlb2aY"
   },
   "source": [
    "## Exercise 1"
   ]
  },
  {
   "cell_type": "markdown",
   "metadata": {
    "colab_type": "text",
    "id": "08TkYi1Yobq9"
   },
   "source": [
    "Create a function that executes a coin flip experiment (e.g., flips a hundred coins, 1000 times),  and a second that visualizes the results (how many times n heads occurred)with a barplot.\n",
    "\n",
    "\n",
    "\n"
   ]
  },
  {
   "cell_type": "markdown",
   "metadata": {
    "colab_type": "text",
    "id": "eKS_GsFa-5Q_"
   },
   "source": [
    "### Student Solution"
   ]
  },
  {
   "cell_type": "code",
   "execution_count": 10,
   "metadata": {
    "colab": {},
    "colab_type": "code",
    "id": "jkam75BLTBrm"
   },
   "outputs": [
    {
     "data": {
      "text/plain": [
       "<matplotlib.axes._subplots.AxesSubplot at 0x1182a8320>"
      ]
     },
     "execution_count": 10,
     "metadata": {},
     "output_type": "execute_result"
    },
    {
     "data": {
      "image/png": "[encoded data removed]",
      "text/plain": [
       "<Figure size 432x288 with 1 Axes>"
      ]
     },
     "metadata": {
      "needs_background": "light"
     },
     "output_type": "display_data"
    }
   ],
   "source": [
    "b = np.random.binomial(n=100, p=0.5, size=1000)\n",
    "sns.countplot(b)\n",
    "\n"
   ]
  },
  {
   "cell_type": "markdown",
   "metadata": {
    "colab_type": "text",
    "id": "gvKyuwz9eGwD"
   },
   "source": [
    "## Exercise 2"
   ]
  },
  {
   "cell_type": "markdown",
   "metadata": {
    "colab_type": "text",
    "id": "Y9ifjMVHoggU"
   },
   "source": [
    "Use the Monte Carlo method to estimate the probability that a randomly-chosen point in the square $[-1,1] x [-1,1]$ lies in the unit circle.   Notice that this number approximates $\\pi /4$."
   ]
  },
  {
   "cell_type": "markdown",
   "metadata": {
    "colab_type": "text",
    "id": "x_457LlU_KZR"
   },
   "source": [
    "### Student Solution"
   ]
  },
  {
   "cell_type": "code",
   "execution_count": 11,
   "metadata": {
    "colab": {},
    "colab_type": "code",
    "id": "QIOwHnBOeoGd"
   },
   "outputs": [
    {
     "data": {
      "text/plain": [
       "0.7921"
      ]
     },
     "execution_count": 11,
     "metadata": {},
     "output_type": "execute_result"
    }
   ],
   "source": [
    "# Your answer goes here\n",
    "sum([1 for x,y in 2 * np.random.rand(10000, 2) - 1 if (np.sqrt(x**2 + y**2) < 1)])/10000\n",
    " "
   ]
  },
  {
   "cell_type": "markdown",
   "metadata": {
    "colab_type": "text",
    "id": "IhNcrI_IfYz8"
   },
   "source": [
    "## Exercise 3"
   ]
  },
  {
   "cell_type": "markdown",
   "metadata": {
    "colab_type": "text",
    "id": "X-T6JLMaojGJ"
   },
   "source": [
    "Code an experiment where you draw a first, then draw a second marble and replace them after, and visualize the results for 1000 draws with a barplot."
   ]
  },
  {
   "cell_type": "markdown",
   "metadata": {
    "colab_type": "text",
    "id": "VOj4ISTM_T-H"
   },
   "source": [
    "### Student Solution"
   ]
  },
  {
   "cell_type": "code",
   "execution_count": 12,
   "metadata": {
    "colab": {},
    "colab_type": "code",
    "id": "cGVh2VMHf7cb"
   },
   "outputs": [
    {
     "data": {
      "image/png": "[encoded data removed]",
      "text/plain": [
       "<Figure size 432x288 with 1 Axes>"
      ]
     },
     "metadata": {
      "needs_background": "light"
     },
     "output_type": "display_data"
    }
   ],
   "source": [
    "# Your Answer Goes Here\n",
    "Bag=5*['Red']+5*['Blue']\n",
    "BagR=4*['Red']+5*['Blue']\n",
    "BagB=5*['Red']+4*['Blue']\n",
    "\n",
    "def choose_bag(Bag):\n",
    "  if 'Red' == np.random.choice(Bag):\n",
    "    return ['Red'+ np.random.choice(BagR)]\n",
    "  else:\n",
    "    return ['Blue'+ np.random.choice(BagB)]\n",
    "\n",
    "b = pd.DataFrame([choose_bag(Bag) for i in range(1000)],columns=['Result'])\n",
    "b['count']=1\n",
    "data = b.groupby('Result').sum()\n",
    "ax = data.plot.bar()"
   ]
  },
  {
   "cell_type": "markdown",
   "metadata": {
    "colab_type": "text",
    "id": "fVwNZMg-gPmf"
   },
   "source": [
    "## Exercise 4"
   ]
  },
  {
   "cell_type": "markdown",
   "metadata": {
    "colab_type": "text",
    "id": "QrIRkHtIomAh"
   },
   "source": [
    "Use the plot below to visually estimate the probability of flipping exactly 50 heads."
   ]
  },
  {
   "cell_type": "code",
   "execution_count": 13,
   "metadata": {
    "colab": {},
    "colab_type": "code",
    "id": "7PQFnqb2jWPW"
   },
   "outputs": [
    {
     "data": {
      "image/png": "[encoded data removed]",
      "text/plain": [
       "<Figure size 432x288 with 1 Axes>"
      ]
     },
     "metadata": {
      "needs_background": "light"
     },
     "output_type": "display_data"
    }
   ],
   "source": [
    "random.seed(0)\n",
    "sns.distplot(np.random.binomial(n=100, p=0.5, size=10000), hist=False)\n",
    "plt.show()"
   ]
  },
  {
   "cell_type": "markdown",
   "metadata": {
    "colab_type": "text",
    "id": "mV9330jy_c3U"
   },
   "source": [
    "### Student Solution"
   ]
  },
  {
   "cell_type": "code",
   "execution_count": 14,
   "metadata": {
    "colab": {},
    "colab_type": "code",
    "id": "ypfqe51vhRRw"
   },
   "outputs": [],
   "source": [
    "# Your Answer Goes Here\n",
    "answer = 0.08"
   ]
  },
  {
   "cell_type": "markdown",
   "metadata": {
    "colab_type": "text",
    "id": "K_LUbm2JKBgx"
   },
   "source": [
    "## Exercise 5: Probability Mass Function"
   ]
  },
  {
   "cell_type": "markdown",
   "metadata": {
    "colab_type": "text",
    "id": "8-NpM_vMo0NE"
   },
   "source": [
    "The chance of getting $k$ heads in $n$ tosses from a coin that has $p$ probability of turning up heads can be calculated as follows:\n",
    "\n",
    "$P(k | p,n) = \\binom{n}{k} (p)^{k}(1-p)^{n-k}$\n",
    "\n",
    "*** *hint look at [SciPy](https://docs.scipy.org)***\n",
    "🔬🐍\n",
    "\n",
    "Suppose you have two coins: one has $p = .7$, the other $p = .5$.  Code the formula above and calculate the likelihood of exactly 55 heads in a 100 coin toss experiment.  Suppose you choose a coin at random and get 55 heads: what is the probability that your coin is the fair one?\n",
    "\n"
   ]
  },
  {
   "cell_type": "markdown",
   "metadata": {
    "colab_type": "text",
    "id": "ISovFmc_A1Cy"
   },
   "source": [
    "### Student Solution"
   ]
  },
  {
   "cell_type": "code",
   "execution_count": 15,
   "metadata": {
    "colab": {},
    "colab_type": "code",
    "id": "LY60dvAnK3gy"
   },
   "outputs": [
    {
     "data": {
      "text/plain": [
       "0.9888066621223974"
      ]
     },
     "execution_count": 15,
     "metadata": {},
     "output_type": "execute_result"
    }
   ],
   "source": [
    "# Your answer goes here\n",
    "from scipy.stats import binom\n",
    "\n",
    "b1 = binom.pmf(55,n=100,p=0.7)\n",
    "b2 = binom.pmf(55,n=100,p=0.5)\n",
    "answer = (0.5*b2)/((0.5*b2)+(0.5*b1))\n",
    "answer\n",
    "# answer = 'some float'"
   ]
  },
  {
   "cell_type": "markdown",
   "metadata": {
    "colab_type": "text",
    "id": "bUDzGyQmAgcr"
   },
   "source": [
    "## Challenge: Monty Hall Problem\n"
   ]
  },
  {
   "cell_type": "markdown",
   "metadata": {
    "colab_type": "text",
    "id": "infgbqd_AmgE"
   },
   "source": [
    "In the Monty Hall problem there are 3 doors to choose from. 1 of the doors has a prize, and the other two have goats behind them.  You first choose a door; the host (Monty Hall) then opens one of the two remaining doors, revealing a goat.  You then have the option of sticking with your original door or switching to the remaining door.\n",
    "\n",
    "Use the Monte Carlo method to get an estimate of your chance of success if you stick with your original door (i.e., model the game and run it a large number of times to see what percent of the time you win).  Extra challenge: change the number of total doors and number of doors opened.\n",
    "\n",
    "<a href=\"https://commons.wikimedia.org/wiki/File:Monty_open_door.svg#/media/File:Monty_open_door.svg\"><img align=\"center\" src=\"https://upload.wikimedia.org/wikipedia/commons/thumb/3/3f/Monty_open_door.svg/1200px-Monty_open_door.svg.png\" alt=\"Monty open door.svg\" height=\"100px\"><a/>"
   ]
  },
  {
   "cell_type": "markdown",
   "metadata": {
    "colab_type": "text",
    "id": "mVL6mkNDAxIY"
   },
   "source": [
    "### Student Solution"
   ]
  },
  {
   "cell_type": "code",
   "execution_count": 16,
   "metadata": {
    "colab": {},
    "colab_type": "code",
    "id": "iW_Ndr7bA0J2"
   },
   "outputs": [
    {
     "name": "stdout",
     "output_type": "stream",
     "text": [
      "Wins without switching 33.593\n",
      "Wins with switching 66.708\n"
     ]
    }
   ],
   "source": [
    "# Your answer goes here\n",
    "import numpy as np\n",
    "\n",
    "def goatdoors(guesses, prizes):\n",
    "  return [np.setdiff1d([0, 1, 2], [prizes[i], guesses[i]])[0] for i in range(len(prizes))]\n",
    "\n",
    "def switch(guesses, goatdoors):\n",
    "  return [np.setdiff1d([0, 1, 2], [guesses[i], goatdoors[i]])[0] for i in range(len(guesses))]\n",
    "\n",
    "def win_pert(guesses, prizes):\n",
    "  count = 0\n",
    "  for i in range(len(guesses)):\n",
    "    if guesses[i] == prizes[i]:\n",
    "                count += 1\n",
    "  return 100.0 * count / float(len(guesses))\n",
    "\n",
    "\n",
    "N = 100000\n",
    "prizes = np.random.randint(0, 3, size=N)\n",
    "guesses = np.random.randint(0, 3, size=N)\n",
    "non_swtich = win_pert(guesses, prizes)\n",
    "print(\"Wins without switching \" + str(non_swtich))\n",
    "\n",
    "prizes = np.random.randint(0, 3, size=N)\n",
    "guesses = np.random.randint(0, 3, size=N)\n",
    "goatdoors = goatdoors(guesses, prizes)\n",
    "swtich = win_pert(switch(guesses, goatdoors), prizes)\n",
    "print(\"Wins with switching \" +str(swtich))\n",
    "\n",
    "\n"
   ]
  }
 ],
 "metadata": {
  "colab": {
   "collapsed_sections": [
    "copyright"
   ],
   "name": "Huize Huang - T02-06 [SC] Probability [Colab][Scripps]",
   "private_outputs": true,
   "provenance": [],
   "toc_visible": true,
   "version": "0.3.2"
  },
  "kernelspec": {
   "display_name": "Python 3",
   "language": "python",
   "name": "python3"
  },
  "language_info": {
   "codemirror_mode": {
    "name": "ipython",
    "version": 3
   },
   "file_extension": ".py",
   "mimetype": "text/x-python",
   "name": "python",
   "nbconvert_exporter": "python",
   "pygments_lexer": "ipython3",
   "version": "3.6.8"
  }
 },
 "nbformat": 4,
 "nbformat_minor": 1
}
