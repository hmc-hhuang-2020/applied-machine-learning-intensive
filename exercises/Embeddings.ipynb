{
 "cells": [
  {
   "cell_type": "markdown",
   "metadata": {
    "colab_type": "text",
    "id": "copyright"
   },
   "source": [
    "#### Copyright 2019 Google LLC."
   ]
  },
  {
   "cell_type": "code",
   "execution_count": 1,
   "metadata": {
    "colab": {},
    "colab_type": "code",
    "id": "24p97VuTvYVT"
   },
   "outputs": [],
   "source": [
    "# Licensed under the Apache License, Version 2.0 (the \"License\");\n",
    "# you may not use this file except in compliance with the License.\n",
    "# You may obtain a copy of the License at\n",
    "#\n",
    "# https://www.apache.org/licenses/LICENSE-2.0\n",
    "#\n",
    "# Unless required by applicable law or agreed to in writing, software\n",
    "# distributed under the License is distributed on an \"AS IS\" BASIS,\n",
    "# WITHOUT WARRANTIES OR CONDITIONS OF ANY KIND, either express or implied.\n",
    "# See the License for the specific language governing permissions and\n",
    "# limitations under the License."
   ]
  },
  {
   "cell_type": "markdown",
   "metadata": {
    "colab_type": "text",
    "id": "CVmV0M74xwm7"
   },
   "source": [
    "# Embeddings"
   ]
  },
  {
   "cell_type": "markdown",
   "metadata": {
    "colab_type": "text",
    "id": "XuFjSsW53I9_"
   },
   "source": [
    "Embeddings are a powerful way to represent data for deep learning (neural network) models. They transform categorical data into efficient, dense vectors that capture similarities between items.\n",
    "\n",
    "In this exercise we will work specifically with embeddings of words, one of the most common applications of this technique. We will train word embeddings from scratch on a small dataset and visualize those embeddings.\n",
    "\n",
    "---\n",
    "\n",
    "<img height=\"20px\" src=\"https://upload.wikimedia.org/wikipedia/commons/2/2d/Tensorflow_logo.svg\" align=\"left\" hspace=\"10px\">\n",
    "This lab is developed based on [TensorFlow.org's Word embeddings](https://www.tensorflow.org/alpha/tutorials/sequences/word_embeddings)."
   ]
  },
  {
   "cell_type": "markdown",
   "metadata": {
    "colab_type": "text",
    "id": "452jWTVV230i"
   },
   "source": [
    "## Overview"
   ]
  },
  {
   "cell_type": "markdown",
   "metadata": {
    "colab_type": "text",
    "id": "PGXJElrBvyVT"
   },
   "source": [
    "### Learning Objectives\n",
    "\n",
    "* Understand what embeddings are, why they are used, how they are trained\n",
    "* Use embeddings in practice"
   ]
  },
  {
   "cell_type": "markdown",
   "metadata": {
    "colab_type": "text",
    "id": "VZe4Xj9tyQRD"
   },
   "source": [
    "### Prerequisites\n",
    "\n",
    "* Introduction to Neural Networks\n",
    "* Introduction to Keras"
   ]
  },
  {
   "cell_type": "markdown",
   "metadata": {
    "colab_type": "text",
    "id": "DbbAmmIhynVu"
   },
   "source": [
    "### Estimated Duration\n",
    "\n",
    "45 minutes"
   ]
  },
  {
   "cell_type": "markdown",
   "metadata": {
    "colab_type": "text",
    "id": "7MHrGEyty2VI"
   },
   "source": [
    "### Grading Criteria\n",
    "\n",
    "Each exercise is worth 3 points. The rubric for calculating those points is:\n",
    "\n",
    "| Points | Description |\n",
    "|--------|-------------|\n",
    "| 0      | No attempt at exercise |\n",
    "| 1      | Attempted exercise, but code does not run |\n",
    "| 2      | Attempted exercise, code runs, but produces incorrect answer |\n",
    "| 3      | Exercise completed successfully |\n",
    "\n",
    "There are 4 exercises in this Colab so there are 12 points available. The grading scale will be 9 points."
   ]
  },
  {
   "cell_type": "markdown",
   "metadata": {
    "colab_type": "text",
    "id": "jk3COdKGIB7l"
   },
   "source": [
    "# Learn embeddings\n",
    "\n"
   ]
  },
  {
   "cell_type": "markdown",
   "metadata": {
    "colab_type": "text",
    "id": "LboFaJ47r6x-"
   },
   "source": [
    "Embeddings can be trained using either supervised or unsupervised learning, but always with a specific problem context in mind. The learned embeddings are thus tailored for the desired task. For this exercise, we will train a supervised sentiment classifier on IMDB movie reviews. In the process, we will learn our own word embeddings."
   ]
  },
  {
   "cell_type": "markdown",
   "metadata": {
    "colab_type": "text",
    "id": "Zu7rUHNXWBue"
   },
   "source": [
    "### Setup\n",
    "\n",
    "First, we will set random seeds for reproducible results. This makes sure that we get the same results everytime we run this Colab by controlling how any random numbers are generated."
   ]
  },
  {
   "cell_type": "code",
   "execution_count": 2,
   "metadata": {
    "colab": {},
    "colab_type": "code",
    "id": "uI4PxR8OcADw"
   },
   "outputs": [],
   "source": [
    "import numpy as np\n",
    "import tensorflow as tf\n",
    "\n",
    "np.random.seed(42)\n",
    "tf.set_random_seed(42)"
   ]
  },
  {
   "cell_type": "markdown",
   "metadata": {
    "colab_type": "text",
    "id": "1zoVKdwCZTK5"
   },
   "source": [
    "## Data and Problem\n",
    "\n",
    "We will use the [IMDB dataset](https://www.tensorflow.org/api_docs/python/tf/keras/datasets/imdb) that contains the text of 50,000 movie reviews from the [Internet Movie Database](https://www.imdb.com/). This dataset is conveniently packaged in Keras. "
   ]
  },
  {
   "cell_type": "code",
   "execution_count": 3,
   "metadata": {
    "colab": {},
    "colab_type": "code",
    "id": "xhd_d5vzrc_h"
   },
   "outputs": [
    {
     "name": "stdout",
     "output_type": "stream",
     "text": [
      "Downloading data from https://storage.googleapis.com/tensorflow/tf-keras-datasets/imdb.npz\n",
      "17465344/17464789 [==============================] - 1s 0us/step\n"
     ]
    }
   ],
   "source": [
    "from tensorflow import keras\n",
    "\n",
    "imdb = keras.datasets.imdb\n",
    "(train_data, train_labels), (test_data, test_labels) = imdb.load_data(index_from=2)"
   ]
  },
  {
   "cell_type": "markdown",
   "metadata": {
    "colab_type": "text",
    "id": "vr02kdK2aHnJ"
   },
   "source": [
    "The reviews have been pre-processed so that the text of each review (a list of words) has been converted to a list of integers, where each integer represents a specific word. We set the smallest word index as 3 (`index_from=2`) to handle some special tokens, which we'll describe in the next section.\n",
    "\n",
    "Each sentiment label is an integer value of either 0 or 1, where 0 is a negative review, and 1 is a positive review. Thus this is a binary classification problem."
   ]
  },
  {
   "cell_type": "code",
   "execution_count": 4,
   "metadata": {
    "colab": {},
    "colab_type": "code",
    "id": "KERrbc1Xarhj"
   },
   "outputs": [
    {
     "name": "stdout",
     "output_type": "stream",
     "text": [
      "[1, 13, 21, 15, 42, 529, 972, 1621, 1384, 64, 457, 4467, 65, 3940, 3, 172, 35, 255, 4, 24, 99, 42, 837, 111, 49, 669, 22664, 8, 34, 479, 283, 4, 149, 3, 171, 111, 166, 21630, 335, 384, 38, 3, 171, 4535, 1110, 16, 545, 37, 12, 446, 3, 191, 49, 15, 5, 146, 2024, 18, 13, 21, 3, 1919, 4612, 468, 3, 21, 70, 86, 11, 15, 42, 529, 37, 75, 14, 12, 1246, 3, 21, 16, 514, 16, 11, 15, 625, 17, 19192, 4, 61, 385, 11, 7, 315, 7, 105, 4, 3, 2222, 5243, 15, 479, 65, 3784, 32, 3, 129, 11, 15, 37, 618, 4, 24, 123, 50, 35, 134, 47, 24, 1414, 32, 5, 21, 11, 214, 27, 76, 51, 4, 13, 406, 15, 81, 10310, 7, 3, 106, 116, 5951, 14, 255, 3, 31049, 6, 3765, 4, 722, 35, 70, 42, 529, 475, 25, 399, 316, 45, 6, 3, 12117, 1028, 12, 103, 87, 3, 380, 14, 296, 97, 31, 2070, 55, 25, 140, 5, 193, 7485, 17, 3, 225, 21, 20, 133, 475, 25, 479, 4, 143, 29, 5534, 17, 50, 35, 27, 223, 91, 24, 103, 3, 225, 64, 15, 37, 1333, 87, 11, 15, 282, 4, 15, 4471, 112, 102, 31, 14, 15, 5344, 18, 177, 31]\n"
     ]
    }
   ],
   "source": [
    "print(train_data[0])"
   ]
  },
  {
   "cell_type": "markdown",
   "metadata": {
    "colab_type": "text",
    "id": "-Goq0Frawyuk"
   },
   "source": [
    "### Convert the integers back to words\n",
    "\n",
    "It may be useful to know how to convert a list of integers back to text. Here, we'll create a helper function to query a dictionary object that contains the integer to string mapping:"
   ]
  },
  {
   "cell_type": "code",
   "execution_count": 5,
   "metadata": {
    "colab": {},
    "colab_type": "code",
    "id": "LfcdK_js_dQd"
   },
   "outputs": [
    {
     "name": "stdout",
     "output_type": "stream",
     "text": [
      "Downloading data from https://storage.googleapis.com/tensorflow/tf-keras-datasets/imdb_word_index.json\n",
      "1646592/1641221 [==============================] - 0s 0us/step\n",
      "# unique words: 88587\n"
     ]
    }
   ],
   "source": [
    "# A dictionary mapping each word to an integer index\n",
    "word_index = imdb.get_word_index()\n",
    "\n",
    "# Reserve the first 3 indices for special tokens\n",
    "word_index = {k:(v+2) for k,v in word_index.items()}\n",
    "word_index[\"<PAD>\"] = 0\n",
    "word_index[\"<START>\"] = 1\n",
    "word_index[\"<UNK>\"] = 2\n",
    "\n",
    "vocab_size = len(word_index)\n",
    "print('# unique words: {}'.format(vocab_size))"
   ]
  },
  {
   "cell_type": "code",
   "execution_count": 6,
   "metadata": {
    "colab": {},
    "colab_type": "code",
    "id": "y5fVfsydTeCB"
   },
   "outputs": [
    {
     "data": {
      "text/plain": [
       "\"<START> this film was just brilliant casting location scenery story direction everyone's really suited the part they played and you could just imagine being there robert redford's is an amazing actor and now the same being director norman's father came from the same scottish island as myself so i loved the fact there was a real connection with this film the witty remarks throughout the film were great it was just brilliant so much that i bought the film as soon as it was released for retail and would recommend it to everyone to watch and the fly fishing was amazing really cried at the end it was so sad and you know what they say if you cry at a film it must have been good and this definitely was also congratulations to the two little boy's that played the part's of norman and paul they were just brilliant children are often left out of the praising list i think because the stars that play them all grown up are such a big profile for the whole film but these children are amazing and should be praised for what they have done don't you think the whole story was so lovely because it was true and was someone's life after all that was shared with us all\""
      ]
     },
     "execution_count": 6,
     "metadata": {},
     "output_type": "execute_result"
    }
   ],
   "source": [
    "reverse_word_index = dict([(value, key) for (key, value) in word_index.items()])\n",
    "\n",
    "def decode_review(text):\n",
    "    return ' '.join([reverse_word_index.get(i, '?') for i in text])\n",
    "\n",
    "decode_review(train_data[0])"
   ]
  },
  {
   "cell_type": "markdown",
   "metadata": {
    "colab_type": "text",
    "id": "u617UoBvzI_A"
   },
   "source": [
    "### Preprocessing\n",
    "\n",
    "Notice that there are three special tokens in the `word_index` dictionary. `\"<START>\"` marks the beginning of each review. `\"<UNK>\"` handles \"unknown\" words, or words that appear in the test dataset but not in the training dataset (so they are effectively \"unknown\" to the model). \n",
    "\n",
    "Finally, movie reviews can be different lengths, but inputs to a neural network must all be the same length. Let's take a look at the distribution of review lengths."
   ]
  },
  {
   "cell_type": "code",
   "execution_count": 7,
   "metadata": {
    "colab": {},
    "colab_type": "code",
    "id": "i5oIPHvKMqvt"
   },
   "outputs": [
    {
     "name": "stderr",
     "output_type": "stream",
     "text": [
      "/Users/dorishuang/anaconda3/lib/python3.6/site-packages/ipykernel_launcher.py:4: MatplotlibDeprecationWarning: \n",
      "The 'normed' kwarg was deprecated in Matplotlib 2.1 and will be removed in 3.1. Use 'density' instead.\n",
      "  after removing the cwd from sys.path.\n"
     ]
    },
    {
     "data": {
      "text/plain": [
       "<Figure size 640x480 with 1 Axes>"
      ]
     },
     "metadata": {},
     "output_type": "display_data"
    }
   ],
   "source": [
    "import matplotlib.pyplot as plt\n",
    "\n",
    "review_lengths = [len(review) for review in train_data]\n",
    "plt.hist(review_lengths, normed=True, cumulative=True)\n",
    "plt.yticks(np.arange(0, 1.1, step=0.1))\n",
    "plt.show()"
   ]
  },
  {
   "cell_type": "markdown",
   "metadata": {
    "colab_type": "text",
    "id": "QyUvPXstTup9"
   },
   "source": [
    "Even though the longest review is close to 2500 words long, over 90% of the reviews have fewer than 500 words. \n",
    "\n",
    "We can use the `pad_sequences` function to standardize the lengths of the reviews to 500 words long. Any reviews longer than this will have the extra words truncated, while any reviews shorter will have extra `\"<PAD>\"` tokens added to the end. \n",
    "\n",
    "Choosing a standardized length requires balancing efficiency (longer lengths mean slower training) and information loss (shorter lengths may truncate too much valuable information). Aiming for a length that fully covers 90% of samples is generally reasonable, and you can further tune this as a hyperparameter."
   ]
  },
  {
   "cell_type": "code",
   "execution_count": 8,
   "metadata": {
    "colab": {},
    "colab_type": "code",
    "id": "nX-sWA3Z2uu3"
   },
   "outputs": [],
   "source": [
    "maxlen = 500\n",
    "\n",
    "train_data = keras.preprocessing.sequence.pad_sequences(train_data,\n",
    "                                                        value=word_index[\"<PAD>\"],\n",
    "                                                        padding='post',\n",
    "                                                        maxlen=maxlen)\n",
    "\n",
    "test_data = keras.preprocessing.sequence.pad_sequences(test_data,\n",
    "                                                       value=word_index[\"<PAD>\"],\n",
    "                                                       padding='post',\n",
    "                                                       maxlen=maxlen)"
   ]
  },
  {
   "cell_type": "markdown",
   "metadata": {
    "colab_type": "text",
    "id": "r8Uv3iI725Mb"
   },
   "source": [
    "Let's inspect the first padded review."
   ]
  },
  {
   "cell_type": "code",
   "execution_count": 9,
   "metadata": {
    "colab": {},
    "colab_type": "code",
    "id": "O-6VBoda3agD"
   },
   "outputs": [
    {
     "name": "stdout",
     "output_type": "stream",
     "text": [
      "[    1    13    21    15    42   529   972  1621  1384    64   457  4467\n",
      "    65  3940     3   172    35   255     4    24    99    42   837   111\n",
      "    49   669 22664     8    34   479   283     4   149     3   171   111\n",
      "   166 21630   335   384    38     3   171  4535  1110    16   545    37\n",
      "    12   446     3   191    49    15     5   146  2024    18    13    21\n",
      "     3  1919  4612   468     3    21    70    86    11    15    42   529\n",
      "    37    75    14    12  1246     3    21    16   514    16    11    15\n",
      "   625    17 19192     4    61   385    11     7   315     7   105     4\n",
      "     3  2222  5243    15   479    65  3784    32     3   129    11    15\n",
      "    37   618     4    24   123    50    35   134    47    24  1414    32\n",
      "     5    21    11   214    27    76    51     4    13   406    15    81\n",
      " 10310     7     3   106   116  5951    14   255     3 31049     6  3765\n",
      "     4   722    35    70    42   529   475    25   399   316    45     6\n",
      "     3 12117  1028    12   103    87     3   380    14   296    97    31\n",
      "  2070    55    25   140     5   193  7485    17     3   225    21    20\n",
      "   133   475    25   479     4   143    29  5534    17    50    35    27\n",
      "   223    91    24   103     3   225    64    15    37  1333    87    11\n",
      "    15   282     4    15  4471   112   102    31    14    15  5344    18\n",
      "   177    31     0     0     0     0     0     0     0     0     0     0\n",
      "     0     0     0     0     0     0     0     0     0     0     0     0\n",
      "     0     0     0     0     0     0     0     0     0     0     0     0\n",
      "     0     0     0     0     0     0     0     0     0     0     0     0\n",
      "     0     0     0     0     0     0     0     0     0     0     0     0\n",
      "     0     0     0     0     0     0     0     0     0     0     0     0\n",
      "     0     0     0     0     0     0     0     0     0     0     0     0\n",
      "     0     0     0     0     0     0     0     0     0     0     0     0\n",
      "     0     0     0     0     0     0     0     0     0     0     0     0\n",
      "     0     0     0     0     0     0     0     0     0     0     0     0\n",
      "     0     0     0     0     0     0     0     0     0     0     0     0\n",
      "     0     0     0     0     0     0     0     0     0     0     0     0\n",
      "     0     0     0     0     0     0     0     0     0     0     0     0\n",
      "     0     0     0     0     0     0     0     0     0     0     0     0\n",
      "     0     0     0     0     0     0     0     0     0     0     0     0\n",
      "     0     0     0     0     0     0     0     0     0     0     0     0\n",
      "     0     0     0     0     0     0     0     0     0     0     0     0\n",
      "     0     0     0     0     0     0     0     0     0     0     0     0\n",
      "     0     0     0     0     0     0     0     0     0     0     0     0\n",
      "     0     0     0     0     0     0     0     0     0     0     0     0\n",
      "     0     0     0     0     0     0     0     0     0     0     0     0\n",
      "     0     0     0     0     0     0     0     0     0     0     0     0\n",
      "     0     0     0     0     0     0     0     0     0     0     0     0\n",
      "     0     0     0     0     0     0     0     0]\n"
     ]
    }
   ],
   "source": [
    "print(train_data[0])"
   ]
  },
  {
   "cell_type": "markdown",
   "metadata": {
    "colab_type": "text",
    "id": "NW1OYV_piA5M"
   },
   "source": [
    "## Build the Model"
   ]
  },
  {
   "cell_type": "markdown",
   "metadata": {
    "colab_type": "text",
    "id": "B7Cl6fRyDuDI"
   },
   "source": [
    "### Using the Embedding layer\n",
    "\n",
    "Keras makes it easy to use embeddings. The [Embedding](https://www.tensorflow.org/api_docs/python/tf/keras/layers/Embedding) layer takes at least two arguments: the number of possible words in the vocabulary and the dimensionality of the embeddings. We will start by using a small embedding size of 2 to make visualization easier."
   ]
  },
  {
   "cell_type": "code",
   "execution_count": 10,
   "metadata": {
    "colab": {},
    "colab_type": "code",
    "id": "bsve7z4TFJyk"
   },
   "outputs": [
    {
     "name": "stderr",
     "output_type": "stream",
     "text": [
      "WARNING: Logging before flag parsing goes to stderr.\n",
      "W0809 19:19:46.379709 4478375360 deprecation.py:506] From /Users/dorishuang/anaconda3/lib/python3.6/site-packages/tensorflow/python/keras/initializers.py:119: calling RandomUniform.__init__ (from tensorflow.python.ops.init_ops) with dtype is deprecated and will be removed in a future version.\n",
      "Instructions for updating:\n",
      "Call initializer instance with the dtype argument instead of passing it to the constructor\n"
     ]
    }
   ],
   "source": [
    "embedding_dim = 2\n",
    "\n",
    "embedding_layer = keras.layers.Embedding(vocab_size, embedding_dim)"
   ]
  },
  {
   "cell_type": "markdown",
   "metadata": {
    "colab_type": "text",
    "id": "ucstp6tBFt94"
   },
   "source": [
    "The Embedding layer can be understood as a lookup table that maps from integer indices (which stand for specific words) to dense vectors (their embeddings). The dimensionality (or width) of the embedding is a parameter you can experiment with to see what works well for your problem, much in the same way you would experiment with the number of neurons in a Dense layer.\n",
    "\n",
    "When we create an Embedding layer, the weights for the embedding are randomly initialized (just like any other layer). During training, they are gradually adjusted via backpropagation. Once trained, the learned word embeddings will roughly encode similarities between words (as they were learned for the specific problem our model is trained on).\n",
    "\n",
    "As input, the Embedding layer takes a 2D tensor of integers, of shape `(num_samples, sequence_length)`, where each sample is a sequence of integers. As output, the embedding layer returns a 3D floating point tensor, of shape `(num_samples, sequence_length, embedding_dimensionality)`. "
   ]
  },
  {
   "cell_type": "markdown",
   "metadata": {
    "colab_type": "text",
    "id": "w9Clq0KWL2dD"
   },
   "source": [
    "### Configure the Model\n",
    "\n",
    "* The first layer is an Embedding layer. This layer takes the integer-encoded vocabulary and looks up the embedding vector for each word-index. These vectors are learned as the model trains. The vectors add a dimension to the output array. The resulting dimensions are: `(batch size, sequence length, embedding size)`.\n",
    "\n",
    "* Next, we flatten the output from a 2-d array to a 1-d array.\n",
    "\n",
    "* The last layer is densely connected with a single output node. Using the sigmoid activation function, this value is a float between 0 and 1, representing a probability (or confidence level) that the review is positive."
   ]
  },
  {
   "cell_type": "code",
   "execution_count": 11,
   "metadata": {
    "colab": {},
    "colab_type": "code",
    "id": "3OnpePqclffu"
   },
   "outputs": [
    {
     "name": "stderr",
     "output_type": "stream",
     "text": [
      "W0809 19:19:46.397419 4478375360 deprecation.py:506] From /Users/dorishuang/anaconda3/lib/python3.6/site-packages/tensorflow/python/ops/init_ops.py:1251: calling VarianceScaling.__init__ (from tensorflow.python.ops.init_ops) with dtype is deprecated and will be removed in a future version.\n",
      "Instructions for updating:\n",
      "Call initializer instance with the dtype argument instead of passing it to the constructor\n"
     ]
    },
    {
     "name": "stdout",
     "output_type": "stream",
     "text": [
      "Model: \"sequential\"\n",
      "_________________________________________________________________\n",
      "Layer (type)                 Output Shape              Param #   \n",
      "=================================================================\n",
      "embedding_1 (Embedding)      (None, 500, 2)            177174    \n",
      "_________________________________________________________________\n",
      "flatten (Flatten)            (None, 1000)              0         \n",
      "_________________________________________________________________\n",
      "dense (Dense)                (None, 1)                 1001      \n",
      "=================================================================\n",
      "Total params: 178,175\n",
      "Trainable params: 178,175\n",
      "Non-trainable params: 0\n",
      "_________________________________________________________________\n"
     ]
    }
   ],
   "source": [
    "model = keras.Sequential([\n",
    "  keras.layers.Embedding(vocab_size, embedding_dim, input_length=maxlen),\n",
    "  keras.layers.Flatten(),\n",
    "  keras.layers.Dense(1, activation='sigmoid')\n",
    "])\n",
    "\n",
    "model.summary()"
   ]
  },
  {
   "cell_type": "markdown",
   "metadata": {
    "colab_type": "text",
    "id": "f8DaPLm2tki9"
   },
   "source": [
    "### Compile and train the model"
   ]
  },
  {
   "cell_type": "code",
   "execution_count": 12,
   "metadata": {
    "colab": {},
    "colab_type": "code",
    "id": "Itc2oZQMnz7t"
   },
   "outputs": [
    {
     "name": "stderr",
     "output_type": "stream",
     "text": [
      "W0809 19:19:46.570213 4478375360 deprecation.py:323] From /Users/dorishuang/anaconda3/lib/python3.6/site-packages/tensorflow/python/ops/nn_impl.py:180: add_dispatch_support.<locals>.wrapper (from tensorflow.python.ops.array_ops) is deprecated and will be removed in a future version.\n",
      "Instructions for updating:\n",
      "Use tf.where in 2.0, which has the same broadcast rule as np.where\n"
     ]
    }
   ],
   "source": [
    "model.compile(\n",
    "\n",
    "  # Calculate loss for a binary classification problem\n",
    "  loss='binary_crossentropy',\n",
    "\n",
    "  # Adam is one of the most commonly used optimizers\n",
    "  optimizer=tf.train.AdamOptimizer(),\n",
    "\n",
    "  # We will only track accuracy for this task\n",
    "  metrics=['accuracy']\n",
    "\n",
    ")"
   ]
  },
  {
   "cell_type": "markdown",
   "metadata": {
    "colab_type": "text",
    "id": "ysiCSDsVn2SC"
   },
   "source": [
    "The number of epochs and batch size used during training are both hyperparameters, meaning you may need to experiment with different values to improve performance. This also means there's no magic answer for what values to choose.\n",
    "\n",
    "If you've implemented your model correctly, you should observe decreasing training loss within a few epochs. With more epochs (more training), the model will experience more overfitting. You will typically train for at least 5 epochs -- for this model, we train for 10 epochs as a reasonable tradeoff between learning (as the validation accuracy is still increasing) and overfitting.\n",
    "\n",
    "Since we have a fairly large dataset, we also want to process data in batches instead of the entire dataset at once. Too small batch sizes lead to slower training per epoch, while too large batch sizes may require more epochs to train and even cause out-of-memory errors. It's good practice to start with a small power of two (e.g. 32), then experiment with continuously doubling your batch size. For this model, we are able to use a batch size of 512 with good performance."
   ]
  },
  {
   "cell_type": "code",
   "execution_count": 13,
   "metadata": {
    "colab": {},
    "colab_type": "code",
    "id": "mPekaK45pdOc"
   },
   "outputs": [
    {
     "name": "stdout",
     "output_type": "stream",
     "text": [
      "Train on 20000 samples, validate on 5000 samples\n",
      "Epoch 1/10\n",
      "20000/20000 [==============================] - 1s 40us/sample - loss: 0.6930 - acc: 0.5087 - val_loss: 0.6921 - val_acc: 0.5168\n",
      "Epoch 2/10\n",
      "20000/20000 [==============================] - 1s 34us/sample - loss: 0.6871 - acc: 0.5814 - val_loss: 0.6881 - val_acc: 0.5322\n",
      "Epoch 3/10\n",
      "20000/20000 [==============================] - 1s 39us/sample - loss: 0.6726 - acc: 0.6758 - val_loss: 0.6669 - val_acc: 0.6682\n",
      "Epoch 4/10\n",
      "20000/20000 [==============================] - 1s 39us/sample - loss: 0.6297 - acc: 0.7448 - val_loss: 0.6106 - val_acc: 0.7370\n",
      "Epoch 5/10\n",
      "20000/20000 [==============================] - 1s 33us/sample - loss: 0.5525 - acc: 0.7978 - val_loss: 0.5341 - val_acc: 0.7792\n",
      "Epoch 6/10\n",
      "20000/20000 [==============================] - 1s 45us/sample - loss: 0.4662 - acc: 0.8389 - val_loss: 0.4646 - val_acc: 0.8186\n",
      "Epoch 7/10\n",
      "20000/20000 [==============================] - 1s 34us/sample - loss: 0.3925 - acc: 0.8732 - val_loss: 0.4137 - val_acc: 0.8406\n",
      "Epoch 8/10\n",
      "20000/20000 [==============================] - 1s 37us/sample - loss: 0.3360 - acc: 0.8965 - val_loss: 0.3787 - val_acc: 0.8530\n",
      "Epoch 9/10\n",
      "20000/20000 [==============================] - 1s 34us/sample - loss: 0.2933 - acc: 0.9108 - val_loss: 0.3527 - val_acc: 0.8656\n",
      "Epoch 10/10\n",
      "20000/20000 [==============================] - 1s 34us/sample - loss: 0.2600 - acc: 0.9233 - val_loss: 0.3346 - val_acc: 0.8720\n"
     ]
    }
   ],
   "source": [
    "# Train the model\n",
    "history = model.fit(\n",
    "    train_data,\n",
    "    train_labels,\n",
    "    epochs=10,\n",
    "    batch_size=512,\n",
    "    validation_split=0.2\n",
    ")"
   ]
  },
  {
   "cell_type": "code",
   "execution_count": 14,
   "metadata": {
    "colab": {},
    "colab_type": "code",
    "id": "VFcv3PYzJwjl"
   },
   "outputs": [
    {
     "data": {
      "image/png": "[encoded data removed]",
      "text/plain": [
       "<Figure size 864x648 with 1 Axes>"
      ]
     },
     "metadata": {
      "needs_background": "light"
     },
     "output_type": "display_data"
    }
   ],
   "source": [
    "acc = history.history['acc']\n",
    "val_acc = history.history['val_acc']\n",
    "\n",
    "epochs = range(1, len(acc) + 1)\n",
    "\n",
    "plt.figure(figsize=(12,9))\n",
    "plt.plot(epochs, acc, 'bo', label='Training acc')\n",
    "plt.plot(epochs, val_acc, 'b', label='Validation acc')\n",
    "plt.title('Training and validation accuracy')\n",
    "plt.xlabel('Epochs')\n",
    "plt.ylabel('Accuracy')\n",
    "plt.legend(loc='lower right')\n",
    "plt.ylim((0.5,1))\n",
    "\n",
    "plt.show()"
   ]
  },
  {
   "cell_type": "markdown",
   "metadata": {
    "colab_type": "text",
    "id": "ODIrlPDiJrDP"
   },
   "source": [
    "With this approach our model reaches a validation accuracy of around 87% (note that the model is already beginning to overfit, as reflected in the diverging training and validation accuracy curves)."
   ]
  },
  {
   "cell_type": "markdown",
   "metadata": {
    "colab_type": "text",
    "id": "uLCSnMlwJy3j"
   },
   "source": [
    "# Visualize embeddings"
   ]
  },
  {
   "cell_type": "markdown",
   "metadata": {
    "colab_type": "text",
    "id": "PMqbq-qMnCR7"
   },
   "source": [
    "## Retrieve the learned embeddings\n",
    "\n",
    "Next, let's retrieve the word embeddings learned during training. This will be a matrix of shape `(vocab size, embedding dimension)`."
   ]
  },
  {
   "cell_type": "code",
   "execution_count": 15,
   "metadata": {
    "colab": {},
    "colab_type": "code",
    "id": "KncdCMmgnHtU"
   },
   "outputs": [
    {
     "name": "stdout",
     "output_type": "stream",
     "text": [
      "(88587, 2)\n"
     ]
    }
   ],
   "source": [
    "e = model.layers[0]\n",
    "embedding_matrix = e.get_weights()[0]\n",
    "print(embedding_matrix.shape)"
   ]
  },
  {
   "cell_type": "markdown",
   "metadata": {
    "colab_type": "text",
    "id": "ilLX1zdS4PIn"
   },
   "source": [
    "Let's explore the learned word embeddings on a small set of terms (looking at all 80,000+ at once would be overwhelming). Most of these terms are generally strongly indicative of sentiment, but some are added just for fun."
   ]
  },
  {
   "cell_type": "code",
   "execution_count": 16,
   "metadata": {
    "colab": {},
    "colab_type": "code",
    "id": "D3nzbrDtp1VO"
   },
   "outputs": [],
   "source": [
    "informative_terms = [ \"bad\", \"great\", \"best\", \"worst\", \"fun\", \"beautiful\",\n",
    "                      \"excellent\", \"poor\", \"boring\", \"awful\", \"terrible\",\n",
    "                      \"definitely\", \"perfect\", \"liked\", \"worse\", \"waste\",\n",
    "                      \"entertaining\", \"loved\", \"unfortunately\", \"amazing\",\n",
    "                      \"enjoyed\", \"favorite\", \"horrible\", \"brilliant\", \"highly\",\n",
    "                      \"simple\", \"annoying\", \"today\", \"hilarious\", \"enjoyable\",\n",
    "                      \"dull\", \"fantastic\", \"poorly\", \"fails\", \"disappointing\",\n",
    "                      \"disappointment\", \"not\", \"him\", \"her\", \"good\", \"time\",\n",
    "                      \"sad\", \"exciting\", \"slow\", \"movie\", \"film\", \"action\",\n",
    "                      \"comedy\", \"drama\", \"fabulous\"]"
   ]
  },
  {
   "cell_type": "markdown",
   "metadata": {
    "colab_type": "text",
    "id": "axURTCgJwOjY"
   },
   "source": [
    "Now we plot each word in `informative_terms` on a 2-dimensional graph. Recall that we are using 2-dimensional embeddings, so consider the 1st value as an x-value and the 2nd value as a y-value. \n",
    "\n",
    "*Note: if the displayed plot is too small, try running the cell again.*"
   ]
  },
  {
   "cell_type": "code",
   "execution_count": 17,
   "metadata": {
    "colab": {},
    "colab_type": "code",
    "id": "p2kNso7P6fem"
   },
   "outputs": [
    {
     "data": {
      "image/png": "[encoded data removed]",
      "text/plain": [
       "<Figure size 432x288 with 1 Axes>"
      ]
     },
     "metadata": {
      "needs_background": "light"
     },
     "output_type": "display_data"
    }
   ],
   "source": [
    "for word in informative_terms:\n",
    "  word_num = word_index[word]\n",
    "  embeddings = embedding_matrix[word_num]\n",
    "  plt.text(embeddings[0], embeddings[1], word)\n",
    "\n",
    "# Do a little set-up to make sure the plot displays nicely.\n",
    "plt.rcParams[\"figure.figsize\"] = (25, 25)\n",
    "plt.xlim(1.2 * embedding_matrix.min(), 1.2 * embedding_matrix.max())\n",
    "plt.ylim(1.2 * embedding_matrix.min(), 1.2 * embedding_matrix.max())\n",
    "plt.show()"
   ]
  },
  {
   "cell_type": "markdown",
   "metadata": {
    "colab_type": "text",
    "id": "gE8uZeJwWsqC"
   },
   "source": [
    "# Exercises"
   ]
  },
  {
   "cell_type": "markdown",
   "metadata": {
    "colab_type": "text",
    "id": "hIx-sOKz6qLl"
   },
   "source": [
    "## Exercise 1"
   ]
  },
  {
   "cell_type": "markdown",
   "metadata": {
    "colab_type": "text",
    "id": "ZvHk7PYtkTY6"
   },
   "source": [
    "What structures do you see in the embeddings of the words?"
   ]
  },
  {
   "cell_type": "markdown",
   "metadata": {
    "colab_type": "text",
    "id": "LMeBYRbEW2eB"
   },
   "source": [
    "### Student Solution"
   ]
  },
  {
   "cell_type": "markdown",
   "metadata": {
    "colab_type": "text",
    "id": "jUWVyvqq6vj7"
   },
   "source": [
    "The movie is the netural word for either possitive or negative reviews since it's about movie reviews. Negative sentiments are gathered in the lower left cornor with lower y values. Positive feedback sentiments are gathered in the upper right corner with higher y values. Some random words like 'her, time' get scores just a little higher than movie.   \n",
    "\n"
   ]
  },
  {
   "cell_type": "markdown",
   "metadata": {
    "colab_type": "text",
    "id": "tI9DB-Dn76O-"
   },
   "source": [
    "## Exercise 2: Higher-dimensional embeddings"
   ]
  },
  {
   "cell_type": "markdown",
   "metadata": {
    "colab_type": "text",
    "id": "qhlN0BGnkVf3"
   },
   "source": [
    "Now we can visualize 2-dimensional embeddings, but recall that our original vocabulary had over 80,000 words -- we're missing a lot of information if we only use 2 dimensions!\n",
    "\n",
    "Typical embedding dimensions are 50, 100, 200, 300, and sometimes even larger. In this section we'll introduce the [Embedding Projector](http://projector.tensorflow.org/), a tool to visualize high-dimensional embeddings.\n",
    "\n",
    "Re-train our earlier model, with the same hyperparameters, using **50-dimensional** embeddings and retrieve the learned embeddings from this trained model. You should observe a slower training time and much higher training accuracy after 10 epochs."
   ]
  },
  {
   "cell_type": "markdown",
   "metadata": {
    "colab_type": "text",
    "id": "CU2jvjHHXE0t"
   },
   "source": [
    "### Student Solution"
   ]
  },
  {
   "cell_type": "code",
   "execution_count": 18,
   "metadata": {
    "colab": {},
    "colab_type": "code",
    "id": "D5ab4EOm8aYW"
   },
   "outputs": [],
   "source": [
    "# Re-train model using 50-dimensional embeddings\n",
    "embedding_dim = 50\n",
    "embedding_layer = keras.layers.Embedding(vocab_size, embedding_dim)"
   ]
  },
  {
   "cell_type": "code",
   "execution_count": 19,
   "metadata": {
    "colab": {},
    "colab_type": "code",
    "id": "xzczkbZzH3dD"
   },
   "outputs": [
    {
     "name": "stdout",
     "output_type": "stream",
     "text": [
      "Model: \"sequential_1\"\n",
      "_________________________________________________________________\n",
      "Layer (type)                 Output Shape              Param #   \n",
      "=================================================================\n",
      "embedding_3 (Embedding)      (None, 500, 50)           4429350   \n",
      "_________________________________________________________________\n",
      "flatten_1 (Flatten)          (None, 25000)             0         \n",
      "_________________________________________________________________\n",
      "dense_1 (Dense)              (None, 1)                 25001     \n",
      "=================================================================\n",
      "Total params: 4,454,351\n",
      "Trainable params: 4,454,351\n",
      "Non-trainable params: 0\n",
      "_________________________________________________________________\n"
     ]
    }
   ],
   "source": [
    "model = keras.Sequential([\n",
    "  keras.layers.Embedding(vocab_size, embedding_dim, input_length=maxlen),\n",
    "  keras.layers.Flatten(),\n",
    "  keras.layers.Dense(1, activation='sigmoid')\n",
    "])\n",
    "\n",
    "model.summary()"
   ]
  },
  {
   "cell_type": "code",
   "execution_count": 20,
   "metadata": {
    "colab": {},
    "colab_type": "code",
    "id": "tlboMTiTH7t0"
   },
   "outputs": [],
   "source": [
    "model.compile(\n",
    "  loss='binary_crossentropy',\n",
    "  optimizer=tf.train.AdamOptimizer(),\n",
    "  metrics=['accuracy']\n",
    ")"
   ]
  },
  {
   "cell_type": "code",
   "execution_count": 21,
   "metadata": {
    "colab": {},
    "colab_type": "code",
    "id": "aHRE40hWIBBQ"
   },
   "outputs": [
    {
     "name": "stdout",
     "output_type": "stream",
     "text": [
      "Train on 20000 samples, validate on 5000 samples\n",
      "Epoch 1/10\n",
      "20000/20000 [==============================] - 4s 203us/sample - loss: 0.6871 - acc: 0.5578 - val_loss: 0.6577 - val_acc: 0.6956\n",
      "Epoch 2/10\n",
      "20000/20000 [==============================] - 4s 190us/sample - loss: 0.5466 - acc: 0.7983 - val_loss: 0.4617 - val_acc: 0.8172\n",
      "Epoch 3/10\n",
      "20000/20000 [==============================] - 4s 186us/sample - loss: 0.3256 - acc: 0.8945 - val_loss: 0.3422 - val_acc: 0.8664\n",
      "Epoch 4/10\n",
      "20000/20000 [==============================] - 4s 190us/sample - loss: 0.2053 - acc: 0.9405 - val_loss: 0.3130 - val_acc: 0.8742\n",
      "Epoch 5/10\n",
      "20000/20000 [==============================] - 3s 163us/sample - loss: 0.1393 - acc: 0.9660 - val_loss: 0.2858 - val_acc: 0.8886\n",
      "Epoch 6/10\n",
      "20000/20000 [==============================] - 3s 170us/sample - loss: 0.0975 - acc: 0.9810 - val_loss: 0.2801 - val_acc: 0.8894\n",
      "Epoch 7/10\n",
      "20000/20000 [==============================] - 3s 161us/sample - loss: 0.0699 - acc: 0.9890 - val_loss: 0.2790 - val_acc: 0.8904\n",
      "Epoch 8/10\n",
      "20000/20000 [==============================] - 4s 187us/sample - loss: 0.0523 - acc: 0.9934 - val_loss: 0.2816 - val_acc: 0.8920\n",
      "Epoch 9/10\n",
      "20000/20000 [==============================] - 3s 154us/sample - loss: 0.0392 - acc: 0.9962 - val_loss: 0.2854 - val_acc: 0.8932\n",
      "Epoch 10/10\n",
      "20000/20000 [==============================] - 3s 162us/sample - loss: 0.0293 - acc: 0.9983 - val_loss: 0.2904 - val_acc: 0.8898\n"
     ]
    }
   ],
   "source": [
    "# Train the model\n",
    "history = model.fit(\n",
    "    train_data,\n",
    "    train_labels,\n",
    "    epochs=10,\n",
    "    batch_size=512,\n",
    "    validation_split=0.2\n",
    ")"
   ]
  },
  {
   "cell_type": "code",
   "execution_count": 22,
   "metadata": {
    "colab": {},
    "colab_type": "code",
    "id": "seKq0ubOIBqE"
   },
   "outputs": [
    {
     "data": {
      "image/png": "[encoded data removed]",
      "text/plain": [
       "<Figure size 864x648 with 1 Axes>"
      ]
     },
     "metadata": {
      "needs_background": "light"
     },
     "output_type": "display_data"
    }
   ],
   "source": [
    "acc = history.history['acc']\n",
    "val_acc = history.history['val_acc']\n",
    "\n",
    "epochs = range(1, len(acc) + 1)\n",
    "\n",
    "plt.figure(figsize=(12,9))\n",
    "plt.plot(epochs, acc, 'bo', label='Training acc')\n",
    "plt.plot(epochs, val_acc, 'b', label='Validation acc')\n",
    "plt.title('Training and validation accuracy')\n",
    "plt.xlabel('Epochs')\n",
    "plt.ylabel('Accuracy')\n",
    "plt.legend(loc='lower right')\n",
    "plt.ylim((0.5,1))\n",
    "\n",
    "plt.show()"
   ]
  },
  {
   "cell_type": "code",
   "execution_count": 23,
   "metadata": {
    "colab": {},
    "colab_type": "code",
    "id": "J1HARCIOH001"
   },
   "outputs": [
    {
     "name": "stdout",
     "output_type": "stream",
     "text": [
      "(88587, 50)\n"
     ]
    }
   ],
   "source": [
    "e = model.layers[0]\n",
    "embedding_matrix = e.get_weights()[0]\n",
    "print(embedding_matrix.shape)"
   ]
  },
  {
   "cell_type": "code",
   "execution_count": 24,
   "metadata": {
    "colab": {},
    "colab_type": "code",
    "id": "oaW609VpJQyE"
   },
   "outputs": [],
   "source": [
    "import io\n",
    "\n",
    "out_v = io.open('vecs.tsv', 'w', encoding='utf-8')\n",
    "out_m = io.open('meta.tsv', 'w', encoding='utf-8')\n",
    "for word in informative_terms:\n",
    "  word_num = word_index[word]\n",
    "  embeddings = embedding_matrix[word_num]\n",
    "# for compatibility with python 2 and 3\n",
    "  out_m.write(word.encode(\"utf-8\").decode(\"utf-8\") + \"\\n\")\n",
    "  out_v.write('\\t'.join([str(x).encode(\"utf-8\").decode(\"utf-8\") for x in embeddings]) + \"\\n\")\n",
    "out_v.close()\n",
    "out_m.close()\n",
    "\n",
    "try:\n",
    "  from google.colab import files\n",
    "except ImportError:\n",
    "  pass\n",
    "else:\n",
    "  files.download('vecs.tsv')\n",
    "  files.download('meta.tsv')"
   ]
  },
  {
   "cell_type": "markdown",
   "metadata": {
    "colab_type": "text",
    "id": "kWqW-CGA-SZ_"
   },
   "source": [
    "## Exercise 3"
   ]
  },
  {
   "cell_type": "markdown",
   "metadata": {
    "colab_type": "text",
    "id": "7ZHtRLBwka1x"
   },
   "source": [
    "How do the structures of these embeddings compare to the 2-dimensional embeddings we visualized earlier? How do the model accuracies compare? What might this suggest about the effect of increasing embedding size?"
   ]
  },
  {
   "cell_type": "markdown",
   "metadata": {
    "colab_type": "text",
    "id": "ecRq1mCfXRIH"
   },
   "source": [
    "### Student Solution"
   ]
  },
  {
   "cell_type": "markdown",
   "metadata": {
    "colab_type": "text",
    "id": "O8l3IWi7-oNr"
   },
   "source": [
    "The strong sentiments words are more closely gathered together while other netural or random words tend to spread more across the dimenstions. \n",
    "\n",
    "The training accurancies is much higher compared to 2-dimensional embeddings. But the validation accurancy appears to overfit after 3 epoches. \n",
    "\n",
    "Increasing embedding size will create more accurate training accurancies but the overfit problem will appear sooner than a smaller accurate embedding size. \n",
    "\n"
   ]
  },
  {
   "cell_type": "markdown",
   "metadata": {
    "colab_type": "text",
    "id": "f3xNZuVGuBlY"
   },
   "source": [
    "## Exercise 4: Beyond word embeddings"
   ]
  },
  {
   "cell_type": "markdown",
   "metadata": {
    "colab_type": "text",
    "id": "gc5Cvirukdeq"
   },
   "source": [
    "The Embedding layer in Keras makes it easy to represent any data that has an index-based lookup. What are some other kinds of data (besides words) that this could be useful for?\n",
    "\n",
    "On the flip side, what are some kinds of data that don't work as well with an index-based lookup? Let's say we still want to achieve the advantages of using embeddings, namely transforming this data into 1) efficient, dense vectors that 2) capture similarities between data. How could we do this?"
   ]
  },
  {
   "cell_type": "markdown",
   "metadata": {
    "colab_type": "text",
    "id": "TPsA5mDGXXkt"
   },
   "source": [
    "### Student Solution"
   ]
  },
  {
   "cell_type": "markdown",
   "metadata": {
    "colab_type": "text",
    "id": "ZvBPczGg67m2"
   },
   "source": [
    "Since it's easy to represent any data that has an index-based lookup, categorical data representation could benefit. \n",
    "\n",
    "Image data don't work as well with an index-based lookup since image will be in pixel array representations. Each index can not represent the image or help with finding correlations.\n",
    "\n",
    "We can label the image according to the objects in the image and only use the labels to the the embeddings instead of the whole image. \n",
    "\n"
   ]
  }
 ],
 "metadata": {
  "accelerator": "GPU",
  "colab": {
   "collapsed_sections": [
    "copyright"
   ],
   "name": "Huize Huang - T08-00 [00] Embeddings [Colab]",
   "private_outputs": true,
   "provenance": [],
   "toc_visible": true,
   "version": "0.3.2"
  },
  "kernelspec": {
   "display_name": "Python 3",
   "language": "python",
   "name": "python3"
  },
  "language_info": {
   "codemirror_mode": {
    "name": "ipython",
    "version": 3
   },
   "file_extension": ".py",
   "mimetype": "text/x-python",
   "name": "python",
   "nbconvert_exporter": "python",
   "pygments_lexer": "ipython3",
   "version": "3.6.8"
  }
 },
 "nbformat": 4,
 "nbformat_minor": 1
}
