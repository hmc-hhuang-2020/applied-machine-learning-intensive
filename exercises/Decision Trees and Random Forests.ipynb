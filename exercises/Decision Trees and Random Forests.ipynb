{
 "cells": [
  {
   "cell_type": "markdown",
   "metadata": {
    "colab_type": "text",
    "id": "copyright"
   },
   "source": [
    "#### Copyright 2019 Google LLC."
   ]
  },
  {
   "cell_type": "code",
   "execution_count": null,
   "metadata": {
    "colab": {},
    "colab_type": "code",
    "id": "oXbDqPstu1RM"
   },
   "outputs": [],
   "source": [
    "# Licensed under the Apache License, Version 2.0 (the \"License\");\n",
    "# you may not use this file except in compliance with the License.\n",
    "# You may obtain a copy of the License at\n",
    "#\n",
    "# https://www.apache.org/licenses/LICENSE-2.0\n",
    "#\n",
    "# Unless required by applicable law or agreed to in writing, software\n",
    "# distributed under the License is distributed on an \"AS IS\" BASIS,\n",
    "# WITHOUT WARRANTIES OR CONDITIONS OF ANY KIND, either express or implied.\n",
    "# See the License for the specific language governing permissions and\n",
    "# limitations under the License."
   ]
  },
  {
   "cell_type": "markdown",
   "metadata": {
    "colab_type": "text",
    "id": "yLFFlvePlEsJ"
   },
   "source": [
    "# Decision Trees and Random Forests"
   ]
  },
  {
   "cell_type": "markdown",
   "metadata": {
    "colab_type": "text",
    "id": "1Qm3o8i5lnAH"
   },
   "source": [
    "Decision Trees and Random Forests are powerful machine learning algorithms capable of performing both classification and regression tasks."
   ]
  },
  {
   "cell_type": "markdown",
   "metadata": {
    "colab_type": "text",
    "id": "48MScyIWrFc2"
   },
   "source": [
    "## Overview"
   ]
  },
  {
   "cell_type": "markdown",
   "metadata": {
    "colab_type": "text",
    "id": "b3qi6IMIrH5h"
   },
   "source": [
    "### Learning Objectives\n",
    "\n",
    "* Create and apply a decision tree algorithm for classification.\n",
    "* Perform ensemble learning using random forests.\n",
    "* Apply limits to depth and split size to reduce overfitting."
   ]
  },
  {
   "cell_type": "markdown",
   "metadata": {
    "colab_type": "text",
    "id": "Tzn_9PbprX5J"
   },
   "source": [
    "### Prerequisites\n",
    "\n",
    "* Introduction to scikit-learn\n",
    "* Classification\n",
    "* Visualizations"
   ]
  },
  {
   "cell_type": "markdown",
   "metadata": {
    "colab_type": "text",
    "id": "-V1QVIBFrjfZ"
   },
   "source": [
    "### Estimated Duration\n",
    "\n",
    "60 minutes"
   ]
  },
  {
   "cell_type": "markdown",
   "metadata": {
    "colab_type": "text",
    "id": "1vsLUvxSroeC"
   },
   "source": [
    "### Grading Criteria\n",
    "\n",
    "Each exercise is worth 3 points. The rubric for calculating those points is:\n",
    "\n",
    "| Points | Description |\n",
    "|--------|-------------|\n",
    "| 0      | No attempt at exercise |\n",
    "| 1      | Attempted exercise, but code does not run |\n",
    "| 2      | Attempted exercise, code runs, but produces incorrect answer |\n",
    "| 3      | Exercise completed successfully |\n",
    "\n",
    "There is 1 exercises in this Colab so there are 3 points available. The grading scale will be 3 points."
   ]
  },
  {
   "cell_type": "markdown",
   "metadata": {
    "colab_type": "text",
    "id": "qlxCUdTql0aW"
   },
   "source": [
    "## Load Data\n",
    "\n",
    "Let's start by loading some data. We'll use the familiar iris dataset from Scikit Learn."
   ]
  },
  {
   "cell_type": "code",
   "execution_count": null,
   "metadata": {
    "colab": {},
    "colab_type": "code",
    "id": "oyP6DVIEjQZL"
   },
   "outputs": [],
   "source": [
    "import pandas as pd\n",
    "\n",
    "from sklearn.datasets import load_iris\n",
    "\n",
    "iris_bunch = load_iris()\n",
    "\n",
    "feature_names = iris_bunch.feature_names\n",
    "target_name = 'species'\n",
    "\n",
    "iris_df = pd.DataFrame(\n",
    "    iris_bunch.data,\n",
    "    columns=feature_names\n",
    ") \n",
    "\n",
    "iris_df[target_name] = iris_bunch.target\n",
    "\n",
    "iris_df.head()"
   ]
  },
  {
   "cell_type": "markdown",
   "metadata": {
    "colab_type": "text",
    "id": "E_ZO5q4xmOMU"
   },
   "source": [
    "## Create a Decision Tree\n",
    "\n",
    "Now that we have the data loaded, we can create a decision tree.\n",
    "\n",
    "Remeber that if this were a real application we'd keep some data to the side for testing."
   ]
  },
  {
   "cell_type": "code",
   "execution_count": null,
   "metadata": {
    "colab": {},
    "colab_type": "code",
    "id": "PjkabO7nkCjt"
   },
   "outputs": [],
   "source": [
    "from sklearn import tree\n",
    "\n",
    "dt = tree.DecisionTreeClassifier()\n",
    "\n",
    "dt.fit(\n",
    "    iris_df[feature_names],\n",
    "    iris_df[target_name]\n",
    ")"
   ]
  },
  {
   "cell_type": "markdown",
   "metadata": {
    "colab_type": "text",
    "id": "K24b3sUdmj17"
   },
   "source": [
    "## Visualize the Tree\n",
    "\n",
    "We now have a decision tree and can use it to make predictions. But before we do that, let's take a look at the tree itself.\n",
    "\n",
    "To do this we create a `StringIO` object that we can export dot-data to. The dot data is a graph description language that what we can plot with Python graphing utilities.\n"
   ]
  },
  {
   "cell_type": "code",
   "execution_count": null,
   "metadata": {
    "colab": {},
    "colab_type": "code",
    "id": "xmPNDQvKkeOd"
   },
   "outputs": [],
   "source": [
    "import pydotplus\n",
    "\n",
    "from IPython.display import Image  \n",
    "from sklearn.externals.six import StringIO  \n",
    "\n",
    "dot_data = StringIO()  \n",
    "\n",
    "tree.export_graphviz(\n",
    "    dt,\n",
    "    out_file=dot_data,  \n",
    "    feature_names=feature_names\n",
    ")  \n",
    "\n",
    "graph = pydotplus.graph_from_dot_data(dot_data.getvalue())  \n",
    "\n",
    "Image(graph.create_png())  "
   ]
  },
  {
   "cell_type": "markdown",
   "metadata": {
    "colab_type": "text",
    "id": "f2ipXFP7n8Xg"
   },
   "source": [
    "That tree looks pretty complex. There is a good chance that we overfit. Let's create the tree again, only this time we'll limit the depth."
   ]
  },
  {
   "cell_type": "code",
   "execution_count": null,
   "metadata": {
    "colab": {},
    "colab_type": "code",
    "id": "WA0lUiePoIuZ"
   },
   "outputs": [],
   "source": [
    "from sklearn import tree\n",
    "\n",
    "dt = tree.DecisionTreeClassifier(max_depth=2)\n",
    "\n",
    "dt.fit(\n",
    "    iris_df[feature_names],\n",
    "    iris_df[target_name]\n",
    ")"
   ]
  },
  {
   "cell_type": "markdown",
   "metadata": {
    "colab_type": "text",
    "id": "LOU_tzOyoO6A"
   },
   "source": [
    "And plot to see what branching was performed."
   ]
  },
  {
   "cell_type": "code",
   "execution_count": null,
   "metadata": {
    "colab": {},
    "colab_type": "code",
    "id": "plW0crKvoSY6"
   },
   "outputs": [],
   "source": [
    "import pydotplus\n",
    "\n",
    "from IPython.display import Image  \n",
    "from sklearn.externals.six import StringIO  \n",
    "\n",
    "dot_data = StringIO()  \n",
    "\n",
    "tree.export_graphviz(\n",
    "    dt,\n",
    "    out_file=dot_data,  \n",
    "    feature_names=feature_names\n",
    ")  \n",
    "\n",
    "graph = pydotplus.graph_from_dot_data(dot_data.getvalue())  \n",
    "\n",
    "Image(graph.create_png())  "
   ]
  },
  {
   "cell_type": "markdown",
   "metadata": {
    "colab_type": "text",
    "id": "67yJDrz9oUo6"
   },
   "source": [
    "This tree seems like likely to be overfitting. Holding out a test sample and performing validation would be a good way to check."
   ]
  },
  {
   "cell_type": "markdown",
   "metadata": {
    "colab_type": "text",
    "id": "_2J1CZ4uohf2"
   },
   "source": [
    "## Create a Random Forest\n",
    "\n",
    "Another way to help prevent overfitting and to create a better overall model is to use a random forest. "
   ]
  },
  {
   "cell_type": "code",
   "execution_count": null,
   "metadata": {
    "colab": {},
    "colab_type": "code",
    "id": "ZH9xJB4ikyfv"
   },
   "outputs": [],
   "source": [
    "from sklearn.ensemble import RandomForestClassifier\n",
    "\n",
    "rf = RandomForestClassifier(n_estimators=10, max_depth=5)\n",
    "rf.fit(\n",
    "    iris_df[feature_names],\n",
    "    iris_df[target_name]\n",
    ")"
   ]
  },
  {
   "cell_type": "markdown",
   "metadata": {
    "colab_type": "text",
    "id": "PIoGwH2Lp2F4"
   },
   "source": [
    "You can look at differnt trees in the random forest to see how their decision braching differs."
   ]
  },
  {
   "cell_type": "code",
   "execution_count": null,
   "metadata": {
    "colab": {},
    "colab_type": "code",
    "id": "XI_DkBXSpKDl"
   },
   "outputs": [],
   "source": [
    "import pydotplus\n",
    "\n",
    "from IPython.display import Image  \n",
    "from sklearn.externals.six import StringIO  \n",
    "\n",
    "dot_data = StringIO()  \n",
    "\n",
    "tree_to_view = 5\n",
    "\n",
    "tree.export_graphviz(\n",
    "    rf.estimators_[tree_to_view],\n",
    "    out_file=dot_data,  \n",
    "    feature_names=feature_names\n",
    ")  \n",
    "\n",
    "graph = pydotplus.graph_from_dot_data(dot_data.getvalue())  \n",
    "\n",
    "Image(graph.create_png())  "
   ]
  },
  {
   "cell_type": "markdown",
   "metadata": {
    "colab_type": "text",
    "id": "i_xl-Et8qjTA"
   },
   "source": [
    "## Make Predictions\n",
    "\n",
    "And now we can make predictions, either with our decision tree or our random forest."
   ]
  },
  {
   "cell_type": "code",
   "execution_count": null,
   "metadata": {
    "colab": {},
    "colab_type": "code",
    "id": "ll4flhAWqA4W"
   },
   "outputs": [],
   "source": [
    "rf.predict([iris_df.iloc[121][feature_names]])"
   ]
  },
  {
   "cell_type": "markdown",
   "metadata": {
    "colab_type": "text",
    "id": "xH5baOS2q0up"
   },
   "source": [
    "# Exercises\n",
    "\n"
   ]
  },
  {
   "cell_type": "markdown",
   "metadata": {
    "colab_type": "text",
    "id": "FLf1S7Hirvyy"
   },
   "source": [
    "## Exercise 1"
   ]
  },
  {
   "cell_type": "markdown",
   "metadata": {
    "colab_type": "text",
    "id": "2lToTdAbJA-M"
   },
   "source": [
    "SciKit Learn also has a [DecisionTreeRegressor](https://scikit-learn.org/stable/modules/generated/sklearn.tree.DecisionTreeRegressor.html) class that can be used to make regression predictions using decision trees. Download data about [suicide rates around the world](https://www.kaggle.com/russellyates88/suicide-rates-overview-1985-to-2016) and build a model to predict those rates.\n",
    "\n",
    "You'll needed to:\n",
    "\n",
    "*   [Download](https://www.kaggle.com/russellyates88/suicide-rates-overview-1985-to-2016) the data\n",
    "*   Load the data in Colab\n",
    "*   Convert the string features into numbers (decision trees like to work in numbers)\n",
    "*   Shuffle the data and split off some for testing.\n",
    "*   Train a model using the training data\n",
    "*   Visualize the tree\n",
    "*   Test the model and find the RMSE\n",
    "\n",
    "If you have time, try adjusting the depth and other parameters of the tree. Also try replacing the decision tree with a [RandomForestRegressor](https://scikit-learn.org/stable/modules/generated/sklearn.ensemble.RandomForestRegressor.html) and see what effect that has on your RMSE."
   ]
  },
  {
   "cell_type": "markdown",
   "metadata": {
    "colab_type": "text",
    "id": "NlOyoIK8r6kc"
   },
   "source": [
    "### Student Solution"
   ]
  },
  {
   "cell_type": "code",
   "execution_count": null,
   "metadata": {
    "colab": {},
    "colab_type": "code",
    "id": "iFekzC8r7z4S"
   },
   "outputs": [],
   "source": [
    "# Load Data\n",
    "import numpy as np \n",
    "import pandas as pd\n",
    "import math\n",
    "import matplotlib\n",
    "import matplotlib.pyplot as plt\n",
    "import seaborn as sns\n",
    "from google.colab import files \n",
    "\n",
    "filename = './master.csv'\n",
    "master =pd.read_csv(filename)\n"
   ]
  },
  {
   "cell_type": "code",
   "execution_count": null,
   "metadata": {
    "colab": {},
    "colab_type": "code",
    "id": "k2Qbf6Ula1Pb"
   },
   "outputs": [],
   "source": [
    "master.dtypes"
   ]
  },
  {
   "cell_type": "code",
   "execution_count": null,
   "metadata": {
    "colab": {},
    "colab_type": "code",
    "id": "UwlT_IBwrYTj"
   },
   "outputs": [],
   "source": [
    "master.columns = master.columns.str.strip().str.replace(\"$\",\"\").str.replace(\"(\",\"\").str.replace(\")\",\"\")"
   ]
  },
  {
   "cell_type": "code",
   "execution_count": null,
   "metadata": {
    "colab": {},
    "colab_type": "code",
    "id": "r7U8K-1srjY_"
   },
   "outputs": [],
   "source": [
    "master.columns"
   ]
  },
  {
   "cell_type": "code",
   "execution_count": null,
   "metadata": {
    "colab": {},
    "colab_type": "code",
    "id": "rtVoRdNWcTUB"
   },
   "outputs": [],
   "source": [
    "# Convert String, catagories to numbers\n",
    "\n",
    "from sklearn import preprocessing\n",
    "le = preprocessing.LabelEncoder()\n",
    "le.fit(master.country)\n",
    "master.country = le.transform(master.country) \n",
    "le.fit(master.sex)\n",
    "master.sex = le.transform(master.sex)\n",
    "le.fit(master.age)\n",
    "master.age = le.transform(master.age)\n",
    "le.fit(master.generation)\n",
    "master.generation = le.transform(master.generation)"
   ]
  },
  {
   "cell_type": "code",
   "execution_count": null,
   "metadata": {
    "colab": {},
    "colab_type": "code",
    "id": "uqBEcUERj07N"
   },
   "outputs": [],
   "source": [
    "master[\"gdp_for_year \"] = master[\"gdp_for_year \"].str.replace(\",\",\"\").astype(int)"
   ]
  },
  {
   "cell_type": "code",
   "execution_count": null,
   "metadata": {
    "colab": {},
    "colab_type": "code",
    "id": "_hjnrQAElT30"
   },
   "outputs": [],
   "source": [
    "master['HDI for year'].fillna(0,inplace = True)"
   ]
  },
  {
   "cell_type": "code",
   "execution_count": null,
   "metadata": {
    "colab": {},
    "colab_type": "code",
    "id": "BEBAbb_9kwjr"
   },
   "outputs": [],
   "source": [
    "# Delete country-year since country and year information are already stored in separete columns\n",
    "del master['country-year']"
   ]
  },
  {
   "cell_type": "code",
   "execution_count": null,
   "metadata": {
    "colab": {},
    "colab_type": "code",
    "id": "6OIvGLAzjGKg"
   },
   "outputs": [],
   "source": [
    "master.columns"
   ]
  },
  {
   "cell_type": "code",
   "execution_count": null,
   "metadata": {
    "colab": {},
    "colab_type": "code",
    "id": "KW0C4v5UjWxi"
   },
   "outputs": [],
   "source": [
    "feature_names=['country', 'year', 'sex', 'age', 'suicides_no', 'population',\n",
    "       'HDI for year', 'gdp_for_year ', 'gdp_per_capita ',\n",
    "       'generation']\n",
    "target_name = \"suicides/100k pop\"\n"
   ]
  },
  {
   "cell_type": "code",
   "execution_count": null,
   "metadata": {
    "colab": {},
    "colab_type": "code",
    "id": "8A_Bw38OgNJa"
   },
   "outputs": [],
   "source": [
    "# Shuffle data and train test split\n",
    "from sklearn.model_selection import train_test_split\n",
    "\n",
    "X_train, X_test, y_train, y_test = train_test_split(\n",
    "     master[feature_names], master[target_name], test_size=0.2, shuffle = True)\n"
   ]
  },
  {
   "cell_type": "code",
   "execution_count": null,
   "metadata": {
    "colab": {},
    "colab_type": "code",
    "id": "cHq8-tUObD_x"
   },
   "outputs": [],
   "source": [
    "# Train tree model using the training data\n",
    "from sklearn import tree\n",
    "# Different depth will construct the model different, don't want to overfit \n",
    "dt = tree.DecisionTreeRegressor(max_depth = 7)\n",
    "\n",
    "dt.fit(\n",
    "    X_train,\n",
    "    y_train\n",
    ")"
   ]
  },
  {
   "cell_type": "code",
   "execution_count": null,
   "metadata": {
    "colab": {},
    "colab_type": "code",
    "id": "UPfu7qnmdILN"
   },
   "outputs": [],
   "source": [
    "# Visualize the tree\n",
    "import pydotplus\n",
    "from IPython.display import Image  \n",
    "from sklearn.externals.six import StringIO  \n",
    "\n",
    "dot_data = StringIO()  \n",
    "\n",
    "tree.export_graphviz(\n",
    "    dt,\n",
    "    out_file=dot_data,  \n",
    "    feature_names=feature_names\n",
    ")  \n",
    "\n",
    "graph = pydotplus.graph_from_dot_data(dot_data.getvalue())  \n",
    "\n",
    "Image(graph.create_png())  "
   ]
  },
  {
   "cell_type": "code",
   "execution_count": null,
   "metadata": {
    "colab": {},
    "colab_type": "code",
    "id": "v-h4F6Plmtcj"
   },
   "outputs": [],
   "source": [
    "# Test the model\n",
    "y_predicted = dt.predict(X_test)"
   ]
  },
  {
   "cell_type": "code",
   "execution_count": null,
   "metadata": {
    "colab": {},
    "colab_type": "code",
    "id": "ORHO0wPAnCkF"
   },
   "outputs": [],
   "source": [
    "# Find the RMSE\n",
    "from sklearn.metrics import mean_squared_error\n",
    "import math \n",
    "rmse = math.sqrt(mean_squared_error(y_test, y_predicted))\n",
    "rmse"
   ]
  }
 ],
 "metadata": {
  "colab": {
   "collapsed_sections": [
    "copyright"
   ],
   "name": "Huize Huang - T05-04 [00] Decision Trees and Random Forests [Colab]",
   "private_outputs": true,
   "provenance": [],
   "toc_visible": true,
   "version": "0.3.2"
  },
  "kernelspec": {
   "display_name": "Python 3",
   "language": "python",
   "name": "python3"
  },
  "language_info": {
   "codemirror_mode": {
    "name": "ipython",
    "version": 3
   },
   "file_extension": ".py",
   "mimetype": "text/x-python",
   "name": "python",
   "nbconvert_exporter": "python",
   "pygments_lexer": "ipython3",
   "version": "3.6.8"
  }
 },
 "nbformat": 4,
 "nbformat_minor": 1
}
