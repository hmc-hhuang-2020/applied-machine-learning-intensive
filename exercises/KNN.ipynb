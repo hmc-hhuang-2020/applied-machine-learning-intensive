{
 "cells": [
  {
   "cell_type": "markdown",
   "metadata": {
    "colab_type": "text",
    "id": "LjFnI22EFDIo"
   },
   "source": [
    "# KNN (K-Nearest-Neighbors)"
   ]
  },
  {
   "cell_type": "markdown",
   "metadata": {
    "colab_type": "text",
    "id": "067gNF7ACXUo"
   },
   "source": [
    "## Outline"
   ]
  },
  {
   "cell_type": "markdown",
   "metadata": {
    "colab_type": "text",
    "id": "uFg1cuBPsdZa"
   },
   "source": [
    "### Learning Objectives\n",
    "\n",
    "* Understand the basic concept of KNN \n",
    "* Use KNN to solve a classification problem"
   ]
  },
  {
   "cell_type": "markdown",
   "metadata": {
    "colab_type": "text",
    "id": "FRQ2wWBlssae"
   },
   "source": [
    "### Prerequisites\n",
    "\n",
    "* Introduction to Colab\n",
    "* Intermediate Python\n",
    "* Introduction to Pandas\n",
    "* Visualizations"
   ]
  },
  {
   "cell_type": "markdown",
   "metadata": {
    "colab_type": "text",
    "id": "fi_QrEMcs3IA"
   },
   "source": [
    "### Estimated Duration\n",
    "\n",
    "60 minutes"
   ]
  },
  {
   "cell_type": "markdown",
   "metadata": {
    "colab_type": "text",
    "id": "_XQ-r3FOs6gc"
   },
   "source": [
    "### Grading Criteria\n",
    "\n",
    "Each exercise is worth 3 points. The rubric for calculating those points is:\n",
    "\n",
    "| Points | Description |\n",
    "|--------|-------------|\n",
    "| 0      | No attempt at exercise |\n",
    "| 1      | Attempted exercise, but code does not run |\n",
    "| 2      | Attempted exercise, code runs, but produces incorrect answer |\n",
    "| 3      | Exercise completed successfully |\n"
   ]
  },
  {
   "cell_type": "markdown",
   "metadata": {
    "colab_type": "text",
    "id": "6DucpmlICqfV"
   },
   "source": [
    "## K-Nearest-Neighbors for Classification\n"
   ]
  },
  {
   "cell_type": "markdown",
   "metadata": {
    "colab_type": "text",
    "id": "ga5usixhOKLG"
   },
   "source": [
    "### Example"
   ]
  },
  {
   "cell_type": "markdown",
   "metadata": {
    "colab_type": "text",
    "id": "vn1krl8WC4kC"
   },
   "source": [
    "KNN is a simple concept: define some distance metric between the items in your dataset, and find the K closest items. You can then use those items to predict some property of a test item, by having them somehow \"vote\" on it."
   ]
  },
  {
   "cell_type": "markdown",
   "metadata": {
    "colab_type": "text",
    "id": "zgl3IeAgEUEr"
   },
   "source": [
    "In this example, we will use KNN to predict whether or not a person will be diagnosed with diabetes. You can download the dataset [here](https://github.com/susanli2016/Machine-Learning-with-Python/blob/master/diabetes.csv). Save it as diabetes.csv and upload the file into the runtime. "
   ]
  },
  {
   "cell_type": "markdown",
   "metadata": {
    "colab_type": "text",
    "id": "D6bdhGQsdF8R"
   },
   "source": []
  },
  {
   "cell_type": "code",
   "execution_count": 1,
   "metadata": {
    "colab": {
     "base_uri": "https://localhost:8080/",
     "height": 224
    },
    "colab_type": "code",
    "executionInfo": {
     "elapsed": 559,
     "status": "ok",
     "timestamp": 1562369999566,
     "user": {
      "displayName": "Shu Cheng",
      "photoUrl": "",
      "userId": "05148031797608167590"
     },
     "user_tz": 420
    },
    "id": "F5-QyBteDws3",
    "outputId": "ff3606c2-c544-44a6-8199-a1025f1d4488"
   },
   "outputs": [
    {
     "data": {
      "text/html": [
       "<div>\n",
       "<style scoped>\n",
       "    .dataframe tbody tr th:only-of-type {\n",
       "        vertical-align: middle;\n",
       "    }\n",
       "\n",
       "    .dataframe tbody tr th {\n",
       "        vertical-align: top;\n",
       "    }\n",
       "\n",
       "    .dataframe thead th {\n",
       "        text-align: right;\n",
       "    }\n",
       "</style>\n",
       "<table border=\"1\" class=\"dataframe\">\n",
       "  <thead>\n",
       "    <tr style=\"text-align: right;\">\n",
       "      <th></th>\n",
       "      <th>Pregnancies</th>\n",
       "      <th>Glucose</th>\n",
       "      <th>BloodPressure</th>\n",
       "      <th>SkinThickness</th>\n",
       "      <th>Insulin</th>\n",
       "      <th>BMI</th>\n",
       "      <th>DiabetesPedigreeFunction</th>\n",
       "      <th>Age</th>\n",
       "      <th>Outcome</th>\n",
       "    </tr>\n",
       "  </thead>\n",
       "  <tbody>\n",
       "    <tr>\n",
       "      <th>0</th>\n",
       "      <td>6</td>\n",
       "      <td>148</td>\n",
       "      <td>72</td>\n",
       "      <td>35</td>\n",
       "      <td>0</td>\n",
       "      <td>33.6</td>\n",
       "      <td>0.627</td>\n",
       "      <td>50</td>\n",
       "      <td>1</td>\n",
       "    </tr>\n",
       "    <tr>\n",
       "      <th>1</th>\n",
       "      <td>1</td>\n",
       "      <td>85</td>\n",
       "      <td>66</td>\n",
       "      <td>29</td>\n",
       "      <td>0</td>\n",
       "      <td>26.6</td>\n",
       "      <td>0.351</td>\n",
       "      <td>31</td>\n",
       "      <td>0</td>\n",
       "    </tr>\n",
       "    <tr>\n",
       "      <th>2</th>\n",
       "      <td>8</td>\n",
       "      <td>183</td>\n",
       "      <td>64</td>\n",
       "      <td>0</td>\n",
       "      <td>0</td>\n",
       "      <td>23.3</td>\n",
       "      <td>0.672</td>\n",
       "      <td>32</td>\n",
       "      <td>1</td>\n",
       "    </tr>\n",
       "    <tr>\n",
       "      <th>3</th>\n",
       "      <td>1</td>\n",
       "      <td>89</td>\n",
       "      <td>66</td>\n",
       "      <td>23</td>\n",
       "      <td>94</td>\n",
       "      <td>28.1</td>\n",
       "      <td>0.167</td>\n",
       "      <td>21</td>\n",
       "      <td>0</td>\n",
       "    </tr>\n",
       "    <tr>\n",
       "      <th>4</th>\n",
       "      <td>0</td>\n",
       "      <td>137</td>\n",
       "      <td>40</td>\n",
       "      <td>35</td>\n",
       "      <td>168</td>\n",
       "      <td>43.1</td>\n",
       "      <td>2.288</td>\n",
       "      <td>33</td>\n",
       "      <td>1</td>\n",
       "    </tr>\n",
       "  </tbody>\n",
       "</table>\n",
       "</div>"
      ],
      "text/plain": [
       "   Pregnancies  Glucose  BloodPressure  SkinThickness  Insulin   BMI  \\\n",
       "0            6      148             72             35        0  33.6   \n",
       "1            1       85             66             29        0  26.6   \n",
       "2            8      183             64              0        0  23.3   \n",
       "3            1       89             66             23       94  28.1   \n",
       "4            0      137             40             35      168  43.1   \n",
       "\n",
       "   DiabetesPedigreeFunction  Age  Outcome  \n",
       "0                     0.627   50        1  \n",
       "1                     0.351   31        0  \n",
       "2                     0.672   32        1  \n",
       "3                     0.167   21        0  \n",
       "4                     2.288   33        1  "
      ]
     },
     "execution_count": 1,
     "metadata": {},
     "output_type": "execute_result"
    }
   ],
   "source": [
    "import pandas as pd \n",
    "\n",
    "diabetes = pd.read_csv('./diabetes.csv')\n",
    "diabetes.head()"
   ]
  },
  {
   "cell_type": "code",
   "execution_count": 2,
   "metadata": {
    "colab": {
     "base_uri": "https://localhost:8080/",
     "height": 34
    },
    "colab_type": "code",
    "executionInfo": {
     "elapsed": 891,
     "status": "ok",
     "timestamp": 1562369999913,
     "user": {
      "displayName": "Shu Cheng",
      "photoUrl": "",
      "userId": "05148031797608167590"
     },
     "user_tz": 420
    },
    "id": "D_ysgP9sEHyv",
    "outputId": "2a751055-3d16-47af-d266-8b6e6b98aeb5"
   },
   "outputs": [
    {
     "name": "stdout",
     "output_type": "stream",
     "text": [
      "dimension of diabetes data: (768, 9)\n"
     ]
    }
   ],
   "source": [
    "print(\"dimension of diabetes data: {}\".format(diabetes.shape))"
   ]
  },
  {
   "cell_type": "code",
   "execution_count": 3,
   "metadata": {
    "colab": {
     "base_uri": "https://localhost:8080/",
     "height": 170
    },
    "colab_type": "code",
    "executionInfo": {
     "elapsed": 873,
     "status": "ok",
     "timestamp": 1562369999916,
     "user": {
      "displayName": "Shu Cheng",
      "photoUrl": "",
      "userId": "05148031797608167590"
     },
     "user_tz": 420
    },
    "id": "xQMsjKviF0Tx",
    "outputId": "5f03535f-a984-4866-8e62-c3137e42d17c"
   },
   "outputs": [
    {
     "data": {
      "text/plain": [
       "['Pregnancies',\n",
       " 'Glucose',\n",
       " 'BloodPressure',\n",
       " 'SkinThickness',\n",
       " 'Insulin',\n",
       " 'BMI',\n",
       " 'DiabetesPedigreeFunction',\n",
       " 'Age',\n",
       " 'Outcome']"
      ]
     },
     "execution_count": 3,
     "metadata": {},
     "output_type": "execute_result"
    }
   ],
   "source": [
    "list(diabetes)"
   ]
  },
  {
   "cell_type": "markdown",
   "metadata": {
    "colab_type": "text",
    "id": "6CB2QMgVEsag"
   },
   "source": [
    "In this example, our features are 'Pregnancies',\n",
    " 'Glucose',\n",
    " 'BloodPressure',\n",
    " 'SkinThickness',\n",
    " 'Insulin',\n",
    " 'BMI',\n",
    " 'DiabetesPedigreeFunction', and \n",
    " 'Age.' Our target is \"Outcome\" which is currently encoded with a 1 for a positive diabetes diagnosis and 0 for a negative diabetes diagnosis. "
   ]
  },
  {
   "cell_type": "code",
   "execution_count": 4,
   "metadata": {
    "colab": {
     "base_uri": "https://localhost:8080/",
     "height": 85
    },
    "colab_type": "code",
    "executionInfo": {
     "elapsed": 856,
     "status": "ok",
     "timestamp": 1562369999917,
     "user": {
      "displayName": "Shu Cheng",
      "photoUrl": "",
      "userId": "05148031797608167590"
     },
     "user_tz": 420
    },
    "id": "F8zDRrH2E1sk",
    "outputId": "75f6940b-c88d-49c0-f507-13bf8dbd2c00"
   },
   "outputs": [
    {
     "name": "stdout",
     "output_type": "stream",
     "text": [
      "Outcome\n",
      "0    500\n",
      "1    268\n",
      "dtype: int64\n"
     ]
    }
   ],
   "source": [
    "print(diabetes.groupby('Outcome').size())"
   ]
  },
  {
   "cell_type": "markdown",
   "metadata": {
    "colab_type": "text",
    "id": "7YYpRLoVG9M0"
   },
   "source": [
    "We notice that there are several 0's in the dataset. These are likely cases where the data simply wasn't collected or stored properly. We need to clean these up or they will have an incorrect affect on the outcome of our KNN."
   ]
  },
  {
   "cell_type": "code",
   "execution_count": 5,
   "metadata": {
    "colab": {},
    "colab_type": "code",
    "id": "ZaKRyuhXHdDT"
   },
   "outputs": [],
   "source": [
    "import numpy as np\n",
    "no_zero = ['Glucose', 'BloodPressure', 'SkinThickness', 'Insulin', 'BMI']\n",
    "\n",
    "for column in no_zero:\n",
    "  diabetes[column] = diabetes[column].replace(0,np.NaN)\n",
    "  mean = int(diabetes[column].mean(skipna=True))\n",
    "  diabetes[column] = diabetes[column].replace(np.NaN, mean)"
   ]
  },
  {
   "cell_type": "markdown",
   "metadata": {
    "colab_type": "text",
    "id": "yP_5N-vVFwcZ"
   },
   "source": [
    "We create a training and testing sets, remembering to separate 'Outcome' as our target value y. "
   ]
  },
  {
   "cell_type": "code",
   "execution_count": 6,
   "metadata": {
    "colab": {},
    "colab_type": "code",
    "id": "8sxRClkUI_80"
   },
   "outputs": [],
   "source": [
    "from sklearn.model_selection import train_test_split\n",
    "\n",
    "X = diabetes.iloc[:,0:8]\n",
    "y = diabetes.iloc[:,8]\n",
    "X_train, X_test, y_train, y_test = train_test_split(X, y, test_size = 0.2)"
   ]
  },
  {
   "cell_type": "markdown",
   "metadata": {
    "colab_type": "text",
    "id": "wNmQ-WJSG8U1"
   },
   "source": [
    "Now we scale our features using StandardScaler. "
   ]
  },
  {
   "cell_type": "code",
   "execution_count": 7,
   "metadata": {
    "colab": {},
    "colab_type": "code",
    "id": "kUweJhpqJ7-J"
   },
   "outputs": [],
   "source": [
    "from sklearn.preprocessing import StandardScaler\n",
    "\n",
    "sc_X = StandardScaler()\n",
    "X_train = sc_X.fit_transform(X_train)\n",
    "X_test= sc_X.transform(X_test)"
   ]
  },
  {
   "cell_type": "markdown",
   "metadata": {
    "colab_type": "text",
    "id": "wzS68VfgKzs4"
   },
   "source": [
    "Finally, we use the SciKit Learn KNN model. "
   ]
  },
  {
   "cell_type": "code",
   "execution_count": 8,
   "metadata": {
    "colab": {},
    "colab_type": "code",
    "id": "STqlJ4B6Kuzk"
   },
   "outputs": [],
   "source": [
    "from sklearn.neighbors import KNeighborsClassifier\n",
    "\n",
    "n_neighbors = 14\n",
    "\n",
    "KNN = KNeighborsClassifier(n_neighbors = n_neighbors, p=2, metric = 'euclidean')\n",
    "KNN.fit(X_train, y_train)\n",
    "\n",
    "y_pred = KNN.predict(X_test)"
   ]
  },
  {
   "cell_type": "markdown",
   "metadata": {
    "colab_type": "text",
    "id": "3JFuPHd0MlSo"
   },
   "source": [
    "We now evaluate our model. First let's look at the confusion matrix. "
   ]
  },
  {
   "cell_type": "code",
   "execution_count": 9,
   "metadata": {
    "colab": {
     "base_uri": "https://localhost:8080/",
     "height": 85
    },
    "colab_type": "code",
    "executionInfo": {
     "elapsed": 1245,
     "status": "ok",
     "timestamp": 1562370000324,
     "user": {
      "displayName": "Shu Cheng",
      "photoUrl": "",
      "userId": "05148031797608167590"
     },
     "user_tz": 420
    },
    "id": "W6WbuXywMsT5",
    "outputId": "7ccc1be1-788d-42ff-8862-047cab0e6057"
   },
   "outputs": [
    {
     "name": "stdout",
     "output_type": "stream",
     "text": [
      "The confusion matrix is [[80 17]\n",
      " [23 34]]\n",
      "The f1 score is 0.6296296296296297\n",
      "The accuracy score is 0.7402597402597403\n"
     ]
    }
   ],
   "source": [
    "from sklearn.metrics import confusion_matrix\n",
    "from sklearn.metrics import f1_score\n",
    "from sklearn.metrics import accuracy_score\n",
    "\n",
    "cm = confusion_matrix(y_test,y_pred)\n",
    "f1 = f1_score(y_test,y_pred)\n",
    "accuracy = accuracy_score(y_test,y_pred)\n",
    "\n",
    "\n",
    "print('The confusion matrix is', cm)\n",
    "print('The f1 score is', f1)\n",
    "print('The accuracy score is', accuracy)\n",
    "\n"
   ]
  },
  {
   "cell_type": "markdown",
   "metadata": {
    "colab_type": "text",
    "id": "JDQEcMhtOM6U"
   },
   "source": [
    "### Exercise 1\n"
   ]
  },
  {
   "cell_type": "markdown",
   "metadata": {
    "colab_type": "text",
    "id": "85PL36PnOx0V"
   },
   "source": [
    "Our choice of 14 for the number of neighbors was arbitrary - what effect do different values have on the results? Run some tests and explain what you find. "
   ]
  },
  {
   "cell_type": "markdown",
   "metadata": {
    "colab_type": "text",
    "id": "snxrfDurPX2V"
   },
   "source": [
    "ANSWER = given different number of neighbors, the KNN classifier performance varies. 14 seems to be the one that gives best accuracy score is 0.8181818181818182. However, by setting n_neighbors to 15, f1 score is higher. Too few neighbors will cause overfitting, too many neighbors will cause underfitting. \n"
   ]
  },
  {
   "cell_type": "code",
   "execution_count": 10,
   "metadata": {
    "colab": {
     "base_uri": "https://localhost:8080/",
     "height": 1000
    },
    "colab_type": "code",
    "executionInfo": {
     "elapsed": 1715,
     "status": "ok",
     "timestamp": 1562370000797,
     "user": {
      "displayName": "Shu Cheng",
      "photoUrl": "",
      "userId": "05148031797608167590"
     },
     "user_tz": 420
    },
    "id": "T-g_n6q2rhvW",
    "outputId": "f0d4d640-b932-4629-ad50-8f24c1f7763a"
   },
   "outputs": [
    {
     "name": "stdout",
     "output_type": "stream",
     "text": [
      "The n_neighbours is 1\n",
      "The confusion matrix is [[65 32]\n",
      " [17 40]]\n",
      "The f1 score is 0.6201550387596899\n",
      "The accuracy score is 0.6818181818181818\n",
      "The n_neighbours is 2\n",
      "The confusion matrix is [[84 13]\n",
      " [30 27]]\n",
      "The f1 score is 0.5567010309278351\n",
      "The accuracy score is 0.7207792207792207\n",
      "The n_neighbours is 3\n",
      "The confusion matrix is [[72 25]\n",
      " [19 38]]\n",
      "The f1 score is 0.6333333333333333\n",
      "The accuracy score is 0.7142857142857143\n",
      "The n_neighbours is 4\n",
      "The confusion matrix is [[82 15]\n",
      " [26 31]]\n",
      "The f1 score is 0.6019417475728156\n",
      "The accuracy score is 0.7337662337662337\n",
      "The n_neighbours is 5\n",
      "The confusion matrix is [[78 19]\n",
      " [19 38]]\n",
      "The f1 score is 0.6666666666666666\n",
      "The accuracy score is 0.7532467532467533\n",
      "The n_neighbours is 6\n",
      "The confusion matrix is [[81 16]\n",
      " [27 30]]\n",
      "The f1 score is 0.5825242718446602\n",
      "The accuracy score is 0.7207792207792207\n",
      "The n_neighbours is 7\n",
      "The confusion matrix is [[74 23]\n",
      " [21 36]]\n",
      "The f1 score is 0.6206896551724138\n",
      "The accuracy score is 0.7142857142857143\n",
      "The n_neighbours is 8\n",
      "The confusion matrix is [[78 19]\n",
      " [23 34]]\n",
      "The f1 score is 0.6181818181818182\n",
      "The accuracy score is 0.7272727272727273\n",
      "The n_neighbours is 9\n",
      "The confusion matrix is [[74 23]\n",
      " [19 38]]\n",
      "The f1 score is 0.6440677966101694\n",
      "The accuracy score is 0.7272727272727273\n",
      "The n_neighbours is 10\n",
      "The confusion matrix is [[80 17]\n",
      " [25 32]]\n",
      "The f1 score is 0.6037735849056605\n",
      "The accuracy score is 0.7272727272727273\n",
      "The n_neighbours is 11\n",
      "The confusion matrix is [[74 23]\n",
      " [22 35]]\n",
      "The f1 score is 0.608695652173913\n",
      "The accuracy score is 0.7077922077922078\n",
      "The n_neighbours is 12\n",
      "The confusion matrix is [[80 17]\n",
      " [24 33]]\n",
      "The f1 score is 0.616822429906542\n",
      "The accuracy score is 0.7337662337662337\n",
      "The n_neighbours is 13\n",
      "The confusion matrix is [[76 21]\n",
      " [20 37]]\n",
      "The f1 score is 0.6434782608695653\n",
      "The accuracy score is 0.7337662337662337\n",
      "The n_neighbours is 14\n",
      "The confusion matrix is [[80 17]\n",
      " [23 34]]\n",
      "The f1 score is 0.6296296296296297\n",
      "The accuracy score is 0.7402597402597403\n",
      "The n_neighbours is 15\n",
      "The confusion matrix is [[76 21]\n",
      " [19 38]]\n",
      "The f1 score is 0.6551724137931034\n",
      "The accuracy score is 0.7402597402597403\n",
      "The n_neighbours is 16\n",
      "The confusion matrix is [[79 18]\n",
      " [25 32]]\n",
      "The f1 score is 0.5981308411214953\n",
      "The accuracy score is 0.7207792207792207\n",
      "The n_neighbours is 17\n",
      "The confusion matrix is [[78 19]\n",
      " [21 36]]\n",
      "The f1 score is 0.6428571428571428\n",
      "The accuracy score is 0.7402597402597403\n",
      "The n_neighbours is 18\n",
      "The confusion matrix is [[82 15]\n",
      " [24 33]]\n",
      "The f1 score is 0.6285714285714286\n",
      "The accuracy score is 0.7467532467532467\n",
      "The n_neighbours is 19\n",
      "The confusion matrix is [[79 18]\n",
      " [21 36]]\n",
      "The f1 score is 0.6486486486486486\n",
      "The accuracy score is 0.7467532467532467\n",
      "The n_neighbours is 20\n",
      "The confusion matrix is [[84 13]\n",
      " [22 35]]\n",
      "The f1 score is 0.6666666666666667\n",
      "The accuracy score is 0.7727272727272727\n",
      "The n_neighbours is 21\n",
      "The confusion matrix is [[82 15]\n",
      " [21 36]]\n",
      "The f1 score is 0.6666666666666667\n",
      "The accuracy score is 0.7662337662337663\n",
      "The n_neighbours is 22\n",
      "The confusion matrix is [[83 14]\n",
      " [23 34]]\n",
      "The f1 score is 0.6476190476190476\n",
      "The accuracy score is 0.7597402597402597\n",
      "The n_neighbours is 23\n",
      "The confusion matrix is [[79 18]\n",
      " [21 36]]\n",
      "The f1 score is 0.6486486486486486\n",
      "The accuracy score is 0.7467532467532467\n",
      "The n_neighbours is 24\n",
      "The confusion matrix is [[79 18]\n",
      " [24 33]]\n",
      "The f1 score is 0.6111111111111113\n",
      "The accuracy score is 0.7272727272727273\n",
      "The n_neighbours is 25\n",
      "The confusion matrix is [[78 19]\n",
      " [23 34]]\n",
      "The f1 score is 0.6181818181818182\n",
      "The accuracy score is 0.7272727272727273\n",
      "The n_neighbours is 26\n",
      "The confusion matrix is [[80 17]\n",
      " [24 33]]\n",
      "The f1 score is 0.616822429906542\n",
      "The accuracy score is 0.7337662337662337\n",
      "The n_neighbours is 27\n",
      "The confusion matrix is [[80 17]\n",
      " [23 34]]\n",
      "The f1 score is 0.6296296296296297\n",
      "The accuracy score is 0.7402597402597403\n",
      "The n_neighbours is 28\n",
      "The confusion matrix is [[83 14]\n",
      " [25 32]]\n",
      "The f1 score is 0.6213592233009708\n",
      "The accuracy score is 0.7467532467532467\n",
      "The n_neighbours is 29\n",
      "The confusion matrix is [[81 16]\n",
      " [21 36]]\n",
      "The f1 score is 0.6605504587155963\n",
      "The accuracy score is 0.7597402597402597\n",
      "The n_neighbours is 30\n",
      "The confusion matrix is [[83 14]\n",
      " [27 30]]\n",
      "The f1 score is 0.594059405940594\n",
      "The accuracy score is 0.7337662337662337\n",
      "The n_neighbours is 31\n",
      "The confusion matrix is [[83 14]\n",
      " [25 32]]\n",
      "The f1 score is 0.6213592233009708\n",
      "The accuracy score is 0.7467532467532467\n",
      "The n_neighbours is 32\n",
      "The confusion matrix is [[83 14]\n",
      " [27 30]]\n",
      "The f1 score is 0.594059405940594\n",
      "The accuracy score is 0.7337662337662337\n",
      "The n_neighbours is 33\n",
      "The confusion matrix is [[82 15]\n",
      " [22 35]]\n",
      "The f1 score is 0.6542056074766356\n",
      "The accuracy score is 0.7597402597402597\n",
      "The n_neighbours is 34\n",
      "The confusion matrix is [[84 13]\n",
      " [25 32]]\n",
      "The f1 score is 0.6274509803921567\n",
      "The accuracy score is 0.7532467532467533\n",
      "The n_neighbours is 35\n",
      "The confusion matrix is [[82 15]\n",
      " [21 36]]\n",
      "The f1 score is 0.6666666666666667\n",
      "The accuracy score is 0.7662337662337663\n",
      "The n_neighbours is 36\n",
      "The confusion matrix is [[82 15]\n",
      " [27 30]]\n",
      "The f1 score is 0.5882352941176471\n",
      "The accuracy score is 0.7272727272727273\n",
      "The n_neighbours is 37\n",
      "The confusion matrix is [[81 16]\n",
      " [26 31]]\n",
      "The f1 score is 0.5961538461538461\n",
      "The accuracy score is 0.7272727272727273\n",
      "The n_neighbours is 38\n",
      "The confusion matrix is [[82 15]\n",
      " [29 28]]\n",
      "The f1 score is 0.5599999999999999\n",
      "The accuracy score is 0.7142857142857143\n",
      "The n_neighbours is 39\n",
      "The confusion matrix is [[82 15]\n",
      " [28 29]]\n",
      "The f1 score is 0.5742574257425743\n",
      "The accuracy score is 0.7207792207792207\n",
      "The n_neighbours is 40\n",
      "The confusion matrix is [[82 15]\n",
      " [29 28]]\n",
      "The f1 score is 0.5599999999999999\n",
      "The accuracy score is 0.7142857142857143\n"
     ]
    }
   ],
   "source": [
    "from sklearn.neighbors import KNeighborsClassifier\n",
    "\n",
    "n_neighbors = 41\n",
    "\n",
    "for i in range(1,n_neighbors):\n",
    "  KNN = KNeighborsClassifier(n_neighbors = i, p=2, metric = 'euclidean')\n",
    "  KNN.fit(X_train, y_train)\n",
    "\n",
    "  y_pred = KNN.predict(X_test)\n",
    "\n",
    "  cm = confusion_matrix(y_test,y_pred)\n",
    "  f1 = f1_score(y_test,y_pred)\n",
    "  accuracy = accuracy_score(y_test,y_pred)\n",
    "\n",
    "  print('The n_neighbours is', i)\n",
    "  print('The confusion matrix is', cm)\n",
    "  print('The f1 score is', f1)\n",
    "  print('The accuracy score is', accuracy)\n"
   ]
  },
  {
   "cell_type": "markdown",
   "metadata": {
    "colab_type": "text",
    "id": "0gyUkT3zPh6d"
   },
   "source": [
    "### Exercise 2\n"
   ]
  },
  {
   "cell_type": "markdown",
   "metadata": {
    "colab_type": "text",
    "id": "nSo6AfjZPraU"
   },
   "source": [
    "Create a plot of accuracy vs. n_neighbors (i.e. accuracy on the y-axis and n_neighbors on the x-axis). Let the number of neighbors (x-axis) range from 1 to 20.  Your plot should contain two lines. The first line should plot the model's training accuracy and the second line should show the model's testing accuracy. "
   ]
  },
  {
   "cell_type": "code",
   "execution_count": 11,
   "metadata": {
    "colab": {
     "base_uri": "https://localhost:8080/",
     "height": 284
    },
    "colab_type": "code",
    "executionInfo": {
     "elapsed": 2906,
     "status": "ok",
     "timestamp": 1562370001999,
     "user": {
      "displayName": "Shu Cheng",
      "photoUrl": "",
      "userId": "05148031797608167590"
     },
     "user_tz": 420
    },
    "id": "t2YOgV7NQATA",
    "outputId": "6491c672-be8e-41e2-fa61-e03278b0abb8"
   },
   "outputs": [
    {
     "data": {
      "text/plain": [
       "<Figure size 640x480 with 1 Axes>"
      ]
     },
     "metadata": {},
     "output_type": "display_data"
    }
   ],
   "source": [
    "## your code here \n",
    "import matplotlib.pyplot as plt\n",
    "n_neighbors = 21\n",
    "accuracys_train = []\n",
    "accuracys_test = []\n",
    "for i in range(1,n_neighbors):\n",
    "  KNN = KNeighborsClassifier(n_neighbors = i, p=2, metric = 'euclidean')\n",
    "  KNN.fit(X_train, y_train)\n",
    "  y_pred_train = KNN.predict(X_train)\n",
    "  y_pred_test = KNN.predict(X_test)\n",
    "\n",
    "  accuracys_train.append(accuracy_score(y_train,y_pred_train))\n",
    "  accuracys_test.append(accuracy_score(y_test,y_pred_test))\n",
    "\n",
    "n_neighbors = [x for x in range(1,21)]\n",
    "\n",
    "plt.ylabel('Accuracy')\n",
    "plt.xlabel('n_neighbors')\n",
    "plt.xticks(np.arange(1, 21, step=1))\n",
    "plt.plot(n_neighbors,accuracys_train,'b-',label = 'Train')\n",
    "plt.plot(n_neighbors,accuracys_test,'r-',label = 'Test')\n",
    "plt.show()"
   ]
  },
  {
   "cell_type": "markdown",
   "metadata": {
    "colab_type": "text",
    "id": "a89atWiVOWGQ"
   },
   "source": [
    "## K-Nearest-Neighors for Regression"
   ]
  },
  {
   "cell_type": "markdown",
   "metadata": {
    "colab_type": "text",
    "id": "0FHgMbFzOZ0S"
   },
   "source": [
    "We can also use KNN for regression. In this example, we also define our own distance metric (as Euclidean distance is not well defined for these data) and write our own KNN function. "
   ]
  },
  {
   "cell_type": "markdown",
   "metadata": {
    "colab_type": "text",
    "id": "NDXgoCAXxExG"
   },
   "source": [
    "### Example\n",
    "\n",
    "As an example, let's look at the MovieLens data which you can download [here](http://media.sundog-soft.com/RecSys/ml-latest-small.zip). Upload the ratings.csv and movies.csv files. \n",
    "\n",
    "We'll use KNN to guess the rating of a movie by looking at the 10 movies that are closest to it in terms of genres and popularity.\n",
    "\n",
    "To start, we'll load up every rating in the data set into a Pandas DataFrame:"
   ]
  },
  {
   "cell_type": "code",
   "execution_count": 13,
   "metadata": {
    "colab": {
     "base_uri": "https://localhost:8080/",
     "height": 204
    },
    "colab_type": "code",
    "executionInfo": {
     "elapsed": 2893,
     "status": "ok",
     "timestamp": 1562370002001,
     "user": {
      "displayName": "Shu Cheng",
      "photoUrl": "",
      "userId": "05148031797608167590"
     },
     "user_tz": 420
    },
    "id": "fxzo6I1RFDIq",
    "outputId": "52e081aa-5ca0-45fc-f663-82c9779a1eb5"
   },
   "outputs": [
    {
     "data": {
      "text/html": [
       "<div>\n",
       "<style scoped>\n",
       "    .dataframe tbody tr th:only-of-type {\n",
       "        vertical-align: middle;\n",
       "    }\n",
       "\n",
       "    .dataframe tbody tr th {\n",
       "        vertical-align: top;\n",
       "    }\n",
       "\n",
       "    .dataframe thead th {\n",
       "        text-align: right;\n",
       "    }\n",
       "</style>\n",
       "<table border=\"1\" class=\"dataframe\">\n",
       "  <thead>\n",
       "    <tr style=\"text-align: right;\">\n",
       "      <th></th>\n",
       "      <th>userId</th>\n",
       "      <th>movieId</th>\n",
       "      <th>rating</th>\n",
       "      <th>timestamp</th>\n",
       "    </tr>\n",
       "  </thead>\n",
       "  <tbody>\n",
       "    <tr>\n",
       "      <th>0</th>\n",
       "      <td>1</td>\n",
       "      <td>31</td>\n",
       "      <td>2.5</td>\n",
       "      <td>1260759144</td>\n",
       "    </tr>\n",
       "    <tr>\n",
       "      <th>1</th>\n",
       "      <td>1</td>\n",
       "      <td>1029</td>\n",
       "      <td>3.0</td>\n",
       "      <td>1260759179</td>\n",
       "    </tr>\n",
       "    <tr>\n",
       "      <th>2</th>\n",
       "      <td>1</td>\n",
       "      <td>1061</td>\n",
       "      <td>3.0</td>\n",
       "      <td>1260759182</td>\n",
       "    </tr>\n",
       "    <tr>\n",
       "      <th>3</th>\n",
       "      <td>1</td>\n",
       "      <td>1129</td>\n",
       "      <td>2.0</td>\n",
       "      <td>1260759185</td>\n",
       "    </tr>\n",
       "    <tr>\n",
       "      <th>4</th>\n",
       "      <td>1</td>\n",
       "      <td>1172</td>\n",
       "      <td>4.0</td>\n",
       "      <td>1260759205</td>\n",
       "    </tr>\n",
       "  </tbody>\n",
       "</table>\n",
       "</div>"
      ],
      "text/plain": [
       "   userId  movieId  rating   timestamp\n",
       "0       1       31     2.5  1260759144\n",
       "1       1     1029     3.0  1260759179\n",
       "2       1     1061     3.0  1260759182\n",
       "3       1     1129     2.0  1260759185\n",
       "4       1     1172     4.0  1260759205"
      ]
     },
     "execution_count": 13,
     "metadata": {},
     "output_type": "execute_result"
    }
   ],
   "source": [
    "import pandas as pd\n",
    "\n",
    "\n",
    "ratings = pd.read_csv('./ratings.csv')\n",
    "ratings.head()\n",
    "\n"
   ]
  },
  {
   "cell_type": "markdown",
   "metadata": {
    "colab_type": "text",
    "id": "vaMWVgAuFDIw"
   },
   "source": [
    "Now, we'll group everything by movie ID, and compute the total number of ratings (each movie's popularity) and the average rating for every movie."
   ]
  },
  {
   "cell_type": "code",
   "execution_count": 14,
   "metadata": {
    "colab": {
     "base_uri": "https://localhost:8080/",
     "height": 266
    },
    "colab_type": "code",
    "executionInfo": {
     "elapsed": 2884,
     "status": "ok",
     "timestamp": 1562370002003,
     "user": {
      "displayName": "Shu Cheng",
      "photoUrl": "",
      "userId": "05148031797608167590"
     },
     "user_tz": 420
    },
    "id": "_ez_3B3lFDIx",
    "outputId": "7b279830-ec92-4f90-ea8c-d3a443f970f3"
   },
   "outputs": [
    {
     "data": {
      "text/html": [
       "<div>\n",
       "<style scoped>\n",
       "    .dataframe tbody tr th:only-of-type {\n",
       "        vertical-align: middle;\n",
       "    }\n",
       "\n",
       "    .dataframe tbody tr th {\n",
       "        vertical-align: top;\n",
       "    }\n",
       "\n",
       "    .dataframe thead tr th {\n",
       "        text-align: left;\n",
       "    }\n",
       "\n",
       "    .dataframe thead tr:last-of-type th {\n",
       "        text-align: right;\n",
       "    }\n",
       "</style>\n",
       "<table border=\"1\" class=\"dataframe\">\n",
       "  <thead>\n",
       "    <tr>\n",
       "      <th></th>\n",
       "      <th colspan=\"2\" halign=\"left\">rating</th>\n",
       "    </tr>\n",
       "    <tr>\n",
       "      <th></th>\n",
       "      <th>size</th>\n",
       "      <th>mean</th>\n",
       "    </tr>\n",
       "    <tr>\n",
       "      <th>movieId</th>\n",
       "      <th></th>\n",
       "      <th></th>\n",
       "    </tr>\n",
       "  </thead>\n",
       "  <tbody>\n",
       "    <tr>\n",
       "      <th>1</th>\n",
       "      <td>247.0</td>\n",
       "      <td>3.872470</td>\n",
       "    </tr>\n",
       "    <tr>\n",
       "      <th>2</th>\n",
       "      <td>107.0</td>\n",
       "      <td>3.401869</td>\n",
       "    </tr>\n",
       "    <tr>\n",
       "      <th>3</th>\n",
       "      <td>59.0</td>\n",
       "      <td>3.161017</td>\n",
       "    </tr>\n",
       "    <tr>\n",
       "      <th>4</th>\n",
       "      <td>13.0</td>\n",
       "      <td>2.384615</td>\n",
       "    </tr>\n",
       "    <tr>\n",
       "      <th>5</th>\n",
       "      <td>56.0</td>\n",
       "      <td>3.267857</td>\n",
       "    </tr>\n",
       "  </tbody>\n",
       "</table>\n",
       "</div>"
      ],
      "text/plain": [
       "        rating          \n",
       "          size      mean\n",
       "movieId                 \n",
       "1        247.0  3.872470\n",
       "2        107.0  3.401869\n",
       "3         59.0  3.161017\n",
       "4         13.0  2.384615\n",
       "5         56.0  3.267857"
      ]
     },
     "execution_count": 14,
     "metadata": {},
     "output_type": "execute_result"
    }
   ],
   "source": [
    "import numpy as np\n",
    "\n",
    "movieProperties = ratings.groupby('movieId').agg({'rating': [np.size, np.mean]})\n",
    "movieProperties.head()"
   ]
  },
  {
   "cell_type": "markdown",
   "metadata": {
    "colab_type": "text",
    "id": "uDe77nJjFDI1"
   },
   "source": [
    "The raw number of ratings isn't very useful for computing distances between movies, so we'll create a new DataFrame that contains the normalized number of ratings. So, a value of 0 means nobody rated it, and a value of 1 will mean it's the most popular movie there is."
   ]
  },
  {
   "cell_type": "code",
   "execution_count": 15,
   "metadata": {
    "colab": {
     "base_uri": "https://localhost:8080/",
     "height": 235
    },
    "colab_type": "code",
    "executionInfo": {
     "elapsed": 3108,
     "status": "ok",
     "timestamp": 1562370002238,
     "user": {
      "displayName": "Shu Cheng",
      "photoUrl": "",
      "userId": "05148031797608167590"
     },
     "user_tz": 420
    },
    "id": "W1IsBi8gFDI2",
    "outputId": "f60f8e9f-b718-4d3f-a84e-13cc7860532d"
   },
   "outputs": [
    {
     "data": {
      "text/html": [
       "<div>\n",
       "<style scoped>\n",
       "    .dataframe tbody tr th:only-of-type {\n",
       "        vertical-align: middle;\n",
       "    }\n",
       "\n",
       "    .dataframe tbody tr th {\n",
       "        vertical-align: top;\n",
       "    }\n",
       "\n",
       "    .dataframe thead th {\n",
       "        text-align: right;\n",
       "    }\n",
       "</style>\n",
       "<table border=\"1\" class=\"dataframe\">\n",
       "  <thead>\n",
       "    <tr style=\"text-align: right;\">\n",
       "      <th></th>\n",
       "      <th>size</th>\n",
       "    </tr>\n",
       "    <tr>\n",
       "      <th>movieId</th>\n",
       "      <th></th>\n",
       "    </tr>\n",
       "  </thead>\n",
       "  <tbody>\n",
       "    <tr>\n",
       "      <th>1</th>\n",
       "      <td>0.723529</td>\n",
       "    </tr>\n",
       "    <tr>\n",
       "      <th>2</th>\n",
       "      <td>0.311765</td>\n",
       "    </tr>\n",
       "    <tr>\n",
       "      <th>3</th>\n",
       "      <td>0.170588</td>\n",
       "    </tr>\n",
       "    <tr>\n",
       "      <th>4</th>\n",
       "      <td>0.035294</td>\n",
       "    </tr>\n",
       "    <tr>\n",
       "      <th>5</th>\n",
       "      <td>0.161765</td>\n",
       "    </tr>\n",
       "  </tbody>\n",
       "</table>\n",
       "</div>"
      ],
      "text/plain": [
       "             size\n",
       "movieId          \n",
       "1        0.723529\n",
       "2        0.311765\n",
       "3        0.170588\n",
       "4        0.035294\n",
       "5        0.161765"
      ]
     },
     "execution_count": 15,
     "metadata": {},
     "output_type": "execute_result"
    }
   ],
   "source": [
    "movieNumRatings = pd.DataFrame(movieProperties['rating']['size'])\n",
    "movieNormalizedNumRatings = movieNumRatings.apply(lambda x: (x - np.min(x)) / (np.max(x) - np.min(x)))\n",
    "movieNormalizedNumRatings.head()"
   ]
  },
  {
   "cell_type": "markdown",
   "metadata": {
    "colab_type": "text",
    "id": "Mgy7PuTYFDI5"
   },
   "source": [
    "Now, let's get the genre information from the movies.csv file. In the genres column, we see the list of genres for each movie separated by a '|'. Note that a movie may have more than one genre. \n",
    "\n",
    "First we read the file into a DataFrame. "
   ]
  },
  {
   "cell_type": "code",
   "execution_count": 17,
   "metadata": {
    "colab": {
     "base_uri": "https://localhost:8080/",
     "height": 204
    },
    "colab_type": "code",
    "executionInfo": {
     "elapsed": 3351,
     "status": "ok",
     "timestamp": 1562370002495,
     "user": {
      "displayName": "Shu Cheng",
      "photoUrl": "",
      "userId": "05148031797608167590"
     },
     "user_tz": 420
    },
    "id": "e0Il1YUZCu5N",
    "outputId": "72a58de2-e96d-4f68-f065-cd4835a97ef3"
   },
   "outputs": [
    {
     "data": {
      "text/html": [
       "<div>\n",
       "<style scoped>\n",
       "    .dataframe tbody tr th:only-of-type {\n",
       "        vertical-align: middle;\n",
       "    }\n",
       "\n",
       "    .dataframe tbody tr th {\n",
       "        vertical-align: top;\n",
       "    }\n",
       "\n",
       "    .dataframe thead th {\n",
       "        text-align: right;\n",
       "    }\n",
       "</style>\n",
       "<table border=\"1\" class=\"dataframe\">\n",
       "  <thead>\n",
       "    <tr style=\"text-align: right;\">\n",
       "      <th></th>\n",
       "      <th>movieId</th>\n",
       "      <th>title</th>\n",
       "      <th>genres</th>\n",
       "    </tr>\n",
       "  </thead>\n",
       "  <tbody>\n",
       "    <tr>\n",
       "      <th>0</th>\n",
       "      <td>1</td>\n",
       "      <td>Toy Story (1995)</td>\n",
       "      <td>Adventure|Animation|Children|Comedy|Fantasy</td>\n",
       "    </tr>\n",
       "    <tr>\n",
       "      <th>1</th>\n",
       "      <td>2</td>\n",
       "      <td>Jumanji (1995)</td>\n",
       "      <td>Adventure|Children|Fantasy</td>\n",
       "    </tr>\n",
       "    <tr>\n",
       "      <th>2</th>\n",
       "      <td>3</td>\n",
       "      <td>Grumpier Old Men (1995)</td>\n",
       "      <td>Comedy|Romance</td>\n",
       "    </tr>\n",
       "    <tr>\n",
       "      <th>3</th>\n",
       "      <td>4</td>\n",
       "      <td>Waiting to Exhale (1995)</td>\n",
       "      <td>Comedy|Drama|Romance</td>\n",
       "    </tr>\n",
       "    <tr>\n",
       "      <th>4</th>\n",
       "      <td>5</td>\n",
       "      <td>Father of the Bride Part II (1995)</td>\n",
       "      <td>Comedy</td>\n",
       "    </tr>\n",
       "  </tbody>\n",
       "</table>\n",
       "</div>"
      ],
      "text/plain": [
       "   movieId                               title  \\\n",
       "0        1                    Toy Story (1995)   \n",
       "1        2                      Jumanji (1995)   \n",
       "2        3             Grumpier Old Men (1995)   \n",
       "3        4            Waiting to Exhale (1995)   \n",
       "4        5  Father of the Bride Part II (1995)   \n",
       "\n",
       "                                        genres  \n",
       "0  Adventure|Animation|Children|Comedy|Fantasy  \n",
       "1                   Adventure|Children|Fantasy  \n",
       "2                               Comedy|Romance  \n",
       "3                         Comedy|Drama|Romance  \n",
       "4                                       Comedy  "
      ]
     },
     "execution_count": 17,
     "metadata": {},
     "output_type": "execute_result"
    }
   ],
   "source": [
    "movies = pd.read_csv('./movies.csv')\n",
    "movies.head()"
   ]
  },
  {
   "cell_type": "markdown",
   "metadata": {
    "colab_type": "text",
    "id": "55Rl0TPgv6YD"
   },
   "source": [
    "Now we split the genres column on the '|' and create a new DataFrame called movies_split. "
   ]
  },
  {
   "cell_type": "code",
   "execution_count": 18,
   "metadata": {
    "colab": {
     "base_uri": "https://localhost:8080/",
     "height": 204
    },
    "colab_type": "code",
    "executionInfo": {
     "elapsed": 3342,
     "status": "ok",
     "timestamp": 1562370002496,
     "user": {
      "displayName": "Shu Cheng",
      "photoUrl": "",
      "userId": "05148031797608167590"
     },
     "user_tz": 420
    },
    "id": "_J5xMDq7vr4W",
    "outputId": "6744352e-1fed-45f1-bb89-a32baa34a9e9"
   },
   "outputs": [
    {
     "data": {
      "text/html": [
       "<div>\n",
       "<style scoped>\n",
       "    .dataframe tbody tr th:only-of-type {\n",
       "        vertical-align: middle;\n",
       "    }\n",
       "\n",
       "    .dataframe tbody tr th {\n",
       "        vertical-align: top;\n",
       "    }\n",
       "\n",
       "    .dataframe thead th {\n",
       "        text-align: right;\n",
       "    }\n",
       "</style>\n",
       "<table border=\"1\" class=\"dataframe\">\n",
       "  <thead>\n",
       "    <tr style=\"text-align: right;\">\n",
       "      <th></th>\n",
       "      <th>0</th>\n",
       "      <th>1</th>\n",
       "      <th>2</th>\n",
       "      <th>3</th>\n",
       "      <th>4</th>\n",
       "      <th>5</th>\n",
       "      <th>6</th>\n",
       "      <th>7</th>\n",
       "      <th>8</th>\n",
       "      <th>9</th>\n",
       "    </tr>\n",
       "  </thead>\n",
       "  <tbody>\n",
       "    <tr>\n",
       "      <th>0</th>\n",
       "      <td>Adventure</td>\n",
       "      <td>Animation</td>\n",
       "      <td>Children</td>\n",
       "      <td>Comedy</td>\n",
       "      <td>Fantasy</td>\n",
       "      <td>None</td>\n",
       "      <td>None</td>\n",
       "      <td>None</td>\n",
       "      <td>None</td>\n",
       "      <td>None</td>\n",
       "    </tr>\n",
       "    <tr>\n",
       "      <th>1</th>\n",
       "      <td>Adventure</td>\n",
       "      <td>Children</td>\n",
       "      <td>Fantasy</td>\n",
       "      <td>None</td>\n",
       "      <td>None</td>\n",
       "      <td>None</td>\n",
       "      <td>None</td>\n",
       "      <td>None</td>\n",
       "      <td>None</td>\n",
       "      <td>None</td>\n",
       "    </tr>\n",
       "    <tr>\n",
       "      <th>2</th>\n",
       "      <td>Comedy</td>\n",
       "      <td>Romance</td>\n",
       "      <td>None</td>\n",
       "      <td>None</td>\n",
       "      <td>None</td>\n",
       "      <td>None</td>\n",
       "      <td>None</td>\n",
       "      <td>None</td>\n",
       "      <td>None</td>\n",
       "      <td>None</td>\n",
       "    </tr>\n",
       "    <tr>\n",
       "      <th>3</th>\n",
       "      <td>Comedy</td>\n",
       "      <td>Drama</td>\n",
       "      <td>Romance</td>\n",
       "      <td>None</td>\n",
       "      <td>None</td>\n",
       "      <td>None</td>\n",
       "      <td>None</td>\n",
       "      <td>None</td>\n",
       "      <td>None</td>\n",
       "      <td>None</td>\n",
       "    </tr>\n",
       "    <tr>\n",
       "      <th>4</th>\n",
       "      <td>Comedy</td>\n",
       "      <td>None</td>\n",
       "      <td>None</td>\n",
       "      <td>None</td>\n",
       "      <td>None</td>\n",
       "      <td>None</td>\n",
       "      <td>None</td>\n",
       "      <td>None</td>\n",
       "      <td>None</td>\n",
       "      <td>None</td>\n",
       "    </tr>\n",
       "  </tbody>\n",
       "</table>\n",
       "</div>"
      ],
      "text/plain": [
       "           0          1         2       3        4     5     6     7     8  \\\n",
       "0  Adventure  Animation  Children  Comedy  Fantasy  None  None  None  None   \n",
       "1  Adventure   Children   Fantasy    None     None  None  None  None  None   \n",
       "2     Comedy    Romance      None    None     None  None  None  None  None   \n",
       "3     Comedy      Drama   Romance    None     None  None  None  None  None   \n",
       "4     Comedy       None      None    None     None  None  None  None  None   \n",
       "\n",
       "      9  \n",
       "0  None  \n",
       "1  None  \n",
       "2  None  \n",
       "3  None  \n",
       "4  None  "
      ]
     },
     "execution_count": 18,
     "metadata": {},
     "output_type": "execute_result"
    }
   ],
   "source": [
    "movies_split = movies.genres.str.split('|', expand=True)\n",
    "movies_split.head()"
   ]
  },
  {
   "cell_type": "markdown",
   "metadata": {
    "colab_type": "text",
    "id": "1xuTZEM4J9i5"
   },
   "source": [
    "We now create a list of all the unique genres that appear in this DataFrame. It is called genres_list. "
   ]
  },
  {
   "cell_type": "code",
   "execution_count": 19,
   "metadata": {
    "colab": {
     "base_uri": "https://localhost:8080/",
     "height": 71
    },
    "colab_type": "code",
    "executionInfo": {
     "elapsed": 3331,
     "status": "ok",
     "timestamp": 1562370002498,
     "user": {
      "displayName": "Shu Cheng",
      "photoUrl": "",
      "userId": "05148031797608167590"
     },
     "user_tz": 420
    },
    "id": "OUPXs_XBwlw9",
    "outputId": "060aa4b9-09cd-4284-db53-5c407acc7e02"
   },
   "outputs": [
    {
     "name": "stdout",
     "output_type": "stream",
     "text": [
      "['Adventure', 'Comedy', 'Action', 'Drama', 'Crime', 'Children', 'Mystery', 'Documentary', 'Animation', 'Thriller', 'Horror', 'Fantasy', 'Film-Noir', 'Western', 'Romance', 'Sci-Fi', 'Musical', 'War', '(no genres listed)', 'IMAX']\n",
      "20\n"
     ]
    }
   ],
   "source": [
    "genres = pd.unique(movies_split[[0,1,2,3,4,5,6,7,8,9]].values.ravel('K'))\n",
    "genres_list = list(genres)\n",
    "genres_list.remove(None)\n",
    "print(genres_list)\n",
    "print(len(genres_list))"
   ]
  },
  {
   "cell_type": "markdown",
   "metadata": {
    "colab_type": "text",
    "id": "LQDnShPNw6YT"
   },
   "source": [
    "In the movies DataFrame, we want to recode the values of the genres column to be a list of twenty 0's and 1's that correspond to the values in genres_list (in the order they appear in genres_list). For example, if a movie has genres Adventure and Children, then we would like the element in the genres column to be: \\\n",
    "[1, 0, 0, 0, 0, 1, 0, 0, 0, 0, 0, 0, 0, 0, 0, 0, 0, 0, 0, 0]"
   ]
  },
  {
   "cell_type": "markdown",
   "metadata": {
    "colab_type": "text",
    "id": "itN7X7X-yZ2G"
   },
   "source": [
    "The function defined below iterates through a list of genres and compares the values to the elements of genres_list. It then returns an appropriate array of 0's and 1's as described above. "
   ]
  },
  {
   "cell_type": "code",
   "execution_count": 20,
   "metadata": {
    "colab": {
     "base_uri": "https://localhost:8080/",
     "height": 34
    },
    "colab_type": "code",
    "executionInfo": {
     "elapsed": 3323,
     "status": "ok",
     "timestamp": 1562370002500,
     "user": {
      "displayName": "Shu Cheng",
      "photoUrl": "",
      "userId": "05148031797608167590"
     },
     "user_tz": 420
    },
    "id": "jiC9efbJyYmk",
    "outputId": "d48b8f07-5bbb-42de-f1be-d4d186f71872"
   },
   "outputs": [
    {
     "name": "stdout",
     "output_type": "stream",
     "text": [
      "[1 0 0 0 0 1 0 0 0 0 0 0 0 0 0 0 0 0 0 0]\n"
     ]
    }
   ],
   "source": [
    "#Definition of the function f to create the array of 0's and 1's based on genres\n",
    "def f(mylist):\n",
    "  a = np.zeros(20).astype(int)\n",
    "  for i in mylist:\n",
    "    for j in range(20):\n",
    "      if i == genres_list[j]:\n",
    "        a[j] = 1\n",
    "  return a\n",
    "\n",
    "#Test that f works as expected on an example list \n",
    "print(f(['Adventure', 'Children']))"
   ]
  },
  {
   "cell_type": "markdown",
   "metadata": {
    "colab_type": "text",
    "id": "lfRuqHf6zjU5"
   },
   "source": [
    "We split the genres column of the movies DataFrame to be a list (in preparation for applying the function, f)."
   ]
  },
  {
   "cell_type": "code",
   "execution_count": 21,
   "metadata": {
    "colab": {
     "base_uri": "https://localhost:8080/",
     "height": 204
    },
    "colab_type": "code",
    "executionInfo": {
     "elapsed": 3314,
     "status": "ok",
     "timestamp": 1562370002502,
     "user": {
      "displayName": "Shu Cheng",
      "photoUrl": "",
      "userId": "05148031797608167590"
     },
     "user_tz": 420
    },
    "id": "j8nMO-TxtKqP",
    "outputId": "5127191a-8511-4cad-c653-268133f26ec6"
   },
   "outputs": [
    {
     "data": {
      "text/html": [
       "<div>\n",
       "<style scoped>\n",
       "    .dataframe tbody tr th:only-of-type {\n",
       "        vertical-align: middle;\n",
       "    }\n",
       "\n",
       "    .dataframe tbody tr th {\n",
       "        vertical-align: top;\n",
       "    }\n",
       "\n",
       "    .dataframe thead th {\n",
       "        text-align: right;\n",
       "    }\n",
       "</style>\n",
       "<table border=\"1\" class=\"dataframe\">\n",
       "  <thead>\n",
       "    <tr style=\"text-align: right;\">\n",
       "      <th></th>\n",
       "      <th>movieId</th>\n",
       "      <th>title</th>\n",
       "      <th>genres</th>\n",
       "    </tr>\n",
       "  </thead>\n",
       "  <tbody>\n",
       "    <tr>\n",
       "      <th>0</th>\n",
       "      <td>1</td>\n",
       "      <td>Toy Story (1995)</td>\n",
       "      <td>[Adventure, Animation, Children, Comedy, Fantasy]</td>\n",
       "    </tr>\n",
       "    <tr>\n",
       "      <th>1</th>\n",
       "      <td>2</td>\n",
       "      <td>Jumanji (1995)</td>\n",
       "      <td>[Adventure, Children, Fantasy]</td>\n",
       "    </tr>\n",
       "    <tr>\n",
       "      <th>2</th>\n",
       "      <td>3</td>\n",
       "      <td>Grumpier Old Men (1995)</td>\n",
       "      <td>[Comedy, Romance]</td>\n",
       "    </tr>\n",
       "    <tr>\n",
       "      <th>3</th>\n",
       "      <td>4</td>\n",
       "      <td>Waiting to Exhale (1995)</td>\n",
       "      <td>[Comedy, Drama, Romance]</td>\n",
       "    </tr>\n",
       "    <tr>\n",
       "      <th>4</th>\n",
       "      <td>5</td>\n",
       "      <td>Father of the Bride Part II (1995)</td>\n",
       "      <td>[Comedy]</td>\n",
       "    </tr>\n",
       "  </tbody>\n",
       "</table>\n",
       "</div>"
      ],
      "text/plain": [
       "   movieId                               title  \\\n",
       "0        1                    Toy Story (1995)   \n",
       "1        2                      Jumanji (1995)   \n",
       "2        3             Grumpier Old Men (1995)   \n",
       "3        4            Waiting to Exhale (1995)   \n",
       "4        5  Father of the Bride Part II (1995)   \n",
       "\n",
       "                                              genres  \n",
       "0  [Adventure, Animation, Children, Comedy, Fantasy]  \n",
       "1                     [Adventure, Children, Fantasy]  \n",
       "2                                  [Comedy, Romance]  \n",
       "3                           [Comedy, Drama, Romance]  \n",
       "4                                           [Comedy]  "
      ]
     },
     "execution_count": 21,
     "metadata": {},
     "output_type": "execute_result"
    }
   ],
   "source": [
    "movies['genres'] = movies.genres.str.split('|')\n",
    "movies.head()"
   ]
  },
  {
   "cell_type": "markdown",
   "metadata": {
    "colab_type": "text",
    "id": "VyheaFd60-sr"
   },
   "source": [
    "We apply the funciton f to the genres column to change the elements to arrays of 0's and 1's representing the genres. We also set the index to be the movieID. "
   ]
  },
  {
   "cell_type": "code",
   "execution_count": 22,
   "metadata": {
    "colab": {
     "base_uri": "https://localhost:8080/",
     "height": 235
    },
    "colab_type": "code",
    "executionInfo": {
     "elapsed": 3614,
     "status": "ok",
     "timestamp": 1562370002812,
     "user": {
      "displayName": "Shu Cheng",
      "photoUrl": "",
      "userId": "05148031797608167590"
     },
     "user_tz": 420
    },
    "id": "ngyoL_vDuKG2",
    "outputId": "07cdb47a-43f0-4b5e-ddd5-3f4e8bcfe954"
   },
   "outputs": [
    {
     "data": {
      "text/html": [
       "<div>\n",
       "<style scoped>\n",
       "    .dataframe tbody tr th:only-of-type {\n",
       "        vertical-align: middle;\n",
       "    }\n",
       "\n",
       "    .dataframe tbody tr th {\n",
       "        vertical-align: top;\n",
       "    }\n",
       "\n",
       "    .dataframe thead th {\n",
       "        text-align: right;\n",
       "    }\n",
       "</style>\n",
       "<table border=\"1\" class=\"dataframe\">\n",
       "  <thead>\n",
       "    <tr style=\"text-align: right;\">\n",
       "      <th></th>\n",
       "      <th>title</th>\n",
       "      <th>genres</th>\n",
       "    </tr>\n",
       "    <tr>\n",
       "      <th>movieId</th>\n",
       "      <th></th>\n",
       "      <th></th>\n",
       "    </tr>\n",
       "  </thead>\n",
       "  <tbody>\n",
       "    <tr>\n",
       "      <th>1</th>\n",
       "      <td>Toy Story (1995)</td>\n",
       "      <td>[1, 1, 0, 0, 0, 1, 0, 0, 1, 0, 0, 1, 0, 0, 0, ...</td>\n",
       "    </tr>\n",
       "    <tr>\n",
       "      <th>2</th>\n",
       "      <td>Jumanji (1995)</td>\n",
       "      <td>[1, 0, 0, 0, 0, 1, 0, 0, 0, 0, 0, 1, 0, 0, 0, ...</td>\n",
       "    </tr>\n",
       "    <tr>\n",
       "      <th>3</th>\n",
       "      <td>Grumpier Old Men (1995)</td>\n",
       "      <td>[0, 1, 0, 0, 0, 0, 0, 0, 0, 0, 0, 0, 0, 0, 1, ...</td>\n",
       "    </tr>\n",
       "    <tr>\n",
       "      <th>4</th>\n",
       "      <td>Waiting to Exhale (1995)</td>\n",
       "      <td>[0, 1, 0, 1, 0, 0, 0, 0, 0, 0, 0, 0, 0, 0, 1, ...</td>\n",
       "    </tr>\n",
       "    <tr>\n",
       "      <th>5</th>\n",
       "      <td>Father of the Bride Part II (1995)</td>\n",
       "      <td>[0, 1, 0, 0, 0, 0, 0, 0, 0, 0, 0, 0, 0, 0, 0, ...</td>\n",
       "    </tr>\n",
       "  </tbody>\n",
       "</table>\n",
       "</div>"
      ],
      "text/plain": [
       "                                      title  \\\n",
       "movieId                                       \n",
       "1                          Toy Story (1995)   \n",
       "2                            Jumanji (1995)   \n",
       "3                   Grumpier Old Men (1995)   \n",
       "4                  Waiting to Exhale (1995)   \n",
       "5        Father of the Bride Part II (1995)   \n",
       "\n",
       "                                                    genres  \n",
       "movieId                                                     \n",
       "1        [1, 1, 0, 0, 0, 1, 0, 0, 1, 0, 0, 1, 0, 0, 0, ...  \n",
       "2        [1, 0, 0, 0, 0, 1, 0, 0, 0, 0, 0, 1, 0, 0, 0, ...  \n",
       "3        [0, 1, 0, 0, 0, 0, 0, 0, 0, 0, 0, 0, 0, 0, 1, ...  \n",
       "4        [0, 1, 0, 1, 0, 0, 0, 0, 0, 0, 0, 0, 0, 0, 1, ...  \n",
       "5        [0, 1, 0, 0, 0, 0, 0, 0, 0, 0, 0, 0, 0, 0, 0, ...  "
      ]
     },
     "execution_count": 22,
     "metadata": {},
     "output_type": "execute_result"
    }
   ],
   "source": [
    "movies['genres'] = movies.genres.apply(f)\n",
    "movies = movies.set_index('movieId')\n",
    "movies.head()"
   ]
  },
  {
   "cell_type": "code",
   "execution_count": 23,
   "metadata": {
    "colab": {
     "base_uri": "https://localhost:8080/",
     "height": 337
    },
    "colab_type": "code",
    "executionInfo": {
     "elapsed": 3645,
     "status": "ok",
     "timestamp": 1562370002855,
     "user": {
      "displayName": "Shu Cheng",
      "photoUrl": "",
      "userId": "05148031797608167590"
     },
     "user_tz": 420
    },
    "id": "_FtzJuGK3ChG",
    "outputId": "2a0cc082-cb9c-483d-feb0-23fb45100ba7"
   },
   "outputs": [
    {
     "data": {
      "text/html": [
       "<div>\n",
       "<style scoped>\n",
       "    .dataframe tbody tr th:only-of-type {\n",
       "        vertical-align: middle;\n",
       "    }\n",
       "\n",
       "    .dataframe tbody tr th {\n",
       "        vertical-align: top;\n",
       "    }\n",
       "\n",
       "    .dataframe thead th {\n",
       "        text-align: right;\n",
       "    }\n",
       "</style>\n",
       "<table border=\"1\" class=\"dataframe\">\n",
       "  <thead>\n",
       "    <tr style=\"text-align: right;\">\n",
       "      <th></th>\n",
       "      <th>title</th>\n",
       "      <th>genres</th>\n",
       "      <th>size</th>\n",
       "      <th>(rating, size)</th>\n",
       "      <th>(rating, mean)</th>\n",
       "    </tr>\n",
       "    <tr>\n",
       "      <th>movieId</th>\n",
       "      <th></th>\n",
       "      <th></th>\n",
       "      <th></th>\n",
       "      <th></th>\n",
       "      <th></th>\n",
       "    </tr>\n",
       "  </thead>\n",
       "  <tbody>\n",
       "    <tr>\n",
       "      <th>1</th>\n",
       "      <td>Toy Story (1995)</td>\n",
       "      <td>[1, 1, 0, 0, 0, 1, 0, 0, 1, 0, 0, 1, 0, 0, 0, ...</td>\n",
       "      <td>0.723529</td>\n",
       "      <td>247.0</td>\n",
       "      <td>3.872470</td>\n",
       "    </tr>\n",
       "    <tr>\n",
       "      <th>2</th>\n",
       "      <td>Jumanji (1995)</td>\n",
       "      <td>[1, 0, 0, 0, 0, 1, 0, 0, 0, 0, 0, 1, 0, 0, 0, ...</td>\n",
       "      <td>0.311765</td>\n",
       "      <td>107.0</td>\n",
       "      <td>3.401869</td>\n",
       "    </tr>\n",
       "    <tr>\n",
       "      <th>3</th>\n",
       "      <td>Grumpier Old Men (1995)</td>\n",
       "      <td>[0, 1, 0, 0, 0, 0, 0, 0, 0, 0, 0, 0, 0, 0, 1, ...</td>\n",
       "      <td>0.170588</td>\n",
       "      <td>59.0</td>\n",
       "      <td>3.161017</td>\n",
       "    </tr>\n",
       "    <tr>\n",
       "      <th>4</th>\n",
       "      <td>Waiting to Exhale (1995)</td>\n",
       "      <td>[0, 1, 0, 1, 0, 0, 0, 0, 0, 0, 0, 0, 0, 0, 1, ...</td>\n",
       "      <td>0.035294</td>\n",
       "      <td>13.0</td>\n",
       "      <td>2.384615</td>\n",
       "    </tr>\n",
       "    <tr>\n",
       "      <th>5</th>\n",
       "      <td>Father of the Bride Part II (1995)</td>\n",
       "      <td>[0, 1, 0, 0, 0, 0, 0, 0, 0, 0, 0, 0, 0, 0, 0, ...</td>\n",
       "      <td>0.161765</td>\n",
       "      <td>56.0</td>\n",
       "      <td>3.267857</td>\n",
       "    </tr>\n",
       "  </tbody>\n",
       "</table>\n",
       "</div>"
      ],
      "text/plain": [
       "                                      title  \\\n",
       "movieId                                       \n",
       "1                          Toy Story (1995)   \n",
       "2                            Jumanji (1995)   \n",
       "3                   Grumpier Old Men (1995)   \n",
       "4                  Waiting to Exhale (1995)   \n",
       "5        Father of the Bride Part II (1995)   \n",
       "\n",
       "                                                    genres      size  \\\n",
       "movieId                                                                \n",
       "1        [1, 1, 0, 0, 0, 1, 0, 0, 1, 0, 0, 1, 0, 0, 0, ...  0.723529   \n",
       "2        [1, 0, 0, 0, 0, 1, 0, 0, 0, 0, 0, 1, 0, 0, 0, ...  0.311765   \n",
       "3        [0, 1, 0, 0, 0, 0, 0, 0, 0, 0, 0, 0, 0, 0, 1, ...  0.170588   \n",
       "4        [0, 1, 0, 1, 0, 0, 0, 0, 0, 0, 0, 0, 0, 0, 1, ...  0.035294   \n",
       "5        [0, 1, 0, 0, 0, 0, 0, 0, 0, 0, 0, 0, 0, 0, 0, ...  0.161765   \n",
       "\n",
       "         (rating, size)  (rating, mean)  \n",
       "movieId                                  \n",
       "1                 247.0        3.872470  \n",
       "2                 107.0        3.401869  \n",
       "3                  59.0        3.161017  \n",
       "4                  13.0        2.384615  \n",
       "5                  56.0        3.267857  "
      ]
     },
     "execution_count": 23,
     "metadata": {},
     "output_type": "execute_result"
    }
   ],
   "source": [
    "df = pd.concat([movies, movieNormalizedNumRatings, movieProperties], axis=1)\n",
    "df.head()"
   ]
  },
  {
   "cell_type": "markdown",
   "metadata": {
    "colab_type": "text",
    "id": "WPlf-wAP81TA"
   },
   "source": [
    "Conver the DataFrame to a dictionary, and check the first entry. "
   ]
  },
  {
   "cell_type": "code",
   "execution_count": 24,
   "metadata": {
    "colab": {
     "base_uri": "https://localhost:8080/",
     "height": 102
    },
    "colab_type": "code",
    "executionInfo": {
     "elapsed": 4186,
     "status": "ok",
     "timestamp": 1562370003413,
     "user": {
      "displayName": "Shu Cheng",
      "photoUrl": "",
      "userId": "05148031797608167590"
     },
     "user_tz": 420
    },
    "id": "_kVvF8Ms8B6z",
    "outputId": "9210cd72-4471-4a5f-a5da-41c536f6c004"
   },
   "outputs": [
    {
     "data": {
      "text/plain": [
       "['Toy Story (1995)',\n",
       " array([1, 1, 0, 0, 0, 1, 0, 0, 1, 0, 0, 1, 0, 0, 0, 0, 0, 0, 0, 0]),\n",
       " 0.7235294117647059,\n",
       " 247.0,\n",
       " 3.8724696356275303]"
      ]
     },
     "execution_count": 24,
     "metadata": {},
     "output_type": "execute_result"
    }
   ],
   "source": [
    "movieDict = df.T.to_dict('list')\n",
    "movieDict[1]"
   ]
  },
  {
   "cell_type": "markdown",
   "metadata": {
    "colab_type": "text",
    "id": "KJNB_C6yFDJC"
   },
   "source": [
    "Now let's define a function that computes the \"distance\" between two movies based on how similar their genres are, and how similar their popularity is. Just to make sure it works, we'll compute the distance between movie ID's 2 and 4:"
   ]
  },
  {
   "cell_type": "code",
   "execution_count": 25,
   "metadata": {
    "colab": {
     "base_uri": "https://localhost:8080/",
     "height": 34
    },
    "colab_type": "code",
    "executionInfo": {
     "elapsed": 4172,
     "status": "ok",
     "timestamp": 1562370003415,
     "user": {
      "displayName": "Shu Cheng",
      "photoUrl": "",
      "userId": "05148031797608167590"
     },
     "user_tz": 420
    },
    "id": "aJ-SYL1qFDJC",
    "outputId": "2c3dfd41-1bbc-48ee-a296-a46b9516deea"
   },
   "outputs": [
    {
     "data": {
      "text/plain": [
       "1.276470588235294"
      ]
     },
     "execution_count": 25,
     "metadata": {},
     "output_type": "execute_result"
    }
   ],
   "source": [
    "from scipy import spatial\n",
    "\n",
    "def ComputeDistance(a, b):\n",
    "    genresA = a[1]\n",
    "    genresB = b[1]\n",
    "    genreDistance = spatial.distance.cosine(genresA, genresB) #this will be 1 if there are no overlapping genres\n",
    "    #print('The genre distance is', genreDistance)\n",
    "    popularityA = a[2]\n",
    "    popularityB = b[2]\n",
    "    popularityDistance = abs(popularityA - popularityB)\n",
    "    #print('The popularity distance is', popularityDistance)\n",
    "    return genreDistance + popularityDistance\n",
    "    \n",
    "ComputeDistance(movieDict[2], movieDict[4])\n",
    "\n"
   ]
  },
  {
   "cell_type": "markdown",
   "metadata": {
    "colab_type": "text",
    "id": "PykcDKS9FDJG"
   },
   "source": [
    "Remember the higher the distance, the less similar the movies are. Let's check what movies 2 and 4 actually are - and confirm they're not really all that similar:"
   ]
  },
  {
   "cell_type": "code",
   "execution_count": 26,
   "metadata": {
    "colab": {
     "base_uri": "https://localhost:8080/",
     "height": 71
    },
    "colab_type": "code",
    "executionInfo": {
     "elapsed": 4157,
     "status": "ok",
     "timestamp": 1562370003416,
     "user": {
      "displayName": "Shu Cheng",
      "photoUrl": "",
      "userId": "05148031797608167590"
     },
     "user_tz": 420
    },
    "id": "YdtviIH_FDJH",
    "outputId": "639d622a-6770-4d7e-ab03-528b12a7759d"
   },
   "outputs": [
    {
     "name": "stdout",
     "output_type": "stream",
     "text": [
      "['Jumanji (1995)', array([1, 0, 0, 0, 0, 1, 0, 0, 0, 0, 0, 1, 0, 0, 0, 0, 0, 0, 0, 0]), 0.31176470588235294, 107.0, 3.4018691588785046]\n",
      "['Waiting to Exhale (1995)', array([0, 1, 0, 1, 0, 0, 0, 0, 0, 0, 0, 0, 0, 0, 1, 0, 0, 0, 0, 0]), 0.03529411764705882, 13.0, 2.3846153846153846]\n"
     ]
    }
   ],
   "source": [
    "print(movieDict[2])\n",
    "print(movieDict[4])\n"
   ]
  },
  {
   "cell_type": "markdown",
   "metadata": {
    "colab_type": "text",
    "id": "MZeyQceHFDJK"
   },
   "source": [
    "Now, we just need a little code to compute the distance between some given test movie (Toy Story, in this example) and all of the movies in our data set. When the sort those by distance, and print out the K nearest neighbors:"
   ]
  },
  {
   "cell_type": "code",
   "execution_count": 27,
   "metadata": {
    "colab": {
     "base_uri": "https://localhost:8080/",
     "height": 187
    },
    "colab_type": "code",
    "executionInfo": {
     "elapsed": 4657,
     "status": "ok",
     "timestamp": 1562370003927,
     "user": {
      "displayName": "Shu Cheng",
      "photoUrl": "",
      "userId": "05148031797608167590"
     },
     "user_tz": 420
    },
    "id": "Lh8rhcoEFDJK",
    "outputId": "9db3ac79-d817-47fe-83a9-45b29dacab79"
   },
   "outputs": [
    {
     "name": "stdout",
     "output_type": "stream",
     "text": [
      "Aladdin (1992) 3.6744186046511627\n",
      "Shrek (2001) 3.8477011494252875\n",
      "Toy Story 2 (1999) 3.844\n",
      "Bug's Life, A (1998) 3.6095238095238096\n",
      "Monty Python and the Holy Grail (1975) 4.224137931034483\n",
      "Lord of the Rings: The Two Towers, The (2002) 4.0611702127659575\n",
      "Back to the Future (1985) 4.015486725663717\n",
      "Who Framed Roger Rabbit? (1988) 3.6666666666666665\n",
      "Antz (1998) 3.2735849056603774\n",
      "Lion King, The (1994) 3.7775\n"
     ]
    }
   ],
   "source": [
    "import operator\n",
    "\n",
    "def getNeighbors(movieID, K):\n",
    "    distances = []\n",
    "    for movie in movieDict:\n",
    "        if (movie != movieID):\n",
    "            dist = ComputeDistance(movieDict[movieID], movieDict[movie])\n",
    "            distances.append((movie, dist))\n",
    "    distances.sort(key=operator.itemgetter(1))\n",
    "    neighbors = []\n",
    "    for x in range(K):\n",
    "        neighbors.append(distances[x][0])\n",
    "    return neighbors\n",
    "\n",
    "K = 10\n",
    "avgRating = 0\n",
    "neighbors = getNeighbors(1, K)\n",
    "for neighbor in neighbors:\n",
    "    avgRating += movieDict[neighbor][4]\n",
    "    print (movieDict[neighbor][0] + \" \" + str(movieDict[neighbor][4]))\n",
    "    \n",
    "avgRating /= K"
   ]
  },
  {
   "cell_type": "markdown",
   "metadata": {
    "colab_type": "text",
    "id": "X6cLyDcpFDJO"
   },
   "source": [
    "While we were at it, we computed the average rating of the 10 nearest neighbors to Toy Story:"
   ]
  },
  {
   "cell_type": "code",
   "execution_count": 28,
   "metadata": {
    "colab": {
     "base_uri": "https://localhost:8080/",
     "height": 34
    },
    "colab_type": "code",
    "executionInfo": {
     "elapsed": 4635,
     "status": "ok",
     "timestamp": 1562370003929,
     "user": {
      "displayName": "Shu Cheng",
      "photoUrl": "",
      "userId": "05148031797608167590"
     },
     "user_tz": 420
    },
    "id": "Ap6ApVVaFDJO",
    "outputId": "535d7505-4c03-4866-c4e5-8a617278d702"
   },
   "outputs": [
    {
     "data": {
      "text/plain": [
       "3.799419000539146"
      ]
     },
     "execution_count": 28,
     "metadata": {},
     "output_type": "execute_result"
    }
   ],
   "source": [
    "avgRating"
   ]
  },
  {
   "cell_type": "markdown",
   "metadata": {
    "colab_type": "text",
    "id": "IxqjFl8lFDJS"
   },
   "source": [
    "How does this compare to Toy Story's actual average rating?"
   ]
  },
  {
   "cell_type": "code",
   "execution_count": 29,
   "metadata": {
    "colab": {
     "base_uri": "https://localhost:8080/",
     "height": 102
    },
    "colab_type": "code",
    "executionInfo": {
     "elapsed": 4625,
     "status": "ok",
     "timestamp": 1562370003930,
     "user": {
      "displayName": "Shu Cheng",
      "photoUrl": "",
      "userId": "05148031797608167590"
     },
     "user_tz": 420
    },
    "id": "NqQXZlaVFDJS",
    "outputId": "35e04bd3-f18b-416f-9c53-e5870bfa5c0e"
   },
   "outputs": [
    {
     "data": {
      "text/plain": [
       "['Toy Story (1995)',\n",
       " array([1, 1, 0, 0, 0, 1, 0, 0, 1, 0, 0, 1, 0, 0, 0, 0, 0, 0, 0, 0]),\n",
       " 0.7235294117647059,\n",
       " 247.0,\n",
       " 3.8724696356275303]"
      ]
     },
     "execution_count": 29,
     "metadata": {},
     "output_type": "execute_result"
    }
   ],
   "source": [
    "movieDict[1]"
   ]
  },
  {
   "cell_type": "markdown",
   "metadata": {
    "colab_type": "text",
    "id": "mN9imUY-FDJW"
   },
   "source": [
    "Not too bad!\n"
   ]
  },
  {
   "cell_type": "markdown",
   "metadata": {
    "colab_type": "text",
    "id": "gS4urz5NFDJW"
   },
   "source": [
    "### Exercise 3\n"
   ]
  },
  {
   "cell_type": "markdown",
   "metadata": {
    "colab_type": "text",
    "id": "jtfKP5btFDJX"
   },
   "source": [
    "Our choice of 10 for K was arbitrary - what effect do different K values have on the results?\n"
   ]
  },
  {
   "cell_type": "markdown",
   "metadata": {
    "colab_type": "text",
    "id": "Si6J9r8-B-Y6"
   },
   "source": [
    "ANSWER =  If we have a smaller value for K, not too small, the avgRating for ToyStory will be better and closer to the actual score. The number of neighbors that produces the closest rating to the actual rating is 6. When  the number of neighbors gets too big, the result will be off compared to the actual rating. Too small K will overfit while too big K will underfit."
   ]
  },
  {
   "cell_type": "code",
   "execution_count": 30,
   "metadata": {
    "colab": {
     "base_uri": "https://localhost:8080/",
     "height": 527
    },
    "colab_type": "code",
    "executionInfo": {
     "elapsed": 15381,
     "status": "ok",
     "timestamp": 1562370014695,
     "user": {
      "displayName": "Shu Cheng",
      "photoUrl": "",
      "userId": "05148031797608167590"
     },
     "user_tz": 420
    },
    "id": "D9m6m1zJwpMM",
    "outputId": "ac6e8f01-8892-42c8-9819-ac3e6842c282"
   },
   "outputs": [
    {
     "name": "stdout",
     "output_type": "stream",
     "text": [
      "1: 3.6744186046511627\n",
      "2: 3.761059877038225\n",
      "3: 3.78870658469215\n",
      "4: 3.743910890900065\n",
      "5: 3.8399562989269485\n",
      "6: 3.876825284566783\n",
      "7: 3.896634061866345\n",
      "8: 3.8678881374663856\n",
      "9: 3.801854445043496\n",
      "10: 3.799419000539146\n",
      "11: 3.7952334894336217\n",
      "12: 3.7381939897867267\n",
      "13: 3.719871375187748\n",
      "14: 3.697156931165659\n",
      "15: 3.731252399558296\n",
      "16: 3.7123799326667104\n",
      "17: 3.7145928778039625\n",
      "18: 3.657115495703743\n",
      "19: 3.609026314489418\n",
      "20: 3.536908332098281\n",
      "21: 3.556925314249075\n",
      "22: 3.5367197590911714\n",
      "23: 3.5274182395709714\n",
      "24: 3.5404172270635956\n",
      "25: 3.5248279352413254\n",
      "26: 3.5244557652378714\n",
      "27: 3.518564241169232\n",
      "28: 3.5426577260625387\n",
      "29: 3.519511893144126\n",
      "30: 3.5419797762758805\n"
     ]
    }
   ],
   "source": [
    "# 3.8724696356275303\n",
    "K = 31\n",
    "for k in range(1,K):\n",
    "  avgRating = 0\n",
    "  neighbors = getNeighbors(1, k)\n",
    "  for neighbor in neighbors:\n",
    "      avgRating += movieDict[neighbor][4]\n",
    "  avgRating /= k\n",
    "  print(str(k)+\": \"+str(avgRating))"
   ]
  },
  {
   "cell_type": "markdown",
   "metadata": {
    "colab_type": "text",
    "id": "3ZU77SdwWq2w"
   },
   "source": [
    "### Challenge (Ungraded)"
   ]
  },
  {
   "cell_type": "markdown",
   "metadata": {
    "colab_type": "text",
    "id": "X1GMbvvaWxU-"
   },
   "source": [
    "Our distance metric was also somewhat arbitrary - we just took the cosine distance between the genres and added it to the difference between the normalized popularity scores. Can you improve on that?\n"
   ]
  },
  {
   "cell_type": "code",
   "execution_count": 31,
   "metadata": {
    "colab": {
     "base_uri": "https://localhost:8080/",
     "height": 34
    },
    "colab_type": "code",
    "executionInfo": {
     "elapsed": 15878,
     "status": "ok",
     "timestamp": 1562370015203,
     "user": {
      "displayName": "Shu Cheng",
      "photoUrl": "",
      "userId": "05148031797608167590"
     },
     "user_tz": 420
    },
    "id": "gKf_PGSWyoMZ",
    "outputId": "e84be5fc-8cb1-4f40-ebce-62c92b389adb"
   },
   "outputs": [
    {
     "data": {
      "text/plain": [
       "3.88132857278231"
      ]
     },
     "execution_count": 31,
     "metadata": {},
     "output_type": "execute_result"
    }
   ],
   "source": [
    "from scipy import spatial\n",
    "\n",
    "def ComputeDistance(a, b):\n",
    "    genresA = a[1]\n",
    "    genresB = b[1]\n",
    "#     genreDistance = spatial.distance.sokalsneath(genresA, genresB)\n",
    "    genreDistance = spatial.distance.rogerstanimoto(genresA, genresB)\n",
    "#     genreDistance = spatial.distance.cosine(genresA, genresB)\n",
    "    popularityA = a[2]\n",
    "    popularityB = b[2]\n",
    "    popularityDistance = abs(popularityA - popularityB)\n",
    "    return genreDistance + popularityDistance\n",
    "#     return genreDistance*.6 + popularityDistance*.7\n",
    "\n",
    "\n",
    "K = 10\n",
    "avgRating = 0\n",
    "neighbors = getNeighbors(1, K)\n",
    "for neighbor in neighbors:\n",
    "    avgRating += movieDict[neighbor][4]\n",
    "    \n",
    "avgRating /= K\n",
    "avgRating"
   ]
  },
  {
   "cell_type": "code",
   "execution_count": 32,
   "metadata": {
    "colab": {
     "base_uri": "https://localhost:8080/",
     "height": 527
    },
    "colab_type": "code",
    "executionInfo": {
     "elapsed": 27757,
     "status": "ok",
     "timestamp": 1562370027091,
     "user": {
      "displayName": "Shu Cheng",
      "photoUrl": "",
      "userId": "05148031797608167590"
     },
     "user_tz": 420
    },
    "id": "x0XYbPPT1oQ0",
    "outputId": "37b850de-1684-45ff-ca4a-4553b17881bd"
   },
   "outputs": [
    {
     "name": "stdout",
     "output_type": "stream",
     "text": [
      "1: 3.6744186046511627\n",
      "2: 3.761059877038225\n",
      "3: 3.78870658469215\n",
      "4: 3.845401619935042\n",
      "5: 3.888555338501225\n",
      "6: 3.9393264184479904\n",
      "7: 3.980013777388918\n",
      "8: 4.011625303078551\n",
      "9: 3.9669473593502462\n",
      "10: 3.88132857278231\n",
      "11: 3.9196876742134266\n",
      "12: 3.9078387013623073\n",
      "13: 3.8281148452135585\n",
      "14: 3.840844435835737\n",
      "15: 3.8554486623867796\n",
      "16: 3.8490692696362547\n",
      "17: 3.8551858798454455\n",
      "18: 3.8228747146129414\n",
      "19: 3.8237441474961518\n",
      "20: 3.842986387974105\n",
      "21: 3.862686866097787\n",
      "22: 3.853776857032736\n",
      "23: 3.8697713190980996\n",
      "24: 3.8502753957556166\n",
      "25: 3.8449772512125207\n",
      "26: 3.860030573718333\n",
      "27: 3.8543333072681\n",
      "28: 3.856053546294239\n",
      "29: 3.8432222155299014\n",
      "30: 3.8322865255172887\n"
     ]
    }
   ],
   "source": [
    "K = 31\n",
    "for k in range(1,K):\n",
    "  avgRating = 0\n",
    "  neighbors = getNeighbors(1, k)\n",
    "  for neighbor in neighbors:\n",
    "      avgRating += movieDict[neighbor][4]\n",
    "  avgRating /= k\n",
    "  print(str(k)+\": \"+str(avgRating))"
   ]
  }
 ],
 "metadata": {
  "colab": {
   "collapsed_sections": [],
   "name": "Huize Huang - T05-05 [AS] KNN [Colab][Agnes Scott]",
   "provenance": [
    {
     "file_id": "1baBJk3yibY2omAIN7I5CHFeygxA9sKmp",
     "timestamp": 1560862879680
    },
    {
     "file_id": "1DzebgKN7GLVokhct0CXLoUFhFZWLEksZ",
     "timestamp": 1560786384007
    }
   ],
   "toc_visible": true,
   "version": "0.3.2"
  },
  "kernelspec": {
   "display_name": "Python 3",
   "language": "python",
   "name": "python3"
  },
  "language_info": {
   "codemirror_mode": {
    "name": "ipython",
    "version": 3
   },
   "file_extension": ".py",
   "mimetype": "text/x-python",
   "name": "python",
   "nbconvert_exporter": "python",
   "pygments_lexer": "ipython3",
   "version": "3.6.8"
  }
 },
 "nbformat": 4,
 "nbformat_minor": 1
}
