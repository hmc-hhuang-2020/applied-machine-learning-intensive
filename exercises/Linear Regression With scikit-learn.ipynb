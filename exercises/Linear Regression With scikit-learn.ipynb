{
 "cells": [
  {
   "cell_type": "markdown",
   "metadata": {
    "colab_type": "text",
    "id": "copyright"
   },
   "source": [
    "#### Copyright 2018 Google LLC."
   ]
  },
  {
   "cell_type": "code",
   "execution_count": 18,
   "metadata": {
    "colab": {},
    "colab_type": "code",
    "id": "GTcSKOCAomf-"
   },
   "outputs": [],
   "source": [
    "# Licensed under the Apache License, Version 2.0 (the \"License\");\n",
    "# you may not use this file except in compliance with the License.\n",
    "# You may obtain a copy of the License at\n",
    "#\n",
    "# https://www.apache.org/licenses/LICENSE-2.0\n",
    "#\n",
    "# Unless required by applicable law or agreed to in writing, software\n",
    "# distributed under the License is distributed on an \"AS IS\" BASIS,\n",
    "# WITHOUT WARRANTIES OR CONDITIONS OF ANY KIND, either express or implied.\n",
    "# See the License for the specific language governing permissions and\n",
    "# limitations under the License."
   ]
  },
  {
   "cell_type": "markdown",
   "metadata": {
    "colab_type": "text",
    "id": "Lsn0Av7YmMza"
   },
   "source": [
    "# Linear Regression With scikit-learn"
   ]
  },
  {
   "cell_type": "markdown",
   "metadata": {
    "colab_type": "text",
    "id": "Lsn0Ag7YmMza"
   },
   "source": [
    "We have learned about linear regression in theory, now let's put our newly found skills into practice. In this Colab we will create multiple linear regression models using the scikit-learn toolkit."
   ]
  },
  {
   "cell_type": "markdown",
   "metadata": {
    "colab_type": "text",
    "id": "overview"
   },
   "source": [
    "## Overview"
   ]
  },
  {
   "cell_type": "markdown",
   "metadata": {
    "colab_type": "text",
    "id": "Pa-sPusPmfma"
   },
   "source": [
    "### Learning Objectives\n",
    "\n",
    "* Create a closed-formed linear regression model\n",
    "* Create a linear regression model using an optimizer"
   ]
  },
  {
   "cell_type": "markdown",
   "metadata": {
    "colab_type": "text",
    "id": "yTy09bOmmwAb"
   },
   "source": [
    "### Prerequisites\n",
    "\n",
    "* Introduction to Colab\n",
    "* Intermediate Python\n",
    "* Introduction to Pandas\n",
    "* Visualizations\n",
    "* Introduction to scikit-learn"
   ]
  },
  {
   "cell_type": "markdown",
   "metadata": {
    "colab_type": "text",
    "id": "mt_cA20cm2wt"
   },
   "source": [
    "### Estimated Duration\n",
    "\n",
    "60 minutes"
   ]
  },
  {
   "cell_type": "markdown",
   "metadata": {
    "colab_type": "text",
    "id": "-AwNxbgom3kr"
   },
   "source": [
    "### Grading Criteria\n",
    "\n",
    "Each exercise is worth 3 points. The rubric for calculating those points is:\n",
    "\n",
    "| Points | Description |\n",
    "|--------|-------------|\n",
    "| 0      | No attempt at exercise |\n",
    "| 1      | Attempted exercise, but code does not run |\n",
    "| 2      | Attempted exercise, code runs, but produces incorrect answer |\n",
    "| 3      | Exercise completed successfully |\n",
    "\n",
    "There is 1 exercises in this Colab so there are 3 points available. The grading scale will be 3 points."
   ]
  },
  {
   "cell_type": "markdown",
   "metadata": {
    "colab_type": "text",
    "id": "VWTTVoS4OoQ2"
   },
   "source": [
    "# Creating a dataset\n",
    "\n",
    "In this colab we will examine different methods of applying a linear regression to a data set. Calculating a linear regression can be done with a simple equation if the data is small enough. If the data is large, there are methods to calculate the regression using sampling and/or batching.\n",
    "\n",
    "But before we get started, let's create some sample data to perform our regression on. The code below creates 1000 data points."
   ]
  },
  {
   "cell_type": "code",
   "execution_count": 19,
   "metadata": {
    "colab": {},
    "colab_type": "code",
    "id": "6_TyEuBi_qul"
   },
   "outputs": [],
   "source": [
    "import numpy as np\n",
    "\n",
    "# The size of the dataset that we'll be using to perform our linear regression.\n",
    "DATA_SET_SIZE = 1000\n",
    "\n",
    "# The maximum value of the x coordinate. The range of values of X will be\n",
    "# (0, X_MAX).\n",
    "X_MAX = 5\n",
    "\n",
    "# The Y-intercept is one of the \"secret\" values that we'll be trying to predict\n",
    "# via linear regression.\n",
    "INTERCEPT = 4\n",
    "\n",
    "# The slope is another value that we'll be trying to predict using linear\n",
    "# regression.\n",
    "SLOPE = 3\n",
    "\n",
    "# Generate the x-coordinates for our dataset.\n",
    "coffee = X_MAX * np.random.rand(DATA_SET_SIZE, 1)\n",
    "\n",
    "# Generate the y-coordinates for our dataset using the linear equation\n",
    "# y = mx + b.\n",
    "energy = SLOPE * coffee + INTERCEPT"
   ]
  },
  {
   "cell_type": "markdown",
   "metadata": {
    "colab_type": "text",
    "id": "cAsf4qWOSQfP"
   },
   "source": [
    "Let's take a look at the data set that was just generated."
   ]
  },
  {
   "cell_type": "code",
   "execution_count": 20,
   "metadata": {
    "colab": {},
    "colab_type": "code",
    "id": "QcnLIrlBRWS5"
   },
   "outputs": [
    {
     "data": {
      "image/png": "[encoded data removed]",
      "text/plain": [
       "<Figure size 432x288 with 1 Axes>"
      ]
     },
     "metadata": {
      "needs_background": "light"
     },
     "output_type": "display_data"
    }
   ],
   "source": [
    "import matplotlib\n",
    "import matplotlib.pyplot as plt\n",
    "\n",
    "plt.plot(coffee, energy, 'b.')\n",
    "plt.show()"
   ]
  },
  {
   "cell_type": "markdown",
   "metadata": {
    "colab_type": "text",
    "id": "o9_bV-puRYsM"
   },
   "source": [
    "The data does indeed have an x range from zero to our max x value. Notice that the y-intercept and slope match our seeded values.\n",
    "\n",
    "This data looks nothing like we'd see in the real world though. It would be trivial to fit a line to the data as is. Let's add a little randomness to the data to make it more realistic."
   ]
  },
  {
   "cell_type": "code",
   "execution_count": 21,
   "metadata": {
    "colab": {},
    "colab_type": "code",
    "id": "hIidIGmLR2QG"
   },
   "outputs": [
    {
     "data": {
      "image/png": "[encoded data removed]",
      "text/plain": [
       "<Figure size 432x288 with 1 Axes>"
      ]
     },
     "metadata": {
      "needs_background": "light"
     },
     "output_type": "display_data"
    }
   ],
   "source": [
    "energy = energy + 2 * np.random.randn(DATA_SET_SIZE, 1)\n",
    "\n",
    "plt.plot(coffee, energy, 'b.')\n",
    "plt.show()"
   ]
  },
  {
   "cell_type": "markdown",
   "metadata": {
    "colab_type": "text",
    "id": "_teA7dekSCbu"
   },
   "source": [
    "That's much better! There is still a linear trend to the data, but there is also much more noise."
   ]
  },
  {
   "cell_type": "markdown",
   "metadata": {
    "colab_type": "text",
    "id": "TftzlfnrS9jp"
   },
   "source": [
    "# The Normal Equation\n",
    "\n",
    "If the dataset being processed is small enough, then the Normal Equation can be used to calculate the slope and y-intercept of the regression line in-memory. The normal equation can easily be written in NumPy as seen below."
   ]
  },
  {
   "cell_type": "code",
   "execution_count": 22,
   "metadata": {
    "colab": {},
    "colab_type": "code",
    "id": "6dHn3z3dC0R3"
   },
   "outputs": [
    {
     "name": "stdout",
     "output_type": "stream",
     "text": [
      "Calculated slope 2.969589106680708 vs actual 3\n",
      "Calculated intercept 4.145924435747784 vs actual 4\n"
     ]
    }
   ],
   "source": [
    "# x is a Nx1 matrix containing our x-values. The first step in calculating the\n",
    "# Normal Equation is to create an Nx2 matrix where each \"row\" has the value 1\n",
    "# and the x value.\n",
    "coffee_ = np.c_[np.ones((DATA_SET_SIZE, 1)), coffee]\n",
    "\n",
    "norm = np.linalg.inv(coffee_.T.dot(coffee_)).dot(coffee_.T).dot(energy)\n",
    "\n",
    "calculated_intercept = norm[0][0]\n",
    "calculated_slope = norm[1][0]\n",
    "\n",
    "print(\"Calculated slope {} vs actual {}\".format(calculated_slope, SLOPE))\n",
    "print(\"Calculated intercept {} vs actual {}\".format(calculated_intercept, INTERCEPT))"
   ]
  },
  {
   "cell_type": "markdown",
   "metadata": {
    "colab_type": "text",
    "id": "BVNp6DfEWFzy"
   },
   "source": [
    "Not bad! The random noise we added to the data prevented us from exactly predicting the slope and intercept, but our calculations were pretty close.\n",
    "\n",
    "We can now use these values to make predictions."
   ]
  },
  {
   "cell_type": "code",
   "execution_count": 23,
   "metadata": {
    "colab": {},
    "colab_type": "code",
    "id": "8w9L1n4tD3Ol"
   },
   "outputs": [
    {
     "data": {
      "image/png": "[encoded data removed]",
      "text/plain": [
       "<Figure size 432x288 with 1 Axes>"
      ]
     },
     "metadata": {
      "needs_background": "light"
     },
     "output_type": "display_data"
    }
   ],
   "source": [
    "# Create a (5,1) matrix of containing values to make predictions on.\n",
    "coffee_ = np.array([[0.34], [1.65], [2.45], [3.78], [4.56]])\n",
    "\n",
    "# Convert the matrix to a (5, 2) matrix with 1s in the first column\n",
    "# in order to perform a dot-product against the calculated slope and\n",
    "# intercept.\n",
    "coffee_predict = np.c_[np.ones((5, 1)), coffee_]\n",
    "\n",
    "# Make the predictions\n",
    "energy_predict = coffee_predict.dot(norm)\n",
    "\n",
    "# Plot the original data as blue dots.\n",
    "plt.plot(coffee, energy, 'b.')\n",
    "\n",
    "# Plot the predictions as red dots.\n",
    "plt.plot(coffee_, energy_predict, 'r.')\n",
    "plt.show()"
   ]
  },
  {
   "cell_type": "markdown",
   "metadata": {
    "colab_type": "text",
    "id": "r2dvyzHEYLOm"
   },
   "source": [
    "If we want to plot the calculated line we can ask for the prediction at the min and max values for x and plot the line."
   ]
  },
  {
   "cell_type": "code",
   "execution_count": 24,
   "metadata": {
    "colab": {},
    "colab_type": "code",
    "id": "U9g-KRzoYUpH"
   },
   "outputs": [
    {
     "data": {
      "image/png": "[encoded data removed]",
      "text/plain": [
       "<Figure size 432x288 with 1 Axes>"
      ]
     },
     "metadata": {
      "needs_background": "light"
     },
     "output_type": "display_data"
    }
   ],
   "source": [
    "coffee_ = np.array([[0.0], [X_MAX]])\n",
    "coffee_predict = np.c_[np.ones((2,1)), coffee_]\n",
    "energy_predict = coffee_predict.dot(norm)\n",
    "\n",
    "plt.plot(coffee, energy, 'b.')\n",
    "plt.plot(coffee_, energy_predict, 'r-')\n",
    "plt.show()"
   ]
  },
  {
   "cell_type": "markdown",
   "metadata": {
    "colab_type": "text",
    "id": "2nqG8-MEc1SL"
   },
   "source": [
    "# Challenge: Optimized Normal Equation\n",
    "\n",
    "It turns out that the math operations used to calculate the Normal Equation are quite expensive. We'll explore other methods of performing a linear regression soon, but there is a purely mathematical optimization that has been discovered. The equation uses the pseudoinverse of the input matrix to predict y.\n",
    "\n",
    "> $\\hat{\\theta} = X^+y$\n",
    "\n",
    "Find the NumPy function that calculates the pseudoinverse of a matrix and then use that function to write a more optimal method for finding the slope and intercept for a linear regression in memory."
   ]
  },
  {
   "cell_type": "code",
   "execution_count": 25,
   "metadata": {
    "colab": {},
    "colab_type": "code",
    "id": "0ANUfb9xE412"
   },
   "outputs": [
    {
     "name": "stdout",
     "output_type": "stream",
     "text": [
      "You win!\n"
     ]
    }
   ],
   "source": [
    "coffee_ = np.c_[np.ones((DATA_SET_SIZE, 1)), coffee]\n",
    "\n",
    "norm2 = np.linalg.pinv(coffee_.T.dot(coffee_)).dot(coffee_.T).dot(energy) \n",
    "# Update this line to perform an in-memory calculation of a\n",
    "                   # linear regression using the optimized equation in the place\n",
    "                   # of the [[0], [0]] matrix.\n",
    "\n",
    "calculated_intercept2 = norm2[0][0] \n",
    "calculated_slope2 = norm2[1][0]\n",
    "\n",
    "EPSILON = 0.00001\n",
    "if abs(calculated_slope - calculated_slope2) < EPSILON and abs(calculated_intercept - calculated_intercept2) < EPSILON:\n",
    "  print(\"You win!\")\n",
    "else:\n",
    "  print(\"Try again :(\")"
   ]
  },
  {
   "cell_type": "markdown",
   "metadata": {
    "colab_type": "text",
    "id": "pH3KFfPAdROS"
   },
   "source": [
    "# Linear Regression in SciKit Learn\n",
    "\n",
    "Using NumPy to calculate the slope and intercept for a linear regression isn't difficult, but it can be error-prone. Luckily you won't have to perform these calculations directly in most cases. SciKit Learn performs the optimized in-memory calculations that we just created above in its LinearRegression implementation."
   ]
  },
  {
   "cell_type": "code",
   "execution_count": 26,
   "metadata": {
    "colab": {},
    "colab_type": "code",
    "id": "372l9BTOFD09"
   },
   "outputs": [
    {
     "data": {
      "text/plain": [
       "(array([[2.96958911]]), array([4.14592444]))"
      ]
     },
     "execution_count": 26,
     "metadata": {},
     "output_type": "execute_result"
    }
   ],
   "source": [
    "from sklearn.linear_model import LinearRegression\n",
    "\n",
    "lin_reg = LinearRegression()\n",
    "lin_reg.fit(coffee, energy)\n",
    "lin_reg.coef_, lin_reg.intercept_"
   ]
  },
  {
   "cell_type": "markdown",
   "metadata": {
    "colab_type": "text",
    "id": "Dw-MgHUWeM9C"
   },
   "source": [
    "Notice that the slope (SciKit Learn calls this coef_) and intercept are the same values that we calculated above manually."
   ]
  },
  {
   "cell_type": "markdown",
   "metadata": {
    "colab_type": "text",
    "id": "ZDO1af98ehT2"
   },
   "source": [
    "We can use this slope and intercept to predict y values given x values."
   ]
  },
  {
   "cell_type": "code",
   "execution_count": 27,
   "metadata": {
    "colab": {},
    "colab_type": "code",
    "id": "cCBGwUFlFQf8"
   },
   "outputs": [
    {
     "data": {
      "text/plain": [
       "array([[ 5.15558473],\n",
       "       [ 9.04574646],\n",
       "       [11.42141775],\n",
       "       [15.37097126],\n",
       "       [17.68725076]])"
      ]
     },
     "execution_count": 27,
     "metadata": {},
     "output_type": "execute_result"
    }
   ],
   "source": [
    "coffee_ = np.array([[0.34], [1.65], [2.45], [3.78], [4.56]])\n",
    "\n",
    "energy_predict = lin_reg.predict(coffee_)\n",
    "energy_predict"
   ]
  },
  {
   "cell_type": "markdown",
   "metadata": {
    "colab_type": "text",
    "id": "wkgl5O1ke_9_"
   },
   "source": [
    "Plotting these values we see they are the same that were predicted by our manual process."
   ]
  },
  {
   "cell_type": "code",
   "execution_count": 28,
   "metadata": {
    "colab": {},
    "colab_type": "code",
    "id": "79D5EP8CfEZ6"
   },
   "outputs": [
    {
     "data": {
      "image/png": "[encoded data removed]",
      "text/plain": [
       "<Figure size 432x288 with 1 Axes>"
      ]
     },
     "metadata": {
      "needs_background": "light"
     },
     "output_type": "display_data"
    }
   ],
   "source": [
    "plt.plot(coffee, energy, 'b.')\n",
    "plt.plot(coffee_, energy_predict, 'r.')\n",
    "plt.show()"
   ]
  },
  {
   "cell_type": "markdown",
   "metadata": {
    "colab_type": "text",
    "id": "2k_FnFl9fTVR"
   },
   "source": [
    "And we can calculate two points and use those to draw the regression line."
   ]
  },
  {
   "cell_type": "code",
   "execution_count": 29,
   "metadata": {
    "colab": {},
    "colab_type": "code",
    "id": "N1IdQ92Yfa64"
   },
   "outputs": [
    {
     "data": {
      "image/png": "[encoded data removed]",
      "text/plain": [
       "<Figure size 432x288 with 1 Axes>"
      ]
     },
     "metadata": {
      "needs_background": "light"
     },
     "output_type": "display_data"
    }
   ],
   "source": [
    "coffee_ = np.array([[0.0], [5.0]])\n",
    "energy_predict = lin_reg.predict(coffee_)\n",
    "\n",
    "plt.plot(coffee, energy, 'b.')\n",
    "plt.plot(coffee_, energy_predict, 'r-')\n",
    "plt.show()"
   ]
  },
  {
   "cell_type": "markdown",
   "metadata": {
    "colab_type": "text",
    "id": "-IbhNb9sfoXc"
   },
   "source": [
    "# Stochastic Gradient Descent\n",
    "\n",
    "It is not always practical to compute the linear regression using the entire training data set. For cases where training using the entire set is impractical the stochastic gradient descent method can be used. In SciKit Learn this is as simple as using the SGDRegressor."
   ]
  },
  {
   "cell_type": "code",
   "execution_count": 30,
   "metadata": {
    "colab": {},
    "colab_type": "code",
    "id": "_1ad3bCyHFHY"
   },
   "outputs": [
    {
     "data": {
      "text/plain": [
       "(array([2.96900976]), array([4.1024003]))"
      ]
     },
     "execution_count": 30,
     "metadata": {},
     "output_type": "execute_result"
    }
   ],
   "source": [
    "from sklearn.linear_model import SGDRegressor\n",
    "\n",
    "# Create a new Stochastic Gradient Descent regressor\n",
    "sgd_reg = SGDRegressor()\n",
    "\n",
    "# Fit the model\n",
    "sgd_reg.fit(coffee, energy.ravel())\n",
    "\n",
    "# Display the slope and intercept\n",
    "sgd_reg.coef_, sgd_reg.intercept_"
   ]
  },
  {
   "cell_type": "markdown",
   "metadata": {
    "colab_type": "text",
    "id": "HiPCUcIog3Tv"
   },
   "source": [
    "You might notice that the slope and intercept aren't nearly as accurate as what we were getting when processing the entire dataset. This is because the SGDRegressor is only using a subset of the training data."
   ]
  },
  {
   "cell_type": "markdown",
   "metadata": {
    "colab_type": "text",
    "id": "6070sBV2hGwZ"
   },
   "source": [
    "Let's take a look at the regression line calculated by the full linear regressor and the SGD one."
   ]
  },
  {
   "cell_type": "code",
   "execution_count": 31,
   "metadata": {
    "colab": {},
    "colab_type": "code",
    "id": "v0tqrFIlhO4f"
   },
   "outputs": [
    {
     "data": {
      "image/png": "[encoded data removed]",
      "text/plain": [
       "<Figure size 432x288 with 1 Axes>"
      ]
     },
     "metadata": {
      "needs_background": "light"
     },
     "output_type": "display_data"
    }
   ],
   "source": [
    "coffee_ = np.array([[0.0], [5.0]])\n",
    "\n",
    "lin_predict = lin_reg.predict(coffee_)\n",
    "sgd_predict = sgd_reg.predict(coffee_)\n",
    "\n",
    "plt.plot(coffee, energy, 'b.')\n",
    "plt.plot(coffee_, lin_predict, 'r-')\n",
    "plt.plot(coffee_, sgd_predict, 'g-')\n",
    "plt.show()"
   ]
  },
  {
   "cell_type": "markdown",
   "metadata": {
    "colab_type": "text",
    "id": "IYeviiuNi_Ut"
   },
   "source": [
    "# Challenge: Regressor Parameters\n",
    "\n",
    "The SGDRegressor has many parameters that can be tuned. Out-of-the-box, our regressor didn't do that well. Let's see if we can tune some of the parameters of the regressor to get its predicted values for the slope and intercept closer to those we predicted using the entire data set.\n",
    "\n",
    "Check out the [SGDRegressor documentation](https://scikit-learn.org/stable/modules/generated/sklearn.linear_model.SGDRegressor.html) and look over the parameters available. Pay special attention to parameters related to learning rate and iterations over the data. See if you can tweak the parameters to get with epsilon of our calculated values below. Think about why your changes worked."
   ]
  },
  {
   "cell_type": "code",
   "execution_count": 32,
   "metadata": {
    "colab": {},
    "colab_type": "code",
    "id": "Cszel2xOhsXm"
   },
   "outputs": [
    {
     "name": "stdout",
     "output_type": "stream",
     "text": [
      "You win!\n"
     ]
    }
   ],
   "source": [
    "sgd_reg = SGDRegressor(learning_rate ='adaptive', n_iter_no_change=10) # Update the parameters to SGDRegressor\n",
    "\n",
    "# Fit the model\n",
    "sgd_reg.fit(coffee, energy.ravel())\n",
    "\n",
    "EPSILON = 0.05\n",
    "if abs(calculated_slope - sgd_reg.coef_) < EPSILON and abs(calculated_intercept - sgd_reg.intercept_) < EPSILON:\n",
    "  print(\"You win!\")\n",
    "else:\n",
    "  print(\"Try again :(\")"
   ]
  },
  {
   "cell_type": "markdown",
   "metadata": {
    "colab_type": "text",
    "id": "mCpedmoekELg"
   },
   "source": [
    "# Challenge: Mini Batching\n",
    "\n",
    "So far in this colab every method that we have used relied on the entire dataset being in memory at one time. For \"big data\" problems, this won't always be possible.\n",
    "\n",
    "In the code below we have broken our data set up into small batches. In practice these batches might be loaded into memory one at a time. Each batch is fed to the SGDRegressor using the `partial_fit` method. This allows us to train the model in chunks.\n",
    "\n",
    "Your challenge is to mini-batch train the model within the desired epsilon of our calculated slope and intercept. You'll find hints in the [SGDRegressor](https://scikit-learn.org/stable/modules/generated/sklearn.linear_model.SGDRegressor.html) documentation by searching for `partial_fit`. Pay attention to parameters that don't apply to `partial_fit`."
   ]
  },
  {
   "cell_type": "code",
   "execution_count": 33,
   "metadata": {
    "colab": {},
    "colab_type": "code",
    "id": "yKt2XvVDIpt5"
   },
   "outputs": [
    {
     "name": "stdout",
     "output_type": "stream",
     "text": [
      "Intercept: [4.09698973], Coef: [2.99963704]\n",
      "You win!\n"
     ]
    }
   ],
   "source": [
    "BATCH_SIZE = 50\n",
    "\n",
    "sgd_reg = SGDRegressor()\n",
    "\n",
    "for n in range(15):\n",
    "  for i in range(0, DATA_SET_SIZE, BATCH_SIZE):\n",
    "    sgd_reg.partial_fit(coffee[i:i+BATCH_SIZE], energy[i:i+BATCH_SIZE].ravel())\n",
    "\n",
    "print(\"Intercept: {}, Coef: {}\".format(sgd_reg.intercept_, sgd_reg.coef_))\n",
    "\n",
    "EPSILON = 0.05\n",
    "if abs(calculated_slope - sgd_reg.coef_) < EPSILON and abs(calculated_intercept - sgd_reg.intercept_) < EPSILON:\n",
    "  print(\"You win!\")\n",
    "else:\n",
    "  print(\"Try again :(\")"
   ]
  },
  {
   "cell_type": "markdown",
   "metadata": {
    "colab_type": "text",
    "id": "hhnHS71gkTGG"
   },
   "source": [
    "# Exercises\n",
    "\n",
    "For these exercises we will download a CSV of life expectancies from [GapMinder](https://www.gapminder.org/data/) and create a liner regression for life expectancy in the United States."
   ]
  },
  {
   "cell_type": "markdown",
   "metadata": {
    "colab_type": "text",
    "id": "TeZpmfYslA0n"
   },
   "source": [
    "## Exercise 1: Obtain the data"
   ]
  },
  {
   "cell_type": "markdown",
   "metadata": {
    "colab_type": "text",
    "id": "MAp0fOaingQL"
   },
   "source": [
    "Download a CSV of life expectancy data from [GapMinder](https://www.gapminder.org/data/), upload it to this Colab, and read the data into memory using Pandas.\n",
    "\n",
    "Examine the data using describe."
   ]
  },
  {
   "cell_type": "markdown",
   "metadata": {
    "colab_type": "text",
    "id": "4k9TCn3KQpVe"
   },
   "source": [
    "### Student Solution"
   ]
  },
  {
   "cell_type": "code",
   "execution_count": 35,
   "metadata": {
    "colab": {},
    "colab_type": "code",
    "id": "wzylGqFydG7R"
   },
   "outputs": [],
   "source": [
    "# Your code goes here\n",
    "import numpy as np \n",
    "import pandas as pd\n",
    "import matplotlib\n",
    "import matplotlib.pyplot as plt\n",
    "import seaborn as sns\n",
    "\n",
    "dataset_filename = \"./life_expectancy_years.csv\"\n",
    "life_expectancy_years=pd.read_csv(dataset_filename)\n"
   ]
  },
  {
   "cell_type": "code",
   "execution_count": 36,
   "metadata": {
    "colab": {},
    "colab_type": "code",
    "id": "ooHJR9mZJEmw"
   },
   "outputs": [
    {
     "data": {
      "text/html": [
       "<div>\n",
       "<style scoped>\n",
       "    .dataframe tbody tr th:only-of-type {\n",
       "        vertical-align: middle;\n",
       "    }\n",
       "\n",
       "    .dataframe tbody tr th {\n",
       "        vertical-align: top;\n",
       "    }\n",
       "\n",
       "    .dataframe thead th {\n",
       "        text-align: right;\n",
       "    }\n",
       "</style>\n",
       "<table border=\"1\" class=\"dataframe\">\n",
       "  <thead>\n",
       "    <tr style=\"text-align: right;\">\n",
       "      <th></th>\n",
       "      <th>1800</th>\n",
       "      <th>1801</th>\n",
       "      <th>1802</th>\n",
       "      <th>1803</th>\n",
       "      <th>1804</th>\n",
       "      <th>1805</th>\n",
       "      <th>1806</th>\n",
       "      <th>1807</th>\n",
       "      <th>1808</th>\n",
       "      <th>1809</th>\n",
       "      <th>...</th>\n",
       "      <th>2009</th>\n",
       "      <th>2010</th>\n",
       "      <th>2011</th>\n",
       "      <th>2012</th>\n",
       "      <th>2013</th>\n",
       "      <th>2014</th>\n",
       "      <th>2015</th>\n",
       "      <th>2016</th>\n",
       "      <th>2017</th>\n",
       "      <th>2018</th>\n",
       "    </tr>\n",
       "  </thead>\n",
       "  <tbody>\n",
       "    <tr>\n",
       "      <th>count</th>\n",
       "      <td>184.000000</td>\n",
       "      <td>184.000000</td>\n",
       "      <td>184.000000</td>\n",
       "      <td>184.000000</td>\n",
       "      <td>184.000000</td>\n",
       "      <td>184.000000</td>\n",
       "      <td>184.000000</td>\n",
       "      <td>184.000000</td>\n",
       "      <td>184.000000</td>\n",
       "      <td>184.000000</td>\n",
       "      <td>...</td>\n",
       "      <td>187.000000</td>\n",
       "      <td>187.000000</td>\n",
       "      <td>187.000000</td>\n",
       "      <td>187.00000</td>\n",
       "      <td>187.000000</td>\n",
       "      <td>187.000000</td>\n",
       "      <td>187.000000</td>\n",
       "      <td>187.000000</td>\n",
       "      <td>184.000000</td>\n",
       "      <td>184.000000</td>\n",
       "    </tr>\n",
       "    <tr>\n",
       "      <th>mean</th>\n",
       "      <td>31.502717</td>\n",
       "      <td>31.461957</td>\n",
       "      <td>31.478804</td>\n",
       "      <td>31.383152</td>\n",
       "      <td>31.459239</td>\n",
       "      <td>31.586413</td>\n",
       "      <td>31.644565</td>\n",
       "      <td>31.598370</td>\n",
       "      <td>31.383152</td>\n",
       "      <td>31.310326</td>\n",
       "      <td>...</td>\n",
       "      <td>70.001070</td>\n",
       "      <td>70.225668</td>\n",
       "      <td>70.659358</td>\n",
       "      <td>71.05615</td>\n",
       "      <td>71.399465</td>\n",
       "      <td>71.622995</td>\n",
       "      <td>71.933690</td>\n",
       "      <td>72.206952</td>\n",
       "      <td>72.422283</td>\n",
       "      <td>72.658152</td>\n",
       "    </tr>\n",
       "    <tr>\n",
       "      <th>std</th>\n",
       "      <td>3.814689</td>\n",
       "      <td>3.806303</td>\n",
       "      <td>3.938674</td>\n",
       "      <td>3.962376</td>\n",
       "      <td>3.934674</td>\n",
       "      <td>4.010884</td>\n",
       "      <td>4.110598</td>\n",
       "      <td>3.981247</td>\n",
       "      <td>4.087872</td>\n",
       "      <td>4.040580</td>\n",
       "      <td>...</td>\n",
       "      <td>8.832102</td>\n",
       "      <td>9.050710</td>\n",
       "      <td>8.439841</td>\n",
       "      <td>8.18101</td>\n",
       "      <td>7.996165</td>\n",
       "      <td>7.889169</td>\n",
       "      <td>7.605557</td>\n",
       "      <td>7.414169</td>\n",
       "      <td>7.331040</td>\n",
       "      <td>7.252807</td>\n",
       "    </tr>\n",
       "    <tr>\n",
       "      <th>min</th>\n",
       "      <td>23.400000</td>\n",
       "      <td>23.400000</td>\n",
       "      <td>23.400000</td>\n",
       "      <td>19.600000</td>\n",
       "      <td>23.400000</td>\n",
       "      <td>23.400000</td>\n",
       "      <td>23.400000</td>\n",
       "      <td>23.400000</td>\n",
       "      <td>12.500000</td>\n",
       "      <td>13.400000</td>\n",
       "      <td>...</td>\n",
       "      <td>45.400000</td>\n",
       "      <td>32.100000</td>\n",
       "      <td>47.500000</td>\n",
       "      <td>47.90000</td>\n",
       "      <td>48.000000</td>\n",
       "      <td>48.400000</td>\n",
       "      <td>49.600000</td>\n",
       "      <td>50.300000</td>\n",
       "      <td>50.800000</td>\n",
       "      <td>51.100000</td>\n",
       "    </tr>\n",
       "    <tr>\n",
       "      <th>25%</th>\n",
       "      <td>29.075000</td>\n",
       "      <td>28.975000</td>\n",
       "      <td>28.900000</td>\n",
       "      <td>28.900000</td>\n",
       "      <td>28.975000</td>\n",
       "      <td>29.075000</td>\n",
       "      <td>29.075000</td>\n",
       "      <td>29.075000</td>\n",
       "      <td>28.975000</td>\n",
       "      <td>28.875000</td>\n",
       "      <td>...</td>\n",
       "      <td>63.400000</td>\n",
       "      <td>63.900000</td>\n",
       "      <td>64.300000</td>\n",
       "      <td>65.00000</td>\n",
       "      <td>65.350000</td>\n",
       "      <td>65.550000</td>\n",
       "      <td>66.050000</td>\n",
       "      <td>66.650000</td>\n",
       "      <td>66.900000</td>\n",
       "      <td>67.100000</td>\n",
       "    </tr>\n",
       "    <tr>\n",
       "      <th>50%</th>\n",
       "      <td>31.750000</td>\n",
       "      <td>31.650000</td>\n",
       "      <td>31.550000</td>\n",
       "      <td>31.500000</td>\n",
       "      <td>31.550000</td>\n",
       "      <td>31.650000</td>\n",
       "      <td>31.750000</td>\n",
       "      <td>31.750000</td>\n",
       "      <td>31.550000</td>\n",
       "      <td>31.500000</td>\n",
       "      <td>...</td>\n",
       "      <td>72.500000</td>\n",
       "      <td>72.600000</td>\n",
       "      <td>72.700000</td>\n",
       "      <td>72.80000</td>\n",
       "      <td>72.900000</td>\n",
       "      <td>73.000000</td>\n",
       "      <td>73.300000</td>\n",
       "      <td>73.500000</td>\n",
       "      <td>73.700000</td>\n",
       "      <td>74.050000</td>\n",
       "    </tr>\n",
       "    <tr>\n",
       "      <th>75%</th>\n",
       "      <td>33.825000</td>\n",
       "      <td>33.900000</td>\n",
       "      <td>33.825000</td>\n",
       "      <td>33.625000</td>\n",
       "      <td>33.725000</td>\n",
       "      <td>33.825000</td>\n",
       "      <td>33.925000</td>\n",
       "      <td>33.925000</td>\n",
       "      <td>33.725000</td>\n",
       "      <td>33.625000</td>\n",
       "      <td>...</td>\n",
       "      <td>76.600000</td>\n",
       "      <td>76.700000</td>\n",
       "      <td>76.900000</td>\n",
       "      <td>77.00000</td>\n",
       "      <td>77.200000</td>\n",
       "      <td>77.350000</td>\n",
       "      <td>77.500000</td>\n",
       "      <td>77.650000</td>\n",
       "      <td>77.825000</td>\n",
       "      <td>78.025000</td>\n",
       "    </tr>\n",
       "    <tr>\n",
       "      <th>max</th>\n",
       "      <td>42.900000</td>\n",
       "      <td>40.300000</td>\n",
       "      <td>44.400000</td>\n",
       "      <td>44.800000</td>\n",
       "      <td>42.800000</td>\n",
       "      <td>44.300000</td>\n",
       "      <td>45.800000</td>\n",
       "      <td>43.600000</td>\n",
       "      <td>43.500000</td>\n",
       "      <td>41.700000</td>\n",
       "      <td>...</td>\n",
       "      <td>82.700000</td>\n",
       "      <td>82.800000</td>\n",
       "      <td>82.900000</td>\n",
       "      <td>83.20000</td>\n",
       "      <td>83.400000</td>\n",
       "      <td>83.600000</td>\n",
       "      <td>83.800000</td>\n",
       "      <td>83.900000</td>\n",
       "      <td>84.000000</td>\n",
       "      <td>84.200000</td>\n",
       "    </tr>\n",
       "  </tbody>\n",
       "</table>\n",
       "<p>8 rows × 219 columns</p>\n",
       "</div>"
      ],
      "text/plain": [
       "             1800        1801        1802        1803        1804        1805  \\\n",
       "count  184.000000  184.000000  184.000000  184.000000  184.000000  184.000000   \n",
       "mean    31.502717   31.461957   31.478804   31.383152   31.459239   31.586413   \n",
       "std      3.814689    3.806303    3.938674    3.962376    3.934674    4.010884   \n",
       "min     23.400000   23.400000   23.400000   19.600000   23.400000   23.400000   \n",
       "25%     29.075000   28.975000   28.900000   28.900000   28.975000   29.075000   \n",
       "50%     31.750000   31.650000   31.550000   31.500000   31.550000   31.650000   \n",
       "75%     33.825000   33.900000   33.825000   33.625000   33.725000   33.825000   \n",
       "max     42.900000   40.300000   44.400000   44.800000   42.800000   44.300000   \n",
       "\n",
       "             1806        1807        1808        1809  ...        2009  \\\n",
       "count  184.000000  184.000000  184.000000  184.000000  ...  187.000000   \n",
       "mean    31.644565   31.598370   31.383152   31.310326  ...   70.001070   \n",
       "std      4.110598    3.981247    4.087872    4.040580  ...    8.832102   \n",
       "min     23.400000   23.400000   12.500000   13.400000  ...   45.400000   \n",
       "25%     29.075000   29.075000   28.975000   28.875000  ...   63.400000   \n",
       "50%     31.750000   31.750000   31.550000   31.500000  ...   72.500000   \n",
       "75%     33.925000   33.925000   33.725000   33.625000  ...   76.600000   \n",
       "max     45.800000   43.600000   43.500000   41.700000  ...   82.700000   \n",
       "\n",
       "             2010        2011       2012        2013        2014        2015  \\\n",
       "count  187.000000  187.000000  187.00000  187.000000  187.000000  187.000000   \n",
       "mean    70.225668   70.659358   71.05615   71.399465   71.622995   71.933690   \n",
       "std      9.050710    8.439841    8.18101    7.996165    7.889169    7.605557   \n",
       "min     32.100000   47.500000   47.90000   48.000000   48.400000   49.600000   \n",
       "25%     63.900000   64.300000   65.00000   65.350000   65.550000   66.050000   \n",
       "50%     72.600000   72.700000   72.80000   72.900000   73.000000   73.300000   \n",
       "75%     76.700000   76.900000   77.00000   77.200000   77.350000   77.500000   \n",
       "max     82.800000   82.900000   83.20000   83.400000   83.600000   83.800000   \n",
       "\n",
       "             2016        2017        2018  \n",
       "count  187.000000  184.000000  184.000000  \n",
       "mean    72.206952   72.422283   72.658152  \n",
       "std      7.414169    7.331040    7.252807  \n",
       "min     50.300000   50.800000   51.100000  \n",
       "25%     66.650000   66.900000   67.100000  \n",
       "50%     73.500000   73.700000   74.050000  \n",
       "75%     77.650000   77.825000   78.025000  \n",
       "max     83.900000   84.000000   84.200000  \n",
       "\n",
       "[8 rows x 219 columns]"
      ]
     },
     "execution_count": 36,
     "metadata": {},
     "output_type": "execute_result"
    }
   ],
   "source": [
    "life_expectancy_years.describe()"
   ]
  },
  {
   "cell_type": "markdown",
   "metadata": {
    "colab_type": "text",
    "id": "hm_yiqt9lkRh"
   },
   "source": [
    "## Exercise 2: Look at the data"
   ]
  },
  {
   "cell_type": "markdown",
   "metadata": {
    "colab_type": "text",
    "id": "Wef2akPdniWy"
   },
   "source": [
    "Examine the data using head and/or tail."
   ]
  },
  {
   "cell_type": "markdown",
   "metadata": {
    "colab_type": "text",
    "id": "xPk41fIoQ6sv"
   },
   "source": [
    "### Student Solution"
   ]
  },
  {
   "cell_type": "code",
   "execution_count": 37,
   "metadata": {
    "colab": {},
    "colab_type": "code",
    "id": "rO2eP1B_dyFA"
   },
   "outputs": [
    {
     "data": {
      "text/html": [
       "<div>\n",
       "<style scoped>\n",
       "    .dataframe tbody tr th:only-of-type {\n",
       "        vertical-align: middle;\n",
       "    }\n",
       "\n",
       "    .dataframe tbody tr th {\n",
       "        vertical-align: top;\n",
       "    }\n",
       "\n",
       "    .dataframe thead th {\n",
       "        text-align: right;\n",
       "    }\n",
       "</style>\n",
       "<table border=\"1\" class=\"dataframe\">\n",
       "  <thead>\n",
       "    <tr style=\"text-align: right;\">\n",
       "      <th></th>\n",
       "      <th>country</th>\n",
       "      <th>1800</th>\n",
       "      <th>1801</th>\n",
       "      <th>1802</th>\n",
       "      <th>1803</th>\n",
       "      <th>1804</th>\n",
       "      <th>1805</th>\n",
       "      <th>1806</th>\n",
       "      <th>1807</th>\n",
       "      <th>1808</th>\n",
       "      <th>...</th>\n",
       "      <th>2009</th>\n",
       "      <th>2010</th>\n",
       "      <th>2011</th>\n",
       "      <th>2012</th>\n",
       "      <th>2013</th>\n",
       "      <th>2014</th>\n",
       "      <th>2015</th>\n",
       "      <th>2016</th>\n",
       "      <th>2017</th>\n",
       "      <th>2018</th>\n",
       "    </tr>\n",
       "  </thead>\n",
       "  <tbody>\n",
       "    <tr>\n",
       "      <th>0</th>\n",
       "      <td>Afghanistan</td>\n",
       "      <td>28.2</td>\n",
       "      <td>28.2</td>\n",
       "      <td>28.2</td>\n",
       "      <td>28.2</td>\n",
       "      <td>28.2</td>\n",
       "      <td>28.2</td>\n",
       "      <td>28.1</td>\n",
       "      <td>28.1</td>\n",
       "      <td>28.1</td>\n",
       "      <td>...</td>\n",
       "      <td>55.7</td>\n",
       "      <td>56.2</td>\n",
       "      <td>56.7</td>\n",
       "      <td>57.2</td>\n",
       "      <td>57.7</td>\n",
       "      <td>57.8</td>\n",
       "      <td>57.9</td>\n",
       "      <td>58.0</td>\n",
       "      <td>58.4</td>\n",
       "      <td>58.7</td>\n",
       "    </tr>\n",
       "    <tr>\n",
       "      <th>1</th>\n",
       "      <td>Albania</td>\n",
       "      <td>35.4</td>\n",
       "      <td>35.4</td>\n",
       "      <td>35.4</td>\n",
       "      <td>35.4</td>\n",
       "      <td>35.4</td>\n",
       "      <td>35.4</td>\n",
       "      <td>35.4</td>\n",
       "      <td>35.4</td>\n",
       "      <td>35.4</td>\n",
       "      <td>...</td>\n",
       "      <td>75.9</td>\n",
       "      <td>76.3</td>\n",
       "      <td>76.7</td>\n",
       "      <td>77.0</td>\n",
       "      <td>77.2</td>\n",
       "      <td>77.4</td>\n",
       "      <td>77.6</td>\n",
       "      <td>77.7</td>\n",
       "      <td>77.9</td>\n",
       "      <td>78.0</td>\n",
       "    </tr>\n",
       "    <tr>\n",
       "      <th>2</th>\n",
       "      <td>Algeria</td>\n",
       "      <td>28.8</td>\n",
       "      <td>28.8</td>\n",
       "      <td>28.8</td>\n",
       "      <td>28.8</td>\n",
       "      <td>28.8</td>\n",
       "      <td>28.8</td>\n",
       "      <td>28.8</td>\n",
       "      <td>28.8</td>\n",
       "      <td>28.8</td>\n",
       "      <td>...</td>\n",
       "      <td>76.3</td>\n",
       "      <td>76.5</td>\n",
       "      <td>76.7</td>\n",
       "      <td>76.8</td>\n",
       "      <td>77.0</td>\n",
       "      <td>77.1</td>\n",
       "      <td>77.3</td>\n",
       "      <td>77.4</td>\n",
       "      <td>77.6</td>\n",
       "      <td>77.9</td>\n",
       "    </tr>\n",
       "    <tr>\n",
       "      <th>3</th>\n",
       "      <td>Andorra</td>\n",
       "      <td>NaN</td>\n",
       "      <td>NaN</td>\n",
       "      <td>NaN</td>\n",
       "      <td>NaN</td>\n",
       "      <td>NaN</td>\n",
       "      <td>NaN</td>\n",
       "      <td>NaN</td>\n",
       "      <td>NaN</td>\n",
       "      <td>NaN</td>\n",
       "      <td>...</td>\n",
       "      <td>82.7</td>\n",
       "      <td>82.7</td>\n",
       "      <td>82.6</td>\n",
       "      <td>82.6</td>\n",
       "      <td>82.6</td>\n",
       "      <td>82.6</td>\n",
       "      <td>82.5</td>\n",
       "      <td>82.5</td>\n",
       "      <td>NaN</td>\n",
       "      <td>NaN</td>\n",
       "    </tr>\n",
       "    <tr>\n",
       "      <th>4</th>\n",
       "      <td>Angola</td>\n",
       "      <td>27.0</td>\n",
       "      <td>27.0</td>\n",
       "      <td>27.0</td>\n",
       "      <td>27.0</td>\n",
       "      <td>27.0</td>\n",
       "      <td>27.0</td>\n",
       "      <td>27.0</td>\n",
       "      <td>27.0</td>\n",
       "      <td>27.0</td>\n",
       "      <td>...</td>\n",
       "      <td>59.3</td>\n",
       "      <td>60.1</td>\n",
       "      <td>60.9</td>\n",
       "      <td>61.7</td>\n",
       "      <td>62.5</td>\n",
       "      <td>63.3</td>\n",
       "      <td>64.0</td>\n",
       "      <td>64.7</td>\n",
       "      <td>64.9</td>\n",
       "      <td>65.2</td>\n",
       "    </tr>\n",
       "  </tbody>\n",
       "</table>\n",
       "<p>5 rows × 220 columns</p>\n",
       "</div>"
      ],
      "text/plain": [
       "       country  1800  1801  1802  1803  1804  1805  1806  1807  1808  ...  \\\n",
       "0  Afghanistan  28.2  28.2  28.2  28.2  28.2  28.2  28.1  28.1  28.1  ...   \n",
       "1      Albania  35.4  35.4  35.4  35.4  35.4  35.4  35.4  35.4  35.4  ...   \n",
       "2      Algeria  28.8  28.8  28.8  28.8  28.8  28.8  28.8  28.8  28.8  ...   \n",
       "3      Andorra   NaN   NaN   NaN   NaN   NaN   NaN   NaN   NaN   NaN  ...   \n",
       "4       Angola  27.0  27.0  27.0  27.0  27.0  27.0  27.0  27.0  27.0  ...   \n",
       "\n",
       "   2009  2010  2011  2012  2013  2014  2015  2016  2017  2018  \n",
       "0  55.7  56.2  56.7  57.2  57.7  57.8  57.9  58.0  58.4  58.7  \n",
       "1  75.9  76.3  76.7  77.0  77.2  77.4  77.6  77.7  77.9  78.0  \n",
       "2  76.3  76.5  76.7  76.8  77.0  77.1  77.3  77.4  77.6  77.9  \n",
       "3  82.7  82.7  82.6  82.6  82.6  82.6  82.5  82.5   NaN   NaN  \n",
       "4  59.3  60.1  60.9  61.7  62.5  63.3  64.0  64.7  64.9  65.2  \n",
       "\n",
       "[5 rows x 220 columns]"
      ]
     },
     "execution_count": 37,
     "metadata": {},
     "output_type": "execute_result"
    }
   ],
   "source": [
    "# Your code goes here\n",
    "life_expectancy_years.head()\n"
   ]
  },
  {
   "cell_type": "code",
   "execution_count": 38,
   "metadata": {
    "colab": {},
    "colab_type": "code",
    "id": "QSGnWXNsK6hc"
   },
   "outputs": [
    {
     "data": {
      "text/html": [
       "<div>\n",
       "<style scoped>\n",
       "    .dataframe tbody tr th:only-of-type {\n",
       "        vertical-align: middle;\n",
       "    }\n",
       "\n",
       "    .dataframe tbody tr th {\n",
       "        vertical-align: top;\n",
       "    }\n",
       "\n",
       "    .dataframe thead th {\n",
       "        text-align: right;\n",
       "    }\n",
       "</style>\n",
       "<table border=\"1\" class=\"dataframe\">\n",
       "  <thead>\n",
       "    <tr style=\"text-align: right;\">\n",
       "      <th></th>\n",
       "      <th>country</th>\n",
       "      <th>1800</th>\n",
       "      <th>1801</th>\n",
       "      <th>1802</th>\n",
       "      <th>1803</th>\n",
       "      <th>1804</th>\n",
       "      <th>1805</th>\n",
       "      <th>1806</th>\n",
       "      <th>1807</th>\n",
       "      <th>1808</th>\n",
       "      <th>...</th>\n",
       "      <th>2009</th>\n",
       "      <th>2010</th>\n",
       "      <th>2011</th>\n",
       "      <th>2012</th>\n",
       "      <th>2013</th>\n",
       "      <th>2014</th>\n",
       "      <th>2015</th>\n",
       "      <th>2016</th>\n",
       "      <th>2017</th>\n",
       "      <th>2018</th>\n",
       "    </tr>\n",
       "  </thead>\n",
       "  <tbody>\n",
       "    <tr>\n",
       "      <th>182</th>\n",
       "      <td>Venezuela</td>\n",
       "      <td>32.2</td>\n",
       "      <td>32.2</td>\n",
       "      <td>32.2</td>\n",
       "      <td>32.2</td>\n",
       "      <td>32.2</td>\n",
       "      <td>32.2</td>\n",
       "      <td>32.2</td>\n",
       "      <td>32.2</td>\n",
       "      <td>32.2</td>\n",
       "      <td>...</td>\n",
       "      <td>75.0</td>\n",
       "      <td>75.4</td>\n",
       "      <td>75.4</td>\n",
       "      <td>75.3</td>\n",
       "      <td>75.4</td>\n",
       "      <td>75.5</td>\n",
       "      <td>75.5</td>\n",
       "      <td>75.5</td>\n",
       "      <td>75.7</td>\n",
       "      <td>75.9</td>\n",
       "    </tr>\n",
       "    <tr>\n",
       "      <th>183</th>\n",
       "      <td>Vietnam</td>\n",
       "      <td>32.0</td>\n",
       "      <td>32.0</td>\n",
       "      <td>32.0</td>\n",
       "      <td>32.0</td>\n",
       "      <td>32.0</td>\n",
       "      <td>32.0</td>\n",
       "      <td>32.0</td>\n",
       "      <td>32.0</td>\n",
       "      <td>32.0</td>\n",
       "      <td>...</td>\n",
       "      <td>72.8</td>\n",
       "      <td>73.1</td>\n",
       "      <td>73.3</td>\n",
       "      <td>73.6</td>\n",
       "      <td>73.8</td>\n",
       "      <td>74.1</td>\n",
       "      <td>74.3</td>\n",
       "      <td>74.5</td>\n",
       "      <td>74.7</td>\n",
       "      <td>74.9</td>\n",
       "    </tr>\n",
       "    <tr>\n",
       "      <th>184</th>\n",
       "      <td>Yemen</td>\n",
       "      <td>23.4</td>\n",
       "      <td>23.4</td>\n",
       "      <td>23.4</td>\n",
       "      <td>23.4</td>\n",
       "      <td>23.4</td>\n",
       "      <td>23.4</td>\n",
       "      <td>23.4</td>\n",
       "      <td>23.4</td>\n",
       "      <td>23.4</td>\n",
       "      <td>...</td>\n",
       "      <td>67.0</td>\n",
       "      <td>67.5</td>\n",
       "      <td>67.7</td>\n",
       "      <td>67.9</td>\n",
       "      <td>68.4</td>\n",
       "      <td>68.4</td>\n",
       "      <td>67.2</td>\n",
       "      <td>66.7</td>\n",
       "      <td>66.9</td>\n",
       "      <td>67.1</td>\n",
       "    </tr>\n",
       "    <tr>\n",
       "      <th>185</th>\n",
       "      <td>Zambia</td>\n",
       "      <td>32.6</td>\n",
       "      <td>32.6</td>\n",
       "      <td>32.6</td>\n",
       "      <td>32.6</td>\n",
       "      <td>32.6</td>\n",
       "      <td>32.6</td>\n",
       "      <td>32.6</td>\n",
       "      <td>32.6</td>\n",
       "      <td>32.6</td>\n",
       "      <td>...</td>\n",
       "      <td>50.7</td>\n",
       "      <td>52.0</td>\n",
       "      <td>53.2</td>\n",
       "      <td>54.5</td>\n",
       "      <td>55.7</td>\n",
       "      <td>57.0</td>\n",
       "      <td>58.1</td>\n",
       "      <td>58.8</td>\n",
       "      <td>59.1</td>\n",
       "      <td>59.5</td>\n",
       "    </tr>\n",
       "    <tr>\n",
       "      <th>186</th>\n",
       "      <td>Zimbabwe</td>\n",
       "      <td>33.7</td>\n",
       "      <td>33.7</td>\n",
       "      <td>33.7</td>\n",
       "      <td>33.7</td>\n",
       "      <td>33.7</td>\n",
       "      <td>33.7</td>\n",
       "      <td>33.7</td>\n",
       "      <td>33.7</td>\n",
       "      <td>33.7</td>\n",
       "      <td>...</td>\n",
       "      <td>47.5</td>\n",
       "      <td>49.6</td>\n",
       "      <td>51.9</td>\n",
       "      <td>54.1</td>\n",
       "      <td>55.6</td>\n",
       "      <td>57.0</td>\n",
       "      <td>58.3</td>\n",
       "      <td>59.3</td>\n",
       "      <td>59.8</td>\n",
       "      <td>60.2</td>\n",
       "    </tr>\n",
       "  </tbody>\n",
       "</table>\n",
       "<p>5 rows × 220 columns</p>\n",
       "</div>"
      ],
      "text/plain": [
       "       country  1800  1801  1802  1803  1804  1805  1806  1807  1808  ...  \\\n",
       "182  Venezuela  32.2  32.2  32.2  32.2  32.2  32.2  32.2  32.2  32.2  ...   \n",
       "183    Vietnam  32.0  32.0  32.0  32.0  32.0  32.0  32.0  32.0  32.0  ...   \n",
       "184      Yemen  23.4  23.4  23.4  23.4  23.4  23.4  23.4  23.4  23.4  ...   \n",
       "185     Zambia  32.6  32.6  32.6  32.6  32.6  32.6  32.6  32.6  32.6  ...   \n",
       "186   Zimbabwe  33.7  33.7  33.7  33.7  33.7  33.7  33.7  33.7  33.7  ...   \n",
       "\n",
       "     2009  2010  2011  2012  2013  2014  2015  2016  2017  2018  \n",
       "182  75.0  75.4  75.4  75.3  75.4  75.5  75.5  75.5  75.7  75.9  \n",
       "183  72.8  73.1  73.3  73.6  73.8  74.1  74.3  74.5  74.7  74.9  \n",
       "184  67.0  67.5  67.7  67.9  68.4  68.4  67.2  66.7  66.9  67.1  \n",
       "185  50.7  52.0  53.2  54.5  55.7  57.0  58.1  58.8  59.1  59.5  \n",
       "186  47.5  49.6  51.9  54.1  55.6  57.0  58.3  59.3  59.8  60.2  \n",
       "\n",
       "[5 rows x 220 columns]"
      ]
     },
     "execution_count": 38,
     "metadata": {},
     "output_type": "execute_result"
    }
   ],
   "source": [
    "life_expectancy_years.tail()"
   ]
  },
  {
   "cell_type": "markdown",
   "metadata": {
    "colab_type": "text",
    "id": "HKbB0goxl-gQ"
   },
   "source": [
    "## Exercise 3: Prep Life Expectancy"
   ]
  },
  {
   "cell_type": "markdown",
   "metadata": {
    "colab_type": "text",
    "id": "DEYyHO4knkg8"
   },
   "source": [
    "Extract the life expectancy values for the United States into a NumPy array. \n",
    "\n",
    "To do this you'll need to find the row that contains data for the United States. When you find that row of data you'll find the word 'United States' in the first column and then floating point numbers in subsequent columns. The goal of this step is to create a NumPy array containing those numbers."
   ]
  },
  {
   "cell_type": "markdown",
   "metadata": {
    "colab_type": "text",
    "id": "sSyjgiQXRHYC"
   },
   "source": [
    "### Student Solution"
   ]
  },
  {
   "cell_type": "code",
   "execution_count": 39,
   "metadata": {
    "colab": {},
    "colab_type": "code",
    "id": "6Z1Dz7Ffd6_Y"
   },
   "outputs": [
    {
     "data": {
      "text/plain": [
       "array([39.4, 39.4, 39.4, 39.4, 39.4, 39.4, 39.4, 39.4, 39.4, 39.4, 39.4,\n",
       "       39.4, 39.4, 39.4, 39.4, 39.4, 39.4, 39.4, 39.4, 39.4, 39.4, 39.4,\n",
       "       39.4, 39.4, 39.4, 39.4, 39.4, 39.4, 39.4, 39.4, 39.4, 39.4, 39.4,\n",
       "       39.4, 39.4, 39.4, 39.4, 39.4, 39.4, 39.4, 39.4, 39.4, 39.4, 39.4,\n",
       "       39.4, 39.4, 39.4, 39.4, 39.4, 39.4, 39.4, 39.4, 39.4, 39.4, 39.4,\n",
       "       39.4, 39.4, 39.4, 39.4, 39.4, 39.4, 38. , 34.5, 34. , 31. , 38. ,\n",
       "       39.4, 39.4, 39.4, 39.4, 39.4, 39.4, 39.4, 39.4, 39.4, 39.4, 39.4,\n",
       "       39.4, 39.4, 39.4, 39.4, 40. , 40.6, 41.1, 41.7, 42.3, 42.9, 43.5,\n",
       "       44. , 44.6, 45.2, 45.6, 45.9, 46.3, 46.7, 47.1, 47.4, 47.8, 48.2,\n",
       "       48.5, 48.9, 49.3, 50.5, 50.6, 49.6, 50.3, 50.1, 50.2, 51.9, 52.8,\n",
       "       51.8, 53.4, 54.1, 53.5, 54.6, 55.1, 54.2, 54. , 47.2, 55.3, 55.4,\n",
       "       58.2, 58.1, 57.5, 58.5, 58.5, 57.9, 59.4, 58.3, 58.5, 59.6, 60.3,\n",
       "       61. , 60.9, 60.3, 60.9, 60.4, 61.1, 62.4, 63.1, 63.2, 63.8, 64.6,\n",
       "       64.3, 65.1, 65.6, 66.3, 66.7, 67.3, 67.6, 68.1, 68.2, 68.4, 68.7,\n",
       "       69.5, 69.6, 69.7, 69.4, 69.7, 69.9, 69.9, 70.3, 70.2, 70. , 70.3,\n",
       "       70.3, 70.4, 70.7, 70.4, 70.6, 70.9, 71.1, 71.3, 71.6, 72. , 72.4,\n",
       "       72.8, 73.2, 73.5, 73.7, 73.9, 74.2, 74.4, 74.5, 74.6, 74.7, 74.8,\n",
       "       74.9, 75. , 75.2, 75.4, 75.5, 75.7, 75.7, 75.8, 75.9, 76.2, 76.6,\n",
       "       76.7, 76.8, 76.9, 77. , 77.1, 77.3, 77.5, 77.7, 77.9, 78.1, 78.3,\n",
       "       78.6, 78.7, 78.8, 78.9, 78.9, 78.9, 78.8, 78.8, 79. , 79.1])"
      ]
     },
     "execution_count": 39,
     "metadata": {},
     "output_type": "execute_result"
    }
   ],
   "source": [
    "# Your code goes here\n",
    "United_States = np.asarray(life_expectancy_years.loc[life_expectancy_years['country'] =='United States'].loc[:,'1800':]).ravel()\n",
    "United_States"
   ]
  },
  {
   "cell_type": "markdown",
   "metadata": {
    "colab_type": "text",
    "id": "VKjiMJUYmPxB"
   },
   "source": [
    "## Exercise 4: Create year data"
   ]
  },
  {
   "cell_type": "markdown",
   "metadata": {
    "colab_type": "text",
    "id": "fxaHozJBnnEZ"
   },
   "source": [
    "We need to now create an array of year data from the min to the max year in the dataset. There are a couple of ways that this can be done.\n",
    "\n",
    "The column names (except column 0) are the years. You can extract those years into an array similarly to what you did for life expectancy. Note that the columns names are strings so you'll want to convert those names into integers.\n",
    "\n",
    "If no years are missing from the data set you can also just use a range function to generate numbers between the min and max years."
   ]
  },
  {
   "cell_type": "markdown",
   "metadata": {
    "colab_type": "text",
    "id": "QImI7PELRSmz"
   },
   "source": [
    "### Student Solution"
   ]
  },
  {
   "cell_type": "code",
   "execution_count": 40,
   "metadata": {
    "colab": {},
    "colab_type": "code",
    "id": "dpPEWZK-fVl7"
   },
   "outputs": [
    {
     "data": {
      "text/plain": [
       "array([1800, 1801, 1802, 1803, 1804, 1805, 1806, 1807, 1808, 1809, 1810,\n",
       "       1811, 1812, 1813, 1814, 1815, 1816, 1817, 1818, 1819, 1820, 1821,\n",
       "       1822, 1823, 1824, 1825, 1826, 1827, 1828, 1829, 1830, 1831, 1832,\n",
       "       1833, 1834, 1835, 1836, 1837, 1838, 1839, 1840, 1841, 1842, 1843,\n",
       "       1844, 1845, 1846, 1847, 1848, 1849, 1850, 1851, 1852, 1853, 1854,\n",
       "       1855, 1856, 1857, 1858, 1859, 1860, 1861, 1862, 1863, 1864, 1865,\n",
       "       1866, 1867, 1868, 1869, 1870, 1871, 1872, 1873, 1874, 1875, 1876,\n",
       "       1877, 1878, 1879, 1880, 1881, 1882, 1883, 1884, 1885, 1886, 1887,\n",
       "       1888, 1889, 1890, 1891, 1892, 1893, 1894, 1895, 1896, 1897, 1898,\n",
       "       1899, 1900, 1901, 1902, 1903, 1904, 1905, 1906, 1907, 1908, 1909,\n",
       "       1910, 1911, 1912, 1913, 1914, 1915, 1916, 1917, 1918, 1919, 1920,\n",
       "       1921, 1922, 1923, 1924, 1925, 1926, 1927, 1928, 1929, 1930, 1931,\n",
       "       1932, 1933, 1934, 1935, 1936, 1937, 1938, 1939, 1940, 1941, 1942,\n",
       "       1943, 1944, 1945, 1946, 1947, 1948, 1949, 1950, 1951, 1952, 1953,\n",
       "       1954, 1955, 1956, 1957, 1958, 1959, 1960, 1961, 1962, 1963, 1964,\n",
       "       1965, 1966, 1967, 1968, 1969, 1970, 1971, 1972, 1973, 1974, 1975,\n",
       "       1976, 1977, 1978, 1979, 1980, 1981, 1982, 1983, 1984, 1985, 1986,\n",
       "       1987, 1988, 1989, 1990, 1991, 1992, 1993, 1994, 1995, 1996, 1997,\n",
       "       1998, 1999, 2000, 2001, 2002, 2003, 2004, 2005, 2006, 2007, 2008,\n",
       "       2009, 2010, 2011, 2012, 2013, 2014, 2015, 2016, 2017, 2018])"
      ]
     },
     "execution_count": 40,
     "metadata": {},
     "output_type": "execute_result"
    }
   ],
   "source": [
    "# Your code goes here\n",
    "year_data = np.array(life_expectancy_years.columns[1:].astype(int))\n",
    "year_data"
   ]
  },
  {
   "cell_type": "markdown",
   "metadata": {
    "colab_type": "text",
    "id": "XaAeDllAmeQk"
   },
   "source": [
    "## Exercise 5: Plot the data"
   ]
  },
  {
   "cell_type": "markdown",
   "metadata": {
    "colab_type": "text",
    "id": "Av4o6raqnpeT"
   },
   "source": [
    "Create a scatterplot of the data."
   ]
  },
  {
   "cell_type": "markdown",
   "metadata": {
    "colab_type": "text",
    "id": "R7sBzMhmRejB"
   },
   "source": [
    "### Student Solution"
   ]
  },
  {
   "cell_type": "code",
   "execution_count": 41,
   "metadata": {
    "colab": {},
    "colab_type": "code",
    "id": "iY2K1x7Wf-yr"
   },
   "outputs": [
    {
     "data": {
      "image/png": "[encoded data removed]",
      "text/plain": [
       "<Figure size 432x288 with 1 Axes>"
      ]
     },
     "metadata": {
      "needs_background": "light"
     },
     "output_type": "display_data"
    }
   ],
   "source": [
    "# Your code goes here\n",
    "plt.plot(year_data, United_States, 'b.')\n",
    "plt.show()"
   ]
  },
  {
   "cell_type": "markdown",
   "metadata": {
    "colab_type": "text",
    "id": "iQp6L7K2mj6F"
   },
   "source": [
    "## Exercise 6: Divide the data"
   ]
  },
  {
   "cell_type": "markdown",
   "metadata": {
    "colab_type": "text",
    "id": "ygr_3N79nsQu"
   },
   "source": [
    "Split off 20% of the data as a test set and keep the rest for training data.\n",
    "\n",
    "To do this, it will be useful to create a `DataFrame` and store the years and life expectancy arrays created above as columns in that data frame.\n",
    "\n",
    "You can then randomize and split the data frame or use ScikitLearn's built in test/train data splitter."
   ]
  },
  {
   "cell_type": "markdown",
   "metadata": {
    "colab_type": "text",
    "id": "JPUqZXnxR5d8"
   },
   "source": [
    "### Student Solution"
   ]
  },
  {
   "cell_type": "code",
   "execution_count": 42,
   "metadata": {
    "colab": {},
    "colab_type": "code",
    "id": "j4D8uwmhmqqp"
   },
   "outputs": [],
   "source": [
    "# Your code goes here\n",
    "from sklearn.model_selection import train_test_split\n",
    "\n",
    "data = pd.DataFrame({'year_data':year_data, 'United_States':United_States})\n",
    "xTrain, xTest, yTrain, yTest = train_test_split(data['year_data'], data['United_States'], test_size = 0.2, random_state = 0)"
   ]
  },
  {
   "cell_type": "markdown",
   "metadata": {
    "colab_type": "text",
    "id": "JN_s6eb_mswQ"
   },
   "source": [
    "## Exercise 7: Create and train a model"
   ]
  },
  {
   "cell_type": "markdown",
   "metadata": {
    "colab_type": "text",
    "id": "pV7ZhE6qnumn"
   },
   "source": [
    "Use LinearRegression to create a model."
   ]
  },
  {
   "cell_type": "markdown",
   "metadata": {
    "colab_type": "text",
    "id": "lDKFaGk4SHMA"
   },
   "source": [
    "### Student Solution"
   ]
  },
  {
   "cell_type": "code",
   "execution_count": 43,
   "metadata": {
    "colab": {},
    "colab_type": "code",
    "id": "-H0VAClvOACh"
   },
   "outputs": [
    {
     "data": {
      "text/plain": [
       "(array([0.2290769]), -382.5141375571503)"
      ]
     },
     "execution_count": 43,
     "metadata": {},
     "output_type": "execute_result"
    }
   ],
   "source": [
    "from sklearn.linear_model import LinearRegression\n",
    "\n",
    "xTrain = np.array(xTrain).reshape(-1, 1)\n",
    "lin_reg = LinearRegression()\n",
    "lin_reg.fit(xTrain.reshape(-1,1), yTrain.ravel())\n",
    "lin_reg.coef_, lin_reg.intercept_"
   ]
  },
  {
   "cell_type": "markdown",
   "metadata": {
    "colab_type": "text",
    "id": "dtFpVNwEnX9Q"
   },
   "source": [
    "## Exercise 8: Test your model"
   ]
  },
  {
   "cell_type": "markdown",
   "metadata": {
    "colab_type": "text",
    "id": "mALMCq0SnwoR"
   },
   "source": [
    "Use the test data you retained to make predictions of life expectancy based on year. Compare the predictions to the actual data. Use ScikitLearn to calculate root mean squared error."
   ]
  },
  {
   "cell_type": "markdown",
   "metadata": {
    "colab_type": "text",
    "id": "8my8vKLBSZPE"
   },
   "source": [
    "### Student Solution"
   ]
  },
  {
   "cell_type": "code",
   "execution_count": 44,
   "metadata": {
    "colab": {},
    "colab_type": "code",
    "id": "tw5OrtM7kyln"
   },
   "outputs": [
    {
     "data": {
      "text/plain": [
       "4.987961454211089"
      ]
     },
     "execution_count": 44,
     "metadata": {},
     "output_type": "execute_result"
    }
   ],
   "source": [
    "from sklearn.metrics import mean_squared_error\n",
    "from math import sqrt\n",
    "\n",
    "#rmse for test data\n",
    "year_ = np.array(xTest).reshape(-1, 1)\n",
    "life_predict = lin_reg.predict(year_)\n",
    "rmse = sqrt(mean_squared_error(yTest, life_predict))\n",
    "rmse"
   ]
  },
  {
   "cell_type": "code",
   "execution_count": 45,
   "metadata": {
    "colab": {},
    "colab_type": "code",
    "id": "hHr1RNJ_4uoh"
   },
   "outputs": [
    {
     "data": {
      "text/plain": [
       "4.3090313218593455"
      ]
     },
     "execution_count": 45,
     "metadata": {},
     "output_type": "execute_result"
    }
   ],
   "source": [
    "#rmse for full data\n",
    "year_ = np.array(year_data).reshape(-1, 1)\n",
    "life_predict = lin_reg.predict(year_)\n",
    "rmse = sqrt(mean_squared_error(United_States, life_predict))\n",
    "rmse"
   ]
  },
  {
   "cell_type": "markdown",
   "metadata": {
    "colab_type": "text",
    "id": "yN34XjZpn8YS"
   },
   "source": [
    "## Exercise 9: Plot your regression"
   ]
  },
  {
   "cell_type": "markdown",
   "metadata": {
    "colab_type": "text",
    "id": "6XxLAdoan1J6"
   },
   "source": [
    "Create a scatter plot of the full set of life expectancy data. Draw your regression line over the scatterplot."
   ]
  },
  {
   "cell_type": "markdown",
   "metadata": {
    "colab_type": "text",
    "id": "CtivIm4GSoVI"
   },
   "source": [
    "### Student Solution"
   ]
  },
  {
   "cell_type": "code",
   "execution_count": 46,
   "metadata": {
    "colab": {},
    "colab_type": "code",
    "id": "XJUdILlKoQ4T"
   },
   "outputs": [
    {
     "data": {
      "image/png": "[encoded data removed]",
      "text/plain": [
       "<Figure size 432x288 with 1 Axes>"
      ]
     },
     "metadata": {
      "needs_background": "light"
     },
     "output_type": "display_data"
    }
   ],
   "source": [
    "# Your code goes here\n",
    "# year_ = np.array(year_data).reshape(-1, 1)\n",
    "year_ = np.array([[1800.0],[2018.0]])\n",
    "life_predict = lin_reg.predict(year_)\n",
    "\n",
    "plt.plot(year_data, United_States, 'b.')\n",
    "plt.plot(year_, life_predict, 'r-')\n",
    "plt.show()"
   ]
  },
  {
   "cell_type": "markdown",
   "metadata": {
    "colab_type": "text",
    "id": "WClC4PzQIXXr"
   },
   "source": [
    "## Exercise 10: Challenge (Ungraded)"
   ]
  },
  {
   "cell_type": "markdown",
   "metadata": {
    "colab_type": "text",
    "id": "sJvVUYPmn4i9"
   },
   "source": [
    "The [CalCOFI](https://www.kaggle.com/sohier/calcofi/version/2) dataset contains decades of oceanic data. In this exercise we will use this data to attempt to predict water temperature based on salinity. The exercise is divided into multiple steps, each with a code block after it for your solution."
   ]
  },
  {
   "cell_type": "markdown",
   "metadata": {
    "colab_type": "text",
    "id": "IXJfxu8lKNsg"
   },
   "source": [
    "**Acquire the data**\n",
    "\n",
    "The [CalCOFI](https://www.kaggle.com/sohier/calcofi/version/2) data consists of two files, one containing data about \"Casts\" and the other about \"Bottles\". Look at the data files and try to get an understanding of what a cast is and what a bottle is.\n",
    "\n",
    "Find the file that contains temperature and salinity information, download that file, and then upload it to Colab. You'll want to use the zipped version of the file so that the upload doesn't take too long.\n",
    "\n",
    "Once the file is uploaded, write some Python code to unzip the file."
   ]
  },
  {
   "cell_type": "code",
   "execution_count": 48,
   "metadata": {
    "colab": {},
    "colab_type": "code",
    "id": "gzFfSFKJs5oe"
   },
   "outputs": [],
   "source": [
    "dataset_filename = \"./bottle.csv\"\n",
    "bottle=pd.read_csv(dataset_filename,low_memory=False)"
   ]
  },
  {
   "cell_type": "markdown",
   "metadata": {
    "colab_type": "text",
    "id": "4NAaW2FpLEe7"
   },
   "source": [
    "**Load the data using Pandas**\n",
    "\n",
    "Now that you have an unzipped version of the file you can load the data into memory using Pandas. Write code to read the file into memory and describe the data table that was created."
   ]
  },
  {
   "cell_type": "markdown",
   "metadata": {
    "colab_type": "text",
    "id": "y8My0tHlLhZV"
   },
   "source": [
    "**Drop rows with missing data**\n",
    "\n",
    "Looking at the counts for temperature and salinity you can see that there are some rows with missing data. Remove the rows with missing temperature or salinity data from the data frame. After you are done, describe the data to make sure that every temperature and salinity row has data."
   ]
  },
  {
   "cell_type": "code",
   "execution_count": 49,
   "metadata": {
    "colab": {},
    "colab_type": "code",
    "id": "fljE02HmxvXi"
   },
   "outputs": [
    {
     "name": "stdout",
     "output_type": "stream",
     "text": [
      "Temperature: 10963\n",
      "Salinity: 47354\n"
     ]
    }
   ],
   "source": [
    "bottle = bottle[['T_degC','Salnty']]\n",
    "n = len(bottle)\n",
    "print(\"Temperature: \"+ str(n-bottle['T_degC'].isnull().value_counts().values.tolist()[0]))\n",
    "print(\"Salinity: \"+ str(n-bottle['Salnty'].isnull().value_counts().values.tolist()[0]))"
   ]
  },
  {
   "cell_type": "code",
   "execution_count": 50,
   "metadata": {
    "colab": {},
    "colab_type": "code",
    "id": "IpE7dzhy0dV8"
   },
   "outputs": [
    {
     "name": "stdout",
     "output_type": "stream",
     "text": [
      "Temperature: 50616\n",
      "Salinity: 50616\n"
     ]
    }
   ],
   "source": [
    "bottle=bottle.dropna(axis=0)\n",
    "print(\"Temperature: \"+ str(n-bottle['T_degC'].isnull().value_counts().values.tolist()[0]))\n",
    "print(\"Salinity: \"+ str(n-bottle['Salnty'].isnull().value_counts().values.tolist()[0]))"
   ]
  },
  {
   "cell_type": "markdown",
   "metadata": {
    "colab_type": "text",
    "id": "n1pqkRynMBHK"
   },
   "source": [
    "**Plot the data**\n",
    "\n",
    "Create a scatterplot of salinity and temperature."
   ]
  },
  {
   "cell_type": "code",
   "execution_count": 51,
   "metadata": {
    "colab": {},
    "colab_type": "code",
    "id": "82VJUhQR6K1w"
   },
   "outputs": [
    {
     "data": {
      "text/plain": [
       "[<matplotlib.lines.Line2D at 0x11946c668>]"
      ]
     },
     "execution_count": 51,
     "metadata": {},
     "output_type": "execute_result"
    },
    {
     "data": {
      "image/png": "[encoded data removed]",
      "text/plain": [
       "<Figure size 432x288 with 1 Axes>"
      ]
     },
     "metadata": {
      "needs_background": "light"
     },
     "output_type": "display_data"
    }
   ],
   "source": [
    "plt.plot(bottle['T_degC'],bottle['Salnty'],'b.')"
   ]
  },
  {
   "cell_type": "code",
   "execution_count": 52,
   "metadata": {
    "colab": {},
    "colab_type": "code",
    "id": "fAVA6Y_4-BYF"
   },
   "outputs": [
    {
     "data": {
      "text/plain": [
       "[<matplotlib.lines.Line2D at 0x119758f28>]"
      ]
     },
     "execution_count": 52,
     "metadata": {},
     "output_type": "execute_result"
    },
    {
     "data": {
      "image/png": "[encoded data removed]",
      "text/plain": [
       "<Figure size 432x288 with 1 Axes>"
      ]
     },
     "metadata": {
      "needs_background": "light"
     },
     "output_type": "display_data"
    }
   ],
   "source": [
    "plt.plot(bottle['Salnty'],bottle['T_degC'],'b.')"
   ]
  },
  {
   "cell_type": "markdown",
   "metadata": {
    "colab_type": "text",
    "id": "44I2gHTnMPbh"
   },
   "source": [
    "**Shuffle the data**\n",
    "\n",
    "In this exercise we will split the data into a training and test set. Since the data is ordered we will shuffle the data frame before splitting it. Write code to shuffle the data frame and look at the data (using head, tail, or some other means) to make sure that it is shuffled."
   ]
  },
  {
   "cell_type": "code",
   "execution_count": 53,
   "metadata": {
    "colab": {},
    "colab_type": "code",
    "id": "6d2lh-oy-3EJ"
   },
   "outputs": [
    {
     "data": {
      "text/html": [
       "<div>\n",
       "<style scoped>\n",
       "    .dataframe tbody tr th:only-of-type {\n",
       "        vertical-align: middle;\n",
       "    }\n",
       "\n",
       "    .dataframe tbody tr th {\n",
       "        vertical-align: top;\n",
       "    }\n",
       "\n",
       "    .dataframe thead th {\n",
       "        text-align: right;\n",
       "    }\n",
       "</style>\n",
       "<table border=\"1\" class=\"dataframe\">\n",
       "  <thead>\n",
       "    <tr style=\"text-align: right;\">\n",
       "      <th></th>\n",
       "      <th>Temp</th>\n",
       "      <th>Salinity</th>\n",
       "    </tr>\n",
       "  </thead>\n",
       "  <tbody>\n",
       "    <tr>\n",
       "      <th>8177</th>\n",
       "      <td>5.510</td>\n",
       "      <td>34.2060</td>\n",
       "    </tr>\n",
       "    <tr>\n",
       "      <th>378245</th>\n",
       "      <td>5.300</td>\n",
       "      <td>34.2150</td>\n",
       "    </tr>\n",
       "    <tr>\n",
       "      <th>524160</th>\n",
       "      <td>9.890</td>\n",
       "      <td>33.4500</td>\n",
       "    </tr>\n",
       "    <tr>\n",
       "      <th>98001</th>\n",
       "      <td>9.570</td>\n",
       "      <td>34.5200</td>\n",
       "    </tr>\n",
       "    <tr>\n",
       "      <th>852460</th>\n",
       "      <td>8.617</td>\n",
       "      <td>33.8851</td>\n",
       "    </tr>\n",
       "  </tbody>\n",
       "</table>\n",
       "</div>"
      ],
      "text/plain": [
       "         Temp  Salinity\n",
       "8177    5.510   34.2060\n",
       "378245  5.300   34.2150\n",
       "524160  9.890   33.4500\n",
       "98001   9.570   34.5200\n",
       "852460  8.617   33.8851"
      ]
     },
     "execution_count": 53,
     "metadata": {},
     "output_type": "execute_result"
    }
   ],
   "source": [
    "from sklearn.model_selection import train_test_split\n",
    "from sklearn.utils import shuffle\n",
    "data = pd.DataFrame({'Temp':bottle['T_degC'], 'Salinity':bottle['Salnty']})\n",
    "data = shuffle(data)\n",
    "data.head()\n"
   ]
  },
  {
   "cell_type": "markdown",
   "metadata": {
    "colab_type": "text",
    "id": "7WlqxPwqMrsU"
   },
   "source": [
    "**Split the data frame**\n",
    "\n",
    "For this exercise we'll split the data frame so that 20% of the data is held out for testing and the remaining data is used for training. Write code below to split the data into two data frames, one for testing and one for training."
   ]
  },
  {
   "cell_type": "code",
   "execution_count": 54,
   "metadata": {
    "colab": {},
    "colab_type": "code",
    "id": "3xfmE45v_mUV"
   },
   "outputs": [],
   "source": [
    "xTrain, xTest, yTrain, yTest = train_test_split(data['Temp'], data['Salinity'], test_size = 0.2)"
   ]
  },
  {
   "cell_type": "code",
   "execution_count": 55,
   "metadata": {
    "colab": {},
    "colab_type": "code",
    "id": "HtrGB0Y0Yq7u"
   },
   "outputs": [],
   "source": [
    "xTrain, xTest, yTrain, yTest = train_test_split( data['Salinity'], data['Temp'],test_size = 0.2)"
   ]
  },
  {
   "cell_type": "markdown",
   "metadata": {
    "colab_type": "text",
    "id": "r7kzz9AJNOOQ"
   },
   "source": [
    "**Create a linear regression model**\n",
    "\n",
    "Use ScikitLearn's LinearRegression to fit a linear regression model to your training data."
   ]
  },
  {
   "cell_type": "code",
   "execution_count": 56,
   "metadata": {
    "colab": {},
    "colab_type": "code",
    "id": "wFKGqrVgXuTe"
   },
   "outputs": [
    {
     "data": {
      "text/plain": [
       "(array([-4.62542862]), 167.3885890303242)"
      ]
     },
     "execution_count": 56,
     "metadata": {},
     "output_type": "execute_result"
    }
   ],
   "source": [
    "from sklearn.linear_model import LinearRegression\n",
    "\n",
    "xTrain = np.array(xTrain).reshape(-1, 1)\n",
    "lin_reg = LinearRegression()\n",
    "lin_reg.fit(xTrain.reshape(-1,1), yTrain.ravel())\n",
    "lin_reg.coef_, lin_reg.intercept_"
   ]
  },
  {
   "cell_type": "markdown",
   "metadata": {
    "colab_type": "text",
    "id": "5lye2Pf_QUEA"
   },
   "source": [
    "**Test your model**\n",
    "\n",
    "Use your test data to make predictions and then find the mean squared error of those predictions vs. the actual measured temperatures for the test data.\n",
    "\n",
    "ScikitLearn has support for calculating mean squared error."
   ]
  },
  {
   "cell_type": "code",
   "execution_count": 57,
   "metadata": {
    "colab": {},
    "colab_type": "code",
    "id": "cCX-zsl9X1Jh"
   },
   "outputs": [
    {
     "data": {
      "text/plain": [
       "13.322965394971654"
      ]
     },
     "execution_count": 57,
     "metadata": {},
     "output_type": "execute_result"
    }
   ],
   "source": [
    "from sklearn.metrics import mean_squared_error\n",
    "from math import sqrt\n",
    "\n",
    "#rmse for test data\n",
    "year_ = np.array(xTest).reshape(-1, 1)\n",
    "life_predict = lin_reg.predict(year_)\n",
    "mse = mean_squared_error(yTest, life_predict)\n",
    "mse"
   ]
  },
  {
   "cell_type": "markdown",
   "metadata": {
    "colab_type": "text",
    "id": "mgStCm0HTYT_"
   },
   "source": [
    "**Plot your regression line**\n",
    "\n",
    "Create another plot that contains the scatterplot of the salinity and temperatures. Draw the prediction line over the scatterplot."
   ]
  },
  {
   "cell_type": "code",
   "execution_count": 58,
   "metadata": {
    "colab": {},
    "colab_type": "code",
    "id": "LE5cvx-bYA7Y"
   },
   "outputs": [
    {
     "data": {
      "image/png": "[encoded data removed]",
      "text/plain": [
       "<Figure size 432x288 with 1 Axes>"
      ]
     },
     "metadata": {
      "needs_background": "light"
     },
     "output_type": "display_data"
    }
   ],
   "source": [
    "temp_ = np.array([[bottle['T_degC'].min()],[bottle['T_degC'].max()]])\n",
    "san_predict = lin_reg.predict(temp_)\n",
    "\n",
    "plt.plot(bottle['T_degC'],bottle['Salnty'],'b.')\n",
    "plt.plot(temp_, san_predict, 'r-')\n",
    "plt.show()\n"
   ]
  },
  {
   "cell_type": "code",
   "execution_count": 59,
   "metadata": {
    "colab": {},
    "colab_type": "code",
    "id": "e1BFSx4XYxym"
   },
   "outputs": [
    {
     "data": {
      "image/png": "[encoded data removed]",
      "text/plain": [
       "<Figure size 432x288 with 1 Axes>"
      ]
     },
     "metadata": {
      "needs_background": "light"
     },
     "output_type": "display_data"
    }
   ],
   "source": [
    "temp_ = np.array([[bottle['Salnty'].min()],[bottle['Salnty'].max()]])\n",
    "san_predict = lin_reg.predict(temp_)\n",
    "\n",
    "plt.plot(bottle['Salnty'],bottle['T_degC'],'b.')\n",
    "plt.plot(temp_, san_predict, 'r-')\n",
    "plt.show()"
   ]
  }
 ],
 "metadata": {
  "colab": {
   "collapsed_sections": [
    "copyright"
   ],
   "name": "Huize Huang - T03-03 [00] Linear Regression With scikit-learn [Colab]",
   "private_outputs": true,
   "provenance": [],
   "toc_visible": true,
   "version": "0.3.2"
  },
  "kernelspec": {
   "display_name": "Python 3",
   "language": "python",
   "name": "python3"
  },
  "language_info": {
   "codemirror_mode": {
    "name": "ipython",
    "version": 3
   },
   "file_extension": ".py",
   "mimetype": "text/x-python",
   "name": "python",
   "nbconvert_exporter": "python",
   "pygments_lexer": "ipython3",
   "version": "3.6.8"
  }
 },
 "nbformat": 4,
 "nbformat_minor": 1
}
