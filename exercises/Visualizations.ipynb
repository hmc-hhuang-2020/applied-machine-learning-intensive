{
 "cells": [
  {
   "cell_type": "markdown",
   "metadata": {
    "colab_type": "text",
    "id": "copyright"
   },
   "source": [
    "#### Copyright 2019 Google LLC."
   ]
  },
  {
   "cell_type": "code",
   "execution_count": 1,
   "metadata": {
    "colab": {},
    "colab_type": "code",
    "id": "-Xt6PXeVjxQN"
   },
   "outputs": [],
   "source": [
    "# Licensed under the Apache License, Version 2.0 (the \"License\");\n",
    "# you may not use this file except in compliance with the License.\n",
    "# You may obtain a copy of the License at\n",
    "#\n",
    "# https://www.apache.org/licenses/LICENSE-2.0\n",
    "#\n",
    "# Unless required by applicable law or agreed to in writing, software\n",
    "# distributed under the License is distributed on an \"AS IS\" BASIS,\n",
    "# WITHOUT WARRANTIES OR CONDITIONS OF ANY KIND, either express or implied.\n",
    "# See the License for the specific language governing permissions and\n",
    "# limitations under the License."
   ]
  },
  {
   "cell_type": "markdown",
   "metadata": {
    "colab_type": "text",
    "id": "c2hPzRb6j_CA"
   },
   "source": [
    "# Visualizations"
   ]
  },
  {
   "cell_type": "markdown",
   "metadata": {
    "colab_type": "text",
    "id": "AajikVZckB8S"
   },
   "source": [
    "[NumPy](http://www.numpy.org/) and [Matplotlib](https://matplotlib.org/) are two packages that you'll use regularly throughout your machine learning code. These packages are tightly integrated with [Pandas](https://pandas.pydata.org/) and other machine learning libraries.\n",
    "\n",
    "NumPy is a package for scientific computing with Python. It makes working with multidimensional arrays easy and contains many useful linear algebra algorithms.\n",
    "\n",
    "Matplotlib is a library for creating two-dimensional charts. It is integrated with Pandas and can display charts in-line in Juypter notebooks and Colab."
   ]
  },
  {
   "cell_type": "markdown",
   "metadata": {
    "colab_type": "text",
    "id": "overview"
   },
   "source": [
    "## Overview"
   ]
  },
  {
   "cell_type": "markdown",
   "metadata": {
    "colab_type": "text",
    "id": "learning-objectives"
   },
   "source": [
    "### Learning Objectives\n",
    "\n",
    "* TODO(jmcadams)"
   ]
  },
  {
   "cell_type": "markdown",
   "metadata": {
    "colab_type": "text",
    "id": "VZe4Xj9tyQRD"
   },
   "source": [
    "### Prerequisites\n",
    "\n",
    "* TODO(jmcadams)"
   ]
  },
  {
   "cell_type": "markdown",
   "metadata": {
    "colab_type": "text",
    "id": "duration"
   },
   "source": [
    "### Estimated Duration\n",
    "\n",
    "60 minutes"
   ]
  },
  {
   "cell_type": "markdown",
   "metadata": {
    "colab_type": "text",
    "id": "sxmnIepvmdCx"
   },
   "source": [
    "## NumPy"
   ]
  },
  {
   "cell_type": "markdown",
   "metadata": {
    "colab_type": "text",
    "id": "mntl2Njdme0h"
   },
   "source": [
    "Python has a built in list data type. Lists are simply sequences of other pieces of data. The elements contained in a list could be of any data type that Python supports, including other lists.\n",
    "\n",
    "Lists are \"container\" data types. This means that they can contain other types of data. Dictionaries and tuples are also containers.\n",
    "\n",
    "A container can contain another container data type. This is referred to as \"nesting\". Nesting of data structures can be arbitrarily deep."
   ]
  },
  {
   "cell_type": "code",
   "execution_count": 2,
   "metadata": {
    "colab": {},
    "colab_type": "code",
    "id": "zKgNoBuEm2h0"
   },
   "outputs": [
    {
     "name": "stdout",
     "output_type": "stream",
     "text": [
      "[['a', 'b', 'c'], ['x', ['y', 'z']]]\n"
     ]
    }
   ],
   "source": [
    "my_list = [         # outermost list begins\n",
    "  ['a', 'b', 'c'],  # sub-list\n",
    "  ['x',             # another sub-list\n",
    "    ['y', 'z'],     # a sub-list two levels deep\n",
    "  ],\n",
    "]\n",
    "\n",
    "print(my_list)"
   ]
  },
  {
   "cell_type": "markdown",
   "metadata": {
    "colab_type": "text",
    "id": "6M-8k5jpoT6u"
   },
   "source": [
    "Python lists are powerful data structures, but for scientific computing and machine learning, NumPy provides an even more powerful structure: `numpy.array`.\n",
    "\n",
    "A `numpy.array` is an n-dimensional array. n can be 1 (similar to a flat list) or more.\n",
    "\n",
    "`numpy.array` also comes with utilities for performing mathematical operations to every element in the array, linear algebra, and manipulating the dimensions of the array.\n",
    "\n",
    "There are many ways to create an `numpy.array`, but one of the most straightforward is to use a Python list:"
   ]
  },
  {
   "cell_type": "code",
   "execution_count": 3,
   "metadata": {
    "colab": {},
    "colab_type": "code",
    "id": "Rsv7XHuOp3XM"
   },
   "outputs": [
    {
     "data": {
      "text/plain": [
       "array([4, 5, 6])"
      ]
     },
     "execution_count": 3,
     "metadata": {},
     "output_type": "execute_result"
    }
   ],
   "source": [
    "import numpy as np\n",
    "\n",
    "np.array([4, 5, 6])"
   ]
  },
  {
   "cell_type": "markdown",
   "metadata": {
    "colab_type": "text",
    "id": "KUAKzBi5p9Ux"
   },
   "source": [
    "You can even pass in nested lists:"
   ]
  },
  {
   "cell_type": "code",
   "execution_count": 4,
   "metadata": {
    "colab": {},
    "colab_type": "code",
    "id": "2HlrSGcXqAdK"
   },
   "outputs": [
    {
     "data": {
      "text/plain": [
       "array([[9, 8, 7],\n",
       "       [6, 5, 4],\n",
       "       [3, 2, 1]])"
      ]
     },
     "execution_count": 4,
     "metadata": {},
     "output_type": "execute_result"
    }
   ],
   "source": [
    "import numpy as np\n",
    "\n",
    "np.array(\n",
    "  [\n",
    "    [9, 8, 7],\n",
    "    [6, 5, 4],\n",
    "    [3, 2, 1],\n",
    "  ]\n",
    ")"
   ]
  },
  {
   "cell_type": "markdown",
   "metadata": {
    "colab_type": "text",
    "id": "cd-qNQo0rR2K"
   },
   "source": [
    "You can see the dimensions of the array by asking for its shape."
   ]
  },
  {
   "cell_type": "code",
   "execution_count": 5,
   "metadata": {
    "colab": {},
    "colab_type": "code",
    "id": "XmN5QQJIraG1"
   },
   "outputs": [
    {
     "name": "stdout",
     "output_type": "stream",
     "text": [
      "(2, 5)\n"
     ]
    }
   ],
   "source": [
    "import numpy as np\n",
    "\n",
    "my_array = np.array(\n",
    "  [\n",
    "    [9, 8, 7, 6, 5],\n",
    "    [4, 3, 2, 1, 0],\n",
    "  ]\n",
    ")\n",
    "\n",
    "print(my_array.shape)"
   ]
  },
  {
   "cell_type": "markdown",
   "metadata": {
    "colab_type": "text",
    "id": "MUthcR17qTPB"
   },
   "source": [
    "If you have a one-dimensional list and would like to convert it to a multidimensional `numpy.array`, you can just tell NumPy to reshape the array."
   ]
  },
  {
   "cell_type": "code",
   "execution_count": 6,
   "metadata": {
    "colab": {},
    "colab_type": "code",
    "id": "Wy6KZiJvqd6T"
   },
   "outputs": [
    {
     "name": "stdout",
     "output_type": "stream",
     "text": [
      "Starting shape: (21,)\n",
      "[ 0  1  2  3  4  5  6  7  8  9 10 11 12 13 14 15 16 17 18 19 20]\n",
      "New shape: (3, 7)\n",
      "[[ 0  1  2  3  4  5  6]\n",
      " [ 7  8  9 10 11 12 13]\n",
      " [14 15 16 17 18 19 20]]\n"
     ]
    }
   ],
   "source": [
    "import numpy as np\n",
    "\n",
    "# Create a one-dimensional array with 21 elements\n",
    "my_array = np.array(range(21))\n",
    "print(\"Starting shape: {}\".format(my_array.shape))\n",
    "print(my_array)\n",
    "\n",
    "# Reshape the array into a two-dimensional array\n",
    "my_array = my_array.reshape(3, 7)\n",
    "print(\"New shape: {}\".format(my_array.shape))\n",
    "print(my_array)"
   ]
  },
  {
   "cell_type": "markdown",
   "metadata": {
    "colab_type": "text",
    "id": "sM1lKMtfr752"
   },
   "source": [
    "There are convenience initializers for initializing an n-dimensional array with the same value in every element. In the example below we create a three-dimensional array with every element containing zeros. There are also a method for initializing a matrix with all [ones](https://docs.scipy.org/doc/numpy/reference/generated/numpy.ones.html#numpy.ones), [empty](https://docs.scipy.org/doc/numpy/reference/generated/numpy.empty.html#numpy.empty) values, from a [file](https://docs.scipy.org/doc/numpy/reference/generated/numpy.fromfile.html#numpy.fromfile), and more. Check out the [NumPy documentation](https://docs.scipy.org/doc/) for the full list of ways to create and initialize a `numpy.array`."
   ]
  },
  {
   "cell_type": "code",
   "execution_count": 7,
   "metadata": {
    "colab": {},
    "colab_type": "code",
    "id": "rdIKF77Wrq4z"
   },
   "outputs": [
    {
     "name": "stdout",
     "output_type": "stream",
     "text": [
      "[[[0. 0. 0. 0. 0.]\n",
      "  [0. 0. 0. 0. 0.]\n",
      "  [0. 0. 0. 0. 0.]\n",
      "  [0. 0. 0. 0. 0.]]\n",
      "\n",
      " [[0. 0. 0. 0. 0.]\n",
      "  [0. 0. 0. 0. 0.]\n",
      "  [0. 0. 0. 0. 0.]\n",
      "  [0. 0. 0. 0. 0.]]\n",
      "\n",
      " [[0. 0. 0. 0. 0.]\n",
      "  [0. 0. 0. 0. 0.]\n",
      "  [0. 0. 0. 0. 0.]\n",
      "  [0. 0. 0. 0. 0.]]]\n"
     ]
    }
   ],
   "source": [
    "import numpy as np\n",
    "\n",
    "my_array = np.zeros((3,4,5))\n",
    "\n",
    "print(my_array)"
   ]
  },
  {
   "cell_type": "markdown",
   "metadata": {
    "colab_type": "text",
    "id": "Dlzk45WLtdNm"
   },
   "source": [
    "You might have noticed in the call to `zeros` above that we passed in a tuple with the dimensions of the array that we wanted. `zeros` and many other NumPy functions that accept dimensions typically expect those dimensions to be provided as a list or tuple.\n",
    "\n",
    "For example, this is okay:\n",
    "\n",
    "```\n",
    "  np.zeros((2, 3))\n",
    "```\n",
    "\n",
    "As is this:\n",
    "\n",
    "```\n",
    "  np.zeros([2, 3])\n",
    "```\n",
    "\n",
    "But this is not:\n",
    "\n",
    "```\n",
    "  np.zeros(2, 3)\n",
    "```\n",
    "\n",
    "This is because these functions expect their first parameter to be the full set of dimensions. Packaging those dimensions in a list or tuple allows NumPy to know exactly which parameters are dimensions.\n",
    "\n",
    "You might have also noticed that our zeros were all floating point numbers. What if you wanted integers or some other data type? For that you can add a named `dtype` parameter."
   ]
  },
  {
   "cell_type": "code",
   "execution_count": 8,
   "metadata": {
    "colab": {},
    "colab_type": "code",
    "id": "DKklUNwZuc4T"
   },
   "outputs": [
    {
     "name": "stdout",
     "output_type": "stream",
     "text": [
      "[[[[0 0]\n",
      "   [0 0]]\n",
      "\n",
      "  [[0 0]\n",
      "   [0 0]]]\n",
      "\n",
      "\n",
      " [[[0 0]\n",
      "   [0 0]]\n",
      "\n",
      "  [[0 0]\n",
      "   [0 0]]]]\n"
     ]
    }
   ],
   "source": [
    "import numpy as np\n",
    "\n",
    "my_array = np.zeros((2,2,2,2), dtype='int')\n",
    "\n",
    "print(my_array)"
   ]
  },
  {
   "cell_type": "markdown",
   "metadata": {
    "colab_type": "text",
    "id": "gHWXoiv02IE9"
   },
   "source": [
    "It can also be useful to create arrays of random numbers. There are numerous functions for doing this, each with different characteristics for the numbers they generate.\n",
    "\n",
    "[numpy.random.random](https://docs.scipy.org/doc/numpy/reference/generated/numpy.random.random.html) generates floating point numbers between [0.0, 1.0) that are uniformly distributed while [numpy.random.standard_normal](https://docs.scipy.org/doc/numpy/reference/generated/numpy.random.standard_normal.html#numpy.random.standard_normal) generates numbers in a standard distribution. Check out [the documentation](https://docs.scipy.org/doc/numpy/reference/routines.random.html) for other functions for generating random numbers."
   ]
  },
  {
   "cell_type": "code",
   "execution_count": 9,
   "metadata": {
    "colab": {},
    "colab_type": "code",
    "id": "cwMXYygK2HgB"
   },
   "outputs": [
    {
     "name": "stdout",
     "output_type": "stream",
     "text": [
      "[[0.36354216 0.4304354  0.04998175]\n",
      " [0.01722808 0.51897618 0.6692965 ]]\n",
      "[[-0.04333496  0.82716245 -0.21426613]\n",
      " [ 0.58454978 -0.06061049  0.01817704]]\n"
     ]
    }
   ],
   "source": [
    "import numpy as np\n",
    "\n",
    "ran = np.random.random((2,3))\n",
    "std = np.random.standard_normal((2,3))\n",
    "\n",
    "print(ran)\n",
    "print(std)"
   ]
  },
  {
   "cell_type": "markdown",
   "metadata": {
    "colab_type": "text",
    "id": "yCPTYSl5unat"
   },
   "source": [
    "Now that we know how to create a `numpy.array` we can move on and start using the array.\n",
    "\n",
    "One of the simplest ways to use a NumPy array is to perform some mathematical operation on every element in the array. In the example below we create a two-dimensional array of zeros and then add one to every element in the array.\n",
    "\n",
    "Think about how you would do this with a list of lists in Python. You'd need nested for loops to iterate through each element of the data structure. With NumPy it is as simple as a `+`.\n",
    "\n",
    "Other operators such as `*`, `-`, `/`, and `**` also work elementwise on each item in the array."
   ]
  },
  {
   "cell_type": "code",
   "execution_count": 10,
   "metadata": {
    "colab": {},
    "colab_type": "code",
    "id": "fmBzv2PNuyQH"
   },
   "outputs": [
    {
     "name": "stdout",
     "output_type": "stream",
     "text": [
      "[[1. 1. 1. 1.]\n",
      " [1. 1. 1. 1.]\n",
      " [1. 1. 1. 1.]\n",
      " [1. 1. 1. 1.]]\n"
     ]
    }
   ],
   "source": [
    "import numpy as np\n",
    "\n",
    "my_array = np.zeros([4,4])\n",
    "\n",
    "my_array = my_array + 1\n",
    "\n",
    "print(my_array)"
   ]
  },
  {
   "cell_type": "markdown",
   "metadata": {
    "colab_type": "text",
    "id": "aaInXNKdwSKn"
   },
   "source": [
    "NumPy also allows you to perform mathematical operations between multiple arrays. The `+`, `-`, `/`, and `*` perform element-wise operations on like-sized arrays."
   ]
  },
  {
   "cell_type": "code",
   "execution_count": 11,
   "metadata": {
    "colab": {},
    "colab_type": "code",
    "id": "Smu7QrE4wmPq"
   },
   "outputs": [
    {
     "name": "stdout",
     "output_type": "stream",
     "text": [
      "[1 2 3 4 5 6] \n",
      "\n",
      "[[1 2]\n",
      " [3 4]\n",
      " [5 6]] \n",
      "\n",
      "[[1. 1.]\n",
      " [1. 1.]\n",
      " [1. 1.]] \n",
      "\n",
      "[[ 2  4]\n",
      " [ 6  8]\n",
      " [10 12]]\n"
     ]
    }
   ],
   "source": [
    "import numpy as np\n",
    "\n",
    "array_one = np.array(range(1, 7))\n",
    "print(array_one, '\\n')\n",
    "\n",
    "array_one = array_one.reshape(3,2)\n",
    "print(array_one, '\\n')\n",
    "\n",
    "array_two = np.array(range(1, 7)).reshape(3,2)\n",
    "\n",
    "print(array_one / array_two, '\\n')\n",
    "print(array_one + array_two)\n"
   ]
  },
  {
   "cell_type": "markdown",
   "metadata": {
    "colab_type": "text",
    "id": "5iWA4Dw-xAj2"
   },
   "source": [
    "There are even linear algebra functions. One of the most common is the dot product. The dot product can be performed with the `@` operator:"
   ]
  },
  {
   "cell_type": "code",
   "execution_count": 12,
   "metadata": {
    "colab": {},
    "colab_type": "code",
    "id": "QfhodCg1xKvL"
   },
   "outputs": [
    {
     "data": {
      "text/plain": [
       "array([[ 9, 12, 15],\n",
       "       [19, 26, 33],\n",
       "       [29, 40, 51]])"
      ]
     },
     "execution_count": 12,
     "metadata": {},
     "output_type": "execute_result"
    }
   ],
   "source": [
    "import numpy as np\n",
    "\n",
    "array_one = np.array(range(1, 7)).reshape(3,2)\n",
    "array_two = np.array(range(1, 7)).reshape(2,3)\n",
    "\n",
    "array_one @ array_two"
   ]
  },
  {
   "cell_type": "markdown",
   "metadata": {
    "colab_type": "text",
    "id": "Ghc4dlXkxcWv"
   },
   "source": [
    "Though you might see the `@` operator in code, it is more clear to use the `dot` function to get the dot product."
   ]
  },
  {
   "cell_type": "code",
   "execution_count": 13,
   "metadata": {
    "colab": {},
    "colab_type": "code",
    "id": "k_swFB4AxY-_"
   },
   "outputs": [
    {
     "data": {
      "text/plain": [
       "array([[ 9, 12, 15],\n",
       "       [19, 26, 33],\n",
       "       [29, 40, 51]])"
      ]
     },
     "execution_count": 13,
     "metadata": {},
     "output_type": "execute_result"
    }
   ],
   "source": [
    "import numpy as np\n",
    "\n",
    "array_one = np.array(range(1, 7)).reshape(3,2)\n",
    "array_two = np.array(range(1, 7)).reshape(2,3)\n",
    "\n",
    "array_one.dot(array_two)"
   ]
  },
  {
   "cell_type": "markdown",
   "metadata": {
    "colab_type": "text",
    "id": "DQuE6tidxjx7"
   },
   "source": [
    "There is also a `transpose` function. You might also see it in code as `T` (for example, `array.T`).\n",
    "\n",
    "Also note the use of the `arange` function instead of `array(range(...))`. `arange` is a wrapper around `range` to make it a top-level component in NumPy. It is called in a similar manner to Python's built-in `range` function."
   ]
  },
  {
   "cell_type": "code",
   "execution_count": 14,
   "metadata": {
    "colab": {},
    "colab_type": "code",
    "id": "6NdvrRl4x3TS"
   },
   "outputs": [
    {
     "name": "stdout",
     "output_type": "stream",
     "text": [
      "[[ 0  1  2]\n",
      " [ 3  4  5]\n",
      " [ 6  7  8]\n",
      " [ 9 10 11]] \n",
      "\n",
      "[[ 0  3  6  9]\n",
      " [ 1  4  7 10]\n",
      " [ 2  5  8 11]]\n"
     ]
    }
   ],
   "source": [
    "import numpy as np\n",
    "\n",
    "array = np.arange(12).reshape(4,3)\n",
    "print(array, '\\n')\n",
    "\n",
    "array = array.transpose()\n",
    "print(array)"
   ]
  },
  {
   "cell_type": "markdown",
   "metadata": {
    "colab_type": "text",
    "id": "yXJCSsAdz-f0"
   },
   "source": [
    "## Matplotlib"
   ]
  },
  {
   "cell_type": "markdown",
   "metadata": {
    "colab_type": "text",
    "id": "C781-AwN4q9Z"
   },
   "source": [
    "Matplotlib is a great way to visualize datasets. In this Colab we will generate some artificial data sets with NumPy and then use Matplotlib to visualize them.\n",
    "\n",
    "We will start with a dataset that has a linear pattern to its data. We will randomly create the `x` data and then use a linear equation to derive the `y` data."
   ]
  },
  {
   "cell_type": "code",
   "execution_count": 15,
   "metadata": {
    "colab": {},
    "colab_type": "code",
    "id": "_sXHTtz_5GzP"
   },
   "outputs": [],
   "source": [
    "import numpy as np\n",
    "\n",
    "# The size of the dataset that we'll be using to perform our linear regression.\n",
    "DATA_SET_SIZE = 1000\n",
    "\n",
    "# The maximum value of the x coordinate. The range of values of X will be\n",
    "# (0, X_MAX).\n",
    "X_MAX = 5\n",
    "\n",
    "# The Y-intercept is one of the \"secret\" values that we'll be trying to predict\n",
    "# via linear regression.\n",
    "INTERCEPT = 4\n",
    "\n",
    "# The slope is another value that we'll be trying to predict using linear\n",
    "# regression.\n",
    "SLOPE = 3\n",
    "\n",
    "# Generate the x-coordinates for our dataset \n",
    "x = X_MAX * np.random.rand(DATA_SET_SIZE, 1)\n",
    "\n",
    "# Generate the y-coordinates for our dataset using the linear equation\n",
    "# y = mx + b.\n",
    "y = SLOPE * x + INTERCEPT"
   ]
  },
  {
   "cell_type": "markdown",
   "metadata": {
    "colab_type": "text",
    "id": "No0O5JP65a7t"
   },
   "source": [
    "We can then import Matplotlib and use it to plot the data.\n",
    "\n",
    "We import the `pyplot` subpackage of `matplotlib` and then use it to plot the `x` and `y` data. The `'b.'` tells `pyplot` to use blue dots to represent each data point."
   ]
  },
  {
   "cell_type": "code",
   "execution_count": 16,
   "metadata": {
    "colab": {},
    "colab_type": "code",
    "id": "x02gAIN95eYC"
   },
   "outputs": [
    {
     "data": {
      "text/plain": [
       "<Figure size 640x480 with 1 Axes>"
      ]
     },
     "metadata": {},
     "output_type": "display_data"
    }
   ],
   "source": [
    "import matplotlib\n",
    "import matplotlib.pyplot as plt\n",
    "\n",
    "plt.plot(x, y, 'b.')\n",
    "plt.show()"
   ]
  },
  {
   "cell_type": "markdown",
   "metadata": {
    "colab_type": "text",
    "id": "lUlw4PQ_5hSs"
   },
   "source": [
    "The data does indeed have an x range from zero to our max x value. Notice that the y-intercept and slope match our seeded values.\n",
    "\n",
    "This data looks nothing like we'd see in the real world though. Let's add a little randomness to the data to make it more realistic."
   ]
  },
  {
   "cell_type": "code",
   "execution_count": 17,
   "metadata": {
    "colab": {},
    "colab_type": "code",
    "id": "bTGkUXes5sJP"
   },
   "outputs": [
    {
     "data": {
      "image/png": "[encoded data removed]",
      "text/plain": [
       "<Figure size 432x288 with 1 Axes>"
      ]
     },
     "metadata": {
      "needs_background": "light"
     },
     "output_type": "display_data"
    }
   ],
   "source": [
    "y = y + 2 * np.random.randn(DATA_SET_SIZE, 1)\n",
    "\n",
    "plt.plot(x, y, 'b.')\n",
    "plt.show()"
   ]
  },
  {
   "cell_type": "markdown",
   "metadata": {
    "colab_type": "text",
    "id": "TZiOmhdG6Bin"
   },
   "source": [
    "We will now draw a red line representing the actual linear equation used to build this data. Notice that we use `'r-'` to tell `pyplot` that we want a red line."
   ]
  },
  {
   "cell_type": "code",
   "execution_count": 18,
   "metadata": {
    "colab": {},
    "colab_type": "code",
    "id": "dA9rdU4l6Smq"
   },
   "outputs": [
    {
     "data": {
      "image/png": "[encoded data removed]",
      "text/plain": [
       "<Figure size 432x288 with 1 Axes>"
      ]
     },
     "metadata": {
      "needs_background": "light"
     },
     "output_type": "display_data"
    }
   ],
   "source": [
    "plt.plot(x, y, 'b.')\n",
    "(low_x, high_x) = (0, 5)\n",
    "plt.plot([low_x, high_x], [SLOPE * low_x + INTERCEPT, SLOPE * high_x + INTERCEPT], 'r-')\n",
    "plt.show()"
   ]
  },
  {
   "cell_type": "markdown",
   "metadata": {
    "colab_type": "text",
    "id": "65dNIfTm7AAG"
   },
   "source": [
    "Matplotlib is not limited to line graphs and scatterplots. The library supports many different chart types. Check out the [gallery](https://matplotlib.org/gallery.html) to see many of them in action."
   ]
  },
  {
   "cell_type": "markdown",
   "metadata": {
    "colab_type": "text",
    "id": "othEpE-e8TtC"
   },
   "source": [
    "Below is an example of a simple bar chart. The code doesn't look too much different than the code for the scatterplot and line chart above."
   ]
  },
  {
   "cell_type": "code",
   "execution_count": 19,
   "metadata": {
    "colab": {},
    "colab_type": "code",
    "id": "BZFzQeUV7c9K"
   },
   "outputs": [
    {
     "data": {
      "image/png": "[encoded data removed]",
      "text/plain": [
       "<Figure size 432x288 with 1 Axes>"
      ]
     },
     "metadata": {
      "needs_background": "light"
     },
     "output_type": "display_data"
    }
   ],
   "source": [
    "import numpy as np\n",
    "import matplotlib.pyplot as plt\n",
    "\n",
    "bar_count = 5\n",
    "\n",
    "x = np.arange(bar_count)\n",
    "y = np.random.rand(bar_count)\n",
    "\n",
    "plt.bar(x, y, color='green')\n",
    "plt.show()"
   ]
  },
  {
   "cell_type": "markdown",
   "metadata": {
    "colab_type": "text",
    "id": "S_Elxz5N9ttt"
   },
   "source": [
    "You can access [subplots](https://matplotlib.org/api/_as_gen/matplotlib.pyplot.subplot.html) of the current figure. Any figure can have one or more subplots. In the example below we got access to the one-and-only subplot of the figure and created a horizontal bar chart with labels and titles."
   ]
  },
  {
   "cell_type": "code",
   "execution_count": 20,
   "metadata": {
    "colab": {},
    "colab_type": "code",
    "id": "MDEErS0f8oi7"
   },
   "outputs": [
    {
     "data": {
      "image/png": "[encoded data removed]",
      "text/plain": [
       "<Figure size 432x288 with 1 Axes>"
      ]
     },
     "metadata": {
      "needs_background": "light"
     },
     "output_type": "display_data"
    }
   ],
   "source": [
    "import numpy as np\n",
    "import matplotlib.pyplot as plt\n",
    "\n",
    "_, ax = plt.subplots()\n",
    "\n",
    "bar_count = 4\n",
    "y = np.arange(bar_count)\n",
    "x = np.random.rand(bar_count)\n",
    "x_error = np.random.rand(bar_count) / 10\n",
    "\n",
    "ax.barh(y, x, xerr=x_error, align='center', color='blue', ecolor='red')\n",
    "ax.set_yticks(y)\n",
    "ax.set_yticklabels(['A', 'B', 'C', 'D'])\n",
    "ax.set_xlabel('Some Measure')\n",
    "ax.set_title('This is a title')\n",
    "\n",
    "plt.show()"
   ]
  },
  {
   "cell_type": "markdown",
   "metadata": {
    "colab_type": "text",
    "id": "V3jKwgsETYXX"
   },
   "source": [
    "## Seaborn"
   ]
  },
  {
   "cell_type": "markdown",
   "metadata": {
    "colab_type": "text",
    "id": "Rfi8pItttOSZ"
   },
   "source": [
    "Matplotlib is just one of the many visualization libraries to choose from.  Let's take a closer look at another one, [Seaborn](https://seaborn.pydata.org/introduction.html)\n",
    "\n",
    "Seaborn is a library for making statistical graphics in Python. It is built on top of Matplotlib and closely integrated with Pandas data structures.\n",
    "\n",
    "We will use `tips dataset` which is one of the example datasets from the [Seaborn data repository](https://github.com/mwaskom/seaborn-data).  "
   ]
  },
  {
   "cell_type": "code",
   "execution_count": 21,
   "metadata": {
    "colab": {},
    "colab_type": "code",
    "id": "rX4e6R6aqJFj"
   },
   "outputs": [
    {
     "data": {
      "text/html": [
       "<div>\n",
       "<style scoped>\n",
       "    .dataframe tbody tr th:only-of-type {\n",
       "        vertical-align: middle;\n",
       "    }\n",
       "\n",
       "    .dataframe tbody tr th {\n",
       "        vertical-align: top;\n",
       "    }\n",
       "\n",
       "    .dataframe thead th {\n",
       "        text-align: right;\n",
       "    }\n",
       "</style>\n",
       "<table border=\"1\" class=\"dataframe\">\n",
       "  <thead>\n",
       "    <tr style=\"text-align: right;\">\n",
       "      <th></th>\n",
       "      <th>total_bill</th>\n",
       "      <th>tip</th>\n",
       "      <th>sex</th>\n",
       "      <th>smoker</th>\n",
       "      <th>day</th>\n",
       "      <th>time</th>\n",
       "      <th>size</th>\n",
       "      <th>percent_tip</th>\n",
       "    </tr>\n",
       "  </thead>\n",
       "  <tbody>\n",
       "    <tr>\n",
       "      <th>0</th>\n",
       "      <td>16.99</td>\n",
       "      <td>1.01</td>\n",
       "      <td>Female</td>\n",
       "      <td>No</td>\n",
       "      <td>Sun</td>\n",
       "      <td>Dinner</td>\n",
       "      <td>2</td>\n",
       "      <td>5.944673</td>\n",
       "    </tr>\n",
       "    <tr>\n",
       "      <th>1</th>\n",
       "      <td>10.34</td>\n",
       "      <td>1.66</td>\n",
       "      <td>Male</td>\n",
       "      <td>No</td>\n",
       "      <td>Sun</td>\n",
       "      <td>Dinner</td>\n",
       "      <td>3</td>\n",
       "      <td>16.054159</td>\n",
       "    </tr>\n",
       "    <tr>\n",
       "      <th>2</th>\n",
       "      <td>21.01</td>\n",
       "      <td>3.50</td>\n",
       "      <td>Male</td>\n",
       "      <td>No</td>\n",
       "      <td>Sun</td>\n",
       "      <td>Dinner</td>\n",
       "      <td>3</td>\n",
       "      <td>16.658734</td>\n",
       "    </tr>\n",
       "    <tr>\n",
       "      <th>3</th>\n",
       "      <td>23.68</td>\n",
       "      <td>3.31</td>\n",
       "      <td>Male</td>\n",
       "      <td>No</td>\n",
       "      <td>Sun</td>\n",
       "      <td>Dinner</td>\n",
       "      <td>2</td>\n",
       "      <td>13.978041</td>\n",
       "    </tr>\n",
       "    <tr>\n",
       "      <th>4</th>\n",
       "      <td>24.59</td>\n",
       "      <td>3.61</td>\n",
       "      <td>Female</td>\n",
       "      <td>No</td>\n",
       "      <td>Sun</td>\n",
       "      <td>Dinner</td>\n",
       "      <td>4</td>\n",
       "      <td>14.680765</td>\n",
       "    </tr>\n",
       "    <tr>\n",
       "      <th>5</th>\n",
       "      <td>25.29</td>\n",
       "      <td>4.71</td>\n",
       "      <td>Male</td>\n",
       "      <td>No</td>\n",
       "      <td>Sun</td>\n",
       "      <td>Dinner</td>\n",
       "      <td>4</td>\n",
       "      <td>18.623962</td>\n",
       "    </tr>\n",
       "    <tr>\n",
       "      <th>6</th>\n",
       "      <td>8.77</td>\n",
       "      <td>2.00</td>\n",
       "      <td>Male</td>\n",
       "      <td>No</td>\n",
       "      <td>Sun</td>\n",
       "      <td>Dinner</td>\n",
       "      <td>2</td>\n",
       "      <td>22.805017</td>\n",
       "    </tr>\n",
       "    <tr>\n",
       "      <th>7</th>\n",
       "      <td>26.88</td>\n",
       "      <td>3.12</td>\n",
       "      <td>Male</td>\n",
       "      <td>No</td>\n",
       "      <td>Sun</td>\n",
       "      <td>Dinner</td>\n",
       "      <td>4</td>\n",
       "      <td>11.607143</td>\n",
       "    </tr>\n",
       "    <tr>\n",
       "      <th>8</th>\n",
       "      <td>15.04</td>\n",
       "      <td>1.96</td>\n",
       "      <td>Male</td>\n",
       "      <td>No</td>\n",
       "      <td>Sun</td>\n",
       "      <td>Dinner</td>\n",
       "      <td>2</td>\n",
       "      <td>13.031915</td>\n",
       "    </tr>\n",
       "    <tr>\n",
       "      <th>9</th>\n",
       "      <td>14.78</td>\n",
       "      <td>3.23</td>\n",
       "      <td>Male</td>\n",
       "      <td>No</td>\n",
       "      <td>Sun</td>\n",
       "      <td>Dinner</td>\n",
       "      <td>2</td>\n",
       "      <td>21.853857</td>\n",
       "    </tr>\n",
       "  </tbody>\n",
       "</table>\n",
       "</div>"
      ],
      "text/plain": [
       "   total_bill   tip     sex smoker  day    time  size  percent_tip\n",
       "0       16.99  1.01  Female     No  Sun  Dinner     2     5.944673\n",
       "1       10.34  1.66    Male     No  Sun  Dinner     3    16.054159\n",
       "2       21.01  3.50    Male     No  Sun  Dinner     3    16.658734\n",
       "3       23.68  3.31    Male     No  Sun  Dinner     2    13.978041\n",
       "4       24.59  3.61  Female     No  Sun  Dinner     4    14.680765\n",
       "5       25.29  4.71    Male     No  Sun  Dinner     4    18.623962\n",
       "6        8.77  2.00    Male     No  Sun  Dinner     2    22.805017\n",
       "7       26.88  3.12    Male     No  Sun  Dinner     4    11.607143\n",
       "8       15.04  1.96    Male     No  Sun  Dinner     2    13.031915\n",
       "9       14.78  3.23    Male     No  Sun  Dinner     2    21.853857"
      ]
     },
     "execution_count": 21,
     "metadata": {},
     "output_type": "execute_result"
    }
   ],
   "source": [
    "# Import Seaborn Python library\n",
    "import seaborn as sns\n",
    "\n",
    "# Load tips dataset\n",
    "tips = sns.load_dataset(\"tips\")\n",
    "\n",
    "# Add a new column for percentage of tip from the total bill amount\n",
    "tips['percent_tip'] = 100 * tips[\"tip\"] / tips[\"total_bill\"]\n",
    "\n",
    "# Print out the first 10 rows\n",
    "tips.head(10)"
   ]
  },
  {
   "cell_type": "markdown",
   "metadata": {
    "colab_type": "text",
    "id": "GCNDHg3N8o8N"
   },
   "source": [
    "Let's plot the histogram of the `percent_tip` values.  [Seaborn.distplot()](https://seaborn.pydata.org/generated/seaborn.distplot.html) function automatically calculates a good default bin size to produce a histogram."
   ]
  },
  {
   "cell_type": "code",
   "execution_count": 22,
   "metadata": {
    "colab": {},
    "colab_type": "code",
    "id": "hc8HwRcKpSRJ"
   },
   "outputs": [
    {
     "data": {
      "text/plain": [
       "<matplotlib.axes._subplots.AxesSubplot at 0x1173d2a58>"
      ]
     },
     "execution_count": 22,
     "metadata": {},
     "output_type": "execute_result"
    },
    {
     "data": {
      "image/png": "[encoded data removed]",
      "text/plain": [
       "<Figure size 432x288 with 1 Axes>"
      ]
     },
     "metadata": {},
     "output_type": "display_data"
    }
   ],
   "source": [
    "# Set the grid background color to white\n",
    "sns.set(style=\"whitegrid\")\n",
    "\n",
    "# Plot histogram of the percent_tip values\n",
    "sns.distplot(tips[\"percent_tip\"], vertical=True)"
   ]
  },
  {
   "cell_type": "markdown",
   "metadata": {
    "colab_type": "text",
    "id": "S2LdBnp2-Eaf"
   },
   "source": [
    "Now, a histogram plot combine values into bins or buckets resulting in frequency data for each bins.  What if you'd like to see each of the values plotted separately?  This only makes sense when the dataset is reasonably small, otherwise the resulting graph might be overwhelming and not useful.\n",
    "\n",
    "It can be accomplished by charting using [seaborn.swarmplot()](https://seaborn.pydata.org/generated/seaborn.swarmplot.html) function."
   ]
  },
  {
   "cell_type": "code",
   "execution_count": 23,
   "metadata": {
    "colab": {},
    "colab_type": "code",
    "id": "YJO9zuhYTa3r"
   },
   "outputs": [
    {
     "data": {
      "image/png": "[encoded data removed]",
      "text/plain": [
       "<Figure size 432x288 with 1 Axes>"
      ]
     },
     "metadata": {},
     "output_type": "display_data"
    }
   ],
   "source": [
    "ax = sns.swarmplot(y=tips[\"percent_tip\"])"
   ]
  },
  {
   "cell_type": "markdown",
   "metadata": {
    "colab_type": "text",
    "id": "pHiuTjlV_vvF"
   },
   "source": [
    "Looking at the plot above, you can get sense of the values distribution and can still see where individual values land.  However, `seaborn.swarmplot()` is especially useful when you're trying to segment the data along categories.\n",
    "\n",
    "The chart below splits the data over category of time of dining: Lunch or Dinner."
   ]
  },
  {
   "cell_type": "code",
   "execution_count": 24,
   "metadata": {
    "colab": {},
    "colab_type": "code",
    "id": "D_XhR0AFsmS1"
   },
   "outputs": [
    {
     "data": {
      "image/png": "[encoded data removed]",
      "text/plain": [
       "<Figure size 432x288 with 1 Axes>"
      ]
     },
     "metadata": {},
     "output_type": "display_data"
    }
   ],
   "source": [
    "ax = sns.swarmplot(x=\"time\", y=\"percent_tip\", data=tips)"
   ]
  },
  {
   "cell_type": "markdown",
   "metadata": {
    "colab_type": "text",
    "id": "63ccFPFlAleP"
   },
   "source": [
    "Here's another example of the data being split across days of the week, rather than time of day."
   ]
  },
  {
   "cell_type": "code",
   "execution_count": 25,
   "metadata": {
    "colab": {},
    "colab_type": "code",
    "id": "pPK03WylUFGV"
   },
   "outputs": [
    {
     "data": {
      "image/png": "[encoded data removed]",
      "text/plain": [
       "<Figure size 432x288 with 1 Axes>"
      ]
     },
     "metadata": {},
     "output_type": "display_data"
    }
   ],
   "source": [
    "ax = sns.swarmplot(x=\"day\", y=\"percent_tip\", data=tips)"
   ]
  },
  {
   "cell_type": "markdown",
   "metadata": {
    "colab_type": "text",
    "id": "UztxKaxhBAgS"
   },
   "source": [
    "Lastly, here's a more complex example where the previous chart is augmented with a second data categorization - in this case the gender of the person."
   ]
  },
  {
   "cell_type": "code",
   "execution_count": 26,
   "metadata": {
    "colab": {},
    "colab_type": "code",
    "id": "HJfxVyXoUNe0"
   },
   "outputs": [
    {
     "data": {
      "image/png": "[encoded data removed]",
      "text/plain": [
       "<Figure size 432x288 with 1 Axes>"
      ]
     },
     "metadata": {},
     "output_type": "display_data"
    }
   ],
   "source": [
    "ax = sns.swarmplot(x=\"day\", y=\"percent_tip\", hue=\"sex\", palette=[\"r\", \"c\"], data=tips)"
   ]
  },
  {
   "cell_type": "markdown",
   "metadata": {
    "colab_type": "text",
    "id": "QFFInD4j-VMc"
   },
   "source": [
    "# Exercises"
   ]
  },
  {
   "cell_type": "markdown",
   "metadata": {
    "colab_type": "text",
    "id": "93t_PYx6-W_N"
   },
   "source": [
    "## Exercise 1"
   ]
  },
  {
   "cell_type": "markdown",
   "metadata": {
    "colab_type": "text",
    "id": "rwTuqL4oqARv"
   },
   "source": [
    "1. Create a 5 x 6 x 2 matrix filled with random floating point numbers in a normal distribution.\n",
    "2. Multiply every data point in the matrix by 10."
   ]
  },
  {
   "cell_type": "markdown",
   "metadata": {
    "colab_type": "text",
    "id": "VfbBvJmzMHIN"
   },
   "source": [
    "### Student Solution"
   ]
  },
  {
   "cell_type": "code",
   "execution_count": 27,
   "metadata": {
    "colab": {},
    "colab_type": "code",
    "id": "IJFTn4cN-aM-"
   },
   "outputs": [
    {
     "name": "stdout",
     "output_type": "stream",
     "text": [
      "[[[5.65570987e-02 7.84671620e-01]\n",
      "  [1.50878781e-01 6.19806132e-01]\n",
      "  [8.83525893e-01 6.75428574e-01]\n",
      "  [2.37944621e-01 1.81425824e-01]\n",
      "  [3.02796557e-01 7.41245040e-01]\n",
      "  [2.51260171e-01 5.64443463e-01]]\n",
      "\n",
      " [[5.51761079e-01 2.84319719e-01]\n",
      "  [4.99697275e-03 9.58376294e-01]\n",
      "  [7.93900368e-01 8.83458170e-01]\n",
      "  [8.29995867e-01 2.02250773e-01]\n",
      "  [2.88980871e-01 8.60242097e-01]\n",
      "  [3.38888730e-01 8.13567548e-01]]\n",
      "\n",
      " [[9.87060708e-01 6.06537447e-01]\n",
      "  [4.73332944e-01 3.46935707e-01]\n",
      "  [4.27610221e-01 9.13544396e-01]\n",
      "  [7.50723720e-02 8.38621870e-01]\n",
      "  [8.95220727e-02 5.21641330e-01]\n",
      "  [7.56628543e-01 3.97932294e-01]]\n",
      "\n",
      " [[8.57330461e-02 9.87807717e-01]\n",
      "  [1.79845551e-01 5.80437393e-01]\n",
      "  [5.85404559e-01 2.06493171e-01]\n",
      "  [5.58484962e-01 8.39986780e-01]\n",
      "  [7.77137808e-01 3.72776314e-01]\n",
      "  [6.77784169e-02 1.36799987e-01]]\n",
      "\n",
      " [[3.53806929e-01 9.24852623e-01]\n",
      "  [5.85094625e-01 6.24368745e-01]\n",
      "  [2.78548133e-01 6.26103702e-01]\n",
      "  [8.79975816e-02 9.65548000e-01]\n",
      "  [1.28281874e-04 9.77547230e-01]\n",
      "  [4.60034875e-01 9.07664172e-01]]]\n"
     ]
    }
   ],
   "source": [
    "# Your code goes here\n",
    "import numpy as np\n",
    "\n",
    "data = np.random.random((5,6,2))\n",
    "print(data)"
   ]
  },
  {
   "cell_type": "code",
   "execution_count": 28,
   "metadata": {
    "colab": {},
    "colab_type": "code",
    "id": "do5GeJM2J1xR"
   },
   "outputs": [
    {
     "data": {
      "text/plain": [
       "array([[[5.65570987e-01, 7.84671620e+00],\n",
       "        [1.50878781e+00, 6.19806132e+00],\n",
       "        [8.83525893e+00, 6.75428574e+00],\n",
       "        [2.37944621e+00, 1.81425824e+00],\n",
       "        [3.02796557e+00, 7.41245040e+00],\n",
       "        [2.51260171e+00, 5.64443463e+00]],\n",
       "\n",
       "       [[5.51761079e+00, 2.84319719e+00],\n",
       "        [4.99697275e-02, 9.58376294e+00],\n",
       "        [7.93900368e+00, 8.83458170e+00],\n",
       "        [8.29995867e+00, 2.02250773e+00],\n",
       "        [2.88980871e+00, 8.60242097e+00],\n",
       "        [3.38888730e+00, 8.13567548e+00]],\n",
       "\n",
       "       [[9.87060708e+00, 6.06537447e+00],\n",
       "        [4.73332944e+00, 3.46935707e+00],\n",
       "        [4.27610221e+00, 9.13544396e+00],\n",
       "        [7.50723720e-01, 8.38621870e+00],\n",
       "        [8.95220727e-01, 5.21641330e+00],\n",
       "        [7.56628543e+00, 3.97932294e+00]],\n",
       "\n",
       "       [[8.57330461e-01, 9.87807717e+00],\n",
       "        [1.79845551e+00, 5.80437393e+00],\n",
       "        [5.85404559e+00, 2.06493171e+00],\n",
       "        [5.58484962e+00, 8.39986780e+00],\n",
       "        [7.77137808e+00, 3.72776314e+00],\n",
       "        [6.77784169e-01, 1.36799987e+00]],\n",
       "\n",
       "       [[3.53806929e+00, 9.24852623e+00],\n",
       "        [5.85094625e+00, 6.24368745e+00],\n",
       "        [2.78548133e+00, 6.26103702e+00],\n",
       "        [8.79975816e-01, 9.65548000e+00],\n",
       "        [1.28281874e-03, 9.77547230e+00],\n",
       "        [4.60034875e+00, 9.07664172e+00]]])"
      ]
     },
     "execution_count": 28,
     "metadata": {},
     "output_type": "execute_result"
    }
   ],
   "source": [
    "data*10"
   ]
  },
  {
   "cell_type": "markdown",
   "metadata": {
    "colab_type": "text",
    "id": "WQJBuZEi-usg"
   },
   "source": [
    "## Exercise 2"
   ]
  },
  {
   "cell_type": "markdown",
   "metadata": {
    "colab_type": "text",
    "id": "v9oag2cWqCH8"
   },
   "source": [
    "1. Convert `list_one` and `list_two` into NumPy arrays.\n",
    "2. Transpose the first matrix.\n",
    "3. Find the dot product of the first matrix by the second matrix."
   ]
  },
  {
   "cell_type": "markdown",
   "metadata": {
    "colab_type": "text",
    "id": "wIndH853MPZf"
   },
   "source": [
    "### Student Solution"
   ]
  },
  {
   "cell_type": "code",
   "execution_count": 29,
   "metadata": {
    "colab": {},
    "colab_type": "code",
    "id": "htQmgV5Q-yFc"
   },
   "outputs": [
    {
     "name": "stdout",
     "output_type": "stream",
     "text": [
      "[[5 6 1 5]\n",
      " [1 2 9 0]\n",
      " [3 2 6 1]]\n",
      "[[4 3 1 8]\n",
      " [3 9 0 5]\n",
      " [2 8 4 0]]\n",
      "[[5 1 3]\n",
      " [6 2 2]\n",
      " [1 9 6]\n",
      " [5 0 1]]\n"
     ]
    },
    {
     "data": {
      "text/plain": [
       "array([[ 29,  48,  17,  45],\n",
       "       [ 34,  52,  14,  58],\n",
       "       [ 43, 132,  25,  53],\n",
       "       [ 22,  23,   9,  40]])"
      ]
     },
     "execution_count": 29,
     "metadata": {},
     "output_type": "execute_result"
    }
   ],
   "source": [
    "list_one = [\n",
    "  [5, 6, 1, 5],\n",
    "  [1, 2, 9, 0],\n",
    "  [3, 2, 6, 1], \n",
    "]\n",
    "\n",
    "list_two = [\n",
    "  [4, 3, 1, 8],\n",
    "  [3, 9, 0, 5],\n",
    "  [2, 8, 4, 0],\n",
    "]\n",
    "\n",
    "# Your code goes here\n",
    "\n",
    "import numpy as np\n",
    "list_one = np.array(list_one).reshape(3,4)\n",
    "list_two = np.array(list_two).reshape(3,4)\n",
    "print(list_one)\n",
    "print(list_two)\n",
    "\n",
    "list_one = list_one.transpose()\n",
    "print(list_one)\n",
    "\n",
    "list_one.dot(list_two)"
   ]
  },
  {
   "cell_type": "markdown",
   "metadata": {
    "colab_type": "text",
    "id": "Lxpbmoy8JfOo"
   },
   "source": [
    "## Exercise 3"
   ]
  },
  {
   "cell_type": "markdown",
   "metadata": {
    "colab_type": "text",
    "id": "zTyuSKFcqEJ7"
   },
   "source": [
    "1. Generate a dataset of 1000 x, y data points based on a polynomial function.\n",
    "1. Add some randomness to the dataset.\n",
    "1. Use matplotlib to plot the points as green dots in a scatterplot.\n",
    "1. Draw the polynomial line as a black line on the chart."
   ]
  },
  {
   "cell_type": "markdown",
   "metadata": {
    "colab_type": "text",
    "id": "ZBkwkQN_MZjy"
   },
   "source": [
    "### Student Solution"
   ]
  },
  {
   "cell_type": "code",
   "execution_count": 30,
   "metadata": {
    "colab": {},
    "colab_type": "code",
    "id": "OSxQita6KA30"
   },
   "outputs": [
    {
     "name": "stdout",
     "output_type": "stream",
     "text": [
      "[  0   1   2   3   4   5   6   7   8   9  10  11  12  13  14  15  16  17\n",
      "  18  19  20  21  22  23  24  25  26  27  28  29  30  31  32  33  34  35\n",
      "  36  37  38  39  40  41  42  43  44  45  46  47  48  49  50  51  52  53\n",
      "  54  55  56  57  58  59  60  61  62  63  64  65  66  67  68  69  70  71\n",
      "  72  73  74  75  76  77  78  79  80  81  82  83  84  85  86  87  88  89\n",
      "  90  91  92  93  94  95  96  97  98  99 100 101 102 103 104 105 106 107\n",
      " 108 109 110 111 112 113 114 115 116 117 118 119 120 121 122 123 124 125\n",
      " 126 127 128 129 130 131 132 133 134 135 136 137 138 139 140 141 142 143\n",
      " 144 145 146 147 148 149 150 151 152 153 154 155 156 157 158 159 160 161\n",
      " 162 163 164 165 166 167 168 169 170 171 172 173 174 175 176 177 178 179\n",
      " 180 181 182 183 184 185 186 187 188 189 190 191 192 193 194 195 196 197\n",
      " 198 199 200 201 202 203 204 205 206 207 208 209 210 211 212 213 214 215\n",
      " 216 217 218 219 220 221 222 223 224 225 226 227 228 229 230 231 232 233\n",
      " 234 235 236 237 238 239 240 241 242 243 244 245 246 247 248 249 250 251\n",
      " 252 253 254 255 256 257 258 259 260 261 262 263 264 265 266 267 268 269\n",
      " 270 271 272 273 274 275 276 277 278 279 280 281 282 283 284 285 286 287\n",
      " 288 289 290 291 292 293 294 295 296 297 298 299 300 301 302 303 304 305\n",
      " 306 307 308 309 310 311 312 313 314 315 316 317 318 319 320 321 322 323\n",
      " 324 325 326 327 328 329 330 331 332 333 334 335 336 337 338 339 340 341\n",
      " 342 343 344 345 346 347 348 349 350 351 352 353 354 355 356 357 358 359\n",
      " 360 361 362 363 364 365 366 367 368 369 370 371 372 373 374 375 376 377\n",
      " 378 379 380 381 382 383 384 385 386 387 388 389 390 391 392 393 394 395\n",
      " 396 397 398 399 400 401 402 403 404 405 406 407 408 409 410 411 412 413\n",
      " 414 415 416 417 418 419 420 421 422 423 424 425 426 427 428 429 430 431\n",
      " 432 433 434 435 436 437 438 439 440 441 442 443 444 445 446 447 448 449\n",
      " 450 451 452 453 454 455 456 457 458 459 460 461 462 463 464 465 466 467\n",
      " 468 469 470 471 472 473 474 475 476 477 478 479 480 481 482 483 484 485\n",
      " 486 487 488 489 490 491 492 493 494 495 496 497 498 499 500 501 502 503\n",
      " 504 505 506 507 508 509 510 511 512 513 514 515 516 517 518 519 520 521\n",
      " 522 523 524 525 526 527 528 529 530 531 532 533 534 535 536 537 538 539\n",
      " 540 541 542 543 544 545 546 547 548 549 550 551 552 553 554 555 556 557\n",
      " 558 559 560 561 562 563 564 565 566 567 568 569 570 571 572 573 574 575\n",
      " 576 577 578 579 580 581 582 583 584 585 586 587 588 589 590 591 592 593\n",
      " 594 595 596 597 598 599 600 601 602 603 604 605 606 607 608 609 610 611\n",
      " 612 613 614 615 616 617 618 619 620 621 622 623 624 625 626 627 628 629\n",
      " 630 631 632 633 634 635 636 637 638 639 640 641 642 643 644 645 646 647\n",
      " 648 649 650 651 652 653 654 655 656 657 658 659 660 661 662 663 664 665\n",
      " 666 667 668 669 670 671 672 673 674 675 676 677 678 679 680 681 682 683\n",
      " 684 685 686 687 688 689 690 691 692 693 694 695 696 697 698 699 700 701\n",
      " 702 703 704 705 706 707 708 709 710 711 712 713 714 715 716 717 718 719\n",
      " 720 721 722 723 724 725 726 727 728 729 730 731 732 733 734 735 736 737\n",
      " 738 739 740 741 742 743 744 745 746 747 748 749 750 751 752 753 754 755\n",
      " 756 757 758 759 760 761 762 763 764 765 766 767 768 769 770 771 772 773\n",
      " 774 775 776 777 778 779 780 781 782 783 784 785 786 787 788 789 790 791\n",
      " 792 793 794 795 796 797 798 799 800 801 802 803 804 805 806 807 808 809\n",
      " 810 811 812 813 814 815 816 817 818 819 820 821 822 823 824 825 826 827\n",
      " 828 829 830 831 832 833 834 835 836 837 838 839 840 841 842 843 844 845\n",
      " 846 847 848 849 850 851 852 853 854 855 856 857 858 859 860 861 862 863\n",
      " 864 865 866 867 868 869 870 871 872 873 874 875 876 877 878 879 880 881\n",
      " 882 883 884 885 886 887 888 889 890 891 892 893 894 895 896 897 898 899\n",
      " 900 901 902 903 904 905 906 907 908 909 910 911 912 913 914 915 916 917\n",
      " 918 919 920 921 922 923 924 925 926 927 928 929 930 931 932 933 934 935\n",
      " 936 937 938 939 940 941 942 943 944 945 946 947 948 949 950 951 952 953\n",
      " 954 955 956 957 958 959 960 961 962 963 964 965 966 967 968 969 970 971\n",
      " 972 973 974 975 976 977 978 979 980 981 982 983 984 985 986 987 988 989\n",
      " 990 991 992 993 994 995 996 997 998 999]\n",
      "[      2       5      10      17      26      37      50      65      82\n",
      "     101     122     145     170     197     226     257     290     325\n",
      "     362     401     442     485     530     577     626     677     730\n",
      "     785     842     901     962    1025    1090    1157    1226    1297\n",
      "    1370    1445    1522    1601    1682    1765    1850    1937    2026\n",
      "    2117    2210    2305    2402    2501    2602    2705    2810    2917\n",
      "    3026    3137    3250    3365    3482    3601    3722    3845    3970\n",
      "    4097    4226    4357    4490    4625    4762    4901    5042    5185\n",
      "    5330    5477    5626    5777    5930    6085    6242    6401    6562\n",
      "    6725    6890    7057    7226    7397    7570    7745    7922    8101\n",
      "    8282    8465    8650    8837    9026    9217    9410    9605    9802\n",
      "   10001   10202   10405   10610   10817   11026   11237   11450   11665\n",
      "   11882   12101   12322   12545   12770   12997   13226   13457   13690\n",
      "   13925   14162   14401   14642   14885   15130   15377   15626   15877\n",
      "   16130   16385   16642   16901   17162   17425   17690   17957   18226\n",
      "   18497   18770   19045   19322   19601   19882   20165   20450   20737\n",
      "   21026   21317   21610   21905   22202   22501   22802   23105   23410\n",
      "   23717   24026   24337   24650   24965   25282   25601   25922   26245\n",
      "   26570   26897   27226   27557   27890   28225   28562   28901   29242\n",
      "   29585   29930   30277   30626   30977   31330   31685   32042   32401\n",
      "   32762   33125   33490   33857   34226   34597   34970   35345   35722\n",
      "   36101   36482   36865   37250   37637   38026   38417   38810   39205\n",
      "   39602   40001   40402   40805   41210   41617   42026   42437   42850\n",
      "   43265   43682   44101   44522   44945   45370   45797   46226   46657\n",
      "   47090   47525   47962   48401   48842   49285   49730   50177   50626\n",
      "   51077   51530   51985   52442   52901   53362   53825   54290   54757\n",
      "   55226   55697   56170   56645   57122   57601   58082   58565   59050\n",
      "   59537   60026   60517   61010   61505   62002   62501   63002   63505\n",
      "   64010   64517   65026   65537   66050   66565   67082   67601   68122\n",
      "   68645   69170   69697   70226   70757   71290   71825   72362   72901\n",
      "   73442   73985   74530   75077   75626   76177   76730   77285   77842\n",
      "   78401   78962   79525   80090   80657   81226   81797   82370   82945\n",
      "   83522   84101   84682   85265   85850   86437   87026   87617   88210\n",
      "   88805   89402   90001   90602   91205   91810   92417   93026   93637\n",
      "   94250   94865   95482   96101   96722   97345   97970   98597   99226\n",
      "   99857  100490  101125  101762  102401  103042  103685  104330  104977\n",
      "  105626  106277  106930  107585  108242  108901  109562  110225  110890\n",
      "  111557  112226  112897  113570  114245  114922  115601  116282  116965\n",
      "  117650  118337  119026  119717  120410  121105  121802  122501  123202\n",
      "  123905  124610  125317  126026  126737  127450  128165  128882  129601\n",
      "  130322  131045  131770  132497  133226  133957  134690  135425  136162\n",
      "  136901  137642  138385  139130  139877  140626  141377  142130  142885\n",
      "  143642  144401  145162  145925  146690  147457  148226  148997  149770\n",
      "  150545  151322  152101  152882  153665  154450  155237  156026  156817\n",
      "  157610  158405  159202  160001  160802  161605  162410  163217  164026\n",
      "  164837  165650  166465  167282  168101  168922  169745  170570  171397\n",
      "  172226  173057  173890  174725  175562  176401  177242  178085  178930\n",
      "  179777  180626  181477  182330  183185  184042  184901  185762  186625\n",
      "  187490  188357  189226  190097  190970  191845  192722  193601  194482\n",
      "  195365  196250  197137  198026  198917  199810  200705  201602  202501\n",
      "  203402  204305  205210  206117  207026  207937  208850  209765  210682\n",
      "  211601  212522  213445  214370  215297  216226  217157  218090  219025\n",
      "  219962  220901  221842  222785  223730  224677  225626  226577  227530\n",
      "  228485  229442  230401  231362  232325  233290  234257  235226  236197\n",
      "  237170  238145  239122  240101  241082  242065  243050  244037  245026\n",
      "  246017  247010  248005  249002  250001  251002  252005  253010  254017\n",
      "  255026  256037  257050  258065  259082  260101  261122  262145  263170\n",
      "  264197  265226  266257  267290  268325  269362  270401  271442  272485\n",
      "  273530  274577  275626  276677  277730  278785  279842  280901  281962\n",
      "  283025  284090  285157  286226  287297  288370  289445  290522  291601\n",
      "  292682  293765  294850  295937  297026  298117  299210  300305  301402\n",
      "  302501  303602  304705  305810  306917  308026  309137  310250  311365\n",
      "  312482  313601  314722  315845  316970  318097  319226  320357  321490\n",
      "  322625  323762  324901  326042  327185  328330  329477  330626  331777\n",
      "  332930  334085  335242  336401  337562  338725  339890  341057  342226\n",
      "  343397  344570  345745  346922  348101  349282  350465  351650  352837\n",
      "  354026  355217  356410  357605  358802  360001  361202  362405  363610\n",
      "  364817  366026  367237  368450  369665  370882  372101  373322  374545\n",
      "  375770  376997  378226  379457  380690  381925  383162  384401  385642\n",
      "  386885  388130  389377  390626  391877  393130  394385  395642  396901\n",
      "  398162  399425  400690  401957  403226  404497  405770  407045  408322\n",
      "  409601  410882  412165  413450  414737  416026  417317  418610  419905\n",
      "  421202  422501  423802  425105  426410  427717  429026  430337  431650\n",
      "  432965  434282  435601  436922  438245  439570  440897  442226  443557\n",
      "  444890  446225  447562  448901  450242  451585  452930  454277  455626\n",
      "  456977  458330  459685  461042  462401  463762  465125  466490  467857\n",
      "  469226  470597  471970  473345  474722  476101  477482  478865  480250\n",
      "  481637  483026  484417  485810  487205  488602  490001  491402  492805\n",
      "  494210  495617  497026  498437  499850  501265  502682  504101  505522\n",
      "  506945  508370  509797  511226  512657  514090  515525  516962  518401\n",
      "  519842  521285  522730  524177  525626  527077  528530  529985  531442\n",
      "  532901  534362  535825  537290  538757  540226  541697  543170  544645\n",
      "  546122  547601  549082  550565  552050  553537  555026  556517  558010\n",
      "  559505  561002  562501  564002  565505  567010  568517  570026  571537\n",
      "  573050  574565  576082  577601  579122  580645  582170  583697  585226\n",
      "  586757  588290  589825  591362  592901  594442  595985  597530  599077\n",
      "  600626  602177  603730  605285  606842  608401  609962  611525  613090\n",
      "  614657  616226  617797  619370  620945  622522  624101  625682  627265\n",
      "  628850  630437  632026  633617  635210  636805  638402  640001  641602\n",
      "  643205  644810  646417  648026  649637  651250  652865  654482  656101\n",
      "  657722  659345  660970  662597  664226  665857  667490  669125  670762\n",
      "  672401  674042  675685  677330  678977  680626  682277  683930  685585\n",
      "  687242  688901  690562  692225  693890  695557  697226  698897  700570\n",
      "  702245  703922  705601  707282  708965  710650  712337  714026  715717\n",
      "  717410  719105  720802  722501  724202  725905  727610  729317  731026\n",
      "  732737  734450  736165  737882  739601  741322  743045  744770  746497\n",
      "  748226  749957  751690  753425  755162  756901  758642  760385  762130\n",
      "  763877  765626  767377  769130  770885  772642  774401  776162  777925\n",
      "  779690  781457  783226  784997  786770  788545  790322  792101  793882\n",
      "  795665  797450  799237  801026  802817  804610  806405  808202  810001\n",
      "  811802  813605  815410  817217  819026  820837  822650  824465  826282\n",
      "  828101  829922  831745  833570  835397  837226  839057  840890  842725\n",
      "  844562  846401  848242  850085  851930  853777  855626  857477  859330\n",
      "  861185  863042  864901  866762  868625  870490  872357  874226  876097\n",
      "  877970  879845  881722  883601  885482  887365  889250  891137  893026\n",
      "  894917  896810  898705  900602  902501  904402  906305  908210  910117\n",
      "  912026  913937  915850  917765  919682  921601  923522  925445  927370\n",
      "  929297  931226  933157  935090  937025  938962  940901  942842  944785\n",
      "  946730  948677  950626  952577  954530  956485  958442  960401  962362\n",
      "  964325  966290  968257  970226  972197  974170  976145  978122  980101\n",
      "  982082  984065  986050  988037  990026  992017  994010  996005  998002\n",
      " 1000001]\n"
     ]
    }
   ],
   "source": [
    "# Your code goes here\n",
    "import numpy as np\n",
    "import matplotlib\n",
    "import matplotlib.pyplot as plt\n",
    "\n",
    "ploy = np.poly1d((1,2,2))\n",
    "\n",
    "# x = X_MAX * np.random.rand(DATA_SET_SIZE, 1)\n",
    "\n",
    "x = np.array(range(1000))\n",
    "\n",
    "y = ploy(x)\n",
    "\n",
    "print(x)\n",
    "print(y)\n"
   ]
  },
  {
   "cell_type": "code",
   "execution_count": 31,
   "metadata": {
    "colab": {},
    "colab_type": "code",
    "id": "7Zn0mylENUqp"
   },
   "outputs": [],
   "source": [
    "randx = np.random.randint(1200, size=100)\n",
    "randy = ploy(randx)*(np.random.rand(100)+np.random.rand(100))\n",
    "\n",
    "newx = np.append(x,randx)\n",
    "newy = np.append(y,randy)\n"
   ]
  },
  {
   "cell_type": "code",
   "execution_count": 32,
   "metadata": {
    "colab": {},
    "colab_type": "code",
    "id": "NtDQolAwLvXo"
   },
   "outputs": [
    {
     "data": {
      "image/png": "[encoded data removed]",
      "text/plain": [
       "<Figure size 432x288 with 1 Axes>"
      ]
     },
     "metadata": {},
     "output_type": "display_data"
    }
   ],
   "source": [
    "plt.plot(newx, newy, 'g.')\n",
    "plt.show()"
   ]
  },
  {
   "cell_type": "code",
   "execution_count": 33,
   "metadata": {
    "colab": {},
    "colab_type": "code",
    "id": "HtNYrfZbMxVt"
   },
   "outputs": [
    {
     "data": {
      "image/png": "[encoded data removed]",
      "text/plain": [
       "<Figure size 432x288 with 1 Axes>"
      ]
     },
     "metadata": {},
     "output_type": "display_data"
    }
   ],
   "source": [
    "plt.plot(x, ploy(x),'black')\n",
    "plt.show()"
   ]
  },
  {
   "cell_type": "markdown",
   "metadata": {
    "colab_type": "text",
    "id": "cPqL6sKEKKOc"
   },
   "source": [
    "## Exercise 4"
   ]
  },
  {
   "cell_type": "markdown",
   "metadata": {
    "colab_type": "text",
    "id": "9H36RSycqGkq"
   },
   "source": [
    "Create a box-and-whisker plot of the polynomial dataset created in exercise three. Have one plot for x and one for y. These plots show the domain and range of the two axes of our dataset."
   ]
  },
  {
   "cell_type": "markdown",
   "metadata": {
    "colab_type": "text",
    "id": "tlCNyyOnMgEb"
   },
   "source": [
    "### Student Solution"
   ]
  },
  {
   "cell_type": "code",
   "execution_count": 34,
   "metadata": {
    "colab": {},
    "colab_type": "code",
    "id": "LSXsGs4JKaeR"
   },
   "outputs": [
    {
     "data": {
      "image/png": "[encoded data removed]",
      "text/plain": [
       "<Figure size 432x288 with 2 Axes>"
      ]
     },
     "metadata": {},
     "output_type": "display_data"
    }
   ],
   "source": [
    "f, (ax1, ax2) = plt.subplots(1, 2, sharey=False)\n",
    "ax1.boxplot(newx)\n",
    "ax1.set_title('X dataset')\n",
    "ax2.boxplot(newy)\n",
    "ax2.set_title('Y dataset')\n",
    "f.tight_layout()\n"
   ]
  }
 ],
 "metadata": {
  "colab": {
   "collapsed_sections": [
    "copyright"
   ],
   "name": "Huize Huang - T02-03 [00] Visualizations [Colab]",
   "private_outputs": true,
   "provenance": [],
   "toc_visible": true,
   "version": "0.3.2"
  },
  "kernelspec": {
   "display_name": "Python 3",
   "language": "python",
   "name": "python3"
  },
  "language_info": {
   "codemirror_mode": {
    "name": "ipython",
    "version": 3
   },
   "file_extension": ".py",
   "mimetype": "text/x-python",
   "name": "python",
   "nbconvert_exporter": "python",
   "pygments_lexer": "ipython3",
   "version": "3.6.8"
  }
 },
 "nbformat": 4,
 "nbformat_minor": 1
}
