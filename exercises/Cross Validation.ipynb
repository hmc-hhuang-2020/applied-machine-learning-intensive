{
 "cells": [
  {
   "cell_type": "markdown",
   "metadata": {
    "colab_type": "text",
    "id": "copyright"
   },
   "source": [
    "#### Copyright 2019 Google LLC."
   ]
  },
  {
   "cell_type": "code",
   "execution_count": 1,
   "metadata": {
    "colab": {},
    "colab_type": "code",
    "id": "7PLP9Q30PKtv"
   },
   "outputs": [],
   "source": [
    "# Licensed under the Apache License, Version 2.0 (the \"License\");\n",
    "# you may not use this file except in compliance with the License.\n",
    "# You may obtain a copy of the License at\n",
    "#\n",
    "# https://www.apache.org/licenses/LICENSE-2.0\n",
    "#\n",
    "# Unless required by applicable law or agreed to in writing, software\n",
    "# distributed under the License is distributed on an \"AS IS\" BASIS,\n",
    "# WITHOUT WARRANTIES OR CONDITIONS OF ANY KIND, either express or implied.\n",
    "# See the License for the specific language governing permissions and\n",
    "# limitations under the License."
   ]
  },
  {
   "cell_type": "markdown",
   "metadata": {
    "colab_type": "text",
    "id": "f5W9rkuBmBu9"
   },
   "source": [
    "# Cross Validation"
   ]
  },
  {
   "cell_type": "markdown",
   "metadata": {
    "colab_type": "text",
    "id": "zIykBQbYXrXA"
   },
   "source": [
    "In past colabs we have practiced dividing our data into testing and training sets in order to evaluate the performance of our models. In some cases, especially when there is limited data available, we can't be too sure that our model isn't overfitting.\n",
    "\n",
    "Cross validation is a [resampling](https://en.wikipedia.org/wiki/Resampling_(statistics)) technique that we use in machine learning to measure the quality of our model while by running multiple iterations of training and testing using different subsets of the data.\n",
    "\n",
    "The most common algorithm used for cross validation in machine learning is k-fold cross validation. This colab will focus primarily on k-fold cross validation.\n"
   ]
  },
  {
   "cell_type": "markdown",
   "metadata": {
    "colab_type": "text",
    "id": "vSwFn8YlaDL2"
   },
   "source": [
    "## Overview"
   ]
  },
  {
   "cell_type": "markdown",
   "metadata": {
    "colab_type": "text",
    "id": "xHVHPJhSaEEM"
   },
   "source": [
    "### Learning Objectives\n",
    " \n",
    "* Understand cross validation and how it is different from simple test/train splits.\n",
    "* Build a synthetic column.\n",
    "* Implement k-fold cross validation.\n",
    "* Use k-fold cross validation libraries.\n",
    "* Apply stratification to samples.\n"
   ]
  },
  {
   "cell_type": "markdown",
   "metadata": {
    "colab_type": "text",
    "id": "gGrUipVEawYy"
   },
   "source": [
    "### Prerequisites\n",
    "\n",
    "* Linear Regression with scikit-learn"
   ]
  },
  {
   "cell_type": "markdown",
   "metadata": {
    "colab_type": "text",
    "id": "0bExBYnwa7i2"
   },
   "source": [
    "### Estimated Duration\n",
    "\n",
    "60 minutes"
   ]
  },
  {
   "cell_type": "markdown",
   "metadata": {
    "colab_type": "text",
    "id": "SavoD7IUa-vY"
   },
   "source": [
    "### Grading Criteria\n",
    "\n",
    "Each exercise is worth 3 points. The rubric for calculating those points is:\n",
    "\n",
    "| Points | Description |\n",
    "|--------|-------------|\n",
    "| 0      | No attempt at exercise |\n",
    "| 1      | Attempted exercise, but code does not run |\n",
    "| 2      | Attempted exercise, code runs, but produces incorrect answer |\n",
    "| 3      | Exercise completed successfully |\n",
    "\n",
    "There are 2 exercises in this Colab so there are 6 points available. The grading scale will be 3 points."
   ]
  },
  {
   "cell_type": "markdown",
   "metadata": {
    "colab_type": "text",
    "id": "G8u2lYRWbE37"
   },
   "source": [
    "## Obtain and Prepare the Data"
   ]
  },
  {
   "cell_type": "markdown",
   "metadata": {
    "colab_type": "text",
    "id": "arLJPRv3eYjz"
   },
   "source": [
    "### Obtain the Data"
   ]
  },
  {
   "cell_type": "markdown",
   "metadata": {
    "colab_type": "text",
    "id": "-Vi3O347bIWz"
   },
   "source": [
    "Montgomery County Maryland provides [salary data](https://catalog.data.gov/dataset?tags=salary-and-gender) for government employees by year. For this colab we will use the 2017 dataset.\n",
    "\n",
    "The code box below downloads the dataset and saves it in a file called 'Employee_Salaries_-_2017.csv'."
   ]
  },
  {
   "cell_type": "code",
   "execution_count": 2,
   "metadata": {
    "colab": {},
    "colab_type": "code",
    "id": "n87ISSI-35TO"
   },
   "outputs": [],
   "source": [
    "import urllib.request\n",
    "import os\n",
    "\n",
    "url = 'https://data.montgomerycountymd.gov/api/views/2qd6-mr43/rows.csv?accessType=DOWNLOAD'\n",
    "file_name = 'Employee_Salaries_-_2017.csv'\n",
    "\n",
    "urllib.request.urlretrieve(url, file_name)\n",
    "\n",
    "if file_name not in os.listdir('./'):\n",
    "  raise Exception(f'{file_name} was not downloaded to the correct directory')"
   ]
  },
  {
   "cell_type": "markdown",
   "metadata": {
    "colab_type": "text",
    "id": "3NJibNoWb3Mo"
   },
   "source": [
    "Once the file is downloaded we can read it into a `DataFrame` and take a peek at the first bit of data."
   ]
  },
  {
   "cell_type": "code",
   "execution_count": 3,
   "metadata": {
    "colab": {},
    "colab_type": "code",
    "id": "ieizllDrgh2Y"
   },
   "outputs": [
    {
     "data": {
      "text/html": [
       "<div>\n",
       "<style scoped>\n",
       "    .dataframe tbody tr th:only-of-type {\n",
       "        vertical-align: middle;\n",
       "    }\n",
       "\n",
       "    .dataframe tbody tr th {\n",
       "        vertical-align: top;\n",
       "    }\n",
       "\n",
       "    .dataframe thead th {\n",
       "        text-align: right;\n",
       "    }\n",
       "</style>\n",
       "<table border=\"1\" class=\"dataframe\">\n",
       "  <thead>\n",
       "    <tr style=\"text-align: right;\">\n",
       "      <th></th>\n",
       "      <th>Full Name</th>\n",
       "      <th>Gender</th>\n",
       "      <th>Current Annual Salary</th>\n",
       "      <th>2017 Gross Pay Received</th>\n",
       "      <th>2017 Overtime Pay</th>\n",
       "      <th>Department</th>\n",
       "      <th>Department Name</th>\n",
       "      <th>Division</th>\n",
       "      <th>Assignment Category</th>\n",
       "      <th>Employee Position Title</th>\n",
       "      <th>Position Under-Filled</th>\n",
       "      <th>Date First Hired</th>\n",
       "    </tr>\n",
       "  </thead>\n",
       "  <tbody>\n",
       "    <tr>\n",
       "      <th>0</th>\n",
       "      <td>Aarhus, Pam J.</td>\n",
       "      <td>F</td>\n",
       "      <td>70959.79</td>\n",
       "      <td>71316.72</td>\n",
       "      <td>0.00</td>\n",
       "      <td>POL</td>\n",
       "      <td>Department of Police</td>\n",
       "      <td>MSB Information Mgmt and Tech Division Records...</td>\n",
       "      <td>Fulltime-Regular</td>\n",
       "      <td>Office Services Coordinator</td>\n",
       "      <td>NaN</td>\n",
       "      <td>09/22/1986</td>\n",
       "    </tr>\n",
       "    <tr>\n",
       "      <th>1</th>\n",
       "      <td>Aaron, Marsha M.</td>\n",
       "      <td>F</td>\n",
       "      <td>110359.00</td>\n",
       "      <td>108040.82</td>\n",
       "      <td>0.00</td>\n",
       "      <td>HHS</td>\n",
       "      <td>Department of Health and Human Services</td>\n",
       "      <td>Adult Protective and Case Management Services</td>\n",
       "      <td>Fulltime-Regular</td>\n",
       "      <td>Supervisory Social Worker</td>\n",
       "      <td>NaN</td>\n",
       "      <td>11/19/1989</td>\n",
       "    </tr>\n",
       "    <tr>\n",
       "      <th>2</th>\n",
       "      <td>Ababio, Godfred A.</td>\n",
       "      <td>M</td>\n",
       "      <td>55950.24</td>\n",
       "      <td>62575.19</td>\n",
       "      <td>7649.19</td>\n",
       "      <td>COR</td>\n",
       "      <td>Correction and Rehabilitation</td>\n",
       "      <td>PRRS Facility and Security</td>\n",
       "      <td>Fulltime-Regular</td>\n",
       "      <td>Resident Supervisor II</td>\n",
       "      <td>NaN</td>\n",
       "      <td>05/05/2014</td>\n",
       "    </tr>\n",
       "    <tr>\n",
       "      <th>3</th>\n",
       "      <td>Ababu, Essayas</td>\n",
       "      <td>M</td>\n",
       "      <td>95740.00</td>\n",
       "      <td>96055.94</td>\n",
       "      <td>0.00</td>\n",
       "      <td>HCA</td>\n",
       "      <td>Department of Housing and Community Affairs</td>\n",
       "      <td>Affordable Housing Programs</td>\n",
       "      <td>Fulltime-Regular</td>\n",
       "      <td>Planning Specialist III</td>\n",
       "      <td>NaN</td>\n",
       "      <td>03/05/2007</td>\n",
       "    </tr>\n",
       "    <tr>\n",
       "      <th>4</th>\n",
       "      <td>Abbamonte, Drew B.</td>\n",
       "      <td>M</td>\n",
       "      <td>74732.00</td>\n",
       "      <td>98736.78</td>\n",
       "      <td>23468.73</td>\n",
       "      <td>POL</td>\n",
       "      <td>Department of Police</td>\n",
       "      <td>PSB 6th District Special Assignment Team</td>\n",
       "      <td>Fulltime-Regular</td>\n",
       "      <td>Police Officer III</td>\n",
       "      <td>NaN</td>\n",
       "      <td>07/16/2007</td>\n",
       "    </tr>\n",
       "  </tbody>\n",
       "</table>\n",
       "</div>"
      ],
      "text/plain": [
       "            Full Name Gender  Current Annual Salary  2017 Gross Pay Received  \\\n",
       "0      Aarhus, Pam J.      F               70959.79                 71316.72   \n",
       "1    Aaron, Marsha M.      F              110359.00                108040.82   \n",
       "2  Ababio, Godfred A.      M               55950.24                 62575.19   \n",
       "3      Ababu, Essayas      M               95740.00                 96055.94   \n",
       "4  Abbamonte, Drew B.      M               74732.00                 98736.78   \n",
       "\n",
       "   2017 Overtime Pay Department                              Department Name  \\\n",
       "0               0.00        POL                         Department of Police   \n",
       "1               0.00        HHS      Department of Health and Human Services   \n",
       "2            7649.19        COR                Correction and Rehabilitation   \n",
       "3               0.00        HCA  Department of Housing and Community Affairs   \n",
       "4           23468.73        POL                         Department of Police   \n",
       "\n",
       "                                            Division Assignment Category  \\\n",
       "0  MSB Information Mgmt and Tech Division Records...    Fulltime-Regular   \n",
       "1      Adult Protective and Case Management Services    Fulltime-Regular   \n",
       "2                         PRRS Facility and Security    Fulltime-Regular   \n",
       "3                        Affordable Housing Programs    Fulltime-Regular   \n",
       "4           PSB 6th District Special Assignment Team    Fulltime-Regular   \n",
       "\n",
       "       Employee Position Title Position Under-Filled Date First Hired  \n",
       "0  Office Services Coordinator                   NaN       09/22/1986  \n",
       "1    Supervisory Social Worker                   NaN       11/19/1989  \n",
       "2       Resident Supervisor II                   NaN       05/05/2014  \n",
       "3      Planning Specialist III                   NaN       03/05/2007  \n",
       "4           Police Officer III                   NaN       07/16/2007  "
      ]
     },
     "execution_count": 3,
     "metadata": {},
     "output_type": "execute_result"
    }
   ],
   "source": [
    "import pandas as pd\n",
    "\n",
    "salary_data = pd.read_csv(file_name)\n",
    "salary_data.head()"
   ]
  },
  {
   "cell_type": "markdown",
   "metadata": {
    "colab_type": "text",
    "id": "dsBw6st2ecgV"
   },
   "source": [
    "### Build a Synthetic Column"
   ]
  },
  {
   "cell_type": "markdown",
   "metadata": {
    "colab_type": "text",
    "id": "3T3ixyJ0cTOl"
   },
   "source": [
    "Let's take a look at just the column names and data types."
   ]
  },
  {
   "cell_type": "code",
   "execution_count": 4,
   "metadata": {
    "colab": {},
    "colab_type": "code",
    "id": "bJjriCTbopbz"
   },
   "outputs": [
    {
     "data": {
      "text/plain": [
       "Full Name                   object\n",
       "Gender                      object\n",
       "Current Annual Salary      float64\n",
       "2017 Gross Pay Received    float64\n",
       "2017 Overtime Pay          float64\n",
       "Department                  object\n",
       "Department Name             object\n",
       "Division                    object\n",
       "Assignment Category         object\n",
       "Employee Position Title     object\n",
       "Position Under-Filled       object\n",
       "Date First Hired            object\n",
       "dtype: object"
      ]
     },
     "execution_count": 4,
     "metadata": {},
     "output_type": "execute_result"
    }
   ],
   "source": [
    "salary_data.dtypes"
   ]
  },
  {
   "cell_type": "markdown",
   "metadata": {
    "colab_type": "text",
    "id": "4HOfHX1FciIm"
   },
   "source": [
    "The only numeric columns are related to pay, but there is one other column that looks like it might could be converted to a number and predictive of pay: 'Date First Hired'. "
   ]
  },
  {
   "cell_type": "code",
   "execution_count": 5,
   "metadata": {
    "colab": {},
    "colab_type": "code",
    "id": "QOFp62zIcyTl"
   },
   "outputs": [
    {
     "data": {
      "text/plain": [
       "1688    07/11/2016\n",
       "3016    06/15/2015\n",
       "2568    06/28/1999\n",
       "4121    02/09/2015\n",
       "7460    01/09/1994\n",
       "9135    09/06/1988\n",
       "4435    01/09/2017\n",
       "7073    03/22/2004\n",
       "4807    03/19/2007\n",
       "9097    10/16/2017\n",
       "Name: Date First Hired, dtype: object"
      ]
     },
     "execution_count": 5,
     "metadata": {},
     "output_type": "execute_result"
    }
   ],
   "source": [
    "salary_data['Date First Hired'].sample(10)"
   ]
  },
  {
   "cell_type": "markdown",
   "metadata": {
    "colab_type": "text",
    "id": "rDMqYgm0c95M"
   },
   "source": [
    "We can convert the dates from a string to a date using Panda's `to_datetime` function."
   ]
  },
  {
   "cell_type": "code",
   "execution_count": 6,
   "metadata": {
    "colab": {},
    "colab_type": "code",
    "id": "uCAW1g-ndCkb"
   },
   "outputs": [
    {
     "data": {
      "text/plain": [
       "150    2008-03-17\n",
       "7386   2007-09-17\n",
       "8282   2002-09-03\n",
       "9058   2016-12-12\n",
       "8220   1993-07-26\n",
       "2535   1997-11-17\n",
       "74     1989-04-10\n",
       "2871   1999-08-16\n",
       "5219   2004-09-07\n",
       "4684   1985-10-21\n",
       "Name: Date First Hired, dtype: datetime64[ns]"
      ]
     },
     "execution_count": 6,
     "metadata": {},
     "output_type": "execute_result"
    }
   ],
   "source": [
    "pd.to_datetime(salary_data['Date First Hired']).sample(10)"
   ]
  },
  {
   "cell_type": "markdown",
   "metadata": {
    "colab_type": "text",
    "id": "Oat00QaUdOBj"
   },
   "source": [
    "It would be useful to convert this data to a numeric variable. Since we know we are working with data from 2017 we can choose some date in 2017 and subtract the first hire date from it creating a 'Tenure' column.\n",
    " \n",
    "Since some employees were likely hired in 2017 we don't want to use the first of the year. For simplicity's sake we will simply subtract the first hired date from January 1st 2018."
   ]
  },
  {
   "cell_type": "code",
   "execution_count": 7,
   "metadata": {
    "colab": {},
    "colab_type": "code",
    "id": "5KnqX_v_d1Xu"
   },
   "outputs": [
    {
     "data": {
      "text/html": [
       "<div>\n",
       "<style scoped>\n",
       "    .dataframe tbody tr th:only-of-type {\n",
       "        vertical-align: middle;\n",
       "    }\n",
       "\n",
       "    .dataframe tbody tr th {\n",
       "        vertical-align: top;\n",
       "    }\n",
       "\n",
       "    .dataframe thead th {\n",
       "        text-align: right;\n",
       "    }\n",
       "</style>\n",
       "<table border=\"1\" class=\"dataframe\">\n",
       "  <thead>\n",
       "    <tr style=\"text-align: right;\">\n",
       "      <th></th>\n",
       "      <th>Date First Hired</th>\n",
       "      <th>Tenure</th>\n",
       "    </tr>\n",
       "  </thead>\n",
       "  <tbody>\n",
       "    <tr>\n",
       "      <th>2839</th>\n",
       "      <td>08/16/2004</td>\n",
       "      <td>4886</td>\n",
       "    </tr>\n",
       "    <tr>\n",
       "      <th>290</th>\n",
       "      <td>08/26/2013</td>\n",
       "      <td>1589</td>\n",
       "    </tr>\n",
       "    <tr>\n",
       "      <th>4758</th>\n",
       "      <td>01/09/2017</td>\n",
       "      <td>357</td>\n",
       "    </tr>\n",
       "    <tr>\n",
       "      <th>4603</th>\n",
       "      <td>01/14/2013</td>\n",
       "      <td>1813</td>\n",
       "    </tr>\n",
       "    <tr>\n",
       "      <th>3549</th>\n",
       "      <td>02/14/2000</td>\n",
       "      <td>6531</td>\n",
       "    </tr>\n",
       "    <tr>\n",
       "      <th>2694</th>\n",
       "      <td>02/14/2011</td>\n",
       "      <td>2513</td>\n",
       "    </tr>\n",
       "    <tr>\n",
       "      <th>3114</th>\n",
       "      <td>01/04/2011</td>\n",
       "      <td>2554</td>\n",
       "    </tr>\n",
       "    <tr>\n",
       "      <th>7634</th>\n",
       "      <td>12/13/2004</td>\n",
       "      <td>4767</td>\n",
       "    </tr>\n",
       "    <tr>\n",
       "      <th>8471</th>\n",
       "      <td>01/12/2015</td>\n",
       "      <td>1085</td>\n",
       "    </tr>\n",
       "    <tr>\n",
       "      <th>3703</th>\n",
       "      <td>08/17/1998</td>\n",
       "      <td>7077</td>\n",
       "    </tr>\n",
       "  </tbody>\n",
       "</table>\n",
       "</div>"
      ],
      "text/plain": [
       "     Date First Hired  Tenure\n",
       "2839       08/16/2004    4886\n",
       "290        08/26/2013    1589\n",
       "4758       01/09/2017     357\n",
       "4603       01/14/2013    1813\n",
       "3549       02/14/2000    6531\n",
       "2694       02/14/2011    2513\n",
       "3114       01/04/2011    2554\n",
       "7634       12/13/2004    4767\n",
       "8471       01/12/2015    1085\n",
       "3703       08/17/1998    7077"
      ]
     },
     "execution_count": 7,
     "metadata": {},
     "output_type": "execute_result"
    }
   ],
   "source": [
    "salary_data['Tenure'] = ((pd.to_datetime('01/01/2018') - pd.to_datetime(salary_data['Date First Hired'])).apply(lambda td: td.days)).astype('int64')\n",
    "salary_data[['Date First Hired', 'Tenure']].sample(10)"
   ]
  },
  {
   "cell_type": "markdown",
   "metadata": {
    "colab_type": "text",
    "id": "YatcCzKgf3di"
   },
   "source": [
    "Let's also describe the data and check out the distribution of our new 'Tenure' column."
   ]
  },
  {
   "cell_type": "code",
   "execution_count": 8,
   "metadata": {
    "colab": {},
    "colab_type": "code",
    "id": "DegGkLNhfsPR"
   },
   "outputs": [
    {
     "data": {
      "text/plain": [
       "count     9398.000000\n",
       "mean      4696.393169\n",
       "std       3441.486875\n",
       "min          6.000000\n",
       "25%       1617.000000\n",
       "50%       4263.000000\n",
       "75%       6825.000000\n",
       "max      19086.000000\n",
       "Name: Tenure, dtype: float64"
      ]
     },
     "execution_count": 8,
     "metadata": {},
     "output_type": "execute_result"
    }
   ],
   "source": [
    "salary_data['Tenure'].describe()"
   ]
  },
  {
   "cell_type": "markdown",
   "metadata": {
    "colab_type": "text",
    "id": "jjBrAB-FgTIn"
   },
   "source": [
    "We can see that the minimum tenure is 6 days and that the 50th percentile is 4263 days, which is just over 11.5 years. That doesn't seem too crazy for a government job.\n",
    " \n",
    "Check out that max value though! 19086 days, which is just over 52 years.\n",
    " \n",
    "Let's look closer."
   ]
  },
  {
   "cell_type": "code",
   "execution_count": 9,
   "metadata": {
    "colab": {},
    "colab_type": "code",
    "id": "DnWPUoGrggyq"
   },
   "outputs": [
    {
     "data": {
      "text/html": [
       "<div>\n",
       "<style scoped>\n",
       "    .dataframe tbody tr th:only-of-type {\n",
       "        vertical-align: middle;\n",
       "    }\n",
       "\n",
       "    .dataframe tbody tr th {\n",
       "        vertical-align: top;\n",
       "    }\n",
       "\n",
       "    .dataframe thead th {\n",
       "        text-align: right;\n",
       "    }\n",
       "</style>\n",
       "<table border=\"1\" class=\"dataframe\">\n",
       "  <thead>\n",
       "    <tr style=\"text-align: right;\">\n",
       "      <th></th>\n",
       "      <th>Full Name</th>\n",
       "      <th>Gender</th>\n",
       "      <th>Current Annual Salary</th>\n",
       "      <th>2017 Gross Pay Received</th>\n",
       "      <th>2017 Overtime Pay</th>\n",
       "      <th>Department</th>\n",
       "      <th>Department Name</th>\n",
       "      <th>Division</th>\n",
       "      <th>Assignment Category</th>\n",
       "      <th>Employee Position Title</th>\n",
       "      <th>Position Under-Filled</th>\n",
       "      <th>Date First Hired</th>\n",
       "      <th>Tenure</th>\n",
       "    </tr>\n",
       "  </thead>\n",
       "  <tbody>\n",
       "    <tr>\n",
       "      <th>4209</th>\n",
       "      <td>Jann, Judith A.</td>\n",
       "      <td>F</td>\n",
       "      <td>103381.1</td>\n",
       "      <td>102019.1</td>\n",
       "      <td>0.0</td>\n",
       "      <td>HHS</td>\n",
       "      <td>Department of Health and Human Services</td>\n",
       "      <td>Area Health Centers</td>\n",
       "      <td>Fulltime-Regular</td>\n",
       "      <td>Community Health Nurse II</td>\n",
       "      <td>NaN</td>\n",
       "      <td>09/30/1965</td>\n",
       "      <td>19086</td>\n",
       "    </tr>\n",
       "  </tbody>\n",
       "</table>\n",
       "</div>"
      ],
      "text/plain": [
       "            Full Name Gender  Current Annual Salary  2017 Gross Pay Received  \\\n",
       "4209  Jann, Judith A.      F               103381.1                 102019.1   \n",
       "\n",
       "      2017 Overtime Pay Department                          Department Name  \\\n",
       "4209                0.0        HHS  Department of Health and Human Services   \n",
       "\n",
       "                 Division Assignment Category    Employee Position Title  \\\n",
       "4209  Area Health Centers    Fulltime-Regular  Community Health Nurse II   \n",
       "\n",
       "     Position Under-Filled Date First Hired  Tenure  \n",
       "4209                   NaN       09/30/1965   19086  "
      ]
     },
     "execution_count": 9,
     "metadata": {},
     "output_type": "execute_result"
    }
   ],
   "source": [
    "salary_data[salary_data['Tenure'] == 19086]"
   ]
  },
  {
   "cell_type": "markdown",
   "metadata": {
    "colab_type": "text",
    "id": "KUOaMhL7hOIp"
   },
   "source": [
    "A quick search on the internet brings up [meeting minutes](https://www.montgomerycountymd.gov/HHS-Program/Resources/Files/PHSDocs/COH/June%202016%20approved%20COH%20Minutes--FINAL.pdf) from 2016 where our outlier is being congratulated for 50 years of service to Montgomery County.\n",
    " \n",
    "Our new column seems to be legit."
   ]
  },
  {
   "cell_type": "markdown",
   "metadata": {
    "colab_type": "text",
    "id": "xhblVcZB2ipY"
   },
   "source": [
    "### Visualize the Data"
   ]
  },
  {
   "cell_type": "markdown",
   "metadata": {
    "colab_type": "text",
    "id": "UbwuVzyM2ln7"
   },
   "source": [
    "Our dataset contains salary data for every government employee. This includes a wide range of job roles, each with their own competitive pay ranges.\n",
    "\n",
    "Let's look at a visualization of salary and tenure."
   ]
  },
  {
   "cell_type": "code",
   "execution_count": 10,
   "metadata": {
    "colab": {},
    "colab_type": "code",
    "id": "D7Rl9q9c3CBK"
   },
   "outputs": [
    {
     "data": {
      "text/plain": [
       "<Figure size 640x480 with 1 Axes>"
      ]
     },
     "metadata": {},
     "output_type": "display_data"
    }
   ],
   "source": [
    "import matplotlib.pyplot as plt\n",
    "\n",
    "plt.plot(salary_data['Tenure'], salary_data['Current Annual Salary'], 'b.')\n",
    "plt.show()"
   ]
  },
  {
   "cell_type": "markdown",
   "metadata": {
    "colab_type": "text",
    "id": "abQA-1bR3MkV"
   },
   "source": [
    "### Narrow the Problem Scope"
   ]
  },
  {
   "cell_type": "markdown",
   "metadata": {
    "colab_type": "text",
    "id": "vdeTHiyj3GAz"
   },
   "source": [
    "This data would be impossible to predict reliably using a linear function. Let's explore the data and see what the most common job roles are. We can then just build a model for that job role."
   ]
  },
  {
   "cell_type": "code",
   "execution_count": 11,
   "metadata": {
    "colab": {},
    "colab_type": "code",
    "id": "j-0Aq4vx3eBF"
   },
   "outputs": [
    {
     "data": {
      "text/plain": [
       "Employee Position Title\n",
       "Police Officer III                     907\n",
       "Firefighter/Rescuer III                729\n",
       "Bus Operator                           635\n",
       "Manager III                            255\n",
       "Correctional Officer III (Corporal)    241\n",
       "Name: Tenure, dtype: int64"
      ]
     },
     "execution_count": 11,
     "metadata": {},
     "output_type": "execute_result"
    }
   ],
   "source": [
    "salary_data.groupby('Employee Position Title')['Tenure'].count().sort_values(ascending=False).head()"
   ]
  },
  {
   "cell_type": "markdown",
   "metadata": {
    "colab_type": "text",
    "id": "DIdajQXL3gLi"
   },
   "source": [
    "'Police Officer III' seems to be the clear winner with 'Firefighter/Rescuer III' and 'Bus Operator' not far behind.\n",
    " \n",
    "We will limit our model to predict the pay of people with 'Police Officer III' roles."
   ]
  },
  {
   "cell_type": "code",
   "execution_count": 12,
   "metadata": {
    "colab": {},
    "colab_type": "code",
    "id": "DEt74YZu3x7c"
   },
   "outputs": [
    {
     "data": {
      "text/html": [
       "<div>\n",
       "<style scoped>\n",
       "    .dataframe tbody tr th:only-of-type {\n",
       "        vertical-align: middle;\n",
       "    }\n",
       "\n",
       "    .dataframe tbody tr th {\n",
       "        vertical-align: top;\n",
       "    }\n",
       "\n",
       "    .dataframe thead th {\n",
       "        text-align: right;\n",
       "    }\n",
       "</style>\n",
       "<table border=\"1\" class=\"dataframe\">\n",
       "  <thead>\n",
       "    <tr style=\"text-align: right;\">\n",
       "      <th></th>\n",
       "      <th>Current Annual Salary</th>\n",
       "      <th>2017 Gross Pay Received</th>\n",
       "      <th>2017 Overtime Pay</th>\n",
       "      <th>Tenure</th>\n",
       "    </tr>\n",
       "  </thead>\n",
       "  <tbody>\n",
       "    <tr>\n",
       "      <th>count</th>\n",
       "      <td>907.000000</td>\n",
       "      <td>907.000000</td>\n",
       "      <td>907.000000</td>\n",
       "      <td>907.000000</td>\n",
       "    </tr>\n",
       "    <tr>\n",
       "      <th>mean</th>\n",
       "      <td>77774.484994</td>\n",
       "      <td>87333.802988</td>\n",
       "      <td>8831.269008</td>\n",
       "      <td>4469.426681</td>\n",
       "    </tr>\n",
       "    <tr>\n",
       "      <th>std</th>\n",
       "      <td>14269.862248</td>\n",
       "      <td>19137.082008</td>\n",
       "      <td>7571.426551</td>\n",
       "      <td>2973.811057</td>\n",
       "    </tr>\n",
       "    <tr>\n",
       "      <th>min</th>\n",
       "      <td>37366.000000</td>\n",
       "      <td>0.000000</td>\n",
       "      <td>0.000000</td>\n",
       "      <td>189.000000</td>\n",
       "    </tr>\n",
       "    <tr>\n",
       "      <th>25%</th>\n",
       "      <td>65122.000000</td>\n",
       "      <td>73574.440000</td>\n",
       "      <td>3204.250000</td>\n",
       "      <td>1673.000000</td>\n",
       "    </tr>\n",
       "    <tr>\n",
       "      <th>50%</th>\n",
       "      <td>77347.000000</td>\n",
       "      <td>87903.590000</td>\n",
       "      <td>6961.850000</td>\n",
       "      <td>4186.000000</td>\n",
       "    </tr>\n",
       "    <tr>\n",
       "      <th>75%</th>\n",
       "      <td>91869.000000</td>\n",
       "      <td>100637.785000</td>\n",
       "      <td>12225.575000</td>\n",
       "      <td>6377.000000</td>\n",
       "    </tr>\n",
       "    <tr>\n",
       "      <th>max</th>\n",
       "      <td>95084.420000</td>\n",
       "      <td>145581.760000</td>\n",
       "      <td>44839.110000</td>\n",
       "      <td>13945.000000</td>\n",
       "    </tr>\n",
       "  </tbody>\n",
       "</table>\n",
       "</div>"
      ],
      "text/plain": [
       "       Current Annual Salary  2017 Gross Pay Received  2017 Overtime Pay  \\\n",
       "count             907.000000               907.000000         907.000000   \n",
       "mean            77774.484994             87333.802988        8831.269008   \n",
       "std             14269.862248             19137.082008        7571.426551   \n",
       "min             37366.000000                 0.000000           0.000000   \n",
       "25%             65122.000000             73574.440000        3204.250000   \n",
       "50%             77347.000000             87903.590000        6961.850000   \n",
       "75%             91869.000000            100637.785000       12225.575000   \n",
       "max             95084.420000            145581.760000       44839.110000   \n",
       "\n",
       "             Tenure  \n",
       "count    907.000000  \n",
       "mean    4469.426681  \n",
       "std     2973.811057  \n",
       "min      189.000000  \n",
       "25%     1673.000000  \n",
       "50%     4186.000000  \n",
       "75%     6377.000000  \n",
       "max    13945.000000  "
      ]
     },
     "execution_count": 12,
     "metadata": {},
     "output_type": "execute_result"
    }
   ],
   "source": [
    "police_officers = salary_data[salary_data['Employee Position Title'] == 'Police Officer III']\n",
    "\n",
    "police_officers.describe()"
   ]
  },
  {
   "cell_type": "markdown",
   "metadata": {
    "colab_type": "text",
    "id": "i39TlYbv30gL"
   },
   "source": [
    "And visualizing that data."
   ]
  },
  {
   "cell_type": "code",
   "execution_count": 13,
   "metadata": {
    "colab": {},
    "colab_type": "code",
    "id": "SmXZNxDh32RU"
   },
   "outputs": [
    {
     "data": {
      "image/png": "[encoded data removed]",
      "text/plain": [
       "<Figure size 432x288 with 1 Axes>"
      ]
     },
     "metadata": {
      "needs_background": "light"
     },
     "output_type": "display_data"
    }
   ],
   "source": [
    "import matplotlib.pyplot as plt\n",
    "\n",
    "plt.plot(police_officers['Tenure'], police_officers['Current Annual Salary'], 'b.')\n",
    "plt.show()"
   ]
  },
  {
   "cell_type": "markdown",
   "metadata": {
    "colab_type": "text",
    "id": "RszwFzgN3-64"
   },
   "source": [
    "This data looks much better and might be a good fit for a linear model. There do seem to be some obvious pay bands and an overall salary cap just over $90,000."
   ]
  },
  {
   "cell_type": "markdown",
   "metadata": {
    "colab_type": "text",
    "id": "xOdxRVZv4gs-"
   },
   "source": [
    "Another interesting salary-related datapoint is the actual gross pay that the officer received over the course of the year. Where the salary is promised pay, the gross salary is actual pay including overtime and subtracting days of unpaid leave and days before the officer started work (if the officer started in 2017)."
   ]
  },
  {
   "cell_type": "code",
   "execution_count": 14,
   "metadata": {
    "colab": {},
    "colab_type": "code",
    "id": "K_XlhVUl4OXh"
   },
   "outputs": [
    {
     "data": {
      "image/png": "[encoded data removed]",
      "text/plain": [
       "<Figure size 432x288 with 1 Axes>"
      ]
     },
     "metadata": {
      "needs_background": "light"
     },
     "output_type": "display_data"
    }
   ],
   "source": [
    "import matplotlib.pyplot as plt\n",
    "\n",
    "plt.plot(police_officers['Tenure'], police_officers['2017 Gross Pay Received'], 'b.')\n",
    "plt.show()"
   ]
  },
  {
   "cell_type": "markdown",
   "metadata": {
    "colab_type": "text",
    "id": "GLLDHI7t5Vdb"
   },
   "source": [
    "Here we can see more pronounced bands, but they aren't pay bands. The bands are groups of officers with the same tenure. Likely this is a class of officers starting at the same time. Also, most people start a new job on Mondays."
   ]
  },
  {
   "cell_type": "markdown",
   "metadata": {
    "colab_type": "text",
    "id": "K5z5s-V86Tnq"
   },
   "source": [
    "So which do we want to try to predict? Salary is likely more predictable since gross pay can be affected by an individual's willingness to perform overtime work.\n",
    "\n",
    "A quick look at a correlation matrix indicates that we'd have better luck predicting salary also."
   ]
  },
  {
   "cell_type": "code",
   "execution_count": 15,
   "metadata": {
    "colab": {},
    "colab_type": "code",
    "id": "3Vu3G9SZ6FgH"
   },
   "outputs": [
    {
     "data": {
      "text/html": [
       "<div>\n",
       "<style scoped>\n",
       "    .dataframe tbody tr th:only-of-type {\n",
       "        vertical-align: middle;\n",
       "    }\n",
       "\n",
       "    .dataframe tbody tr th {\n",
       "        vertical-align: top;\n",
       "    }\n",
       "\n",
       "    .dataframe thead th {\n",
       "        text-align: right;\n",
       "    }\n",
       "</style>\n",
       "<table border=\"1\" class=\"dataframe\">\n",
       "  <thead>\n",
       "    <tr style=\"text-align: right;\">\n",
       "      <th></th>\n",
       "      <th>Tenure</th>\n",
       "      <th>Current Annual Salary</th>\n",
       "      <th>2017 Gross Pay Received</th>\n",
       "    </tr>\n",
       "  </thead>\n",
       "  <tbody>\n",
       "    <tr>\n",
       "      <th>Tenure</th>\n",
       "      <td>1.000000</td>\n",
       "      <td>0.895050</td>\n",
       "      <td>0.744854</td>\n",
       "    </tr>\n",
       "    <tr>\n",
       "      <th>Current Annual Salary</th>\n",
       "      <td>0.895050</td>\n",
       "      <td>1.000000</td>\n",
       "      <td>0.826263</td>\n",
       "    </tr>\n",
       "    <tr>\n",
       "      <th>2017 Gross Pay Received</th>\n",
       "      <td>0.744854</td>\n",
       "      <td>0.826263</td>\n",
       "      <td>1.000000</td>\n",
       "    </tr>\n",
       "  </tbody>\n",
       "</table>\n",
       "</div>"
      ],
      "text/plain": [
       "                           Tenure  Current Annual Salary  \\\n",
       "Tenure                   1.000000               0.895050   \n",
       "Current Annual Salary    0.895050               1.000000   \n",
       "2017 Gross Pay Received  0.744854               0.826263   \n",
       "\n",
       "                         2017 Gross Pay Received  \n",
       "Tenure                                  0.744854  \n",
       "Current Annual Salary                   0.826263  \n",
       "2017 Gross Pay Received                 1.000000  "
      ]
     },
     "execution_count": 15,
     "metadata": {},
     "output_type": "execute_result"
    }
   ],
   "source": [
    "police_officers[['Tenure', 'Current Annual Salary', '2017 Gross Pay Received']].corr()"
   ]
  },
  {
   "cell_type": "markdown",
   "metadata": {
    "colab_type": "text",
    "id": "R8QzVgnS8TaD"
   },
   "source": [
    "## k-Fold Cross Validation"
   ]
  },
  {
   "cell_type": "markdown",
   "metadata": {
    "colab_type": "text",
    "id": "1nCwZ9OH9HCB"
   },
   "source": [
    "### Create a Pipeline"
   ]
  },
  {
   "cell_type": "markdown",
   "metadata": {
    "colab_type": "text",
    "id": "U22EqeuC8WAB"
   },
   "source": [
    "For this lab we are going to use the [SGDRegressor](https://scikit-learn.org/stable/modules/generated/sklearn.linear_model.SGDRegressor.html) to find our regression line. Before we do that it is a good idea to scale our feature data using the [StandardScalar](https://scikit-learn.org/stable/modules/generated/sklearn.preprocessing.StandardScaler.html).\n",
    "\n",
    "Since we'll be using k-fold cross validation for exploring our model we can make it easier for ourselves to perform the data preprocessing and model fitting by using a `Pipeline`."
   ]
  },
  {
   "cell_type": "code",
   "execution_count": 16,
   "metadata": {
    "colab": {},
    "colab_type": "code",
    "id": "QlODYvMB8uy1"
   },
   "outputs": [],
   "source": [
    "from sklearn.linear_model import SGDRegressor\n",
    "from sklearn.preprocessing import StandardScaler\n",
    "from sklearn.pipeline import Pipeline\n",
    "\n",
    "estimator = Pipeline(\n",
    "  steps=[\n",
    "    ['scale', StandardScaler()],\n",
    "    ['regressor', SGDRegressor(random_state=562)],\n",
    "  ]\n",
    ")"
   ]
  },
  {
   "cell_type": "markdown",
   "metadata": {
    "colab_type": "text",
    "id": "-arCV4o4-6O9"
   },
   "source": [
    "### Shuffle the Data"
   ]
  },
  {
   "cell_type": "markdown",
   "metadata": {
    "colab_type": "text",
    "id": "dZCwsoEA-lHr"
   },
   "source": [
    "We will also want to shuffle our data before sending it into the cross validation function."
   ]
  },
  {
   "cell_type": "code",
   "execution_count": 17,
   "metadata": {
    "colab": {},
    "colab_type": "code",
    "id": "ARx5w57w-qNu"
   },
   "outputs": [
    {
     "data": {
      "text/html": [
       "<div>\n",
       "<style scoped>\n",
       "    .dataframe tbody tr th:only-of-type {\n",
       "        vertical-align: middle;\n",
       "    }\n",
       "\n",
       "    .dataframe tbody tr th {\n",
       "        vertical-align: top;\n",
       "    }\n",
       "\n",
       "    .dataframe thead th {\n",
       "        text-align: right;\n",
       "    }\n",
       "</style>\n",
       "<table border=\"1\" class=\"dataframe\">\n",
       "  <thead>\n",
       "    <tr style=\"text-align: right;\">\n",
       "      <th></th>\n",
       "      <th>Full Name</th>\n",
       "      <th>Gender</th>\n",
       "      <th>Current Annual Salary</th>\n",
       "      <th>2017 Gross Pay Received</th>\n",
       "      <th>2017 Overtime Pay</th>\n",
       "      <th>Department</th>\n",
       "      <th>Department Name</th>\n",
       "      <th>Division</th>\n",
       "      <th>Assignment Category</th>\n",
       "      <th>Employee Position Title</th>\n",
       "      <th>Position Under-Filled</th>\n",
       "      <th>Date First Hired</th>\n",
       "      <th>Tenure</th>\n",
       "    </tr>\n",
       "  </thead>\n",
       "  <tbody>\n",
       "    <tr>\n",
       "      <th>1221</th>\n",
       "      <td>Calafos, Michael W.</td>\n",
       "      <td>M</td>\n",
       "      <td>95084.42</td>\n",
       "      <td>102131.84</td>\n",
       "      <td>3297.63</td>\n",
       "      <td>POL</td>\n",
       "      <td>Department of Police</td>\n",
       "      <td>PSB 5th District Patrol</td>\n",
       "      <td>Fulltime-Regular</td>\n",
       "      <td>Police Officer III</td>\n",
       "      <td>NaN</td>\n",
       "      <td>06/13/1994</td>\n",
       "      <td>8603</td>\n",
       "    </tr>\n",
       "    <tr>\n",
       "      <th>7137</th>\n",
       "      <td>Reyes, Laura E.</td>\n",
       "      <td>F</td>\n",
       "      <td>91869.00</td>\n",
       "      <td>91258.55</td>\n",
       "      <td>346.42</td>\n",
       "      <td>POL</td>\n",
       "      <td>Department of Police</td>\n",
       "      <td>PSB 6th District Patrol</td>\n",
       "      <td>Fulltime-Regular</td>\n",
       "      <td>Police Officer III</td>\n",
       "      <td>NaN</td>\n",
       "      <td>09/29/1997</td>\n",
       "      <td>7399</td>\n",
       "    </tr>\n",
       "    <tr>\n",
       "      <th>2149</th>\n",
       "      <td>Denston, William B.</td>\n",
       "      <td>M</td>\n",
       "      <td>62020.00</td>\n",
       "      <td>68118.86</td>\n",
       "      <td>6452.02</td>\n",
       "      <td>POL</td>\n",
       "      <td>Department of Police</td>\n",
       "      <td>PSB 4th District Patrol</td>\n",
       "      <td>Fulltime-Regular</td>\n",
       "      <td>Police Officer III</td>\n",
       "      <td>Police Officer II</td>\n",
       "      <td>08/12/2013</td>\n",
       "      <td>1603</td>\n",
       "    </tr>\n",
       "    <tr>\n",
       "      <th>278</th>\n",
       "      <td>Apelquist, Kristina J.</td>\n",
       "      <td>F</td>\n",
       "      <td>91869.00</td>\n",
       "      <td>111162.12</td>\n",
       "      <td>16714.81</td>\n",
       "      <td>POL</td>\n",
       "      <td>Department of Police</td>\n",
       "      <td>PSB 3rd District Patrol</td>\n",
       "      <td>Fulltime-Regular</td>\n",
       "      <td>Police Officer III</td>\n",
       "      <td>NaN</td>\n",
       "      <td>07/19/2004</td>\n",
       "      <td>4914</td>\n",
       "    </tr>\n",
       "    <tr>\n",
       "      <th>3973</th>\n",
       "      <td>Horwitz, Charles W.</td>\n",
       "      <td>M</td>\n",
       "      <td>69762.00</td>\n",
       "      <td>85436.79</td>\n",
       "      <td>10898.07</td>\n",
       "      <td>POL</td>\n",
       "      <td>Department of Police</td>\n",
       "      <td>ISB Criminal Investigations Division 3rd Distr...</td>\n",
       "      <td>Fulltime-Regular</td>\n",
       "      <td>Police Officer III</td>\n",
       "      <td>NaN</td>\n",
       "      <td>07/12/2010</td>\n",
       "      <td>2730</td>\n",
       "    </tr>\n",
       "  </tbody>\n",
       "</table>\n",
       "</div>"
      ],
      "text/plain": [
       "                   Full Name Gender  Current Annual Salary  \\\n",
       "1221     Calafos, Michael W.      M               95084.42   \n",
       "7137         Reyes, Laura E.      F               91869.00   \n",
       "2149     Denston, William B.      M               62020.00   \n",
       "278   Apelquist, Kristina J.      F               91869.00   \n",
       "3973     Horwitz, Charles W.      M               69762.00   \n",
       "\n",
       "      2017 Gross Pay Received  2017 Overtime Pay Department  \\\n",
       "1221                102131.84            3297.63        POL   \n",
       "7137                 91258.55             346.42        POL   \n",
       "2149                 68118.86            6452.02        POL   \n",
       "278                 111162.12           16714.81        POL   \n",
       "3973                 85436.79           10898.07        POL   \n",
       "\n",
       "           Department Name                                           Division  \\\n",
       "1221  Department of Police                            PSB 5th District Patrol   \n",
       "7137  Department of Police                            PSB 6th District Patrol   \n",
       "2149  Department of Police                            PSB 4th District Patrol   \n",
       "278   Department of Police                            PSB 3rd District Patrol   \n",
       "3973  Department of Police  ISB Criminal Investigations Division 3rd Distr...   \n",
       "\n",
       "     Assignment Category Employee Position Title Position Under-Filled  \\\n",
       "1221    Fulltime-Regular      Police Officer III                   NaN   \n",
       "7137    Fulltime-Regular      Police Officer III                   NaN   \n",
       "2149    Fulltime-Regular      Police Officer III     Police Officer II   \n",
       "278     Fulltime-Regular      Police Officer III                   NaN   \n",
       "3973    Fulltime-Regular      Police Officer III                   NaN   \n",
       "\n",
       "     Date First Hired  Tenure  \n",
       "1221       06/13/1994    8603  \n",
       "7137       09/29/1997    7399  \n",
       "2149       08/12/2013    1603  \n",
       "278        07/19/2004    4914  \n",
       "3973       07/12/2010    2730  "
      ]
     },
     "execution_count": 17,
     "metadata": {},
     "output_type": "execute_result"
    }
   ],
   "source": [
    "police_officers = police_officers.sample(frac=1.0, random_state=324)\n",
    "police_officers.head()"
   ]
  },
  {
   "cell_type": "markdown",
   "metadata": {
    "colab_type": "text",
    "id": "Uo3cNIUl_L1F"
   },
   "source": [
    "### Calculate Scores"
   ]
  },
  {
   "cell_type": "markdown",
   "metadata": {
    "colab_type": "text",
    "id": "28vKYwD3-2kj"
   },
   "source": [
    "Now we can calculate our cross validation scores. We'll use the `cross_val_score` function which uses k-Fold cross validation by default.\n",
    "\n",
    "We pass the function:\n",
    "\n",
    "1. Estimator (it will be trained k-times)\n",
    "1. Feature data\n",
    "1. Target data\n",
    "1. The number of folds.\n",
    "\n",
    "In the case below we choose 5 folds, which holds out 20% of our data for testing and trains on 80% of the data. Other common values are 10 folds and even 4 folds. There isn't really a correct answer here as to the number of folds to use. The more folds, the more iterations of training and scoring, so your data size and cost of processing might dictate less folds. Above 10 folds isn't very beneficial because of the chances of your testing data for any given fold being very different from your training data increases, so you might not get an accurate view of your model's performance."
   ]
  },
  {
   "cell_type": "code",
   "execution_count": 18,
   "metadata": {
    "colab": {},
    "colab_type": "code",
    "id": "hYig4u5N_FPm"
   },
   "outputs": [
    {
     "data": {
      "text/plain": [
       "array([0.78748878, 0.81152052, 0.81349627, 0.80026603, 0.77298398])"
      ]
     },
     "execution_count": 18,
     "metadata": {},
     "output_type": "execute_result"
    }
   ],
   "source": [
    "from sklearn.model_selection import cross_val_score\n",
    "\n",
    "scores = cross_val_score(\n",
    "    estimator,\n",
    "    police_officers[['Tenure']],\n",
    "    police_officers['Current Annual Salary'],\n",
    "    cv=5\n",
    ")\n",
    "\n",
    "scores"
   ]
  },
  {
   "cell_type": "markdown",
   "metadata": {
    "colab_type": "text",
    "id": "BETD4I2yARd3"
   },
   "source": [
    "You can see after scoring the model with 5 folds we get 5 scores. Since we used an [SGDRegressor](https://scikit-learn.org/stable/modules/generated/sklearn.linear_model.SGDRegressor.html) the score is a r-squared score. Different models return different scores.\n",
    "\n",
    "We can now take the mean of the scores to get a more balanced view of our model's performance."
   ]
  },
  {
   "cell_type": "code",
   "execution_count": 19,
   "metadata": {
    "colab": {},
    "colab_type": "code",
    "id": "zuWWW7rpAmCl"
   },
   "outputs": [
    {
     "data": {
      "text/plain": [
       "0.7971511172298218"
      ]
     },
     "execution_count": 19,
     "metadata": {},
     "output_type": "execute_result"
    }
   ],
   "source": [
    "scores.mean()"
   ]
  },
  {
   "cell_type": "markdown",
   "metadata": {
    "colab_type": "text",
    "id": "g4sbs9j4ArdW"
   },
   "source": [
    "### Comparing to Standard Test/Train Splitting"
   ]
  },
  {
   "cell_type": "markdown",
   "metadata": {
    "colab_type": "text",
    "id": "5vuNIwLjAvkU"
   },
   "source": [
    "Let's compare our mean r-squared score to the score that we would have gotten from a standard test/train split of data."
   ]
  },
  {
   "cell_type": "code",
   "execution_count": 20,
   "metadata": {
    "colab": {},
    "colab_type": "code",
    "id": "srau2d7GA5WF"
   },
   "outputs": [
    {
     "data": {
      "text/plain": [
       "0.7108792353847615"
      ]
     },
     "execution_count": 20,
     "metadata": {},
     "output_type": "execute_result"
    }
   ],
   "source": [
    "from sklearn.linear_model import SGDRegressor\n",
    "from sklearn.preprocessing import StandardScaler\n",
    "from sklearn.pipeline import Pipeline\n",
    "from sklearn.model_selection import train_test_split\n",
    "\n",
    "estimator = Pipeline(\n",
    "  steps=[\n",
    "    ['scale', StandardScaler()],\n",
    "    ['regressor', SGDRegressor(random_state=343)],\n",
    "  ]\n",
    ")\n",
    "\n",
    "X_train, X_test, y_train, y_test = train_test_split(\n",
    "    police_officers[['Tenure']], \n",
    "    police_officers['Current Annual Salary'], \n",
    "    test_size=0.2, \n",
    "    random_state=1234\n",
    ")\n",
    "\n",
    "estimator.fit(X_train, y_train)\n",
    "estimator.score(X_test, y_test)"
   ]
  },
  {
   "cell_type": "markdown",
   "metadata": {
    "colab_type": "text",
    "id": "O1cbwWpICIZy"
   },
   "source": [
    "In this case, at least when this colab was created, the mean cross validation score was actually higher than the individual test score. This won't always be the case and depending on the random states and number of times that you ran each code cell, might not be true.\n",
    " \n",
    "What does the difference between the cross validation score and hold-out score tell us?\n",
    " \n",
    "If the cross validation score is higher, then it means that our model probably performs better on unknown/new data than we would have thought by simply doing holdout.\n",
    " \n",
    "If the cross validation score is lower than our model is likely to just be too well adjusted to the single set of holdout test data.\n",
    " \n",
    "The cross validation score gives us a better idea of how our model would actually perform that the single hold-out score."
   ]
  },
  {
   "cell_type": "markdown",
   "metadata": {
    "colab_type": "text",
    "id": "976w_h81Cv7W"
   },
   "source": [
    "### Next Steps"
   ]
  },
  {
   "cell_type": "markdown",
   "metadata": {
    "colab_type": "text",
    "id": "fG_LZBdhC0gZ"
   },
   "source": [
    "We now have a mean cross validation score and have some idea of how our model will perform, so what's next?\n",
    " \n",
    "There are a few options:\n",
    " \n",
    "* Train the model on the entire dataset.\n",
    "* Train the model on a subset of the dataset.\n",
    " \n",
    "The first option isn't too bad, but it does still expose you to a slight risk that your model will end up overfitting. Since you are training with all of the data there is no way to go back and do one last check to ensure that your model is sane.\n",
    " \n",
    "The second option is preferred. In this case, you still do a train-test split first. Then you perform cross validation on just the training data. Once you get the cross validation score you then train a new model on just the training data and do one final sanity check using the testing data."
   ]
  },
  {
   "cell_type": "code",
   "execution_count": 21,
   "metadata": {
    "colab": {},
    "colab_type": "code",
    "id": "kCOTnR4DEaTR"
   },
   "outputs": [
    {
     "name": "stdout",
     "output_type": "stream",
     "text": [
      "cross validation score (min): 0.7907099519582551\n",
      "cross validation score: 0.8211850398220829\n",
      "final score 0.7108792353847615\n"
     ]
    }
   ],
   "source": [
    "from sklearn.linear_model import SGDRegressor\n",
    "from sklearn.preprocessing import StandardScaler\n",
    "from sklearn.pipeline import Pipeline\n",
    "from sklearn.model_selection import train_test_split\n",
    "\n",
    "X_train, X_test, y_train, y_test = train_test_split(\n",
    "    police_officers[['Tenure']], \n",
    "    police_officers['Current Annual Salary'], \n",
    "    test_size=0.2, \n",
    "    random_state=1234\n",
    ")\n",
    "\n",
    "scores = cross_val_score(estimator, X_train, y_train, cv=5)\n",
    "\n",
    "estimator = Pipeline(\n",
    "  steps=[\n",
    "    ['scale', StandardScaler()],\n",
    "    ['regressor', SGDRegressor(random_state=343)],\n",
    "  ]\n",
    ")\n",
    "\n",
    "estimator.fit(X_train, y_train)\n",
    "score = estimator.score(X_test, y_test)\n",
    "\n",
    "print(f'cross validation score (min): {scores.min()}')\n",
    "print(f'cross validation score: {scores.mean()}')\n",
    "print(f'final score {score}')"
   ]
  },
  {
   "cell_type": "markdown",
   "metadata": {
    "colab_type": "text",
    "id": "_sql9qeCFCKq"
   },
   "source": [
    "In this case again the cross validation score differs quite a bit from our cross validation score. This hints that we still might be overfitting to our training data and not generalizing well despite our cross validation score."
   ]
  },
  {
   "cell_type": "markdown",
   "metadata": {
    "colab_type": "text",
    "id": "5WFLU7hWbO8_"
   },
   "source": [
    "# Resources\n",
    "\n",
    "* [scikit-learn Cross Validation](https://scikit-learn.org/stable/modules/cross_validation.html)"
   ]
  },
  {
   "cell_type": "markdown",
   "metadata": {
    "colab_type": "text",
    "id": "Swt2fxm-fG_B"
   },
   "source": [
    "# Exercises"
   ]
  },
  {
   "cell_type": "markdown",
   "metadata": {
    "colab_type": "text",
    "id": "iWq38ASlb2aY"
   },
   "source": [
    "## Exercise 1"
   ]
  },
  {
   "cell_type": "markdown",
   "metadata": {
    "colab_type": "text",
    "id": "iWq38ASlb2aX"
   },
   "source": [
    "`cross_val_score` isn't limited to k-fold validation. It can perform many other splits on the data.\n",
    " \n",
    "Use the [ShuffleSplit](https://scikit-learn.org/stable/modules/generated/sklearn.model_selection.ShuffleSplit.html#sklearn.model_selection.ShuffleSplit) in `cross_val_score` instead of k-fold.\n",
    " \n",
    "Set the parameters to:\n",
    " \n",
    "* 5 splits\n",
    "* 30% test size\n",
    "* 56789 random state\n",
    " \n",
    "Calculate the mean of the returned scores and store the mean in a variable called `mean_score`."
   ]
  },
  {
   "cell_type": "markdown",
   "metadata": {
    "colab_type": "text",
    "id": "CYZEXNK1VDIJ"
   },
   "source": [
    "### Student Solution"
   ]
  },
  {
   "cell_type": "code",
   "execution_count": 22,
   "metadata": {
    "colab": {},
    "colab_type": "code",
    "id": "10QVafjCwPd5"
   },
   "outputs": [
    {
     "data": {
      "text/plain": [
       "725"
      ]
     },
     "execution_count": 22,
     "metadata": {},
     "output_type": "execute_result"
    }
   ],
   "source": [
    "n_samples = X_train.shape[0]\n",
    "n_samples"
   ]
  },
  {
   "cell_type": "code",
   "execution_count": 23,
   "metadata": {
    "colab": {},
    "colab_type": "code",
    "id": "TI_WxOyjcfNu"
   },
   "outputs": [
    {
     "data": {
      "text/plain": [
       "0.8252315489312142"
      ]
     },
     "execution_count": 23,
     "metadata": {},
     "output_type": "execute_result"
    }
   ],
   "source": [
    "from sklearn.linear_model import SGDRegressor\n",
    "from sklearn.preprocessing import StandardScaler\n",
    "from sklearn.pipeline import Pipeline\n",
    "from sklearn.model_selection import ShuffleSplit\n",
    "\n",
    "X_train, X_test, y_train, y_test = train_test_split(\n",
    "    police_officers[['Tenure']], \n",
    "    police_officers['Current Annual Salary'], \n",
    "    test_size=0.2, \n",
    "    random_state=1234\n",
    ")\n",
    "\n",
    "estimator = Pipeline(\n",
    "  steps=[\n",
    "    ['scale', StandardScaler()],\n",
    "    ['regressor', SGDRegressor(random_state=343)],\n",
    "  ]\n",
    ")\n",
    "\n",
    "ss = ShuffleSplit(n_splits=5, test_size=0.3, random_state=56789)\n",
    "\n",
    "scores = cross_val_score(estimator, X_train, y_train, cv=ss)\n",
    "\n",
    "mean_score = scores.mean()\n",
    "mean_score"
   ]
  },
  {
   "cell_type": "markdown",
   "metadata": {
    "colab_type": "text",
    "id": "GTn-U4vukycI"
   },
   "source": [
    "## Exercise 2"
   ]
  },
  {
   "cell_type": "markdown",
   "metadata": {
    "colab_type": "text",
    "id": "6sGjw6Lck-V2"
   },
   "source": [
    "In classification problems we may have unbalanced classes and want an even distribution of those classes in our training and testing data. This is called *stratification* and for classification problems scikit-learn provides the [StratifiedKFold](https://scikit-learn.org/stable/modules/generated/sklearn.model_selection.StratifiedKFold.html#sklearn.model_selection.StratifiedKFold) splitter. This balances our target data across folds.\n",
    "\n",
    "Using the [digits dataset](https://scikit-learn.org/stable/modules/generated/sklearn.datasets.load_digits.html) create an [SGDClassifier](https://scikit-learn.org/stable/modules/generated/sklearn.linear_model.SGDClassifier.html) and run stratified cross validation over the digit targets.\n",
    "\n",
    "Cross validate over 5 folds. Save the mean validation score in a variable called `mean_score`."
   ]
  },
  {
   "cell_type": "code",
   "execution_count": 24,
   "metadata": {
    "colab": {},
    "colab_type": "code",
    "id": "0rNLBMxHk5pb"
   },
   "outputs": [],
   "source": [
    "from sklearn.linear_model import SGDClassifier\n",
    "from sklearn.preprocessing import StandardScaler\n",
    "from sklearn.pipeline import Pipeline\n",
    "from sklearn import datasets\n",
    "import pandas as pd\n",
    "from sklearn import model_selection\n",
    "from sklearn.model_selection import StratifiedKFold, train_test_split\n",
    "from sklearn import linear_model\n",
    "digits_bunch =datasets.load_digits()\n",
    "\n",
    "FEATURES = [x for x in range(64)]\n",
    "\n",
    "digits = pd.DataFrame(digits_bunch['data'], columns=FEATURES)\n",
    "digits['digit'] = digits_bunch['target']"
   ]
  },
  {
   "cell_type": "code",
   "execution_count": 25,
   "metadata": {
    "colab": {},
    "colab_type": "code",
    "id": "FRIbmbpB1TK3"
   },
   "outputs": [
    {
     "data": {
      "text/plain": [
       "0.9218023132510316"
      ]
     },
     "execution_count": 25,
     "metadata": {},
     "output_type": "execute_result"
    }
   ],
   "source": [
    "estimator = Pipeline(\n",
    "  steps=[\n",
    "    ['scale', StandardScaler()],\n",
    "    ['classifier', SGDClassifier()],\n",
    "  ]\n",
    ")\n",
    "\n",
    "X = digits[FEATURES]\n",
    "y = digits['digit']\n",
    "\n",
    "skf = StratifiedKFold(n_splits=5)\n",
    "for train_index, test_index in skf.split(X,y):\n",
    "  X_train, X_test = X.iloc[train_index], X.iloc[test_index]\n",
    "  y_train, y_test = y.iloc[train_index], y.iloc[test_index]\n",
    "\n",
    "scores = cross_val_score(estimator, X_train, y_train, cv = skf)\n",
    "mean_score = scores.mean()\n",
    "mean_score\n"
   ]
  },
  {
   "cell_type": "markdown",
   "metadata": {
    "colab_type": "text",
    "id": "AW7nvc3IYL-w"
   },
   "source": [
    "## Exercise 3: Challenge (Ungraded)"
   ]
  },
  {
   "cell_type": "markdown",
   "metadata": {
    "colab_type": "text",
    "id": "9tQFydIzYPYf"
   },
   "source": [
    "There are times when we have insights about our data that we can feed our model. In some cases we can are aware of tranches in the data that have different characteristics and we'd like those characteristics reflected in our testing and training data.\n",
    " \n",
    "In classification problems we may have unbalanced classes and want an even distribution of those classes in our training and testing data. This is called *stratification* and for classification problems scikit-learn provides the [StratifiedKFold](https://scikit-learn.org/stable/modules/generated/sklearn.model_selection.StratifiedKFold.html#sklearn.model_selection.StratifiedKFold) splitter. This balances our target data across folds.\n",
    " \n",
    "However, there are other times when we need to balance our feature data across folds. Thinking about the salary data we have delt with in this colab, the [gender pay gap](https://en.wikipedia.org/wiki/Gender_pay_gap) comes to mind.\n",
    " \n",
    "Let's see if we can find any evidence of a gap. First let's see the distribution of female and male officers."
   ]
  },
  {
   "cell_type": "code",
   "execution_count": 26,
   "metadata": {
    "colab": {},
    "colab_type": "code",
    "id": "6N0H1j_-ZOUX"
   },
   "outputs": [
    {
     "data": {
      "text/plain": [
       "Gender\n",
       "F    192\n",
       "M    715\n",
       "Name: Gender, dtype: int64"
      ]
     },
     "execution_count": 26,
     "metadata": {},
     "output_type": "execute_result"
    }
   ],
   "source": [
    "police_officers.groupby(by='Gender')['Gender'].count()"
   ]
  },
  {
   "cell_type": "markdown",
   "metadata": {
    "colab_type": "text",
    "id": "5cpsOB4-ZTWZ"
   },
   "source": [
    "We have about 26% females.\n",
    "\n",
    "Now we can calculate an average salary by years tenure."
   ]
  },
  {
   "cell_type": "code",
   "execution_count": 27,
   "metadata": {
    "colab": {},
    "colab_type": "code",
    "id": "4iEXPEe7Zcqp"
   },
   "outputs": [
    {
     "data": {
      "text/html": [
       "<div>\n",
       "<style scoped>\n",
       "    .dataframe tbody tr th:only-of-type {\n",
       "        vertical-align: middle;\n",
       "    }\n",
       "\n",
       "    .dataframe tbody tr th {\n",
       "        vertical-align: top;\n",
       "    }\n",
       "\n",
       "    .dataframe thead th {\n",
       "        text-align: right;\n",
       "    }\n",
       "</style>\n",
       "<table border=\"1\" class=\"dataframe\">\n",
       "  <thead>\n",
       "    <tr style=\"text-align: right;\">\n",
       "      <th></th>\n",
       "      <th>Tenure</th>\n",
       "      <th>Tenure Years</th>\n",
       "    </tr>\n",
       "  </thead>\n",
       "  <tbody>\n",
       "    <tr>\n",
       "      <th>5101</th>\n",
       "      <td>1995</td>\n",
       "      <td>5</td>\n",
       "    </tr>\n",
       "    <tr>\n",
       "      <th>4455</th>\n",
       "      <td>10703</td>\n",
       "      <td>29</td>\n",
       "    </tr>\n",
       "    <tr>\n",
       "      <th>6766</th>\n",
       "      <td>5089</td>\n",
       "      <td>13</td>\n",
       "    </tr>\n",
       "    <tr>\n",
       "      <th>7127</th>\n",
       "      <td>2730</td>\n",
       "      <td>7</td>\n",
       "    </tr>\n",
       "    <tr>\n",
       "      <th>377</th>\n",
       "      <td>4067</td>\n",
       "      <td>11</td>\n",
       "    </tr>\n",
       "    <tr>\n",
       "      <th>6931</th>\n",
       "      <td>1799</td>\n",
       "      <td>4</td>\n",
       "    </tr>\n",
       "    <tr>\n",
       "      <th>5296</th>\n",
       "      <td>9310</td>\n",
       "      <td>25</td>\n",
       "    </tr>\n",
       "    <tr>\n",
       "      <th>3744</th>\n",
       "      <td>4186</td>\n",
       "      <td>11</td>\n",
       "    </tr>\n",
       "    <tr>\n",
       "      <th>40</th>\n",
       "      <td>5278</td>\n",
       "      <td>14</td>\n",
       "    </tr>\n",
       "    <tr>\n",
       "      <th>7412</th>\n",
       "      <td>5446</td>\n",
       "      <td>14</td>\n",
       "    </tr>\n",
       "  </tbody>\n",
       "</table>\n",
       "</div>"
      ],
      "text/plain": [
       "      Tenure Tenure Years\n",
       "5101    1995            5\n",
       "4455   10703           29\n",
       "6766    5089           13\n",
       "7127    2730            7\n",
       "377     4067           11\n",
       "6931    1799            4\n",
       "5296    9310           25\n",
       "3744    4186           11\n",
       "40      5278           14\n",
       "7412    5446           14"
      ]
     },
     "execution_count": 27,
     "metadata": {},
     "output_type": "execute_result"
    }
   ],
   "source": [
    "max_years = int(police_officers['Tenure'].max() / 365) + 1\n",
    "\n",
    "bins = list(range(0, 365*max_years+1, 365))\n",
    "\n",
    "labels = list(range(0, max_years))\n",
    "\n",
    "police_officers['Tenure Years'] = pd.cut(police_officers['Tenure'], bins=bins, labels=labels)\n",
    "\n",
    "police_officers.sample(10)[['Tenure', 'Tenure Years']]"
   ]
  },
  {
   "cell_type": "markdown",
   "metadata": {
    "colab_type": "text",
    "id": "QHhcZW2SZguM"
   },
   "source": [
    "And finally, we can see on average if there is a gap."
   ]
  },
  {
   "cell_type": "code",
   "execution_count": 28,
   "metadata": {
    "colab": {},
    "colab_type": "code",
    "id": "DU06MU6nZjDD"
   },
   "outputs": [
    {
     "data": {
      "text/plain": [
       "-1278.087011845095"
      ]
     },
     "execution_count": 28,
     "metadata": {},
     "output_type": "execute_result"
    }
   ],
   "source": [
    "females = police_officers[police_officers['Gender'] == 'F'].groupby(by='Tenure Years')['Current Annual Salary'].mean()\n",
    "males = police_officers[police_officers['Gender'] == 'M'].groupby(by='Tenure Years')['Current Annual Salary'].mean()\n",
    "(females-males).mean()"
   ]
  },
  {
   "cell_type": "markdown",
   "metadata": {
    "colab_type": "text",
    "id": "dKcxDyN1ZkB6"
   },
   "source": [
    "In this case we see that there is over a $1000 gap in average salary based on years tenure.\n",
    " \n",
    "If we want this reflected in our model we need to split the data in each of our folds. Unfortunately, this isn't quite as easy as stratifying target data.\n",
    " \n",
    "There are a few approaches. One is to pre-split the data and use the [PredefinedSplit](https://scikit-learn.org/stable/modules/generated/sklearn.model_selection.PredefinedSplit.html#sklearn.model_selection.PredefinedSplit) class to identify test folds per iteration of cross validation.\n",
    " \n",
    "Another is to write a custom [CV Splitter](https://scikit-learn.org/stable/glossary.html#term-cv-splitter) and implement `split` and `get_n_splits`.\n",
    " \n",
    "In this challenge you are tasked with creating a 5-split CV Splitter or PredefinedSplit that keeps the feature data roughly 3:1 male:female."
   ]
  },
  {
   "cell_type": "markdown",
   "metadata": {
    "colab_type": "text",
    "id": "P1Hhvstmbntb"
   },
   "source": [
    "### Student Solution"
   ]
  },
  {
   "cell_type": "code",
   "execution_count": 29,
   "metadata": {
    "colab": {},
    "colab_type": "code",
    "id": "HocfVWZVbph6"
   },
   "outputs": [],
   "source": [
    "# Your code goes here\n",
    "from sklearn.model_selection import PredefinedSplit\n",
    "\n",
    "# myCViterator = []\n",
    "# for i in range(nFolds):\n",
    "#     trainIndices = police_officers[ police_officers['Gender']!=\"\" ].index.values.astype(int)\n",
    "#     testIndices =  police_officers[ police_officers['Gender']==i ].index.values.astype(int)\n",
    "#     myCViterator.append( (trainIndices, testIndices) )\n",
    "\n",
    "# police_officers['Gender_Modified'] = police_officers['Gender'].apply(lambda x: -1 if x == 'F' else 0)\n",
    "# police_officers['Gender_Modified'].value_counts()\n",
    "\n",
    "# [police_officers['Gender_Modified'] == 0][0:237] = 'M1'\n",
    "# police_officers[police_officers['Gender_Modified'] == 0][0:237] = 'M2'\n",
    "# police_officers[police_officers['Gender_Modified'] == 0][0:237] = 'M3'\n",
    "# police_officers['Gender_Modified']\n",
    "# test_fold = [(0 if police_officers['Gender'] == 'F') or (1 if police_officers['Gender'] == 'M')]\n",
    "# test_fold\n",
    "\n",
    "# ps = PredefinedSplit(test_fold)\n",
    "\n",
    "# for train_index, test_index in ps.split():\n",
    "#   print(\"TRAIN:\", train_index, \"TEST:\", test_index)\n",
    "#   X_train, X_test = X.iloc[train_index], X.iloc[test_index]\n",
    "#   y_train, y_test = y.iloc[train_index], y.iloc[test_index]"
   ]
  }
 ],
 "metadata": {
  "colab": {
   "collapsed_sections": [
    "copyright"
   ],
   "name": "Huize Huang - T05-03 [00] Cross Validation [Colab]",
   "private_outputs": true,
   "provenance": [],
   "toc_visible": true,
   "version": "0.3.2"
  },
  "kernelspec": {
   "display_name": "Python 3",
   "language": "python",
   "name": "python3"
  },
  "language_info": {
   "codemirror_mode": {
    "name": "ipython",
    "version": 3
   },
   "file_extension": ".py",
   "mimetype": "text/x-python",
   "name": "python",
   "nbconvert_exporter": "python",
   "pygments_lexer": "ipython3",
   "version": "3.6.8"
  }
 },
 "nbformat": 4,
 "nbformat_minor": 1
}
