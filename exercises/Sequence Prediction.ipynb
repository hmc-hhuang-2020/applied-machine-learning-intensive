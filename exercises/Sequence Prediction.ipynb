{
 "cells": [
  {
   "cell_type": "markdown",
   "metadata": {
    "colab_type": "text",
    "id": "mW4Y4c6tvYvG"
   },
   "source": [
    "#### Copyright 2019 Google LLC."
   ]
  },
  {
   "cell_type": "code",
   "execution_count": 1,
   "metadata": {
    "colab": {},
    "colab_type": "code",
    "id": "24p97VuTvYVT"
   },
   "outputs": [],
   "source": [
    "# Licensed under the Apache License, Version 2.0 (the \"License\");\n",
    "# you may not use this file except in compliance with the License.\n",
    "# You may obtain a copy of the License at\n",
    "#\n",
    "# https://www.apache.org/licenses/LICENSE-2.0\n",
    "#\n",
    "# Unless required by applicable law or agreed to in writing, software\n",
    "# distributed under the License is distributed on an \"AS IS\" BASIS,\n",
    "# WITHOUT WARRANTIES OR CONDITIONS OF ANY KIND, either express or implied.\n",
    "# See the License for the specific language governing permissions and\n",
    "# limitations under the License."
   ]
  },
  {
   "cell_type": "markdown",
   "metadata": {
    "colab_type": "text",
    "id": "CVmV0M74xwm7"
   },
   "source": [
    "# Advanced Sequence Prediction"
   ]
  },
  {
   "cell_type": "markdown",
   "metadata": {
    "colab_type": "text",
    "id": "XuFjSsW53I9_"
   },
   "source": [
    "Sequence prediction involves predicting the next value for a given input sequence. Sequence prediction problems are all around us! Some common applications include:\n",
    "* Weather Forecasting: Given a sequence of observations about the weather over time, predict the weather tomorrow.\n",
    "* Product Recommendation: Given a sequence of products added to a shopping list by a user, predict the user's next purchase.\n",
    "* Language Modeling: Given a sequence of words, predict the next word in the sentence.\n",
    "\n",
    "These problems have been around for a long time, and are often approached using [statistical methods](http://www.statsoft.com/Textbook/Time-Series-Analysis). In recent years, RNNs have gained popularity since they are specially designed to handle sequential input.\n",
    "\n",
    "In this activity we will use more powerful types of RNNs, a GRU (Gated Recurrent Unit) and an LSTM (Long Short-Term Memory), to perform sequence prediction on stock prices."
   ]
  },
  {
   "cell_type": "markdown",
   "metadata": {
    "colab_type": "text",
    "id": "452jWTVV230i"
   },
   "source": [
    "## Overview"
   ]
  },
  {
   "cell_type": "markdown",
   "metadata": {
    "colab_type": "text",
    "id": "PGXJElrBvyVT"
   },
   "source": [
    "### Learning Objectives\n",
    "\n",
    "* Understand and apply RNN models (SimpleRNN, GRU, LSTM)\n"
   ]
  },
  {
   "cell_type": "markdown",
   "metadata": {
    "colab_type": "text",
    "id": "VZe4Xj9tyQRD"
   },
   "source": [
    "### Prerequisites\n",
    "\n",
    "* Neural Networks"
   ]
  },
  {
   "cell_type": "markdown",
   "metadata": {
    "colab_type": "text",
    "id": "DbbAmmIhynVu"
   },
   "source": [
    "### Estimated Duration\n",
    "\n",
    "40 minutes"
   ]
  },
  {
   "cell_type": "markdown",
   "metadata": {
    "colab_type": "text",
    "id": "7MHrGEyty2VI"
   },
   "source": [
    "### Grading Criteria\n",
    "\n",
    "Each exercise is worth 3 points. The rubric for calculating those points is:\n",
    "\n",
    "| Points | Description |\n",
    "|--------|-------------|\n",
    "| 0      | No attempt at exercise |\n",
    "| 1      | Attempted exercise, but code does not run |\n",
    "| 2      | Attempted exercise, code runs, but produces incorrect answer |\n",
    "| 3      | Exercise completed successfully |\n",
    "\n",
    "There is 1 exercise in this Colab so there are 3 points available. The grading scale will be 3 points."
   ]
  },
  {
   "cell_type": "markdown",
   "metadata": {
    "colab_type": "text",
    "id": "LboFaJ47r6x-"
   },
   "source": [
    "## Data\n",
    "\n",
    "We will use a generated dataset of stock prices. We will create 10 years of stock data for a fictional company that had an initial public offering (IPO) of $42."
   ]
  },
  {
   "cell_type": "code",
   "execution_count": 2,
   "metadata": {
    "colab": {},
    "colab_type": "code",
    "id": "xhd_d5vzrc_h"
   },
   "outputs": [],
   "source": [
    "# Set random seeds for reproducible results\n",
    "import numpy as np\n",
    "import tensorflow as tf\n",
    "\n",
    "np.random.seed(42)\n",
    "tf.set_random_seed(42)"
   ]
  },
  {
   "cell_type": "code",
   "execution_count": 3,
   "metadata": {
    "colab": {},
    "colab_type": "code",
    "id": "-lc9aDiOQym6"
   },
   "outputs": [],
   "source": [
    "days_per_year = 365\n",
    "years = 10\n",
    "\n",
    "eod_prices = np.zeros(days_per_year*years)\n",
    "eod_prices[0] = 42.0\n",
    "\n",
    "bias = 0.0002\n",
    "\n",
    "for i in range(1, len(eod_prices)):\n",
    "  # Find yesterday's price\n",
    "  yesterdays_price = eod_prices[i-1]\n",
    "  \n",
    "  # Generate a random a percentage change on the normal curve.\n",
    "  percentage_change = np.random.randn(1)[0]\n",
    "  \n",
    "  # The random number is a value on the standard normal distribution\n",
    "  # with a mean 0 and variance 1. This will give us a nice range of\n",
    "  # positive and negative values, but we need to divide by 100 to scale\n",
    "  # them down to reasonable percentages for daily stock price changes.\n",
    "  percentage_change /= 100\n",
    "\n",
    "  # And finally we give the change just a little bit of positive bias\n",
    "  # so that we get an interesting curve.\n",
    "  percentage_change += bias\n",
    "  \n",
    "  # Calculate the new price.\n",
    "  todays_price = yesterdays_price + yesterdays_price * percentage_change\n",
    "  \n",
    "  # Store the price.\n",
    "  eod_prices[i] = todays_price"
   ]
  },
  {
   "cell_type": "markdown",
   "metadata": {
    "colab_type": "text",
    "id": "ot30Je_Nb-I6"
   },
   "source": [
    "Let's quickly visualize the data to make sure it looks reasonably realistic."
   ]
  },
  {
   "cell_type": "code",
   "execution_count": 4,
   "metadata": {
    "colab": {
     "base_uri": "https://localhost:8080/",
     "height": 269
    },
    "colab_type": "code",
    "executionInfo": {
     "elapsed": 2287,
     "status": "ok",
     "timestamp": 1563830304760,
     "user": {
      "displayName": "Shu Cheng",
      "photoUrl": "https://lh5.googleusercontent.com/-gsCkunQN884/AAAAAAAAAAI/AAAAAAAAABU/gt0FNEG-WC0/s64/photo.jpg",
      "userId": "05148031797608167590"
     },
     "user_tz": 420
    },
    "id": "ZUKFZuuuQ41-",
    "outputId": "b9ffdbdb-dc6c-49b7-ca03-887e03982b02"
   },
   "outputs": [
    {
     "data": {
      "text/plain": [
       "<Figure size 640x480 with 1 Axes>"
      ]
     },
     "metadata": {},
     "output_type": "display_data"
    }
   ],
   "source": [
    "import matplotlib.pyplot as plt\n",
    "\n",
    "plt.plot(list(range(len(eod_prices))), eod_prices)\n",
    "plt.show()"
   ]
  },
  {
   "cell_type": "markdown",
   "metadata": {
    "colab_type": "text",
    "id": "2edEgGVicErj"
   },
   "source": [
    "## Data Preprocessing\n",
    "\n",
    "RNNs are sensitive to the scale of the input data, specifically when using the `sigmoid` or `tanh` activation functions. It can be good practice to normalize, or rescale the data to a range of 0 to 1. sklearn's [MinMaxScaler](https://scikit-learn.org/stable/modules/generated/sklearn.preprocessing.MinMaxScaler.html) is a good tool to perform normalization.\n",
    "\n",
    "MinMaxScaler expects input of shape `(n_samples, n_features)`. Our data only has one feature (price), so we must reshape it to work with the scaler."
   ]
  },
  {
   "cell_type": "code",
   "execution_count": 5,
   "metadata": {
    "colab": {
     "base_uri": "https://localhost:8080/",
     "height": 34
    },
    "colab_type": "code",
    "executionInfo": {
     "elapsed": 2913,
     "status": "ok",
     "timestamp": 1563830305401,
     "user": {
      "displayName": "Shu Cheng",
      "photoUrl": "https://lh5.googleusercontent.com/-gsCkunQN884/AAAAAAAAAAI/AAAAAAAAABU/gt0FNEG-WC0/s64/photo.jpg",
      "userId": "05148031797608167590"
     },
     "user_tz": 420
    },
    "id": "XGOps0s_ORv3",
    "outputId": "12fb11a5-a76a-4840-f1a8-b64fe003d065"
   },
   "outputs": [
    {
     "data": {
      "text/plain": [
       "0.9439132839111171"
      ]
     },
     "execution_count": 5,
     "metadata": {},
     "output_type": "execute_result"
    }
   ],
   "source": [
    "from sklearn.preprocessing import MinMaxScaler\n",
    "\n",
    "scaler = MinMaxScaler(feature_range=(0, 1))\n",
    "# you can use \"-1\" as a stand-in for one dimension when reshaping NumPy arrays,\n",
    "# and NumPy will determine the correct value based on the other dimensions.\n",
    "eod_prices = np.reshape(eod_prices, (-1, 1))\n",
    "eod_prices = scaler.fit_transform(eod_prices)\n",
    "\n",
    "eod_prices = np.reshape(eod_prices, -1)\n",
    "eod_prices[-1]"
   ]
  },
  {
   "cell_type": "markdown",
   "metadata": {
    "colab_type": "text",
    "id": "meCQFCCCd73_"
   },
   "source": [
    "Notice that the final stock price, around $180, has been normalized to 0.94. We'll use stocks in a 100-day window to predict the next day's stock price."
   ]
  },
  {
   "cell_type": "code",
   "execution_count": 6,
   "metadata": {
    "colab": {
     "base_uri": "https://localhost:8080/",
     "height": 34
    },
    "colab_type": "code",
    "executionInfo": {
     "elapsed": 2899,
     "status": "ok",
     "timestamp": 1563830305404,
     "user": {
      "displayName": "Shu Cheng",
      "photoUrl": "https://lh5.googleusercontent.com/-gsCkunQN884/AAAAAAAAAAI/AAAAAAAAABU/gt0FNEG-WC0/s64/photo.jpg",
      "userId": "05148031797608167590"
     },
     "user_tz": 420
    },
    "id": "X5IXDS_BNdhE",
    "outputId": "defbf33d-0f54-43a9-b33f-e0614ebe1c07"
   },
   "outputs": [
    {
     "data": {
      "text/plain": [
       "0.9439132839111171"
      ]
     },
     "execution_count": 6,
     "metadata": {},
     "output_type": "execute_result"
    }
   ],
   "source": [
    "n_steps = 100\n",
    "n_samples = len(eod_prices) - n_steps\n",
    "\n",
    "# split eod_prices into X (100 day windows) and y (next day prices)\n",
    "X = np.zeros((n_samples, n_steps))\n",
    "y = np.zeros(n_samples)\n",
    "\n",
    "for i in range(n_samples):\n",
    "  X[i] = eod_prices[i:i + n_steps]\n",
    "  y[i] = eod_prices[i + n_steps]\n",
    "\n",
    "y[-1]"
   ]
  },
  {
   "cell_type": "markdown",
   "metadata": {
    "colab_type": "text",
    "id": "am1qBEoiwxID"
   },
   "source": [
    "We need to split a training and testing set. To model real-life forecasting problems, we'll use the stock performance from the first 80% of days as training and the remaining days as testing (modeling predicting the \"future\")."
   ]
  },
  {
   "cell_type": "code",
   "execution_count": 7,
   "metadata": {
    "colab": {
     "base_uri": "https://localhost:8080/",
     "height": 34
    },
    "colab_type": "code",
    "executionInfo": {
     "elapsed": 2887,
     "status": "ok",
     "timestamp": 1563830305406,
     "user": {
      "displayName": "Shu Cheng",
      "photoUrl": "https://lh5.googleusercontent.com/-gsCkunQN884/AAAAAAAAAAI/AAAAAAAAABU/gt0FNEG-WC0/s64/photo.jpg",
      "userId": "05148031797608167590"
     },
     "user_tz": 420
    },
    "id": "PoTkcr-tQ3TY",
    "outputId": "2193a86e-33ec-4824-dbda-4a46a553a670"
   },
   "outputs": [
    {
     "data": {
      "text/plain": [
       "((2840, 100), (710, 100))"
      ]
     },
     "execution_count": 7,
     "metadata": {},
     "output_type": "execute_result"
    }
   ],
   "source": [
    "split_index = int(n_samples * 0.8)\n",
    "\n",
    "X_train, X_test = X[:split_index], X[split_index:]\n",
    "y_train, y_test = y[:split_index], y[split_index:]\n",
    "\n",
    "X_train.shape, X_test.shape"
   ]
  },
  {
   "cell_type": "markdown",
   "metadata": {
    "colab_type": "text",
    "id": "jk3COdKGIB7l"
   },
   "source": [
    "## RNN Model in Keras\n",
    "\n",
    "Keras makes it easy to experiment with different [RNN models](https://keras.io/layers/recurrent/). We will first train a model using a basic RNN to show the basic structure of using an RNN model in Keras."
   ]
  },
  {
   "cell_type": "code",
   "execution_count": 8,
   "metadata": {
    "colab": {},
    "colab_type": "code",
    "id": "qxi5adthxycv"
   },
   "outputs": [],
   "source": [
    "from tensorflow import keras"
   ]
  },
  {
   "cell_type": "markdown",
   "metadata": {
    "colab_type": "text",
    "id": "GDNFvqlCxJU8"
   },
   "source": [
    "RNN models in Keras expect 3-dimensional input with dimensions `(n_samples, n_timesteps, n_features)`. In the documentation, this is described as `(batch_size, timesteps, input_dim)`.\n",
    "\n",
    "Each of our samples has 100 timesteps and 1 feature (price). We'll need to make `X_train` and `X_test` three dimensional using `np.reshape`. "
   ]
  },
  {
   "cell_type": "code",
   "execution_count": 9,
   "metadata": {
    "colab": {
     "base_uri": "https://localhost:8080/",
     "height": 34
    },
    "colab_type": "code",
    "executionInfo": {
     "elapsed": 2881,
     "status": "ok",
     "timestamp": 1563830305412,
     "user": {
      "displayName": "Shu Cheng",
      "photoUrl": "https://lh5.googleusercontent.com/-gsCkunQN884/AAAAAAAAAAI/AAAAAAAAABU/gt0FNEG-WC0/s64/photo.jpg",
      "userId": "05148031797608167590"
     },
     "user_tz": 420
    },
    "id": "7G7QAyLTxMIN",
    "outputId": "3cbccdd0-d5e9-485f-ccb4-3e87550c4e2b"
   },
   "outputs": [
    {
     "data": {
      "text/plain": [
       "((2840, 100, 1), (710, 100, 1))"
      ]
     },
     "execution_count": 9,
     "metadata": {},
     "output_type": "execute_result"
    }
   ],
   "source": [
    "X_train = np.reshape(X_train, (X_train.shape[0], X_train.shape[1], 1))\n",
    "X_test = np.reshape(X_test, (X_test.shape[0], X_test.shape[1], 1))\n",
    "\n",
    "X_train.shape, X_test.shape"
   ]
  },
  {
   "cell_type": "markdown",
   "metadata": {
    "colab_type": "text",
    "id": "2trsd0Jyrnvp"
   },
   "source": [
    "### Training\n",
    "\n",
    "Now let's set up our model. We'll use:\n",
    "\n",
    "1.   A `SimpleRNN` layer with 25 hidden units (as in the RNN colab).\n",
    "2.   A `Dense` layer with 1 output unit (the predicted price).\n",
    "\n",
    "This model is complex enough to converge fairly quickly, so we'll train for 5 epochs and with a batch size of 50. Since this is a regression problem, we'll use [Mean Squared Error](https://en.wikipedia.org/wiki/Mean_squared_error) as the loss function."
   ]
  },
  {
   "cell_type": "code",
   "execution_count": 10,
   "metadata": {
    "colab": {},
    "colab_type": "code",
    "id": "aw0UZ5fLzRYQ"
   },
   "outputs": [],
   "source": [
    "n_units = 25\n",
    "n_epochs = 5\n",
    "batch_size = 50"
   ]
  },
  {
   "cell_type": "code",
   "execution_count": 11,
   "metadata": {
    "colab": {
     "base_uri": "https://localhost:8080/",
     "height": 105
    },
    "colab_type": "code",
    "executionInfo": {
     "elapsed": 2878,
     "status": "ok",
     "timestamp": 1563830305420,
     "user": {
      "displayName": "Shu Cheng",
      "photoUrl": "https://lh5.googleusercontent.com/-gsCkunQN884/AAAAAAAAAAI/AAAAAAAAABU/gt0FNEG-WC0/s64/photo.jpg",
      "userId": "05148031797608167590"
     },
     "user_tz": 420
    },
    "id": "r2APcshyNH46",
    "outputId": "b723230c-691e-4b8f-f499-9a71314c0487"
   },
   "outputs": [
    {
     "name": "stderr",
     "output_type": "stream",
     "text": [
      "WARNING: Logging before flag parsing goes to stderr.\n",
      "W0809 19:39:50.059981 4585104832 deprecation.py:506] From /Users/dorishuang/anaconda3/lib/python3.6/site-packages/tensorflow/python/ops/init_ops.py:1251: calling VarianceScaling.__init__ (from tensorflow.python.ops.init_ops) with dtype is deprecated and will be removed in a future version.\n",
      "Instructions for updating:\n",
      "Call initializer instance with the dtype argument instead of passing it to the constructor\n"
     ]
    }
   ],
   "source": [
    "rnn_model = keras.Sequential([\n",
    "  keras.layers.SimpleRNN(n_units),\n",
    "  keras.layers.Dense(1)\n",
    "])\n",
    "\n",
    "rnn_model.compile(\n",
    "  loss='mean_squared_error',\n",
    "  optimizer='adam'\n",
    ")"
   ]
  },
  {
   "cell_type": "code",
   "execution_count": 12,
   "metadata": {
    "colab": {
     "base_uri": "https://localhost:8080/",
     "height": 412
    },
    "colab_type": "code",
    "executionInfo": {
     "elapsed": 8442,
     "status": "error",
     "timestamp": 1563830310994,
     "user": {
      "displayName": "Shu Cheng",
      "photoUrl": "https://lh5.googleusercontent.com/-gsCkunQN884/AAAAAAAAAAI/AAAAAAAAABU/gt0FNEG-WC0/s64/photo.jpg",
      "userId": "05148031797608167590"
     },
     "user_tz": 420
    },
    "id": "euRZuE9MLHd0",
    "outputId": "fbdad6a7-e48b-461f-c28a-4eeef75ad86c"
   },
   "outputs": [
    {
     "name": "stdout",
     "output_type": "stream",
     "text": [
      "Epoch 1/5\n",
      "2840/2840 [==============================] - 2s 780us/sample - loss: 0.0674\n",
      "Epoch 2/5\n",
      "2840/2840 [==============================] - 2s 604us/sample - loss: 0.0022\n",
      "Epoch 3/5\n",
      "2840/2840 [==============================] - 2s 713us/sample - loss: 0.0013\n",
      "Epoch 4/5\n",
      "2840/2840 [==============================] - 2s 800us/sample - loss: 7.4882e-04\n",
      "Epoch 5/5\n",
      "2840/2840 [==============================] - 2s 660us/sample - loss: 6.0419e-04\n"
     ]
    },
    {
     "data": {
      "text/plain": [
       "<tensorflow.python.keras.callbacks.History at 0x10d1596a0>"
      ]
     },
     "execution_count": 12,
     "metadata": {},
     "output_type": "execute_result"
    }
   ],
   "source": [
    "rnn_model.fit(\n",
    "    X_train,\n",
    "    y_train,\n",
    "    epochs=n_epochs,\n",
    "    batch_size=batch_size\n",
    ")"
   ]
  },
  {
   "cell_type": "markdown",
   "metadata": {
    "colab_type": "text",
    "id": "vm_5QwIiz5va"
   },
   "source": [
    "### Testing\n",
    "\n",
    "Remember that we normalized the data to a 0-1 range before training. To properly evaluate the model, we'll need to un-normalize the predictions, then calculate the Mean Squared Error based on the original data values."
   ]
  },
  {
   "cell_type": "code",
   "execution_count": 13,
   "metadata": {
    "colab": {},
    "colab_type": "code",
    "id": "zXnPAN0rUrBg"
   },
   "outputs": [],
   "source": [
    "from sklearn.metrics import mean_squared_error\n",
    "\n",
    "def evaluate(model):\n",
    "  predicted_train = model.predict(X_train)\n",
    "  predicted_test = model.predict(X_test)\n",
    "\n",
    "  # un-normalize predictions\n",
    "  predicted_train = scaler.inverse_transform(predicted_train)\n",
    "  predicted_test = scaler.inverse_transform(predicted_test)\n",
    "  # get original data values\n",
    "  y_train_raw = scaler.inverse_transform([y_train])[0]\n",
    "  y_test_raw = scaler.inverse_transform([y_test])[0]\n",
    "  # calculate mean squared error\n",
    "  trainScore = mean_squared_error(y_train_raw, predicted_train[:,0])\n",
    "  print('Train Score: %.2f MSE' % (trainScore))\n",
    "  testScore = mean_squared_error(y_test_raw, predicted_test[:,0])\n",
    "  print('Test Score: %.2f MSE' % (testScore))"
   ]
  },
  {
   "cell_type": "code",
   "execution_count": 14,
   "metadata": {
    "colab": {},
    "colab_type": "code",
    "id": "io7B7FKyTVJL"
   },
   "outputs": [
    {
     "name": "stdout",
     "output_type": "stream",
     "text": [
      "Train Score: 15.86 MSE\n",
      "Test Score: 41.67 MSE\n"
     ]
    }
   ],
   "source": [
    "evaluate(rnn_model)"
   ]
  },
  {
   "cell_type": "markdown",
   "metadata": {
    "colab_type": "text",
    "id": "jpQ_n0rpQmcs"
   },
   "source": [
    "## GRU Model\n",
    "\n",
    "With longer input sequences, RNNs sometimes struggle to \"remember\" input that they saw earlier in the sequence. The [GRU (Gated Recurrent Unit)](https://arxiv.org/pdf/1406.1078v3.pdf) aims to improve upon this by using an **update gate** and **reset gate** to control what information is kept from previous steps and what is \"forgotten\". \n",
    "\n",
    "We won't get into the details of the architecture here (if you're interested, see the Resources section). What's important to know is that Keras makes it very straightforward to use a GRU instead of an RNN. It's a one-line change!"
   ]
  },
  {
   "cell_type": "code",
   "execution_count": 15,
   "metadata": {
    "colab": {},
    "colab_type": "code",
    "id": "_6kv18EPQogT"
   },
   "outputs": [],
   "source": [
    "gru_model = keras.Sequential([\n",
    "  keras.layers.GRU(n_units), # here's the only change we have to make\n",
    "  keras.layers.Dense(1)\n",
    "])"
   ]
  },
  {
   "cell_type": "markdown",
   "metadata": {
    "colab_type": "text",
    "id": "BVmgP2Hz4tcq"
   },
   "source": [
    "Let's train this GRU model and see how it does. You'll notice that training is slower than with the RNN, due to extra computations needed with the two gates, but the final results should be better due to the GRU capturing more information from previous steps."
   ]
  },
  {
   "cell_type": "code",
   "execution_count": 16,
   "metadata": {
    "colab": {},
    "colab_type": "code",
    "id": "SdwktVUq4olY"
   },
   "outputs": [
    {
     "name": "stderr",
     "output_type": "stream",
     "text": [
      "W0809 19:40:03.619582 4585104832 deprecation.py:323] From /Users/dorishuang/anaconda3/lib/python3.6/site-packages/tensorflow/python/ops/math_grad.py:1250: add_dispatch_support.<locals>.wrapper (from tensorflow.python.ops.array_ops) is deprecated and will be removed in a future version.\n",
      "Instructions for updating:\n",
      "Use tf.where in 2.0, which has the same broadcast rule as np.where\n"
     ]
    },
    {
     "name": "stdout",
     "output_type": "stream",
     "text": [
      "Epoch 1/5\n",
      "2840/2840 [==============================] - 7s 2ms/sample - loss: 0.0090\n",
      "Epoch 2/5\n",
      "2840/2840 [==============================] - 4s 1ms/sample - loss: 1.5136e-04\n",
      "Epoch 3/5\n",
      "2840/2840 [==============================] - 3s 1ms/sample - loss: 8.1432e-05\n",
      "Epoch 4/5\n",
      "2840/2840 [==============================] - 5s 2ms/sample - loss: 7.8896e-05\n",
      "Epoch 5/5\n",
      "2840/2840 [==============================] - 5s 2ms/sample - loss: 7.8093e-05\n",
      "Train Score: 1.80 MSE\n",
      "Test Score: 4.11 MSE\n"
     ]
    }
   ],
   "source": [
    "gru_model.compile(\n",
    "  loss='mean_squared_error',\n",
    "  optimizer='adam'\n",
    ")\n",
    "\n",
    "gru_model.fit(\n",
    "    X_train,\n",
    "    y_train,\n",
    "    epochs=n_epochs,\n",
    "    batch_size=batch_size\n",
    ")\n",
    "\n",
    "evaluate(gru_model)"
   ]
  },
  {
   "cell_type": "markdown",
   "metadata": {
    "colab_type": "text",
    "id": "A9zEfRZ-yPt6"
   },
   "source": [
    "## LSTM Model\n",
    "\n",
    "[LSTM (Long Short Term Memory)](http://www.bioinf.jku.at/publications/older/2604.pdf) networks are even better at learning such long-term dependencies. Similar to GRUs, they also use gates to control information between steps. \n",
    "\n",
    "LSTMs use an explicit **cell state** to control this information flow, which interacts with the **hidden state** that we're used to thinking about. An **input gate**, **forget gate**, and **output gate** control how we update the cell state at each step.\n",
    "\n",
    "Again, don't worry too much about the specifics for now (and see Resources if you're interested)! We only need to change one line to use an LSTM instead."
   ]
  },
  {
   "cell_type": "code",
   "execution_count": 17,
   "metadata": {
    "colab": {},
    "colab_type": "code",
    "id": "I-kP-QzDouvB"
   },
   "outputs": [],
   "source": [
    "lstm_model = keras.Sequential([\n",
    "  keras.layers.LSTM(n_units), # the magic change\n",
    "  keras.layers.Dense(1)\n",
    "])"
   ]
  },
  {
   "cell_type": "code",
   "execution_count": 18,
   "metadata": {
    "colab": {},
    "colab_type": "code",
    "id": "qxY3j6ZK6pmY"
   },
   "outputs": [
    {
     "name": "stdout",
     "output_type": "stream",
     "text": [
      "Epoch 1/5\n",
      "2840/2840 [==============================] - 5s 2ms/sample - loss: 0.1196\n",
      "Epoch 2/5\n",
      "2840/2840 [==============================] - 6s 2ms/sample - loss: 0.0049\n",
      "Epoch 3/5\n",
      "2840/2840 [==============================] - 5s 2ms/sample - loss: 7.8645e-04\n",
      "Epoch 4/5\n",
      "2840/2840 [==============================] - 5s 2ms/sample - loss: 4.8342e-04\n",
      "Epoch 5/5\n",
      "2840/2840 [==============================] - 4s 2ms/sample - loss: 3.9070e-04\n",
      "Train Score: 8.60 MSE\n",
      "Test Score: 14.92 MSE\n"
     ]
    }
   ],
   "source": [
    "lstm_model.compile(\n",
    "  loss='mean_squared_error',\n",
    "  optimizer='adam'\n",
    ")\n",
    "\n",
    "lstm_model.fit(\n",
    "    X_train,\n",
    "    y_train,\n",
    "    epochs=n_epochs,\n",
    "    batch_size=batch_size\n",
    ")\n",
    "\n",
    "evaluate(lstm_model)"
   ]
  },
  {
   "cell_type": "markdown",
   "metadata": {
    "colab_type": "text",
    "id": "jE4RtnAY7ClV"
   },
   "source": [
    "LSTM models usually take the longest to train (due to needing the most computations). They are also usually the most powerful, though they may need more epochs to converge.\n",
    "\n",
    "In practice, it's a good idea to start with an RNN and then upgrade to either a GRU or LSTM if you need a more complex model. For very long input sequences, LSTMs typically work better at capturing the longer-term dependencies in the sequence."
   ]
  },
  {
   "cell_type": "code",
   "execution_count": 19,
   "metadata": {
    "colab": {},
    "colab_type": "code",
    "id": "xgZAH4s8-TxU"
   },
   "outputs": [
    {
     "data": {
      "image/png": "[encoded data removed]",
      "text/plain": [
       "<Figure size 432x288 with 1 Axes>"
      ]
     },
     "metadata": {
      "needs_background": "light"
     },
     "output_type": "display_data"
    }
   ],
   "source": [
    "# Visualize LSTM predictions\n",
    "\n",
    "predicted_train = lstm_model.predict(X_train)\n",
    "predicted_test = lstm_model.predict(X_test)\n",
    "\n",
    "# un-normalize predictions\n",
    "predicted_train = scaler.inverse_transform(predicted_train)\n",
    "predicted_test = scaler.inverse_transform(predicted_test)\n",
    "\n",
    "plt.plot(range(len(eod_prices)), scaler.inverse_transform([eod_prices])[0])\n",
    "plt.plot(range(n_steps, len(predicted_train) + n_steps), predicted_train)\n",
    "plt.plot(range(len(predicted_train) + n_steps, len(eod_prices)), predicted_test)\n",
    "plt.show()"
   ]
  },
  {
   "cell_type": "markdown",
   "metadata": {
    "colab_type": "text",
    "id": "NQuXXcnyove4"
   },
   "source": [
    "## Extensions\n",
    "\n",
    "There are many more [complex RNN models](https://keras.io/layers/recurrent/) you can use, as well as complex techniques such as bi-directional RNNs (considering a sequence in the forward and backward directions) and stacked RNNs (feeding the output of one RNN into another). For most of these, most of the coding work happens in processing data and building the general training / testing logic. Switching the exact RNN model you use is often only a one- or few-line change. \n",
    "\n",
    "There are also many problems involving input sequences that go beyond sequence prediction -- for example, you could generate multiple predictions, classification results, or even full sequences. For longer and longer sequences, RNNs are even being overshadowed by a new technique called [Transformers](https://ai.googleblog.com/2017/08/transformer-novel-neural-network.html). the field of deep learning is ever growing and expanding -- part of what makes it so exciting to study :-)"
   ]
  },
  {
   "cell_type": "markdown",
   "metadata": {
    "colab_type": "text",
    "id": "cXPmtj5swDnm"
   },
   "source": [
    "# Resources\n",
    "\n",
    "*   https://colah.github.io/posts/2015-08-Understanding-LSTMs/\n",
    "*   https://towardsdatascience.com/understanding-gru-networks-2ef37df6c9be\n",
    "\n"
   ]
  },
  {
   "cell_type": "markdown",
   "metadata": {
    "colab_type": "text",
    "id": "SdqWCg3eLldl"
   },
   "source": [
    "# Exercises"
   ]
  },
  {
   "cell_type": "markdown",
   "metadata": {
    "colab_type": "text",
    "id": "xs-QlHuc6IbK"
   },
   "source": [
    "## Exercise 1"
   ]
  },
  {
   "cell_type": "markdown",
   "metadata": {
    "colab_type": "text",
    "id": "axURTCgJwOjY"
   },
   "source": [
    "Your turn! Train a GRU or LSTM model on a dataset of your choice. Visualize its performance and compare its performance to a basic RNN model."
   ]
  },
  {
   "cell_type": "markdown",
   "metadata": {
    "colab_type": "text",
    "id": "NMw0t6QpAF8f"
   },
   "source": [
    "### Student Solution"
   ]
  },
  {
   "cell_type": "code",
   "execution_count": 21,
   "metadata": {
    "colab": {},
    "colab_type": "code",
    "id": "NBv4NGBADLKx"
   },
   "outputs": [],
   "source": [
    "import numpy as np \n",
    "import pandas as pd\n",
    "import math\n",
    "import matplotlib\n",
    "import matplotlib.pyplot as plt\n",
    "import seaborn as sns\n",
    "# https://datahub.io/core/global-temp#resource-global-temp_zip\n",
    "filename = './monthly_csv.csv'\n",
    "#weather =pd.read_csv(filename)\n",
    "\n",
    "weather = pd.read_csv(\"https://datahub.io/core/global-temp/r/monthly.csv\")"
   ]
  },
  {
   "cell_type": "code",
   "execution_count": 22,
   "metadata": {
    "colab": {
     "base_uri": "https://localhost:8080/",
     "height": 51
    },
    "colab_type": "code",
    "executionInfo": {
     "elapsed": 294,
     "status": "ok",
     "timestamp": 1563830514229,
     "user": {
      "displayName": "Shu Cheng",
      "photoUrl": "https://lh5.googleusercontent.com/-gsCkunQN884/AAAAAAAAAAI/AAAAAAAAABU/gt0FNEG-WC0/s64/photo.jpg",
      "userId": "05148031797608167590"
     },
     "user_tz": 420
    },
    "id": "TFCuU1XVDzUu",
    "outputId": "3006018d-e72c-4d34-ce38-343fddbbabe4"
   },
   "outputs": [
    {
     "data": {
      "text/plain": [
       "array([-2.85226616, -4.15261803, -4.28706476, ...,  4.79754215,\n",
       "        5.02021953,  5.43091224])"
      ]
     },
     "execution_count": 22,
     "metadata": {},
     "output_type": "execute_result"
    }
   ],
   "source": [
    "weather = weather.loc[weather['Source'] == 'GCAG']\n",
    "weather= weather.sort_index(ascending=False, axis=0)\n",
    "mean_temp = weather['Mean'].tolist()\n",
    "\n",
    "from sklearn.preprocessing import MinMaxScaler\n",
    "scaler = MinMaxScaler(feature_range=(-10, 10))\n",
    "mean_temp = np.reshape(mean_temp, (-1, 1))\n",
    "mean_temp = scaler.fit_transform(mean_temp)\n",
    "\n",
    "mean_temp = np.reshape(mean_temp, -1)\n",
    "mean_temp"
   ]
  },
  {
   "cell_type": "code",
   "execution_count": 23,
   "metadata": {
    "colab": {
     "base_uri": "https://localhost:8080/",
     "height": 269
    },
    "colab_type": "code",
    "executionInfo": {
     "elapsed": 637,
     "status": "ok",
     "timestamp": 1563830514595,
     "user": {
      "displayName": "Shu Cheng",
      "photoUrl": "https://lh5.googleusercontent.com/-gsCkunQN884/AAAAAAAAAAI/AAAAAAAAABU/gt0FNEG-WC0/s64/photo.jpg",
      "userId": "05148031797608167590"
     },
     "user_tz": 420
    },
    "id": "VKnPHM2qErrU",
    "outputId": "9907bd78-b6ef-4bda-d31b-6b8c3aae9f8a"
   },
   "outputs": [
    {
     "data": {
      "image/png": "[encoded data removed]",
      "text/plain": [
       "<Figure size 432x288 with 1 Axes>"
      ]
     },
     "metadata": {
      "needs_background": "light"
     },
     "output_type": "display_data"
    }
   ],
   "source": [
    "import matplotlib.pyplot as plt\n",
    "\n",
    "plt.plot(list(range(len(mean_temp))), mean_temp)\n",
    "plt.show()"
   ]
  },
  {
   "cell_type": "code",
   "execution_count": 24,
   "metadata": {
    "colab": {},
    "colab_type": "code",
    "id": "tWZP2eP1FwH2"
   },
   "outputs": [],
   "source": [
    "from sklearn.preprocessing import MinMaxScaler\n",
    "\n",
    "scaler = MinMaxScaler(feature_range=(0, 1))\n",
    "# you can use \"-1\" as a stand-in for one dimension when reshaping NumPy arrays,\n",
    "# and NumPy will determine the correct value based on the other dimensions.\n",
    "mean_temp_scale = np.reshape(mean_temp, (-1, 1))\n",
    "mean_temp_scale = scaler.fit_transform(mean_temp_scale)\n",
    "\n",
    "mean_temp_scale = np.reshape(mean_temp_scale, -1)\n",
    "\n",
    "n_steps = 120\n",
    "n_samples = len(mean_temp_scale) - n_steps\n",
    "\n",
    "# split eod_prices into X (100 day windows) and y (next day prices)\n",
    "X = np.zeros((n_samples, n_steps))\n",
    "y = np.zeros(n_samples)\n",
    "\n",
    "for i in range(n_samples):\n",
    "  X[i] = mean_temp_scale[i:i + n_steps]\n",
    "  y[i] = mean_temp_scale[i + n_steps]\n"
   ]
  },
  {
   "cell_type": "code",
   "execution_count": 25,
   "metadata": {
    "colab": {
     "base_uri": "https://localhost:8080/",
     "height": 34
    },
    "colab_type": "code",
    "executionInfo": {
     "elapsed": 621,
     "status": "ok",
     "timestamp": 1563830514602,
     "user": {
      "displayName": "Shu Cheng",
      "photoUrl": "https://lh5.googleusercontent.com/-gsCkunQN884/AAAAAAAAAAI/AAAAAAAAABU/gt0FNEG-WC0/s64/photo.jpg",
      "userId": "05148031797608167590"
     },
     "user_tz": 420
    },
    "id": "T4eRJRUOF1Um",
    "outputId": "9c7a63ac-26d1-4112-959e-fde6f4d0abe7"
   },
   "outputs": [
    {
     "data": {
      "text/plain": [
       "((1219, 120), (305, 120))"
      ]
     },
     "execution_count": 25,
     "metadata": {},
     "output_type": "execute_result"
    }
   ],
   "source": [
    "split_index = int(n_samples * 0.8)\n",
    "\n",
    "X_train, X_test = X[:split_index], X[split_index:]\n",
    "y_train, y_test = y[:split_index], y[split_index:]\n",
    "\n",
    "X_train.shape, X_test.shape"
   ]
  },
  {
   "cell_type": "code",
   "execution_count": 26,
   "metadata": {
    "colab": {
     "base_uri": "https://localhost:8080/",
     "height": 34
    },
    "colab_type": "code",
    "executionInfo": {
     "elapsed": 602,
     "status": "ok",
     "timestamp": 1563830514604,
     "user": {
      "displayName": "Shu Cheng",
      "photoUrl": "https://lh5.googleusercontent.com/-gsCkunQN884/AAAAAAAAAAI/AAAAAAAAABU/gt0FNEG-WC0/s64/photo.jpg",
      "userId": "05148031797608167590"
     },
     "user_tz": 420
    },
    "id": "0OMSDN-uGFxG",
    "outputId": "9da91e61-f225-4557-b5a7-8c7912f91334"
   },
   "outputs": [
    {
     "data": {
      "text/plain": [
       "((1219, 120, 1), (305, 120, 1))"
      ]
     },
     "execution_count": 26,
     "metadata": {},
     "output_type": "execute_result"
    }
   ],
   "source": [
    "from tensorflow import keras\n",
    "X_train = np.reshape(X_train, (X_train.shape[0], X_train.shape[1], 1))\n",
    "X_test = np.reshape(X_test, (X_test.shape[0], X_test.shape[1], 1))\n",
    "\n",
    "X_train.shape, X_test.shape"
   ]
  },
  {
   "cell_type": "code",
   "execution_count": 27,
   "metadata": {
    "colab": {},
    "colab_type": "code",
    "id": "3tOu2XuAGfdA"
   },
   "outputs": [],
   "source": [
    "from sklearn.metrics import mean_squared_error\n",
    "\n",
    "def evaluate(model):\n",
    "  predicted_train = model.predict(X_train)\n",
    "  predicted_test = model.predict(X_test)\n",
    "\n",
    "  # un-normalize predictions\n",
    "  predicted_train = scaler.inverse_transform(predicted_train)\n",
    "  predicted_test = scaler.inverse_transform(predicted_test)\n",
    "  # get original data values\n",
    "  y_train_raw = scaler.inverse_transform([y_train])[0]\n",
    "  y_test_raw = scaler.inverse_transform([y_test])[0]\n",
    "  # calculate mean squared error\n",
    "  trainScore = mean_squared_error(y_train_raw, predicted_train[:,0])\n",
    "  print('Train Score: %.2f MSE' % (trainScore))\n",
    "  testScore = mean_squared_error(y_test_raw, predicted_test[:,0])\n",
    "  print('Test Score: %.2f MSE' % (testScore))"
   ]
  },
  {
   "cell_type": "code",
   "execution_count": 28,
   "metadata": {
    "colab": {
     "base_uri": "https://localhost:8080/",
     "height": 221
    },
    "colab_type": "code",
    "executionInfo": {
     "elapsed": 10099,
     "status": "ok",
     "timestamp": 1563830524134,
     "user": {
      "displayName": "Shu Cheng",
      "photoUrl": "https://lh5.googleusercontent.com/-gsCkunQN884/AAAAAAAAAAI/AAAAAAAAABU/gt0FNEG-WC0/s64/photo.jpg",
      "userId": "05148031797608167590"
     },
     "user_tz": 420
    },
    "id": "2EsW9C87GRxq",
    "outputId": "f5672606-2498-45c9-cad8-ed1f045b4f0c"
   },
   "outputs": [
    {
     "name": "stdout",
     "output_type": "stream",
     "text": [
      "Epoch 1/5\n",
      "1219/1219 [==============================] - 1s 883us/sample - loss: 0.0782\n",
      "Epoch 2/5\n",
      "1219/1219 [==============================] - 1s 425us/sample - loss: 0.0177\n",
      "Epoch 3/5\n",
      "1219/1219 [==============================] - 1s 426us/sample - loss: 0.0097\n",
      "Epoch 4/5\n",
      "1219/1219 [==============================] - 1s 701us/sample - loss: 0.0060\n",
      "Epoch 5/5\n",
      "1219/1219 [==============================] - 1s 556us/sample - loss: 0.0050\n",
      "Train Score: 1.88 MSE\n",
      "Test Score: 6.57 MSE\n"
     ]
    }
   ],
   "source": [
    "n_units = 36\n",
    "n_epochs = 5\n",
    "batch_size = 50\n",
    "\n",
    "rnn_model = keras.Sequential([\n",
    "  keras.layers.SimpleRNN(n_units),\n",
    "  keras.layers.Dense(1)\n",
    "])\n",
    "\n",
    "rnn_model.compile(\n",
    "  loss='mean_squared_error',\n",
    "  optimizer='adam'\n",
    ")\n",
    "\n",
    "rnn_model.fit(\n",
    "    X_train,\n",
    "    y_train,\n",
    "    epochs=n_epochs,\n",
    "    batch_size=batch_size\n",
    ")\n",
    "\n",
    "evaluate(rnn_model)"
   ]
  },
  {
   "cell_type": "code",
   "execution_count": 29,
   "metadata": {
    "colab": {
     "base_uri": "https://localhost:8080/",
     "height": 292
    },
    "colab_type": "code",
    "executionInfo": {
     "elapsed": 38073,
     "status": "ok",
     "timestamp": 1563830552131,
     "user": {
      "displayName": "Shu Cheng",
      "photoUrl": "https://lh5.googleusercontent.com/-gsCkunQN884/AAAAAAAAAAI/AAAAAAAAABU/gt0FNEG-WC0/s64/photo.jpg",
      "userId": "05148031797608167590"
     },
     "user_tz": 420
    },
    "id": "iQhrhagjG5oS",
    "outputId": "c9b0545c-3958-4c94-d94b-2b3617d673ca"
   },
   "outputs": [
    {
     "name": "stdout",
     "output_type": "stream",
     "text": [
      "Epoch 1/5\n",
      "1219/1219 [==============================] - 3s 2ms/sample - loss: 0.0444\n",
      "Epoch 2/5\n",
      "1219/1219 [==============================] - 2s 2ms/sample - loss: 0.0057\n",
      "Epoch 3/5\n",
      "1219/1219 [==============================] - 3s 2ms/sample - loss: 0.0045\n",
      "Epoch 4/5\n",
      "1219/1219 [==============================] - 2s 2ms/sample - loss: 0.0041\n",
      "Epoch 5/5\n",
      "1219/1219 [==============================] - 3s 2ms/sample - loss: 0.0037\n",
      "Train Score: 1.44 MSE\n",
      "Test Score: 1.91 MSE\n"
     ]
    }
   ],
   "source": [
    "lstm_model = keras.Sequential([\n",
    "  keras.layers.LSTM(n_units), # the magic change\n",
    "  keras.layers.Dense(1)\n",
    "])\n",
    "\n",
    "lstm_model.compile(\n",
    "  loss='mean_squared_error',\n",
    "  optimizer='adam'\n",
    ")\n",
    "\n",
    "lstm_model.fit(\n",
    "    X_train,\n",
    "    y_train,\n",
    "    epochs=n_epochs,\n",
    "    batch_size=batch_size\n",
    ")\n",
    "\n",
    "evaluate(lstm_model)"
   ]
  },
  {
   "cell_type": "code",
   "execution_count": 30,
   "metadata": {
    "colab": {
     "base_uri": "https://localhost:8080/",
     "height": 269
    },
    "colab_type": "code",
    "executionInfo": {
     "elapsed": 43503,
     "status": "ok",
     "timestamp": 1563830557578,
     "user": {
      "displayName": "Shu Cheng",
      "photoUrl": "https://lh5.googleusercontent.com/-gsCkunQN884/AAAAAAAAAAI/AAAAAAAAABU/gt0FNEG-WC0/s64/photo.jpg",
      "userId": "05148031797608167590"
     },
     "user_tz": 420
    },
    "id": "eU14_eFUHDpX",
    "outputId": "96ff5c96-fcb3-47f0-9631-dd8ab990270d"
   },
   "outputs": [
    {
     "data": {
      "image/png": "[encoded data removed]",
      "text/plain": [
       "<Figure size 432x288 with 1 Axes>"
      ]
     },
     "metadata": {
      "needs_background": "light"
     },
     "output_type": "display_data"
    }
   ],
   "source": [
    "# Visualize LSTM predictions\n",
    "rnn_predicted_train = rnn_model.predict(X_train)\n",
    "rnn_predicted_test = rnn_model.predict(X_test)\n",
    "  \n",
    "lstm_predicted_train = lstm_model.predict(X_train)\n",
    "lstm_predicted_test = lstm_model.predict(X_test)\n",
    "\n",
    "# un-normalize predictions\n",
    "rnn_predicted_train = scaler.inverse_transform(rnn_predicted_train)\n",
    "rnn_predicted_test = scaler.inverse_transform(rnn_predicted_test)\n",
    "lstm_predicted_train = scaler.inverse_transform(lstm_predicted_train)\n",
    "lstm_predicted_test = scaler.inverse_transform(lstm_predicted_test)\n",
    "\n",
    "plt.plot(range(len(mean_temp_scale)), scaler.inverse_transform([mean_temp_scale])[0])\n",
    "plt.plot(range(n_steps, len(rnn_predicted_train) + n_steps), rnn_predicted_train,'r')\n",
    "plt.plot(range(len(rnn_predicted_train) + n_steps, len(mean_temp_scale)), rnn_predicted_test,'m')\n",
    "plt.plot(range(n_steps, len(lstm_predicted_train) + n_steps), lstm_predicted_train,'g')\n",
    "plt.plot(range(len(lstm_predicted_train) + n_steps, len(mean_temp_scale)), lstm_predicted_test,'y')\n",
    "plt.show()"
   ]
  }
 ],
 "metadata": {
  "accelerator": "GPU",
  "colab": {
   "collapsed_sections": [
    "mW4Y4c6tvYvG"
   ],
   "name": "Huize Huang - T08-07 [00]  Sequence Prediction [Colab]",
   "provenance": [
    {
     "file_id": "1wvZJenbXCeIqkCsvZnUlonQXHT0XTrwF",
     "timestamp": 1553803541992
    },
    {
     "file_id": "1TpS3e4-89BRHc3_URqIUQtFev_mXzMbw",
     "timestamp": 1544680749825
    },
    {
     "file_id": "1tKt2_k_n1-RBHb3qB91zUhp1sw7y5Z87",
     "timestamp": 1544572701805
    },
    {
     "file_id": "https://github.com/tensorflow/docs/blob/master/site/en/tutorials/keras/basic_classification.ipynb",
     "timestamp": 1540403723198
    }
   ],
   "toc_visible": true,
   "version": "0.3.2"
  },
  "kernelspec": {
   "display_name": "Python 3",
   "language": "python",
   "name": "python3"
  },
  "language_info": {
   "codemirror_mode": {
    "name": "ipython",
    "version": 3
   },
   "file_extension": ".py",
   "mimetype": "text/x-python",
   "name": "python",
   "nbconvert_exporter": "python",
   "pygments_lexer": "ipython3",
   "version": "3.6.8"
  }
 },
 "nbformat": 4,
 "nbformat_minor": 1
}
