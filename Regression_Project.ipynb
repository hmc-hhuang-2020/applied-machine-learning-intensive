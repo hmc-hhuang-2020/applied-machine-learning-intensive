{
  "nbformat": 4,
  "nbformat_minor": 0,
  "metadata": {
    "colab": {
      "name": "Huize Huang - T03-09 [00] Regression Project [Colab]",
      "version": "0.3.2",
      "provenance": [],
      "private_outputs": true,
      "collapsed_sections": [
        "copyright"
      ],
      "toc_visible": true
    },
    "kernelspec": {
      "display_name": "Python 3",
      "name": "python3"
    }
  },
  "cells": [
    {
      "cell_type": "markdown",
      "metadata": {
        "colab_type": "text",
        "id": "copyright"
      },
      "source": [
        "#### Copyright 2019 Google LLC."
      ]
    },
    {
      "cell_type": "code",
      "metadata": {
        "colab_type": "code",
        "id": "cSdG7cSNFro-",
        "colab": {}
      },
      "source": [
        "# Licensed under the Apache License, Version 2.0 (the \"License\");\n",
        "# you may not use this file except in compliance with the License.\n",
        "# You may obtain a copy of the License at\n",
        "#\n",
        "# https://www.apache.org/licenses/LICENSE-2.0\n",
        "#\n",
        "# Unless required by applicable law or agreed to in writing, software\n",
        "# distributed under the License is distributed on an \"AS IS\" BASIS,\n",
        "# WITHOUT WARRANTIES OR CONDITIONS OF ANY KIND, either express or implied.\n",
        "# See the License for the specific language governing permissions and\n",
        "# limitations under the License."
      ],
      "execution_count": 0,
      "outputs": []
    },
    {
      "cell_type": "markdown",
      "metadata": {
        "colab_type": "text",
        "id": "_FdRu8E0F6EJ"
      },
      "source": [
        "# Regression Project"
      ]
    },
    {
      "cell_type": "markdown",
      "metadata": {
        "colab_type": "text",
        "id": "Mm5d3zEpKE00"
      },
      "source": [
        "In this project you will be divided into small groups (two or three people). You will be pointed to a dataset and asked to create a model to solve a problem. Over the course of the day, your team will explore the data and train the best model you can for solving the problem. At the end of the day, your team will give a short presentation about your solution."
      ]
    },
    {
      "cell_type": "markdown",
      "metadata": {
        "colab_type": "text",
        "id": "2iIQ-XduKJZz"
      },
      "source": [
        "## Overview"
      ]
    },
    {
      "cell_type": "markdown",
      "metadata": {
        "colab_type": "text",
        "id": "B-TOrwufKQhD"
      },
      "source": [
        "### Learning Objectives\n",
        "\n",
        "* Apply scikit-learn or TensorFlow to a dataset to create a regression model.\n",
        "* Preprocess data for feeding into a model.\n",
        "* Use a hand-built model to make predictions.\n",
        "* Measure the quality of predictions from your model."
      ]
    },
    {
      "cell_type": "markdown",
      "metadata": {
        "colab_type": "text",
        "id": "6LqnO7DiKmwi"
      },
      "source": [
        "### Prerequisites\n",
        "\n",
        "* Introduction to Colab\n",
        "* Intermediate Python\n",
        "* Intermediate Pandas\n",
        "* Visualizations\n",
        "* Regression\n",
        "* Regression with scikit-learn\n",
        "* Regression with TensorFlow"
      ]
    },
    {
      "cell_type": "markdown",
      "metadata": {
        "colab_type": "text",
        "id": "3qhlIRMGLDea"
      },
      "source": [
        "### Estimated Duration\n",
        "\n",
        "330 minutes (285 minutes working time, 45 minutes for presentations)"
      ]
    },
    {
      "cell_type": "markdown",
      "metadata": {
        "colab_type": "text",
        "id": "Nb9YD_6cWefp"
      },
      "source": [
        "### Deliverables\n",
        "\n",
        "1. A copy of this Colab notebook containing your code and responses to the ethical considerations below.\n",
        "1. A group presentation. After everyone is done, we will ask each group to stand in front of the class and give a brief presentation about what they have done in this lab. The presentation can be a code walkthrough, a group discussion, a slide show, or any other means that conveys what you did over the course of the day and what you learned. If you do create any artifacts for your presentation, please share them in the class folder."
      ]
    },
    {
      "cell_type": "markdown",
      "metadata": {
        "colab_type": "text",
        "id": "dZj2NF0gLGjp"
      },
      "source": [
        "### Grading Criteria\n",
        "\n",
        "This project is graded in separate sections that each contribute a percentage of the total score:\n",
        "\n",
        "1. Building and Using a Model (80%)\n",
        "1. Ethical Implications (10%)\n",
        "1. Project Presentation (10%)\n",
        "\n",
        "#### Building and Using a Model\n",
        "\n",
        "There are 6 demonstrations of competency listed in the problem statement below. Each competency is graded on a 3 point scale for a total of 18 available points. The following rubric will be used:\n",
        "\n",
        "| Points | Description |\n",
        "|--------|-------------|\n",
        "| 0      | No attempt at the competency |\n",
        "| 1      | Attempted competency, but in an incorrect manner |\n",
        "| 2      | Attempted competency correctly, but sub-optimally |\n",
        "| 3      | Successful demonstration of competency |\n",
        "\n",
        "The demonstrations of competency show that the team knows how to use the tools of a data scientist, but they are not a good judge of \"thinking like a data scientist\". 3 additional points will be graded on the teams demonstration of skillful application of data science concepts and graded on the following rubric:\n",
        "\n",
        "| Points | Description |\n",
        "|--------|-------------|\n",
        "| 0      | No attempt at exercise |\n",
        "| 1      | Created a generic model with little insight |\n",
        "| 2      | Performed some basic data science processes and patterns |\n",
        "| 3      | Demonstrated mastery of data science and exploration concepts learned so far |\n",
        "\n",
        "#### Ethical Implications\n",
        "\n",
        "There are six questions in the **Ethical Implications** secion. Each question is worth 2 points. The rubric for calculating those points is:\n",
        "\n",
        "| Points | Description |\n",
        "|--------|-------------|\n",
        "| 0      | No attempt at question or answer was off-topic or didn't make sense |\n",
        "| 1      | Question was answered, but answer missed important considerations  |\n",
        "| 2      | Answer adequately considered ethical implications |\n",
        "\n",
        "#### Project Presentation\n",
        "\n",
        "The project presentation will be graded on participation. All members of a team should actively participate."
      ]
    },
    {
      "cell_type": "markdown",
      "metadata": {
        "colab_type": "text",
        "id": "JzEoFw-TPi7r"
      },
      "source": [
        "## Team\n",
        "\n",
        "Please enter your team members names in the placeholders in this text area:\n",
        "\n",
        "*   *Jesse Stewart*\n",
        "*   *Huize Huang*\n",
        "*   *Narangerel Boldbaatar*\n",
        "\n"
      ]
    },
    {
      "cell_type": "markdown",
      "metadata": {
        "colab_type": "text",
        "id": "NkF2j1JBJaM2"
      },
      "source": [
        "# Exercises"
      ]
    },
    {
      "cell_type": "markdown",
      "metadata": {
        "colab_type": "text",
        "id": "kGWV97GDJfiD"
      },
      "source": [
        "## Exercise 1: Coding"
      ]
    },
    {
      "cell_type": "markdown",
      "metadata": {
        "colab_type": "text",
        "id": "cr12EFb2WQym"
      },
      "source": [
        "[Kaggle](http://www.kaggle.com) hosts a [dataset containing intake and outcome data](https://www.kaggle.com/aaronschlegel/austin-animal-center-shelter-intakes-and-outcomes) for the [Austin Animal Care Shelter](http://www.austintexas.gov/department/aac). In this project we will **use intake data to predict the number of days that an animal is likely to stay in the shelter before being adopted**.\n",
        "\n",
        "You are free to use any toolkit that we have covered in this class to solve the problem. That should be at least scikit-learn and TensorFlow.\n",
        "\n",
        "Important details:\n",
        "\n",
        "* The [dataset](https://www.kaggle.com/aaronschlegel/austin-animal-center-shelter-intakes-and-outcomes) offers three files, one for intakes, one for outcomes, and one that joins the two and adds some additional columns. Feel free to use any combination of the files.\n",
        "* The column we are trying to predict is 'time_in_shelter_days'.\n",
        "* Do not use any outcome data as features for training the model. We want to be able to predict the time in shelter for any given animal at intake.\n",
        "* Not all animals have outcomes. Not all outcomes are adoption.\n",
        "\n",
        "**Graded** demonstrations of competency:\n",
        "1. Get the data into a Python object.\n",
        "1. The ability to examine the data programmatically and visually.\n",
        "1. Perform at least one preprocessing transformation on the data.\n",
        "1. Creation and training of a regression model.\n",
        "1. Testing and/or scoring of a model.\n",
        "1. Model experimentation and tuning: record parameters and objects used along with resulting scores."
      ]
    },
    {
      "cell_type": "markdown",
      "metadata": {
        "colab_type": "text",
        "id": "WgFU38b7rfbv"
      },
      "source": [
        "### Student Solution"
      ]
    },
    {
      "cell_type": "code",
      "metadata": {
        "colab_type": "code",
        "id": "wOdOl0qqPyL-",
        "colab": {}
      },
      "source": [
        "import altair as alt\n",
        "import numpy as np \n",
        "import pandas as pd\n",
        "import math\n",
        "import matplotlib\n",
        "import matplotlib.pyplot as plt\n",
        "import re\n",
        "import seaborn as sns\n",
        "from google.colab import files \n",
        "\n",
        "filename = './aac_intakes.csv'\n",
        "aac_intake = pd.read_csv(filename)\n",
        "\n",
        "filename = './aac_intakes_outcomes.csv'\n",
        "aac_outake = pd.read_csv(filename)\n"
      ],
      "execution_count": 0,
      "outputs": []
    },
    {
      "cell_type": "code",
      "metadata": {
        "id": "jaoLlv9ObnoP",
        "colab_type": "code",
        "colab": {}
      },
      "source": [
        "aac_intake.describe()"
      ],
      "execution_count": 0,
      "outputs": []
    },
    {
      "cell_type": "code",
      "metadata": {
        "id": "mO4OeQWKfKuc",
        "colab_type": "code",
        "colab": {}
      },
      "source": [
        "aac_outake.describe()"
      ],
      "execution_count": 0,
      "outputs": []
    },
    {
      "cell_type": "code",
      "metadata": {
        "id": "3Wd6cedIbx9x",
        "colab_type": "code",
        "colab": {}
      },
      "source": [
        "aac_intake.head()"
      ],
      "execution_count": 0,
      "outputs": []
    },
    {
      "cell_type": "code",
      "metadata": {
        "id": "g9mchY6WfVdy",
        "colab_type": "code",
        "colab": {}
      },
      "source": [
        "aac_outake.head()"
      ],
      "execution_count": 0,
      "outputs": []
    },
    {
      "cell_type": "code",
      "metadata": {
        "id": "meAchgfAcCYz",
        "colab_type": "code",
        "colab": {}
      },
      "source": [
        "aac_intake.columns"
      ],
      "execution_count": 0,
      "outputs": []
    },
    {
      "cell_type": "code",
      "metadata": {
        "id": "esdMXw67hCuZ",
        "colab_type": "code",
        "colab": {}
      },
      "source": [
        "aac_intake.dtypes"
      ],
      "execution_count": 0,
      "outputs": []
    },
    {
      "cell_type": "code",
      "metadata": {
        "id": "gLaNoQOhGU5R",
        "colab_type": "code",
        "colab": {}
      },
      "source": [
        "aac_outake.dtypes"
      ],
      "execution_count": 0,
      "outputs": []
    },
    {
      "cell_type": "markdown",
      "metadata": {
        "id": "PLipDOFzGZ8F",
        "colab_type": "text"
      },
      "source": [
        "# Exam the data"
      ]
    },
    {
      "cell_type": "markdown",
      "metadata": {
        "id": "yhToNXLyGdNC",
        "colab_type": "text"
      },
      "source": [
        "Check for null values"
      ]
    },
    {
      "cell_type": "code",
      "metadata": {
        "id": "sVk0zmgNgDRu",
        "colab_type": "code",
        "colab": {}
      },
      "source": [
        "n = len(aac_intake)\n",
        "print(\"age_upon_intake: \"+ str(n-aac_intake['age_upon_intake'].isnull().value_counts().values.tolist()[0]))\n",
        "print(\"animal_type: \"+str(n-aac_intake['animal_type'].isnull().value_counts().values.tolist()[0]))\n",
        "print(\"intake_condition: \"+ str(n-aac_intake['intake_condition'].isnull().value_counts().values.tolist()[0]))\n",
        "print(\"intake_type: \"+str(n-aac_intake['intake_type'].isnull().value_counts().values.tolist()[0]))\n",
        "print(\"datetime: \"+str(n-aac_intake['datetime'].isnull().value_counts().values.tolist()[0]))"
      ],
      "execution_count": 0,
      "outputs": []
    },
    {
      "cell_type": "code",
      "metadata": {
        "id": "QgwLV9EOwlIy",
        "colab_type": "code",
        "colab": {}
      },
      "source": [
        "n = len(aac_outake)\n",
        "print(\"time_in_shelter_days: \"+str(n-aac_outake['time_in_shelter_days'].isnull().value_counts().values.tolist()[0]))\n",
        "print(\"age_upon_intake_(years): \"+str(n-aac_outake['age_upon_intake_(years)'].isnull().value_counts().values.tolist()[0]))\n",
        "print(\"age_upon_intake_(years): \"+str(n-aac_outake['age_upon_intake_(days)'].isnull().value_counts().values.tolist()[0]))"
      ],
      "execution_count": 0,
      "outputs": []
    },
    {
      "cell_type": "markdown",
      "metadata": {
        "id": "J1RC76NLikA1",
        "colab_type": "text"
      },
      "source": [
        "# Data Preprocssing "
      ]
    },
    {
      "cell_type": "markdown",
      "metadata": {
        "id": "2CxT9WHRisCL",
        "colab_type": "text"
      },
      "source": [
        "Unify age upon intake to days"
      ]
    },
    {
      "cell_type": "code",
      "metadata": {
        "id": "0Xko81bdgYfr",
        "colab_type": "code",
        "colab": {}
      },
      "source": [
        "def change_intake_age(i):\n",
        "  i,j = i.split()\n",
        "  if 'day' in j:\n",
        "    k = int(i)\n",
        "  elif 'week' in j:\n",
        "    k = int(i)*7\n",
        "  elif 'month' in j:\n",
        "    k = int(i)*30\n",
        "  elif 'year' in j:\n",
        "    k = int(i)*365\n",
        "  return k\n",
        "\n",
        "aac_intake['age_upon_intake'] = aac_intake['age_upon_intake'].apply(lambda x: change_intake_age(x))\n",
        "# aac_outake['age_upon_intake'] = aac_outake['age_upon_intake'].apply(lambda x: change_intake_age(x))\n",
        " "
      ],
      "execution_count": 0,
      "outputs": []
    },
    {
      "cell_type": "markdown",
      "metadata": {
        "id": "_KtN_KgPjCHi",
        "colab_type": "text"
      },
      "source": [
        "Unify age upon intake to months"
      ]
    },
    {
      "cell_type": "code",
      "metadata": {
        "id": "X_QCewIFv8jm",
        "colab_type": "code",
        "colab": {}
      },
      "source": [
        "filename = './aac_intakes.csv'\n",
        "aac_intake = pd.read_csv(filename)\n",
        "\n",
        "filename = './aac_intakes_outcomes.csv'\n",
        "aac_outake = pd.read_csv(filename)\n",
        "\n",
        "def change_intake_age_month(i):\n",
        "  i,j = i.split()\n",
        "  if 'day' in j:\n",
        "    k = float(i)/30\n",
        "  elif 'week' in j:\n",
        "    k = float(i)/4\n",
        "  elif 'month' in j:\n",
        "    k = float(i)\n",
        "  elif 'year' in j:\n",
        "    k = float(i)*12\n",
        "  return k\n",
        "\n",
        "# aac_intake['age_upon_intake'] = aac_intake['age_upon_intake'].apply(lambda x: change_intake_age(x))\n",
        "aac_outake['age_upon_intake'] = aac_outake['age_upon_intake'].apply(lambda x: change_intake_age_month(x))\n",
        " "
      ],
      "execution_count": 0,
      "outputs": []
    },
    {
      "cell_type": "markdown",
      "metadata": {
        "id": "hWxK24snjPHZ",
        "colab_type": "text"
      },
      "source": [
        "# Data Visualization"
      ]
    },
    {
      "cell_type": "code",
      "metadata": {
        "id": "dic9xh7DtzBv",
        "colab_type": "code",
        "colab": {}
      },
      "source": [
        "plt.plot(aac_outake['age_upon_intake'],aac_outake['time_in_shelter_days'],'b.')"
      ],
      "execution_count": 0,
      "outputs": []
    },
    {
      "cell_type": "code",
      "metadata": {
        "id": "jxIUUlAJoh66",
        "colab_type": "code",
        "colab": {}
      },
      "source": [
        "animal_type_uniqueValues, animal_type_occurCount = np.unique(aac_intake.animal_type, return_counts=True)\n",
        "print(\"animal_type Unique Values : \" , uniqueValues)\n",
        "print(\"animal_type Occurrence Count : \", occurCount)\n",
        "sns.barplot(animal_type_uniqueValues, animal_type_occurCount,ax=axes[0,0])"
      ],
      "execution_count": 0,
      "outputs": []
    },
    {
      "cell_type": "code",
      "metadata": {
        "id": "2ggx3nyvpFDJ",
        "colab_type": "code",
        "colab": {}
      },
      "source": [
        "intake_condition_uniqueValues, intake_condition_occurCount = np.unique(aac_intake.intake_condition, return_counts=True)\n",
        "print(\"intake_condition Unique Values : \" , uniqueValues)\n",
        "print(\"intake_condition Occurrence Count : \", occurCount)\n",
        "# intake_condition_plot = sns.barplot(intake_condition_uniqueValues,intake_condition_occurCount)"
      ],
      "execution_count": 0,
      "outputs": []
    },
    {
      "cell_type": "code",
      "metadata": {
        "id": "yTDf1ZeUpNIx",
        "colab_type": "code",
        "colab": {}
      },
      "source": [
        "intake_type_uniqueValues, intake_type_occurCount = np.unique(aac_intake.intake_type, return_counts=True)\n",
        "print(\"intake_type Unique Values : \" , uniqueValues)\n",
        "print(\"intake_type Occurrence Count : \", occurCount)\n",
        "# intake_type_plot = sns.barplot(intake_type_uniqueValues, intake_type_occurCount)\n",
        "# intake_type_plot.set_xticklabels(intake_type.get_xticklabels(),rotation=45)"
      ],
      "execution_count": 0,
      "outputs": []
    },
    {
      "cell_type": "markdown",
      "metadata": {
        "id": "cAkriVRjpHtV",
        "colab_type": "text"
      },
      "source": [
        "Convert DateTime to only month"
      ]
    },
    {
      "cell_type": "code",
      "metadata": {
        "id": "jn72CrHwnjey",
        "colab_type": "code",
        "colab": {}
      },
      "source": [
        "aac_intake.datetime = aac_intake.datetime.apply(lambda x:int(x.split('-')[1])) "
      ],
      "execution_count": 0,
      "outputs": []
    },
    {
      "cell_type": "code",
      "metadata": {
        "id": "5aKz8qWhvjOU",
        "colab_type": "code",
        "colab": {}
      },
      "source": [
        "datetime_uniqueValues, datetime_occurCount = np.unique(aac_intake.datetime, return_counts=True)\n",
        "print(\"datetime Unique Values : \" , datetime_uniqueValues)\n",
        "print(\"datetime Occurrence Count : \", datetime_occurCount)\n",
        "# datetime_plot = sns.barplot(datetime_uniqueValues, datetime_occurCount)"
      ],
      "execution_count": 0,
      "outputs": []
    },
    {
      "cell_type": "code",
      "metadata": {
        "id": "wubvgX4RIekP",
        "colab_type": "code",
        "colab": {}
      },
      "source": [
        "f, axes = plt.subplots(2, 2,figsize=(15,10))\n",
        "sns.barplot(animal_type_uniqueValues, animal_type_occurCount,ax=axes[0,0])\n",
        "axes[0,0].title.set_text(\"animal_type\") \n",
        "sns.barplot(intake_condition_uniqueValues,intake_condition_occurCount,ax = axes[0,1])\n",
        "axes[0,1].title.set_text(\"intake_condition\") \n",
        "sns.barplot(intake_type_uniqueValues, intake_type_occurCount,ax = axes[1,0])\n",
        "axes[1,0].set_xticklabels(axes[1,0].get_xticklabels(),rotation=45)\n",
        "axes[1,0].title.set_text(\"intake_type\")\n",
        "sns.barplot(datetime_uniqueValues, datetime_occurCount,ax = axes[1,1])\n",
        "axes[1,1].title.set_text(\"datetime\")\n",
        "plt.tight_layout()"
      ],
      "execution_count": 0,
      "outputs": []
    },
    {
      "cell_type": "markdown",
      "metadata": {
        "id": "wxzVV5t0XZTP",
        "colab_type": "text"
      },
      "source": [
        "# Convert String columns to useful numeric features"
      ]
    },
    {
      "cell_type": "markdown",
      "metadata": {
        "id": "Zm-G1UfOjaA7",
        "colab_type": "text"
      },
      "source": [
        "Convert intake_condition to scale 0-10"
      ]
    },
    {
      "cell_type": "code",
      "metadata": {
        "id": "LQqjyVdITY1C",
        "colab_type": "code",
        "colab": {}
      },
      "source": [
        "aac_outake[\"intake_condition\"].value_counts()"
      ],
      "execution_count": 0,
      "outputs": []
    },
    {
      "cell_type": "code",
      "metadata": {
        "id": "KEhbUBdnTiq1",
        "colab_type": "code",
        "colab": {}
      },
      "source": [
        "intake_condition_nums = {\"Normal\": 10, \"Injured\": 8, \"Sick\": 6, \"Nursing\": 7,\n",
        "                                  \"Aged\": 9, \"Other\": 3, \"Feral\":2,\"Pregnant\":5}\n",
        "aac_outake.intake_condition.replace(intake_condition_nums, inplace=True)"
      ],
      "execution_count": 0,
      "outputs": []
    },
    {
      "cell_type": "markdown",
      "metadata": {
        "id": "t9t0QPNAjmy8",
        "colab_type": "text"
      },
      "source": [
        "Convert intake_type to scale 1-5"
      ]
    },
    {
      "cell_type": "code",
      "metadata": {
        "id": "CNvFfmm1Ujkf",
        "colab_type": "code",
        "colab": {}
      },
      "source": [
        "aac_outake.intake_type.value_counts()"
      ],
      "execution_count": 0,
      "outputs": []
    },
    {
      "cell_type": "code",
      "metadata": {
        "id": "4hwtJ6eOUmwR",
        "colab_type": "code",
        "colab": {}
      },
      "source": [
        "intake_type_nums = {\"Stray\": 3, \"Owner Surrender\": 4, \"Public Assist\": 5, \"Wildlife\": 2,\n",
        "                                  \"Euthanasia Request\": 1}\n",
        "aac_outake.intake_type.replace(intake_type_nums, inplace=True)"
      ],
      "execution_count": 0,
      "outputs": []
    },
    {
      "cell_type": "markdown",
      "metadata": {
        "id": "Wwbtl_hOjwFW",
        "colab_type": "text"
      },
      "source": [
        "Convert animal_type to scale 0-5"
      ]
    },
    {
      "cell_type": "code",
      "metadata": {
        "id": "W-g8siVKds5n",
        "colab_type": "code",
        "colab": {}
      },
      "source": [
        "aac_outake.animal_type.value_counts()"
      ],
      "execution_count": 0,
      "outputs": []
    },
    {
      "cell_type": "code",
      "metadata": {
        "id": "QSTgdzcfd-Z8",
        "colab_type": "code",
        "colab": {}
      },
      "source": [
        "animal_type_nums = {\"Dog\": 3, \"Cat\": 4, \"Other\": 0, \"Bird\": 1}\n",
        "aac_outake.animal_type.replace(animal_type_nums, inplace=True)"
      ],
      "execution_count": 0,
      "outputs": []
    },
    {
      "cell_type": "markdown",
      "metadata": {
        "id": "CBNfcJeRXVQ4",
        "colab_type": "text"
      },
      "source": [
        "# Train Model"
      ]
    },
    {
      "cell_type": "markdown",
      "metadata": {
        "id": "KxxZZvx8kBp5",
        "colab_type": "text"
      },
      "source": [
        "**Linear Regression model**\n",
        "\n",
        "Use age_upon_intake_(days), intake_condition, intake_type, animal_type as features"
      ]
    },
    {
      "cell_type": "code",
      "metadata": {
        "id": "xF3iamjtpj5O",
        "colab_type": "code",
        "colab": {}
      },
      "source": [
        "from sklearn.model_selection import train_test_split\n",
        "\n",
        "xTrain, xTest, yTrain, yTest = train_test_split(\n",
        "    aac_outake[['age_upon_intake_(days)','intake_condition','intake_type','animal_type']], \n",
        "                                                aac_outake['time_in_shelter_days'],\n",
        "                                                test_size = 0.2, random_state = 0)"
      ],
      "execution_count": 0,
      "outputs": []
    },
    {
      "cell_type": "markdown",
      "metadata": {
        "id": "zpSA_B4wkWa2",
        "colab_type": "text"
      },
      "source": [
        "Train the model"
      ]
    },
    {
      "cell_type": "code",
      "metadata": {
        "id": "tBiZltW2rOCf",
        "colab_type": "code",
        "colab": {}
      },
      "source": [
        "from sklearn.linear_model import LinearRegression\n",
        "\n",
        "lin_reg = LinearRegression(normalize = True)\n",
        "lin_reg.fit(xTrain, yTrain)\n",
        "lin_reg.coef_, lin_reg.intercept_\n"
      ],
      "execution_count": 0,
      "outputs": []
    },
    {
      "cell_type": "markdown",
      "metadata": {
        "id": "P99b_aF3kYtD",
        "colab_type": "text"
      },
      "source": [
        "Score the model"
      ]
    },
    {
      "cell_type": "code",
      "metadata": {
        "id": "exJOqp95rfmD",
        "colab_type": "code",
        "colab": {}
      },
      "source": [
        "from sklearn.metrics import mean_squared_error\n",
        "from math import sqrt\n",
        "\n",
        "# rmse for test data\n",
        "days_predict = lin_reg.predict(xTest)\n",
        "rmse = sqrt(mean_squared_error(yTest, days_predict))\n",
        "rmse"
      ],
      "execution_count": 0,
      "outputs": []
    },
    {
      "cell_type": "code",
      "metadata": {
        "id": "eFmujlrtXjvX",
        "colab_type": "code",
        "colab": {}
      },
      "source": [
        "days_predict.mean()"
      ],
      "execution_count": 0,
      "outputs": []
    },
    {
      "cell_type": "code",
      "metadata": {
        "id": "kkxb9wU-XvWn",
        "colab_type": "code",
        "colab": {}
      },
      "source": [
        "# rmse for whole data\n",
        "days_predict = lin_reg.predict(aac_outake[['age_upon_intake_(days)','intake_condition','intake_type','animal_type']])\n",
        "rmse = sqrt(mean_squared_error(aac_outake['time_in_shelter_days'], days_predict))\n",
        "rmse"
      ],
      "execution_count": 0,
      "outputs": []
    },
    {
      "cell_type": "code",
      "metadata": {
        "id": "-j6Fk_5ocexT",
        "colab_type": "code",
        "colab": {}
      },
      "source": [
        "lin_reg.score(aac_outake[['age_upon_intake_(days)','intake_condition','intake_type','animal_type']],aac_outake['time_in_shelter_days'])"
      ],
      "execution_count": 0,
      "outputs": []
    },
    {
      "cell_type": "markdown",
      "metadata": {
        "id": "WAMnd8wGgO9H",
        "colab_type": "text"
      },
      "source": [
        "**SGD Regression**\n",
        "\n",
        "Use age_upon_intake_(days), intake_condition, intake_type, animal_type as features"
      ]
    },
    {
      "cell_type": "code",
      "metadata": {
        "id": "fb9BDLcDWyQl",
        "colab_type": "code",
        "colab": {}
      },
      "source": [
        "from sklearn.model_selection import train_test_split\n",
        "\n",
        "xTrain, xTest, yTrain, yTest = train_test_split(\n",
        "    aac_outake[['age_upon_intake_(years)','intake_condition','intake_type','animal_type']], \n",
        "                                                aac_outake['time_in_shelter_days'],\n",
        "                                                test_size = 0.2, random_state = 0)"
      ],
      "execution_count": 0,
      "outputs": []
    },
    {
      "cell_type": "markdown",
      "metadata": {
        "id": "eNzWDJ-zko80",
        "colab_type": "text"
      },
      "source": [
        "Train the model"
      ]
    },
    {
      "cell_type": "code",
      "metadata": {
        "id": "VLjPVtjLLj4V",
        "colab_type": "code",
        "colab": {}
      },
      "source": [
        "from sklearn.linear_model import SGDRegressor\n",
        "\n",
        "# Create a new Stochastic Gradient Descent regressor\n",
        "sgd_reg = SGDRegressor(max_iter = 17)\n",
        "\n",
        "# Fit the model\n",
        "sgd_reg.fit(xTrain, yTrain)\n",
        "\n",
        "# Display the slope and intercept\n",
        "sgd_reg.coef_, sgd_reg.intercept_"
      ],
      "execution_count": 0,
      "outputs": []
    },
    {
      "cell_type": "markdown",
      "metadata": {
        "id": "EZxF_XRykq5a",
        "colab_type": "text"
      },
      "source": [
        "Score the model"
      ]
    },
    {
      "cell_type": "code",
      "metadata": {
        "id": "UVdBedcdWpHd",
        "colab_type": "code",
        "colab": {}
      },
      "source": [
        "# rmse for test data\n",
        "days_predict = sgd_reg.predict(xTest)\n",
        "rmse = sqrt(mean_squared_error(yTest, days_predict))\n",
        "rmse"
      ],
      "execution_count": 0,
      "outputs": []
    },
    {
      "cell_type": "code",
      "metadata": {
        "id": "LD4FE69pYZgd",
        "colab_type": "code",
        "colab": {}
      },
      "source": [
        "# rmse for whole data\n",
        "days_predict = sgd_reg.predict(aac_outake[['age_upon_intake_(years)','intake_condition','intake_type','animal_type']])\n",
        "rmse = sqrt(mean_squared_error(aac_outake['time_in_shelter_days'], days_predict))\n",
        "rmse"
      ],
      "execution_count": 0,
      "outputs": []
    },
    {
      "cell_type": "code",
      "metadata": {
        "id": "3iyZO1pxcstP",
        "colab_type": "code",
        "colab": {}
      },
      "source": [
        "sgd_reg.score(aac_outake[['age_upon_intake_(years)','intake_condition','intake_type','animal_type']],aac_outake['time_in_shelter_days'])"
      ],
      "execution_count": 0,
      "outputs": []
    },
    {
      "cell_type": "markdown",
      "metadata": {
        "colab_type": "text",
        "id": "B2OkbjaHmicA"
      },
      "source": [
        "**Iterations**\n",
        "\n",
        "Record different attempts at model configurations here:\n",
        "\n",
        "| Model                        | Parameters                | Score         |\n",
        "|------------------------------|---------------------------|---------------|\n",
        "| sklearn LinearRegressor      | none                      | R^2 = 0.010854 |\n",
        "| sklearn SGDRegressor         |max_iter = 17 | R^2 = 0.010355 |"
      ]
    },
    {
      "cell_type": "markdown",
      "metadata": {
        "colab_type": "text",
        "id": "oxXecyKaKI4z"
      },
      "source": [
        "## Exercise 2: Ethical Implications"
      ]
    },
    {
      "cell_type": "markdown",
      "metadata": {
        "colab_type": "text",
        "id": "uK8XzfVHLi1K"
      },
      "source": [
        "Even the most basic of models have the potential to affect segments of the population in different ways. It is important to consider how your model might positively and negative effect different types of users.\n",
        "\n",
        "In this section of the project you will reflect on the positive and negative implications of your model."
      ]
    },
    {
      "cell_type": "markdown",
      "metadata": {
        "colab_type": "text",
        "id": "ezdLjd0BKeDF"
      },
      "source": [
        "### Student Solution"
      ]
    },
    {
      "cell_type": "markdown",
      "metadata": {
        "colab_type": "text",
        "id": "_U3L0F9FLmwa"
      },
      "source": [
        "**Positive Impact**\n",
        "\n",
        "Your model is trying to solve a problem. Think about who will benefit from that problem being solved and write a brief narrative about how the model will help.\n",
        "\n",
        "---"
      ]
    },
    {
      "cell_type": "markdown",
      "metadata": {
        "colab_type": "text",
        "id": "g582VerYL0so"
      },
      "source": [
        "Animals who are less likely to be adopted could benefit from our model. Our model shows that animals might be more likely to be discriminated against because of their age, condition and type upon entering the shelter. By highlighting discrimination, staff can take appropriate measures to promote the adoption of animals that might spend more time in the shelter than their counterparts."
      ]
    },
    {
      "cell_type": "markdown",
      "metadata": {
        "colab_type": "text",
        "id": "ALr018eQMuUw"
      },
      "source": [
        "**Negative Impact**\n",
        "\n",
        "Models don't often have universal benefit. Think about who might be negatively impacted by the predictions your model is making. This person or persons might not be directly using the model, but instead might be impacted indirectly.\n",
        "\n",
        "---"
      ]
    },
    {
      "cell_type": "markdown",
      "metadata": {
        "colab_type": "text",
        "id": "We8_W4WtNDLw"
      },
      "source": [
        "Animals with a normal intake condition might be less likely to be adopted due to our model. This is because our model uses an arbitrary scale that rates the normal intake condition higher than all other conditions. Therefore, the shelter staff may make less of an effort to promote the adoption of animals in this group."
      ]
    },
    {
      "cell_type": "markdown",
      "metadata": {
        "colab_type": "text",
        "id": "07J-8ljpL85I"
      },
      "source": [
        "**Bias**\n",
        "\n",
        "Models can be bias for many reasons. The bias can come from the data used to build the model (eg. sampling, data collection methods, available sources) and from the interpretation of the predictions generated by the model.\n",
        "\n",
        "Think of at least two ways that bias might have been introduced to your model and explain both below.\n",
        "\n",
        "---"
      ]
    },
    {
      "cell_type": "markdown",
      "metadata": {
        "colab_type": "text",
        "id": "Jg_PSw3NMyFX"
      },
      "source": [
        "One way bias might have been introduced to our model would be through the scale we used for intake condition:\n",
        "\n",
        "![alt text](https://i.imgur.com/LOiybJ8.png)\n",
        "\n",
        "This scale introduces experimenter's bias because it assigns values to arbitrary categories.\n",
        "\n",
        "Another way bias might have been introduced to our model would be through the arbitrary scale we used for intake type:\n",
        "\n",
        "![alt text](https://i.imgur.com/kTWIAIk.png)\n",
        "\n",
        "This scale also introduces experimenter's bias because it assigns values to arbitrary categories."
      ]
    },
    {
      "cell_type": "markdown",
      "metadata": {
        "colab_type": "text",
        "id": "7j9AWdJLMTJI"
      },
      "source": [
        "**Changing the Dataset to Mitigate Bias**\n",
        "\n",
        "Bias datasets are one of the primary ways in which bias is introduced to a machine learning model. Look back at the input data that you fed to your model. Think about how you might change something about the data to reduce bias in your model.\n",
        "\n",
        "What change or changes could you make to your dataset less bias? Consider the data that you have, how and where that data was collected, and what other sources of data might be used to reduce bias.\n",
        "\n",
        "Write a summary of change that could be made to your input data.\n",
        "\n",
        "---"
      ]
    },
    {
      "cell_type": "markdown",
      "metadata": {
        "colab_type": "text",
        "id": "yzzfrQ-xNZo5"
      },
      "source": [
        "Since the data has potential reporting bias, we could change the column for intake condition. This is because it could be the case that only apparently sick animals would be recorded with the sick condition, which might result in false negatives for animals who appear normal despite being verifiably sick. Instead, the column could account for the animal's percieved appearance."
      ]
    },
    {
      "cell_type": "markdown",
      "metadata": {
        "colab_type": "text",
        "id": "ePs6hpLiMNSx"
      },
      "source": [
        "**Changing the Model to Mitigate Bias**\n",
        "\n",
        "Is there any way to reduce bias by changing the model itself? This could include modifying algorithmic choices, tweaking hyperparameters, etc.\n",
        "\n",
        "Write a brief summary of changes that you could make to help reduce bias in your model.\n",
        "\n",
        "---"
      ]
    },
    {
      "cell_type": "markdown",
      "metadata": {
        "colab_type": "text",
        "id": "bZ3PS8bRNRCv"
      },
      "source": [
        "Since the model has potential experimenter's bias, we could remove the abitrary scales we used for intake type and intake condition. Instead, we could rely strictly on naturally numeric data such as datetime or age upon intake."
      ]
    },
    {
      "cell_type": "markdown",
      "metadata": {
        "colab_type": "text",
        "id": "YYY7lk55MgdX"
      },
      "source": [
        "**Mitigating Bias Downstream**\n",
        "\n",
        "Models make predictions. Downstream processes make decisions. What processes and/or rules should be in place for people and systems interpreting and acting on the results of your model to reduce the bias? Describe these below.\n",
        "\n",
        "---"
      ]
    },
    {
      "cell_type": "markdown",
      "metadata": {
        "colab_type": "text",
        "id": "Mp3TkmalNcR-"
      },
      "source": [
        "People and systems interpreting and acting on the results of our model should make it a rule to evenly promote the adoption of all shelter animals regardless of the scales our model used for intake condition and intake type."
      ]
    }
  ]
}