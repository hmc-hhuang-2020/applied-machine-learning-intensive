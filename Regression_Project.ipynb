{
 "cells": [
  {
   "cell_type": "markdown",
   "metadata": {
    "colab_type": "text",
    "id": "copyright"
   },
   "source": [
    "#### Copyright 2019 Google LLC."
   ]
  },
  {
   "cell_type": "code",
   "execution_count": 31,
   "metadata": {
    "colab": {},
    "colab_type": "code",
    "id": "cSdG7cSNFro-"
   },
   "outputs": [],
   "source": [
    "# Licensed under the Apache License, Version 2.0 (the \"License\");\n",
    "# you may not use this file except in compliance with the License.\n",
    "# You may obtain a copy of the License at\n",
    "#\n",
    "# https://www.apache.org/licenses/LICENSE-2.0\n",
    "#\n",
    "# Unless required by applicable law or agreed to in writing, software\n",
    "# distributed under the License is distributed on an \"AS IS\" BASIS,\n",
    "# WITHOUT WARRANTIES OR CONDITIONS OF ANY KIND, either express or implied.\n",
    "# See the License for the specific language governing permissions and\n",
    "# limitations under the License."
   ]
  },
  {
   "cell_type": "markdown",
   "metadata": {
    "colab_type": "text",
    "id": "_FdRu8E0F6EJ"
   },
   "source": [
    "# Regression Project"
   ]
  },
  {
   "cell_type": "markdown",
   "metadata": {
    "colab_type": "text",
    "id": "2iIQ-XduKJZz"
   },
   "source": [
    "## Overview"
   ]
  },
  {
   "cell_type": "markdown",
   "metadata": {
    "colab_type": "text",
    "id": "B-TOrwufKQhD"
   },
   "source": [
    "### Learning Objectives\n",
    "\n",
    "* Apply scikit-learn or TensorFlow to a dataset to create a regression model.\n",
    "* Preprocess data for feeding into a model.\n",
    "* Use a hand-built model to make predictions.\n",
    "* Measure the quality of predictions from your model."
   ]
  },
  {
   "cell_type": "markdown",
   "metadata": {
    "colab_type": "text",
    "id": "6LqnO7DiKmwi"
   },
   "source": [
    "### Prerequisites\n",
    "\n",
    "* Introduction to Colab\n",
    "* Intermediate Python\n",
    "* Intermediate Pandas\n",
    "* Visualizations\n",
    "* Regression\n",
    "* Regression with scikit-learn\n",
    "* Regression with TensorFlow"
   ]
  },
  {
   "cell_type": "markdown",
   "metadata": {
    "colab_type": "text",
    "id": "NkF2j1JBJaM2"
   },
   "source": [
    "# Exercises"
   ]
  },
  {
   "cell_type": "markdown",
   "metadata": {
    "colab_type": "text",
    "id": "kGWV97GDJfiD"
   },
   "source": [
    "## Exercise 1: Coding"
   ]
  },
  {
   "cell_type": "markdown",
   "metadata": {
    "colab_type": "text",
    "id": "cr12EFb2WQym"
   },
   "source": [
    "[Kaggle](http://www.kaggle.com) hosts a [dataset containing intake and outcome data](https://www.kaggle.com/aaronschlegel/austin-animal-center-shelter-intakes-and-outcomes) for the [Austin Animal Care Shelter](http://www.austintexas.gov/department/aac). In this project we will **use intake data to predict the number of days that an animal is likely to stay in the shelter before being adopted**.\n",
    "\n",
    "You are free to use any toolkit that we have covered in this class to solve the problem. That should be at least scikit-learn and TensorFlow.\n",
    "\n",
    "Important details:\n",
    "\n",
    "* The [dataset](https://www.kaggle.com/aaronschlegel/austin-animal-center-shelter-intakes-and-outcomes) offers three files, one for intakes, one for outcomes, and one that joins the two and adds some additional columns. Feel free to use any combination of the files.\n",
    "* The column we are trying to predict is 'time_in_shelter_days'.\n",
    "* Do not use any outcome data as features for training the model. We want to be able to predict the time in shelter for any given animal at intake.\n",
    "* Not all animals have outcomes. Not all outcomes are adoption.\n",
    "\n",
    "**Graded** demonstrations of competency:\n",
    "1. Get the data into a Python object.\n",
    "1. The ability to examine the data programmatically and visually.\n",
    "1. Perform at least one preprocessing transformation on the data.\n",
    "1. Creation and training of a regression model.\n",
    "1. Testing and/or scoring of a model.\n",
    "1. Model experimentation and tuning: record parameters and objects used along with resulting scores."
   ]
  },
  {
   "cell_type": "markdown",
   "metadata": {
    "colab_type": "text",
    "id": "WgFU38b7rfbv"
   },
   "source": [
    "### Student Solution"
   ]
  },
  {
   "cell_type": "code",
   "execution_count": 32,
   "metadata": {
    "colab": {},
    "colab_type": "code",
    "id": "wOdOl0qqPyL-"
   },
   "outputs": [],
   "source": [
    "import altair as alt\n",
    "import numpy as np \n",
    "import pandas as pd\n",
    "import math\n",
    "import matplotlib\n",
    "import matplotlib.pyplot as plt\n",
    "import re\n",
    "import seaborn as sns\n",
    "\n",
    "filename = './aac_intakes.csv'\n",
    "aac_intake = pd.read_csv(filename)\n",
    "\n",
    "filename = './aac_intakes_outcomes.csv'\n",
    "aac_outake = pd.read_csv(filename)\n"
   ]
  },
  {
   "cell_type": "code",
   "execution_count": 33,
   "metadata": {
    "colab": {},
    "colab_type": "code",
    "id": "jaoLlv9ObnoP"
   },
   "outputs": [
    {
     "data": {
      "text/html": [
       "<div>\n",
       "<style scoped>\n",
       "    .dataframe tbody tr th:only-of-type {\n",
       "        vertical-align: middle;\n",
       "    }\n",
       "\n",
       "    .dataframe tbody tr th {\n",
       "        vertical-align: top;\n",
       "    }\n",
       "\n",
       "    .dataframe thead th {\n",
       "        text-align: right;\n",
       "    }\n",
       "</style>\n",
       "<table border=\"1\" class=\"dataframe\">\n",
       "  <thead>\n",
       "    <tr style=\"text-align: right;\">\n",
       "      <th></th>\n",
       "      <th>age_upon_intake</th>\n",
       "      <th>animal_id</th>\n",
       "      <th>animal_type</th>\n",
       "      <th>breed</th>\n",
       "      <th>color</th>\n",
       "      <th>datetime</th>\n",
       "      <th>datetime2</th>\n",
       "      <th>found_location</th>\n",
       "      <th>intake_condition</th>\n",
       "      <th>intake_type</th>\n",
       "      <th>name</th>\n",
       "      <th>sex_upon_intake</th>\n",
       "    </tr>\n",
       "  </thead>\n",
       "  <tbody>\n",
       "    <tr>\n",
       "      <th>count</th>\n",
       "      <td>80187</td>\n",
       "      <td>80187</td>\n",
       "      <td>80187</td>\n",
       "      <td>80187</td>\n",
       "      <td>80187</td>\n",
       "      <td>80187</td>\n",
       "      <td>80187</td>\n",
       "      <td>80187</td>\n",
       "      <td>80187</td>\n",
       "      <td>80187</td>\n",
       "      <td>55603</td>\n",
       "      <td>80186</td>\n",
       "    </tr>\n",
       "    <tr>\n",
       "      <th>unique</th>\n",
       "      <td>46</td>\n",
       "      <td>72365</td>\n",
       "      <td>5</td>\n",
       "      <td>2166</td>\n",
       "      <td>529</td>\n",
       "      <td>57055</td>\n",
       "      <td>57055</td>\n",
       "      <td>36772</td>\n",
       "      <td>8</td>\n",
       "      <td>5</td>\n",
       "      <td>14731</td>\n",
       "      <td>5</td>\n",
       "    </tr>\n",
       "    <tr>\n",
       "      <th>top</th>\n",
       "      <td>1 year</td>\n",
       "      <td>A721033</td>\n",
       "      <td>Dog</td>\n",
       "      <td>Domestic Shorthair Mix</td>\n",
       "      <td>Black/White</td>\n",
       "      <td>2016-09-23T12:00:00.000</td>\n",
       "      <td>2016-09-23T12:00:00.000</td>\n",
       "      <td>Austin (TX)</td>\n",
       "      <td>Normal</td>\n",
       "      <td>Stray</td>\n",
       "      <td>Bella</td>\n",
       "      <td>Intact Male</td>\n",
       "    </tr>\n",
       "    <tr>\n",
       "      <th>freq</th>\n",
       "      <td>14672</td>\n",
       "      <td>13</td>\n",
       "      <td>45743</td>\n",
       "      <td>23519</td>\n",
       "      <td>8340</td>\n",
       "      <td>64</td>\n",
       "      <td>64</td>\n",
       "      <td>14443</td>\n",
       "      <td>70520</td>\n",
       "      <td>56280</td>\n",
       "      <td>357</td>\n",
       "      <td>25488</td>\n",
       "    </tr>\n",
       "  </tbody>\n",
       "</table>\n",
       "</div>"
      ],
      "text/plain": [
       "       age_upon_intake animal_id animal_type                   breed  \\\n",
       "count            80187     80187       80187                   80187   \n",
       "unique              46     72365           5                    2166   \n",
       "top             1 year   A721033         Dog  Domestic Shorthair Mix   \n",
       "freq             14672        13       45743                   23519   \n",
       "\n",
       "              color                 datetime                datetime2  \\\n",
       "count         80187                    80187                    80187   \n",
       "unique          529                    57055                    57055   \n",
       "top     Black/White  2016-09-23T12:00:00.000  2016-09-23T12:00:00.000   \n",
       "freq           8340                       64                       64   \n",
       "\n",
       "       found_location intake_condition intake_type   name sex_upon_intake  \n",
       "count           80187            80187       80187  55603           80186  \n",
       "unique          36772                8           5  14731               5  \n",
       "top       Austin (TX)           Normal       Stray  Bella     Intact Male  \n",
       "freq            14443            70520       56280    357           25488  "
      ]
     },
     "execution_count": 33,
     "metadata": {},
     "output_type": "execute_result"
    }
   ],
   "source": [
    "aac_intake.describe()"
   ]
  },
  {
   "cell_type": "code",
   "execution_count": 34,
   "metadata": {
    "colab": {},
    "colab_type": "code",
    "id": "mO4OeQWKfKuc"
   },
   "outputs": [
    {
     "data": {
      "text/html": [
       "<div>\n",
       "<style scoped>\n",
       "    .dataframe tbody tr th:only-of-type {\n",
       "        vertical-align: middle;\n",
       "    }\n",
       "\n",
       "    .dataframe tbody tr th {\n",
       "        vertical-align: top;\n",
       "    }\n",
       "\n",
       "    .dataframe thead th {\n",
       "        text-align: right;\n",
       "    }\n",
       "</style>\n",
       "<table border=\"1\" class=\"dataframe\">\n",
       "  <thead>\n",
       "    <tr style=\"text-align: right;\">\n",
       "      <th></th>\n",
       "      <th>age_upon_outcome_(days)</th>\n",
       "      <th>age_upon_outcome_(years)</th>\n",
       "      <th>outcome_month</th>\n",
       "      <th>outcome_year</th>\n",
       "      <th>outcome_hour</th>\n",
       "      <th>outcome_number</th>\n",
       "      <th>dob_year</th>\n",
       "      <th>dob_month</th>\n",
       "      <th>count</th>\n",
       "      <th>age_upon_intake_(days)</th>\n",
       "      <th>age_upon_intake_(years)</th>\n",
       "      <th>intake_month</th>\n",
       "      <th>intake_year</th>\n",
       "      <th>intake_hour</th>\n",
       "      <th>intake_number</th>\n",
       "      <th>time_in_shelter_days</th>\n",
       "    </tr>\n",
       "  </thead>\n",
       "  <tbody>\n",
       "    <tr>\n",
       "      <th>count</th>\n",
       "      <td>79672.000000</td>\n",
       "      <td>79672.000000</td>\n",
       "      <td>79672.000000</td>\n",
       "      <td>79672.000000</td>\n",
       "      <td>79672.000000</td>\n",
       "      <td>79672.000000</td>\n",
       "      <td>79672.000000</td>\n",
       "      <td>79672.000000</td>\n",
       "      <td>79672.0</td>\n",
       "      <td>79672.000000</td>\n",
       "      <td>79672.000000</td>\n",
       "      <td>79672.000000</td>\n",
       "      <td>79672.000000</td>\n",
       "      <td>79672.000000</td>\n",
       "      <td>79672.000000</td>\n",
       "      <td>79672.000000</td>\n",
       "    </tr>\n",
       "    <tr>\n",
       "      <th>mean</th>\n",
       "      <td>782.046127</td>\n",
       "      <td>2.142592</td>\n",
       "      <td>6.655425</td>\n",
       "      <td>2015.472563</td>\n",
       "      <td>14.297306</td>\n",
       "      <td>1.126820</td>\n",
       "      <td>2013.254870</td>\n",
       "      <td>6.310310</td>\n",
       "      <td>1.0</td>\n",
       "      <td>769.341701</td>\n",
       "      <td>2.107785</td>\n",
       "      <td>6.584032</td>\n",
       "      <td>2015.436101</td>\n",
       "      <td>13.487022</td>\n",
       "      <td>1.126820</td>\n",
       "      <td>16.757116</td>\n",
       "    </tr>\n",
       "    <tr>\n",
       "      <th>std</th>\n",
       "      <td>1058.528519</td>\n",
       "      <td>2.900078</td>\n",
       "      <td>3.414284</td>\n",
       "      <td>1.305944</td>\n",
       "      <td>3.774317</td>\n",
       "      <td>0.456057</td>\n",
       "      <td>3.216517</td>\n",
       "      <td>3.289077</td>\n",
       "      <td>0.0</td>\n",
       "      <td>1056.009040</td>\n",
       "      <td>2.893175</td>\n",
       "      <td>3.366579</td>\n",
       "      <td>1.303157</td>\n",
       "      <td>3.121173</td>\n",
       "      <td>0.456057</td>\n",
       "      <td>41.679359</td>\n",
       "    </tr>\n",
       "    <tr>\n",
       "      <th>min</th>\n",
       "      <td>0.000000</td>\n",
       "      <td>0.000000</td>\n",
       "      <td>1.000000</td>\n",
       "      <td>2013.000000</td>\n",
       "      <td>0.000000</td>\n",
       "      <td>1.000000</td>\n",
       "      <td>1991.000000</td>\n",
       "      <td>1.000000</td>\n",
       "      <td>1.0</td>\n",
       "      <td>0.000000</td>\n",
       "      <td>0.000000</td>\n",
       "      <td>1.000000</td>\n",
       "      <td>2013.000000</td>\n",
       "      <td>0.000000</td>\n",
       "      <td>1.000000</td>\n",
       "      <td>0.000000</td>\n",
       "    </tr>\n",
       "    <tr>\n",
       "      <th>25%</th>\n",
       "      <td>90.000000</td>\n",
       "      <td>0.246575</td>\n",
       "      <td>4.000000</td>\n",
       "      <td>2014.000000</td>\n",
       "      <td>12.000000</td>\n",
       "      <td>1.000000</td>\n",
       "      <td>2012.000000</td>\n",
       "      <td>4.000000</td>\n",
       "      <td>1.0</td>\n",
       "      <td>60.000000</td>\n",
       "      <td>0.164384</td>\n",
       "      <td>4.000000</td>\n",
       "      <td>2014.000000</td>\n",
       "      <td>11.000000</td>\n",
       "      <td>1.000000</td>\n",
       "      <td>1.102083</td>\n",
       "    </tr>\n",
       "    <tr>\n",
       "      <th>50%</th>\n",
       "      <td>365.000000</td>\n",
       "      <td>1.000000</td>\n",
       "      <td>7.000000</td>\n",
       "      <td>2015.000000</td>\n",
       "      <td>15.000000</td>\n",
       "      <td>1.000000</td>\n",
       "      <td>2014.000000</td>\n",
       "      <td>6.000000</td>\n",
       "      <td>1.0</td>\n",
       "      <td>365.000000</td>\n",
       "      <td>1.000000</td>\n",
       "      <td>7.000000</td>\n",
       "      <td>2015.000000</td>\n",
       "      <td>13.000000</td>\n",
       "      <td>1.000000</td>\n",
       "      <td>4.987153</td>\n",
       "    </tr>\n",
       "    <tr>\n",
       "      <th>75%</th>\n",
       "      <td>1095.000000</td>\n",
       "      <td>3.000000</td>\n",
       "      <td>10.000000</td>\n",
       "      <td>2017.000000</td>\n",
       "      <td>17.000000</td>\n",
       "      <td>1.000000</td>\n",
       "      <td>2015.000000</td>\n",
       "      <td>9.000000</td>\n",
       "      <td>1.0</td>\n",
       "      <td>1095.000000</td>\n",
       "      <td>3.000000</td>\n",
       "      <td>10.000000</td>\n",
       "      <td>2017.000000</td>\n",
       "      <td>16.000000</td>\n",
       "      <td>1.000000</td>\n",
       "      <td>13.610764</td>\n",
       "    </tr>\n",
       "    <tr>\n",
       "      <th>max</th>\n",
       "      <td>9125.000000</td>\n",
       "      <td>25.000000</td>\n",
       "      <td>12.000000</td>\n",
       "      <td>2018.000000</td>\n",
       "      <td>23.000000</td>\n",
       "      <td>13.000000</td>\n",
       "      <td>2018.000000</td>\n",
       "      <td>12.000000</td>\n",
       "      <td>1.0</td>\n",
       "      <td>9125.000000</td>\n",
       "      <td>25.000000</td>\n",
       "      <td>12.000000</td>\n",
       "      <td>2018.000000</td>\n",
       "      <td>23.000000</td>\n",
       "      <td>13.000000</td>\n",
       "      <td>1606.194444</td>\n",
       "    </tr>\n",
       "  </tbody>\n",
       "</table>\n",
       "</div>"
      ],
      "text/plain": [
       "       age_upon_outcome_(days)  age_upon_outcome_(years)  outcome_month  \\\n",
       "count             79672.000000              79672.000000   79672.000000   \n",
       "mean                782.046127                  2.142592       6.655425   \n",
       "std                1058.528519                  2.900078       3.414284   \n",
       "min                   0.000000                  0.000000       1.000000   \n",
       "25%                  90.000000                  0.246575       4.000000   \n",
       "50%                 365.000000                  1.000000       7.000000   \n",
       "75%                1095.000000                  3.000000      10.000000   \n",
       "max                9125.000000                 25.000000      12.000000   \n",
       "\n",
       "       outcome_year  outcome_hour  outcome_number      dob_year     dob_month  \\\n",
       "count  79672.000000  79672.000000    79672.000000  79672.000000  79672.000000   \n",
       "mean    2015.472563     14.297306        1.126820   2013.254870      6.310310   \n",
       "std        1.305944      3.774317        0.456057      3.216517      3.289077   \n",
       "min     2013.000000      0.000000        1.000000   1991.000000      1.000000   \n",
       "25%     2014.000000     12.000000        1.000000   2012.000000      4.000000   \n",
       "50%     2015.000000     15.000000        1.000000   2014.000000      6.000000   \n",
       "75%     2017.000000     17.000000        1.000000   2015.000000      9.000000   \n",
       "max     2018.000000     23.000000       13.000000   2018.000000     12.000000   \n",
       "\n",
       "         count  age_upon_intake_(days)  age_upon_intake_(years)  intake_month  \\\n",
       "count  79672.0            79672.000000             79672.000000  79672.000000   \n",
       "mean       1.0              769.341701                 2.107785      6.584032   \n",
       "std        0.0             1056.009040                 2.893175      3.366579   \n",
       "min        1.0                0.000000                 0.000000      1.000000   \n",
       "25%        1.0               60.000000                 0.164384      4.000000   \n",
       "50%        1.0              365.000000                 1.000000      7.000000   \n",
       "75%        1.0             1095.000000                 3.000000     10.000000   \n",
       "max        1.0             9125.000000                25.000000     12.000000   \n",
       "\n",
       "        intake_year   intake_hour  intake_number  time_in_shelter_days  \n",
       "count  79672.000000  79672.000000   79672.000000          79672.000000  \n",
       "mean    2015.436101     13.487022       1.126820             16.757116  \n",
       "std        1.303157      3.121173       0.456057             41.679359  \n",
       "min     2013.000000      0.000000       1.000000              0.000000  \n",
       "25%     2014.000000     11.000000       1.000000              1.102083  \n",
       "50%     2015.000000     13.000000       1.000000              4.987153  \n",
       "75%     2017.000000     16.000000       1.000000             13.610764  \n",
       "max     2018.000000     23.000000      13.000000           1606.194444  "
      ]
     },
     "execution_count": 34,
     "metadata": {},
     "output_type": "execute_result"
    }
   ],
   "source": [
    "aac_outake.describe()"
   ]
  },
  {
   "cell_type": "code",
   "execution_count": 35,
   "metadata": {
    "colab": {},
    "colab_type": "code",
    "id": "3Wd6cedIbx9x"
   },
   "outputs": [
    {
     "data": {
      "text/html": [
       "<div>\n",
       "<style scoped>\n",
       "    .dataframe tbody tr th:only-of-type {\n",
       "        vertical-align: middle;\n",
       "    }\n",
       "\n",
       "    .dataframe tbody tr th {\n",
       "        vertical-align: top;\n",
       "    }\n",
       "\n",
       "    .dataframe thead th {\n",
       "        text-align: right;\n",
       "    }\n",
       "</style>\n",
       "<table border=\"1\" class=\"dataframe\">\n",
       "  <thead>\n",
       "    <tr style=\"text-align: right;\">\n",
       "      <th></th>\n",
       "      <th>age_upon_intake</th>\n",
       "      <th>animal_id</th>\n",
       "      <th>animal_type</th>\n",
       "      <th>breed</th>\n",
       "      <th>color</th>\n",
       "      <th>datetime</th>\n",
       "      <th>datetime2</th>\n",
       "      <th>found_location</th>\n",
       "      <th>intake_condition</th>\n",
       "      <th>intake_type</th>\n",
       "      <th>name</th>\n",
       "      <th>sex_upon_intake</th>\n",
       "    </tr>\n",
       "  </thead>\n",
       "  <tbody>\n",
       "    <tr>\n",
       "      <th>0</th>\n",
       "      <td>8 years</td>\n",
       "      <td>A706918</td>\n",
       "      <td>Dog</td>\n",
       "      <td>English Springer Spaniel</td>\n",
       "      <td>White/Liver</td>\n",
       "      <td>2015-07-05T12:59:00.000</td>\n",
       "      <td>2015-07-05T12:59:00.000</td>\n",
       "      <td>9409 Bluegrass Dr in Austin (TX)</td>\n",
       "      <td>Normal</td>\n",
       "      <td>Stray</td>\n",
       "      <td>Belle</td>\n",
       "      <td>Spayed Female</td>\n",
       "    </tr>\n",
       "    <tr>\n",
       "      <th>1</th>\n",
       "      <td>11 months</td>\n",
       "      <td>A724273</td>\n",
       "      <td>Dog</td>\n",
       "      <td>Basenji Mix</td>\n",
       "      <td>Sable/White</td>\n",
       "      <td>2016-04-14T18:43:00.000</td>\n",
       "      <td>2016-04-14T18:43:00.000</td>\n",
       "      <td>2818 Palomino Trail in Austin (TX)</td>\n",
       "      <td>Normal</td>\n",
       "      <td>Stray</td>\n",
       "      <td>Runster</td>\n",
       "      <td>Intact Male</td>\n",
       "    </tr>\n",
       "    <tr>\n",
       "      <th>2</th>\n",
       "      <td>4 weeks</td>\n",
       "      <td>A665644</td>\n",
       "      <td>Cat</td>\n",
       "      <td>Domestic Shorthair Mix</td>\n",
       "      <td>Calico</td>\n",
       "      <td>2013-10-21T07:59:00.000</td>\n",
       "      <td>2013-10-21T07:59:00.000</td>\n",
       "      <td>Austin (TX)</td>\n",
       "      <td>Sick</td>\n",
       "      <td>Stray</td>\n",
       "      <td>NaN</td>\n",
       "      <td>Intact Female</td>\n",
       "    </tr>\n",
       "    <tr>\n",
       "      <th>3</th>\n",
       "      <td>4 years</td>\n",
       "      <td>A682524</td>\n",
       "      <td>Dog</td>\n",
       "      <td>Doberman Pinsch/Australian Cattle Dog</td>\n",
       "      <td>Tan/Gray</td>\n",
       "      <td>2014-06-29T10:38:00.000</td>\n",
       "      <td>2014-06-29T10:38:00.000</td>\n",
       "      <td>800 Grove Blvd in Austin (TX)</td>\n",
       "      <td>Normal</td>\n",
       "      <td>Stray</td>\n",
       "      <td>Rio</td>\n",
       "      <td>Neutered Male</td>\n",
       "    </tr>\n",
       "    <tr>\n",
       "      <th>4</th>\n",
       "      <td>2 years</td>\n",
       "      <td>A743852</td>\n",
       "      <td>Dog</td>\n",
       "      <td>Labrador Retriever Mix</td>\n",
       "      <td>Chocolate</td>\n",
       "      <td>2017-02-18T12:46:00.000</td>\n",
       "      <td>2017-02-18T12:46:00.000</td>\n",
       "      <td>Austin (TX)</td>\n",
       "      <td>Normal</td>\n",
       "      <td>Owner Surrender</td>\n",
       "      <td>Odin</td>\n",
       "      <td>Neutered Male</td>\n",
       "    </tr>\n",
       "  </tbody>\n",
       "</table>\n",
       "</div>"
      ],
      "text/plain": [
       "  age_upon_intake animal_id animal_type  \\\n",
       "0         8 years   A706918         Dog   \n",
       "1       11 months   A724273         Dog   \n",
       "2         4 weeks   A665644         Cat   \n",
       "3         4 years   A682524         Dog   \n",
       "4         2 years   A743852         Dog   \n",
       "\n",
       "                                   breed        color  \\\n",
       "0               English Springer Spaniel  White/Liver   \n",
       "1                            Basenji Mix  Sable/White   \n",
       "2                 Domestic Shorthair Mix       Calico   \n",
       "3  Doberman Pinsch/Australian Cattle Dog     Tan/Gray   \n",
       "4                 Labrador Retriever Mix    Chocolate   \n",
       "\n",
       "                  datetime                datetime2  \\\n",
       "0  2015-07-05T12:59:00.000  2015-07-05T12:59:00.000   \n",
       "1  2016-04-14T18:43:00.000  2016-04-14T18:43:00.000   \n",
       "2  2013-10-21T07:59:00.000  2013-10-21T07:59:00.000   \n",
       "3  2014-06-29T10:38:00.000  2014-06-29T10:38:00.000   \n",
       "4  2017-02-18T12:46:00.000  2017-02-18T12:46:00.000   \n",
       "\n",
       "                       found_location intake_condition      intake_type  \\\n",
       "0    9409 Bluegrass Dr in Austin (TX)           Normal            Stray   \n",
       "1  2818 Palomino Trail in Austin (TX)           Normal            Stray   \n",
       "2                         Austin (TX)             Sick            Stray   \n",
       "3       800 Grove Blvd in Austin (TX)           Normal            Stray   \n",
       "4                         Austin (TX)           Normal  Owner Surrender   \n",
       "\n",
       "      name sex_upon_intake  \n",
       "0    Belle   Spayed Female  \n",
       "1  Runster     Intact Male  \n",
       "2      NaN   Intact Female  \n",
       "3      Rio   Neutered Male  \n",
       "4     Odin   Neutered Male  "
      ]
     },
     "execution_count": 35,
     "metadata": {},
     "output_type": "execute_result"
    }
   ],
   "source": [
    "aac_intake.head()"
   ]
  },
  {
   "cell_type": "code",
   "execution_count": 36,
   "metadata": {
    "colab": {},
    "colab_type": "code",
    "id": "g9mchY6WfVdy"
   },
   "outputs": [
    {
     "data": {
      "text/html": [
       "<div>\n",
       "<style scoped>\n",
       "    .dataframe tbody tr th:only-of-type {\n",
       "        vertical-align: middle;\n",
       "    }\n",
       "\n",
       "    .dataframe tbody tr th {\n",
       "        vertical-align: top;\n",
       "    }\n",
       "\n",
       "    .dataframe thead th {\n",
       "        text-align: right;\n",
       "    }\n",
       "</style>\n",
       "<table border=\"1\" class=\"dataframe\">\n",
       "  <thead>\n",
       "    <tr style=\"text-align: right;\">\n",
       "      <th></th>\n",
       "      <th>age_upon_outcome</th>\n",
       "      <th>animal_id_outcome</th>\n",
       "      <th>date_of_birth</th>\n",
       "      <th>outcome_subtype</th>\n",
       "      <th>outcome_type</th>\n",
       "      <th>sex_upon_outcome</th>\n",
       "      <th>age_upon_outcome_(days)</th>\n",
       "      <th>age_upon_outcome_(years)</th>\n",
       "      <th>age_upon_outcome_age_group</th>\n",
       "      <th>outcome_datetime</th>\n",
       "      <th>...</th>\n",
       "      <th>age_upon_intake_age_group</th>\n",
       "      <th>intake_datetime</th>\n",
       "      <th>intake_month</th>\n",
       "      <th>intake_year</th>\n",
       "      <th>intake_monthyear</th>\n",
       "      <th>intake_weekday</th>\n",
       "      <th>intake_hour</th>\n",
       "      <th>intake_number</th>\n",
       "      <th>time_in_shelter</th>\n",
       "      <th>time_in_shelter_days</th>\n",
       "    </tr>\n",
       "  </thead>\n",
       "  <tbody>\n",
       "    <tr>\n",
       "      <th>0</th>\n",
       "      <td>10 years</td>\n",
       "      <td>A006100</td>\n",
       "      <td>2007-07-09 00:00:00</td>\n",
       "      <td>NaN</td>\n",
       "      <td>Return to Owner</td>\n",
       "      <td>Neutered Male</td>\n",
       "      <td>3650</td>\n",
       "      <td>10.0</td>\n",
       "      <td>(7.5, 10.0]</td>\n",
       "      <td>2017-12-07 14:07:00</td>\n",
       "      <td>...</td>\n",
       "      <td>(7.5, 10.0]</td>\n",
       "      <td>2017-12-07 00:00:00</td>\n",
       "      <td>12</td>\n",
       "      <td>2017</td>\n",
       "      <td>2017-12</td>\n",
       "      <td>Thursday</td>\n",
       "      <td>14</td>\n",
       "      <td>1.0</td>\n",
       "      <td>0 days 14:07:00.000000000</td>\n",
       "      <td>0.588194</td>\n",
       "    </tr>\n",
       "    <tr>\n",
       "      <th>1</th>\n",
       "      <td>7 years</td>\n",
       "      <td>A006100</td>\n",
       "      <td>2007-07-09 00:00:00</td>\n",
       "      <td>NaN</td>\n",
       "      <td>Return to Owner</td>\n",
       "      <td>Neutered Male</td>\n",
       "      <td>2555</td>\n",
       "      <td>7.0</td>\n",
       "      <td>(5.0, 7.5]</td>\n",
       "      <td>2014-12-20 16:35:00</td>\n",
       "      <td>...</td>\n",
       "      <td>(5.0, 7.5]</td>\n",
       "      <td>2014-12-19 10:21:00</td>\n",
       "      <td>12</td>\n",
       "      <td>2014</td>\n",
       "      <td>2014-12</td>\n",
       "      <td>Friday</td>\n",
       "      <td>10</td>\n",
       "      <td>2.0</td>\n",
       "      <td>1 days 06:14:00.000000000</td>\n",
       "      <td>1.259722</td>\n",
       "    </tr>\n",
       "    <tr>\n",
       "      <th>2</th>\n",
       "      <td>6 years</td>\n",
       "      <td>A006100</td>\n",
       "      <td>2007-07-09 00:00:00</td>\n",
       "      <td>NaN</td>\n",
       "      <td>Return to Owner</td>\n",
       "      <td>Neutered Male</td>\n",
       "      <td>2190</td>\n",
       "      <td>6.0</td>\n",
       "      <td>(5.0, 7.5]</td>\n",
       "      <td>2014-03-08 17:10:00</td>\n",
       "      <td>...</td>\n",
       "      <td>(5.0, 7.5]</td>\n",
       "      <td>2014-03-07 14:26:00</td>\n",
       "      <td>3</td>\n",
       "      <td>2014</td>\n",
       "      <td>2014-03</td>\n",
       "      <td>Friday</td>\n",
       "      <td>14</td>\n",
       "      <td>3.0</td>\n",
       "      <td>1 days 02:44:00.000000000</td>\n",
       "      <td>1.113889</td>\n",
       "    </tr>\n",
       "    <tr>\n",
       "      <th>3</th>\n",
       "      <td>10 years</td>\n",
       "      <td>A047759</td>\n",
       "      <td>2004-04-02 00:00:00</td>\n",
       "      <td>Partner</td>\n",
       "      <td>Transfer</td>\n",
       "      <td>Neutered Male</td>\n",
       "      <td>3650</td>\n",
       "      <td>10.0</td>\n",
       "      <td>(7.5, 10.0]</td>\n",
       "      <td>2014-04-07 15:12:00</td>\n",
       "      <td>...</td>\n",
       "      <td>(7.5, 10.0]</td>\n",
       "      <td>2014-04-02 15:55:00</td>\n",
       "      <td>4</td>\n",
       "      <td>2014</td>\n",
       "      <td>2014-04</td>\n",
       "      <td>Wednesday</td>\n",
       "      <td>15</td>\n",
       "      <td>1.0</td>\n",
       "      <td>4 days 23:17:00.000000000</td>\n",
       "      <td>4.970139</td>\n",
       "    </tr>\n",
       "    <tr>\n",
       "      <th>4</th>\n",
       "      <td>16 years</td>\n",
       "      <td>A134067</td>\n",
       "      <td>1997-10-16 00:00:00</td>\n",
       "      <td>NaN</td>\n",
       "      <td>Return to Owner</td>\n",
       "      <td>Neutered Male</td>\n",
       "      <td>5840</td>\n",
       "      <td>16.0</td>\n",
       "      <td>(15.0, 17.5]</td>\n",
       "      <td>2013-11-16 11:54:00</td>\n",
       "      <td>...</td>\n",
       "      <td>(15.0, 17.5]</td>\n",
       "      <td>2013-11-16 09:02:00</td>\n",
       "      <td>11</td>\n",
       "      <td>2013</td>\n",
       "      <td>2013-11</td>\n",
       "      <td>Saturday</td>\n",
       "      <td>9</td>\n",
       "      <td>1.0</td>\n",
       "      <td>0 days 02:52:00.000000000</td>\n",
       "      <td>0.119444</td>\n",
       "    </tr>\n",
       "  </tbody>\n",
       "</table>\n",
       "<p>5 rows × 41 columns</p>\n",
       "</div>"
      ],
      "text/plain": [
       "  age_upon_outcome animal_id_outcome        date_of_birth outcome_subtype  \\\n",
       "0         10 years           A006100  2007-07-09 00:00:00             NaN   \n",
       "1          7 years           A006100  2007-07-09 00:00:00             NaN   \n",
       "2          6 years           A006100  2007-07-09 00:00:00             NaN   \n",
       "3         10 years           A047759  2004-04-02 00:00:00         Partner   \n",
       "4         16 years           A134067  1997-10-16 00:00:00             NaN   \n",
       "\n",
       "      outcome_type sex_upon_outcome  age_upon_outcome_(days)  \\\n",
       "0  Return to Owner    Neutered Male                     3650   \n",
       "1  Return to Owner    Neutered Male                     2555   \n",
       "2  Return to Owner    Neutered Male                     2190   \n",
       "3         Transfer    Neutered Male                     3650   \n",
       "4  Return to Owner    Neutered Male                     5840   \n",
       "\n",
       "   age_upon_outcome_(years) age_upon_outcome_age_group     outcome_datetime  \\\n",
       "0                      10.0                (7.5, 10.0]  2017-12-07 14:07:00   \n",
       "1                       7.0                 (5.0, 7.5]  2014-12-20 16:35:00   \n",
       "2                       6.0                 (5.0, 7.5]  2014-03-08 17:10:00   \n",
       "3                      10.0                (7.5, 10.0]  2014-04-07 15:12:00   \n",
       "4                      16.0               (15.0, 17.5]  2013-11-16 11:54:00   \n",
       "\n",
       "   ...  age_upon_intake_age_group      intake_datetime intake_month  \\\n",
       "0  ...                (7.5, 10.0]  2017-12-07 00:00:00           12   \n",
       "1  ...                 (5.0, 7.5]  2014-12-19 10:21:00           12   \n",
       "2  ...                 (5.0, 7.5]  2014-03-07 14:26:00            3   \n",
       "3  ...                (7.5, 10.0]  2014-04-02 15:55:00            4   \n",
       "4  ...               (15.0, 17.5]  2013-11-16 09:02:00           11   \n",
       "\n",
       "  intake_year  intake_monthyear  intake_weekday  intake_hour  intake_number  \\\n",
       "0        2017           2017-12        Thursday           14            1.0   \n",
       "1        2014           2014-12          Friday           10            2.0   \n",
       "2        2014           2014-03          Friday           14            3.0   \n",
       "3        2014           2014-04       Wednesday           15            1.0   \n",
       "4        2013           2013-11        Saturday            9            1.0   \n",
       "\n",
       "             time_in_shelter time_in_shelter_days  \n",
       "0  0 days 14:07:00.000000000             0.588194  \n",
       "1  1 days 06:14:00.000000000             1.259722  \n",
       "2  1 days 02:44:00.000000000             1.113889  \n",
       "3  4 days 23:17:00.000000000             4.970139  \n",
       "4  0 days 02:52:00.000000000             0.119444  \n",
       "\n",
       "[5 rows x 41 columns]"
      ]
     },
     "execution_count": 36,
     "metadata": {},
     "output_type": "execute_result"
    }
   ],
   "source": [
    "aac_outake.head()"
   ]
  },
  {
   "cell_type": "code",
   "execution_count": 37,
   "metadata": {
    "colab": {},
    "colab_type": "code",
    "id": "meAchgfAcCYz"
   },
   "outputs": [
    {
     "data": {
      "text/plain": [
       "Index(['age_upon_intake', 'animal_id', 'animal_type', 'breed', 'color',\n",
       "       'datetime', 'datetime2', 'found_location', 'intake_condition',\n",
       "       'intake_type', 'name', 'sex_upon_intake'],\n",
       "      dtype='object')"
      ]
     },
     "execution_count": 37,
     "metadata": {},
     "output_type": "execute_result"
    }
   ],
   "source": [
    "aac_intake.columns"
   ]
  },
  {
   "cell_type": "code",
   "execution_count": 38,
   "metadata": {
    "colab": {},
    "colab_type": "code",
    "id": "esdMXw67hCuZ"
   },
   "outputs": [
    {
     "data": {
      "text/plain": [
       "age_upon_intake     object\n",
       "animal_id           object\n",
       "animal_type         object\n",
       "breed               object\n",
       "color               object\n",
       "datetime            object\n",
       "datetime2           object\n",
       "found_location      object\n",
       "intake_condition    object\n",
       "intake_type         object\n",
       "name                object\n",
       "sex_upon_intake     object\n",
       "dtype: object"
      ]
     },
     "execution_count": 38,
     "metadata": {},
     "output_type": "execute_result"
    }
   ],
   "source": [
    "aac_intake.dtypes"
   ]
  },
  {
   "cell_type": "code",
   "execution_count": 39,
   "metadata": {
    "colab": {},
    "colab_type": "code",
    "id": "gLaNoQOhGU5R"
   },
   "outputs": [
    {
     "data": {
      "text/plain": [
       "age_upon_outcome               object\n",
       "animal_id_outcome              object\n",
       "date_of_birth                  object\n",
       "outcome_subtype                object\n",
       "outcome_type                   object\n",
       "sex_upon_outcome               object\n",
       "age_upon_outcome_(days)         int64\n",
       "age_upon_outcome_(years)      float64\n",
       "age_upon_outcome_age_group     object\n",
       "outcome_datetime               object\n",
       "outcome_month                   int64\n",
       "outcome_year                    int64\n",
       "outcome_monthyear              object\n",
       "outcome_weekday                object\n",
       "outcome_hour                    int64\n",
       "outcome_number                float64\n",
       "dob_year                        int64\n",
       "dob_month                       int64\n",
       "dob_monthyear                  object\n",
       "age_upon_intake                object\n",
       "animal_id_intake               object\n",
       "animal_type                    object\n",
       "breed                          object\n",
       "color                          object\n",
       "found_location                 object\n",
       "intake_condition               object\n",
       "intake_type                    object\n",
       "sex_upon_intake                object\n",
       "count                           int64\n",
       "age_upon_intake_(days)          int64\n",
       "age_upon_intake_(years)       float64\n",
       "age_upon_intake_age_group      object\n",
       "intake_datetime                object\n",
       "intake_month                    int64\n",
       "intake_year                     int64\n",
       "intake_monthyear               object\n",
       "intake_weekday                 object\n",
       "intake_hour                     int64\n",
       "intake_number                 float64\n",
       "time_in_shelter                object\n",
       "time_in_shelter_days          float64\n",
       "dtype: object"
      ]
     },
     "execution_count": 39,
     "metadata": {},
     "output_type": "execute_result"
    }
   ],
   "source": [
    "aac_outake.dtypes"
   ]
  },
  {
   "cell_type": "markdown",
   "metadata": {
    "colab_type": "text",
    "id": "PLipDOFzGZ8F"
   },
   "source": [
    "# Exam the data"
   ]
  },
  {
   "cell_type": "markdown",
   "metadata": {
    "colab_type": "text",
    "id": "yhToNXLyGdNC"
   },
   "source": [
    "Check for null values"
   ]
  },
  {
   "cell_type": "code",
   "execution_count": 40,
   "metadata": {
    "colab": {},
    "colab_type": "code",
    "id": "sVk0zmgNgDRu"
   },
   "outputs": [
    {
     "name": "stdout",
     "output_type": "stream",
     "text": [
      "age_upon_intake: 0\n",
      "animal_type: 0\n",
      "intake_condition: 0\n",
      "intake_type: 0\n",
      "datetime: 0\n"
     ]
    }
   ],
   "source": [
    "n = len(aac_intake)\n",
    "print(\"age_upon_intake: \"+ str(n-aac_intake['age_upon_intake'].isnull().value_counts().values.tolist()[0]))\n",
    "print(\"animal_type: \"+str(n-aac_intake['animal_type'].isnull().value_counts().values.tolist()[0]))\n",
    "print(\"intake_condition: \"+ str(n-aac_intake['intake_condition'].isnull().value_counts().values.tolist()[0]))\n",
    "print(\"intake_type: \"+str(n-aac_intake['intake_type'].isnull().value_counts().values.tolist()[0]))\n",
    "print(\"datetime: \"+str(n-aac_intake['datetime'].isnull().value_counts().values.tolist()[0]))"
   ]
  },
  {
   "cell_type": "code",
   "execution_count": 41,
   "metadata": {
    "colab": {},
    "colab_type": "code",
    "id": "QgwLV9EOwlIy"
   },
   "outputs": [
    {
     "name": "stdout",
     "output_type": "stream",
     "text": [
      "time_in_shelter_days: 0\n",
      "age_upon_intake_(years): 0\n",
      "age_upon_intake_(years): 0\n"
     ]
    }
   ],
   "source": [
    "n = len(aac_outake)\n",
    "print(\"time_in_shelter_days: \"+str(n-aac_outake['time_in_shelter_days'].isnull().value_counts().values.tolist()[0]))\n",
    "print(\"age_upon_intake_(years): \"+str(n-aac_outake['age_upon_intake_(years)'].isnull().value_counts().values.tolist()[0]))\n",
    "print(\"age_upon_intake_(years): \"+str(n-aac_outake['age_upon_intake_(days)'].isnull().value_counts().values.tolist()[0]))"
   ]
  },
  {
   "cell_type": "markdown",
   "metadata": {
    "colab_type": "text",
    "id": "J1RC76NLikA1"
   },
   "source": [
    "# Data Preprocssing "
   ]
  },
  {
   "cell_type": "markdown",
   "metadata": {
    "colab_type": "text",
    "id": "2CxT9WHRisCL"
   },
   "source": [
    "Unify age upon intake to days"
   ]
  },
  {
   "cell_type": "code",
   "execution_count": 42,
   "metadata": {
    "colab": {},
    "colab_type": "code",
    "id": "0Xko81bdgYfr"
   },
   "outputs": [],
   "source": [
    "def change_intake_age(i):\n",
    "  i,j = i.split()\n",
    "  if 'day' in j:\n",
    "    k = int(i)\n",
    "  elif 'week' in j:\n",
    "    k = int(i)*7\n",
    "  elif 'month' in j:\n",
    "    k = int(i)*30\n",
    "  elif 'year' in j:\n",
    "    k = int(i)*365\n",
    "  return k\n",
    "\n",
    "aac_intake['age_upon_intake'] = aac_intake['age_upon_intake'].apply(lambda x: change_intake_age(x))\n",
    "# aac_outake['age_upon_intake'] = aac_outake['age_upon_intake'].apply(lambda x: change_intake_age(x))\n",
    " "
   ]
  },
  {
   "cell_type": "markdown",
   "metadata": {
    "colab_type": "text",
    "id": "_KtN_KgPjCHi"
   },
   "source": [
    "Unify age upon intake to months"
   ]
  },
  {
   "cell_type": "code",
   "execution_count": 43,
   "metadata": {
    "colab": {},
    "colab_type": "code",
    "id": "X_QCewIFv8jm"
   },
   "outputs": [],
   "source": [
    "filename = './aac_intakes.csv'\n",
    "aac_intake = pd.read_csv(filename)\n",
    "\n",
    "filename = './aac_intakes_outcomes.csv'\n",
    "aac_outake = pd.read_csv(filename)\n",
    "\n",
    "def change_intake_age_month(i):\n",
    "  i,j = i.split()\n",
    "  if 'day' in j:\n",
    "    k = float(i)/30\n",
    "  elif 'week' in j:\n",
    "    k = float(i)/4\n",
    "  elif 'month' in j:\n",
    "    k = float(i)\n",
    "  elif 'year' in j:\n",
    "    k = float(i)*12\n",
    "  return k\n",
    "\n",
    "# aac_intake['age_upon_intake'] = aac_intake['age_upon_intake'].apply(lambda x: change_intake_age(x))\n",
    "aac_outake['age_upon_intake'] = aac_outake['age_upon_intake'].apply(lambda x: change_intake_age_month(x))\n",
    " "
   ]
  },
  {
   "cell_type": "markdown",
   "metadata": {
    "colab_type": "text",
    "id": "hWxK24snjPHZ"
   },
   "source": [
    "# Data Visualization"
   ]
  },
  {
   "cell_type": "code",
   "execution_count": 44,
   "metadata": {
    "colab": {},
    "colab_type": "code",
    "id": "dic9xh7DtzBv"
   },
   "outputs": [
    {
     "data": {
      "text/plain": [
       "[<matplotlib.lines.Line2D at 0x136ed29e8>]"
      ]
     },
     "execution_count": 44,
     "metadata": {},
     "output_type": "execute_result"
    },
    {
     "data": {
      "image/png": "[encoded data removed]",
      "text/plain": [
       "<Figure size 432x288 with 1 Axes>"
      ]
     },
     "metadata": {
      "needs_background": "light"
     },
     "output_type": "display_data"
    }
   ],
   "source": [
    "plt.plot(aac_outake['age_upon_intake'],aac_outake['time_in_shelter_days'],'b.')"
   ]
  },
  {
   "cell_type": "code",
   "execution_count": 45,
   "metadata": {
    "colab": {},
    "colab_type": "code",
    "id": "jxIUUlAJoh66"
   },
   "outputs": [
    {
     "name": "stdout",
     "output_type": "stream",
     "text": [
      "animal_type Unique Values :  ['Bird' 'Cat' 'Dog' 'Livestock' 'Other']\n",
      "animal_type Occurrence Count :  [  342 29659 45743     9  4434]\n"
     ]
    },
    {
     "data": {
      "text/plain": [
       "<matplotlib.axes._subplots.AxesSubplot at 0x1258a5080>"
      ]
     },
     "execution_count": 45,
     "metadata": {},
     "output_type": "execute_result"
    },
    {
     "data": {
      "image/png": "[encoded data removed]",
      "text/plain": [
       "<Figure size 432x288 with 1 Axes>"
      ]
     },
     "metadata": {
      "needs_background": "light"
     },
     "output_type": "display_data"
    }
   ],
   "source": [
    "animal_type_uniqueValues, animal_type_occurCount = np.unique(aac_intake.animal_type, return_counts=True)\n",
    "print(\"animal_type Unique Values : \" , animal_type_uniqueValues)\n",
    "print(\"animal_type Occurrence Count : \", animal_type_occurCount)\n",
    "sns.barplot(animal_type_uniqueValues, animal_type_occurCount)"
   ]
  },
  {
   "cell_type": "code",
   "execution_count": 47,
   "metadata": {
    "colab": {},
    "colab_type": "code",
    "id": "2ggx3nyvpFDJ"
   },
   "outputs": [
    {
     "name": "stdout",
     "output_type": "stream",
     "text": [
      "intake_condition Unique Values :  ['Aged' 'Feral' 'Injured' 'Normal' 'Nursing' 'Other' 'Pregnant' 'Sick']\n",
      "intake_condition Occurrence Count :  [  322    92  4023 70520  1925   149    49  3107]\n"
     ]
    }
   ],
   "source": [
    "intake_condition_uniqueValues, intake_condition_occurCount = np.unique(aac_intake.intake_condition, return_counts=True)\n",
    "print(\"intake_condition Unique Values : \" , intake_condition_uniqueValues)\n",
    "print(\"intake_condition Occurrence Count : \", intake_condition_occurCount)\n",
    "# intake_condition_plot = sns.barplot(intake_condition_uniqueValues,intake_condition_occurCount)"
   ]
  },
  {
   "cell_type": "code",
   "execution_count": 48,
   "metadata": {
    "colab": {},
    "colab_type": "code",
    "id": "yTDf1ZeUpNIx"
   },
   "outputs": [
    {
     "name": "stdout",
     "output_type": "stream",
     "text": [
      "intake_type Unique Values :  ['Euthanasia Request' 'Owner Surrender' 'Public Assist' 'Stray' 'Wildlife']\n",
      "intake_type Occurrence Count :  [  251 15156  5033 56280  3467]\n"
     ]
    }
   ],
   "source": [
    "intake_type_uniqueValues, intake_type_occurCount = np.unique(aac_intake.intake_type, return_counts=True)\n",
    "print(\"intake_type Unique Values : \" , intake_type_uniqueValues)\n",
    "print(\"intake_type Occurrence Count : \", intake_type_occurCount)\n",
    "# intake_type_plot = sns.barplot(intake_type_uniqueValues, intake_type_occurCount)\n",
    "# intake_type_plot.set_xticklabels(intake_type.get_xticklabels(),rotation=45)"
   ]
  },
  {
   "cell_type": "markdown",
   "metadata": {
    "colab_type": "text",
    "id": "cAkriVRjpHtV"
   },
   "source": [
    "Convert DateTime to only month"
   ]
  },
  {
   "cell_type": "code",
   "execution_count": 49,
   "metadata": {
    "colab": {},
    "colab_type": "code",
    "id": "jn72CrHwnjey"
   },
   "outputs": [],
   "source": [
    "aac_intake.datetime = aac_intake.datetime.apply(lambda x:int(x.split('-')[1])) "
   ]
  },
  {
   "cell_type": "code",
   "execution_count": 50,
   "metadata": {
    "colab": {},
    "colab_type": "code",
    "id": "5aKz8qWhvjOU"
   },
   "outputs": [
    {
     "name": "stdout",
     "output_type": "stream",
     "text": [
      "datetime Unique Values :  [ 1  2  3  4  5  6  7  8  9 10 11 12]\n",
      "datetime Occurrence Count :  [6025 5750 6842 6119 7976 7473 6550 6511 6507 7674 6629 6131]\n"
     ]
    }
   ],
   "source": [
    "datetime_uniqueValues, datetime_occurCount = np.unique(aac_intake.datetime, return_counts=True)\n",
    "print(\"datetime Unique Values : \" , datetime_uniqueValues)\n",
    "print(\"datetime Occurrence Count : \", datetime_occurCount)\n",
    "# datetime_plot = sns.barplot(datetime_uniqueValues, datetime_occurCount)"
   ]
  },
  {
   "cell_type": "code",
   "execution_count": 51,
   "metadata": {
    "colab": {},
    "colab_type": "code",
    "id": "wubvgX4RIekP"
   },
   "outputs": [
    {
     "data": {
      "image/png": "[encoded data removed]",
      "text/plain": [
       "<Figure size 1080x720 with 4 Axes>"
      ]
     },
     "metadata": {
      "needs_background": "light"
     },
     "output_type": "display_data"
    }
   ],
   "source": [
    "f, axes = plt.subplots(2, 2,figsize=(15,10))\n",
    "sns.barplot(animal_type_uniqueValues, animal_type_occurCount,ax=axes[0,0])\n",
    "axes[0,0].title.set_text(\"animal_type\") \n",
    "sns.barplot(intake_condition_uniqueValues,intake_condition_occurCount,ax = axes[0,1])\n",
    "axes[0,1].title.set_text(\"intake_condition\") \n",
    "sns.barplot(intake_type_uniqueValues, intake_type_occurCount,ax = axes[1,0])\n",
    "axes[1,0].set_xticklabels(axes[1,0].get_xticklabels(),rotation=45)\n",
    "axes[1,0].title.set_text(\"intake_type\")\n",
    "sns.barplot(datetime_uniqueValues, datetime_occurCount,ax = axes[1,1])\n",
    "axes[1,1].title.set_text(\"datetime\")\n",
    "plt.tight_layout()"
   ]
  },
  {
   "cell_type": "markdown",
   "metadata": {
    "colab_type": "text",
    "id": "wxzVV5t0XZTP"
   },
   "source": [
    "# Convert String columns to useful numeric features"
   ]
  },
  {
   "cell_type": "markdown",
   "metadata": {
    "colab_type": "text",
    "id": "Zm-G1UfOjaA7"
   },
   "source": [
    "Convert intake_condition to scale 0-10"
   ]
  },
  {
   "cell_type": "code",
   "execution_count": 52,
   "metadata": {
    "colab": {},
    "colab_type": "code",
    "id": "LQqjyVdITY1C"
   },
   "outputs": [
    {
     "data": {
      "text/plain": [
       "Normal      70056\n",
       "Injured      3997\n",
       "Sick         3099\n",
       "Nursing      1915\n",
       "Aged          319\n",
       "Other         147\n",
       "Feral          92\n",
       "Pregnant       47\n",
       "Name: intake_condition, dtype: int64"
      ]
     },
     "execution_count": 52,
     "metadata": {},
     "output_type": "execute_result"
    }
   ],
   "source": [
    "aac_outake[\"intake_condition\"].value_counts()"
   ]
  },
  {
   "cell_type": "code",
   "execution_count": 53,
   "metadata": {
    "colab": {},
    "colab_type": "code",
    "id": "KEhbUBdnTiq1"
   },
   "outputs": [],
   "source": [
    "intake_condition_nums = {\"Normal\": 10, \"Injured\": 8, \"Sick\": 6, \"Nursing\": 7,\n",
    "                                  \"Aged\": 9, \"Other\": 3, \"Feral\":2,\"Pregnant\":5}\n",
    "aac_outake.intake_condition.replace(intake_condition_nums, inplace=True)"
   ]
  },
  {
   "cell_type": "markdown",
   "metadata": {
    "colab_type": "text",
    "id": "t9t0QPNAjmy8"
   },
   "source": [
    "Convert intake_type to scale 1-5"
   ]
  },
  {
   "cell_type": "code",
   "execution_count": 54,
   "metadata": {
    "colab": {},
    "colab_type": "code",
    "id": "CNvFfmm1Ujkf"
   },
   "outputs": [
    {
     "data": {
      "text/plain": [
       "Stray                 55935\n",
       "Owner Surrender       15028\n",
       "Public Assist          4994\n",
       "Wildlife               3464\n",
       "Euthanasia Request      251\n",
       "Name: intake_type, dtype: int64"
      ]
     },
     "execution_count": 54,
     "metadata": {},
     "output_type": "execute_result"
    }
   ],
   "source": [
    "aac_outake.intake_type.value_counts()"
   ]
  },
  {
   "cell_type": "code",
   "execution_count": 55,
   "metadata": {
    "colab": {},
    "colab_type": "code",
    "id": "4hwtJ6eOUmwR"
   },
   "outputs": [],
   "source": [
    "intake_type_nums = {\"Stray\": 3, \"Owner Surrender\": 4, \"Public Assist\": 5, \"Wildlife\": 2,\n",
    "                                  \"Euthanasia Request\": 1}\n",
    "aac_outake.intake_type.replace(intake_type_nums, inplace=True)"
   ]
  },
  {
   "cell_type": "markdown",
   "metadata": {
    "colab_type": "text",
    "id": "Wwbtl_hOjwFW"
   },
   "source": [
    "Convert animal_type to scale 0-5"
   ]
  },
  {
   "cell_type": "code",
   "execution_count": 56,
   "metadata": {
    "colab": {},
    "colab_type": "code",
    "id": "W-g8siVKds5n"
   },
   "outputs": [
    {
     "data": {
      "text/plain": [
       "Dog      45366\n",
       "Cat      29539\n",
       "Other     4428\n",
       "Bird       339\n",
       "Name: animal_type, dtype: int64"
      ]
     },
     "execution_count": 56,
     "metadata": {},
     "output_type": "execute_result"
    }
   ],
   "source": [
    "aac_outake.animal_type.value_counts()"
   ]
  },
  {
   "cell_type": "code",
   "execution_count": 57,
   "metadata": {
    "colab": {},
    "colab_type": "code",
    "id": "QSTgdzcfd-Z8"
   },
   "outputs": [],
   "source": [
    "animal_type_nums = {\"Dog\": 3, \"Cat\": 4, \"Other\": 0, \"Bird\": 1}\n",
    "aac_outake.animal_type.replace(animal_type_nums, inplace=True)"
   ]
  },
  {
   "cell_type": "markdown",
   "metadata": {
    "colab_type": "text",
    "id": "CBNfcJeRXVQ4"
   },
   "source": [
    "# Train Model"
   ]
  },
  {
   "cell_type": "markdown",
   "metadata": {
    "colab_type": "text",
    "id": "KxxZZvx8kBp5"
   },
   "source": [
    "**Linear Regression model**\n",
    "\n",
    "Use age_upon_intake_(days), intake_condition, intake_type, animal_type as features"
   ]
  },
  {
   "cell_type": "code",
   "execution_count": 58,
   "metadata": {
    "colab": {},
    "colab_type": "code",
    "id": "xF3iamjtpj5O"
   },
   "outputs": [],
   "source": [
    "from sklearn.model_selection import train_test_split\n",
    "\n",
    "xTrain, xTest, yTrain, yTest = train_test_split(\n",
    "    aac_outake[['age_upon_intake_(days)','intake_condition','intake_type','animal_type']], \n",
    "                                                aac_outake['time_in_shelter_days'],\n",
    "                                                test_size = 0.2, random_state = 0)"
   ]
  },
  {
   "cell_type": "markdown",
   "metadata": {
    "colab_type": "text",
    "id": "zpSA_B4wkWa2"
   },
   "source": [
    "Train the model"
   ]
  },
  {
   "cell_type": "code",
   "execution_count": 59,
   "metadata": {
    "colab": {},
    "colab_type": "code",
    "id": "tBiZltW2rOCf"
   },
   "outputs": [
    {
     "data": {
      "text/plain": [
       "(array([ 1.46422852e-03, -5.08748992e-01,  2.49555996e+00,  3.72259596e+00]),\n",
       " 0.5522524022388993)"
      ]
     },
     "execution_count": 59,
     "metadata": {},
     "output_type": "execute_result"
    }
   ],
   "source": [
    "from sklearn.linear_model import LinearRegression\n",
    "\n",
    "lin_reg = LinearRegression(normalize = True)\n",
    "lin_reg.fit(xTrain, yTrain)\n",
    "lin_reg.coef_, lin_reg.intercept_\n"
   ]
  },
  {
   "cell_type": "markdown",
   "metadata": {
    "colab_type": "text",
    "id": "P99b_aF3kYtD"
   },
   "source": [
    "Score the model"
   ]
  },
  {
   "cell_type": "code",
   "execution_count": 60,
   "metadata": {
    "colab": {},
    "colab_type": "code",
    "id": "exJOqp95rfmD"
   },
   "outputs": [
    {
     "data": {
      "text/plain": [
       "39.88665993551416"
      ]
     },
     "execution_count": 60,
     "metadata": {},
     "output_type": "execute_result"
    }
   ],
   "source": [
    "from sklearn.metrics import mean_squared_error\n",
    "from math import sqrt\n",
    "\n",
    "# rmse for test data\n",
    "days_predict = lin_reg.predict(xTest)\n",
    "rmse = sqrt(mean_squared_error(yTest, days_predict))\n",
    "rmse"
   ]
  },
  {
   "cell_type": "code",
   "execution_count": 61,
   "metadata": {
    "colab": {},
    "colab_type": "code",
    "id": "eFmujlrtXjvX"
   },
   "outputs": [
    {
     "data": {
      "text/plain": [
       "16.8146413420577"
      ]
     },
     "execution_count": 61,
     "metadata": {},
     "output_type": "execute_result"
    }
   ],
   "source": [
    "days_predict.mean()"
   ]
  },
  {
   "cell_type": "code",
   "execution_count": 62,
   "metadata": {
    "colab": {},
    "colab_type": "code",
    "id": "kkxb9wU-XvWn"
   },
   "outputs": [
    {
     "data": {
      "text/plain": [
       "41.452278095879365"
      ]
     },
     "execution_count": 62,
     "metadata": {},
     "output_type": "execute_result"
    }
   ],
   "source": [
    "# rmse for whole data\n",
    "days_predict = lin_reg.predict(aac_outake[['age_upon_intake_(days)','intake_condition','intake_type','animal_type']])\n",
    "rmse = sqrt(mean_squared_error(aac_outake['time_in_shelter_days'], days_predict))\n",
    "rmse"
   ]
  },
  {
   "cell_type": "code",
   "execution_count": 63,
   "metadata": {
    "colab": {},
    "colab_type": "code",
    "id": "-j6Fk_5ocexT"
   },
   "outputs": [
    {
     "data": {
      "text/plain": [
       "0.010854483198980303"
      ]
     },
     "execution_count": 63,
     "metadata": {},
     "output_type": "execute_result"
    }
   ],
   "source": [
    "lin_reg.score(aac_outake[['age_upon_intake_(days)','intake_condition','intake_type','animal_type']],aac_outake['time_in_shelter_days'])"
   ]
  },
  {
   "cell_type": "markdown",
   "metadata": {
    "colab_type": "text",
    "id": "WAMnd8wGgO9H"
   },
   "source": [
    "**SGD Regression**\n",
    "\n",
    "Use age_upon_intake_(days), intake_condition, intake_type, animal_type as features"
   ]
  },
  {
   "cell_type": "code",
   "execution_count": 64,
   "metadata": {
    "colab": {},
    "colab_type": "code",
    "id": "fb9BDLcDWyQl"
   },
   "outputs": [],
   "source": [
    "from sklearn.model_selection import train_test_split\n",
    "\n",
    "xTrain, xTest, yTrain, yTest = train_test_split(\n",
    "    aac_outake[['age_upon_intake_(years)','intake_condition','intake_type','animal_type']], \n",
    "                                                aac_outake['time_in_shelter_days'],\n",
    "                                                test_size = 0.2, random_state = 0)"
   ]
  },
  {
   "cell_type": "markdown",
   "metadata": {
    "colab_type": "text",
    "id": "eNzWDJ-zko80"
   },
   "source": [
    "Train the model"
   ]
  },
  {
   "cell_type": "code",
   "execution_count": 65,
   "metadata": {
    "colab": {},
    "colab_type": "code",
    "id": "VLjPVtjLLj4V"
   },
   "outputs": [
    {
     "name": "stderr",
     "output_type": "stream",
     "text": [
      "/Users/dorishuang/anaconda3/lib/python3.6/site-packages/sklearn/linear_model/stochastic_gradient.py:1185: ConvergenceWarning: Maximum number of iteration reached before convergence. Consider increasing max_iter to improve the fit.\n",
      "  ConvergenceWarning)\n"
     ]
    },
    {
     "data": {
      "text/plain": [
       "(array([ 0.50530706, -0.69279282,  2.72737136,  3.32208095]),\n",
       " array([0.57750425]))"
      ]
     },
     "execution_count": 65,
     "metadata": {},
     "output_type": "execute_result"
    }
   ],
   "source": [
    "from sklearn.linear_model import SGDRegressor\n",
    "\n",
    "# Create a new Stochastic Gradient Descent regressor\n",
    "sgd_reg = SGDRegressor(max_iter = 17)\n",
    "\n",
    "# Fit the model\n",
    "sgd_reg.fit(xTrain, yTrain)\n",
    "\n",
    "# Display the slope and intercept\n",
    "sgd_reg.coef_, sgd_reg.intercept_"
   ]
  },
  {
   "cell_type": "markdown",
   "metadata": {
    "colab_type": "text",
    "id": "EZxF_XRykq5a"
   },
   "source": [
    "Score the model"
   ]
  },
  {
   "cell_type": "code",
   "execution_count": 66,
   "metadata": {
    "colab": {},
    "colab_type": "code",
    "id": "UVdBedcdWpHd"
   },
   "outputs": [
    {
     "data": {
      "text/plain": [
       "39.94404679927023"
      ]
     },
     "execution_count": 66,
     "metadata": {},
     "output_type": "execute_result"
    }
   ],
   "source": [
    "# rmse for test data\n",
    "days_predict = sgd_reg.predict(xTest)\n",
    "rmse = sqrt(mean_squared_error(yTest, days_predict))\n",
    "rmse"
   ]
  },
  {
   "cell_type": "code",
   "execution_count": 67,
   "metadata": {
    "colab": {},
    "colab_type": "code",
    "id": "LD4FE69pYZgd"
   },
   "outputs": [
    {
     "data": {
      "text/plain": [
       "41.517608456934894"
      ]
     },
     "execution_count": 67,
     "metadata": {},
     "output_type": "execute_result"
    }
   ],
   "source": [
    "# rmse for whole data\n",
    "days_predict = sgd_reg.predict(aac_outake[['age_upon_intake_(years)','intake_condition','intake_type','animal_type']])\n",
    "rmse = sqrt(mean_squared_error(aac_outake['time_in_shelter_days'], days_predict))\n",
    "rmse"
   ]
  },
  {
   "cell_type": "code",
   "execution_count": 68,
   "metadata": {
    "colab": {},
    "colab_type": "code",
    "id": "3iyZO1pxcstP"
   },
   "outputs": [
    {
     "data": {
      "text/plain": [
       "0.007734164631395869"
      ]
     },
     "execution_count": 68,
     "metadata": {},
     "output_type": "execute_result"
    }
   ],
   "source": [
    "sgd_reg.score(aac_outake[['age_upon_intake_(years)','intake_condition','intake_type','animal_type']],aac_outake['time_in_shelter_days'])"
   ]
  },
  {
   "cell_type": "markdown",
   "metadata": {
    "colab_type": "text",
    "id": "B2OkbjaHmicA"
   },
   "source": [
    "**Iterations**\n",
    "\n",
    "Record different attempts at model configurations here:\n",
    "\n",
    "| Model                        | Parameters                | Score         |\n",
    "|------------------------------|---------------------------|---------------|\n",
    "| sklearn LinearRegressor      | none                      | R^2 = 0.010854 |\n",
    "| sklearn SGDRegressor         |max_iter = 17 | R^2 = 0.010355 |"
   ]
  },
  {
   "cell_type": "markdown",
   "metadata": {
    "colab_type": "text",
    "id": "oxXecyKaKI4z"
   },
   "source": [
    "## Exercise 2: Ethical Implications"
   ]
  },
  {
   "cell_type": "markdown",
   "metadata": {
    "colab_type": "text",
    "id": "uK8XzfVHLi1K"
   },
   "source": [
    "Even the most basic of models have the potential to affect segments of the population in different ways. It is important to consider how your model might positively and negative effect different types of users.\n",
    "\n",
    "In this section of the project you will reflect on the positive and negative implications of your model."
   ]
  },
  {
   "cell_type": "markdown",
   "metadata": {
    "colab_type": "text",
    "id": "ezdLjd0BKeDF"
   },
   "source": [
    "### Student Solution"
   ]
  },
  {
   "cell_type": "markdown",
   "metadata": {
    "colab_type": "text",
    "id": "_U3L0F9FLmwa"
   },
   "source": [
    "**Positive Impact**\n",
    "\n",
    "Your model is trying to solve a problem. Think about who will benefit from that problem being solved and write a brief narrative about how the model will help.\n",
    "\n",
    "---"
   ]
  },
  {
   "cell_type": "markdown",
   "metadata": {
    "colab_type": "text",
    "id": "g582VerYL0so"
   },
   "source": [
    "Animals who are less likely to be adopted could benefit from our model. Our model shows that animals might be more likely to be discriminated against because of their age, condition and type upon entering the shelter. By highlighting discrimination, staff can take appropriate measures to promote the adoption of animals that might spend more time in the shelter than their counterparts."
   ]
  },
  {
   "cell_type": "markdown",
   "metadata": {
    "colab_type": "text",
    "id": "ALr018eQMuUw"
   },
   "source": [
    "**Negative Impact**\n",
    "\n",
    "Models don't often have universal benefit. Think about who might be negatively impacted by the predictions your model is making. This person or persons might not be directly using the model, but instead might be impacted indirectly.\n",
    "\n",
    "---"
   ]
  },
  {
   "cell_type": "markdown",
   "metadata": {
    "colab_type": "text",
    "id": "We8_W4WtNDLw"
   },
   "source": [
    "Animals with a normal intake condition might be less likely to be adopted due to our model. This is because our model uses an arbitrary scale that rates the normal intake condition higher than all other conditions. Therefore, the shelter staff may make less of an effort to promote the adoption of animals in this group."
   ]
  },
  {
   "cell_type": "markdown",
   "metadata": {
    "colab_type": "text",
    "id": "07J-8ljpL85I"
   },
   "source": [
    "**Bias**\n",
    "\n",
    "Models can be bias for many reasons. The bias can come from the data used to build the model (eg. sampling, data collection methods, available sources) and from the interpretation of the predictions generated by the model.\n",
    "\n",
    "Think of at least two ways that bias might have been introduced to your model and explain both below.\n",
    "\n",
    "---"
   ]
  },
  {
   "cell_type": "markdown",
   "metadata": {
    "colab_type": "text",
    "id": "Jg_PSw3NMyFX"
   },
   "source": [
    "One way bias might have been introduced to our model would be through the scale we used for intake condition:\n",
    "\n",
    "![alt text](https://i.imgur.com/LOiybJ8.png)\n",
    "\n",
    "This scale introduces experimenter's bias because it assigns values to arbitrary categories.\n",
    "\n",
    "Another way bias might have been introduced to our model would be through the arbitrary scale we used for intake type:\n",
    "\n",
    "![alt text](https://i.imgur.com/kTWIAIk.png)\n",
    "\n",
    "This scale also introduces experimenter's bias because it assigns values to arbitrary categories."
   ]
  },
  {
   "cell_type": "markdown",
   "metadata": {
    "colab_type": "text",
    "id": "7j9AWdJLMTJI"
   },
   "source": [
    "**Changing the Dataset to Mitigate Bias**\n",
    "\n",
    "Bias datasets are one of the primary ways in which bias is introduced to a machine learning model. Look back at the input data that you fed to your model. Think about how you might change something about the data to reduce bias in your model.\n",
    "\n",
    "What change or changes could you make to your dataset less bias? Consider the data that you have, how and where that data was collected, and what other sources of data might be used to reduce bias.\n",
    "\n",
    "Write a summary of change that could be made to your input data.\n",
    "\n",
    "---"
   ]
  },
  {
   "cell_type": "markdown",
   "metadata": {
    "colab_type": "text",
    "id": "yzzfrQ-xNZo5"
   },
   "source": [
    "Since the data has potential reporting bias, we could change the column for intake condition. This is because it could be the case that only apparently sick animals would be recorded with the sick condition, which might result in false negatives for animals who appear normal despite being verifiably sick. Instead, the column could account for the animal's percieved appearance."
   ]
  },
  {
   "cell_type": "markdown",
   "metadata": {
    "colab_type": "text",
    "id": "ePs6hpLiMNSx"
   },
   "source": [
    "**Changing the Model to Mitigate Bias**\n",
    "\n",
    "Is there any way to reduce bias by changing the model itself? This could include modifying algorithmic choices, tweaking hyperparameters, etc.\n",
    "\n",
    "Write a brief summary of changes that you could make to help reduce bias in your model.\n",
    "\n",
    "---"
   ]
  },
  {
   "cell_type": "markdown",
   "metadata": {
    "colab_type": "text",
    "id": "bZ3PS8bRNRCv"
   },
   "source": [
    "Since the model has potential experimenter's bias, we could remove the abitrary scales we used for intake type and intake condition. Instead, we could rely strictly on naturally numeric data such as datetime or age upon intake."
   ]
  },
  {
   "cell_type": "markdown",
   "metadata": {
    "colab_type": "text",
    "id": "YYY7lk55MgdX"
   },
   "source": [
    "**Mitigating Bias Downstream**\n",
    "\n",
    "Models make predictions. Downstream processes make decisions. What processes and/or rules should be in place for people and systems interpreting and acting on the results of your model to reduce the bias? Describe these below.\n",
    "\n",
    "---"
   ]
  },
  {
   "cell_type": "markdown",
   "metadata": {
    "colab_type": "text",
    "id": "Mp3TkmalNcR-"
   },
   "source": [
    "People and systems interpreting and acting on the results of our model should make it a rule to evenly promote the adoption of all shelter animals regardless of the scales our model used for intake condition and intake type."
   ]
  }
 ],
 "metadata": {
  "colab": {
   "collapsed_sections": [
    "copyright"
   ],
   "name": "Huize Huang - T03-09 [00] Regression Project [Colab]",
   "private_outputs": true,
   "provenance": [],
   "toc_visible": true,
   "version": "0.3.2"
  },
  "kernelspec": {
   "display_name": "Python 3",
   "language": "python",
   "name": "python3"
  },
  "language_info": {
   "codemirror_mode": {
    "name": "ipython",
    "version": 3
   },
   "file_extension": ".py",
   "mimetype": "text/x-python",
   "name": "python",
   "nbconvert_exporter": "python",
   "pygments_lexer": "ipython3",
   "version": "3.6.8"
  }
 },
 "nbformat": 4,
 "nbformat_minor": 1
}
