{
 "cells": [
  {
   "cell_type": "markdown",
   "metadata": {
    "colab_type": "text",
    "id": "copyright"
   },
   "source": [
    "#### Copyright 2019 Google LLC."
   ]
  },
  {
   "cell_type": "code",
   "execution_count": null,
   "metadata": {
    "colab": {},
    "colab_type": "code",
    "id": "khlO4Bu21oZ4"
   },
   "outputs": [],
   "source": [
    "# Licensed under the Apache License, Version 2.0 (the \"License\");\n",
    "# you may not use this file except in compliance with the License.\n",
    "# You may obtain a copy of the License at\n",
    "#\n",
    "# https://www.apache.org/licenses/LICENSE-2.0\n",
    "#\n",
    "# Unless required by applicable law or agreed to in writing, software\n",
    "# distributed under the License is distributed on an \"AS IS\" BASIS,\n",
    "# WITHOUT WARRANTIES OR CONDITIONS OF ANY KIND, either express or implied.\n",
    "# See the License for the specific language governing permissions and\n",
    "# limitations under the License."
   ]
  },
  {
   "cell_type": "markdown",
   "metadata": {
    "colab_type": "text",
    "id": "AlzIlBsScJJ_"
   },
   "source": [
    "# Using Pre-Trained Models Project"
   ]
  },
  {
   "cell_type": "markdown",
   "metadata": {
    "colab_type": "text",
    "id": "nTirVS4FWaPx"
   },
   "source": [
    "In this project we will import a pre-existing model that recognizes objects and use the model to identify those objects in a video. We'll edit the video to draw boxes around the identified object and then reassemble the video so that the boxes are shown around objects in the video."
   ]
  },
  {
   "cell_type": "markdown",
   "metadata": {
    "colab_type": "text",
    "id": "7fz_1lEAXeW2"
   },
   "source": [
    "## Overview"
   ]
  },
  {
   "cell_type": "markdown",
   "metadata": {
    "colab_type": "text",
    "id": "lbXXnlHyXiKa"
   },
   "source": [
    "### Learning Objectives\n",
    "\n",
    "* Use OpenCV to process images and video.\n",
    "* Use a pre-trained model to identify and label objects in each frame of a video.\n",
    "* Make judgements about classification quality and when to apply predicted labels."
   ]
  },
  {
   "cell_type": "markdown",
   "metadata": {
    "colab_type": "text",
    "id": "M62dLnxpX6Le"
   },
   "source": [
    "### Prerequisites\n",
    "\n",
    "* Classification\n",
    "* Saving and Loading Models\n",
    "* OpenCV\n",
    "* Video Processing"
   ]
  },
  {
   "cell_type": "markdown",
   "metadata": {
    "colab_type": "text",
    "id": "YTVUYxPwcHhp"
   },
   "source": [
    "# Exercises"
   ]
  },
  {
   "cell_type": "markdown",
   "metadata": {
    "colab_type": "text",
    "id": "LdIOgOHP1ces"
   },
   "source": [
    "## Exercise 1: Coding"
   ]
  },
  {
   "cell_type": "markdown",
   "metadata": {
    "colab_type": "text",
    "id": "jhTEOK1ZmqN8"
   },
   "source": [
    "For this workshop you will process a video frame-by-frame, identify objects in each frame, and draw a bounding box and label around each object.\n",
    " \n",
    "Use the [SSD MobileNet V1 Coco](https://github.com/tensorflow/models/blob/master/research/object_detection/g3doc/detection_model_zoo.md) 'ssd_mobilenet_v1_coco' model. The video that you'll be processing can be [found on Pixabay](https://pixabay.com/videos/cars-motorway-speed-motion-traffic-1900/). The 640x360 version of the video is smallest and easiest to handle, though any should work since you must scale down the images for processing.\n",
    " \n",
    "**Graded** demonstrations of competency:\n",
    "1. Obtain the pre-trained model from the [TensorFlow Zoo](https://github.com/tensorflow/models).\n",
    "1. Load the pre-trained model into a TensorFlow object.\n",
    "1. Obtain a video file from Pixabay to use for classification.\n",
    "1. Process the video frame-by-frame creating a modified output video.\n",
    "1. Apply a classification model to an image.\n",
    "1. Draw a bounding box around classified objects in each image.\n",
    " \n",
    "The flow of the program is roughly:\n",
    " \n",
    "* Read in a video file (use the one in this colab if you want)\n",
    "* Load the TensorFlow model\n",
    "* Loop over each frame of the video\n",
    "> * Scale the frame down to a size the model expects\n",
    " * Feed the frame to the model\n",
    " * Loop over detections made by the model\n",
    " >  * If the detection score is above some threshold draw a bounding box onto the frame and put a label in or near the box\n",
    "   * Write the frame back to a new video\n",
    " \n",
    "Some tips:\n",
    " \n",
    "* Processing an entire video is slow, consider truncating the video or skipping over frames during development. Skipping frames will make the video choppy, but you'll be able to see a wider variety of images than you would in a truncated video with all of the original frames in the clip.\n",
    "* The model expects a 300x300 image. You'll likely have to scale your frames to fit the model. When you get a bounding box that box is relative to the scaled image. You'll need to scale the bounding box out to the original image size.\n",
    "* Don't start by trying to process the video. Instead, capture one frame and work with it until you are happy with your object detection, bounding boxes, and labels. Once you get those done worry about video handling.\n",
    "* The [Coco labels file](https://github.com/nightrome/cocostuff/blob/master/labels.txt) can be used to identify classified objects.\n",
    " "
   ]
  },
  {
   "cell_type": "markdown",
   "metadata": {
    "colab_type": "text",
    "id": "7XM35vYWSbim"
   },
   "source": [
    "### Student Solution"
   ]
  },
  {
   "cell_type": "code",
   "execution_count": null,
   "metadata": {
    "colab": {},
    "colab_type": "code",
    "id": "ivTzfzQN5jDk"
   },
   "outputs": [],
   "source": [
    "import urllib.request\n",
    "import os\n",
    "import tarfile\n",
    "import shutil\n",
    "import tensorflow as tf\n",
    "\n",
    "base_url = 'http://download.tensorflow.org/models/object_detection/'\n",
    "file_name = 'ssd_mobilenet_v1_coco_2018_01_28.tar.gz'\n",
    "\n",
    "url = base_url + file_name\n",
    "urllib.request.urlretrieve(url, file_name)\n",
    "os.listdir()\n",
    "\n",
    "dir_name = file_name[0:-len('.tar.gz')]\n",
    "if os.path.exists(dir_name):\n",
    "  shutil.rmtree(dir_name) \n",
    "\n",
    "tarfile.open(file_name, 'r:gz').extractall('./')\n",
    "os.listdir(dir_name)\n",
    "\n",
    "frozen_graph = os.path.join(dir_name, 'frozen_inference_graph.pb')\n",
    "\n",
    "with tf.gfile.FastGFile(frozen_graph,'rb') as f:\n",
    "  graph_def = tf.GraphDef()\n",
    "  graph_def.ParseFromString(f.read())\n"
   ]
  },
  {
   "cell_type": "code",
   "execution_count": null,
   "metadata": {
    "colab": {},
    "colab_type": "code",
    "id": "aBFP0J1JX7tp"
   },
   "outputs": [],
   "source": [
    "outputs = (\n",
    "    'num_detections',\n",
    "    'detection_classes',\n",
    "    'detection_scores',\n",
    "    'detection_boxes',\n",
    ")"
   ]
  },
  {
   "cell_type": "code",
   "execution_count": null,
   "metadata": {
    "colab": {},
    "colab_type": "code",
    "id": "vY5qrFKAW-27"
   },
   "outputs": [],
   "source": [
    "import cv2 as cv\n",
    "import matplotlib.pyplot as plt\n",
    "\n",
    "input_video = cv.VideoCapture('cars-sampled.mp4')\n",
    "\n",
    "height = int(input_video.get(cv.CAP_PROP_FRAME_HEIGHT))\n",
    "width = int(input_video.get(cv.CAP_PROP_FRAME_WIDTH))\n",
    "fps = input_video.get(cv.CAP_PROP_FPS)\n",
    "totalframe =  input_video.get(cv.CAP_PROP_FRAME_COUNT)\n",
    "\n"
   ]
  },
  {
   "cell_type": "code",
   "execution_count": null,
   "metadata": {
    "colab": {},
    "colab_type": "code",
    "id": "RllCnd7pTMkN"
   },
   "outputs": [],
   "source": [
    "fourcc = cv.VideoWriter_fourcc(*'mp4v')\n",
    "totalframe =  input_video.get(cv.CAP_PROP_FRAME_COUNT)\n",
    "\n",
    "input_frames = []\n",
    "\n",
    "for i in range(0, int(totalframe)):\n",
    "  input_video.set(cv.CAP_PROP_POS_FRAMES, i)\n",
    "  ret, frame = input_video.read()\n",
    "  if not ret:\n",
    "    raise Exception(\"Problem reading frame\", i, \" from video\")\n",
    "  input_frames.append(frame)\n",
    "\n",
    "input_video.release()"
   ]
  },
  {
   "cell_type": "code",
   "execution_count": null,
   "metadata": {
    "colab": {},
    "colab_type": "code",
    "id": "dqN5G32gTyjm"
   },
   "outputs": [],
   "source": [
    "# Only cars\n",
    "with tf.Session() as sess:\n",
    "  sess.graph.as_default()\n",
    "  tf.import_graph_def(graph_def,name='')\n",
    "\n",
    "  detections = sess.run(\n",
    "        [sess.graph.get_tensor_by_name(f'{op}:0') for op in outputs],\n",
    "        feed_dict={ 'image_tensor:0': input_frames }\n",
    "  )\n",
    "  \n",
    "  fourcc = cv.VideoWriter_fourcc(*'mp4v')\n",
    "  output_video = cv.VideoWriter('cars-sampled-detected-select.mp4', fourcc, fps, (width, height))\n",
    "  for frame in range(len(input_frames)):\n",
    "    current_frame = input_frames[frame]\n",
    "    for j in range(detections[0][frame].astype(int)):\n",
    "      if detections[1][frame][j] == 3:\n",
    "      # Threshold\n",
    "        if detections[2][frame][j] > 0.7:\n",
    "          left = int(current_frame.shape[1]*detections[3][frame][j][1])\n",
    "          right = int(current_frame.shape[1]*detections[3][frame][j][3])\n",
    "          top = int(current_frame.shape[0]*detections[3][frame][j][0])\n",
    "          bottom = int(current_frame.shape[0]*detections[3][frame][j][2])\n",
    "\n",
    "          r = 0\n",
    "          g = 255\n",
    "          b = 0\n",
    "          cv.rectangle(current_frame, (left, top), (right, bottom), (r, g, b), thickness=8)\n",
    "          cv.putText(current_frame,'Car',(left, top),cv.FONT_HERSHEY_DUPLEX,1,(0,0,0),2)\n",
    "      output_video.write(current_frame)\n",
    "\n",
    "output_video.release()"
   ]
  },
  {
   "cell_type": "code",
   "execution_count": null,
   "metadata": {
    "colab": {},
    "colab_type": "code",
    "id": "b54gH1WGO7RQ"
   },
   "outputs": [],
   "source": [
    "label_dict = {\n",
    "0: \"unlabeled\",\n",
    "1: \"person\",\n",
    "2: \"bicycle\",\n",
    "3: \"car\",\n",
    "4: \"motorcycle\",\n",
    "5: \"airplane\",\n",
    "6: \"bus\",\n",
    "7: \"train\",\n",
    "8: \"truck\",\n",
    "9: \"boat\",\n",
    "10: \"traffic light\",\n",
    "11: \"fire hydrant\",\n",
    "12: \"street sign\",\n",
    "13: \"stop sign\",\n",
    "14: \"parking meter\",\n",
    "15: \"bench\",\n",
    "16: \"bird\",\n",
    "17: \"cat\",\n",
    "18: \"dog\",\n",
    "19: \"horse\",\n",
    "20: \"sheep\",\n",
    "21: \"cow\",\n",
    "22: \"elephant\",\n",
    "23: \"bear\",\n",
    "24: \"zebra\",\n",
    "25: \"giraffe\",\n",
    "26: \"hat\",\n",
    "27: \"backpack\",\n",
    "28: \"umbrella\",\n",
    "29: \"shoe\",\n",
    "30: \"eye glasses\",\n",
    "31: \"handbag\",\n",
    "32: \"tie\",\n",
    "33: \"suitcase\",\n",
    "34: \"frisbee\",\n",
    "35: \"skis\",\n",
    "36: \"snowboard\",\n",
    "37: \"sports ball\",\n",
    "38: \"kite\",\n",
    "39: \"baseball bat\",\n",
    "40: \"baseball glove\",\n",
    "41: \"skateboard\",\n",
    "42: \"surfboard\",\n",
    "43: \"tennis racket\",\n",
    "44: \"bottle\",\n",
    "45: \"plate\",\n",
    "46: \"wine glass\",\n",
    "47: \"cup\",\n",
    "48: \"fork\",\n",
    "49: \"knife\",\n",
    "50: \"spoon\",\n",
    "51: \"bowl\",\n",
    "52: \"banana\",\n",
    "53: \"apple\",\n",
    "54: \"sandwich\",\n",
    "55: \"orange\",\n",
    "56: \"broccoli\",\n",
    "57: \"carrot\",\n",
    "58: \"hot dog\",\n",
    "59: \"pizza\",\n",
    "60: \"donut\",\n",
    "61: \"cake\",\n",
    "62: \"chair\",\n",
    "63: \"couch\",\n",
    "64: \"potted plant\",\n",
    "65: \"bed\",\n",
    "66: \"mirror\",\n",
    "67: \"dining table\",\n",
    "68: \"window\",\n",
    "69: \"desk\",\n",
    "70: \"toilet\",\n",
    "71: \"door\",\n",
    "72: \"tv\",\n",
    "73: \"laptop\",\n",
    "74: \"mouse\",\n",
    "75: \"remote\",\n",
    "76: \"keyboard\",\n",
    "77: \"cell phone\",\n",
    "78: \"microwave\",\n",
    "79: \"oven\",\n",
    "80: \"toaster\",\n",
    "81: \"sink\",\n",
    "82: \"refrigerator\",\n",
    "83: \"blender\",\n",
    "84: \"book\",\n",
    "85: \"clock\",\n",
    "86: \"vase\",\n",
    "87: \"scissors\",\n",
    "88: \"teddy bear\",\n",
    "89: \"hair drier\",\n",
    "90: \"toothbrush\",\n",
    "99: \"other\",\n",
    "}"
   ]
  },
  {
   "cell_type": "code",
   "execution_count": null,
   "metadata": {
    "colab": {},
    "colab_type": "code",
    "id": "k3YpTO-FYkV3"
   },
   "outputs": [],
   "source": [
    "# All labels\n",
    "with tf.Session() as sess:\n",
    "  sess.graph.as_default()\n",
    "  tf.import_graph_def(graph_def,name='')\n",
    "\n",
    "  detections = sess.run(\n",
    "        [sess.graph.get_tensor_by_name(f'{op}:0') for op in outputs],\n",
    "        feed_dict={ 'image_tensor:0': input_frames }\n",
    "  )\n",
    "  \n",
    "  fourcc = cv.VideoWriter_fourcc(*'mp4v')\n",
    "  output_video = cv.VideoWriter('cars-sampled-detected-all.mp4', fourcc, fps, (width, height))\n",
    "  for frame in range(len(input_frames)):\n",
    "    current_frame = input_frames[frame]\n",
    "    for j in range(detections[0][frame].astype(int)):\n",
    "      if detections[1][frame][j] == 3:\n",
    "      # Threshold\n",
    "        if detections[2][frame][j] > 0.7:\n",
    "          left = int(current_frame.shape[1]*detections[3][frame][j][1])\n",
    "          right = int(current_frame.shape[1]*detections[3][frame][j][3])\n",
    "          top = int(current_frame.shape[0]*detections[3][frame][j][0])\n",
    "          bottom = int(current_frame.shape[0]*detections[3][frame][j][2])\n",
    "\n",
    "          r = 0\n",
    "          g = 255\n",
    "          b = 0\n",
    "          cv.rectangle(current_frame, (left, top), (right, bottom), (r, g, b), thickness=8)\n",
    "          cv.putText(current_frame,'Car',(left, top),cv.FONT_HERSHEY_DUPLEX,1,(0,0,0),2)\n",
    "      else:\n",
    "        left = int(current_frame.shape[1]*detections[3][frame][j][1])\n",
    "        right = int(current_frame.shape[1]*detections[3][frame][j][3])\n",
    "        top = int(current_frame.shape[0]*detections[3][frame][j][0])\n",
    "        bottom = int(current_frame.shape[0]*detections[3][frame][j][2])\n",
    "\n",
    "        r = 0\n",
    "        g = 0\n",
    "        b = 255\n",
    "        cv.rectangle(current_frame, (left, top), (right, bottom), (r, g, b), thickness=8)\n",
    "        cv.putText(current_frame,label_dict.get(j,99),(left, top),cv.FONT_HERSHEY_DUPLEX,1,(0,0,0),2)\n",
    "      output_video.write(current_frame)\n",
    "\n",
    "output_video.release()"
   ]
  },
  {
   "cell_type": "markdown",
   "metadata": {
    "colab_type": "text",
    "id": "HniKdSXg0YHR"
   },
   "source": [
    "## Exercise 2: Ethical Implications"
   ]
  },
  {
   "cell_type": "markdown",
   "metadata": {
    "colab_type": "text",
    "id": "W4FvC1Aa0ZT5"
   },
   "source": [
    "Even the most basic of models have the potential to affect segments of the population in different ways. It is important to consider how your model might positively and negative effect different types of users.\n",
    "\n",
    "In this section of the project you will reflect on the positive and negative implications of your model.\n",
    "\n",
    "Frame the context of your models creation using this narriative:\\n\",\n",
    "\n",
    "  > The city of Seattle is attempting to reduce traffic congestion in their downtown area. As part of this project, they plan on allowing each local driver one free downtown trip per week. After that the driver will have to pay a $50 toll for each extra day per week driven. As an early proof-of-concept for this project your team is tasked with using machine learning to correctly identify automobiles on the road. The next phase of the project will involve detecting license plate numbers and then cross-referencing that data with RFID chips that should be mounted in all local drivers cars.\"\n"
   ]
  },
  {
   "cell_type": "markdown",
   "metadata": {
    "colab_type": "text",
    "id": "lkyzwVQr0brd"
   },
   "source": [
    "### Student Solution"
   ]
  },
  {
   "cell_type": "markdown",
   "metadata": {
    "colab_type": "text",
    "id": "gy4I2vG60ebd"
   },
   "source": [
    "**Positive Impact**\n",
    "\n",
    "Your model is trying to solve a problem. Think about who will benefit from that problem being solved and write a brief narrative about how the model will help.\n",
    "\n",
    "---"
   ]
  },
  {
   "cell_type": "markdown",
   "metadata": {
    "colab_type": "text",
    "id": "k59MK1Ah0fWy"
   },
   "source": [
    "Our model can help reduce traffic. It will be able to detect how many drivers made more than one trip to downtown and will therefore pay the required fees."
   ]
  },
  {
   "cell_type": "markdown",
   "metadata": {
    "colab_type": "text",
    "id": "gzqkrLnk0hMU"
   },
   "source": [
    "**Negative Impact**\n",
    "\n",
    "Models don't often have universal benefit. Think about who might be negatively impacted by the predictions your model is making. This person or persons might not be directly using the model, but instead might be impacted indirectly.\n",
    "\n",
    "---"
   ]
  },
  {
   "cell_type": "markdown",
   "metadata": {
    "colab_type": "text",
    "id": "Hefa1JdP0kj3"
   },
   "source": [
    "This model could have a negative impact on the public in general. As much as it helps to reduce the traffic, people might want to visit downtown more than once and they have to pay. \n",
    "Although we use ML to detect objects, the results will not always be accurate. This is because some objects do not get detected which means the traffic results will be affected.\n"
   ]
  },
  {
   "cell_type": "markdown",
   "metadata": {
    "colab_type": "text",
    "id": "Uax2HAzd0mHX"
   },
   "source": [
    "**Bias**\n",
    "\n",
    "Models can be bias for many reasons. The bias can come from the data used to build the model (eg. sampling, data collection methods, available sources) and from the interpretation of the predictions generated by the model.\n",
    "\n",
    "Think of at least two ways that bias might have been introduced to your model and explain both below.\n",
    "\n",
    "---"
   ]
  },
  {
   "cell_type": "markdown",
   "metadata": {
    "colab_type": "text",
    "id": "6bJGm-qs0oQV"
   },
   "source": [
    "As mentioned above, even if we have machine learning to detect objects, not all objects are detected. This brings in bias because some cars might not be detected which means some people could make more than one trip to downtown without any fees.\n",
    "\n",
    " Another bias is that some cars are being labelled as motorcycle."
   ]
  },
  {
   "cell_type": "markdown",
   "metadata": {
    "colab_type": "text",
    "id": "Ybb1zAkC0p2e"
   },
   "source": [
    "**Changing the Dataset to Mitigate Bias**\n",
    "\n",
    "Bias datasets are one of the primary ways in which bias is introduced to a machine learning model. Look back at the input data that you fed to your model. Think about how you might change something about the data to reduce bias in your model.\n",
    "\n",
    "What change or changes could you make to your dataset less bias? Consider the data that you have, how and where that data was collected, and what other sources of data might be used to reduce bias.\n",
    "\n",
    "Write a summary of change that could be made to your input data.\n",
    "\n",
    "---"
   ]
  },
  {
   "cell_type": "markdown",
   "metadata": {
    "colab_type": "text",
    "id": "UFsnF4_h08DD"
   },
   "source": [
    "Retrain the model. Makesure the detections are 90% accurate.\n",
    "Provide multiple images of different vehicles in the dataset."
   ]
  },
  {
   "cell_type": "markdown",
   "metadata": {
    "colab_type": "text",
    "id": "ChEJbhXA02pW"
   },
   "source": [
    "**Changing the Model to Mitigate Bias**\n",
    "\n",
    "Is there any way to reduce bias by changing the model itself? This could include modifying algorithmic choices, tweaking hyperparameters, etc.\n",
    "\n",
    "Write a brief summary of changes that you could make to help reduce bias in your model.\n",
    "\n",
    "---"
   ]
  },
  {
   "cell_type": "markdown",
   "metadata": {
    "colab_type": "text",
    "id": "kEAhgO_U0p8Y"
   },
   "source": [
    "As mentioned above, retrain the model with multiple images of the different colors/types/angles of cars "
   ]
  },
  {
   "cell_type": "markdown",
   "metadata": {
    "colab_type": "text",
    "id": "rShB5BQv0wix"
   },
   "source": [
    "**Mitigating Bias Downstream**\n",
    "\n",
    "Models make predictions. Downstream processes make decisions. What processes and/or rules should be in place for people and systems interpreting and acting on the results of your model to reduce the bias? Describe these below.\n",
    "\n",
    "---"
   ]
  },
  {
   "cell_type": "markdown",
   "metadata": {
    "colab_type": "text",
    "id": "C__BwBP-00HN"
   },
   "source": [
    "When a car is detected visiting downtown more than once, the system should compare the license plate numbers to the former detection of the same car and make sure the plate numbers are the same."
   ]
  }
 ],
 "metadata": {
  "colab": {
   "collapsed_sections": [
    "copyright"
   ],
   "name": "Huize Huang - T04-06 [00] Using Pre-Trained Models Project [Colab]",
   "private_outputs": true,
   "provenance": [],
   "toc_visible": true,
   "version": "0.3.2"
  },
  "kernelspec": {
   "display_name": "Python 3",
   "language": "python",
   "name": "python3"
  },
  "language_info": {
   "codemirror_mode": {
    "name": "ipython",
    "version": 3
   },
   "file_extension": ".py",
   "mimetype": "text/x-python",
   "name": "python",
   "nbconvert_exporter": "python",
   "pygments_lexer": "ipython3",
   "version": "3.6.8"
  }
 },
 "nbformat": 4,
 "nbformat_minor": 1
}
