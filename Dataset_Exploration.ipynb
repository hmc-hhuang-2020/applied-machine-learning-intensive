{
  "nbformat": 4,
  "nbformat_minor": 0,
  "metadata": {
    "colab": {
      "name": "Dataset Exploration",
      "version": "0.3.2",
      "provenance": [],
      "collapsed_sections": [
        "jx_FnF6HFucc"
      ],
      "toc_visible": true
    },
    "kernelspec": {
      "name": "python3",
      "display_name": "Python 3"
    }
  },
  "cells": [
    {
      "cell_type": "markdown",
      "metadata": {
        "colab_type": "text",
        "id": "jx_FnF6HFucc"
      },
      "source": [
        "#### Copyright 2019 Google LLC."
      ]
    },
    {
      "cell_type": "code",
      "metadata": {
        "colab_type": "code",
        "id": "cSdG7cSNFro-",
        "colab": {}
      },
      "source": [
        "# Licensed under the Apache License, Version 2.0 (the \"License\");\n",
        "# you may not use this file except in compliance with the License.\n",
        "# You may obtain a copy of the License at\n",
        "#\n",
        "# https://www.apache.org/licenses/LICENSE-2.0\n",
        "#\n",
        "# Unless required by applicable law or agreed to in writing, software\n",
        "# distributed under the License is distributed on an \"AS IS\" BASIS,\n",
        "# WITHOUT WARRANTIES OR CONDITIONS OF ANY KIND, either express or implied.\n",
        "# See the License for the specific language governing permissions and\n",
        "# limitations under the License."
      ],
      "execution_count": 0,
      "outputs": []
    },
    {
      "cell_type": "markdown",
      "metadata": {
        "colab_type": "text",
        "id": "_FdRu8E0F6EJ"
      },
      "source": [
        "# Dataset Exploration\n"
      ]
    },
    {
      "cell_type": "markdown",
      "metadata": {
        "colab_type": "text",
        "id": "Mm5d3zEpKE00"
      },
      "source": [
        "In this project you will be divided into small groups (two or three people). You will be pointed to a dataset and asked to create a model to solve a problem. Over the course of the day, your team will explore the data and train the best model you can for solving the problem. At the end of the day, your team will give a short presentation about your solution."
      ]
    },
    {
      "cell_type": "markdown",
      "metadata": {
        "colab_type": "text",
        "id": "2iIQ-XduKJZz"
      },
      "source": [
        "## Overview"
      ]
    },
    {
      "cell_type": "markdown",
      "metadata": {
        "colab_type": "text",
        "id": "B-TOrwufKQhD"
      },
      "source": [
        "### Learning Objectives\n",
        "\n",
        "* Acquire and load dataset(s) into the Pandas structures.\n",
        "* Inspect data columns description and statistics.\n",
        "* Explore data to understand relationship between features.\n",
        "* Draw data insights."
      ]
    },
    {
      "cell_type": "markdown",
      "metadata": {
        "colab_type": "text",
        "id": "6LqnO7DiKmwi"
      },
      "source": [
        "### Prerequisites\n",
        "\n",
        "* Introduction to Colab\n",
        "* Intermediate Python\n",
        "* Intermediate Pandas\n",
        "* Visualizations\n",
        "* Data Exploration"
      ]
    },
    {
      "cell_type": "markdown",
      "metadata": {
        "colab_type": "text",
        "id": "a0-9HPLU43Xf"
      },
      "source": [
        "# Exercises"
      ]
    },
    {
      "cell_type": "markdown",
      "metadata": {
        "colab_type": "text",
        "id": "8rqFJ-Ch4_mU"
      },
      "source": [
        "## Exercise 1: Coding"
      ]
    },
    {
      "cell_type": "markdown",
      "metadata": {
        "colab_type": "text",
        "id": "cr12EFb2WQym"
      },
      "source": [
        "[Kaggle](http://www.kaggle.com) hosts a [dataset containing US airline on-time statistics and delay data](https://www.kaggle.com/giovamata/airlinedelaycauses) from the [US Department of Transportation's Bureau of Transportation Statistics (BTS)](https://www.bts.gov/). In this project we will **use flight statistics data to gain insights into US airports and airlines flights in 2008**.\n",
        "\n",
        "You are free to use any toolkit that we have covered in this class to solve the problem. That should be at least Pandas and Matplotlib or Seaborn.\n",
        "\n",
        "Important details:\n",
        "\n",
        "* The [dataset](https://www.kaggle.com/giovamata/airlinedelaycauses) consists of one file, DelayedFlights.csv.\n",
        "* The column we are trying to predict is 'time_in_shelter_days'.\n",
        "* Do not use any outcome data as features for training the model. We want to be able to predict the time in shelter for any given animal at intake.\n",
        "* Not all animals have outcomes. Not all outcomes are adoption.\n",
        "\n",
        "**Graded** demonstrations of competency:\n",
        "1. Get the data into a Python object.\n",
        "1. Inspect the data for columns' datatype and statistics.\n",
        "1. Explore the data programmatically and visually.\n",
        "1. Produce answer and visualization where applicable for at least 3 questions.  Pick from the list of questions below or come up with one yourself, and talk about any insight if any:\n",
        "\n",
        "  * Which US airports is the busiest airports?  Decide how you'd like to measure it, eg: by annual, monthly, or daily flight traffic?\n",
        "  * Of the 2008 flights that are __actually delayed__, think about:\n",
        "    * Which 10 US airlines have the most delays measured it by flight count?\n",
        "    * Which 10 US airlines have the most delays measured it by average length of delay?\n",
        "    * Similarly, you can get the top 10 US aiports instead of airlines for the previous questions.  Which 10 US airports have the most delays measured it by flight count?\n",
        "    * Which 10 US airports have the most delays measured it by flight count?\n",
        "  * More analysis:\n",
        "    * Is there patterns on how flight delays are distributed across different hours of the day?\n",
        "    * Similarly, how about across months or season?  Maybe correllate to seasonal weather impact, holiday traffic, etc.\n",
        "    * If you look at the data beyond the top 10 US airlines or airports is the data show linearity as you examine top 40 US airlines or airports.\n",
        "    * Reexamine the figures you worked on above by reason for delay.\n",
        "    * Drill down on particular airport, airline or even origin and arrival airport pairs - and examine flight frequencies, delays, time of day or year, etc.\n",
        "  * or any questions that your team come up with."
      ]
    },
    {
      "cell_type": "markdown",
      "metadata": {
        "colab_type": "text",
        "id": "WgFU38b7rfbv"
      },
      "source": [
        "### Student Solution"
      ]
    },
    {
      "cell_type": "code",
      "metadata": {
        "colab_type": "code",
        "id": "wOdOl0qqPyL-",
        "colab": {}
      },
      "source": [
        "import altair as alt\n",
        "import numpy as np \n",
        "import pandas as pd\n",
        "import math\n",
        "import matplotlib\n",
        "import matplotlib.pyplot as plt\n",
        "import re\n",
        "import seaborn as sns\n",
        "from google.colab import files \n",
        "\n",
        "dataset_filename = \"./DelayedFlights.csv\"\n",
        "delayed_flights =pd.read_csv(dataset_filename)"
      ],
      "execution_count": 0,
      "outputs": []
    },
    {
      "cell_type": "code",
      "metadata": {
        "id": "o-JcRPQglaEF",
        "colab_type": "code",
        "colab": {}
      },
      "source": [
        "delayed_flights.head()"
      ],
      "execution_count": 0,
      "outputs": []
    },
    {
      "cell_type": "code",
      "metadata": {
        "id": "k0DJgEtOllWN",
        "colab_type": "code",
        "colab": {}
      },
      "source": [
        "delayed_flights.dtypes"
      ],
      "execution_count": 0,
      "outputs": []
    },
    {
      "cell_type": "markdown",
      "metadata": {
        "id": "QKkVmNqPqeMU",
        "colab_type": "text"
      },
      "source": [
        "Data cleaning - Check null value for Origin and Destination airports"
      ]
    },
    {
      "cell_type": "code",
      "metadata": {
        "id": "UlIsgZOPp6zb",
        "colab_type": "code",
        "colab": {}
      },
      "source": [
        "n = len(delayed_flights)\n",
        "print(\"Origin: \"+ str(n-delayed_flights['Origin'].isnull().value_counts().values.tolist()[0]))\n",
        "print(\"Dest: \"+str(n-delayed_flights['Dest'].isnull().value_counts().values.tolist()[0]))"
      ],
      "execution_count": 0,
      "outputs": []
    },
    {
      "cell_type": "code",
      "metadata": {
        "id": "WNorvyyGnJqQ",
        "colab_type": "code",
        "colab": {}
      },
      "source": [
        "delayed_flights['DepTime'] = delayed_flights['DepTime'].astype(int)\n"
      ],
      "execution_count": 0,
      "outputs": []
    },
    {
      "cell_type": "markdown",
      "metadata": {
        "id": "cwKlN1mLmo3a",
        "colab_type": "text"
      },
      "source": [
        "# **The the busiest airports - by annual and monthly**"
      ]
    },
    {
      "cell_type": "markdown",
      "metadata": {
        "id": "fb7FJyZYVbUl",
        "colab_type": "text"
      },
      "source": [
        "**Monthly analysis of delayed situation for airports**\n"
      ]
    },
    {
      "cell_type": "code",
      "metadata": {
        "id": "x2P8J-fAnPQp",
        "colab_type": "code",
        "colab": {}
      },
      "source": [
        "delayed_flights['Month Origin Count']= delayed_flights['Origin']\n",
        "origin_month = delayed_flights.groupby(['Month','Origin'])[['Month Origin Count']].count().sort_values(by='Month Origin Count', ascending=False)\n",
        "origin_month.head(5)"
      ],
      "execution_count": 0,
      "outputs": []
    },
    {
      "cell_type": "code",
      "metadata": {
        "id": "pYiKNR3Du-HB",
        "colab_type": "code",
        "colab": {}
      },
      "source": [
        "delayed_flights['Month Dest Count']= delayed_flights['Dest']\n",
        "dest_month = delayed_flights.groupby(['Month','Dest'])[['Month Dest Count']].count().sort_values(by='Month Dest Count', ascending=False)\n",
        "dest_month.head(5)"
      ],
      "execution_count": 0,
      "outputs": []
    },
    {
      "cell_type": "markdown",
      "metadata": {
        "id": "ScNQn-NiV1S_",
        "colab_type": "text"
      },
      "source": [
        "**Annual analysis of delayed situation for airports**\n",
        "\n",
        "By origin and destination airport"
      ]
    },
    {
      "cell_type": "code",
      "metadata": {
        "id": "9SX7gPbKVofD",
        "colab_type": "code",
        "colab": {}
      },
      "source": [
        "delayed_flights['Origin Count']= delayed_flights['Origin']\n",
        "origin_annual = delayed_flights.groupby(['Origin'])[['Origin Count']].count().sort_values(by='Origin Count', ascending=False)\n",
        "origin_annual.head(5)"
      ],
      "execution_count": 0,
      "outputs": []
    },
    {
      "cell_type": "code",
      "metadata": {
        "id": "D48PTkFHoOUp",
        "colab_type": "code",
        "colab": {}
      },
      "source": [
        "delayed_flights['Dest Count']= delayed_flights['Dest']\n",
        "dest_annual = delayed_flights.groupby(['Dest'])[['Dest Count']].count().sort_values(by='Dest Count', ascending=False)\n",
        "dest_annual.head(5)"
      ],
      "execution_count": 0,
      "outputs": []
    },
    {
      "cell_type": "markdown",
      "metadata": {
        "id": "tqgxiX-cV8SX",
        "colab_type": "text"
      },
      "source": [
        "Airport sum for delays as origin and destination airports"
      ]
    },
    {
      "cell_type": "code",
      "metadata": {
        "id": "SkykWmps0Pz6",
        "colab_type": "code",
        "colab": {}
      },
      "source": [
        "merge_month_count = pd.merge(origin_month, dest_month,left_index=True, right_index=True)\n",
        "merge_month_count['Sum'] = merge_month_count['Month Origin Count']+merge_month_count['Month Dest Count']\n",
        "merge_month_count.sort_values(by='Sum', ascending=False).head(5)"
      ],
      "execution_count": 0,
      "outputs": []
    },
    {
      "cell_type": "code",
      "metadata": {
        "id": "qItNrRGhvOgR",
        "colab_type": "code",
        "colab": {}
      },
      "source": [
        "merge_count = pd.merge(origin_annual, dest_annual,left_index=True, right_index=True)\n",
        "merge_count['Sum'] = merge_count['Origin Count']+merge_count['Dest Count']\n",
        "merge_count.sort_values(by='Sum', ascending=False).head(5)"
      ],
      "execution_count": 0,
      "outputs": []
    },
    {
      "cell_type": "markdown",
      "metadata": {
        "id": "FB-WXYNrY3cv",
        "colab_type": "text"
      },
      "source": [
        "# Airlines Delay Situation"
      ]
    },
    {
      "cell_type": "markdown",
      "metadata": {
        "id": "G3GumV8w2Hkt",
        "colab_type": "text"
      },
      "source": [
        "Which 10 US airlines have the most delays measured it by flight count?"
      ]
    },
    {
      "cell_type": "code",
      "metadata": {
        "id": "8TQGGAf42XG-",
        "colab_type": "code",
        "colab": {}
      },
      "source": [
        "delayed_flights['UniqueCarrier Count']= delayed_flights['UniqueCarrier']\n",
        "airline_delay = delayed_flights.groupby(['UniqueCarrier'])[['UniqueCarrier Count']].count().sort_values(by='UniqueCarrier Count', ascending=False)\n",
        "airline_delay"
      ],
      "execution_count": 0,
      "outputs": []
    },
    {
      "cell_type": "markdown",
      "metadata": {
        "id": "VTkrdp7326Qu",
        "colab_type": "text"
      },
      "source": [
        "Which 10 US airlines have the most delays measured it by average length of delay?"
      ]
    },
    {
      "cell_type": "code",
      "metadata": {
        "id": "97wBFHqV2639",
        "colab_type": "code",
        "colab": {}
      },
      "source": [
        "delayed_flights['Average Delay Length']= delayed_flights['DepDelay']\n",
        "average_airline = delayed_flights.groupby(['UniqueCarrier'])[['Average Delay Length']].mean().sort_values(by='Average Delay Length', ascending=False)\n",
        "average_airline.head(10)"
      ],
      "execution_count": 0,
      "outputs": []
    },
    {
      "cell_type": "markdown",
      "metadata": {
        "id": "_pcpfgqhQq8G",
        "colab_type": "text"
      },
      "source": [
        "More analysis on airports data"
      ]
    },
    {
      "cell_type": "code",
      "metadata": {
        "id": "FP7gqChL3nDX",
        "colab_type": "code",
        "colab": {}
      },
      "source": [
        "average_airline_airport = delayed_flights.groupby(['UniqueCarrier','Origin'])[['Average Delay Length']].count().sort_values(by='Average Delay Length', ascending=False)\n",
        "top= average_airline_airport\n",
        "top.head"
      ],
      "execution_count": 0,
      "outputs": []
    },
    {
      "cell_type": "markdown",
      "metadata": {
        "id": "5qX1Jh_yLmpY",
        "colab_type": "text"
      },
      "source": [
        "Specific analysis of top 3 busiest airport"
      ]
    },
    {
      "cell_type": "markdown",
      "metadata": {
        "id": "IPWBjwfPLt8K",
        "colab_type": "text"
      },
      "source": [
        "EA and MQ airlines at DFW "
      ]
    },
    {
      "cell_type": "code",
      "metadata": {
        "id": "GKrc9rJU7bSf",
        "colab_type": "code",
        "colab": {}
      },
      "source": [
        "DFW = delayed_flights.loc[delayed_flights['Origin'] == 'DFW']\n",
        "DFW.groupby('UniqueCarrier')[['UniqueCarrier']].count()\n",
        "\n",
        "reason_plot_labels = ['Carrier','NAS','LateAircraft','Weather','Security']\n",
        "\n",
        "AADFW = DFW.loc[DFW['UniqueCarrier'] == 'AA']\n",
        "AADFW_data = AADFW.CarrierDelay.fillna(0).astype(bool).sum(axis=0),\\\n",
        "             AADFW.NASDelay.fillna(0).astype(bool).sum(axis=0),\\\n",
        "             AADFW.LateAircraftDelay.fillna(0).astype(bool).sum(axis=0),\\\n",
        "             AADFW.WeatherDelay.fillna(0).astype(bool).sum(axis=0),\\\n",
        "              AADFW.SecurityDelay.fillna(0).astype(bool).sum(axis=0)\n",
        "print('AA delays at DFW with carrier: '+str(AADFW_data[0]))\n",
        "print('AA delays at DFW with NAS: '+str(AADFW_data[1]))\n",
        "print('AA delays at DFW with late aircraft: '+str(AADFW_data[2]))\n",
        "print('AA delays at DFW with weather: '+str(AADFW_data[3]))\n",
        "print('AA delays at DFW with security: '+str(AADFW_data[4])+'\\n')\n",
        "\n",
        "MQDFW = DFW.loc[DFW['UniqueCarrier'] == 'MQ']\n",
        "MQDFW_data = MQDFW.CarrierDelay.fillna(0).astype(bool).sum(axis=0),\\\n",
        "             MQDFW.NASDelay.fillna(0).astype(bool).sum(axis=0),\\\n",
        "             MQDFW.LateAircraftDelay.fillna(0).astype(bool).sum(axis=0),\\\n",
        "             MQDFW.WeatherDelay.fillna(0).astype(bool).sum(axis=0),\\\n",
        "              MQDFW.SecurityDelay.fillna(0).astype(bool).sum(axis=0)\n",
        "print('MQ delays at DFW with carrier: '+str(MQDFW_data[0]))\n",
        "print('MQ delays at DFW with NAS: '+str(MQDFW_data[1]))\n",
        "print('MQ delays at DFW with late aircraft: '+str(MQDFW_data[2]))\n",
        "print('MQ delays at DFW with weather: '+str(MQDFW_data[3]))\n",
        "print('MQ delays at DFW with security: '+str(MQDFW_data[4])+'\\n')\n",
        "\n",
        "AA_DFW_Reason_Plot = pd.Series(AADFW_data, index=reason_plot_labels)\n",
        "MQ_DFW_Reason_Plot = pd.Series(MQDFW_data, index=reason_plot_labels)\n",
        "\n",
        "f, axes = plt.subplots(1, 2,figsize=(10,5))\n",
        "sns.barplot(AA_DFW_Reason_Plot.index, AA_DFW_Reason_Plot.values,ax=axes[0])\n",
        "axes[0].title.set_text(\"AA at DFW\") \n",
        "sns.barplot(MQ_DFW_Reason_Plot.index, MQ_DFW_Reason_Plot.values,ax=axes[1])\n",
        "axes[1].title.set_text(\"MQ at DFW\") \n",
        "plt.tight_layout()\n",
        "\n"
      ],
      "execution_count": 0,
      "outputs": []
    },
    {
      "cell_type": "markdown",
      "metadata": {
        "id": "WhnIH_A3LzDs",
        "colab_type": "text"
      },
      "source": [
        "DL and EV airlines at ATL"
      ]
    },
    {
      "cell_type": "code",
      "metadata": {
        "id": "SixKFNMC9fCX",
        "colab_type": "code",
        "colab": {}
      },
      "source": [
        "ATL = delayed_flights.loc[delayed_flights['Origin'] == 'ATL']\n",
        "ATL.groupby('UniqueCarrier')[['UniqueCarrier']].count()\n",
        "reason_plot_labels = ['Carrier','NAS','LateAircraft','Weather','Security']\n",
        "\n",
        "DLATL = ATL.loc[ATL['UniqueCarrier'] == 'DL']\n",
        "DLATL_data = DLATL.CarrierDelay.fillna(0).astype(bool).sum(axis=0),\\\n",
        "             DLATL.NASDelay.fillna(0).astype(bool).sum(axis=0),\\\n",
        "             DLATL.LateAircraftDelay.fillna(0).astype(bool).sum(axis=0),\\\n",
        "             DLATL.WeatherDelay.fillna(0).astype(bool).sum(axis=0),\\\n",
        "              DLATL.SecurityDelay.fillna(0).astype(bool).sum(axis=0)\n",
        "print('DL delays at ATL with carrier: '+str(DLATL_data[0]))\n",
        "print('DL delays at ATL with NAS: '+str(DLATL_data[1]))\n",
        "print('DL delays at ATL with late aircraft: '+str(DLATL_data[2]))\n",
        "print('DL delays at ATL with weather: '+str(DLATL_data[3]))\n",
        "print('DL delays at ATL with security: '+str(DLATL_data[4])+'\\n')\n",
        "\n",
        "EVATL = ATL.loc[ATL['UniqueCarrier'] == 'EV']\n",
        "EVATL_data = EVATL.CarrierDelay.fillna(0).astype(bool).sum(axis=0),\\\n",
        "             EVATL.NASDelay.fillna(0).astype(bool).sum(axis=0),\\\n",
        "             EVATL.LateAircraftDelay.fillna(0).astype(bool).sum(axis=0),\\\n",
        "             EVATL.WeatherDelay.fillna(0).astype(bool).sum(axis=0),\\\n",
        "              EVATL.SecurityDelay.fillna(0).astype(bool).sum(axis=0)\n",
        "print('EV delays at ATL with carrier: '+str(EVATL_data[0]))\n",
        "print('EV delays at ATL with NAS: '+str(EVATL_data[1]))\n",
        "print('EV delays at ATL with late aircraft: '+str(EVATL_data[2]))\n",
        "print('EV delays at ATL with weather: '+str(EVATL_data[3]))\n",
        "print('EV delays at ATL with security: '+str(EVATL_data[4]))\n",
        "\n",
        "DL_ATL_Reason_Plot = pd.Series(DLATL_data, index=reason_plot_labels)\n",
        "EV_ATL_Reason_Plot = pd.Series(EVATL_data, index=reason_plot_labels)\n",
        "\n",
        "f, axes = plt.subplots(1, 2,figsize=(10,5))\n",
        "sns.barplot(DL_ATL_Reason_Plot.index, DL_ATL_Reason_Plot.values,ax=axes[0])\n",
        "axes[0].title.set_text(\"DL at ATL\") \n",
        "sns.barplot(EV_ATL_Reason_Plot.index, EV_ATL_Reason_Plot.values,ax=axes[1])\n",
        "axes[1].title.set_text(\"EV at ATL\") \n",
        "plt.tight_layout()\n",
        "\n",
        "\n"
      ],
      "execution_count": 0,
      "outputs": []
    },
    {
      "cell_type": "markdown",
      "metadata": {
        "id": "Xu0egA40L2k3",
        "colab_type": "text"
      },
      "source": [
        "UA and MQ at ORD "
      ]
    },
    {
      "cell_type": "code",
      "metadata": {
        "id": "7qHBOqtm-DYV",
        "colab_type": "code",
        "colab": {}
      },
      "source": [
        "ORD = delayed_flights.loc[delayed_flights['Origin'] == 'ORD']\n",
        "ORD.groupby('UniqueCarrier')[['UniqueCarrier']].count()\n",
        "reason_plot_labels = ['Carrier','NAS','LateAircraft','Weather','Security']\n",
        "UAORD = ORD.loc[ORD['UniqueCarrier'] == 'UA']\n",
        "UAORD_data = UAORD.CarrierDelay.fillna(0).astype(bool).sum(axis=0),\\\n",
        "             UAORD.NASDelay.fillna(0).astype(bool).sum(axis=0),\\\n",
        "             UAORD.LateAircraftDelay.fillna(0).astype(bool).sum(axis=0),\\\n",
        "             UAORD.WeatherDelay.fillna(0).astype(bool).sum(axis=0),\\\n",
        "              UAORD.SecurityDelay.fillna(0).astype(bool).sum(axis=0)\n",
        "print('UA delays at ORD with carrier: '+str(UAORD_data[0]))\n",
        "print('UA delays at ORD with NAS: '+str(UAORD_data[1]))\n",
        "print('UA delays at ORD with late aircraft: '+str(UAORD_data[2]))\n",
        "print('UA delays at ORD with weather: '+str(UAORD_data[3]))\n",
        "print('UA delays at ORD with security: '+str(UAORD_data[4])+'\\n')\n",
        "\n",
        "MQORD = ORD.loc[ORD['UniqueCarrier'] == 'MQ']\n",
        "MQORD_data = MQORD.CarrierDelay.fillna(0).astype(bool).sum(axis=0),\\\n",
        "             MQORD.NASDelay.fillna(0).astype(bool).sum(axis=0),\\\n",
        "             MQORD.LateAircraftDelay.fillna(0).astype(bool).sum(axis=0),\\\n",
        "             MQORD.WeatherDelay.fillna(0).astype(bool).sum(axis=0),\\\n",
        "              MQORD.SecurityDelay.fillna(0).astype(bool).sum(axis=0)\n",
        "print('MQ delays at ORD with carrier: '+str(MQORD_data[0]))\n",
        "print('MQ delays at ORD with NAS: '+str(MQORD_data[1]))\n",
        "print('MQ delays at ORD with late aircraft: '+str(MQORD_data[2]))\n",
        "print('MQ delays at ORD with weather: '+str(MQORD_data[3]))\n",
        "print('MQ delays at ORD with security: '+str(MQORD_data[4])+'\\n')\n",
        "\n",
        "UA_ORD_Reason_Plot = pd.Series(UAORD_data, index=reason_plot_labels)\n",
        "MQ_ORD_Reason_Plot = pd.Series(MQORD_data, index=reason_plot_labels)\n",
        "\n",
        "f, axes = plt.subplots(1, 2,figsize=(10,5))\n",
        "sns.barplot(UA_ORD_Reason_Plot.index, UA_ORD_Reason_Plot.values,ax=axes[0])\n",
        "axes[0].title.set_text(\"UA at ORD\") \n",
        "sns.barplot(MQ_ORD_Reason_Plot.index, MQ_ORD_Reason_Plot.values,ax=axes[1])\n",
        "axes[1].title.set_text(\"MQ at ORD\") \n",
        "plt.tight_layout()"
      ],
      "execution_count": 0,
      "outputs": []
    },
    {
      "cell_type": "markdown",
      "metadata": {
        "id": "iY9f4bKJZm8l",
        "colab_type": "text"
      },
      "source": [
        "# Airports Delay Situation "
      ]
    },
    {
      "cell_type": "markdown",
      "metadata": {
        "id": "raH3oEJu4INF",
        "colab_type": "text"
      },
      "source": [
        "Which 10 US airports have the most delays measured it by flight count?"
      ]
    },
    {
      "cell_type": "code",
      "metadata": {
        "id": "vd6p-EQX4Fd4",
        "colab_type": "code",
        "colab": {}
      },
      "source": [
        "merge_count.head(10)"
      ],
      "execution_count": 0,
      "outputs": []
    },
    {
      "cell_type": "markdown",
      "metadata": {
        "id": "vILyXfpB426H",
        "colab_type": "text"
      },
      "source": [
        "Which 10 US airports have the most delays measured it by average length of delay?"
      ]
    },
    {
      "cell_type": "code",
      "metadata": {
        "id": "2XPb6Lk940Ap",
        "colab_type": "code",
        "colab": {}
      },
      "source": [
        "delayed_flights['Airport Average Delay Length']= delayed_flights['DepDelay']\n",
        "average_airport = delayed_flights.groupby(['Origin'])[['Airport Average Delay Length']].mean().sort_values(by='Airport Average Delay Length', ascending=False)\n",
        "average_airport.head(10)"
      ],
      "execution_count": 0,
      "outputs": []
    },
    {
      "cell_type": "markdown",
      "metadata": {
        "id": "cqzVciOHZ0ST",
        "colab_type": "text"
      },
      "source": [
        "# Time factor for delays"
      ]
    },
    {
      "cell_type": "markdown",
      "metadata": {
        "id": "gNkrIrL659DZ",
        "colab_type": "text"
      },
      "source": [
        "Is there patterns on how flight delays are distributed across different hours of the day?"
      ]
    },
    {
      "cell_type": "code",
      "metadata": {
        "id": "WZMryO7t6WCi",
        "colab_type": "code",
        "colab": {}
      },
      "source": [
        "delayed_flights['DepTime'] = delayed_flights['DepTime'].astype(int)"
      ],
      "execution_count": 0,
      "outputs": []
    },
    {
      "cell_type": "code",
      "metadata": {
        "id": "_DC0s3CIHO4v",
        "colab_type": "code",
        "colab": {}
      },
      "source": [
        "time_bins = [0, 600, 1000, 1200, 1400, 1600, 1800, 2000, 2200, 2400]\n",
        "time_cat_names = ['0:00-6:00', '6:00-10:00', '10:00-12:00','12:00-14:00','14:00-16:00','16:00-18:00', '18:00-20:00','20:00-22:00','22:00-24:00']\n",
        "delayed_flights['Time range'] = pd.cut(delayed_flights['DepTime'], time_bins, labels = time_cat_names)\n",
        "delayed_flights.groupby(['Time range'])['Time range'].count()\n"
      ],
      "execution_count": 0,
      "outputs": []
    },
    {
      "cell_type": "markdown",
      "metadata": {
        "id": "hFlRfryDWnrV",
        "colab_type": "text"
      },
      "source": [
        "Bar plot for the flight delays across hours of the day"
      ]
    },
    {
      "cell_type": "code",
      "metadata": {
        "id": "Yi153LHBPcRM",
        "colab_type": "code",
        "colab": {}
      },
      "source": [
        "Timedata = pd.Series(delayed_flights.groupby(['Time range'])['Time range'].count(), index=time_cat_names)\n",
        "ax = sns.barplot(Timedata.index, Timedata.values)\n",
        "ax.set_xticklabels(ax.get_xticklabels(), rotation=45, ha=\"right\")\n",
        "plt.tight_layout()\n",
        "plt.show()"
      ],
      "execution_count": 0,
      "outputs": []
    },
    {
      "cell_type": "markdown",
      "metadata": {
        "id": "CEPkscnZZ5MR",
        "colab_type": "text"
      },
      "source": [
        "# Season and Month Analysis "
      ]
    },
    {
      "cell_type": "markdown",
      "metadata": {
        "id": "71GyGxf-Iy3c",
        "colab_type": "text"
      },
      "source": [
        "**Seasonal delay summary**"
      ]
    },
    {
      "cell_type": "code",
      "metadata": {
        "id": "B8oNqge6Kf9p",
        "colab_type": "code",
        "colab": {}
      },
      "source": [
        "month_to_season_lu = np.array([\n",
        "    None,\n",
        "    'Winter', 'Winter',\n",
        "    'Spring', 'Spring', 'Spring',\n",
        "    'Summer', 'Summer', 'Summer',\n",
        "    'Fall', 'Fall', 'Fall',\n",
        "    'Winter'\n",
        "])\n",
        "delayed_flights['Season range'] = month_to_season_lu[delayed_flights['Month']]\n",
        "season_delay_count =  delayed_flights.groupby(['Season range'])['Season range'].count()\n",
        "season_delay_count"
      ],
      "execution_count": 0,
      "outputs": []
    },
    {
      "cell_type": "code",
      "metadata": {
        "id": "12BUdAwAQ_ky",
        "colab_type": "code",
        "colab": {}
      },
      "source": [
        "SeasonPlot = pd.Series(season_delay_count, index=month_to_season_lu)\n",
        "sns.barplot(SeasonPlot.index, SeasonPlot.values)"
      ],
      "execution_count": 0,
      "outputs": []
    },
    {
      "cell_type": "markdown",
      "metadata": {
        "id": "Rpp6fmkmNyws",
        "colab_type": "text"
      },
      "source": [
        "Check data for different delay types\n",
        "\n",
        "\n"
      ]
    },
    {
      "cell_type": "code",
      "metadata": {
        "id": "Qm_DpJNQNxX3",
        "colab_type": "code",
        "colab": {}
      },
      "source": [
        "n = len(delayed_flights)\n",
        "print(n)\n",
        "print(\"CarrierDelay: \"+ str(n-delayed_flights['CarrierDelay'].isnull().value_counts().values.tolist()[0]))\n",
        "print(\"WeatherDelay: \"+ str(n-delayed_flights['WeatherDelay'].isnull().value_counts().values.tolist()[0]))\n",
        "print(\"LateAircraftDelay: \"+ str(n-delayed_flights['LateAircraftDelay'].isnull().value_counts().values.tolist()[0]))\n",
        "print(\"SecurityDelay: \"+ str(n-delayed_flights['SecurityDelay'].isnull().value_counts().values.tolist()[0]))\n",
        "print(\"NASDelay: \"+ str(n-delayed_flights['NASDelay'].isnull().value_counts().values.tolist()[0]))"
      ],
      "execution_count": 0,
      "outputs": []
    },
    {
      "cell_type": "markdown",
      "metadata": {
        "id": "B_SWp9nGuTTp",
        "colab_type": "text"
      },
      "source": [
        "**Seasonal Carrier Delay**"
      ]
    },
    {
      "cell_type": "code",
      "metadata": {
        "id": "vCf3BssUsJi2",
        "colab_type": "code",
        "colab": {}
      },
      "source": [
        "season_carrier_delay = delayed_flights.groupby(['Season range'])['CarrierDelay'].sum()\n",
        "season_carrier_delay"
      ],
      "execution_count": 0,
      "outputs": []
    },
    {
      "cell_type": "markdown",
      "metadata": {
        "id": "OPwR6zKit7GA",
        "colab_type": "text"
      },
      "source": [
        "Bar plot for the seaonal Carrier delay"
      ]
    },
    {
      "cell_type": "code",
      "metadata": {
        "id": "LvJXT37NsQa7",
        "colab_type": "code",
        "colab": {}
      },
      "source": [
        "CarrierSeasonPlot = pd.Series(season_carrier_delay, index=month_to_season_lu)\n",
        "sns.barplot(CarrierSeasonPlot.index, CarrierSeasonPlot.values)"
      ],
      "execution_count": 0,
      "outputs": []
    },
    {
      "cell_type": "markdown",
      "metadata": {
        "id": "Kq5TcpxLuiwl",
        "colab_type": "text"
      },
      "source": [
        "**Seasonal Weather Delay**"
      ]
    },
    {
      "cell_type": "code",
      "metadata": {
        "id": "K-HQFHkiOfl3",
        "colab_type": "code",
        "colab": {}
      },
      "source": [
        "season_weather_delay = delayed_flights.groupby(['Season range'])['WeatherDelay'].sum()\n",
        "season_weather_delay"
      ],
      "execution_count": 0,
      "outputs": []
    },
    {
      "cell_type": "markdown",
      "metadata": {
        "id": "Hd0cen59S50V",
        "colab_type": "text"
      },
      "source": [
        "Bar plot for the seaonal weather delay"
      ]
    },
    {
      "cell_type": "code",
      "metadata": {
        "id": "EAb4-xsQS2H8",
        "colab_type": "code",
        "colab": {}
      },
      "source": [
        "WeatherSeasonPlot = pd.Series(season_weather_delay, index=month_to_season_lu)\n",
        "sns.barplot(WeatherSeasonPlot.index, WeatherSeasonPlot.values)"
      ],
      "execution_count": 0,
      "outputs": []
    },
    {
      "cell_type": "markdown",
      "metadata": {
        "id": "sdLpYGfkulAI",
        "colab_type": "text"
      },
      "source": [
        "**Seasonal Late Aircraft Delay**"
      ]
    },
    {
      "cell_type": "code",
      "metadata": {
        "id": "WJOtYV33XPKS",
        "colab_type": "code",
        "colab": {}
      },
      "source": [
        "season_aircraft_delay = delayed_flights.groupby(['Season range'])['LateAircraftDelay'].sum()\n",
        "season_aircraft_delay"
      ],
      "execution_count": 0,
      "outputs": []
    },
    {
      "cell_type": "markdown",
      "metadata": {
        "id": "yJF04swTXoa4",
        "colab_type": "text"
      },
      "source": [
        "Bar plot for the seaonal late aircraft delay"
      ]
    },
    {
      "cell_type": "code",
      "metadata": {
        "id": "4MQhu5vUXcXy",
        "colab_type": "code",
        "colab": {}
      },
      "source": [
        "LateAircraftSeasonPlot= pd.Series(season_aircraft_delay,index=month_to_season_lu)\n",
        "sns.barplot(LateAircraftSeasonPlot.index, LateAircraftSeasonPlot.values)"
      ],
      "execution_count": 0,
      "outputs": []
    },
    {
      "cell_type": "markdown",
      "metadata": {
        "id": "uQbuYGEtupLk",
        "colab_type": "text"
      },
      "source": [
        "**Seasonal NAS Delay**"
      ]
    },
    {
      "cell_type": "code",
      "metadata": {
        "id": "768-XnyMhvF3",
        "colab_type": "code",
        "colab": {}
      },
      "source": [
        "season_NAS_delay = delayed_flights.groupby(['Season range'])['NASDelay'].sum()\n",
        "season_NAS_delay"
      ],
      "execution_count": 0,
      "outputs": []
    },
    {
      "cell_type": "markdown",
      "metadata": {
        "id": "rqEWtR5fuvU6",
        "colab_type": "text"
      },
      "source": [
        "Bar plot for the seaonal NAS delay"
      ]
    },
    {
      "cell_type": "code",
      "metadata": {
        "id": "0Ax6mQrKh3wW",
        "colab_type": "code",
        "colab": {}
      },
      "source": [
        "NASSeasonPlot= pd.Series(season_aircraft_delay,index=month_to_season_lu)\n",
        "sns.barplot(NASSeasonPlot.index, NASSeasonPlot.values)"
      ],
      "execution_count": 0,
      "outputs": []
    },
    {
      "cell_type": "markdown",
      "metadata": {
        "id": "5QT676z3urRS",
        "colab_type": "text"
      },
      "source": [
        "**Seasonal Security Delay**"
      ]
    },
    {
      "cell_type": "code",
      "metadata": {
        "id": "SBatRzZQtJz4",
        "colab_type": "code",
        "colab": {}
      },
      "source": [
        "season_Security_delay = delayed_flights.groupby(['Season range'])['SecurityDelay'].sum()\n",
        "season_Security_delay\n"
      ],
      "execution_count": 0,
      "outputs": []
    },
    {
      "cell_type": "markdown",
      "metadata": {
        "id": "ArE_Dmppux64",
        "colab_type": "text"
      },
      "source": [
        "Bar plot for the seaonal security delay"
      ]
    },
    {
      "cell_type": "code",
      "metadata": {
        "id": "hPY9MkARtyPr",
        "colab_type": "code",
        "colab": {}
      },
      "source": [
        "SecuritySeasonPlot= pd.Series(season_Security_delay,index=month_to_season_lu)\n",
        "sns.barplot(SecuritySeasonPlot.index, SecuritySeasonPlot.values)"
      ],
      "execution_count": 0,
      "outputs": []
    },
    {
      "cell_type": "code",
      "metadata": {
        "id": "_zxPHPCfiURS",
        "colab_type": "code",
        "colab": {}
      },
      "source": [
        "f, axes = plt.subplots(2, 3,figsize=(10,5))\n",
        "sns.barplot(CarrierSeasonPlot.index, CarrierSeasonPlot.values,ax=axes[0,0])\n",
        "axes[0,0].title.set_text(\"Carrier\") \n",
        "sns.barplot(WeatherSeasonPlot.index, WeatherSeasonPlot.values,ax=axes[0,1])\n",
        "axes[0,1].title.set_text(\"Weather\") \n",
        "sns.barplot(LateAircraftSeasonPlot.index, LateAircraftSeasonPlot.values, ax=axes[0,2])\n",
        "axes[0,2].title.set_text(\"Late Aircraft\") \n",
        "sns.barplot(NASSeasonPlot.index, NASSeasonPlot.values, ax=axes[1,0])\n",
        "axes[1,0].title.set_text(\"NAS\")\n",
        "sns.barplot(SecuritySeasonPlot.index, SecuritySeasonPlot.values, ax=axes[1,1])\n",
        "axes[1,1].title.set_text(\"Security\")\n",
        "plt.tight_layout()\n"
      ],
      "execution_count": 0,
      "outputs": []
    },
    {
      "cell_type": "markdown",
      "metadata": {
        "id": "4sKruUj5aM2M",
        "colab_type": "text"
      },
      "source": [
        "**Monthly  delay summary**"
      ]
    },
    {
      "cell_type": "code",
      "metadata": {
        "id": "RjVdbeuBaa58",
        "colab_type": "code",
        "colab": {}
      },
      "source": [
        "delayed_flights.groupby(['Month'])['Month'].count()"
      ],
      "execution_count": 0,
      "outputs": []
    },
    {
      "cell_type": "markdown",
      "metadata": {
        "id": "fH5k8xY2akdB",
        "colab_type": "text"
      },
      "source": [
        "Check data for different delay types and its data in different months"
      ]
    },
    {
      "cell_type": "markdown",
      "metadata": {
        "id": "qL2tszNOW1In",
        "colab_type": "text"
      },
      "source": [
        "**Monthly Carrier Delay**"
      ]
    },
    {
      "cell_type": "code",
      "metadata": {
        "id": "fwWmg8Heu58j",
        "colab_type": "code",
        "colab": {}
      },
      "source": [
        "month_carrier_delay = delayed_flights.groupby(['Month'])['CarrierDelay'].sum()\n",
        "month_carrier_delay"
      ],
      "execution_count": 0,
      "outputs": []
    },
    {
      "cell_type": "markdown",
      "metadata": {
        "id": "AKMk1y0-NPNW",
        "colab_type": "text"
      },
      "source": [
        "Bar plot for the monthly carrier delay"
      ]
    },
    {
      "cell_type": "code",
      "metadata": {
        "id": "nHh1T85ku9fg",
        "colab_type": "code",
        "colab": {}
      },
      "source": [
        "MonthCarrierPlot = pd.Series(month_carrier_delay, index=delayed_flights.Month)\n",
        "sns.barplot(MonthCarrierPlot.index, MonthCarrierPlot.values)"
      ],
      "execution_count": 0,
      "outputs": []
    },
    {
      "cell_type": "markdown",
      "metadata": {
        "id": "gi_Se_cdW4KH",
        "colab_type": "text"
      },
      "source": [
        "**Monthly Weather Delay**"
      ]
    },
    {
      "cell_type": "code",
      "metadata": {
        "id": "OcCJdwADSUXt",
        "colab_type": "code",
        "colab": {}
      },
      "source": [
        "month_weather_delay = delayed_flights.groupby(['Month'])['WeatherDelay'].sum()\n",
        "month_weather_delay"
      ],
      "execution_count": 0,
      "outputs": []
    },
    {
      "cell_type": "markdown",
      "metadata": {
        "id": "ZQ60982vbLTW",
        "colab_type": "text"
      },
      "source": [
        "Bar plot for the monthly weather delay"
      ]
    },
    {
      "cell_type": "code",
      "metadata": {
        "id": "IAMfljcwVPTy",
        "colab_type": "code",
        "colab": {}
      },
      "source": [
        "MonthWeatherPlot = pd.Series(month_weather_delay, index=delayed_flights.Month)\n",
        "sns.barplot(MonthWeatherPlot.index, MonthWeatherPlot.values)"
      ],
      "execution_count": 0,
      "outputs": []
    },
    {
      "cell_type": "markdown",
      "metadata": {
        "id": "6_fWNI7yW9Pj",
        "colab_type": "text"
      },
      "source": [
        "**Monthly Aircraft Delay**"
      ]
    },
    {
      "cell_type": "code",
      "metadata": {
        "id": "HR6FrVTTSX5S",
        "colab_type": "code",
        "colab": {}
      },
      "source": [
        "month_aircraft_delay = delayed_flights.groupby(['Month'])['LateAircraftDelay'].sum()\n",
        "month_aircraft_delay"
      ],
      "execution_count": 0,
      "outputs": []
    },
    {
      "cell_type": "markdown",
      "metadata": {
        "id": "5mqK_JV0bOkF",
        "colab_type": "text"
      },
      "source": [
        "Bar plot for the monthly late aircraft delay"
      ]
    },
    {
      "cell_type": "code",
      "metadata": {
        "id": "mgqdlXqDYTIj",
        "colab_type": "code",
        "colab": {}
      },
      "source": [
        "MonthAircraftPlot = pd.Series(month_aircraft_delay, index=delayed_flights.Month)\n",
        "sns.barplot(MonthAircraftPlot.index, MonthAircraftPlot.values)"
      ],
      "execution_count": 0,
      "outputs": []
    },
    {
      "cell_type": "markdown",
      "metadata": {
        "id": "XbaI_NptW-zc",
        "colab_type": "text"
      },
      "source": [
        "**Monthly NAS Delay**"
      ]
    },
    {
      "cell_type": "code",
      "metadata": {
        "id": "O1MLJWQWlsiC",
        "colab_type": "code",
        "colab": {}
      },
      "source": [
        "month_NAS_delay = delayed_flights.groupby(['Month'])['NASDelay'].sum()\n",
        "month_NAS_delay"
      ],
      "execution_count": 0,
      "outputs": []
    },
    {
      "cell_type": "markdown",
      "metadata": {
        "id": "jxlJ8dkmNUTp",
        "colab_type": "text"
      },
      "source": [
        "Bar plot for the monthly NAS delay"
      ]
    },
    {
      "cell_type": "code",
      "metadata": {
        "id": "mOs8sE8LludS",
        "colab_type": "code",
        "colab": {}
      },
      "source": [
        "MonthNASPlot = pd.Series(month_NAS_delay, index=delayed_flights.Month)\n",
        "sns.barplot(MonthNASPlot.index, MonthNASPlot.values)"
      ],
      "execution_count": 0,
      "outputs": []
    },
    {
      "cell_type": "markdown",
      "metadata": {
        "id": "iHHF3yAaXARa",
        "colab_type": "text"
      },
      "source": [
        "**Monthly Security Delay**"
      ]
    },
    {
      "cell_type": "code",
      "metadata": {
        "id": "uBoqNL5RvNkC",
        "colab_type": "code",
        "colab": {}
      },
      "source": [
        "month_Security_delay = delayed_flights.groupby(['Month'])['SecurityDelay'].sum()\n",
        "month_Security_delay"
      ],
      "execution_count": 0,
      "outputs": []
    },
    {
      "cell_type": "markdown",
      "metadata": {
        "id": "vGzkdU2MNWAL",
        "colab_type": "text"
      },
      "source": [
        "Bar plot for the monthly Security delay"
      ]
    },
    {
      "cell_type": "code",
      "metadata": {
        "id": "ANGxYL1NvV4_",
        "colab_type": "code",
        "colab": {}
      },
      "source": [
        "MonthSecurityPlot = pd.Series(month_Security_delay, index=delayed_flights.Month)\n",
        "sns.barplot(MonthSecurityPlot.index, MonthSecurityPlot.values)"
      ],
      "execution_count": 0,
      "outputs": []
    },
    {
      "cell_type": "markdown",
      "metadata": {
        "id": "J7bjpbORXCPm",
        "colab_type": "text"
      },
      "source": [
        "**Integrated monthly barplots for different types of delay** "
      ]
    },
    {
      "cell_type": "code",
      "metadata": {
        "id": "gfDy-5CFlpFH",
        "colab_type": "code",
        "colab": {}
      },
      "source": [
        "\n",
        "f, axes = plt.subplots(2, 3,figsize=(10,5))\n",
        "sns.barplot(MonthCarrierPlot.index, MonthCarrierPlot.values,ax=axes[0,0])\n",
        "axes[0,0].title.set_text(\"Carrier\") \n",
        "sns.barplot(MonthWeatherPlot.index, MonthWeatherPlot.values,ax=axes[0,1])\n",
        "axes[0,1].title.set_text(\"Weather\") \n",
        "sns.barplot(MonthAircraftPlot.index, MonthAircraftPlot.values, ax=axes[0,2])\n",
        "axes[0,2].title.set_text(\"Late Aircraft\") \n",
        "sns.barplot(MonthNASPlot.index, MonthNASPlot.values, ax=axes[1,0])\n",
        "axes[1,0].title.set_text(\"NAS\")\n",
        "sns.barplot(MonthSecurityPlot.index, MonthSecurityPlot.values, ax=axes[1,1])\n",
        "axes[1,1].title.set_text(\"Security\")\n",
        "plt.tight_layout()\n"
      ],
      "execution_count": 0,
      "outputs": []
    },
    {
      "cell_type": "code",
      "metadata": {
        "id": "gCZfrtg6b__j",
        "colab_type": "code",
        "colab": {}
      },
      "source": [
        "Airports = pd.DataFrame(origin_annual)\n",
        "\n",
        "airportsWeather = delayed_flights.groupby(['Origin'])[['WeatherDelay']].sum().sort_values(by='WeatherDelay',ascending = False)\n",
        "airportsNASDelay = delayed_flights.groupby(['Origin'])[['NASDelay']].sum().sort_values(by='NASDelay', ascending = False)\n",
        "airportsSecurityDelay = delayed_flights.groupby(['Origin'])[['SecurityDelay']].sum().sort_values(by='SecurityDelay', ascending = False)\n",
        "airportsLateAircraftDelay = delayed_flights.groupby(['Origin'])[['LateAircraftDelay']].sum().sort_values(by='LateAircraftDelay', ascending = False)\n",
        "Airports['Weather Delay'] = airportsWeather\n",
        "Airports['NAS Delay'] = airportsNASDelay\n",
        "Airports['Security Delay'] = airportsSecurityDelay\n",
        "Airports['Late Aircraft Delay'] = airportsLateAircraftDelay"
      ],
      "execution_count": 0,
      "outputs": []
    },
    {
      "cell_type": "code",
      "metadata": {
        "id": "k__cRG2cfZxw",
        "colab_type": "code",
        "colab": {}
      },
      "source": [
        "delayed_flights.groupby(['Cancelled','CancellationCode'])[['CancellationCode']].count()"
      ],
      "execution_count": 0,
      "outputs": []
    },
    {
      "cell_type": "markdown",
      "metadata": {
        "id": "WIwOltCpYHoG",
        "colab_type": "text"
      },
      "source": [
        "#Plot Comparisions for airports and monthly delays"
      ]
    },
    {
      "cell_type": "markdown",
      "metadata": {
        "id": "RttW0231YKI8",
        "colab_type": "text"
      },
      "source": [
        "**Normalized Bar Graph ATL, ORD, DFW vs. CMX, PLN, SPI**"
      ]
    },
    {
      "cell_type": "code",
      "metadata": {
        "id": "--3kSlyxYJk0",
        "colab_type": "code",
        "colab": {}
      },
      "source": [
        "ATLDelay = delayed_flights.loc[(delayed_flights['Origin'] == 'ATL')]\n",
        "ORDDelay = delayed_flights.loc[(delayed_flights['Origin'] == 'ORD')]\n",
        "DFWDelay = delayed_flights.loc[(delayed_flights['Origin'] == 'DFW')]\n",
        "\n",
        "CMXDelay = delayed_flights.loc[(delayed_flights['Origin'] == 'CMX')]\n",
        "PLNDelay = delayed_flights.loc[(delayed_flights['Origin'] == 'PLN')]\n",
        "SPIDelay = delayed_flights.loc[(delayed_flights['Origin'] == 'SPI')]\n",
        "DelayMinutesArray = [ATLDelay['CarrierDelay'].sum(),ATLDelay['WeatherDelay'].sum(),ATLDelay['NASDelay'].sum(),\n",
        "            ATLDelay['SecurityDelay'].sum(), ATLDelay['LateAircraftDelay'].sum(),ORDDelay['CarrierDelay'].sum(),ORDDelay['WeatherDelay'].sum(),ORDDelay['NASDelay'].sum(),\n",
        "            ORDDelay['SecurityDelay'].sum(), ORDDelay['LateAircraftDelay'].sum(),DFWDelay['CarrierDelay'].sum(),DFWDelay['WeatherDelay'].sum(),DFWDelay['NASDelay'].sum(),\n",
        "            DFWDelay['SecurityDelay'].sum(), DFWDelay['LateAircraftDelay'].sum(),CMXDelay['CarrierDelay'].sum(),CMXDelay['WeatherDelay'].sum(),CMXDelay['NASDelay'].sum(),\n",
        "            CMXDelay['SecurityDelay'].sum(), CMXDelay['LateAircraftDelay'].sum(),PLNDelay['CarrierDelay'].sum(),PLNDelay['WeatherDelay'].sum(),PLNDelay['NASDelay'].sum(),\n",
        "            PLNDelay['SecurityDelay'].sum(), PLNDelay['LateAircraftDelay'].sum(),SPIDelay['CarrierDelay'].sum(),SPIDelay['WeatherDelay'].sum(),SPIDelay['NASDelay'].sum(),\n",
        "            SPIDelay['SecurityDelay'].sum(), SPIDelay['LateAircraftDelay'].sum()]\n",
        "AirportArray = ['ATL','ATL','ATL','ATL','ATL','ORD','ORD','ORD','ORD','ORD',\n",
        "                'DFW','DFW','DFW','DFW','DFW','CMX','CMX','CMX','CMX','CMX',\n",
        "               'PLN','PLN','PLN','PLN','PLN','SPI','SPI','SPI','SPI','SPI']\n",
        "siteListIndex = ['Carrier Delay', 'Weather Delay', 'NAS Delay', 'Security Delay', 'Late Aircraft Delay',\n",
        "                 'Carrier Delay', 'Weather Delay', 'NAS Delay', 'Security Delay', 'Late Aircraft Delay',\n",
        "                'Carrier Delay', 'Weather Delay', 'NAS Delay', 'Security Delay', 'Late Aircraft Delay',\n",
        "                'Carrier Delay', 'Weather Delay', 'NAS Delay', 'Security Delay', 'Late Aircraft Delay',\n",
        "                'Carrier Delay', 'Weather Delay', 'NAS Delay', 'Security Delay', 'Late Aircraft Delay',\n",
        "                'Carrier Delay', 'Weather Delay', 'NAS Delay', 'Security Delay', 'Late Aircraft Delay']\n"
      ],
      "execution_count": 0,
      "outputs": []
    },
    {
      "cell_type": "markdown",
      "metadata": {
        "id": "CS7Vy7OMlEeo",
        "colab_type": "text"
      },
      "source": [
        "This normalized bar graph shows that the top 3 busiest airport by instance have mostly Late Aircraft Delays. Whereas, the top 3 busiest airports by average delay length have a variety of causes such as NAS Delay for SPI (a military/civil airport) and CMX and PLN airport have issues with Carrier Delay. This makes sense as airline companies tend to prefer larger airports over smaller ones to maximize profit. "
      ]
    },
    {
      "cell_type": "code",
      "metadata": {
        "id": "cvO9wcX0YUFN",
        "colab_type": "code",
        "colab": {}
      },
      "source": [
        "AirportComp = pd.DataFrame(DelayMinutesArray)\n",
        "AirportComp['1'] = AirportArray\n",
        "AirportComp['2'] = siteListIndex\n",
        "AirportComp.columns = ['Delay Minutes', 'Airport', 'Type of Delay']\n",
        "AirportComp"
      ],
      "execution_count": 0,
      "outputs": []
    },
    {
      "cell_type": "code",
      "metadata": {
        "id": "qZSNrD0YYXCq",
        "colab_type": "code",
        "colab": {}
      },
      "source": [
        "alt.Chart(AirportComp).mark_bar().encode(\n",
        "    x=alt.X('sum(Delay Minutes)', stack=\"normalize\"),\n",
        "    y='Airport',\n",
        "    color='Type of Delay'\n",
        ")"
      ],
      "execution_count": 0,
      "outputs": []
    },
    {
      "cell_type": "markdown",
      "metadata": {
        "id": "67fhRGvfYabl",
        "colab_type": "text"
      },
      "source": [
        "**Multi-Line Graph for Monthly Delays by Type of Delays**"
      ]
    },
    {
      "cell_type": "code",
      "metadata": {
        "id": "yBGVim1eYeBm",
        "colab_type": "code",
        "colab": {}
      },
      "source": [
        "CarrierMonth = pd.Series(delayed_flights.groupby(['Month'])['CarrierDelay'].sum())\n",
        "WeatherMonth = pd.Series(delayed_flights.groupby(['Month'])['WeatherDelay'].sum())\n",
        "LateAircraftMonth = pd.Series(delayed_flights.groupby(['Month'])['LateAircraftDelay'].sum())\n",
        "NASMonth = pd.Series(delayed_flights.groupby(['Month'])['NASDelay'].sum())\n",
        "SecurityMonth = pd.Series(delayed_flights.groupby(['Month'])['SecurityDelay'].sum())"
      ],
      "execution_count": 0,
      "outputs": []
    },
    {
      "cell_type": "code",
      "metadata": {
        "id": "qzTWdC2FYk8x",
        "colab_type": "code",
        "colab": {}
      },
      "source": [
        "seasonPlots = [CarrierMonth, WeatherMonth, LateAircraftMonth, NASMonth, SecurityMonth]\n",
        "Symbol = ['Carrier Delay','Carrier Delay','Carrier Delay','Carrier Delay','Carrier Delay','Carrier Delay',\n",
        "         'Carrier Delay','Carrier Delay','Carrier Delay','Carrier Delay','Carrier Delay','Carrier Delay',\n",
        "         'Weather Delay','Weather Delay','Weather Delay','Weather Delay','Weather Delay','Weather Delay',\n",
        "         'Weather Delay','Weather Delay','Weather Delay','Weather Delay','Weather Delay','Weather Delay',\n",
        "         'Late Aircraft Delay','Late Aircraft Delay','Late Aircraft Delay','Late Aircraft Delay','Late Aircraft Delay',\n",
        "         'Late Aircraft Delay','Late Aircraft Delay','Late Aircraft Delay','Late Aircraft Delay','Late Aircraft Delay',\n",
        "         'Late Aircraft Delay','Late Aircraft Delay', 'NAS Delay', 'NAS Delay','NAS Delay','NAS Delay','NAS Delay',\n",
        "         'NAS Delay','NAS Delay','NAS Delay','NAS Delay','NAS Delay','NAS Delay','NAS Delay', 'Security Delay',\n",
        "          'Security Delay','Security Delay','Security Delay','Security Delay','Security Delay','Security Delay',\n",
        "          'Security Delay','Security Delay','Security Delay','Security Delay','Security Delay']\n",
        "DelayMinutes = pd.concat(seasonPlots)\n",
        "DelaySeasonCompPlot = pd.DataFrame(DelayMinutes)\n",
        "DelaySeasonCompPlot['1'] = Symbol\n",
        "DelaySeasonCompPlot['2'] = DelaySeasonCompPlot.index\n",
        "DelaySeasonCompPlot.columns = ['Delay Minutes','Delay Type','Month']\n"
      ],
      "execution_count": 0,
      "outputs": []
    },
    {
      "cell_type": "code",
      "metadata": {
        "id": "ID_rLMsWYoGe",
        "colab_type": "code",
        "colab": {}
      },
      "source": [
        "alt.Chart(DelaySeasonCompPlot).mark_line().encode(\n",
        "    x='Month',\n",
        "    y='Delay Minutes',\n",
        "    color='Delay Type'\n",
        ")"
      ],
      "execution_count": 0,
      "outputs": []
    },
    {
      "cell_type": "markdown",
      "metadata": {
        "id": "8Mnhz-bPljMV",
        "colab_type": "text"
      },
      "source": [
        "This multi-line graph clearly shows that Late Aircraft Delay, by minutes delayed, is typically the dominant cause of delay. There appears to be a general sinusoidal pattern with peaks at February, June, and December for all delay times. Which is also sensible due to high traffic during holiday and school breaks. Another interesting point to note is how Late Aircraft Delay dips below Carrier Delay in September, suggesting low traffic in September."
      ]
    },
    {
      "cell_type": "markdown",
      "metadata": {
        "colab_type": "text",
        "id": "2IY331QgBEm5"
      },
      "source": [
        "## Exercise 2: Ethical Implications"
      ]
    },
    {
      "cell_type": "markdown",
      "metadata": {
        "colab_type": "text",
        "id": "uK8XzfVHLi1K"
      },
      "source": [
        "Even the most basic of models have the potential to affect segments of the population in different ways. It is important to consider how your model might positively and negative effect different types of users.\n",
        "\n",
        "In this section of the project you will reflect on the positive and negative implications of your model."
      ]
    },
    {
      "cell_type": "markdown",
      "metadata": {
        "colab_type": "text",
        "id": "BqyxriWE53Du"
      },
      "source": [
        "### Student Solution"
      ]
    },
    {
      "cell_type": "markdown",
      "metadata": {
        "colab_type": "text",
        "id": "_U3L0F9FLmwa"
      },
      "source": [
        "**Positive Impact**\n",
        "\n",
        "Your model is trying to solve a problem. Think about who will benefit from that problem being solved and write a brief narrative about how the model will help.\n",
        "\n",
        "---"
      ]
    },
    {
      "cell_type": "markdown",
      "metadata": {
        "colab_type": "text",
        "id": "g582VerYL0so"
      },
      "source": [
        "*Hypothetical entities will benefit because...*\n",
        "\n",
        "This model shows what airports are the busiest and when. In addition, it also shows the flight delays across different variables such as hours of the day, months, season and reasons for delays. The people travelling would benefit from this as they could plan their flights by avoiding busiest airports and avoding buying flight tickets during the time most delays happen."
      ]
    },
    {
      "cell_type": "markdown",
      "metadata": {
        "colab_type": "text",
        "id": "ALr018eQMuUw"
      },
      "source": [
        "**Negative Impact**\n",
        "\n",
        "Models don't often have universal benefit. Think about who might be negatively impacted by the predictions your model is making. This person or persons might not be directly using the model, but instead might be impacted indirectly.\n",
        "\n",
        "---"
      ]
    },
    {
      "cell_type": "markdown",
      "metadata": {
        "colab_type": "text",
        "id": "We8_W4WtNDLw"
      },
      "source": [
        "*Hypothetical entity will be negatively impacted because...*\n",
        "\n",
        "This model would have a negative impact on the flight airlines and the airports; it might affect their reputation. Also, they might lose their customers or have troubles arranging their flight scedules."
      ]
    },
    {
      "cell_type": "markdown",
      "metadata": {
        "colab_type": "text",
        "id": "07J-8ljpL85I"
      },
      "source": [
        "**Bias**\n",
        "\n",
        "Models can be bias for many reasons. The bias can come from the data used to build the model (eg. sampling, data collection methods, available sources) and from the interpretation of the predictions generated by the model.\n",
        "\n",
        "Think of at least two ways that bias might have been introduced to your model and explain both below.\n",
        "\n",
        "---"
      ]
    },
    {
      "cell_type": "markdown",
      "metadata": {
        "colab_type": "text",
        "id": "Jg_PSw3NMyFX"
      },
      "source": [
        "*One source of bias in the model could be the data collected by the small arlines...*\n",
        "\n",
        "The smaller airlines might suffer from this. These small airlines have a limited number of flights. Although these airlines might have a huge delay in between flights, when we look at the sum for delays they are still less in number when compared to the larger airlines. \n",
        "\n",
        "*Another source of bias in the model could be lack of features...*\n",
        "\n",
        "There could be several reasons for a flight delay. One of them could be technical issues. If there is an issue with an aircraft, that sets a bias because it is not that specific airline that has a problem - The plane itself is the main issue, but if that plane is assigned to a number of flights, this might set a bias in the data as there might be a lot of flight delays, making it seem like its that specific airline that always gets the delays."
      ]
    },
    {
      "cell_type": "markdown",
      "metadata": {
        "colab_type": "text",
        "id": "7j9AWdJLMTJI"
      },
      "source": [
        "**Changing the Dataset to Mitigate Bias**\n",
        "\n",
        "Bias datasets are one of the primary ways in which bias is introduced to a machine learning model. Look back at the input data that you fed to your model. Think about how you might change something about the data to reduce bias in your model.\n",
        "\n",
        "What change or changes could you make to your dataset less bias? Consider the data that you have, how and where that data was collected, and what other sources of data might be used to reduce bias.\n",
        "\n",
        "Write a summary of change that could be made to your input data.\n",
        "\n",
        "---"
      ]
    },
    {
      "cell_type": "markdown",
      "metadata": {
        "colab_type": "text",
        "id": "yzzfrQ-xNZo5"
      },
      "source": [
        "*Since the data has potential bias A we can adjust...*\n",
        "\n",
        "\n",
        "We could probably add more features about an aircraft which then, would make it easier to extract the delay information based on the aircrafts. We also need the delay types filled for all entries. Currently we are missing certain portion of entries from the dataset regarding types of delay. In general, we could add more data to this dataset and have more complete data information."
      ]
    },
    {
      "cell_type": "markdown",
      "metadata": {
        "colab_type": "text",
        "id": "ePs6hpLiMNSx"
      },
      "source": [
        "**Changing the Model to Mitigate Bias**\n",
        "\n",
        "Is there any way to reduce bias by changing the model itself? This could include modifying algorithmic choices, tweaking hyperparameters, etc.\n",
        "\n",
        "Write a brief summary of changes that you could make to help reduce bias in your model.\n",
        "\n",
        "---"
      ]
    },
    {
      "cell_type": "markdown",
      "metadata": {
        "colab_type": "text",
        "id": "bZ3PS8bRNRCv"
      },
      "source": [
        "*Since the model has potential bias A we can adjust...*\n",
        "\n",
        "We want to make sure that the model is able to make predictions for new data. This would reduce the bias and cause a high variance. We could use more columns from the dataset that give us information about an aircraft and possible reasons for specific type of delays. For example, the number of times an aircraft has been assigned to flights could give us an idea about the plane's condition."
      ]
    },
    {
      "cell_type": "markdown",
      "metadata": {
        "colab_type": "text",
        "id": "YYY7lk55MgdX"
      },
      "source": [
        "**Mitigating Bias Downstream**\n",
        "\n",
        "Models make predictions. Downstream processes make decisions. What processes and/or rules should be in place for people and systems interpreting and acting on the results of your model to reduce the bias? Describe these below.\n",
        "\n",
        "---"
      ]
    },
    {
      "cell_type": "markdown",
      "metadata": {
        "colab_type": "text",
        "id": "Mp3TkmalNcR-"
      },
      "source": [
        "*Since the predictions have potential bias A we can adjust...*\n",
        "\n",
        "\n",
        "We are talking about assumptions here. The assumptions that should be in place for people are that delays are related with an aircraft rather than making generalizations about that specific airline."
      ]
    }
  ]
}