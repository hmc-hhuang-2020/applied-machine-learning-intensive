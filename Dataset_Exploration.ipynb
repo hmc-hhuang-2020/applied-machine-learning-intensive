{
 "cells": [
  {
   "cell_type": "markdown",
   "metadata": {
    "colab_type": "text",
    "id": "jx_FnF6HFucc"
   },
   "source": [
    "#### Copyright 2019 Google LLC."
   ]
  },
  {
   "cell_type": "code",
   "execution_count": 0,
   "metadata": {
    "colab": {},
    "colab_type": "code",
    "id": "cSdG7cSNFro-"
   },
   "outputs": [],
   "source": [
    "# Licensed under the Apache License, Version 2.0 (the \"License\");\n",
    "# you may not use this file except in compliance with the License.\n",
    "# You may obtain a copy of the License at\n",
    "#\n",
    "# https://www.apache.org/licenses/LICENSE-2.0\n",
    "#\n",
    "# Unless required by applicable law or agreed to in writing, software\n",
    "# distributed under the License is distributed on an \"AS IS\" BASIS,\n",
    "# WITHOUT WARRANTIES OR CONDITIONS OF ANY KIND, either express or implied.\n",
    "# See the License for the specific language governing permissions and\n",
    "# limitations under the License."
   ]
  },
  {
   "cell_type": "markdown",
   "metadata": {
    "colab_type": "text",
    "id": "_FdRu8E0F6EJ"
   },
   "source": [
    "# Dataset Exploration\n"
   ]
  },
  {
   "cell_type": "markdown",
   "metadata": {
    "colab_type": "text",
    "id": "2iIQ-XduKJZz"
   },
   "source": [
    "## Overview"
   ]
  },
  {
   "cell_type": "markdown",
   "metadata": {
    "colab_type": "text",
    "id": "B-TOrwufKQhD"
   },
   "source": [
    "### Learning Objectives\n",
    "\n",
    "* Acquire and load dataset(s) into the Pandas structures.\n",
    "* Inspect data columns description and statistics.\n",
    "* Explore data to understand relationship between features.\n",
    "* Draw data insights."
   ]
  },
  {
   "cell_type": "markdown",
   "metadata": {
    "colab_type": "text",
    "id": "6LqnO7DiKmwi"
   },
   "source": [
    "### Prerequisites\n",
    "\n",
    "* Introduction to Colab\n",
    "* Intermediate Python\n",
    "* Intermediate Pandas\n",
    "* Visualizations\n",
    "* Data Exploration"
   ]
  },
  {
   "cell_type": "markdown",
   "metadata": {
    "colab_type": "text",
    "id": "a0-9HPLU43Xf"
   },
   "source": [
    "# Exercises"
   ]
  },
  {
   "cell_type": "markdown",
   "metadata": {
    "colab_type": "text",
    "id": "8rqFJ-Ch4_mU"
   },
   "source": [
    "## Exercise 1: Coding"
   ]
  },
  {
   "cell_type": "markdown",
   "metadata": {
    "colab_type": "text",
    "id": "cr12EFb2WQym"
   },
   "source": [
    "[Kaggle](http://www.kaggle.com) hosts a [dataset containing US airline on-time statistics and delay data](https://www.kaggle.com/giovamata/airlinedelaycauses) from the [US Department of Transportation's Bureau of Transportation Statistics (BTS)](https://www.bts.gov/). In this project we will **use flight statistics data to gain insights into US airports and airlines flights in 2008**.\n",
    "\n",
    "You are free to use any toolkit that we have covered in this class to solve the problem. That should be at least Pandas and Matplotlib or Seaborn.\n",
    "\n",
    "Important details:\n",
    "\n",
    "* The [dataset](https://www.kaggle.com/giovamata/airlinedelaycauses) consists of one file, DelayedFlights.csv.\n",
    "* The column we are trying to predict is 'time_in_shelter_days'.\n",
    "* Do not use any outcome data as features for training the model. We want to be able to predict the time in shelter for any given animal at intake.\n",
    "* Not all animals have outcomes. Not all outcomes are adoption.\n",
    "\n",
    "**Graded** demonstrations of competency:\n",
    "1. Get the data into a Python object.\n",
    "1. Inspect the data for columns' datatype and statistics.\n",
    "1. Explore the data programmatically and visually.\n",
    "1. Produce answer and visualization where applicable for at least 3 questions.  Pick from the list of questions below or come up with one yourself, and talk about any insight if any:\n",
    "\n",
    "  * Which US airports is the busiest airports?  Decide how you'd like to measure it, eg: by annual, monthly, or daily flight traffic?\n",
    "  * Of the 2008 flights that are __actually delayed__, think about:\n",
    "    * Which 10 US airlines have the most delays measured it by flight count?\n",
    "    * Which 10 US airlines have the most delays measured it by average length of delay?\n",
    "    * Similarly, you can get the top 10 US aiports instead of airlines for the previous questions.  Which 10 US airports have the most delays measured it by flight count?\n",
    "    * Which 10 US airports have the most delays measured it by flight count?\n",
    "  * More analysis:\n",
    "    * Is there patterns on how flight delays are distributed across different hours of the day?\n",
    "    * Similarly, how about across months or season?  Maybe correllate to seasonal weather impact, holiday traffic, etc.\n",
    "    * If you look at the data beyond the top 10 US airlines or airports is the data show linearity as you examine top 40 US airlines or airports.\n",
    "    * Reexamine the figures you worked on above by reason for delay.\n",
    "    * Drill down on particular airport, airline or even origin and arrival airport pairs - and examine flight frequencies, delays, time of day or year, etc.\n",
    "  * or any questions that your team come up with."
   ]
  },
  {
   "cell_type": "markdown",
   "metadata": {
    "colab_type": "text",
    "id": "WgFU38b7rfbv"
   },
   "source": [
    "### Student Solution"
   ]
  },
  {
   "cell_type": "code",
   "execution_count": 4,
   "metadata": {
    "colab": {},
    "colab_type": "code",
    "id": "wOdOl0qqPyL-"
   },
   "outputs": [],
   "source": [
    "import altair as alt\n",
    "import numpy as np \n",
    "import pandas as pd\n",
    "import math\n",
    "import matplotlib\n",
    "import matplotlib.pyplot as plt\n",
    "import re\n",
    "import seaborn as sns\n",
    "\n",
    "dataset_filename = \"./DelayedFlights.csv\"\n",
    "delayed_flights =pd.read_csv(dataset_filename)"
   ]
  },
  {
   "cell_type": "code",
   "execution_count": 5,
   "metadata": {
    "colab": {},
    "colab_type": "code",
    "id": "o-JcRPQglaEF"
   },
   "outputs": [
    {
     "data": {
      "text/html": [
       "<div>\n",
       "<style scoped>\n",
       "    .dataframe tbody tr th:only-of-type {\n",
       "        vertical-align: middle;\n",
       "    }\n",
       "\n",
       "    .dataframe tbody tr th {\n",
       "        vertical-align: top;\n",
       "    }\n",
       "\n",
       "    .dataframe thead th {\n",
       "        text-align: right;\n",
       "    }\n",
       "</style>\n",
       "<table border=\"1\" class=\"dataframe\">\n",
       "  <thead>\n",
       "    <tr style=\"text-align: right;\">\n",
       "      <th></th>\n",
       "      <th>Unnamed: 0</th>\n",
       "      <th>Year</th>\n",
       "      <th>Month</th>\n",
       "      <th>DayofMonth</th>\n",
       "      <th>DayOfWeek</th>\n",
       "      <th>DepTime</th>\n",
       "      <th>CRSDepTime</th>\n",
       "      <th>ArrTime</th>\n",
       "      <th>CRSArrTime</th>\n",
       "      <th>UniqueCarrier</th>\n",
       "      <th>...</th>\n",
       "      <th>TaxiIn</th>\n",
       "      <th>TaxiOut</th>\n",
       "      <th>Cancelled</th>\n",
       "      <th>CancellationCode</th>\n",
       "      <th>Diverted</th>\n",
       "      <th>CarrierDelay</th>\n",
       "      <th>WeatherDelay</th>\n",
       "      <th>NASDelay</th>\n",
       "      <th>SecurityDelay</th>\n",
       "      <th>LateAircraftDelay</th>\n",
       "    </tr>\n",
       "  </thead>\n",
       "  <tbody>\n",
       "    <tr>\n",
       "      <th>0</th>\n",
       "      <td>0</td>\n",
       "      <td>2008</td>\n",
       "      <td>1</td>\n",
       "      <td>3</td>\n",
       "      <td>4</td>\n",
       "      <td>2003.0</td>\n",
       "      <td>1955</td>\n",
       "      <td>2211.0</td>\n",
       "      <td>2225</td>\n",
       "      <td>WN</td>\n",
       "      <td>...</td>\n",
       "      <td>4.0</td>\n",
       "      <td>8.0</td>\n",
       "      <td>0</td>\n",
       "      <td>N</td>\n",
       "      <td>0</td>\n",
       "      <td>NaN</td>\n",
       "      <td>NaN</td>\n",
       "      <td>NaN</td>\n",
       "      <td>NaN</td>\n",
       "      <td>NaN</td>\n",
       "    </tr>\n",
       "    <tr>\n",
       "      <th>1</th>\n",
       "      <td>1</td>\n",
       "      <td>2008</td>\n",
       "      <td>1</td>\n",
       "      <td>3</td>\n",
       "      <td>4</td>\n",
       "      <td>754.0</td>\n",
       "      <td>735</td>\n",
       "      <td>1002.0</td>\n",
       "      <td>1000</td>\n",
       "      <td>WN</td>\n",
       "      <td>...</td>\n",
       "      <td>5.0</td>\n",
       "      <td>10.0</td>\n",
       "      <td>0</td>\n",
       "      <td>N</td>\n",
       "      <td>0</td>\n",
       "      <td>NaN</td>\n",
       "      <td>NaN</td>\n",
       "      <td>NaN</td>\n",
       "      <td>NaN</td>\n",
       "      <td>NaN</td>\n",
       "    </tr>\n",
       "    <tr>\n",
       "      <th>2</th>\n",
       "      <td>2</td>\n",
       "      <td>2008</td>\n",
       "      <td>1</td>\n",
       "      <td>3</td>\n",
       "      <td>4</td>\n",
       "      <td>628.0</td>\n",
       "      <td>620</td>\n",
       "      <td>804.0</td>\n",
       "      <td>750</td>\n",
       "      <td>WN</td>\n",
       "      <td>...</td>\n",
       "      <td>3.0</td>\n",
       "      <td>17.0</td>\n",
       "      <td>0</td>\n",
       "      <td>N</td>\n",
       "      <td>0</td>\n",
       "      <td>NaN</td>\n",
       "      <td>NaN</td>\n",
       "      <td>NaN</td>\n",
       "      <td>NaN</td>\n",
       "      <td>NaN</td>\n",
       "    </tr>\n",
       "    <tr>\n",
       "      <th>3</th>\n",
       "      <td>4</td>\n",
       "      <td>2008</td>\n",
       "      <td>1</td>\n",
       "      <td>3</td>\n",
       "      <td>4</td>\n",
       "      <td>1829.0</td>\n",
       "      <td>1755</td>\n",
       "      <td>1959.0</td>\n",
       "      <td>1925</td>\n",
       "      <td>WN</td>\n",
       "      <td>...</td>\n",
       "      <td>3.0</td>\n",
       "      <td>10.0</td>\n",
       "      <td>0</td>\n",
       "      <td>N</td>\n",
       "      <td>0</td>\n",
       "      <td>2.0</td>\n",
       "      <td>0.0</td>\n",
       "      <td>0.0</td>\n",
       "      <td>0.0</td>\n",
       "      <td>32.0</td>\n",
       "    </tr>\n",
       "    <tr>\n",
       "      <th>4</th>\n",
       "      <td>5</td>\n",
       "      <td>2008</td>\n",
       "      <td>1</td>\n",
       "      <td>3</td>\n",
       "      <td>4</td>\n",
       "      <td>1940.0</td>\n",
       "      <td>1915</td>\n",
       "      <td>2121.0</td>\n",
       "      <td>2110</td>\n",
       "      <td>WN</td>\n",
       "      <td>...</td>\n",
       "      <td>4.0</td>\n",
       "      <td>10.0</td>\n",
       "      <td>0</td>\n",
       "      <td>N</td>\n",
       "      <td>0</td>\n",
       "      <td>NaN</td>\n",
       "      <td>NaN</td>\n",
       "      <td>NaN</td>\n",
       "      <td>NaN</td>\n",
       "      <td>NaN</td>\n",
       "    </tr>\n",
       "  </tbody>\n",
       "</table>\n",
       "<p>5 rows × 30 columns</p>\n",
       "</div>"
      ],
      "text/plain": [
       "   Unnamed: 0  Year  Month  DayofMonth  DayOfWeek  DepTime  CRSDepTime  \\\n",
       "0           0  2008      1           3          4   2003.0        1955   \n",
       "1           1  2008      1           3          4    754.0         735   \n",
       "2           2  2008      1           3          4    628.0         620   \n",
       "3           4  2008      1           3          4   1829.0        1755   \n",
       "4           5  2008      1           3          4   1940.0        1915   \n",
       "\n",
       "   ArrTime  CRSArrTime UniqueCarrier  ...  TaxiIn TaxiOut  Cancelled  \\\n",
       "0   2211.0        2225            WN  ...     4.0     8.0          0   \n",
       "1   1002.0        1000            WN  ...     5.0    10.0          0   \n",
       "2    804.0         750            WN  ...     3.0    17.0          0   \n",
       "3   1959.0        1925            WN  ...     3.0    10.0          0   \n",
       "4   2121.0        2110            WN  ...     4.0    10.0          0   \n",
       "\n",
       "   CancellationCode  Diverted  CarrierDelay  WeatherDelay NASDelay  \\\n",
       "0                 N         0           NaN           NaN      NaN   \n",
       "1                 N         0           NaN           NaN      NaN   \n",
       "2                 N         0           NaN           NaN      NaN   \n",
       "3                 N         0           2.0           0.0      0.0   \n",
       "4                 N         0           NaN           NaN      NaN   \n",
       "\n",
       "  SecurityDelay  LateAircraftDelay  \n",
       "0           NaN                NaN  \n",
       "1           NaN                NaN  \n",
       "2           NaN                NaN  \n",
       "3           0.0               32.0  \n",
       "4           NaN                NaN  \n",
       "\n",
       "[5 rows x 30 columns]"
      ]
     },
     "execution_count": 5,
     "metadata": {},
     "output_type": "execute_result"
    }
   ],
   "source": [
    "delayed_flights.head()"
   ]
  },
  {
   "cell_type": "code",
   "execution_count": 6,
   "metadata": {
    "colab": {},
    "colab_type": "code",
    "id": "k0DJgEtOllWN"
   },
   "outputs": [
    {
     "data": {
      "text/plain": [
       "Unnamed: 0             int64\n",
       "Year                   int64\n",
       "Month                  int64\n",
       "DayofMonth             int64\n",
       "DayOfWeek              int64\n",
       "DepTime              float64\n",
       "CRSDepTime             int64\n",
       "ArrTime              float64\n",
       "CRSArrTime             int64\n",
       "UniqueCarrier         object\n",
       "FlightNum              int64\n",
       "TailNum               object\n",
       "ActualElapsedTime    float64\n",
       "CRSElapsedTime       float64\n",
       "AirTime              float64\n",
       "ArrDelay             float64\n",
       "DepDelay             float64\n",
       "Origin                object\n",
       "Dest                  object\n",
       "Distance               int64\n",
       "TaxiIn               float64\n",
       "TaxiOut              float64\n",
       "Cancelled              int64\n",
       "CancellationCode      object\n",
       "Diverted               int64\n",
       "CarrierDelay         float64\n",
       "WeatherDelay         float64\n",
       "NASDelay             float64\n",
       "SecurityDelay        float64\n",
       "LateAircraftDelay    float64\n",
       "dtype: object"
      ]
     },
     "execution_count": 6,
     "metadata": {},
     "output_type": "execute_result"
    }
   ],
   "source": [
    "delayed_flights.dtypes"
   ]
  },
  {
   "cell_type": "markdown",
   "metadata": {
    "colab_type": "text",
    "id": "QKkVmNqPqeMU"
   },
   "source": [
    "Data cleaning - Check null value for Origin and Destination airports"
   ]
  },
  {
   "cell_type": "code",
   "execution_count": 7,
   "metadata": {
    "colab": {},
    "colab_type": "code",
    "id": "UlIsgZOPp6zb"
   },
   "outputs": [
    {
     "name": "stdout",
     "output_type": "stream",
     "text": [
      "Origin: 0\n",
      "Dest: 0\n"
     ]
    }
   ],
   "source": [
    "n = len(delayed_flights)\n",
    "print(\"Origin: \"+ str(n-delayed_flights['Origin'].isnull().value_counts().values.tolist()[0]))\n",
    "print(\"Dest: \"+str(n-delayed_flights['Dest'].isnull().value_counts().values.tolist()[0]))"
   ]
  },
  {
   "cell_type": "code",
   "execution_count": 8,
   "metadata": {
    "colab": {},
    "colab_type": "code",
    "id": "WNorvyyGnJqQ"
   },
   "outputs": [],
   "source": [
    "delayed_flights['DepTime'] = delayed_flights['DepTime'].astype(int)\n"
   ]
  },
  {
   "cell_type": "markdown",
   "metadata": {
    "colab_type": "text",
    "id": "cwKlN1mLmo3a"
   },
   "source": [
    "# **The the busiest airports - by annual and monthly**"
   ]
  },
  {
   "cell_type": "markdown",
   "metadata": {
    "colab_type": "text",
    "id": "fb7FJyZYVbUl"
   },
   "source": [
    "**Monthly analysis of delayed situation for airports**\n"
   ]
  },
  {
   "cell_type": "code",
   "execution_count": 9,
   "metadata": {
    "colab": {},
    "colab_type": "code",
    "id": "x2P8J-fAnPQp"
   },
   "outputs": [
    {
     "data": {
      "text/html": [
       "<div>\n",
       "<style scoped>\n",
       "    .dataframe tbody tr th:only-of-type {\n",
       "        vertical-align: middle;\n",
       "    }\n",
       "\n",
       "    .dataframe tbody tr th {\n",
       "        vertical-align: top;\n",
       "    }\n",
       "\n",
       "    .dataframe thead th {\n",
       "        text-align: right;\n",
       "    }\n",
       "</style>\n",
       "<table border=\"1\" class=\"dataframe\">\n",
       "  <thead>\n",
       "    <tr style=\"text-align: right;\">\n",
       "      <th></th>\n",
       "      <th></th>\n",
       "      <th>Month Origin Count</th>\n",
       "    </tr>\n",
       "    <tr>\n",
       "      <th>Month</th>\n",
       "      <th>Origin</th>\n",
       "      <th></th>\n",
       "    </tr>\n",
       "  </thead>\n",
       "  <tbody>\n",
       "    <tr>\n",
       "      <th>7</th>\n",
       "      <th>ATL</th>\n",
       "      <td>14609</td>\n",
       "    </tr>\n",
       "    <tr>\n",
       "      <th>3</th>\n",
       "      <th>ATL</th>\n",
       "      <td>14449</td>\n",
       "    </tr>\n",
       "    <tr>\n",
       "      <th>12</th>\n",
       "      <th>ATL</th>\n",
       "      <td>14130</td>\n",
       "    </tr>\n",
       "    <tr>\n",
       "      <th>6</th>\n",
       "      <th>ORD</th>\n",
       "      <td>14032</td>\n",
       "    </tr>\n",
       "    <tr>\n",
       "      <th>1</th>\n",
       "      <th>ORD</th>\n",
       "      <td>13938</td>\n",
       "    </tr>\n",
       "  </tbody>\n",
       "</table>\n",
       "</div>"
      ],
      "text/plain": [
       "              Month Origin Count\n",
       "Month Origin                    \n",
       "7     ATL                  14609\n",
       "3     ATL                  14449\n",
       "12    ATL                  14130\n",
       "6     ORD                  14032\n",
       "1     ORD                  13938"
      ]
     },
     "execution_count": 9,
     "metadata": {},
     "output_type": "execute_result"
    }
   ],
   "source": [
    "delayed_flights['Month Origin Count']= delayed_flights['Origin']\n",
    "origin_month = delayed_flights.groupby(['Month','Origin'])[['Month Origin Count']].count().sort_values(by='Month Origin Count', ascending=False)\n",
    "origin_month.head(5)"
   ]
  },
  {
   "cell_type": "code",
   "execution_count": 10,
   "metadata": {
    "colab": {},
    "colab_type": "code",
    "id": "pYiKNR3Du-HB"
   },
   "outputs": [
    {
     "data": {
      "text/html": [
       "<div>\n",
       "<style scoped>\n",
       "    .dataframe tbody tr th:only-of-type {\n",
       "        vertical-align: middle;\n",
       "    }\n",
       "\n",
       "    .dataframe tbody tr th {\n",
       "        vertical-align: top;\n",
       "    }\n",
       "\n",
       "    .dataframe thead th {\n",
       "        text-align: right;\n",
       "    }\n",
       "</style>\n",
       "<table border=\"1\" class=\"dataframe\">\n",
       "  <thead>\n",
       "    <tr style=\"text-align: right;\">\n",
       "      <th></th>\n",
       "      <th></th>\n",
       "      <th>Month Dest Count</th>\n",
       "    </tr>\n",
       "    <tr>\n",
       "      <th>Month</th>\n",
       "      <th>Dest</th>\n",
       "      <th></th>\n",
       "    </tr>\n",
       "  </thead>\n",
       "  <tbody>\n",
       "    <tr>\n",
       "      <th>6</th>\n",
       "      <th>ORD</th>\n",
       "      <td>13182</td>\n",
       "    </tr>\n",
       "    <tr>\n",
       "      <th>12</th>\n",
       "      <th>ATL</th>\n",
       "      <td>12437</td>\n",
       "    </tr>\n",
       "    <tr>\n",
       "      <th>1</th>\n",
       "      <th>ORD</th>\n",
       "      <td>11908</td>\n",
       "    </tr>\n",
       "    <tr>\n",
       "      <th>7</th>\n",
       "      <th>ATL</th>\n",
       "      <td>11586</td>\n",
       "    </tr>\n",
       "    <tr>\n",
       "      <th>2</th>\n",
       "      <th>ORD</th>\n",
       "      <td>11280</td>\n",
       "    </tr>\n",
       "  </tbody>\n",
       "</table>\n",
       "</div>"
      ],
      "text/plain": [
       "            Month Dest Count\n",
       "Month Dest                  \n",
       "6     ORD              13182\n",
       "12    ATL              12437\n",
       "1     ORD              11908\n",
       "7     ATL              11586\n",
       "2     ORD              11280"
      ]
     },
     "execution_count": 10,
     "metadata": {},
     "output_type": "execute_result"
    }
   ],
   "source": [
    "delayed_flights['Month Dest Count']= delayed_flights['Dest']\n",
    "dest_month = delayed_flights.groupby(['Month','Dest'])[['Month Dest Count']].count().sort_values(by='Month Dest Count', ascending=False)\n",
    "dest_month.head(5)"
   ]
  },
  {
   "cell_type": "markdown",
   "metadata": {
    "colab_type": "text",
    "id": "ScNQn-NiV1S_"
   },
   "source": [
    "**Annual analysis of delayed situation for airports**\n",
    "\n",
    "By origin and destination airport"
   ]
  },
  {
   "cell_type": "code",
   "execution_count": 11,
   "metadata": {
    "colab": {},
    "colab_type": "code",
    "id": "9SX7gPbKVofD"
   },
   "outputs": [
    {
     "data": {
      "text/html": [
       "<div>\n",
       "<style scoped>\n",
       "    .dataframe tbody tr th:only-of-type {\n",
       "        vertical-align: middle;\n",
       "    }\n",
       "\n",
       "    .dataframe tbody tr th {\n",
       "        vertical-align: top;\n",
       "    }\n",
       "\n",
       "    .dataframe thead th {\n",
       "        text-align: right;\n",
       "    }\n",
       "</style>\n",
       "<table border=\"1\" class=\"dataframe\">\n",
       "  <thead>\n",
       "    <tr style=\"text-align: right;\">\n",
       "      <th></th>\n",
       "      <th>Origin Count</th>\n",
       "    </tr>\n",
       "    <tr>\n",
       "      <th>Origin</th>\n",
       "      <th></th>\n",
       "    </tr>\n",
       "  </thead>\n",
       "  <tbody>\n",
       "    <tr>\n",
       "      <th>ATL</th>\n",
       "      <td>131613</td>\n",
       "    </tr>\n",
       "    <tr>\n",
       "      <th>ORD</th>\n",
       "      <td>125979</td>\n",
       "    </tr>\n",
       "    <tr>\n",
       "      <th>DFW</th>\n",
       "      <td>95414</td>\n",
       "    </tr>\n",
       "    <tr>\n",
       "      <th>DEN</th>\n",
       "      <td>74323</td>\n",
       "    </tr>\n",
       "    <tr>\n",
       "      <th>LAX</th>\n",
       "      <td>58772</td>\n",
       "    </tr>\n",
       "  </tbody>\n",
       "</table>\n",
       "</div>"
      ],
      "text/plain": [
       "        Origin Count\n",
       "Origin              \n",
       "ATL           131613\n",
       "ORD           125979\n",
       "DFW            95414\n",
       "DEN            74323\n",
       "LAX            58772"
      ]
     },
     "execution_count": 11,
     "metadata": {},
     "output_type": "execute_result"
    }
   ],
   "source": [
    "delayed_flights['Origin Count']= delayed_flights['Origin']\n",
    "origin_annual = delayed_flights.groupby(['Origin'])[['Origin Count']].count().sort_values(by='Origin Count', ascending=False)\n",
    "origin_annual.head(5)"
   ]
  },
  {
   "cell_type": "code",
   "execution_count": 12,
   "metadata": {
    "colab": {},
    "colab_type": "code",
    "id": "D48PTkFHoOUp"
   },
   "outputs": [
    {
     "data": {
      "text/html": [
       "<div>\n",
       "<style scoped>\n",
       "    .dataframe tbody tr th:only-of-type {\n",
       "        vertical-align: middle;\n",
       "    }\n",
       "\n",
       "    .dataframe tbody tr th {\n",
       "        vertical-align: top;\n",
       "    }\n",
       "\n",
       "    .dataframe thead th {\n",
       "        text-align: right;\n",
       "    }\n",
       "</style>\n",
       "<table border=\"1\" class=\"dataframe\">\n",
       "  <thead>\n",
       "    <tr style=\"text-align: right;\">\n",
       "      <th></th>\n",
       "      <th>Dest Count</th>\n",
       "    </tr>\n",
       "    <tr>\n",
       "      <th>Dest</th>\n",
       "      <th></th>\n",
       "    </tr>\n",
       "  </thead>\n",
       "  <tbody>\n",
       "    <tr>\n",
       "      <th>ORD</th>\n",
       "      <td>108984</td>\n",
       "    </tr>\n",
       "    <tr>\n",
       "      <th>ATL</th>\n",
       "      <td>106898</td>\n",
       "    </tr>\n",
       "    <tr>\n",
       "      <th>DFW</th>\n",
       "      <td>70657</td>\n",
       "    </tr>\n",
       "    <tr>\n",
       "      <th>DEN</th>\n",
       "      <td>63003</td>\n",
       "    </tr>\n",
       "    <tr>\n",
       "      <th>LAX</th>\n",
       "      <td>59969</td>\n",
       "    </tr>\n",
       "  </tbody>\n",
       "</table>\n",
       "</div>"
      ],
      "text/plain": [
       "      Dest Count\n",
       "Dest            \n",
       "ORD       108984\n",
       "ATL       106898\n",
       "DFW        70657\n",
       "DEN        63003\n",
       "LAX        59969"
      ]
     },
     "execution_count": 12,
     "metadata": {},
     "output_type": "execute_result"
    }
   ],
   "source": [
    "delayed_flights['Dest Count']= delayed_flights['Dest']\n",
    "dest_annual = delayed_flights.groupby(['Dest'])[['Dest Count']].count().sort_values(by='Dest Count', ascending=False)\n",
    "dest_annual.head(5)"
   ]
  },
  {
   "cell_type": "markdown",
   "metadata": {
    "colab_type": "text",
    "id": "tqgxiX-cV8SX"
   },
   "source": [
    "Airport sum for delays as origin and destination airports"
   ]
  },
  {
   "cell_type": "code",
   "execution_count": 13,
   "metadata": {
    "colab": {},
    "colab_type": "code",
    "id": "SkykWmps0Pz6"
   },
   "outputs": [
    {
     "data": {
      "text/html": [
       "<div>\n",
       "<style scoped>\n",
       "    .dataframe tbody tr th:only-of-type {\n",
       "        vertical-align: middle;\n",
       "    }\n",
       "\n",
       "    .dataframe tbody tr th {\n",
       "        vertical-align: top;\n",
       "    }\n",
       "\n",
       "    .dataframe thead th {\n",
       "        text-align: right;\n",
       "    }\n",
       "</style>\n",
       "<table border=\"1\" class=\"dataframe\">\n",
       "  <thead>\n",
       "    <tr style=\"text-align: right;\">\n",
       "      <th></th>\n",
       "      <th></th>\n",
       "      <th></th>\n",
       "      <th>Month Origin Count</th>\n",
       "      <th>Month Dest Count</th>\n",
       "      <th>Sum</th>\n",
       "    </tr>\n",
       "    <tr>\n",
       "      <th>Month</th>\n",
       "      <th>Origin</th>\n",
       "      <th>Dest</th>\n",
       "      <th></th>\n",
       "      <th></th>\n",
       "      <th></th>\n",
       "    </tr>\n",
       "  </thead>\n",
       "  <tbody>\n",
       "    <tr>\n",
       "      <th>6</th>\n",
       "      <th>ORD</th>\n",
       "      <th>ORD</th>\n",
       "      <td>14032</td>\n",
       "      <td>13182</td>\n",
       "      <td>27214</td>\n",
       "    </tr>\n",
       "    <tr>\n",
       "      <th>12</th>\n",
       "      <th>ATL</th>\n",
       "      <th>ATL</th>\n",
       "      <td>14130</td>\n",
       "      <td>12437</td>\n",
       "      <td>26567</td>\n",
       "    </tr>\n",
       "    <tr>\n",
       "      <th>7</th>\n",
       "      <th>ATL</th>\n",
       "      <th>ATL</th>\n",
       "      <td>14609</td>\n",
       "      <td>11586</td>\n",
       "      <td>26195</td>\n",
       "    </tr>\n",
       "    <tr>\n",
       "      <th>1</th>\n",
       "      <th>ORD</th>\n",
       "      <th>ORD</th>\n",
       "      <td>13938</td>\n",
       "      <td>11908</td>\n",
       "      <td>25846</td>\n",
       "    </tr>\n",
       "    <tr>\n",
       "      <th>3</th>\n",
       "      <th>ATL</th>\n",
       "      <th>ATL</th>\n",
       "      <td>14449</td>\n",
       "      <td>11121</td>\n",
       "      <td>25570</td>\n",
       "    </tr>\n",
       "  </tbody>\n",
       "</table>\n",
       "</div>"
      ],
      "text/plain": [
       "                   Month Origin Count  Month Dest Count    Sum\n",
       "Month Origin Dest                                             \n",
       "6     ORD    ORD                14032             13182  27214\n",
       "12    ATL    ATL                14130             12437  26567\n",
       "7     ATL    ATL                14609             11586  26195\n",
       "1     ORD    ORD                13938             11908  25846\n",
       "3     ATL    ATL                14449             11121  25570"
      ]
     },
     "execution_count": 13,
     "metadata": {},
     "output_type": "execute_result"
    }
   ],
   "source": [
    "merge_month_count = pd.merge(origin_month, dest_month,left_index=True, right_index=True)\n",
    "merge_month_count['Sum'] = merge_month_count['Month Origin Count']+merge_month_count['Month Dest Count']\n",
    "merge_month_count.sort_values(by='Sum', ascending=False).head(5)"
   ]
  },
  {
   "cell_type": "code",
   "execution_count": 14,
   "metadata": {
    "colab": {},
    "colab_type": "code",
    "id": "qItNrRGhvOgR"
   },
   "outputs": [
    {
     "data": {
      "text/html": [
       "<div>\n",
       "<style scoped>\n",
       "    .dataframe tbody tr th:only-of-type {\n",
       "        vertical-align: middle;\n",
       "    }\n",
       "\n",
       "    .dataframe tbody tr th {\n",
       "        vertical-align: top;\n",
       "    }\n",
       "\n",
       "    .dataframe thead th {\n",
       "        text-align: right;\n",
       "    }\n",
       "</style>\n",
       "<table border=\"1\" class=\"dataframe\">\n",
       "  <thead>\n",
       "    <tr style=\"text-align: right;\">\n",
       "      <th></th>\n",
       "      <th>Origin Count</th>\n",
       "      <th>Dest Count</th>\n",
       "      <th>Sum</th>\n",
       "    </tr>\n",
       "  </thead>\n",
       "  <tbody>\n",
       "    <tr>\n",
       "      <th>ATL</th>\n",
       "      <td>131613</td>\n",
       "      <td>106898</td>\n",
       "      <td>238511</td>\n",
       "    </tr>\n",
       "    <tr>\n",
       "      <th>ORD</th>\n",
       "      <td>125979</td>\n",
       "      <td>108984</td>\n",
       "      <td>234963</td>\n",
       "    </tr>\n",
       "    <tr>\n",
       "      <th>DFW</th>\n",
       "      <td>95414</td>\n",
       "      <td>70657</td>\n",
       "      <td>166071</td>\n",
       "    </tr>\n",
       "    <tr>\n",
       "      <th>DEN</th>\n",
       "      <td>74323</td>\n",
       "      <td>63003</td>\n",
       "      <td>137326</td>\n",
       "    </tr>\n",
       "    <tr>\n",
       "      <th>LAX</th>\n",
       "      <td>58772</td>\n",
       "      <td>59969</td>\n",
       "      <td>118741</td>\n",
       "    </tr>\n",
       "  </tbody>\n",
       "</table>\n",
       "</div>"
      ],
      "text/plain": [
       "     Origin Count  Dest Count     Sum\n",
       "ATL        131613      106898  238511\n",
       "ORD        125979      108984  234963\n",
       "DFW         95414       70657  166071\n",
       "DEN         74323       63003  137326\n",
       "LAX         58772       59969  118741"
      ]
     },
     "execution_count": 14,
     "metadata": {},
     "output_type": "execute_result"
    }
   ],
   "source": [
    "merge_count = pd.merge(origin_annual, dest_annual,left_index=True, right_index=True)\n",
    "merge_count['Sum'] = merge_count['Origin Count']+merge_count['Dest Count']\n",
    "merge_count.sort_values(by='Sum', ascending=False).head(5)"
   ]
  },
  {
   "cell_type": "markdown",
   "metadata": {
    "colab_type": "text",
    "id": "FB-WXYNrY3cv"
   },
   "source": [
    "# Airlines Delay Situation"
   ]
  },
  {
   "cell_type": "markdown",
   "metadata": {
    "colab_type": "text",
    "id": "G3GumV8w2Hkt"
   },
   "source": [
    "Which 10 US airlines have the most delays measured it by flight count?"
   ]
  },
  {
   "cell_type": "code",
   "execution_count": 15,
   "metadata": {
    "colab": {},
    "colab_type": "code",
    "id": "8TQGGAf42XG-"
   },
   "outputs": [
    {
     "data": {
      "text/html": [
       "<div>\n",
       "<style scoped>\n",
       "    .dataframe tbody tr th:only-of-type {\n",
       "        vertical-align: middle;\n",
       "    }\n",
       "\n",
       "    .dataframe tbody tr th {\n",
       "        vertical-align: top;\n",
       "    }\n",
       "\n",
       "    .dataframe thead th {\n",
       "        text-align: right;\n",
       "    }\n",
       "</style>\n",
       "<table border=\"1\" class=\"dataframe\">\n",
       "  <thead>\n",
       "    <tr style=\"text-align: right;\">\n",
       "      <th></th>\n",
       "      <th>UniqueCarrier Count</th>\n",
       "    </tr>\n",
       "    <tr>\n",
       "      <th>UniqueCarrier</th>\n",
       "      <th></th>\n",
       "    </tr>\n",
       "  </thead>\n",
       "  <tbody>\n",
       "    <tr>\n",
       "      <th>WN</th>\n",
       "      <td>377602</td>\n",
       "    </tr>\n",
       "    <tr>\n",
       "      <th>AA</th>\n",
       "      <td>191865</td>\n",
       "    </tr>\n",
       "    <tr>\n",
       "      <th>MQ</th>\n",
       "      <td>141920</td>\n",
       "    </tr>\n",
       "    <tr>\n",
       "      <th>UA</th>\n",
       "      <td>141426</td>\n",
       "    </tr>\n",
       "    <tr>\n",
       "      <th>OO</th>\n",
       "      <td>132433</td>\n",
       "    </tr>\n",
       "    <tr>\n",
       "      <th>DL</th>\n",
       "      <td>114238</td>\n",
       "    </tr>\n",
       "    <tr>\n",
       "      <th>XE</th>\n",
       "      <td>103663</td>\n",
       "    </tr>\n",
       "    <tr>\n",
       "      <th>CO</th>\n",
       "      <td>100195</td>\n",
       "    </tr>\n",
       "    <tr>\n",
       "      <th>US</th>\n",
       "      <td>98425</td>\n",
       "    </tr>\n",
       "    <tr>\n",
       "      <th>EV</th>\n",
       "      <td>81877</td>\n",
       "    </tr>\n",
       "    <tr>\n",
       "      <th>NW</th>\n",
       "      <td>79108</td>\n",
       "    </tr>\n",
       "    <tr>\n",
       "      <th>FL</th>\n",
       "      <td>71284</td>\n",
       "    </tr>\n",
       "    <tr>\n",
       "      <th>YV</th>\n",
       "      <td>67063</td>\n",
       "    </tr>\n",
       "    <tr>\n",
       "      <th>B6</th>\n",
       "      <td>55315</td>\n",
       "    </tr>\n",
       "    <tr>\n",
       "      <th>OH</th>\n",
       "      <td>52657</td>\n",
       "    </tr>\n",
       "    <tr>\n",
       "      <th>9E</th>\n",
       "      <td>51885</td>\n",
       "    </tr>\n",
       "    <tr>\n",
       "      <th>AS</th>\n",
       "      <td>39293</td>\n",
       "    </tr>\n",
       "    <tr>\n",
       "      <th>F9</th>\n",
       "      <td>28269</td>\n",
       "    </tr>\n",
       "    <tr>\n",
       "      <th>HA</th>\n",
       "      <td>7490</td>\n",
       "    </tr>\n",
       "    <tr>\n",
       "      <th>AQ</th>\n",
       "      <td>750</td>\n",
       "    </tr>\n",
       "  </tbody>\n",
       "</table>\n",
       "</div>"
      ],
      "text/plain": [
       "               UniqueCarrier Count\n",
       "UniqueCarrier                     \n",
       "WN                          377602\n",
       "AA                          191865\n",
       "MQ                          141920\n",
       "UA                          141426\n",
       "OO                          132433\n",
       "DL                          114238\n",
       "XE                          103663\n",
       "CO                          100195\n",
       "US                           98425\n",
       "EV                           81877\n",
       "NW                           79108\n",
       "FL                           71284\n",
       "YV                           67063\n",
       "B6                           55315\n",
       "OH                           52657\n",
       "9E                           51885\n",
       "AS                           39293\n",
       "F9                           28269\n",
       "HA                            7490\n",
       "AQ                             750"
      ]
     },
     "execution_count": 15,
     "metadata": {},
     "output_type": "execute_result"
    }
   ],
   "source": [
    "delayed_flights['UniqueCarrier Count']= delayed_flights['UniqueCarrier']\n",
    "airline_delay = delayed_flights.groupby(['UniqueCarrier'])[['UniqueCarrier Count']].count().sort_values(by='UniqueCarrier Count', ascending=False)\n",
    "airline_delay"
   ]
  },
  {
   "cell_type": "markdown",
   "metadata": {
    "colab_type": "text",
    "id": "VTkrdp7326Qu"
   },
   "source": [
    "Which 10 US airlines have the most delays measured it by average length of delay?"
   ]
  },
  {
   "cell_type": "code",
   "execution_count": 16,
   "metadata": {
    "colab": {},
    "colab_type": "code",
    "id": "97wBFHqV2639"
   },
   "outputs": [
    {
     "data": {
      "text/html": [
       "<div>\n",
       "<style scoped>\n",
       "    .dataframe tbody tr th:only-of-type {\n",
       "        vertical-align: middle;\n",
       "    }\n",
       "\n",
       "    .dataframe tbody tr th {\n",
       "        vertical-align: top;\n",
       "    }\n",
       "\n",
       "    .dataframe thead th {\n",
       "        text-align: right;\n",
       "    }\n",
       "</style>\n",
       "<table border=\"1\" class=\"dataframe\">\n",
       "  <thead>\n",
       "    <tr style=\"text-align: right;\">\n",
       "      <th></th>\n",
       "      <th>Average Delay Length</th>\n",
       "    </tr>\n",
       "    <tr>\n",
       "      <th>UniqueCarrier</th>\n",
       "      <th></th>\n",
       "    </tr>\n",
       "  </thead>\n",
       "  <tbody>\n",
       "    <tr>\n",
       "      <th>YV</th>\n",
       "      <td>55.430655</td>\n",
       "    </tr>\n",
       "    <tr>\n",
       "      <th>B6</th>\n",
       "      <td>55.030570</td>\n",
       "    </tr>\n",
       "    <tr>\n",
       "      <th>XE</th>\n",
       "      <td>50.098444</td>\n",
       "    </tr>\n",
       "    <tr>\n",
       "      <th>UA</th>\n",
       "      <td>49.985710</td>\n",
       "    </tr>\n",
       "    <tr>\n",
       "      <th>OH</th>\n",
       "      <td>48.937311</td>\n",
       "    </tr>\n",
       "    <tr>\n",
       "      <th>EV</th>\n",
       "      <td>48.308463</td>\n",
       "    </tr>\n",
       "    <tr>\n",
       "      <th>9E</th>\n",
       "      <td>47.370338</td>\n",
       "    </tr>\n",
       "    <tr>\n",
       "      <th>AA</th>\n",
       "      <td>46.481953</td>\n",
       "    </tr>\n",
       "    <tr>\n",
       "      <th>OO</th>\n",
       "      <td>44.790943</td>\n",
       "    </tr>\n",
       "    <tr>\n",
       "      <th>MQ</th>\n",
       "      <td>43.726198</td>\n",
       "    </tr>\n",
       "  </tbody>\n",
       "</table>\n",
       "</div>"
      ],
      "text/plain": [
       "               Average Delay Length\n",
       "UniqueCarrier                      \n",
       "YV                        55.430655\n",
       "B6                        55.030570\n",
       "XE                        50.098444\n",
       "UA                        49.985710\n",
       "OH                        48.937311\n",
       "EV                        48.308463\n",
       "9E                        47.370338\n",
       "AA                        46.481953\n",
       "OO                        44.790943\n",
       "MQ                        43.726198"
      ]
     },
     "execution_count": 16,
     "metadata": {},
     "output_type": "execute_result"
    }
   ],
   "source": [
    "delayed_flights['Average Delay Length']= delayed_flights['DepDelay']\n",
    "average_airline = delayed_flights.groupby(['UniqueCarrier'])[['Average Delay Length']].mean().sort_values(by='Average Delay Length', ascending=False)\n",
    "average_airline.head(10)"
   ]
  },
  {
   "cell_type": "markdown",
   "metadata": {
    "colab_type": "text",
    "id": "_pcpfgqhQq8G"
   },
   "source": [
    "More analysis on airports data"
   ]
  },
  {
   "cell_type": "code",
   "execution_count": 17,
   "metadata": {
    "colab": {},
    "colab_type": "code",
    "id": "FP7gqChL3nDX"
   },
   "outputs": [
    {
     "data": {
      "text/plain": [
       "<bound method NDFrame.head of                       Average Delay Length\n",
       "UniqueCarrier Origin                      \n",
       "AA            DFW                    57600\n",
       "DL            ATL                    46463\n",
       "EV            ATL                    41902\n",
       "UA            ORD                    34954\n",
       "WN            LAS                    31581\n",
       "MQ            ORD                    30963\n",
       "CO            IAH                    30624\n",
       "MQ            DFW                    30088\n",
       "FL            ATL                    28612\n",
       "UA            DEN                    27028\n",
       "WN            MDW                    26945\n",
       "AA            ORD                    25884\n",
       "WN            PHX                    23861\n",
       "CO            EWR                    23275\n",
       "NW            DTW                    23246\n",
       "XE            IAH                    21646\n",
       "US            CLT                    20516\n",
       "NW            MSP                    20406\n",
       "XE            EWR                    19514\n",
       "WN            BWI                    19503\n",
       "              HOU                    17709\n",
       "AA            MIA                    17566\n",
       "WN            DAL                    17166\n",
       "US            PHX                    16585\n",
       "F9            DEN                    16409\n",
       "WN            LAX                    14965\n",
       "B6            JFK                    14828\n",
       "OO            ORD                    14583\n",
       "WN            OAK                    14236\n",
       "OH            CVG                    14165\n",
       "...                                    ...\n",
       "XE            PUB                        2\n",
       "YV            CLD                        2\n",
       "9E            SRQ                        2\n",
       "EV            LAN                        2\n",
       "AQ            LAS                        2\n",
       "9E            MSY                        2\n",
       "EV            DFW                        2\n",
       "OH            SWF                        2\n",
       "OO            TLH                        2\n",
       "              PVD                        1\n",
       "OH            CHO                        1\n",
       "9E            MDW                        1\n",
       "              MCO                        1\n",
       "EV            CRP                        1\n",
       "CO            PSE                        1\n",
       "OH            ERI                        1\n",
       "              SHV                        1\n",
       "              ACY                        1\n",
       "YV            MSP                        1\n",
       "F9            BTR                        1\n",
       "CO            ORF                        1\n",
       "OH            TOL                        1\n",
       "9E            INL                        1\n",
       "F9            ELP                        1\n",
       "OO            RIC                        1\n",
       "OH            PFN                        1\n",
       "OO            ALB                        1\n",
       "OH            MCN                        1\n",
       "EV            TUP                        1\n",
       "F9            TUL                        1\n",
       "\n",
       "[1776 rows x 1 columns]>"
      ]
     },
     "execution_count": 17,
     "metadata": {},
     "output_type": "execute_result"
    }
   ],
   "source": [
    "average_airline_airport = delayed_flights.groupby(['UniqueCarrier','Origin'])[['Average Delay Length']].count().sort_values(by='Average Delay Length', ascending=False)\n",
    "top= average_airline_airport\n",
    "top.head"
   ]
  },
  {
   "cell_type": "markdown",
   "metadata": {
    "colab_type": "text",
    "id": "5qX1Jh_yLmpY"
   },
   "source": [
    "Specific analysis of top 3 busiest airport"
   ]
  },
  {
   "cell_type": "markdown",
   "metadata": {
    "colab_type": "text",
    "id": "IPWBjwfPLt8K"
   },
   "source": [
    "EA and MQ airlines at DFW "
   ]
  },
  {
   "cell_type": "code",
   "execution_count": 18,
   "metadata": {
    "colab": {},
    "colab_type": "code",
    "id": "GKrc9rJU7bSf"
   },
   "outputs": [
    {
     "name": "stdout",
     "output_type": "stream",
     "text": [
      "AA delays at DFW with carrier: 27839\n",
      "AA delays at DFW with NAS: 20826\n",
      "AA delays at DFW with late aircraft: 19890\n",
      "AA delays at DFW with weather: 4157\n",
      "AA delays at DFW with security: 14\n",
      "\n",
      "MQ delays at DFW with carrier: 13856\n",
      "MQ delays at DFW with NAS: 7877\n",
      "MQ delays at DFW with late aircraft: 9803\n",
      "MQ delays at DFW with weather: 2596\n",
      "MQ delays at DFW with security: 2\n",
      "\n"
     ]
    },
    {
     "data": {
      "image/png": "[encoded data removed]",
      "text/plain": [
       "<Figure size 720x360 with 2 Axes>"
      ]
     },
     "metadata": {
      "needs_background": "light"
     },
     "output_type": "display_data"
    }
   ],
   "source": [
    "DFW = delayed_flights.loc[delayed_flights['Origin'] == 'DFW']\n",
    "DFW.groupby('UniqueCarrier')[['UniqueCarrier']].count()\n",
    "\n",
    "reason_plot_labels = ['Carrier','NAS','LateAircraft','Weather','Security']\n",
    "\n",
    "AADFW = DFW.loc[DFW['UniqueCarrier'] == 'AA']\n",
    "AADFW_data = AADFW.CarrierDelay.fillna(0).astype(bool).sum(axis=0),\\\n",
    "             AADFW.NASDelay.fillna(0).astype(bool).sum(axis=0),\\\n",
    "             AADFW.LateAircraftDelay.fillna(0).astype(bool).sum(axis=0),\\\n",
    "             AADFW.WeatherDelay.fillna(0).astype(bool).sum(axis=0),\\\n",
    "              AADFW.SecurityDelay.fillna(0).astype(bool).sum(axis=0)\n",
    "print('AA delays at DFW with carrier: '+str(AADFW_data[0]))\n",
    "print('AA delays at DFW with NAS: '+str(AADFW_data[1]))\n",
    "print('AA delays at DFW with late aircraft: '+str(AADFW_data[2]))\n",
    "print('AA delays at DFW with weather: '+str(AADFW_data[3]))\n",
    "print('AA delays at DFW with security: '+str(AADFW_data[4])+'\\n')\n",
    "\n",
    "MQDFW = DFW.loc[DFW['UniqueCarrier'] == 'MQ']\n",
    "MQDFW_data = MQDFW.CarrierDelay.fillna(0).astype(bool).sum(axis=0),\\\n",
    "             MQDFW.NASDelay.fillna(0).astype(bool).sum(axis=0),\\\n",
    "             MQDFW.LateAircraftDelay.fillna(0).astype(bool).sum(axis=0),\\\n",
    "             MQDFW.WeatherDelay.fillna(0).astype(bool).sum(axis=0),\\\n",
    "              MQDFW.SecurityDelay.fillna(0).astype(bool).sum(axis=0)\n",
    "print('MQ delays at DFW with carrier: '+str(MQDFW_data[0]))\n",
    "print('MQ delays at DFW with NAS: '+str(MQDFW_data[1]))\n",
    "print('MQ delays at DFW with late aircraft: '+str(MQDFW_data[2]))\n",
    "print('MQ delays at DFW with weather: '+str(MQDFW_data[3]))\n",
    "print('MQ delays at DFW with security: '+str(MQDFW_data[4])+'\\n')\n",
    "\n",
    "AA_DFW_Reason_Plot = pd.Series(AADFW_data, index=reason_plot_labels)\n",
    "MQ_DFW_Reason_Plot = pd.Series(MQDFW_data, index=reason_plot_labels)\n",
    "\n",
    "f, axes = plt.subplots(1, 2,figsize=(10,5))\n",
    "sns.barplot(AA_DFW_Reason_Plot.index, AA_DFW_Reason_Plot.values,ax=axes[0])\n",
    "axes[0].title.set_text(\"AA at DFW\") \n",
    "sns.barplot(MQ_DFW_Reason_Plot.index, MQ_DFW_Reason_Plot.values,ax=axes[1])\n",
    "axes[1].title.set_text(\"MQ at DFW\") \n",
    "plt.tight_layout()\n",
    "\n"
   ]
  },
  {
   "cell_type": "markdown",
   "metadata": {
    "colab_type": "text",
    "id": "WhnIH_A3LzDs"
   },
   "source": [
    "DL and EV airlines at ATL"
   ]
  },
  {
   "cell_type": "code",
   "execution_count": 19,
   "metadata": {
    "colab": {},
    "colab_type": "code",
    "id": "SixKFNMC9fCX"
   },
   "outputs": [
    {
     "name": "stdout",
     "output_type": "stream",
     "text": [
      "DL delays at ATL with carrier: 19425\n",
      "DL delays at ATL with NAS: 18708\n",
      "DL delays at ATL with late aircraft: 15861\n",
      "DL delays at ATL with weather: 2612\n",
      "DL delays at ATL with security: 3\n",
      "\n",
      "EV delays at ATL with carrier: 21216\n",
      "EV delays at ATL with NAS: 14138\n",
      "EV delays at ATL with late aircraft: 6951\n",
      "EV delays at ATL with weather: 4532\n",
      "EV delays at ATL with security: 42\n"
     ]
    },
    {
     "data": {
      "image/png": "[encoded data removed]",
      "text/plain": [
       "<Figure size 720x360 with 2 Axes>"
      ]
     },
     "metadata": {
      "needs_background": "light"
     },
     "output_type": "display_data"
    }
   ],
   "source": [
    "ATL = delayed_flights.loc[delayed_flights['Origin'] == 'ATL']\n",
    "ATL.groupby('UniqueCarrier')[['UniqueCarrier']].count()\n",
    "reason_plot_labels = ['Carrier','NAS','LateAircraft','Weather','Security']\n",
    "\n",
    "DLATL = ATL.loc[ATL['UniqueCarrier'] == 'DL']\n",
    "DLATL_data = DLATL.CarrierDelay.fillna(0).astype(bool).sum(axis=0),\\\n",
    "             DLATL.NASDelay.fillna(0).astype(bool).sum(axis=0),\\\n",
    "             DLATL.LateAircraftDelay.fillna(0).astype(bool).sum(axis=0),\\\n",
    "             DLATL.WeatherDelay.fillna(0).astype(bool).sum(axis=0),\\\n",
    "              DLATL.SecurityDelay.fillna(0).astype(bool).sum(axis=0)\n",
    "print('DL delays at ATL with carrier: '+str(DLATL_data[0]))\n",
    "print('DL delays at ATL with NAS: '+str(DLATL_data[1]))\n",
    "print('DL delays at ATL with late aircraft: '+str(DLATL_data[2]))\n",
    "print('DL delays at ATL with weather: '+str(DLATL_data[3]))\n",
    "print('DL delays at ATL with security: '+str(DLATL_data[4])+'\\n')\n",
    "\n",
    "EVATL = ATL.loc[ATL['UniqueCarrier'] == 'EV']\n",
    "EVATL_data = EVATL.CarrierDelay.fillna(0).astype(bool).sum(axis=0),\\\n",
    "             EVATL.NASDelay.fillna(0).astype(bool).sum(axis=0),\\\n",
    "             EVATL.LateAircraftDelay.fillna(0).astype(bool).sum(axis=0),\\\n",
    "             EVATL.WeatherDelay.fillna(0).astype(bool).sum(axis=0),\\\n",
    "              EVATL.SecurityDelay.fillna(0).astype(bool).sum(axis=0)\n",
    "print('EV delays at ATL with carrier: '+str(EVATL_data[0]))\n",
    "print('EV delays at ATL with NAS: '+str(EVATL_data[1]))\n",
    "print('EV delays at ATL with late aircraft: '+str(EVATL_data[2]))\n",
    "print('EV delays at ATL with weather: '+str(EVATL_data[3]))\n",
    "print('EV delays at ATL with security: '+str(EVATL_data[4]))\n",
    "\n",
    "DL_ATL_Reason_Plot = pd.Series(DLATL_data, index=reason_plot_labels)\n",
    "EV_ATL_Reason_Plot = pd.Series(EVATL_data, index=reason_plot_labels)\n",
    "\n",
    "f, axes = plt.subplots(1, 2,figsize=(10,5))\n",
    "sns.barplot(DL_ATL_Reason_Plot.index, DL_ATL_Reason_Plot.values,ax=axes[0])\n",
    "axes[0].title.set_text(\"DL at ATL\") \n",
    "sns.barplot(EV_ATL_Reason_Plot.index, EV_ATL_Reason_Plot.values,ax=axes[1])\n",
    "axes[1].title.set_text(\"EV at ATL\") \n",
    "plt.tight_layout()\n",
    "\n",
    "\n"
   ]
  },
  {
   "cell_type": "markdown",
   "metadata": {
    "colab_type": "text",
    "id": "Xu0egA40L2k3"
   },
   "source": [
    "UA and MQ at ORD "
   ]
  },
  {
   "cell_type": "code",
   "execution_count": 20,
   "metadata": {
    "colab": {},
    "colab_type": "code",
    "id": "7qHBOqtm-DYV"
   },
   "outputs": [
    {
     "name": "stdout",
     "output_type": "stream",
     "text": [
      "UA delays at ORD with carrier: 13601\n",
      "UA delays at ORD with NAS: 11818\n",
      "UA delays at ORD with late aircraft: 15653\n",
      "UA delays at ORD with weather: 2414\n",
      "UA delays at ORD with security: 0\n",
      "\n",
      "MQ delays at ORD with carrier: 12105\n",
      "MQ delays at ORD with NAS: 13254\n",
      "MQ delays at ORD with late aircraft: 13351\n",
      "MQ delays at ORD with weather: 4121\n",
      "MQ delays at ORD with security: 1\n",
      "\n"
     ]
    },
    {
     "data": {
      "image/png": "[encoded data removed]",
      "text/plain": [
       "<Figure size 720x360 with 2 Axes>"
      ]
     },
     "metadata": {
      "needs_background": "light"
     },
     "output_type": "display_data"
    }
   ],
   "source": [
    "ORD = delayed_flights.loc[delayed_flights['Origin'] == 'ORD']\n",
    "ORD.groupby('UniqueCarrier')[['UniqueCarrier']].count()\n",
    "reason_plot_labels = ['Carrier','NAS','LateAircraft','Weather','Security']\n",
    "UAORD = ORD.loc[ORD['UniqueCarrier'] == 'UA']\n",
    "UAORD_data = UAORD.CarrierDelay.fillna(0).astype(bool).sum(axis=0),\\\n",
    "             UAORD.NASDelay.fillna(0).astype(bool).sum(axis=0),\\\n",
    "             UAORD.LateAircraftDelay.fillna(0).astype(bool).sum(axis=0),\\\n",
    "             UAORD.WeatherDelay.fillna(0).astype(bool).sum(axis=0),\\\n",
    "              UAORD.SecurityDelay.fillna(0).astype(bool).sum(axis=0)\n",
    "print('UA delays at ORD with carrier: '+str(UAORD_data[0]))\n",
    "print('UA delays at ORD with NAS: '+str(UAORD_data[1]))\n",
    "print('UA delays at ORD with late aircraft: '+str(UAORD_data[2]))\n",
    "print('UA delays at ORD with weather: '+str(UAORD_data[3]))\n",
    "print('UA delays at ORD with security: '+str(UAORD_data[4])+'\\n')\n",
    "\n",
    "MQORD = ORD.loc[ORD['UniqueCarrier'] == 'MQ']\n",
    "MQORD_data = MQORD.CarrierDelay.fillna(0).astype(bool).sum(axis=0),\\\n",
    "             MQORD.NASDelay.fillna(0).astype(bool).sum(axis=0),\\\n",
    "             MQORD.LateAircraftDelay.fillna(0).astype(bool).sum(axis=0),\\\n",
    "             MQORD.WeatherDelay.fillna(0).astype(bool).sum(axis=0),\\\n",
    "              MQORD.SecurityDelay.fillna(0).astype(bool).sum(axis=0)\n",
    "print('MQ delays at ORD with carrier: '+str(MQORD_data[0]))\n",
    "print('MQ delays at ORD with NAS: '+str(MQORD_data[1]))\n",
    "print('MQ delays at ORD with late aircraft: '+str(MQORD_data[2]))\n",
    "print('MQ delays at ORD with weather: '+str(MQORD_data[3]))\n",
    "print('MQ delays at ORD with security: '+str(MQORD_data[4])+'\\n')\n",
    "\n",
    "UA_ORD_Reason_Plot = pd.Series(UAORD_data, index=reason_plot_labels)\n",
    "MQ_ORD_Reason_Plot = pd.Series(MQORD_data, index=reason_plot_labels)\n",
    "\n",
    "f, axes = plt.subplots(1, 2,figsize=(10,5))\n",
    "sns.barplot(UA_ORD_Reason_Plot.index, UA_ORD_Reason_Plot.values,ax=axes[0])\n",
    "axes[0].title.set_text(\"UA at ORD\") \n",
    "sns.barplot(MQ_ORD_Reason_Plot.index, MQ_ORD_Reason_Plot.values,ax=axes[1])\n",
    "axes[1].title.set_text(\"MQ at ORD\") \n",
    "plt.tight_layout()"
   ]
  },
  {
   "cell_type": "markdown",
   "metadata": {
    "colab_type": "text",
    "id": "iY9f4bKJZm8l"
   },
   "source": [
    "# Airports Delay Situation "
   ]
  },
  {
   "cell_type": "markdown",
   "metadata": {
    "colab_type": "text",
    "id": "raH3oEJu4INF"
   },
   "source": [
    "Which 10 US airports have the most delays measured it by flight count?"
   ]
  },
  {
   "cell_type": "code",
   "execution_count": 21,
   "metadata": {
    "colab": {},
    "colab_type": "code",
    "id": "vd6p-EQX4Fd4"
   },
   "outputs": [
    {
     "data": {
      "text/html": [
       "<div>\n",
       "<style scoped>\n",
       "    .dataframe tbody tr th:only-of-type {\n",
       "        vertical-align: middle;\n",
       "    }\n",
       "\n",
       "    .dataframe tbody tr th {\n",
       "        vertical-align: top;\n",
       "    }\n",
       "\n",
       "    .dataframe thead th {\n",
       "        text-align: right;\n",
       "    }\n",
       "</style>\n",
       "<table border=\"1\" class=\"dataframe\">\n",
       "  <thead>\n",
       "    <tr style=\"text-align: right;\">\n",
       "      <th></th>\n",
       "      <th>Origin Count</th>\n",
       "      <th>Dest Count</th>\n",
       "      <th>Sum</th>\n",
       "    </tr>\n",
       "  </thead>\n",
       "  <tbody>\n",
       "    <tr>\n",
       "      <th>ATL</th>\n",
       "      <td>131613</td>\n",
       "      <td>106898</td>\n",
       "      <td>238511</td>\n",
       "    </tr>\n",
       "    <tr>\n",
       "      <th>ORD</th>\n",
       "      <td>125979</td>\n",
       "      <td>108984</td>\n",
       "      <td>234963</td>\n",
       "    </tr>\n",
       "    <tr>\n",
       "      <th>DFW</th>\n",
       "      <td>95414</td>\n",
       "      <td>70657</td>\n",
       "      <td>166071</td>\n",
       "    </tr>\n",
       "    <tr>\n",
       "      <th>DEN</th>\n",
       "      <td>74323</td>\n",
       "      <td>63003</td>\n",
       "      <td>137326</td>\n",
       "    </tr>\n",
       "    <tr>\n",
       "      <th>LAX</th>\n",
       "      <td>58772</td>\n",
       "      <td>59969</td>\n",
       "      <td>118741</td>\n",
       "    </tr>\n",
       "    <tr>\n",
       "      <th>IAH</th>\n",
       "      <td>56847</td>\n",
       "      <td>43905</td>\n",
       "      <td>100752</td>\n",
       "    </tr>\n",
       "    <tr>\n",
       "      <th>PHX</th>\n",
       "      <td>55720</td>\n",
       "      <td>47836</td>\n",
       "      <td>103556</td>\n",
       "    </tr>\n",
       "    <tr>\n",
       "      <th>LAS</th>\n",
       "      <td>53710</td>\n",
       "      <td>48858</td>\n",
       "      <td>102568</td>\n",
       "    </tr>\n",
       "    <tr>\n",
       "      <th>EWR</th>\n",
       "      <td>52925</td>\n",
       "      <td>55861</td>\n",
       "      <td>108786</td>\n",
       "    </tr>\n",
       "    <tr>\n",
       "      <th>DTW</th>\n",
       "      <td>43923</td>\n",
       "      <td>34777</td>\n",
       "      <td>78700</td>\n",
       "    </tr>\n",
       "  </tbody>\n",
       "</table>\n",
       "</div>"
      ],
      "text/plain": [
       "     Origin Count  Dest Count     Sum\n",
       "ATL        131613      106898  238511\n",
       "ORD        125979      108984  234963\n",
       "DFW         95414       70657  166071\n",
       "DEN         74323       63003  137326\n",
       "LAX         58772       59969  118741\n",
       "IAH         56847       43905  100752\n",
       "PHX         55720       47836  103556\n",
       "LAS         53710       48858  102568\n",
       "EWR         52925       55861  108786\n",
       "DTW         43923       34777   78700"
      ]
     },
     "execution_count": 21,
     "metadata": {},
     "output_type": "execute_result"
    }
   ],
   "source": [
    "merge_count.head(10)"
   ]
  },
  {
   "cell_type": "markdown",
   "metadata": {
    "colab_type": "text",
    "id": "vILyXfpB426H"
   },
   "source": [
    "Which 10 US airports have the most delays measured it by average length of delay?"
   ]
  },
  {
   "cell_type": "code",
   "execution_count": 22,
   "metadata": {
    "colab": {},
    "colab_type": "code",
    "id": "2XPb6Lk940Ap"
   },
   "outputs": [
    {
     "data": {
      "text/html": [
       "<div>\n",
       "<style scoped>\n",
       "    .dataframe tbody tr th:only-of-type {\n",
       "        vertical-align: middle;\n",
       "    }\n",
       "\n",
       "    .dataframe tbody tr th {\n",
       "        vertical-align: top;\n",
       "    }\n",
       "\n",
       "    .dataframe thead th {\n",
       "        text-align: right;\n",
       "    }\n",
       "</style>\n",
       "<table border=\"1\" class=\"dataframe\">\n",
       "  <thead>\n",
       "    <tr style=\"text-align: right;\">\n",
       "      <th></th>\n",
       "      <th>Airport Average Delay Length</th>\n",
       "    </tr>\n",
       "    <tr>\n",
       "      <th>Origin</th>\n",
       "      <th></th>\n",
       "    </tr>\n",
       "  </thead>\n",
       "  <tbody>\n",
       "    <tr>\n",
       "      <th>CMX</th>\n",
       "      <td>116.147059</td>\n",
       "    </tr>\n",
       "    <tr>\n",
       "      <th>PLN</th>\n",
       "      <td>93.761905</td>\n",
       "    </tr>\n",
       "    <tr>\n",
       "      <th>SPI</th>\n",
       "      <td>83.848739</td>\n",
       "    </tr>\n",
       "    <tr>\n",
       "      <th>ALO</th>\n",
       "      <td>82.225806</td>\n",
       "    </tr>\n",
       "    <tr>\n",
       "      <th>MQT</th>\n",
       "      <td>79.556650</td>\n",
       "    </tr>\n",
       "    <tr>\n",
       "      <th>ACY</th>\n",
       "      <td>79.310345</td>\n",
       "    </tr>\n",
       "    <tr>\n",
       "      <th>MOT</th>\n",
       "      <td>78.661654</td>\n",
       "    </tr>\n",
       "    <tr>\n",
       "      <th>HHH</th>\n",
       "      <td>76.530055</td>\n",
       "    </tr>\n",
       "    <tr>\n",
       "      <th>EGE</th>\n",
       "      <td>74.128920</td>\n",
       "    </tr>\n",
       "    <tr>\n",
       "      <th>BGM</th>\n",
       "      <td>73.155340</td>\n",
       "    </tr>\n",
       "  </tbody>\n",
       "</table>\n",
       "</div>"
      ],
      "text/plain": [
       "        Airport Average Delay Length\n",
       "Origin                              \n",
       "CMX                       116.147059\n",
       "PLN                        93.761905\n",
       "SPI                        83.848739\n",
       "ALO                        82.225806\n",
       "MQT                        79.556650\n",
       "ACY                        79.310345\n",
       "MOT                        78.661654\n",
       "HHH                        76.530055\n",
       "EGE                        74.128920\n",
       "BGM                        73.155340"
      ]
     },
     "execution_count": 22,
     "metadata": {},
     "output_type": "execute_result"
    }
   ],
   "source": [
    "delayed_flights['Airport Average Delay Length']= delayed_flights['DepDelay']\n",
    "average_airport = delayed_flights.groupby(['Origin'])[['Airport Average Delay Length']].mean().sort_values(by='Airport Average Delay Length', ascending=False)\n",
    "average_airport.head(10)"
   ]
  },
  {
   "cell_type": "markdown",
   "metadata": {
    "colab_type": "text",
    "id": "cqzVciOHZ0ST"
   },
   "source": [
    "# Time factor for delays"
   ]
  },
  {
   "cell_type": "markdown",
   "metadata": {
    "colab_type": "text",
    "id": "gNkrIrL659DZ"
   },
   "source": [
    "Is there patterns on how flight delays are distributed across different hours of the day?"
   ]
  },
  {
   "cell_type": "code",
   "execution_count": 23,
   "metadata": {
    "colab": {},
    "colab_type": "code",
    "id": "WZMryO7t6WCi"
   },
   "outputs": [],
   "source": [
    "delayed_flights['DepTime'] = delayed_flights['DepTime'].astype(int)"
   ]
  },
  {
   "cell_type": "code",
   "execution_count": 24,
   "metadata": {
    "colab": {},
    "colab_type": "code",
    "id": "_DC0s3CIHO4v"
   },
   "outputs": [
    {
     "data": {
      "text/plain": [
       "Time range\n",
       "0:00-6:00       20878\n",
       "6:00-10:00     239972\n",
       "10:00-12:00    218192\n",
       "12:00-14:00    250173\n",
       "14:00-16:00    274411\n",
       "16:00-18:00    299782\n",
       "18:00-20:00    302680\n",
       "20:00-22:00    240637\n",
       "22:00-24:00     90033\n",
       "Name: Time range, dtype: int64"
      ]
     },
     "execution_count": 24,
     "metadata": {},
     "output_type": "execute_result"
    }
   ],
   "source": [
    "time_bins = [0, 600, 1000, 1200, 1400, 1600, 1800, 2000, 2200, 2400]\n",
    "time_cat_names = ['0:00-6:00', '6:00-10:00', '10:00-12:00','12:00-14:00','14:00-16:00','16:00-18:00', '18:00-20:00','20:00-22:00','22:00-24:00']\n",
    "delayed_flights['Time range'] = pd.cut(delayed_flights['DepTime'], time_bins, labels = time_cat_names)\n",
    "delayed_flights.groupby(['Time range'])['Time range'].count()\n"
   ]
  },
  {
   "cell_type": "markdown",
   "metadata": {
    "colab_type": "text",
    "id": "hFlRfryDWnrV"
   },
   "source": [
    "Bar plot for the flight delays across hours of the day"
   ]
  },
  {
   "cell_type": "code",
   "execution_count": 25,
   "metadata": {
    "colab": {},
    "colab_type": "code",
    "id": "Yi153LHBPcRM"
   },
   "outputs": [
    {
     "data": {
      "image/png": "[encoded data removed]",
      "text/plain": [
       "<Figure size 432x288 with 1 Axes>"
      ]
     },
     "metadata": {
      "needs_background": "light"
     },
     "output_type": "display_data"
    }
   ],
   "source": [
    "Timedata = pd.Series(delayed_flights.groupby(['Time range'])['Time range'].count(), index=time_cat_names)\n",
    "ax = sns.barplot(Timedata.index, Timedata.values)\n",
    "ax.set_xticklabels(ax.get_xticklabels(), rotation=45, ha=\"right\")\n",
    "plt.tight_layout()\n",
    "plt.show()"
   ]
  },
  {
   "cell_type": "markdown",
   "metadata": {
    "colab_type": "text",
    "id": "CEPkscnZZ5MR"
   },
   "source": [
    "# Season and Month Analysis "
   ]
  },
  {
   "cell_type": "markdown",
   "metadata": {
    "colab_type": "text",
    "id": "71GyGxf-Iy3c"
   },
   "source": [
    "**Seasonal delay summary**"
   ]
  },
  {
   "cell_type": "code",
   "execution_count": 26,
   "metadata": {
    "colab": {},
    "colab_type": "code",
    "id": "B8oNqge6Kf9p"
   },
   "outputs": [
    {
     "data": {
      "text/plain": [
       "Season range\n",
       "Fall      304627\n",
       "Spring    509178\n",
       "Summer    546507\n",
       "Winter    576446\n",
       "Name: Season range, dtype: int64"
      ]
     },
     "execution_count": 26,
     "metadata": {},
     "output_type": "execute_result"
    }
   ],
   "source": [
    "month_to_season_lu = np.array([\n",
    "    None,\n",
    "    'Winter', 'Winter',\n",
    "    'Spring', 'Spring', 'Spring',\n",
    "    'Summer', 'Summer', 'Summer',\n",
    "    'Fall', 'Fall', 'Fall',\n",
    "    'Winter'\n",
    "])\n",
    "delayed_flights['Season range'] = month_to_season_lu[delayed_flights['Month']]\n",
    "season_delay_count =  delayed_flights.groupby(['Season range'])['Season range'].count()\n",
    "season_delay_count"
   ]
  },
  {
   "cell_type": "code",
   "execution_count": 27,
   "metadata": {
    "colab": {},
    "colab_type": "code",
    "id": "12BUdAwAQ_ky"
   },
   "outputs": [
    {
     "data": {
      "text/plain": [
       "<matplotlib.axes._subplots.AxesSubplot at 0x11785e978>"
      ]
     },
     "execution_count": 27,
     "metadata": {},
     "output_type": "execute_result"
    },
    {
     "data": {
      "image/png": "[encoded data removed]",
      "text/plain": [
       "<Figure size 432x288 with 1 Axes>"
      ]
     },
     "metadata": {
      "needs_background": "light"
     },
     "output_type": "display_data"
    }
   ],
   "source": [
    "SeasonPlot = pd.Series(season_delay_count, index=month_to_season_lu)\n",
    "sns.barplot(SeasonPlot.index, SeasonPlot.values)"
   ]
  },
  {
   "cell_type": "markdown",
   "metadata": {
    "colab_type": "text",
    "id": "Rpp6fmkmNyws"
   },
   "source": [
    "Check data for different delay types\n",
    "\n",
    "\n"
   ]
  },
  {
   "cell_type": "code",
   "execution_count": 28,
   "metadata": {
    "colab": {},
    "colab_type": "code",
    "id": "Qm_DpJNQNxX3"
   },
   "outputs": [
    {
     "name": "stdout",
     "output_type": "stream",
     "text": [
      "1936758\n",
      "CarrierDelay: 689270\n",
      "WeatherDelay: 689270\n",
      "LateAircraftDelay: 689270\n",
      "SecurityDelay: 689270\n",
      "NASDelay: 689270\n"
     ]
    }
   ],
   "source": [
    "n = len(delayed_flights)\n",
    "print(n)\n",
    "print(\"CarrierDelay: \"+ str(n-delayed_flights['CarrierDelay'].isnull().value_counts().values.tolist()[0]))\n",
    "print(\"WeatherDelay: \"+ str(n-delayed_flights['WeatherDelay'].isnull().value_counts().values.tolist()[0]))\n",
    "print(\"LateAircraftDelay: \"+ str(n-delayed_flights['LateAircraftDelay'].isnull().value_counts().values.tolist()[0]))\n",
    "print(\"SecurityDelay: \"+ str(n-delayed_flights['SecurityDelay'].isnull().value_counts().values.tolist()[0]))\n",
    "print(\"NASDelay: \"+ str(n-delayed_flights['NASDelay'].isnull().value_counts().values.tolist()[0]))"
   ]
  },
  {
   "cell_type": "markdown",
   "metadata": {
    "colab_type": "text",
    "id": "B_SWp9nGuTTp"
   },
   "source": [
    "**Seasonal Carrier Delay**"
   ]
  },
  {
   "cell_type": "code",
   "execution_count": 29,
   "metadata": {
    "colab": {},
    "colab_type": "code",
    "id": "vCf3BssUsJi2"
   },
   "outputs": [
    {
     "data": {
      "text/plain": [
       "Season range\n",
       "Fall      3464345.0\n",
       "Spring    6145115.0\n",
       "Summer    7005947.0\n",
       "Winter    7310663.0\n",
       "Name: CarrierDelay, dtype: float64"
      ]
     },
     "execution_count": 29,
     "metadata": {},
     "output_type": "execute_result"
    }
   ],
   "source": [
    "season_carrier_delay = delayed_flights.groupby(['Season range'])['CarrierDelay'].sum()\n",
    "season_carrier_delay"
   ]
  },
  {
   "cell_type": "markdown",
   "metadata": {
    "colab_type": "text",
    "id": "OPwR6zKit7GA"
   },
   "source": [
    "Bar plot for the seaonal Carrier delay"
   ]
  },
  {
   "cell_type": "code",
   "execution_count": 30,
   "metadata": {
    "colab": {},
    "colab_type": "code",
    "id": "LvJXT37NsQa7"
   },
   "outputs": [
    {
     "data": {
      "text/plain": [
       "<matplotlib.axes._subplots.AxesSubplot at 0x127a7b710>"
      ]
     },
     "execution_count": 30,
     "metadata": {},
     "output_type": "execute_result"
    },
    {
     "data": {
      "image/png": "[encoded data removed]",
      "text/plain": [
       "<Figure size 432x288 with 1 Axes>"
      ]
     },
     "metadata": {
      "needs_background": "light"
     },
     "output_type": "display_data"
    }
   ],
   "source": [
    "CarrierSeasonPlot = pd.Series(season_carrier_delay, index=month_to_season_lu)\n",
    "sns.barplot(CarrierSeasonPlot.index, CarrierSeasonPlot.values)"
   ]
  },
  {
   "cell_type": "markdown",
   "metadata": {
    "colab_type": "text",
    "id": "Kq5TcpxLuiwl"
   },
   "source": [
    "**Seasonal Weather Delay**"
   ]
  },
  {
   "cell_type": "code",
   "execution_count": 31,
   "metadata": {
    "colab": {},
    "colab_type": "code",
    "id": "K-HQFHkiOfl3"
   },
   "outputs": [
    {
     "data": {
      "text/plain": [
       "Season range\n",
       "Fall       400724.0\n",
       "Spring     980478.0\n",
       "Summer    1524153.0\n",
       "Winter    1714805.0\n",
       "Name: WeatherDelay, dtype: float64"
      ]
     },
     "execution_count": 31,
     "metadata": {},
     "output_type": "execute_result"
    }
   ],
   "source": [
    "season_weather_delay = delayed_flights.groupby(['Season range'])['WeatherDelay'].sum()\n",
    "season_weather_delay"
   ]
  },
  {
   "cell_type": "markdown",
   "metadata": {
    "colab_type": "text",
    "id": "Hd0cen59S50V"
   },
   "source": [
    "Bar plot for the seaonal weather delay"
   ]
  },
  {
   "cell_type": "code",
   "execution_count": 32,
   "metadata": {
    "colab": {},
    "colab_type": "code",
    "id": "EAb4-xsQS2H8"
   },
   "outputs": [
    {
     "data": {
      "text/plain": [
       "<matplotlib.axes._subplots.AxesSubplot at 0x124334d68>"
      ]
     },
     "execution_count": 32,
     "metadata": {},
     "output_type": "execute_result"
    },
    {
     "data": {
      "image/png": "[encoded data removed]",
      "text/plain": [
       "<Figure size 432x288 with 1 Axes>"
      ]
     },
     "metadata": {
      "needs_background": "light"
     },
     "output_type": "display_data"
    }
   ],
   "source": [
    "WeatherSeasonPlot = pd.Series(season_weather_delay, index=month_to_season_lu)\n",
    "sns.barplot(WeatherSeasonPlot.index, WeatherSeasonPlot.values)"
   ]
  },
  {
   "cell_type": "markdown",
   "metadata": {
    "colab_type": "text",
    "id": "sdLpYGfkulAI"
   },
   "source": [
    "**Seasonal Late Aircraft Delay**"
   ]
  },
  {
   "cell_type": "code",
   "execution_count": 33,
   "metadata": {
    "colab": {},
    "colab_type": "code",
    "id": "WJOtYV33XPKS"
   },
   "outputs": [
    {
     "data": {
      "text/plain": [
       "Season range\n",
       "Fall       3734843.0\n",
       "Spring     7860422.0\n",
       "Summer     9130573.0\n",
       "Winter    10831200.0\n",
       "Name: LateAircraftDelay, dtype: float64"
      ]
     },
     "execution_count": 33,
     "metadata": {},
     "output_type": "execute_result"
    }
   ],
   "source": [
    "season_aircraft_delay = delayed_flights.groupby(['Season range'])['LateAircraftDelay'].sum()\n",
    "season_aircraft_delay"
   ]
  },
  {
   "cell_type": "markdown",
   "metadata": {
    "colab_type": "text",
    "id": "yJF04swTXoa4"
   },
   "source": [
    "Bar plot for the seaonal late aircraft delay"
   ]
  },
  {
   "cell_type": "code",
   "execution_count": 34,
   "metadata": {
    "colab": {},
    "colab_type": "code",
    "id": "4MQhu5vUXcXy"
   },
   "outputs": [
    {
     "data": {
      "text/plain": [
       "<matplotlib.axes._subplots.AxesSubplot at 0x124502cc0>"
      ]
     },
     "execution_count": 34,
     "metadata": {},
     "output_type": "execute_result"
    },
    {
     "data": {
      "image/png": "[encoded data removed]",
      "text/plain": [
       "<Figure size 432x288 with 1 Axes>"
      ]
     },
     "metadata": {
      "needs_background": "light"
     },
     "output_type": "display_data"
    }
   ],
   "source": [
    "LateAircraftSeasonPlot= pd.Series(season_aircraft_delay,index=month_to_season_lu)\n",
    "sns.barplot(LateAircraftSeasonPlot.index, LateAircraftSeasonPlot.values)"
   ]
  },
  {
   "cell_type": "markdown",
   "metadata": {
    "colab_type": "text",
    "id": "uQbuYGEtupLk"
   },
   "source": [
    "**Seasonal NAS Delay**"
   ]
  },
  {
   "cell_type": "code",
   "execution_count": 35,
   "metadata": {
    "colab": {},
    "colab_type": "code",
    "id": "768-XnyMhvF3"
   },
   "outputs": [
    {
     "data": {
      "text/plain": [
       "Season range\n",
       "Fall      2570779.0\n",
       "Spring    4447042.0\n",
       "Summer    5970455.0\n",
       "Winter    5751034.0\n",
       "Name: NASDelay, dtype: float64"
      ]
     },
     "execution_count": 35,
     "metadata": {},
     "output_type": "execute_result"
    }
   ],
   "source": [
    "season_NAS_delay = delayed_flights.groupby(['Season range'])['NASDelay'].sum()\n",
    "season_NAS_delay"
   ]
  },
  {
   "cell_type": "markdown",
   "metadata": {
    "colab_type": "text",
    "id": "rqEWtR5fuvU6"
   },
   "source": [
    "Bar plot for the seaonal NAS delay"
   ]
  },
  {
   "cell_type": "code",
   "execution_count": 36,
   "metadata": {
    "colab": {},
    "colab_type": "code",
    "id": "0Ax6mQrKh3wW"
   },
   "outputs": [
    {
     "data": {
      "text/plain": [
       "<matplotlib.axes._subplots.AxesSubplot at 0x11782b550>"
      ]
     },
     "execution_count": 36,
     "metadata": {},
     "output_type": "execute_result"
    },
    {
     "data": {
      "image/png": "[encoded data removed]",
      "text/plain": [
       "<Figure size 432x288 with 1 Axes>"
      ]
     },
     "metadata": {
      "needs_background": "light"
     },
     "output_type": "display_data"
    }
   ],
   "source": [
    "NASSeasonPlot= pd.Series(season_aircraft_delay,index=month_to_season_lu)\n",
    "sns.barplot(NASSeasonPlot.index, NASSeasonPlot.values)"
   ]
  },
  {
   "cell_type": "markdown",
   "metadata": {
    "colab_type": "text",
    "id": "5QT676z3urRS"
   },
   "source": [
    "**Seasonal Security Delay**"
   ]
  },
  {
   "cell_type": "code",
   "execution_count": 37,
   "metadata": {
    "colab": {},
    "colab_type": "code",
    "id": "SBatRzZQtJz4"
   },
   "outputs": [
    {
     "data": {
      "text/plain": [
       "Season range\n",
       "Fall      13931.0\n",
       "Spring    31924.0\n",
       "Summer    31025.0\n",
       "Winter    35565.0\n",
       "Name: SecurityDelay, dtype: float64"
      ]
     },
     "execution_count": 37,
     "metadata": {},
     "output_type": "execute_result"
    }
   ],
   "source": [
    "season_Security_delay = delayed_flights.groupby(['Season range'])['SecurityDelay'].sum()\n",
    "season_Security_delay\n"
   ]
  },
  {
   "cell_type": "markdown",
   "metadata": {
    "colab_type": "text",
    "id": "ArE_Dmppux64"
   },
   "source": [
    "Bar plot for the seaonal security delay"
   ]
  },
  {
   "cell_type": "code",
   "execution_count": 38,
   "metadata": {
    "colab": {},
    "colab_type": "code",
    "id": "hPY9MkARtyPr"
   },
   "outputs": [
    {
     "data": {
      "text/plain": [
       "<matplotlib.axes._subplots.AxesSubplot at 0x1236f4fd0>"
      ]
     },
     "execution_count": 38,
     "metadata": {},
     "output_type": "execute_result"
    },
    {
     "data": {
      "image/png": "[encoded data removed]",
      "text/plain": [
       "<Figure size 432x288 with 1 Axes>"
      ]
     },
     "metadata": {
      "needs_background": "light"
     },
     "output_type": "display_data"
    }
   ],
   "source": [
    "SecuritySeasonPlot= pd.Series(season_Security_delay,index=month_to_season_lu)\n",
    "sns.barplot(SecuritySeasonPlot.index, SecuritySeasonPlot.values)"
   ]
  },
  {
   "cell_type": "code",
   "execution_count": 39,
   "metadata": {
    "colab": {},
    "colab_type": "code",
    "id": "_zxPHPCfiURS"
   },
   "outputs": [
    {
     "data": {
      "image/png": "[encoded data removed]",
      "text/plain": [
       "<Figure size 720x360 with 6 Axes>"
      ]
     },
     "metadata": {
      "needs_background": "light"
     },
     "output_type": "display_data"
    }
   ],
   "source": [
    "f, axes = plt.subplots(2, 3,figsize=(10,5))\n",
    "sns.barplot(CarrierSeasonPlot.index, CarrierSeasonPlot.values,ax=axes[0,0])\n",
    "axes[0,0].title.set_text(\"Carrier\") \n",
    "sns.barplot(WeatherSeasonPlot.index, WeatherSeasonPlot.values,ax=axes[0,1])\n",
    "axes[0,1].title.set_text(\"Weather\") \n",
    "sns.barplot(LateAircraftSeasonPlot.index, LateAircraftSeasonPlot.values, ax=axes[0,2])\n",
    "axes[0,2].title.set_text(\"Late Aircraft\") \n",
    "sns.barplot(NASSeasonPlot.index, NASSeasonPlot.values, ax=axes[1,0])\n",
    "axes[1,0].title.set_text(\"NAS\")\n",
    "sns.barplot(SecuritySeasonPlot.index, SecuritySeasonPlot.values, ax=axes[1,1])\n",
    "axes[1,1].title.set_text(\"Security\")\n",
    "plt.tight_layout()\n"
   ]
  },
  {
   "cell_type": "markdown",
   "metadata": {
    "colab_type": "text",
    "id": "4sKruUj5aM2M"
   },
   "source": [
    "**Monthly  delay summary**"
   ]
  },
  {
   "cell_type": "code",
   "execution_count": 40,
   "metadata": {
    "colab": {},
    "colab_type": "code",
    "id": "RjVdbeuBaa58"
   },
   "outputs": [
    {
     "data": {
      "text/plain": [
       "Month\n",
       "1     183527\n",
       "2     189534\n",
       "3     200842\n",
       "4     155264\n",
       "5     153072\n",
       "6     200914\n",
       "7     182945\n",
       "8     162648\n",
       "9      95539\n",
       "10    103525\n",
       "11    105563\n",
       "12    203385\n",
       "Name: Month, dtype: int64"
      ]
     },
     "execution_count": 40,
     "metadata": {},
     "output_type": "execute_result"
    }
   ],
   "source": [
    "delayed_flights.groupby(['Month'])['Month'].count()"
   ]
  },
  {
   "cell_type": "markdown",
   "metadata": {
    "colab_type": "text",
    "id": "fH5k8xY2akdB"
   },
   "source": [
    "Check data for different delay types and its data in different months"
   ]
  },
  {
   "cell_type": "markdown",
   "metadata": {
    "colab_type": "text",
    "id": "qL2tszNOW1In"
   },
   "source": [
    "**Monthly Carrier Delay**"
   ]
  },
  {
   "cell_type": "code",
   "execution_count": 41,
   "metadata": {
    "colab": {},
    "colab_type": "code",
    "id": "fwWmg8Heu58j"
   },
   "outputs": [
    {
     "data": {
      "text/plain": [
       "Month\n",
       "1     2337749.0\n",
       "2     2382701.0\n",
       "3     2513682.0\n",
       "4     1919024.0\n",
       "5     1712409.0\n",
       "6     2474278.0\n",
       "7     2408221.0\n",
       "8     2123448.0\n",
       "9     1211821.0\n",
       "10    1138782.0\n",
       "11    1113742.0\n",
       "12    2590213.0\n",
       "Name: CarrierDelay, dtype: float64"
      ]
     },
     "execution_count": 41,
     "metadata": {},
     "output_type": "execute_result"
    }
   ],
   "source": [
    "month_carrier_delay = delayed_flights.groupby(['Month'])['CarrierDelay'].sum()\n",
    "month_carrier_delay"
   ]
  },
  {
   "cell_type": "markdown",
   "metadata": {
    "colab_type": "text",
    "id": "AKMk1y0-NPNW"
   },
   "source": [
    "Bar plot for the monthly carrier delay"
   ]
  },
  {
   "cell_type": "code",
   "execution_count": 42,
   "metadata": {
    "colab": {},
    "colab_type": "code",
    "id": "nHh1T85ku9fg"
   },
   "outputs": [
    {
     "data": {
      "text/plain": [
       "<matplotlib.axes._subplots.AxesSubplot at 0x125c5b6a0>"
      ]
     },
     "execution_count": 42,
     "metadata": {},
     "output_type": "execute_result"
    },
    {
     "data": {
      "image/png": "[encoded data removed]",
      "text/plain": [
       "<Figure size 432x288 with 1 Axes>"
      ]
     },
     "metadata": {
      "needs_background": "light"
     },
     "output_type": "display_data"
    }
   ],
   "source": [
    "MonthCarrierPlot = pd.Series(month_carrier_delay, index=delayed_flights.Month)\n",
    "sns.barplot(MonthCarrierPlot.index, MonthCarrierPlot.values)"
   ]
  },
  {
   "cell_type": "markdown",
   "metadata": {
    "colab_type": "text",
    "id": "gi_Se_cdW4KH"
   },
   "source": [
    "**Monthly Weather Delay**"
   ]
  },
  {
   "cell_type": "code",
   "execution_count": 43,
   "metadata": {
    "colab": {},
    "colab_type": "code",
    "id": "OcCJdwADSUXt"
   },
   "outputs": [
    {
     "data": {
      "text/plain": [
       "Month\n",
       "1     426381.0\n",
       "2     541737.0\n",
       "3     472998.0\n",
       "4     268284.0\n",
       "5     239196.0\n",
       "6     570591.0\n",
       "7     555051.0\n",
       "8     398511.0\n",
       "9     156646.0\n",
       "10    104805.0\n",
       "11    139273.0\n",
       "12    746687.0\n",
       "Name: WeatherDelay, dtype: float64"
      ]
     },
     "execution_count": 43,
     "metadata": {},
     "output_type": "execute_result"
    }
   ],
   "source": [
    "month_weather_delay = delayed_flights.groupby(['Month'])['WeatherDelay'].sum()\n",
    "month_weather_delay"
   ]
  },
  {
   "cell_type": "markdown",
   "metadata": {
    "colab_type": "text",
    "id": "ZQ60982vbLTW"
   },
   "source": [
    "Bar plot for the monthly weather delay"
   ]
  },
  {
   "cell_type": "code",
   "execution_count": 44,
   "metadata": {
    "colab": {},
    "colab_type": "code",
    "id": "IAMfljcwVPTy"
   },
   "outputs": [
    {
     "data": {
      "text/plain": [
       "<matplotlib.axes._subplots.AxesSubplot at 0x125d23c88>"
      ]
     },
     "execution_count": 44,
     "metadata": {},
     "output_type": "execute_result"
    },
    {
     "data": {
      "image/png": "[encoded data removed]",
      "text/plain": [
       "<Figure size 432x288 with 1 Axes>"
      ]
     },
     "metadata": {
      "needs_background": "light"
     },
     "output_type": "display_data"
    }
   ],
   "source": [
    "MonthWeatherPlot = pd.Series(month_weather_delay, index=delayed_flights.Month)\n",
    "sns.barplot(MonthWeatherPlot.index, MonthWeatherPlot.values)"
   ]
  },
  {
   "cell_type": "markdown",
   "metadata": {
    "colab_type": "text",
    "id": "6_fWNI7yW9Pj"
   },
   "source": [
    "**Monthly Aircraft Delay**"
   ]
  },
  {
   "cell_type": "code",
   "execution_count": 45,
   "metadata": {
    "colab": {},
    "colab_type": "code",
    "id": "HR6FrVTTSX5S"
   },
   "outputs": [
    {
     "data": {
      "text/plain": [
       "Month\n",
       "1     3098475.0\n",
       "2     3455127.0\n",
       "3     3341349.0\n",
       "4     2276109.0\n",
       "5     2242964.0\n",
       "6     3579121.0\n",
       "7     3061884.0\n",
       "8     2489568.0\n",
       "9     1062366.0\n",
       "10    1148420.0\n",
       "11    1524057.0\n",
       "12    4277598.0\n",
       "Name: LateAircraftDelay, dtype: float64"
      ]
     },
     "execution_count": 45,
     "metadata": {},
     "output_type": "execute_result"
    }
   ],
   "source": [
    "month_aircraft_delay = delayed_flights.groupby(['Month'])['LateAircraftDelay'].sum()\n",
    "month_aircraft_delay"
   ]
  },
  {
   "cell_type": "markdown",
   "metadata": {
    "colab_type": "text",
    "id": "5mqK_JV0bOkF"
   },
   "source": [
    "Bar plot for the monthly late aircraft delay"
   ]
  },
  {
   "cell_type": "code",
   "execution_count": 46,
   "metadata": {
    "colab": {},
    "colab_type": "code",
    "id": "mgqdlXqDYTIj"
   },
   "outputs": [
    {
     "data": {
      "text/plain": [
       "<matplotlib.axes._subplots.AxesSubplot at 0x129acaa20>"
      ]
     },
     "execution_count": 46,
     "metadata": {},
     "output_type": "execute_result"
    },
    {
     "data": {
      "image/png": "[encoded data removed]",
      "text/plain": [
       "<Figure size 432x288 with 1 Axes>"
      ]
     },
     "metadata": {
      "needs_background": "light"
     },
     "output_type": "display_data"
    }
   ],
   "source": [
    "MonthAircraftPlot = pd.Series(month_aircraft_delay, index=delayed_flights.Month)\n",
    "sns.barplot(MonthAircraftPlot.index, MonthAircraftPlot.values)"
   ]
  },
  {
   "cell_type": "markdown",
   "metadata": {
    "colab_type": "text",
    "id": "XbaI_NptW-zc"
   },
   "source": [
    "**Monthly NAS Delay**"
   ]
  },
  {
   "cell_type": "code",
   "execution_count": 47,
   "metadata": {
    "colab": {},
    "colab_type": "code",
    "id": "O1MLJWQWlsiC"
   },
   "outputs": [
    {
     "data": {
      "text/plain": [
       "Month\n",
       "1     1740200.0\n",
       "2     1870900.0\n",
       "3     1790009.0\n",
       "4     1329298.0\n",
       "5     1327735.0\n",
       "6     2398325.0\n",
       "7     2090920.0\n",
       "8     1481210.0\n",
       "9      790748.0\n",
       "10     704551.0\n",
       "11    1075480.0\n",
       "12    2139934.0\n",
       "Name: NASDelay, dtype: float64"
      ]
     },
     "execution_count": 47,
     "metadata": {},
     "output_type": "execute_result"
    }
   ],
   "source": [
    "month_NAS_delay = delayed_flights.groupby(['Month'])['NASDelay'].sum()\n",
    "month_NAS_delay"
   ]
  },
  {
   "cell_type": "markdown",
   "metadata": {
    "colab_type": "text",
    "id": "jxlJ8dkmNUTp"
   },
   "source": [
    "Bar plot for the monthly NAS delay"
   ]
  },
  {
   "cell_type": "code",
   "execution_count": 48,
   "metadata": {
    "colab": {},
    "colab_type": "code",
    "id": "mOs8sE8LludS"
   },
   "outputs": [
    {
     "data": {
      "text/plain": [
       "<matplotlib.axes._subplots.AxesSubplot at 0x12b4eac50>"
      ]
     },
     "execution_count": 48,
     "metadata": {},
     "output_type": "execute_result"
    },
    {
     "data": {
      "image/png": "[encoded data removed]",
      "text/plain": [
       "<Figure size 432x288 with 1 Axes>"
      ]
     },
     "metadata": {
      "needs_background": "light"
     },
     "output_type": "display_data"
    }
   ],
   "source": [
    "MonthNASPlot = pd.Series(month_NAS_delay, index=delayed_flights.Month)\n",
    "sns.barplot(MonthNASPlot.index, MonthNASPlot.values)"
   ]
  },
  {
   "cell_type": "markdown",
   "metadata": {
    "colab_type": "text",
    "id": "iHHF3yAaXARa"
   },
   "source": [
    "**Monthly Security Delay**"
   ]
  },
  {
   "cell_type": "code",
   "execution_count": 49,
   "metadata": {
    "colab": {},
    "colab_type": "code",
    "id": "uBoqNL5RvNkC"
   },
   "outputs": [
    {
     "data": {
      "text/plain": [
       "Month\n",
       "1     12406.0\n",
       "2     11075.0\n",
       "3     14651.0\n",
       "4      7574.0\n",
       "5      9699.0\n",
       "6     10548.0\n",
       "7     13095.0\n",
       "8      7382.0\n",
       "9      4747.0\n",
       "10     5188.0\n",
       "11     3996.0\n",
       "12    12084.0\n",
       "Name: SecurityDelay, dtype: float64"
      ]
     },
     "execution_count": 49,
     "metadata": {},
     "output_type": "execute_result"
    }
   ],
   "source": [
    "month_Security_delay = delayed_flights.groupby(['Month'])['SecurityDelay'].sum()\n",
    "month_Security_delay"
   ]
  },
  {
   "cell_type": "markdown",
   "metadata": {
    "colab_type": "text",
    "id": "vGzkdU2MNWAL"
   },
   "source": [
    "Bar plot for the monthly Security delay"
   ]
  },
  {
   "cell_type": "code",
   "execution_count": 50,
   "metadata": {
    "colab": {},
    "colab_type": "code",
    "id": "ANGxYL1NvV4_"
   },
   "outputs": [
    {
     "data": {
      "text/plain": [
       "<matplotlib.axes._subplots.AxesSubplot at 0x1321a6e80>"
      ]
     },
     "execution_count": 50,
     "metadata": {},
     "output_type": "execute_result"
    },
    {
     "data": {
      "image/png": "[encoded data removed]",
      "text/plain": [
       "<Figure size 432x288 with 1 Axes>"
      ]
     },
     "metadata": {
      "needs_background": "light"
     },
     "output_type": "display_data"
    }
   ],
   "source": [
    "MonthSecurityPlot = pd.Series(month_Security_delay, index=delayed_flights.Month)\n",
    "sns.barplot(MonthSecurityPlot.index, MonthSecurityPlot.values)"
   ]
  },
  {
   "cell_type": "markdown",
   "metadata": {
    "colab_type": "text",
    "id": "J7bjpbORXCPm"
   },
   "source": [
    "**Integrated monthly barplots for different types of delay** "
   ]
  },
  {
   "cell_type": "code",
   "execution_count": 51,
   "metadata": {
    "colab": {},
    "colab_type": "code",
    "id": "gfDy-5CFlpFH"
   },
   "outputs": [
    {
     "data": {
      "image/png": "[encoded data removed]",
      "text/plain": [
       "<Figure size 720x360 with 6 Axes>"
      ]
     },
     "metadata": {
      "needs_background": "light"
     },
     "output_type": "display_data"
    }
   ],
   "source": [
    "\n",
    "f, axes = plt.subplots(2, 3,figsize=(10,5))\n",
    "sns.barplot(MonthCarrierPlot.index, MonthCarrierPlot.values,ax=axes[0,0])\n",
    "axes[0,0].title.set_text(\"Carrier\") \n",
    "sns.barplot(MonthWeatherPlot.index, MonthWeatherPlot.values,ax=axes[0,1])\n",
    "axes[0,1].title.set_text(\"Weather\") \n",
    "sns.barplot(MonthAircraftPlot.index, MonthAircraftPlot.values, ax=axes[0,2])\n",
    "axes[0,2].title.set_text(\"Late Aircraft\") \n",
    "sns.barplot(MonthNASPlot.index, MonthNASPlot.values, ax=axes[1,0])\n",
    "axes[1,0].title.set_text(\"NAS\")\n",
    "sns.barplot(MonthSecurityPlot.index, MonthSecurityPlot.values, ax=axes[1,1])\n",
    "axes[1,1].title.set_text(\"Security\")\n",
    "plt.tight_layout()\n"
   ]
  },
  {
   "cell_type": "code",
   "execution_count": 52,
   "metadata": {
    "colab": {},
    "colab_type": "code",
    "id": "gCZfrtg6b__j"
   },
   "outputs": [],
   "source": [
    "Airports = pd.DataFrame(origin_annual)\n",
    "\n",
    "airportsWeather = delayed_flights.groupby(['Origin'])[['WeatherDelay']].sum().sort_values(by='WeatherDelay',ascending = False)\n",
    "airportsNASDelay = delayed_flights.groupby(['Origin'])[['NASDelay']].sum().sort_values(by='NASDelay', ascending = False)\n",
    "airportsSecurityDelay = delayed_flights.groupby(['Origin'])[['SecurityDelay']].sum().sort_values(by='SecurityDelay', ascending = False)\n",
    "airportsLateAircraftDelay = delayed_flights.groupby(['Origin'])[['LateAircraftDelay']].sum().sort_values(by='LateAircraftDelay', ascending = False)\n",
    "Airports['Weather Delay'] = airportsWeather\n",
    "Airports['NAS Delay'] = airportsNASDelay\n",
    "Airports['Security Delay'] = airportsSecurityDelay\n",
    "Airports['Late Aircraft Delay'] = airportsLateAircraftDelay"
   ]
  },
  {
   "cell_type": "code",
   "execution_count": 53,
   "metadata": {
    "colab": {},
    "colab_type": "code",
    "id": "k__cRG2cfZxw"
   },
   "outputs": [
    {
     "data": {
      "text/html": [
       "<div>\n",
       "<style scoped>\n",
       "    .dataframe tbody tr th:only-of-type {\n",
       "        vertical-align: middle;\n",
       "    }\n",
       "\n",
       "    .dataframe tbody tr th {\n",
       "        vertical-align: top;\n",
       "    }\n",
       "\n",
       "    .dataframe thead th {\n",
       "        text-align: right;\n",
       "    }\n",
       "</style>\n",
       "<table border=\"1\" class=\"dataframe\">\n",
       "  <thead>\n",
       "    <tr style=\"text-align: right;\">\n",
       "      <th></th>\n",
       "      <th></th>\n",
       "      <th>CancellationCode</th>\n",
       "    </tr>\n",
       "    <tr>\n",
       "      <th>Cancelled</th>\n",
       "      <th>CancellationCode</th>\n",
       "      <th></th>\n",
       "    </tr>\n",
       "  </thead>\n",
       "  <tbody>\n",
       "    <tr>\n",
       "      <th>0</th>\n",
       "      <th>N</th>\n",
       "      <td>1936125</td>\n",
       "    </tr>\n",
       "    <tr>\n",
       "      <th rowspan=\"3\" valign=\"top\">1</th>\n",
       "      <th>A</th>\n",
       "      <td>246</td>\n",
       "    </tr>\n",
       "    <tr>\n",
       "      <th>B</th>\n",
       "      <td>307</td>\n",
       "    </tr>\n",
       "    <tr>\n",
       "      <th>C</th>\n",
       "      <td>80</td>\n",
       "    </tr>\n",
       "  </tbody>\n",
       "</table>\n",
       "</div>"
      ],
      "text/plain": [
       "                            CancellationCode\n",
       "Cancelled CancellationCode                  \n",
       "0         N                          1936125\n",
       "1         A                              246\n",
       "          B                              307\n",
       "          C                               80"
      ]
     },
     "execution_count": 53,
     "metadata": {},
     "output_type": "execute_result"
    }
   ],
   "source": [
    "delayed_flights.groupby(['Cancelled','CancellationCode'])[['CancellationCode']].count()"
   ]
  },
  {
   "cell_type": "markdown",
   "metadata": {
    "colab_type": "text",
    "id": "WIwOltCpYHoG"
   },
   "source": [
    "#Plot Comparisions for airports and monthly delays"
   ]
  },
  {
   "cell_type": "markdown",
   "metadata": {
    "colab_type": "text",
    "id": "RttW0231YKI8"
   },
   "source": [
    "**Normalized Bar Graph ATL, ORD, DFW vs. CMX, PLN, SPI**"
   ]
  },
  {
   "cell_type": "code",
   "execution_count": 54,
   "metadata": {
    "colab": {},
    "colab_type": "code",
    "id": "--3kSlyxYJk0"
   },
   "outputs": [],
   "source": [
    "ATLDelay = delayed_flights.loc[(delayed_flights['Origin'] == 'ATL')]\n",
    "ORDDelay = delayed_flights.loc[(delayed_flights['Origin'] == 'ORD')]\n",
    "DFWDelay = delayed_flights.loc[(delayed_flights['Origin'] == 'DFW')]\n",
    "\n",
    "CMXDelay = delayed_flights.loc[(delayed_flights['Origin'] == 'CMX')]\n",
    "PLNDelay = delayed_flights.loc[(delayed_flights['Origin'] == 'PLN')]\n",
    "SPIDelay = delayed_flights.loc[(delayed_flights['Origin'] == 'SPI')]\n",
    "DelayMinutesArray = [ATLDelay['CarrierDelay'].sum(),ATLDelay['WeatherDelay'].sum(),ATLDelay['NASDelay'].sum(),\n",
    "            ATLDelay['SecurityDelay'].sum(), ATLDelay['LateAircraftDelay'].sum(),ORDDelay['CarrierDelay'].sum(),ORDDelay['WeatherDelay'].sum(),ORDDelay['NASDelay'].sum(),\n",
    "            ORDDelay['SecurityDelay'].sum(), ORDDelay['LateAircraftDelay'].sum(),DFWDelay['CarrierDelay'].sum(),DFWDelay['WeatherDelay'].sum(),DFWDelay['NASDelay'].sum(),\n",
    "            DFWDelay['SecurityDelay'].sum(), DFWDelay['LateAircraftDelay'].sum(),CMXDelay['CarrierDelay'].sum(),CMXDelay['WeatherDelay'].sum(),CMXDelay['NASDelay'].sum(),\n",
    "            CMXDelay['SecurityDelay'].sum(), CMXDelay['LateAircraftDelay'].sum(),PLNDelay['CarrierDelay'].sum(),PLNDelay['WeatherDelay'].sum(),PLNDelay['NASDelay'].sum(),\n",
    "            PLNDelay['SecurityDelay'].sum(), PLNDelay['LateAircraftDelay'].sum(),SPIDelay['CarrierDelay'].sum(),SPIDelay['WeatherDelay'].sum(),SPIDelay['NASDelay'].sum(),\n",
    "            SPIDelay['SecurityDelay'].sum(), SPIDelay['LateAircraftDelay'].sum()]\n",
    "AirportArray = ['ATL','ATL','ATL','ATL','ATL','ORD','ORD','ORD','ORD','ORD',\n",
    "                'DFW','DFW','DFW','DFW','DFW','CMX','CMX','CMX','CMX','CMX',\n",
    "               'PLN','PLN','PLN','PLN','PLN','SPI','SPI','SPI','SPI','SPI']\n",
    "siteListIndex = ['Carrier Delay', 'Weather Delay', 'NAS Delay', 'Security Delay', 'Late Aircraft Delay',\n",
    "                 'Carrier Delay', 'Weather Delay', 'NAS Delay', 'Security Delay', 'Late Aircraft Delay',\n",
    "                'Carrier Delay', 'Weather Delay', 'NAS Delay', 'Security Delay', 'Late Aircraft Delay',\n",
    "                'Carrier Delay', 'Weather Delay', 'NAS Delay', 'Security Delay', 'Late Aircraft Delay',\n",
    "                'Carrier Delay', 'Weather Delay', 'NAS Delay', 'Security Delay', 'Late Aircraft Delay',\n",
    "                'Carrier Delay', 'Weather Delay', 'NAS Delay', 'Security Delay', 'Late Aircraft Delay']\n"
   ]
  },
  {
   "cell_type": "markdown",
   "metadata": {
    "colab_type": "text",
    "id": "CS7Vy7OMlEeo"
   },
   "source": [
    "This normalized bar graph shows that the top 3 busiest airport by instance have mostly Late Aircraft Delays. Whereas, the top 3 busiest airports by average delay length have a variety of causes such as NAS Delay for SPI (a military/civil airport) and CMX and PLN airport have issues with Carrier Delay. This makes sense as airline companies tend to prefer larger airports over smaller ones to maximize profit. "
   ]
  },
  {
   "cell_type": "code",
   "execution_count": 55,
   "metadata": {
    "colab": {},
    "colab_type": "code",
    "id": "cvO9wcX0YUFN"
   },
   "outputs": [
    {
     "data": {
      "text/html": [
       "<div>\n",
       "<style scoped>\n",
       "    .dataframe tbody tr th:only-of-type {\n",
       "        vertical-align: middle;\n",
       "    }\n",
       "\n",
       "    .dataframe tbody tr th {\n",
       "        vertical-align: top;\n",
       "    }\n",
       "\n",
       "    .dataframe thead th {\n",
       "        text-align: right;\n",
       "    }\n",
       "</style>\n",
       "<table border=\"1\" class=\"dataframe\">\n",
       "  <thead>\n",
       "    <tr style=\"text-align: right;\">\n",
       "      <th></th>\n",
       "      <th>Delay Minutes</th>\n",
       "      <th>Airport</th>\n",
       "      <th>Type of Delay</th>\n",
       "    </tr>\n",
       "  </thead>\n",
       "  <tbody>\n",
       "    <tr>\n",
       "      <th>0</th>\n",
       "      <td>1919625.0</td>\n",
       "      <td>ATL</td>\n",
       "      <td>Carrier Delay</td>\n",
       "    </tr>\n",
       "    <tr>\n",
       "      <th>1</th>\n",
       "      <td>427500.0</td>\n",
       "      <td>ATL</td>\n",
       "      <td>Weather Delay</td>\n",
       "    </tr>\n",
       "    <tr>\n",
       "      <th>2</th>\n",
       "      <td>1137327.0</td>\n",
       "      <td>ATL</td>\n",
       "      <td>NAS Delay</td>\n",
       "    </tr>\n",
       "    <tr>\n",
       "      <th>3</th>\n",
       "      <td>2043.0</td>\n",
       "      <td>ATL</td>\n",
       "      <td>Security Delay</td>\n",
       "    </tr>\n",
       "    <tr>\n",
       "      <th>4</th>\n",
       "      <td>1659639.0</td>\n",
       "      <td>ATL</td>\n",
       "      <td>Late Aircraft Delay</td>\n",
       "    </tr>\n",
       "    <tr>\n",
       "      <th>5</th>\n",
       "      <td>1770360.0</td>\n",
       "      <td>ORD</td>\n",
       "      <td>Carrier Delay</td>\n",
       "    </tr>\n",
       "    <tr>\n",
       "      <th>6</th>\n",
       "      <td>417122.0</td>\n",
       "      <td>ORD</td>\n",
       "      <td>Weather Delay</td>\n",
       "    </tr>\n",
       "    <tr>\n",
       "      <th>7</th>\n",
       "      <td>1198039.0</td>\n",
       "      <td>ORD</td>\n",
       "      <td>NAS Delay</td>\n",
       "    </tr>\n",
       "    <tr>\n",
       "      <th>8</th>\n",
       "      <td>2324.0</td>\n",
       "      <td>ORD</td>\n",
       "      <td>Security Delay</td>\n",
       "    </tr>\n",
       "    <tr>\n",
       "      <th>9</th>\n",
       "      <td>2883026.0</td>\n",
       "      <td>ORD</td>\n",
       "      <td>Late Aircraft Delay</td>\n",
       "    </tr>\n",
       "    <tr>\n",
       "      <th>10</th>\n",
       "      <td>1422919.0</td>\n",
       "      <td>DFW</td>\n",
       "      <td>Carrier Delay</td>\n",
       "    </tr>\n",
       "    <tr>\n",
       "      <th>11</th>\n",
       "      <td>247026.0</td>\n",
       "      <td>DFW</td>\n",
       "      <td>Weather Delay</td>\n",
       "    </tr>\n",
       "    <tr>\n",
       "      <th>12</th>\n",
       "      <td>692116.0</td>\n",
       "      <td>DFW</td>\n",
       "      <td>NAS Delay</td>\n",
       "    </tr>\n",
       "    <tr>\n",
       "      <th>13</th>\n",
       "      <td>742.0</td>\n",
       "      <td>DFW</td>\n",
       "      <td>Security Delay</td>\n",
       "    </tr>\n",
       "    <tr>\n",
       "      <th>14</th>\n",
       "      <td>1071723.0</td>\n",
       "      <td>DFW</td>\n",
       "      <td>Late Aircraft Delay</td>\n",
       "    </tr>\n",
       "    <tr>\n",
       "      <th>15</th>\n",
       "      <td>2593.0</td>\n",
       "      <td>CMX</td>\n",
       "      <td>Carrier Delay</td>\n",
       "    </tr>\n",
       "    <tr>\n",
       "      <th>16</th>\n",
       "      <td>423.0</td>\n",
       "      <td>CMX</td>\n",
       "      <td>Weather Delay</td>\n",
       "    </tr>\n",
       "    <tr>\n",
       "      <th>17</th>\n",
       "      <td>354.0</td>\n",
       "      <td>CMX</td>\n",
       "      <td>NAS Delay</td>\n",
       "    </tr>\n",
       "    <tr>\n",
       "      <th>18</th>\n",
       "      <td>0.0</td>\n",
       "      <td>CMX</td>\n",
       "      <td>Security Delay</td>\n",
       "    </tr>\n",
       "    <tr>\n",
       "      <th>19</th>\n",
       "      <td>756.0</td>\n",
       "      <td>CMX</td>\n",
       "      <td>Late Aircraft Delay</td>\n",
       "    </tr>\n",
       "    <tr>\n",
       "      <th>20</th>\n",
       "      <td>1673.0</td>\n",
       "      <td>PLN</td>\n",
       "      <td>Carrier Delay</td>\n",
       "    </tr>\n",
       "    <tr>\n",
       "      <th>21</th>\n",
       "      <td>38.0</td>\n",
       "      <td>PLN</td>\n",
       "      <td>Weather Delay</td>\n",
       "    </tr>\n",
       "    <tr>\n",
       "      <th>22</th>\n",
       "      <td>121.0</td>\n",
       "      <td>PLN</td>\n",
       "      <td>NAS Delay</td>\n",
       "    </tr>\n",
       "    <tr>\n",
       "      <th>23</th>\n",
       "      <td>20.0</td>\n",
       "      <td>PLN</td>\n",
       "      <td>Security Delay</td>\n",
       "    </tr>\n",
       "    <tr>\n",
       "      <th>24</th>\n",
       "      <td>117.0</td>\n",
       "      <td>PLN</td>\n",
       "      <td>Late Aircraft Delay</td>\n",
       "    </tr>\n",
       "    <tr>\n",
       "      <th>25</th>\n",
       "      <td>6656.0</td>\n",
       "      <td>SPI</td>\n",
       "      <td>Carrier Delay</td>\n",
       "    </tr>\n",
       "    <tr>\n",
       "      <th>26</th>\n",
       "      <td>251.0</td>\n",
       "      <td>SPI</td>\n",
       "      <td>Weather Delay</td>\n",
       "    </tr>\n",
       "    <tr>\n",
       "      <th>27</th>\n",
       "      <td>15786.0</td>\n",
       "      <td>SPI</td>\n",
       "      <td>NAS Delay</td>\n",
       "    </tr>\n",
       "    <tr>\n",
       "      <th>28</th>\n",
       "      <td>80.0</td>\n",
       "      <td>SPI</td>\n",
       "      <td>Security Delay</td>\n",
       "    </tr>\n",
       "    <tr>\n",
       "      <th>29</th>\n",
       "      <td>8052.0</td>\n",
       "      <td>SPI</td>\n",
       "      <td>Late Aircraft Delay</td>\n",
       "    </tr>\n",
       "  </tbody>\n",
       "</table>\n",
       "</div>"
      ],
      "text/plain": [
       "    Delay Minutes Airport        Type of Delay\n",
       "0       1919625.0     ATL        Carrier Delay\n",
       "1        427500.0     ATL        Weather Delay\n",
       "2       1137327.0     ATL            NAS Delay\n",
       "3          2043.0     ATL       Security Delay\n",
       "4       1659639.0     ATL  Late Aircraft Delay\n",
       "5       1770360.0     ORD        Carrier Delay\n",
       "6        417122.0     ORD        Weather Delay\n",
       "7       1198039.0     ORD            NAS Delay\n",
       "8          2324.0     ORD       Security Delay\n",
       "9       2883026.0     ORD  Late Aircraft Delay\n",
       "10      1422919.0     DFW        Carrier Delay\n",
       "11       247026.0     DFW        Weather Delay\n",
       "12       692116.0     DFW            NAS Delay\n",
       "13          742.0     DFW       Security Delay\n",
       "14      1071723.0     DFW  Late Aircraft Delay\n",
       "15         2593.0     CMX        Carrier Delay\n",
       "16          423.0     CMX        Weather Delay\n",
       "17          354.0     CMX            NAS Delay\n",
       "18            0.0     CMX       Security Delay\n",
       "19          756.0     CMX  Late Aircraft Delay\n",
       "20         1673.0     PLN        Carrier Delay\n",
       "21           38.0     PLN        Weather Delay\n",
       "22          121.0     PLN            NAS Delay\n",
       "23           20.0     PLN       Security Delay\n",
       "24          117.0     PLN  Late Aircraft Delay\n",
       "25         6656.0     SPI        Carrier Delay\n",
       "26          251.0     SPI        Weather Delay\n",
       "27        15786.0     SPI            NAS Delay\n",
       "28           80.0     SPI       Security Delay\n",
       "29         8052.0     SPI  Late Aircraft Delay"
      ]
     },
     "execution_count": 55,
     "metadata": {},
     "output_type": "execute_result"
    }
   ],
   "source": [
    "AirportComp = pd.DataFrame(DelayMinutesArray)\n",
    "AirportComp['1'] = AirportArray\n",
    "AirportComp['2'] = siteListIndex\n",
    "AirportComp.columns = ['Delay Minutes', 'Airport', 'Type of Delay']\n",
    "AirportComp"
   ]
  },
  {
   "cell_type": "code",
   "execution_count": 61,
   "metadata": {
    "colab": {},
    "colab_type": "code",
    "id": "qZSNrD0YYXCq"
   },
   "outputs": [
    {
     "data": {
      "application/vnd.vegalite.v3+json": {
       "$schema": "https://vega.github.io/schema/vega-lite/v3.3.0.json",
       "config": {
        "mark": {
         "tooltip": null
        },
        "view": {
         "height": 300,
         "width": 400
        }
       },
       "data": {
        "name": "data-a326afba5a549ba7f5a5c73e7d480dad"
       },
       "datasets": {
        "data-a326afba5a549ba7f5a5c73e7d480dad": [
         {
          "Airport": "ATL",
          "Delay Minutes": 1919625,
          "Type of Delay": "Carrier Delay"
         },
         {
          "Airport": "ATL",
          "Delay Minutes": 427500,
          "Type of Delay": "Weather Delay"
         },
         {
          "Airport": "ATL",
          "Delay Minutes": 1137327,
          "Type of Delay": "NAS Delay"
         },
         {
          "Airport": "ATL",
          "Delay Minutes": 2043,
          "Type of Delay": "Security Delay"
         },
         {
          "Airport": "ATL",
          "Delay Minutes": 1659639,
          "Type of Delay": "Late Aircraft Delay"
         },
         {
          "Airport": "ORD",
          "Delay Minutes": 1770360,
          "Type of Delay": "Carrier Delay"
         },
         {
          "Airport": "ORD",
          "Delay Minutes": 417122,
          "Type of Delay": "Weather Delay"
         },
         {
          "Airport": "ORD",
          "Delay Minutes": 1198039,
          "Type of Delay": "NAS Delay"
         },
         {
          "Airport": "ORD",
          "Delay Minutes": 2324,
          "Type of Delay": "Security Delay"
         },
         {
          "Airport": "ORD",
          "Delay Minutes": 2883026,
          "Type of Delay": "Late Aircraft Delay"
         },
         {
          "Airport": "DFW",
          "Delay Minutes": 1422919,
          "Type of Delay": "Carrier Delay"
         },
         {
          "Airport": "DFW",
          "Delay Minutes": 247026,
          "Type of Delay": "Weather Delay"
         },
         {
          "Airport": "DFW",
          "Delay Minutes": 692116,
          "Type of Delay": "NAS Delay"
         },
         {
          "Airport": "DFW",
          "Delay Minutes": 742,
          "Type of Delay": "Security Delay"
         },
         {
          "Airport": "DFW",
          "Delay Minutes": 1071723,
          "Type of Delay": "Late Aircraft Delay"
         },
         {
          "Airport": "CMX",
          "Delay Minutes": 2593,
          "Type of Delay": "Carrier Delay"
         },
         {
          "Airport": "CMX",
          "Delay Minutes": 423,
          "Type of Delay": "Weather Delay"
         },
         {
          "Airport": "CMX",
          "Delay Minutes": 354,
          "Type of Delay": "NAS Delay"
         },
         {
          "Airport": "CMX",
          "Delay Minutes": 0,
          "Type of Delay": "Security Delay"
         },
         {
          "Airport": "CMX",
          "Delay Minutes": 756,
          "Type of Delay": "Late Aircraft Delay"
         },
         {
          "Airport": "PLN",
          "Delay Minutes": 1673,
          "Type of Delay": "Carrier Delay"
         },
         {
          "Airport": "PLN",
          "Delay Minutes": 38,
          "Type of Delay": "Weather Delay"
         },
         {
          "Airport": "PLN",
          "Delay Minutes": 121,
          "Type of Delay": "NAS Delay"
         },
         {
          "Airport": "PLN",
          "Delay Minutes": 20,
          "Type of Delay": "Security Delay"
         },
         {
          "Airport": "PLN",
          "Delay Minutes": 117,
          "Type of Delay": "Late Aircraft Delay"
         },
         {
          "Airport": "SPI",
          "Delay Minutes": 6656,
          "Type of Delay": "Carrier Delay"
         },
         {
          "Airport": "SPI",
          "Delay Minutes": 251,
          "Type of Delay": "Weather Delay"
         },
         {
          "Airport": "SPI",
          "Delay Minutes": 15786,
          "Type of Delay": "NAS Delay"
         },
         {
          "Airport": "SPI",
          "Delay Minutes": 80,
          "Type of Delay": "Security Delay"
         },
         {
          "Airport": "SPI",
          "Delay Minutes": 8052,
          "Type of Delay": "Late Aircraft Delay"
         }
        ]
       },
       "encoding": {
        "color": {
         "field": "Type of Delay",
         "type": "nominal"
        },
        "x": {
         "aggregate": "sum",
         "field": "Delay Minutes",
         "stack": "normalize",
         "type": "quantitative"
        },
        "y": {
         "field": "Airport",
         "type": "nominal"
        }
       },
       "mark": "bar"
      },
      "text/plain": [
       "<VegaLite 3 object>\n",
       "\n",
       "If you see this message, it means the renderer has not been properly enabled\n",
       "for the frontend that you are using. For more information, see\n",
       "https://altair-viz.github.io/user_guide/troubleshooting.html\n"
      ]
     },
     "execution_count": 61,
     "metadata": {},
     "output_type": "execute_result"
    }
   ],
   "source": [
    "import altair as alt\n",
    "alt.Chart(AirportComp).mark_bar().encode(\n",
    "    x=alt.X('sum(Delay Minutes)', stack=\"normalize\"),\n",
    "    y='Airport',\n",
    "    color='Type of Delay'\n",
    ")"
   ]
  },
  {
   "cell_type": "markdown",
   "metadata": {
    "colab_type": "text",
    "id": "67fhRGvfYabl"
   },
   "source": [
    "**Multi-Line Graph for Monthly Delays by Type of Delays**"
   ]
  },
  {
   "cell_type": "code",
   "execution_count": 62,
   "metadata": {
    "colab": {},
    "colab_type": "code",
    "id": "yBGVim1eYeBm"
   },
   "outputs": [],
   "source": [
    "CarrierMonth = pd.Series(delayed_flights.groupby(['Month'])['CarrierDelay'].sum())\n",
    "WeatherMonth = pd.Series(delayed_flights.groupby(['Month'])['WeatherDelay'].sum())\n",
    "LateAircraftMonth = pd.Series(delayed_flights.groupby(['Month'])['LateAircraftDelay'].sum())\n",
    "NASMonth = pd.Series(delayed_flights.groupby(['Month'])['NASDelay'].sum())\n",
    "SecurityMonth = pd.Series(delayed_flights.groupby(['Month'])['SecurityDelay'].sum())"
   ]
  },
  {
   "cell_type": "code",
   "execution_count": 63,
   "metadata": {
    "colab": {},
    "colab_type": "code",
    "id": "qzTWdC2FYk8x"
   },
   "outputs": [],
   "source": [
    "seasonPlots = [CarrierMonth, WeatherMonth, LateAircraftMonth, NASMonth, SecurityMonth]\n",
    "Symbol = ['Carrier Delay','Carrier Delay','Carrier Delay','Carrier Delay','Carrier Delay','Carrier Delay',\n",
    "         'Carrier Delay','Carrier Delay','Carrier Delay','Carrier Delay','Carrier Delay','Carrier Delay',\n",
    "         'Weather Delay','Weather Delay','Weather Delay','Weather Delay','Weather Delay','Weather Delay',\n",
    "         'Weather Delay','Weather Delay','Weather Delay','Weather Delay','Weather Delay','Weather Delay',\n",
    "         'Late Aircraft Delay','Late Aircraft Delay','Late Aircraft Delay','Late Aircraft Delay','Late Aircraft Delay',\n",
    "         'Late Aircraft Delay','Late Aircraft Delay','Late Aircraft Delay','Late Aircraft Delay','Late Aircraft Delay',\n",
    "         'Late Aircraft Delay','Late Aircraft Delay', 'NAS Delay', 'NAS Delay','NAS Delay','NAS Delay','NAS Delay',\n",
    "         'NAS Delay','NAS Delay','NAS Delay','NAS Delay','NAS Delay','NAS Delay','NAS Delay', 'Security Delay',\n",
    "          'Security Delay','Security Delay','Security Delay','Security Delay','Security Delay','Security Delay',\n",
    "          'Security Delay','Security Delay','Security Delay','Security Delay','Security Delay']\n",
    "DelayMinutes = pd.concat(seasonPlots)\n",
    "DelaySeasonCompPlot = pd.DataFrame(DelayMinutes)\n",
    "DelaySeasonCompPlot['1'] = Symbol\n",
    "DelaySeasonCompPlot['2'] = DelaySeasonCompPlot.index\n",
    "DelaySeasonCompPlot.columns = ['Delay Minutes','Delay Type','Month']\n"
   ]
  },
  {
   "cell_type": "code",
   "execution_count": 65,
   "metadata": {
    "colab": {},
    "colab_type": "code",
    "id": "ID_rLMsWYoGe"
   },
   "outputs": [
    {
     "data": {
      "application/vnd.vegalite.v3+json": {
       "$schema": "https://vega.github.io/schema/vega-lite/v3.3.0.json",
       "config": {
        "mark": {
         "tooltip": null
        },
        "view": {
         "height": 300,
         "width": 400
        }
       },
       "data": {
        "name": "data-f92570139fb12c62c4aa830e3b55830b"
       },
       "datasets": {
        "data-f92570139fb12c62c4aa830e3b55830b": [
         {
          "Delay Minutes": 2337749,
          "Delay Type": "Carrier Delay",
          "Month": 1
         },
         {
          "Delay Minutes": 2382701,
          "Delay Type": "Carrier Delay",
          "Month": 2
         },
         {
          "Delay Minutes": 2513682,
          "Delay Type": "Carrier Delay",
          "Month": 3
         },
         {
          "Delay Minutes": 1919024,
          "Delay Type": "Carrier Delay",
          "Month": 4
         },
         {
          "Delay Minutes": 1712409,
          "Delay Type": "Carrier Delay",
          "Month": 5
         },
         {
          "Delay Minutes": 2474278,
          "Delay Type": "Carrier Delay",
          "Month": 6
         },
         {
          "Delay Minutes": 2408221,
          "Delay Type": "Carrier Delay",
          "Month": 7
         },
         {
          "Delay Minutes": 2123448,
          "Delay Type": "Carrier Delay",
          "Month": 8
         },
         {
          "Delay Minutes": 1211821,
          "Delay Type": "Carrier Delay",
          "Month": 9
         },
         {
          "Delay Minutes": 1138782,
          "Delay Type": "Carrier Delay",
          "Month": 10
         },
         {
          "Delay Minutes": 1113742,
          "Delay Type": "Carrier Delay",
          "Month": 11
         },
         {
          "Delay Minutes": 2590213,
          "Delay Type": "Carrier Delay",
          "Month": 12
         },
         {
          "Delay Minutes": 426381,
          "Delay Type": "Weather Delay",
          "Month": 1
         },
         {
          "Delay Minutes": 541737,
          "Delay Type": "Weather Delay",
          "Month": 2
         },
         {
          "Delay Minutes": 472998,
          "Delay Type": "Weather Delay",
          "Month": 3
         },
         {
          "Delay Minutes": 268284,
          "Delay Type": "Weather Delay",
          "Month": 4
         },
         {
          "Delay Minutes": 239196,
          "Delay Type": "Weather Delay",
          "Month": 5
         },
         {
          "Delay Minutes": 570591,
          "Delay Type": "Weather Delay",
          "Month": 6
         },
         {
          "Delay Minutes": 555051,
          "Delay Type": "Weather Delay",
          "Month": 7
         },
         {
          "Delay Minutes": 398511,
          "Delay Type": "Weather Delay",
          "Month": 8
         },
         {
          "Delay Minutes": 156646,
          "Delay Type": "Weather Delay",
          "Month": 9
         },
         {
          "Delay Minutes": 104805,
          "Delay Type": "Weather Delay",
          "Month": 10
         },
         {
          "Delay Minutes": 139273,
          "Delay Type": "Weather Delay",
          "Month": 11
         },
         {
          "Delay Minutes": 746687,
          "Delay Type": "Weather Delay",
          "Month": 12
         },
         {
          "Delay Minutes": 3098475,
          "Delay Type": "Late Aircraft Delay",
          "Month": 1
         },
         {
          "Delay Minutes": 3455127,
          "Delay Type": "Late Aircraft Delay",
          "Month": 2
         },
         {
          "Delay Minutes": 3341349,
          "Delay Type": "Late Aircraft Delay",
          "Month": 3
         },
         {
          "Delay Minutes": 2276109,
          "Delay Type": "Late Aircraft Delay",
          "Month": 4
         },
         {
          "Delay Minutes": 2242964,
          "Delay Type": "Late Aircraft Delay",
          "Month": 5
         },
         {
          "Delay Minutes": 3579121,
          "Delay Type": "Late Aircraft Delay",
          "Month": 6
         },
         {
          "Delay Minutes": 3061884,
          "Delay Type": "Late Aircraft Delay",
          "Month": 7
         },
         {
          "Delay Minutes": 2489568,
          "Delay Type": "Late Aircraft Delay",
          "Month": 8
         },
         {
          "Delay Minutes": 1062366,
          "Delay Type": "Late Aircraft Delay",
          "Month": 9
         },
         {
          "Delay Minutes": 1148420,
          "Delay Type": "Late Aircraft Delay",
          "Month": 10
         },
         {
          "Delay Minutes": 1524057,
          "Delay Type": "Late Aircraft Delay",
          "Month": 11
         },
         {
          "Delay Minutes": 4277598,
          "Delay Type": "Late Aircraft Delay",
          "Month": 12
         },
         {
          "Delay Minutes": 1740200,
          "Delay Type": "NAS Delay",
          "Month": 1
         },
         {
          "Delay Minutes": 1870900,
          "Delay Type": "NAS Delay",
          "Month": 2
         },
         {
          "Delay Minutes": 1790009,
          "Delay Type": "NAS Delay",
          "Month": 3
         },
         {
          "Delay Minutes": 1329298,
          "Delay Type": "NAS Delay",
          "Month": 4
         },
         {
          "Delay Minutes": 1327735,
          "Delay Type": "NAS Delay",
          "Month": 5
         },
         {
          "Delay Minutes": 2398325,
          "Delay Type": "NAS Delay",
          "Month": 6
         },
         {
          "Delay Minutes": 2090920,
          "Delay Type": "NAS Delay",
          "Month": 7
         },
         {
          "Delay Minutes": 1481210,
          "Delay Type": "NAS Delay",
          "Month": 8
         },
         {
          "Delay Minutes": 790748,
          "Delay Type": "NAS Delay",
          "Month": 9
         },
         {
          "Delay Minutes": 704551,
          "Delay Type": "NAS Delay",
          "Month": 10
         },
         {
          "Delay Minutes": 1075480,
          "Delay Type": "NAS Delay",
          "Month": 11
         },
         {
          "Delay Minutes": 2139934,
          "Delay Type": "NAS Delay",
          "Month": 12
         },
         {
          "Delay Minutes": 12406,
          "Delay Type": "Security Delay",
          "Month": 1
         },
         {
          "Delay Minutes": 11075,
          "Delay Type": "Security Delay",
          "Month": 2
         },
         {
          "Delay Minutes": 14651,
          "Delay Type": "Security Delay",
          "Month": 3
         },
         {
          "Delay Minutes": 7574,
          "Delay Type": "Security Delay",
          "Month": 4
         },
         {
          "Delay Minutes": 9699,
          "Delay Type": "Security Delay",
          "Month": 5
         },
         {
          "Delay Minutes": 10548,
          "Delay Type": "Security Delay",
          "Month": 6
         },
         {
          "Delay Minutes": 13095,
          "Delay Type": "Security Delay",
          "Month": 7
         },
         {
          "Delay Minutes": 7382,
          "Delay Type": "Security Delay",
          "Month": 8
         },
         {
          "Delay Minutes": 4747,
          "Delay Type": "Security Delay",
          "Month": 9
         },
         {
          "Delay Minutes": 5188,
          "Delay Type": "Security Delay",
          "Month": 10
         },
         {
          "Delay Minutes": 3996,
          "Delay Type": "Security Delay",
          "Month": 11
         },
         {
          "Delay Minutes": 12084,
          "Delay Type": "Security Delay",
          "Month": 12
         }
        ]
       },
       "encoding": {
        "color": {
         "field": "Delay Type",
         "type": "nominal"
        },
        "x": {
         "field": "Month",
         "type": "quantitative"
        },
        "y": {
         "field": "Delay Minutes",
         "type": "quantitative"
        }
       },
       "mark": "line"
      },
      "text/plain": [
       "<VegaLite 3 object>\n",
       "\n",
       "If you see this message, it means the renderer has not been properly enabled\n",
       "for the frontend that you are using. For more information, see\n",
       "https://altair-viz.github.io/user_guide/troubleshooting.html\n"
      ]
     },
     "execution_count": 65,
     "metadata": {},
     "output_type": "execute_result"
    }
   ],
   "source": [
    "alt.Chart(DelaySeasonCompPlot).mark_line().encode(\n",
    "    x='Month',\n",
    "    y='Delay Minutes',\n",
    "    color='Delay Type'\n",
    ")"
   ]
  },
  {
   "cell_type": "markdown",
   "metadata": {
    "colab_type": "text",
    "id": "8Mnhz-bPljMV"
   },
   "source": [
    "This multi-line graph clearly shows that Late Aircraft Delay, by minutes delayed, is typically the dominant cause of delay. There appears to be a general sinusoidal pattern with peaks at February, June, and December for all delay times. Which is also sensible due to high traffic during holiday and school breaks. Another interesting point to note is how Late Aircraft Delay dips below Carrier Delay in September, suggesting low traffic in September."
   ]
  },
  {
   "cell_type": "markdown",
   "metadata": {
    "colab_type": "text",
    "id": "2IY331QgBEm5"
   },
   "source": [
    "## Exercise 2: Ethical Implications"
   ]
  },
  {
   "cell_type": "markdown",
   "metadata": {
    "colab_type": "text",
    "id": "uK8XzfVHLi1K"
   },
   "source": [
    "Even the most basic of models have the potential to affect segments of the population in different ways. It is important to consider how your model might positively and negative effect different types of users.\n",
    "\n",
    "In this section of the project you will reflect on the positive and negative implications of your model."
   ]
  },
  {
   "cell_type": "markdown",
   "metadata": {
    "colab_type": "text",
    "id": "BqyxriWE53Du"
   },
   "source": [
    "### Student Solution"
   ]
  },
  {
   "cell_type": "markdown",
   "metadata": {
    "colab_type": "text",
    "id": "_U3L0F9FLmwa"
   },
   "source": [
    "**Positive Impact**\n",
    "\n",
    "Your model is trying to solve a problem. Think about who will benefit from that problem being solved and write a brief narrative about how the model will help.\n",
    "\n",
    "---"
   ]
  },
  {
   "cell_type": "markdown",
   "metadata": {
    "colab_type": "text",
    "id": "g582VerYL0so"
   },
   "source": [
    "*Hypothetical entities will benefit because...*\n",
    "\n",
    "This model shows what airports are the busiest and when. In addition, it also shows the flight delays across different variables such as hours of the day, months, season and reasons for delays. The people travelling would benefit from this as they could plan their flights by avoiding busiest airports and avoding buying flight tickets during the time most delays happen."
   ]
  },
  {
   "cell_type": "markdown",
   "metadata": {
    "colab_type": "text",
    "id": "ALr018eQMuUw"
   },
   "source": [
    "**Negative Impact**\n",
    "\n",
    "Models don't often have universal benefit. Think about who might be negatively impacted by the predictions your model is making. This person or persons might not be directly using the model, but instead might be impacted indirectly.\n",
    "\n",
    "---"
   ]
  },
  {
   "cell_type": "markdown",
   "metadata": {
    "colab_type": "text",
    "id": "We8_W4WtNDLw"
   },
   "source": [
    "*Hypothetical entity will be negatively impacted because...*\n",
    "\n",
    "This model would have a negative impact on the flight airlines and the airports; it might affect their reputation. Also, they might lose their customers or have troubles arranging their flight scedules."
   ]
  },
  {
   "cell_type": "markdown",
   "metadata": {
    "colab_type": "text",
    "id": "07J-8ljpL85I"
   },
   "source": [
    "**Bias**\n",
    "\n",
    "Models can be bias for many reasons. The bias can come from the data used to build the model (eg. sampling, data collection methods, available sources) and from the interpretation of the predictions generated by the model.\n",
    "\n",
    "Think of at least two ways that bias might have been introduced to your model and explain both below.\n",
    "\n",
    "---"
   ]
  },
  {
   "cell_type": "markdown",
   "metadata": {
    "colab_type": "text",
    "id": "Jg_PSw3NMyFX"
   },
   "source": [
    "*One source of bias in the model could be the data collected by the small arlines...*\n",
    "\n",
    "The smaller airlines might suffer from this. These small airlines have a limited number of flights. Although these airlines might have a huge delay in between flights, when we look at the sum for delays they are still less in number when compared to the larger airlines. \n",
    "\n",
    "*Another source of bias in the model could be lack of features...*\n",
    "\n",
    "There could be several reasons for a flight delay. One of them could be technical issues. If there is an issue with an aircraft, that sets a bias because it is not that specific airline that has a problem - The plane itself is the main issue, but if that plane is assigned to a number of flights, this might set a bias in the data as there might be a lot of flight delays, making it seem like its that specific airline that always gets the delays."
   ]
  },
  {
   "cell_type": "markdown",
   "metadata": {
    "colab_type": "text",
    "id": "7j9AWdJLMTJI"
   },
   "source": [
    "**Changing the Dataset to Mitigate Bias**\n",
    "\n",
    "Bias datasets are one of the primary ways in which bias is introduced to a machine learning model. Look back at the input data that you fed to your model. Think about how you might change something about the data to reduce bias in your model.\n",
    "\n",
    "What change or changes could you make to your dataset less bias? Consider the data that you have, how and where that data was collected, and what other sources of data might be used to reduce bias.\n",
    "\n",
    "Write a summary of change that could be made to your input data.\n",
    "\n",
    "---"
   ]
  },
  {
   "cell_type": "markdown",
   "metadata": {
    "colab_type": "text",
    "id": "yzzfrQ-xNZo5"
   },
   "source": [
    "*Since the data has potential bias A we can adjust...*\n",
    "\n",
    "\n",
    "We could probably add more features about an aircraft which then, would make it easier to extract the delay information based on the aircrafts. We also need the delay types filled for all entries. Currently we are missing certain portion of entries from the dataset regarding types of delay. In general, we could add more data to this dataset and have more complete data information."
   ]
  },
  {
   "cell_type": "markdown",
   "metadata": {
    "colab_type": "text",
    "id": "ePs6hpLiMNSx"
   },
   "source": [
    "**Changing the Model to Mitigate Bias**\n",
    "\n",
    "Is there any way to reduce bias by changing the model itself? This could include modifying algorithmic choices, tweaking hyperparameters, etc.\n",
    "\n",
    "Write a brief summary of changes that you could make to help reduce bias in your model.\n",
    "\n",
    "---"
   ]
  },
  {
   "cell_type": "markdown",
   "metadata": {
    "colab_type": "text",
    "id": "bZ3PS8bRNRCv"
   },
   "source": [
    "*Since the model has potential bias A we can adjust...*\n",
    "\n",
    "We want to make sure that the model is able to make predictions for new data. This would reduce the bias and cause a high variance. We could use more columns from the dataset that give us information about an aircraft and possible reasons for specific type of delays. For example, the number of times an aircraft has been assigned to flights could give us an idea about the plane's condition."
   ]
  },
  {
   "cell_type": "markdown",
   "metadata": {
    "colab_type": "text",
    "id": "YYY7lk55MgdX"
   },
   "source": [
    "**Mitigating Bias Downstream**\n",
    "\n",
    "Models make predictions. Downstream processes make decisions. What processes and/or rules should be in place for people and systems interpreting and acting on the results of your model to reduce the bias? Describe these below.\n",
    "\n",
    "---"
   ]
  },
  {
   "cell_type": "markdown",
   "metadata": {
    "colab_type": "text",
    "id": "Mp3TkmalNcR-"
   },
   "source": [
    "*Since the predictions have potential bias A we can adjust...*\n",
    "\n",
    "\n",
    "We are talking about assumptions here. The assumptions that should be in place for people are that delays are related with an aircraft rather than making generalizations about that specific airline."
   ]
  }
 ],
 "metadata": {
  "colab": {
   "collapsed_sections": [
    "jx_FnF6HFucc"
   ],
   "name": "Dataset Exploration",
   "provenance": [],
   "toc_visible": true,
   "version": "0.3.2"
  },
  "kernelspec": {
   "display_name": "Python 3",
   "language": "python",
   "name": "python3"
  },
  "language_info": {
   "codemirror_mode": {
    "name": "ipython",
    "version": 3
   },
   "file_extension": ".py",
   "mimetype": "text/x-python",
   "name": "python",
   "nbconvert_exporter": "python",
   "pygments_lexer": "ipython3",
   "version": "3.6.8"
  }
 },
 "nbformat": 4,
 "nbformat_minor": 1
}
