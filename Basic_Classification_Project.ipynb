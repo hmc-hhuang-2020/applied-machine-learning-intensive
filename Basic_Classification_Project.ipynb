{
  "nbformat": 4,
  "nbformat_minor": 0,
  "metadata": {
    "colab": {
      "name": "Huize Huang - T05-10 [00] Basic Classification Project [Colab].ipynb",
      "version": "0.3.2",
      "provenance": [],
      "private_outputs": true,
      "collapsed_sections": [
        "copyright"
      ],
      "toc_visible": true
    },
    "kernelspec": {
      "display_name": "Python 3",
      "name": "python3"
    }
  },
  "cells": [
    {
      "cell_type": "markdown",
      "metadata": {
        "colab_type": "text",
        "id": "copyright"
      },
      "source": [
        "#### Copyright 2019 Google LLC."
      ]
    },
    {
      "cell_type": "code",
      "metadata": {
        "colab_type": "code",
        "id": "-Xt6PXeVjxQN",
        "colab": {}
      },
      "source": [
        "# Licensed under the Apache License, Version 2.0 (the \"License\");\n",
        "# you may not use this file except in compliance with the License.\n",
        "# You may obtain a copy of the License at\n",
        "#\n",
        "# https://www.apache.org/licenses/LICENSE-2.0\n",
        "#\n",
        "# Unless required by applicable law or agreed to in writing, software\n",
        "# distributed under the License is distributed on an \"AS IS\" BASIS,\n",
        "# WITHOUT WARRANTIES OR CONDITIONS OF ANY KIND, either express or implied.\n",
        "# See the License for the specific language governing permissions and\n",
        "# limitations under the License."
      ],
      "execution_count": 0,
      "outputs": []
    },
    {
      "cell_type": "markdown",
      "metadata": {
        "colab_type": "text",
        "id": "c2hPzRb6j_CA"
      },
      "source": [
        "# Basic Classification Project"
      ]
    },
    {
      "cell_type": "markdown",
      "metadata": {
        "colab_type": "text",
        "id": "fsdfasdfsadfsd"
      },
      "source": [
        "In this project you will perform a basic classification task.\n",
        "You will apply what you learned about binary classification and tensorflow to implement a Kaggle project without much guidance. The challenge is to achieve a high accuracy score when trying to predict which passengers survived the Titanic crash. After building your model, you will upload your predictions to Kaggle and submit the score that you receive."
      ]
    },
    {
      "cell_type": "markdown",
      "metadata": {
        "colab_type": "text",
        "id": "overview"
      },
      "source": [
        "## Overview"
      ]
    },
    {
      "cell_type": "markdown",
      "metadata": {
        "colab_type": "text",
        "id": "learning-objectives"
      },
      "source": [
        "### Learning Objectives\n",
        "\n",
        "* Define, build, train and evaluate a Linear Classifier model in TensorFlow.\n",
        "* Submit predictions to a Kaggle challenge.\n"
      ]
    },
    {
      "cell_type": "markdown",
      "metadata": {
        "colab_type": "text",
        "id": "VZe4Xj9tyQRD"
      },
      "source": [
        "### Prerequisites\n",
        "\n",
        "* T05-09 Classification with TensorFlow"
      ]
    },
    {
      "cell_type": "markdown",
      "metadata": {
        "colab_type": "text",
        "id": "duration"
      },
      "source": [
        "### Estimated Duration\n",
        "\n",
        "330 minutes (270 minutes working time, 60 minutes for presentations)"
      ]
    },
    {
      "cell_type": "markdown",
      "metadata": {
        "colab_type": "text",
        "id": "WwdVfHZBADHQ"
      },
      "source": [
        "### Deliverables\n",
        "\n",
        "1. A copy of this Colab notebook containing your code and a written response with your conclusions and the score that you receive from Kaggle.\n",
        "1. A group presentation. After everyone is done, we will ask each group to stand in front of the class and give a brief presentation about what they have done in this lab. The presentation can be a code walkthrough, a group discussion, a slide show, or any other means that conveys what you did over the course of the day and what you learned. If you do create any artifacts for your presentation, please share them in the class folder."
      ]
    },
    {
      "cell_type": "markdown",
      "metadata": {
        "colab_type": "text",
        "id": "OSlHSTIWAiIE"
      },
      "source": [
        "### Grading Criteria\n",
        "\n",
        "This project is worth 50 points in your final grade, and it will be graded in separate sections that each contribute a percentage of the total score:\n",
        "\n",
        "1. Building and Using a Model (Exercise 1) (60%)\n",
        "2. Kaggle score and conclusion (Exercise 2) (20%)\n",
        "3. Improving your model (Exercise 3) (10%)\n",
        "4. Project Presentation (10%)\n",
        "\n",
        "#### 1. Building and Using a Model (Exercise 1) \n",
        "\n",
        "There are 10 demonstrations of competency listed in the first exercise. Each competency is graded on a 3 point scale for a total of 30 available points. The following rubric will be used:\n",
        "\n",
        "| Points | Description |\n",
        "|--------|-------------|\n",
        "| 0      | No attempt at the competency |\n",
        "| 1      | Attempted competency, but in an incorrect manner |\n",
        "| 2      | Attempted competency correctly, but sub-optimally |\n",
        "| 3      | Successful demonstration of competency |\n",
        "\n",
        "\n",
        "#### 2. Kaggle score and conclusion (Exercise 2)\n",
        "\n",
        "There are 3 demonstrations of competency and 1 question in the second exercise. Each competency is worth 2 points, and your written response is worth 4 points. The rubric for calculating the competency points is:\n",
        "\n",
        "| Points | Description |\n",
        "|--------|-------------|\n",
        "| 0      | No attempt at the competency |\n",
        "| 1      | Attempted competency |\n",
        "| 2      | Successful demonstration of competency |\n",
        "\n",
        "The rubric for the written response is:\n",
        "\n",
        "| Points | Description |\n",
        "|--------|-------------|\n",
        "| 0      | No attempt at question or answer was off-topic or didn't make sense |\n",
        "| 1      | Question was answered, but answer didn't include Kaggle score and relevant observations |\n",
        "| 2      | Question was answered, but answer didn't include Kaggle score or relevant observations |\n",
        "| 3      | Question was answered and included Kaggle score and observations, but conclusion was superficial |\n",
        "| 4      | Answer adequately included Kaggle score and meaningful observations about the model and its performance |\n",
        "\n",
        "\n",
        "#### 3. Improving your model (Exercise 3)\n",
        "\n",
        "This exercise is worth 5 points and it will be graded on your demonstrated ability to manually modify your model to test different thresholds and build a precision vs. recall chart.\n",
        "\n",
        "The rubric for calculating the competency points is:\n",
        "\n",
        "| Points | Description |\n",
        "|--------|-------------|\n",
        "| 0      | No attempt at the competency |\n",
        "| 1      | Attempted competency, but in an incorrect manner |\n",
        "| 2      | Attempted competency correctly, but did not try multiple threshholds and did not show precision/recall changes |\n",
        "| 3      | Attempted competency correctly and tried multiple thresholds, but did not show precision/recall changes |\n",
        "| 4      | Attempted competency correctly, tried multiple thresholds, and showed precision/recall changes, but did not clearly show precision/recall tradeoff |\n",
        "| 5      | Successful demonstration of competency - Different thresholds attempted clearly show precision/recall tradeoff  |\n",
        "\n",
        "#### Project Presentation\n",
        "\n",
        "The project presentation will be graded on participation. All members of a team should actively participate."
      ]
    },
    {
      "cell_type": "markdown",
      "metadata": {
        "colab_type": "text",
        "id": "vaP1zrKmAl2o"
      },
      "source": [
        "## Team\n",
        "\n",
        "Please enter your team members names in the placeholders in this text area:\n",
        "\n",
        "*   *Huize Huang*\n",
        "*   *Max Matuska*\n"
      ]
    },
    {
      "cell_type": "markdown",
      "metadata": {
        "colab_type": "text",
        "id": "HDzCkRNv8Kmz"
      },
      "source": [
        "## Titanic: Machine Learning from Disaster\n",
        "\n",
        "[Kaggle](https://www.kaggle.com) has a [dataset](https://www.kaggle.com/c/titanic/data) containing the passenger list for the Titanic voyage. The data contains passenger features such as age, gender, and ticket class, as well as whether or not they survived.\n",
        "\n",
        "Your job is to load the data and create a binary classifier using TensorFlow to determine if a passenger survived or not. Then, upload your predictions to Kaggle and submit your accuracy score at the end of this colab, along with a brief conclusion.\n"
      ]
    },
    {
      "cell_type": "markdown",
      "metadata": {
        "colab_type": "text",
        "id": "-U_zk4L_HpWJ"
      },
      "source": [
        "# Exercises"
      ]
    },
    {
      "cell_type": "markdown",
      "metadata": {
        "colab_type": "text",
        "id": "sxmnIepvmdCx"
      },
      "source": [
        "## Exercise 1: Create a Classifier"
      ]
    },
    {
      "cell_type": "markdown",
      "metadata": {
        "colab_type": "text",
        "id": "mntl2Njdme0h"
      },
      "source": [
        "**Graded** demonstrations of competency:\n",
        "\n",
        "1. Download the [dataset](https://www.kaggle.com/c/titanic/data).\n",
        "2. Load the data into this Colab.\n",
        "3. Look at the description of the [dataset](https://www.kaggle.com/c/titanic/data) to understand the columns.\n",
        "4. Explore the dataset. Ask yourself: are there any missing values? Do the data values make sense? Which features seem to be the most important? Are they highly correlated with each other?\n",
        "5. Prep the data (deal with missing values, drop unnecessary columns, transform the data if needed, etc).\n",
        "6. Split the data into testing and training set.\n",
        "7. Create a `tensorflow.estimator.LinearClassifier`.\n",
        "8. Train the classifier using an input function that feeds the classifier training data.\n",
        "9. Make predictions on the test data using your classifier.\n",
        "10. Find the accuracy, precision, and recall of your classifier.\n",
        " "
      ]
    },
    {
      "cell_type": "markdown",
      "metadata": {
        "colab_type": "text",
        "id": "LO8x9d6GHwgQ"
      },
      "source": [
        "### Student Solution"
      ]
    },
    {
      "cell_type": "code",
      "metadata": {
        "colab_type": "code",
        "id": "zKgNoBuEm2h0",
        "colab": {}
      },
      "source": [
        "# Your code goes here\n",
        "import altair as alt\n",
        "import numpy as np \n",
        "import pandas as pd\n",
        "import math\n",
        "import matplotlib\n",
        "import matplotlib.pyplot as plt\n",
        "import re\n",
        "import seaborn as sns\n",
        "from google.colab import files \n",
        "\n",
        "dataset_filename = \"./train.csv\"\n",
        "train_csv =pd.read_csv(dataset_filename)\n"
      ],
      "execution_count": 0,
      "outputs": []
    },
    {
      "cell_type": "code",
      "metadata": {
        "id": "iGuemCpFhRuv",
        "colab_type": "code",
        "colab": {}
      },
      "source": [
        "train_csv.head()"
      ],
      "execution_count": 0,
      "outputs": []
    },
    {
      "cell_type": "code",
      "metadata": {
        "id": "7zUhGq5Ig9HD",
        "colab_type": "code",
        "colab": {}
      },
      "source": [
        "train_csv.describe()"
      ],
      "execution_count": 0,
      "outputs": []
    },
    {
      "cell_type": "code",
      "metadata": {
        "id": "TCNIIL21jABO",
        "colab_type": "code",
        "colab": {}
      },
      "source": [
        "train_csv.info()"
      ],
      "execution_count": 0,
      "outputs": []
    },
    {
      "cell_type": "markdown",
      "metadata": {
        "id": "ydgFBDZLir_i",
        "colab_type": "text"
      },
      "source": [
        "**Preprocessing the data**"
      ]
    },
    {
      "cell_type": "code",
      "metadata": {
        "id": "CZ3DZ3R1juN0",
        "colab_type": "code",
        "colab": {}
      },
      "source": [
        "mean = train_csv.groupby('Sex')['Age'].mean()\n",
        "mean"
      ],
      "execution_count": 0,
      "outputs": []
    },
    {
      "cell_type": "code",
      "metadata": {
        "id": "yjXkTpPnl59n",
        "colab_type": "code",
        "colab": {}
      },
      "source": [
        "train_csv['Embarked']=train_csv['Embarked'].fillna('S')"
      ],
      "execution_count": 0,
      "outputs": []
    },
    {
      "cell_type": "code",
      "metadata": {
        "id": "cyveqcZujIrP",
        "colab_type": "code",
        "colab": {}
      },
      "source": [
        "total = train_csv.isnull().sum().sort_values(ascending=False)"
      ],
      "execution_count": 0,
      "outputs": []
    },
    {
      "cell_type": "code",
      "metadata": {
        "id": "i7o6ei0oyHWK",
        "colab_type": "code",
        "colab": {}
      },
      "source": [
        "train_csv.Cabin = train_csv.Cabin.fillna('N')\n",
        "train_csv.Cabin = train_csv.Cabin.map(lambda x:x[0])"
      ],
      "execution_count": 0,
      "outputs": []
    },
    {
      "cell_type": "code",
      "metadata": {
        "id": "qncNIOUxzB8T",
        "colab_type": "code",
        "colab": {}
      },
      "source": [
        "train_csv['Family'] = train_csv.Parch + train_csv.SibSp + 1"
      ],
      "execution_count": 0,
      "outputs": []
    },
    {
      "cell_type": "code",
      "metadata": {
        "id": "9pVMr65y1uBx",
        "colab_type": "code",
        "colab": {}
      },
      "source": [
        "train_csv['Title'] = train_csv.Name.apply(lambda x: x.split(',')[1].split('.')[0].strip())"
      ],
      "execution_count": 0,
      "outputs": []
    },
    {
      "cell_type": "code",
      "metadata": {
        "id": "dFQs-VxNleS6",
        "colab_type": "code",
        "colab": {}
      },
      "source": [
        "train_csv['Age']= train_csv.groupby(['Sex','Pclass'])['Age'].apply(lambda x: x.fillna(x.mean()))"
      ],
      "execution_count": 0,
      "outputs": []
    },
    {
      "cell_type": "code",
      "metadata": {
        "id": "_4ijh_I971Oj",
        "colab_type": "code",
        "colab": {}
      },
      "source": [
        "train_csv.update(train_csv['Age'].astype(int) / train_csv['Age'].max())"
      ],
      "execution_count": 0,
      "outputs": []
    },
    {
      "cell_type": "code",
      "metadata": {
        "id": "7D022YmvoQtP",
        "colab_type": "code",
        "colab": {}
      },
      "source": [
        "train_csv.info()"
      ],
      "execution_count": 0,
      "outputs": []
    },
    {
      "cell_type": "code",
      "metadata": {
        "id": "eHtjfX1ux-nf",
        "colab_type": "code",
        "colab": {}
      },
      "source": [
        "# train_csv.Cabin.unique()"
      ],
      "execution_count": 0,
      "outputs": []
    },
    {
      "cell_type": "code",
      "metadata": {
        "id": "pLCtCOYmn-Ui",
        "colab_type": "code",
        "colab": {}
      },
      "source": [
        "# train_csv['Sex'] = train_csv['Sex'].astype('category').cat.codes\n",
        "# train_csv['Sex'].astype(int)"
      ],
      "execution_count": 0,
      "outputs": []
    },
    {
      "cell_type": "code",
      "metadata": {
        "id": "h1R9fvUinIdW",
        "colab_type": "code",
        "colab": {}
      },
      "source": [
        "# train_csv['Embarked'] = train_csv['Embarked'].astype('category').cat.codes\n",
        "# train_csv['Embarked']"
      ],
      "execution_count": 0,
      "outputs": []
    },
    {
      "cell_type": "code",
      "metadata": {
        "id": "UeXUMRc6IEfb",
        "colab_type": "code",
        "colab": {}
      },
      "source": [
        "# train_csv.Fare = train_csv.Fare.astype(int)"
      ],
      "execution_count": 0,
      "outputs": []
    },
    {
      "cell_type": "markdown",
      "metadata": {
        "id": "csJi6KHdmPD1",
        "colab_type": "text"
      },
      "source": [
        "# Create, Train, Test the model  "
      ]
    },
    {
      "cell_type": "code",
      "metadata": {
        "id": "yCtpup4ahz-G",
        "colab_type": "code",
        "colab": {}
      },
      "source": [
        "from sklearn.model_selection import train_test_split\n",
        "train_df, test_df = train_test_split(\n",
        "  train_csv,\n",
        "  stratify = train_csv.Sex,\n",
        "  test_size=0.2,\n",
        "  random_state = 42\n",
        ")"
      ],
      "execution_count": 0,
      "outputs": []
    },
    {
      "cell_type": "code",
      "metadata": {
        "id": "WbCq9IYRmcVd",
        "colab_type": "code",
        "colab": {}
      },
      "source": [
        "train_df.groupby('Sex')['Sex'].agg('count')"
      ],
      "execution_count": 0,
      "outputs": []
    },
    {
      "cell_type": "code",
      "metadata": {
        "id": "E2z4OddlmsZC",
        "colab_type": "code",
        "colab": {}
      },
      "source": [
        "test_df.groupby('Sex')['Sex'].agg('count')"
      ],
      "execution_count": 0,
      "outputs": []
    },
    {
      "cell_type": "code",
      "metadata": {
        "id": "N_wjqisBsSqS",
        "colab_type": "code",
        "colab": {}
      },
      "source": [
        "import tensorflow as tf\n",
        "CATEGORICAL_COLUMNS = ['Pclass','Sex', 'SibSp', 'Parch','Embarked','Family','Title']\n",
        "NUMERIC_COLUMNS = ['Age', 'Fare']\n",
        "columns = ['Pclass', 'Sex', 'Age', 'SibSp','Parch', 'Fare','Embarked','Family','Title']\n",
        "feature_columns = []\n",
        "for feature_name in CATEGORICAL_COLUMNS:\n",
        "  vocabulary = train_df[feature_name].unique()\n",
        "  feature_columns.append(tf.feature_column.categorical_column_with_vocabulary_list(feature_name, vocabulary))\n",
        "\n",
        "for feature_name in NUMERIC_COLUMNS:\n",
        "  feature_columns.append(tf.feature_column.numeric_column(feature_name, dtype=tf.float32))"
      ],
      "execution_count": 0,
      "outputs": []
    },
    {
      "cell_type": "code",
      "metadata": {
        "id": "mruuflgOntNr",
        "colab_type": "code",
        "colab": {}
      },
      "source": [
        "class_count = len(train_df['Survived'].unique())"
      ],
      "execution_count": 0,
      "outputs": []
    },
    {
      "cell_type": "code",
      "metadata": {
        "id": "r1SON6elpPzM",
        "colab_type": "code",
        "colab": {}
      },
      "source": [
        "from tensorflow.estimator import LinearClassifier\n",
        "\n",
        "classifier = LinearClassifier(feature_columns=feature_columns, n_classes=class_count)"
      ],
      "execution_count": 0,
      "outputs": []
    },
    {
      "cell_type": "code",
      "metadata": {
        "id": "0KfYuMI_t9cq",
        "colab_type": "code",
        "colab": {}
      },
      "source": [
        "from tensorflow.data import Dataset\n",
        "\n",
        "def training_input():\n",
        "  features = {}\n",
        "  feature_columns = ['Pclass', 'Sex', 'Age', 'SibSp','Parch', 'Fare','Embarked','Family','Title']\n",
        "\n",
        "  for feat in feature_columns:\n",
        "    features[feat] = train_df[feat]\n",
        " \n",
        "  labels = train_df['Survived']\n",
        "\n",
        "  training_ds = Dataset.from_tensor_slices((features, labels))\n",
        "  training_ds = training_ds.shuffle(buffer_size=10000)\n",
        "  training_ds = training_ds.batch(100)\n",
        "  training_ds = training_ds.repeat(10)\n",
        "\n",
        "  return training_ds\n",
        "\n",
        "classifier.train(training_input)"
      ],
      "execution_count": 0,
      "outputs": []
    },
    {
      "cell_type": "code",
      "metadata": {
        "id": "HJkXyNJqrfJL",
        "colab_type": "code",
        "colab": {}
      },
      "source": [
        "def testing_input():\n",
        "  features = {}\n",
        "  feature_columns = ['Pclass', 'Sex', 'Age', 'SibSp','Parch', 'Fare','Embarked','Family','Title']\n",
        "  for feat in feature_columns:\n",
        "    features[feat] = test_df[feat]\n",
        "\n",
        "  return Dataset.from_tensor_slices((features)).batch(1)\n",
        "\n",
        "predictions_iterator = classifier.predict(testing_input)\n",
        "predictions = [p['class_ids'][0] for p in predictions_iterator]"
      ],
      "execution_count": 0,
      "outputs": []
    },
    {
      "cell_type": "code",
      "metadata": {
        "id": "s85goBEUrou4",
        "colab_type": "code",
        "colab": {}
      },
      "source": [
        "from sklearn.metrics import precision_score\n",
        "from sklearn.metrics import recall_score\n",
        "\n",
        "print(precision_score(test_df['Survived'], predictions, average='micro'))\n",
        "print(recall_score(test_df['Survived'], predictions, average='micro'))"
      ],
      "execution_count": 0,
      "outputs": []
    },
    {
      "cell_type": "markdown",
      "metadata": {
        "colab_type": "text",
        "id": "yXJCSsAdz-f0"
      },
      "source": [
        "## Exercise 2: Upload your predictions to Kaggle"
      ]
    },
    {
      "cell_type": "markdown",
      "metadata": {
        "colab_type": "text",
        "id": "4ONevNjq2UXu"
      },
      "source": [
        "**Graded** demonstrations of competency:\n",
        "1. Download the test.csv file from Kaggle and re-run your model using all of the training data.\n",
        "2. Use this new test data to generate predictions using your model.\n",
        "3. Follow the instructions in the [evaluation section](https://www.kaggle.com/c/titanic/overview/evaluation) to output the preditions in the format of the gender_submission.csv file. Download the predictions file from your Colab and upload it to Kaggle.\n",
        "\n",
        "\n",
        "**Written Response**\n",
        "\n",
        "Write down your conclusion along with the score that you got from Kaggle.\n"
      ]
    },
    {
      "cell_type": "markdown",
      "metadata": {
        "colab_type": "text",
        "id": "fijeUn4tIFCo"
      },
      "source": [
        "### Student Solution"
      ]
    },
    {
      "cell_type": "code",
      "metadata": {
        "colab_type": "code",
        "id": "dEWZUCnT9UkK",
        "colab": {}
      },
      "source": [
        "# Your code goes here\n",
        "dataset_filename = \"./test.csv\"\n",
        "test_csv =pd.read_csv(dataset_filename)\n",
        "\n",
        "train_csv['Embarked']=train_csv['Embarked'].fillna('S')\n",
        "test_csv['Title'] = test_csv.Name.apply(lambda x: x.split(',')[1].split('.')[0].strip())\n",
        "test_csv['Family'] = test_csv.Parch + test_csv.SibSp + 1\n",
        "test_csv['Age']= test_csv.groupby(['Sex','Pclass'])['Age'].apply(lambda x: x.fillna(x.median()))\n",
        "test_csv.update(test_csv['Age'].astype(int) / test_csv['Age'].max())\n",
        "\n",
        "def testing_input():\n",
        "  features = {}\n",
        "  feature_columns = ['Pclass', 'Sex', 'Age', 'SibSp','Parch', 'Fare','Embarked','Family','Title']\n",
        "  for feat in feature_columns:\n",
        "    features[feat] = test_csv[feat]\n",
        "\n",
        "  return Dataset.from_tensor_slices((features)).batch(1)\n",
        "\n"
      ],
      "execution_count": 0,
      "outputs": []
    },
    {
      "cell_type": "code",
      "metadata": {
        "id": "Yd9WMlNQ4oJs",
        "colab_type": "code",
        "colab": {}
      },
      "source": [
        "predictions_test = classifier.predict(testing_input)\n",
        "predictions = [p['class_ids'][0] for p in predictions_test]\n",
        "test_csv['Survived'] = predictions\n",
        "df = pd.DataFrame(test_csv, columns= ['PassengerId', 'Survived'])\n",
        "df\n",
        "export_csv = df.to_csv ('./gender_submission.csv', index = None, header=True) "
      ],
      "execution_count": 0,
      "outputs": []
    },
    {
      "cell_type": "markdown",
      "metadata": {
        "colab_type": "text",
        "id": "fRZni-CBVjFV"
      },
      "source": [
        "{### Your written response goes here. Make sure to include your Kaggle score. ###}\n",
        "\n"
      ]
    },
    {
      "cell_type": "markdown",
      "metadata": {
        "id": "yJGnaxju5dPy",
        "colab_type": "text"
      },
      "source": [
        "**Kaggle Score**\n",
        "\n",
        "0.78468 - Age NaN filled according to sex and pclass median, scaled down. \n",
        "\n",
        "test train 80 20 split, features =  'Pclass', 'Sex', 'Age', 'SibSp','Parch', 'Fare','Embarked','Family','Title'\n",
        "\n",
        "(https://drive.google.com/file/d/1OIPx5m6nnsAAQsh4uc3U6JKGVTXaeeVN/view?usp=sharing)\n",
        "\n",
        "0.77990\n",
        "\n",
        "0.77033\n",
        "\n",
        "0.76076"
      ]
    },
    {
      "cell_type": "markdown",
      "metadata": {
        "id": "_5xB_T1Wjy0s",
        "colab_type": "text"
      },
      "source": [
        "*** The Conclusion ***\n",
        "\n",
        "First, we preprocess the data to fill in Embarked and Age missing values. We replace the missing age values with the median of the class according to sex and ticket class. Then we created two more features - family size and title. \n",
        "\n",
        "As we tried more features, some of the featuers improved our model, some of the features didn't. We tried to fill in Cabin and use it as one of the features, but it decreased our score since we were filling the large amount of missing data with one category. \n",
        "\n",
        "We also tried to play around with train, test split ratio, but it turned out  the 80-20 is the best way to not overfit. The added class we have for family size and title derived from name improved our model. We also stratified the split according to sex to make more precise predictions. \n",
        "\n",
        "Eventaully, we set on Pclass, Sex, Age, SibSp, Patch, Fare, Embarked, Family and Title with 80-20 train test split for our model. \n",
        "\n",
        "We tried not to incorprate our bias into the dataset while preprocessing the data and making the model. \n",
        "In the future, we want to test more models and see how they will preform differently.\n",
        "\n"
      ]
    },
    {
      "cell_type": "markdown",
      "metadata": {
        "colab_type": "text",
        "id": "9KdtnUJP2Uen"
      },
      "source": [
        "## Exercise 3: Improve your model"
      ]
    },
    {
      "cell_type": "markdown",
      "metadata": {
        "colab_type": "text",
        "id": "C781-AwN4q9Z"
      },
      "source": [
        "The predictions returned by the LinearClassifer contain scoring and/or confidence information about why the decision was made to classify a passenger as a survivor or not. Find the number used to make the decision and manually play around with different thresholds to build a precision vs. recall chart."
      ]
    },
    {
      "cell_type": "markdown",
      "metadata": {
        "colab_type": "text",
        "id": "w5rYKVkgT8NL"
      },
      "source": [
        "### Student Solution"
      ]
    },
    {
      "cell_type": "code",
      "metadata": {
        "colab_type": "code",
        "id": "MDEErS0f8oi7",
        "colab": {}
      },
      "source": [
        "# # Your code goes here\n"
      ],
      "execution_count": 0,
      "outputs": []
    },
    {
      "cell_type": "markdown",
      "metadata": {
        "colab_type": "text",
        "id": "QFFInD4j-VMc"
      },
      "source": [
        "## Exercise 4: Dig deeper (optional and ungraded)"
      ]
    },
    {
      "cell_type": "markdown",
      "metadata": {
        "colab_type": "text",
        "id": "93t_PYx6-W_N"
      },
      "source": [
        "Check out the different approaches in [this kernel](https://www.kaggle.com/startupsci/titanic-data-science-solutions) (kernels are solutions or data exploration notebooks shared by other users).\n",
        "Try using a different approach and see if you can improve your results.\n",
        "\n",
        "Alternatively, you can try implementing a simple decision tree by hand, as in this [Udacity Project](https://github.com/juemura/machine-learning/blob/master/projects/titanic_survival_exploration/titanic_survival_exploration.ipynb). "
      ]
    },
    {
      "cell_type": "markdown",
      "metadata": {
        "colab_type": "text",
        "id": "3_tj2sXDIk7N"
      },
      "source": [
        "### Student Solution"
      ]
    },
    {
      "cell_type": "code",
      "metadata": {
        "colab_type": "code",
        "id": "BhbZHXy-ImSj",
        "colab": {}
      },
      "source": [
        "# Your code goes here\n",
        "# from sklearn.model_selection import cross_val_score\n",
        "# from sklearn.tree import DecisionTreeClassifier\n",
        "\n",
        "# feature_columns = ['Pclass', 'Sex', 'Age', 'SibSp','Parch', 'Fare','Embarked','Family','Title']\n",
        "# X_train = train_df[feature_columns]\n",
        "# y_train = train_df['Survived']\n",
        "# X_test = test_df[feature_columns]\n",
        "# y_test = test_df['Survived']\n",
        "\n",
        "# clf = DecisionTreeClassifier(random_state=2)\n",
        "# clf.fit(X=X_train, y=y_train)\n",
        "# clf.score(X=X_test, y=y_test)"
      ],
      "execution_count": 0,
      "outputs": []
    }
  ]
}